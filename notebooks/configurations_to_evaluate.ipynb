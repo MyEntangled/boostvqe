{
 "cells": [
  {
   "cell_type": "markdown",
   "metadata": {},
   "source": [
    "# An example what to run\n",
    "- we want to change the different numbers of layers\n",
    "- we want to start from different epochs\n",
    "\n",
    "for DBQA we should try \n",
    "- different parametrizations of the D operators (the initial field strengths decide a local minimum in a gradient descent approach)\n",
    "- there new modes of rotation because repeating twice group_commutator_reduced has 2 queries to the Hamiltonian simulation circuit and so does third order reduced\n"
   ]
  },
  {
   "cell_type": "code",
   "execution_count": null,
   "metadata": {},
   "outputs": [],
   "source": [
    "from boostvqe.utils import *\n",
    "\n",
    "outputs = []    \n",
    "gci_eval_counter = 1\n",
    "dict_params = []\n",
    "for nqubits in [10]:\n",
    "    for nlayers in [3,5,7,11]:\n",
    "        for seed in [42]:\n",
    "            for target_epoch in [500,1000,2000]:\n",
    "                for eo_d in get_eo_d_initializations(nqubits): #These are seed configurations for the D operators can be either MagneticFieldEvolutionOracle or IsingNNEvolutionOracle\n",
    "                    mode_dbr_list =[#DoubleBracketRotationType.group_commutator_reduced,\n",
    "                            #DoubleBracketRotationType.group_commutator_mix_twice,\n",
    "                            DoubleBracketRotationType.group_commutator_reduced_twice, #same cost as third order if D are single qubit rotations\n",
    "                            DoubleBracketRotationType.group_commutator_third_order_reduced,\n",
    "                            #DoubleBracketRotationType.group_commutator_third_order_reduced_twice\n",
    "                            ]\n",
    "\n",
    "                    dict_params.append( dict(\n",
    "                         nqubits=nqubits,\n",
    "                        nlayers=nlayers,\n",
    "                        seed = seed,\n",
    "                        target_epoch = target_epoch,\n",
    "                        nmb_gci_steps = 3,\n",
    "                        nmb_gd_epochs = 1,\n",
    "                        eo_d = eo_d,\n",
    "                        mode_dbr_list = mode_dbr_list,\n",
    "                        please_be_verbose = True,\n",
    "                        please_be_visual = True\n",
    "                    ))\n",
    "                    print(gci_eval_counter)\n",
    "                    gci_eval_counter +=1\n",
    "                    g, bcd = execute_gci_boost( **dict_params[-1] )\n",
    "                    outputs.append([bcd,dict_params,g])"
   ]
  },
  {
   "cell_type": "code",
   "execution_count": null,
   "metadata": {},
   "outputs": [],
   "source": [
    "outputs"
   ]
  },
  {
   "cell_type": "code",
   "execution_count": null,
   "metadata": {},
   "outputs": [],
   "source": []
  }
 ],
 "metadata": {
  "kernelspec": {
   "display_name": "Python 3",
   "language": "python",
   "name": "python3"
  },
  "language_info": {
   "codemirror_mode": {
    "name": "ipython",
    "version": 3
   },
   "file_extension": ".py",
   "mimetype": "text/x-python",
   "name": "python",
   "nbconvert_exporter": "python",
   "pygments_lexer": "ipython3",
   "version": "3.12.3"
  }
 },
 "nbformat": 4,
 "nbformat_minor": 2
}
