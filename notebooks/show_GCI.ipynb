{
 "cells": [
  {
   "cell_type": "code",
   "execution_count": 1,
   "metadata": {},
   "outputs": [
    {
     "name": "stderr",
     "output_type": "stream",
     "text": [
      "[Qibo 0.2.9|INFO|2024-07-15 14:44:36]: Using numpy backend on /CPU:0\n"
     ]
    }
   ],
   "source": [
    "import argparse\n",
    "import json\n",
    "import logging\n",
    "import pathlib\n",
    "import time\n",
    "from copy import deepcopy\n",
    "\n",
    "import numpy as np\n",
    "import qibo\n",
    "\n",
    "qibo.set_backend(\"numpy\")\n",
    "from qibo import hamiltonians\n",
    "from qibo.backends import construct_backend\n",
    "from qibo.quantum_info.metrics import fidelity\n",
    "\n",
    "from boostvqe.ansatze import VQE, build_circuit\n",
    "from boostvqe.compiling_XXZ import *\n",
    "from boostvqe.models.dbi import double_bracket_evolution_oracles\n",
    "from boostvqe.models.dbi.double_bracket import *\n",
    "from boostvqe.models.dbi.double_bracket_evolution_oracles import (\n",
    "    FrameShiftedEvolutionOracle,\n",
    "    IsingNNEvolutionOracle,\n",
    "    MagneticFieldEvolutionOracle,\n",
    "    XXZ_EvolutionOracle,\n",
    ")\n",
    "from boostvqe.models.dbi.group_commutator_iteration_transpiler import (\n",
    "    DoubleBracketRotationType,\n",
    "    GroupCommutatorIterationWithEvolutionOracles,\n",
    ")\n",
    "from boostvqe.utils import (\n",
    "    OPTIMIZATION_FILE,\n",
    "    PARAMS_FILE,\n",
    "    build_circuit,\n",
    "    optimize_D,\n",
    "    select_recursion_step_gd_circuit,\n",
    ")"
   ]
  },
  {
   "cell_type": "code",
   "execution_count": 2,
   "metadata": {},
   "outputs": [
    {
     "name": "stdout",
     "output_type": "stream",
     "text": [
      "[4.0, 3.6728053032038477, 3.381630196930263, 3.1585290151921033, 3.0280620986366875]\n"
     ]
    }
   ],
   "source": [
    "nqubits = 5\n",
    "\n",
    "# this is the Hamiltonian that we are studying\n",
    "base_oracle = XXZ_EvolutionOracle.from_nqubits(\n",
    "    nqubits=nqubits, delta=0.5, steps=10, order=2\n",
    ")\n",
    "\n",
    "\n",
    "# Shifted oracle is passed to the group commutator\n",
    "gci = GroupCommutatorIterationWithEvolutionOracles(\n",
    "    base_oracle,\n",
    "    DoubleBracketRotationType.group_commutator,\n",
    ")\n",
    "\n",
    "params = [4 - np.sin(x / 3) for x in range(nqubits)]\n",
    "print(params)\n",
    "\n",
    "eo_d_type = IsingNNEvolutionOracle\n",
    "eo_d = eo_d_type.load([0]*5 + [.5]*5)"
   ]
  },
  {
   "cell_type": "code",
   "execution_count": 3,
   "metadata": {},
   "outputs": [
    {
     "name": "stdout",
     "output_type": "stream",
     "text": [
      "3.374923447061855\n"
     ]
    }
   ],
   "source": [
    "h = hamiltonians.XXZ(5)\n",
    "dbi = DoubleBracketIteration(h)\n",
    "op1 = dbi.eval_dbr_unitary(step=0.1, mode=DoubleBracketGeneratorType.group_commutator)\n",
    "op2 = gci._forward(0.1, eo_d, DoubleBracketRotationType.group_commutator).unitary()\n",
    "print(np.linalg.norm(op1-op2))"
   ]
  },
  {
   "cell_type": "code",
   "execution_count": 4,
   "metadata": {},
   "outputs": [
    {
     "name": "stdout",
     "output_type": "stream",
     "text": [
      "5.45663604615762e-16\n"
     ]
    }
   ],
   "source": [
    "from scipy.linalg import expm, sinm, cosm\n",
    "op1 = expm(-0.1j*dbi.diagonal_h_matrix)\n",
    "op2 = eo_d.circuit(0.1).unitary()\n",
    "print(np.linalg.norm(op1-op2))"
   ]
  },
  {
   "cell_type": "code",
   "execution_count": 5,
   "metadata": {},
   "outputs": [
    {
     "name": "stdout",
     "output_type": "stream",
     "text": [
      "1.7325245111816059\n"
     ]
    }
   ],
   "source": [
    "op1 = expm(-0.5j*dbi.h.matrix)\n",
    "op2 = base_oracle.circuit(0.5).unitary() * vw_xxz_compiling_phase(nqubits,steps=10, order = 2)\n",
    "print(np.linalg.norm(op1-op2))"
   ]
  },
  {
   "cell_type": "code",
   "execution_count": 6,
   "metadata": {},
   "outputs": [
    {
     "name": "stderr",
     "output_type": "stream",
     "text": [
      "[Qibo 0.2.9|WARNING|2024-07-15 14:44:39]: Calculating the dense form of a symbolic Hamiltonian. This operation is memory inefficient.\n",
      "WARNING:qibo.config:Calculating the dense form of a symbolic Hamiltonian. This operation is memory inefficient.\n"
     ]
    },
    {
     "data": {
      "text/plain": [
       "0.0"
      ]
     },
     "execution_count": 6,
     "metadata": {},
     "output_type": "execute_result"
    }
   ],
   "source": [
    "np.linalg.norm(dbi.h.matrix - base_oracle.h.matrix)"
   ]
  },
  {
   "cell_type": "code",
   "execution_count": 53,
   "metadata": {},
   "outputs": [
    {
     "data": {
      "text/plain": [
       "[<matplotlib.lines.Line2D at 0x297e3f090>]"
      ]
     },
     "execution_count": 53,
     "metadata": {},
     "output_type": "execute_result"
    },
    {
     "data": {
      "image/png": "[encoded data removed]",
      "text/plain": [
       "<Figure size 640x480 with 1 Axes>"
      ]
     },
     "metadata": {},
     "output_type": "display_data"
    }
   ],
   "source": [
    "\n",
    "from qibo import hamiltonians\n",
    "import numpy as np\n",
    "from boostvqe.compiling_XXZ import *\n",
    "\n",
    "t = 0.01\n",
    "steps = 3\n",
    "delta=0.5\n",
    "nqubits= 5\n",
    "order=1\n",
    "\n",
    "h_xxz = hamiltonians.XXZ(nqubits=nqubits, delta = delta)\n",
    "base_oracle = XXZ_EvolutionOracle.from_nqubits(\n",
    "    nqubits=nqubits, delta=delta, steps=steps, order=1\n",
    ")\n",
    "\n",
    "diff_norms = []\n",
    "diff_norms_2nd_order = []\n",
    "times = np.linspace(0,3,30)\n",
    "for t in times:\n",
    "    u = h_xxz.exp(t)\n",
    "    circ = nqubit_XXZ_decomposition(nqubits=nqubits,t=t,delta=delta,steps=steps, order=order)\n",
    "    # diff_norms.append(np.linalg.norm(u-vw_xxz_compiling_phase(nqubits,steps)*circ.unitary()))\n",
    "    diff_norms.append(np.linalg.norm(base_oracle.circuit(t, order=order, steps=steps).unitary()-circ.unitary()))\n",
    "    circ = nqubit_XXZ_decomposition(nqubits=nqubits,t=t,delta=delta,steps=steps,order=2)\n",
    "    diff_norms_2nd_order.append(np.linalg.norm(u-vw_xxz_compiling_phase(nqubits,steps, order = 2)*circ.unitary()))\n",
    "\n",
    "import matplotlib.pyplot as plt\n",
    "\n",
    "plt.plot(times, diff_norms)\n",
    "plt.plot(times, diff_norms_2nd_order)"
   ]
  },
  {
   "cell_type": "code",
   "execution_count": 55,
   "metadata": {},
   "outputs": [
    {
     "name": "stdout",
     "output_type": "stream",
     "text": [
      "0.5\n",
      "1\n",
      "1\n"
     ]
    },
    {
     "data": {
      "text/plain": [
       "array([[-6.70882472e-01+7.41563691e-01j,  0.00000000e+00+0.00000000e+00j,\n",
       "         0.00000000e+00+0.00000000e+00j, ...,\n",
       "         2.81784007e-34+8.94811083e-35j, -1.56150725e-17+1.60850227e-17j,\n",
       "         0.00000000e+00+0.00000000e+00j],\n",
       "       [ 0.00000000e+00+0.00000000e+00j, -6.98881073e-01+7.13000358e-01j,\n",
       "         2.79477888e-02+2.85124096e-02j, ...,\n",
       "         0.00000000e+00+0.00000000e+00j,  0.00000000e+00+0.00000000e+00j,\n",
       "        -1.68988732e-17+1.47259647e-17j],\n",
       "       [ 0.00000000e+00+0.00000000e+00j,  2.91121804e-02+2.74158312e-02j,\n",
       "        -6.98881073e-01+7.13000358e-01j, ...,\n",
       "         0.00000000e+00+0.00000000e+00j,  0.00000000e+00+0.00000000e+00j,\n",
       "         6.30612811e-19+6.37175200e-19j],\n",
       "       ...,\n",
       "       [-3.05710816e-19-2.83336904e-19j,  0.00000000e+00+0.00000000e+00j,\n",
       "         0.00000000e+00+0.00000000e+00j, ...,\n",
       "        -6.98881073e-01+7.13000358e-01j,  2.91121804e-02+2.74158312e-02j,\n",
       "         0.00000000e+00+0.00000000e+00j],\n",
       "       [ 7.42362162e-18-7.13113996e-18j,  0.00000000e+00+0.00000000e+00j,\n",
       "         0.00000000e+00+0.00000000e+00j, ...,\n",
       "         2.79477888e-02+2.85124096e-02j, -6.98881073e-01+7.13000358e-01j,\n",
       "         0.00000000e+00+0.00000000e+00j],\n",
       "       [ 0.00000000e+00+0.00000000e+00j,  6.93100886e-18-7.78497673e-18j,\n",
       "        -3.63815628e-35+6.15678157e-35j, ...,\n",
       "         0.00000000e+00+0.00000000e+00j,  0.00000000e+00+0.00000000e+00j,\n",
       "        -6.70882472e-01+7.41563691e-01j]])"
      ]
     },
     "execution_count": 55,
     "metadata": {},
     "output_type": "execute_result"
    }
   ],
   "source": [
    "base_oracle = XXZ_EvolutionOracle.from_nqubits(\n",
    "    nqubits=5, delta=0.5, steps=3, order=1\n",
    ")\n",
    "print(base_oracle.delta)\n",
    "print(base_oracle.order)\n",
    "print(base_oracle.steps)\n",
    "\n",
    "base_oracle.circuit(t_duration=0.02,  ).unitary()"
   ]
  },
  {
   "cell_type": "code",
   "execution_count": 46,
   "metadata": {},
   "outputs": [
    {
     "data": {
      "text/plain": [
       "array([[ 7.41563691e-01+6.70882472e-01j,  0.00000000e+00+0.00000000e+00j,\n",
       "         0.00000000e+00+0.00000000e+00j, ...,\n",
       "         4.66756029e-19-5.82627070e-19j, -1.11758416e-17-5.89724807e-18j,\n",
       "         0.00000000e+00+0.00000000e+00j],\n",
       "       [ 0.00000000e+00+0.00000000e+00j,  7.13000223e-01+6.98880939e-01j,\n",
       "         2.81590534e-02-2.83471848e-02j, ...,\n",
       "         0.00000000e+00+0.00000000e+00j,  0.00000000e+00+0.00000000e+00j,\n",
       "         3.42595993e-17-3.27013878e-17j],\n",
       "       [ 0.00000000e+00+0.00000000e+00j,  2.77933305e-02-2.87355206e-02j,\n",
       "         7.13000223e-01+6.98880939e-01j, ...,\n",
       "         0.00000000e+00+0.00000000e+00j,  0.00000000e+00+0.00000000e+00j,\n",
       "        -1.24509192e-18-5.62373593e-19j],\n",
       "       ...,\n",
       "       [-8.40825251e-19+1.55110602e-18j,  0.00000000e+00+0.00000000e+00j,\n",
       "         0.00000000e+00+0.00000000e+00j, ...,\n",
       "         7.13000223e-01+6.98880939e-01j,  2.77933305e-02-2.87355206e-02j,\n",
       "         0.00000000e+00+0.00000000e+00j],\n",
       "       [-3.52383552e-17-5.41573240e-18j,  0.00000000e+00+0.00000000e+00j,\n",
       "         0.00000000e+00+0.00000000e+00j, ...,\n",
       "         2.81590534e-02-2.83471848e-02j,  7.13000223e-01+6.98880939e-01j,\n",
       "         0.00000000e+00+0.00000000e+00j],\n",
       "       [ 0.00000000e+00+0.00000000e+00j, -5.39768209e-17-5.02589982e-17j,\n",
       "        -5.14791155e-19+4.59109006e-19j, ...,\n",
       "         0.00000000e+00+0.00000000e+00j,  0.00000000e+00+0.00000000e+00j,\n",
       "         7.41563691e-01+6.70882472e-01j]])"
      ]
     },
     "execution_count": 46,
     "metadata": {},
     "output_type": "execute_result"
    }
   ],
   "source": [
    "nqubit_XXZ_decomposition(\n",
    "            nqubits=5,\n",
    "            t=0.02,\n",
    "            delta=0.5,\n",
    "            steps=3,\n",
    "            order=1,\n",
    "        ).unitary()"
   ]
  },
  {
   "cell_type": "code",
   "execution_count": 10,
   "metadata": {},
   "outputs": [
    {
     "data": {
      "text/plain": [
       "array([[0.99219767-0.12467473j, 0.        +0.j        ,\n",
       "        0.        +0.j        , ..., 0.        +0.j        ,\n",
       "        0.        +0.j        , 0.        +0.j        ],\n",
       "       [0.        +0.j        , 0.99968752-0.0249974j ,\n",
       "        0.        +0.j        , ..., 0.        +0.j        ,\n",
       "        0.        +0.j        , 0.        +0.j        ],\n",
       "       [0.        +0.j        , 0.        +0.j        ,\n",
       "        0.99968752-0.0249974j , ..., 0.        +0.j        ,\n",
       "        0.        +0.j        , 0.        +0.j        ],\n",
       "       ...,\n",
       "       [0.        +0.j        , 0.        +0.j        ,\n",
       "        0.        +0.j        , ..., 0.99968752-0.0249974j ,\n",
       "        0.        +0.j        , 0.        +0.j        ],\n",
       "       [0.        +0.j        , 0.        +0.j        ,\n",
       "        0.        +0.j        , ..., 0.        +0.j        ,\n",
       "        0.99968752-0.0249974j , 0.        +0.j        ],\n",
       "       [0.        +0.j        , 0.        +0.j        ,\n",
       "        0.        +0.j        , ..., 0.        +0.j        ,\n",
       "        0.        +0.j        , 0.99219767-0.12467473j]])"
      ]
     },
     "execution_count": 10,
     "metadata": {},
     "output_type": "execute_result"
    }
   ],
   "source": [
    "eo_d.h.circuit(0.05).unitary()"
   ]
  },
  {
   "cell_type": "code",
   "execution_count": 11,
   "metadata": {},
   "outputs": [
    {
     "data": {
      "text/plain": [
       "2.499999999999999"
      ]
     },
     "execution_count": 11,
     "metadata": {},
     "output_type": "execute_result"
    }
   ],
   "source": [
    "from qibo import Circuit\n",
    "c = Circuit(nqubits=5)\n",
    "c2 = gci._forward(0.1, eo_d, DoubleBracketRotationType.group_commutator)\n",
    "base_oracle.h.expectation(c2().state())"
   ]
  },
  {
   "cell_type": "code",
   "execution_count": 12,
   "metadata": {},
   "outputs": [],
   "source": [
    "s_space = np.linspace(1e-3, 0.5, 100)\n",
    "modes = [\n",
    "    DoubleBracketRotationType.group_commutator,\n",
    "    DoubleBracketRotationType.group_commutator_third_order,\n",
    "]\n",
    "plots = []"
   ]
  },
  {
   "cell_type": "code",
   "execution_count": 13,
   "metadata": {},
   "outputs": [],
   "source": [
    "for mode in modes:\n",
    "    plots.append([gci.loss(step_duration=s, d=eo_d, mode=mode) for s in s_space])"
   ]
  },
  {
   "cell_type": "code",
   "execution_count": 14,
   "metadata": {},
   "outputs": [],
   "source": [
    "import matplotlib.pyplot as plt"
   ]
  },
  {
   "cell_type": "code",
   "execution_count": 15,
   "metadata": {},
   "outputs": [
    {
     "data": {
      "image/png": "[encoded data removed]",
      "text/plain": [
       "<Figure size 640x480 with 1 Axes>"
      ]
     },
     "metadata": {},
     "output_type": "display_data"
    }
   ],
   "source": [
    "for i, mode in enumerate(modes):\n",
    "    plt.plot(s_space, plots[i], label=mode)\n",
    "    "
   ]
  },
  {
   "cell_type": "code",
   "execution_count": 16,
   "metadata": {},
   "outputs": [
    {
     "data": {
      "text/plain": [
       "2.499999999999992"
      ]
     },
     "execution_count": 16,
     "metadata": {},
     "output_type": "execute_result"
    }
   ],
   "source": [
    "gci.loss(step_duration=0.5, d=eo_d, mode=DoubleBracketRotationType.group_commutator)"
   ]
  },
  {
   "cell_type": "code",
   "execution_count": 17,
   "metadata": {},
   "outputs": [
    {
     "data": {
      "text/plain": [
       "2.4999999999999964"
      ]
     },
     "execution_count": 17,
     "metadata": {},
     "output_type": "execute_result"
    }
   ],
   "source": [
    "gci.loss(step_duration=0.1, d=eo_d, mode=DoubleBracketRotationType.group_commutator_third_order)"
   ]
  },
  {
   "cell_type": "code",
   "execution_count": 18,
   "metadata": {},
   "outputs": [
    {
     "ename": "SyntaxError",
     "evalue": "invalid syntax (1664433500.py, line 1)",
     "output_type": "error",
     "traceback": [
      "\u001b[0;36m  File \u001b[0;32m\"/var/folders/sn/4ym_qb8x0cs_f961d78kvvkc0000gn/T/ipykernel_5654/1664433500.py\"\u001b[0;36m, line \u001b[0;32m1\u001b[0m\n\u001b[0;31m    else:\u001b[0m\n\u001b[0m    ^\u001b[0m\n\u001b[0;31mSyntaxError\u001b[0m\u001b[0;31m:\u001b[0m invalid syntax\n"
     ]
    }
   ],
   "source": [
    "\n",
    "    \n",
    "        \n",
    "\n",
    "    else:\n",
    "        if gci_step_nmb == 0:\n",
    "            p0 = [0.01]\n",
    "            if eo_d_type == MagneticFieldEvolutionOracle:\n",
    "                p0.extend([4 - np.sin(x / 3) for x in range(nqubits)])\n",
    "            elif eo_d_type == IsingNNEvolutionOracle:\n",
    "                p0.extend(\n",
    "                    [4 - np.sin(x / 3) for x in range(nqubits)] + nqubits * [1]\n",
    "                )\n",
    "\n",
    "        else:\n",
    "            p0 = [best_s]\n",
    "            p0.extend(best_b)\n",
    "        optimized_params, opt_dict = optimize_D(\n",
    "            params=p0,\n",
    "            gci=gci,\n",
    "            eo_d_type=eo_d_type,\n",
    "            mode=args.db_rotation,\n",
    "            method=args.optimization_method,\n",
    "            **opt_options,\n",
    "        )\n",
    "        best_s = optimized_params[0]\n",
    "        best_b = optimized_params[1:]\n",
    "        eo_d = eo_d_type.load(best_b)\n",
    "\n",
    "    step_data = dict(\n",
    "        best_s=best_s,\n",
    "        eo_d_name=eo_d.__class__.__name__,\n",
    "        eo_d_params=eo_d.params,\n",
    "    )\n",
    "    logging.info(f\"Total optimization time required: {time.time() - it} seconds\")\n",
    "    gci.mode_double_bracket_rotation = args.db_rotation\n",
    "\n",
    "    gci(best_s, eo_d, args.db_rotation)\n",
    "\n",
    "    this_report = report(vqe, hamiltonian, gci, best_s, eo_d, args.db_rotation)\n",
    "    print_report(this_report)\n",
    "    metadata[gci_step_nmb + 1] = this_report | step_data | opt_dict\n",
    "\n",
    "(dump_path / \"boosting_data.json\").write_text(json.dumps(metadata, indent=4))"
   ]
  }
 ],
 "metadata": {
  "kernelspec": {
   "display_name": "DBF_qibo",
   "language": "python",
   "name": "python3"
  },
  "language_info": {
   "codemirror_mode": {
    "name": "ipython",
    "version": 3
   },
   "file_extension": ".py",
   "mimetype": "text/x-python",
   "name": "python",
   "nbconvert_exporter": "python",
   "pygments_lexer": "ipython3",
   "version": "3.11.7"
  }
 },
 "nbformat": 4,
 "nbformat_minor": 2
}
