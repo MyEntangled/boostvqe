{
 "cells": [
  {
   "cell_type": "markdown",
   "metadata": {},
   "source": [
    "# An example how to check different types of group commutator rotations\n"
   ]
  },
  {
   "cell_type": "code",
   "execution_count": 1,
   "metadata": {},
   "outputs": [
    {
     "name": "stderr",
     "output_type": "stream",
     "text": [
      "[Qibo 0.2.9|INFO|2024-06-18 15:59:24]: Using numpy backend on /CPU:0\n"
     ]
    }
   ],
   "source": [
    "import json\n",
    "import time\n",
    "from pathlib import Path\n",
    "\n",
    "import numpy as np\n",
    "import qibo\n",
    "from qibo import hamiltonians, set_backend\n",
    "qibo.set_backend(\"numpy\")\n",
    "from boostvqe.models.dbi.double_bracket import (\n",
    "    DoubleBracketGeneratorType,\n",
    "    DoubleBracketIteration,\n",
    "    )\n",
    "\n",
    "from boostvqe.models.dbi.group_commutator_iteration_transpiler import *\n",
    "from boostvqe.models.dbi.double_bracket_evolution_oracles import *\n",
    "\n",
    "from boostvqe.ansatze import VQE, build_circuit\n",
    "from boostvqe.utils import apply_dbi_steps, rotate_h_with_vqe\n",
    "from qibo import symbols, hamiltonians\n",
    "from copy import deepcopy\n",
    "from boostvqe.compiling_XXZ import *\n",
    "\n",
    "import matplotlib.pyplot as plt"
   ]
  },
  {
   "cell_type": "markdown",
   "metadata": {},
   "source": [
    "#### 1. Loading VQE results"
   ]
  },
  {
   "cell_type": "code",
   "execution_count": 39,
   "metadata": {},
   "outputs": [],
   "source": [
    "def print_vqe_comparison_report(gci):\n",
    "    gci_loss = gci.loss()\n",
    "    print(f\"VQE energy is {round(gci.vqe_energy,5)} and the DBQA yields {round(gci_loss,5)}. \\n\\\n",
    "The target energy is {round(gci.h.target_energy,5)} which means the difference is for VQE \\\n",
    "    {round(gci.vqe_energy-gci.h.target_energy,5)} and of the DBQA {round(gci_loss-gci.h.target_energy,5)} which can be compared to the spectral gap {round(gci.h.gap,5)}.\\n\\\n",
    "The relative difference is for VQE {round(abs(gci.vqe_energy-gci.h.target_energy)/abs(gci.h.target_energy)*100,5)}% \\\n",
    "    and for DBQA {round(abs(gci_loss-gci.h.target_energy)/abs(gci.h.target_energy)*100,5)}%.\\\n",
    "The energetic fidelity witness for the ground state for the VQE is {round(1- abs(gci.vqe_energy-gci.h.target_energy)/abs(gci.h.gap),5)} and DBQA {round(1- abs(gci_loss-gci.h.target_energy)/abs(gci.h.gap),5)}\\\n",
    "\")\n",
    "\n",
    "\n",
    "def initialize_gci_from_vqe( path = \"../results/vqe_data/with_params/10q7l/sgd_10q_7l_42/\",\n",
    "                            target_epoch = 2000,\n",
    "                            dbi_steps = 1,\n",
    "                            mode_dbr = [DoubleBracketRotationType.group_commutator_reduced]):\n",
    "\n",
    "    # upload system configuration and parameters for all the training\n",
    "    with open(path + \"optimization_results.json\") as file:\n",
    "        config = json.load(file)\n",
    "\n",
    "    losses = dict(np.load(path + \"energies.npz\"))[\"0\"]\n",
    "    params = np.load(path + f\"parameters/params_ite{target_epoch}.npy\")\n",
    "\n",
    "    nqubits = config[\"nqubits\"]\n",
    "    # build circuit, hamiltonian and VQE\n",
    "    circuit = build_circuit(nqubits, config[\"nlayers\"], \"numpy\")       \n",
    "    hamiltonian = hamiltonians.XXZ(nqubits=nqubits, delta=0.5)\n",
    "\n",
    "    vqe = VQE(circuit, hamiltonian)\n",
    "    # set target parameters into the VQE\n",
    "    vqe.circuit.set_parameters(params)\n",
    "\n",
    "    eo_xxz = XXZ_EvolutionOracle(nqubits, steps = 1, order = 2)\n",
    "    # implement the rotate by VQE on the level of circuits\n",
    "    fsoe  = VQERotatedEvolutionOracle(eo_xxz, vqe)\n",
    "    # init gci with the vqe-rotated hamiltonian\n",
    "    gci  = GroupCommutatorIterationWithEvolutionOracles(input_hamiltonian_evolution_oracle=fsoe, \n",
    "            mode_double_bracket_rotation=DoubleBracketRotationType.group_commutator_reduced)\n",
    "    \n",
    "    eigenergies = hamiltonian.eigenvalues()\n",
    "    target_energy = np.min(eigenergies)\n",
    "    gci.h.target_energy = target_energy\n",
    "    eigenergies.sort()\n",
    "    gap = eigenergies[1] - target_energy\n",
    "    gci.h.gap = gap\n",
    "\n",
    "    gci.vqe_energy = hamiltonian.expectation(vqe.circuit().state())\n",
    "\n",
    "   \n",
    "    b_list = [1+np.sin(x/3)for x in range(10)]\n",
    "    gci.default_eo_d = MagneticFieldEvolutionOracle(b_list,name = \"D(B = 1+sin(x/3))\")\n",
    "    gci.default_times = np.linspace(0.003,0.004,10)\n",
    "    return gci\n"
   ]
  },
  {
   "cell_type": "code",
   "execution_count": 40,
   "metadata": {},
   "outputs": [
    {
     "name": "stderr",
     "output_type": "stream",
     "text": [
      "[Qibo 0.2.9|INFO|2024-06-18 16:38:31]: Using numpy backend on /CPU:0\n",
      "INFO:qibo.config:Using numpy backend on /CPU:0\n"
     ]
    },
    {
     "name": "stdout",
     "output_type": "stream",
     "text": [
      "In the VQE numpy\n",
      "VQE energy is -14.8569 and the DBQA yields -14.8569. \n",
      "The target energy is -15.27613 which means the difference is for VQE     0.41923 and of the DBQA 0.41923 which can be compared to the spectral gap1.08767.\n",
      "The relative difference is for VQE 2.74436%     and for DBQA2.74436%.The energetic fidelity witness for the ground state for the VQE is 0.61456 and DBQA 0.61456\n"
     ]
    }
   ],
   "source": [
    "gci = initialize_gci_from_vqe()\n",
    "print_vqe_comparison_report(gci)\n",
    "s,l, ls = gci.choose_step(d = gci.default_eo_d,times = gci.default_times)"
   ]
  },
  {
   "cell_type": "code",
   "execution_count": 41,
   "metadata": {},
   "outputs": [],
   "source": [
    "\n",
    "def select_recursion_step_circuit(gci, mode_dbr_list = [DoubleBracketRotationType.group_commutator_third_order_reduced], please_be_visual = False):\n",
    "    \"\"\" Returns: circuit of the step, code of the strategy\"\"\"\n",
    "    minimal_losses = []\n",
    "    all_losses = []\n",
    "    minimizer_s = []\n",
    "    for i,mode in enumerate(mode_dbr_list):\n",
    "        \n",
    "        times = np.linspace(1e-3,3e-2,10)\n",
    "        eo_d = gci.eo_d\n",
    "        s, l, ls = gci.choose_step(d = eo_d,times = times)\n",
    "        #here optimize over gradient descent\n",
    "        minimal_losses.append(l)\n",
    "        minimizer_s.append(s)\n",
    "\n",
    "        if please_be_visual:\n",
    "            plt.plot(times,ls)\n",
    "            plt.yticks([ls[0],l, ls[-1]])\n",
    "            plt.xticks([times[0],s,times[-1]])\n",
    "            plt.show()\n",
    "\n",
    "    minimizer_dbr_id = np.argmin(minimal_losses)\n",
    "    return mode_dbr_list[minimizer_dbr_id], minimizer_s[minimizer_dbr_id], gci.default_eo_d\n",
    "\n",
    "def execute_selected_recursion_step( gci, mode_dbr, minimizer_s, eo_d, please_be_verbose = False ):\n",
    "    gci.mode_double_bracket_rotation = mode_dbr\n",
    "    if please_be_verbose:\n",
    "        gci.print_gate_count_report()\n",
    "        print_vqe_comparison_report(gci)\n",
    "    gci(step_duration = minimizer_s, diagonal_association = eo_d)\n",
    "    if please_be_verbose:\n",
    "        gci.print_gate_count_report() \n",
    "        print_vqe_comparison_report(gci)"
   ]
  },
  {
   "cell_type": "code",
   "execution_count": 42,
   "metadata": {},
   "outputs": [
    {
     "data": {
      "image/png": "[encoded data removed]",
      "text/plain": [
       "<Figure size 640x480 with 1 Axes>"
      ]
     },
     "metadata": {},
     "output_type": "display_data"
    },
    {
     "name": "stdout",
     "output_type": "stream",
     "text": [
      "The boosting circuit used 0 CNOT gates coming from compiled XXZ evolution and 70 CZ gates from VQE.\n",
      "For 10 qubits this gives n_CNOT/n_qubits = 0.0 and n_CZ/n_qubits = 7.0\n",
      "VQE energy is -14.8569 and the DBQA yields -14.8569. \n",
      "The target energy is -15.27613 which means the difference is for VQE     0.41923 and of the DBQA 0.41923 which can be compared to the spectral gap1.08767.\n",
      "The relative difference is for VQE 2.74436%     and for DBQA2.74436%.The energetic fidelity witness for the ground state for the VQE is 0.61456 and DBQA 0.61456\n",
      "The boosting circuit used 90 CNOT gates coming from compiled XXZ evolution and 350 CZ gates from VQE.\n",
      "For 10 qubits this gives n_CNOT/n_qubits = 9.0 and n_CZ/n_qubits = 35.0\n",
      "VQE energy is -14.8569 and the DBQA yields -14.96908. \n",
      "The target energy is -15.27613 which means the difference is for VQE     0.41923 and of the DBQA 0.30705 which can be compared to the spectral gap1.08767.\n",
      "The relative difference is for VQE 2.74436%     and for DBQA2.01002%.The energetic fidelity witness for the ground state for the VQE is 0.61456 and DBQA 0.71769\n"
     ]
    }
   ],
   "source": [
    "mode_dbr, minimizer_s, eo_d = select_recursion_step_circuit(\n",
    "    gci, mode_dbr_list = [DoubleBracketRotationType.group_commutator_third_order_reduced],please_be_visual = True)\n",
    "execute_selected_recursion_step( gci, mode_dbr, minimizer_s, eo_d, please_be_verbose = True )"
   ]
  },
  {
   "cell_type": "code",
   "execution_count": 43,
   "metadata": {},
   "outputs": [
    {
     "ename": "NameError",
     "evalue": "name 'gci2' is not defined",
     "output_type": "error",
     "traceback": [
      "\u001b[0;31m---------------------------------------------------------------------------\u001b[0m",
      "\u001b[0;31mNameError\u001b[0m                                 Traceback (most recent call last)",
      "Cell \u001b[0;32mIn[43], line 4\u001b[0m\n\u001b[1;32m      1\u001b[0m \u001b[38;5;28;01mfrom\u001b[39;00m \u001b[38;5;21;01mboostvqe\u001b[39;00m\u001b[38;5;21;01m.\u001b[39;00m\u001b[38;5;21;01mmodels\u001b[39;00m\u001b[38;5;21;01m.\u001b[39;00m\u001b[38;5;21;01mdbi\u001b[39;00m\u001b[38;5;21;01m.\u001b[39;00m\u001b[38;5;21;01mutils_gci_optimization\u001b[39;00m \u001b[38;5;28;01mimport\u001b[39;00m \u001b[38;5;241m*\u001b[39m\n\u001b[1;32m      3\u001b[0m d_params_test, s, min_loss \u001b[38;5;241m=\u001b[39m gradient_descent_circuits(\n\u001b[0;32m----> 4\u001b[0m \u001b[43mgci2\u001b[49m,\n\u001b[1;32m      5\u001b[0m  train_epochs\u001b[38;5;241m=\u001b[39m\u001b[38;5;241m5\u001b[39m,\n\u001b[1;32m      6\u001b[0m    d_params_init\u001b[38;5;241m=\u001b[39m[\u001b[38;5;241m1.5\u001b[39m\u001b[38;5;241m*\u001b[39mx \u001b[38;5;28;01mfor\u001b[39;00m x \u001b[38;5;129;01min\u001b[39;00m f],\n\u001b[1;32m      7\u001b[0m    lr\u001b[38;5;241m=\u001b[39m\u001b[38;5;241m10\u001b[39m\n\u001b[1;32m      8\u001b[0m )\n",
      "\u001b[0;31mNameError\u001b[0m: name 'gci2' is not defined"
     ]
    }
   ],
   "source": [
    "from boostvqe.models.dbi.utils_gci_optimization import *\n",
    "\n",
    "d_params_test, s, min_loss = gradient_descent_circuits(\n",
    "gci2,\n",
    " train_epochs=5,\n",
    "   d_params_init=[1.5*x for x in f],\n",
    "   lr=10\n",
    ")"
   ]
  },
  {
   "cell_type": "code",
   "execution_count": null,
   "metadata": {},
   "outputs": [],
   "source": []
  }
 ],
 "metadata": {
  "kernelspec": {
   "display_name": "Python 3",
   "language": "python",
   "name": "python3"
  },
  "language_info": {
   "codemirror_mode": {
    "name": "ipython",
    "version": 3
   },
   "file_extension": ".py",
   "mimetype": "text/x-python",
   "name": "python",
   "nbconvert_exporter": "python",
   "pygments_lexer": "ipython3",
   "version": "3.12.3"
  }
 },
 "nbformat": 4,
 "nbformat_minor": 2
}
