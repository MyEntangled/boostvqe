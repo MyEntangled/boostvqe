{
 "cells": [
  {
   "cell_type": "markdown",
   "metadata": {},
   "source": [
    "# DBQA GCI Circuit Synthesis\n",
    "\n",
    "Variational quantum eigensolver (VQE) is commonly used for ground state preparation. In this notebook, we demonstrate how to use a few steps of double-bracket quantum algorithms (DBQAs) to enhance the performance of VQE.\n",
    "\n",
    "To achieve this, we use the `qibo` package [1] to first train a warm-start VQE circuit, and from there, run a few steps of DBQAs [2] realized by group commutator iterations (GCIs) [3].\n",
    "\n",
    "Then, the final circuit may be converted into `qiskit` or `pytekt` compatible formats for running on emulators or quantum hardwares.\n",
    "\n",
    "[1] https://github.com/qiboteam/qibo\n",
    "\n",
    "[2] M. Gluza, “Double-bracket quantum algorithms for diagonalization,” Quantum, vol. 8, p. 1316, Apr. 2024, doi: 10.22331/q-2024-04-09-1316. https://arxiv.org/abs/2206.11772 \n",
    "\n",
    "[3] M. Robbiati et al., “Double-bracket quantum algorithms for high-fidelity ground state preparation,” Aug. 07, 2024, arXiv: arXiv:2408.03987. doi: 10.48550/arXiv.2408.03987.https://arxiv.org/abs/2408.03987"
   ]
  },
  {
   "cell_type": "markdown",
   "metadata": {},
   "source": [
    "In this example notebook, we perform numerical simulations of DBQA for the XXZ model with a periodic boundary condition, whose hamiltonian is given by:\n",
    "\n",
    "$$\n",
    "H_0 = \\sum _{k=0}^L \\left( X_{k} X_{k + 1} + Y_{k} Y_{k + 1} + \\delta Z_{k}Z_{k + 1} \\right)\n",
    "$$"
   ]
  },
  {
   "cell_type": "code",
   "execution_count": null,
   "metadata": {},
   "outputs": [],
   "source": [
    "import qibo\n",
    "from qibo.backends import construct_backend\n",
    "from qibo import hamiltonians\n",
    "import matplotlib.pyplot as plt\n",
    "import numpy as np"
   ]
  },
  {
   "cell_type": "code",
   "execution_count": null,
   "metadata": {},
   "outputs": [],
   "source": [
    "qibo.set_backend(\"tensorflow\")\n",
    "vqe_backend = construct_backend(backend=\"tensorflow\")"
   ]
  },
  {
   "cell_type": "code",
   "execution_count": null,
   "metadata": {},
   "outputs": [],
   "source": [
    "nqubits = 4\n",
    "delta = 0.5\n",
    "ham = hamiltonians.XXZ(nqubits, delta, dense=False)\n",
    "plt.imshow(np.real(ham.matrix))\n",
    "plt.colorbar()"
   ]
  },
  {
   "cell_type": "markdown",
   "metadata": {},
   "source": [
    "## Step 1: train VQE (optional)\n",
    "We define the loss function to be the energy expectation $\\langle H\\rangle$.\n",
    "The following cells contain the complete process of VQE training using Qibo.\n",
    "While the user can modify the code and train their VQE, this section is optional if you wish to load from existing results, for which, proceed to step 2."
   ]
  },
  {
   "cell_type": "code",
   "execution_count": null,
   "metadata": {},
   "outputs": [],
   "source": [
    "from boostvqe import ansatze\n",
    "from copy import deepcopy\n",
    "from functools import partial\n",
    "from boostvqe.training_utils import vqe_loss\n",
    "from boostvqe.utils import *"
   ]
  },
  {
   "cell_type": "code",
   "execution_count": null,
   "metadata": {},
   "outputs": [],
   "source": [
    "# helper functions\n",
    "def exact_expectation_boost(ham, circ):\n",
    "    # calculates the exact expectation of hamiltonian given a circuit in qibo\n",
    "    return ham.expectation(\n",
    "        ham.backend.execute_circuit(circuit=circ).state())"
   ]
  },
  {
   "cell_type": "code",
   "execution_count": null,
   "metadata": {},
   "outputs": [],
   "source": [
    "# build ansatz circuit\n",
    "nlayer = 1\n",
    "ansatz_circ = ansatze.hdw_efficient(nqubits, nlayer)\n",
    "print(ansatz_circ.draw())"
   ]
  },
  {
   "cell_type": "code",
   "execution_count": null,
   "metadata": {},
   "outputs": [],
   "source": [
    "# build zero state\n",
    "zero_state = ham.backend.zero_state(nqubits)\n",
    "# initial params\n",
    "params_len = len(ansatz_circ.get_parameters())\n",
    "# fix numpy seed to ensure replicability of the experiment\n",
    "seed = 10\n",
    "np.random.seed(seed)\n",
    "initial_params = np.random.uniform(-np.pi, np.pi, params_len)\n",
    "print('Initial parameters:', initial_params)\n",
    "# initial energy\n",
    "c0 = deepcopy(ansatz_circ)\n",
    "c0.set_parameters(initial_params)\n",
    "target_energy = np.real(np.min(np.asarray(ham.eigenvalues())))\n",
    "print('Target enegry:', target_energy)\n",
    "print('Initial energy:', exact_expectation_boost(ham, c0).numpy())\n",
    "print('Net difference:', exact_expectation_boost(ham, c0).numpy()-target_energy)"
   ]
  },
  {
   "cell_type": "code",
   "execution_count": null,
   "metadata": {},
   "outputs": [],
   "source": [
    "# define the qibo loss function\n",
    "objective_boost = partial(vqe_loss)\n",
    "# logging hisotry\n",
    "params_history, loss_history, grads_history, fluctuations = [], [], [], []\n",
    "# set optimizer\n",
    "optimizer = 'sgd'\n",
    "maxiter = 1500\n",
    "nmessage = 500\n",
    "learning_rate = 5e-2\n",
    "tol = 1e-5 # for `sgd` this is required but not used\n",
    "params_history.append(initial_params)"
   ]
  },
  {
   "cell_type": "markdown",
   "metadata": {},
   "source": [
    "### Train VQE"
   ]
  },
  {
   "cell_type": "code",
   "execution_count": null,
   "metadata": {},
   "outputs": [],
   "source": [
    "param = params_history[-1]\n",
    "(\n",
    "    partial_results,\n",
    "    partial_params_history,\n",
    "    partial_loss_history,\n",
    "    partial_grads_history,\n",
    "    partial_fluctuations,\n",
    "    vqe,\n",
    ") = train_vqe(\n",
    "    deepcopy(ansatz_circ),\n",
    "    ham,  # Fixed hamiltonian\n",
    "    optimizer,\n",
    "    param,\n",
    "    tol=tol,\n",
    "    niterations=maxiter, # Show log info\n",
    "    nmessage=nmessage,\n",
    "    loss=objective_boost,\n",
    "    training_options={'nepochs': maxiter,\n",
    "                      'learning_rate': learning_rate,}\n",
    ")\n",
    "params_history.extend(np.array(partial_params_history))\n",
    "loss_history.extend(np.array(partial_loss_history))\n",
    "grads_history.extend(np.array(partial_grads_history))\n",
    "fluctuations.extend(np.array(partial_fluctuations))"
   ]
  },
  {
   "cell_type": "code",
   "execution_count": null,
   "metadata": {},
   "outputs": [],
   "source": [
    "import os\n",
    "folder_path = f'results/vqe_training/{optimizer}_{nqubits}q_{nlayer}l_XXZ'\n",
    "os.makedirs(folder_path, exist_ok=True)\n",
    "path_param = folder_path + f'/vqe_params_hist_{nqubits}.npy'\n",
    "path_loss = folder_path + f'/vqe_loss_hist_{nqubits}.npy'\n",
    "# np.save(path_param, params_history)\n",
    "# np.save(path_loss, loss_history)"
   ]
  },
  {
   "cell_type": "markdown",
   "metadata": {},
   "source": [
    "## Step 2: load VQE results\n",
    "We load the saved VQE training results from '.npy' files."
   ]
  },
  {
   "cell_type": "code",
   "execution_count": null,
   "metadata": {},
   "outputs": [],
   "source": [
    "# Training params must be provided if loading directly from file, \n",
    "# otherwise comment out the following 2 lines\n",
    "optimizer = 'sgd'\n",
    "nlayer = 1\n",
    "# load from the results/vqe_training folder\n",
    "import os\n",
    "folder_path = f'results/vqe_training/{optimizer}_{nqubits}q_{nlayer}l_XXZ/'\n",
    "os.makedirs(folder_path, exist_ok=True)\n",
    "path_param = folder_path + f'vqe_params_hist_{nqubits}.npy'\n",
    "path_loss = folder_path + f'vqe_loss_hist_{nqubits}.npy'"
   ]
  },
  {
   "cell_type": "code",
   "execution_count": null,
   "metadata": {},
   "outputs": [],
   "source": [
    "vqe_params = np.load(path_param)\n",
    "loss_history = np.load(path_loss)"
   ]
  },
  {
   "cell_type": "code",
   "execution_count": null,
   "metadata": {},
   "outputs": [],
   "source": [
    "# plot the learning curve\n",
    "plt. plot(loss_history)\n",
    "plt.xlabel('Training epochs')\n",
    "plt.ylabel('Loss function')\n",
    "plt.title(f'VQE training with {nlayer} layer(s)')"
   ]
  },
  {
   "cell_type": "markdown",
   "metadata": {},
   "source": [
    "We can compare the parameters:"
   ]
  },
  {
   "cell_type": "code",
   "execution_count": null,
   "metadata": {},
   "outputs": [],
   "source": [
    "plt.plot(vqe_params[0], label='initial param')\n",
    "plt.plot(vqe_params[-1], label='final param')\n",
    "plt.legend()"
   ]
  },
  {
   "cell_type": "markdown",
   "metadata": {},
   "source": [
    "We take the last set of parameters as the result of our VQE training and from there build our trained VQE circuit."
   ]
  },
  {
   "cell_type": "code",
   "execution_count": null,
   "metadata": {},
   "outputs": [],
   "source": [
    "vqe_param_final = vqe_params[-1]\n",
    "ansatz_circ.set_parameters(vqe_param_final)\n",
    "vqe_circ = ansatz_circ"
   ]
  },
  {
   "cell_type": "markdown",
   "metadata": {},
   "source": [
    "## Step 2: GCI DBQA\n",
    "\n",
    "### Double-bracket rotation\n",
    "\n",
    "A double-bracket rotation is given by\n",
    "$$\n",
    "H_{k+1} = e^{s_kW_k}H_ke^{-s_kW_k}\n",
    "$$\n",
    "where $s$ is the rotation duration, the rotation generator $W_k:=[D_k, H_k]$, and $D_k$ is a diagonal operator. While it is possible to use a fixed $s$ and fixed $D$ for all iterations, variational strategies have been proposed [1] to improve the training efficiency. \n",
    "\n",
    "In this minimal example, we use the magnetic field parameterization for $D$, which considers a local magnetic field in the $z$-direction\n",
    "\n",
    "$$\n",
    "D_k(B^{(k)})=\\sum_{j=1}^L \\alpha_j^{(k)}Z_j,\n",
    "$$\n",
    "\n",
    "and we can use gradient descent to optimize the values of $\\alpha_j^{(k)}$.\n",
    "\n",
    "### Frame-shifted oracle\n",
    "Since we have a warm-start VQE circuit $Q$, we address the problem of preparing the ground state of the input Hamiltonian $H_0$ by considering a frame-shifted $A_0 = Q^\\dagger H_0 Q$. We would then have\n",
    "$$\n",
    "E^{(k)}=\\langle \\psi_k|H_0|\\psi_k\\rangle = \\langle 0|A_{k+1}|0\\rangle.\n",
    "$$\n",
    "Thus this warm-start mechanism allows us to interface VQE and DBQA by defining a common cost function.\n",
    "\n",
    "### Group commutator iteration\n",
    "In a group commutator iteration (GCI), we have $$J_{k+1}= U_k^\\dagger J_k U_k$$\n",
    "which is obtained by a product formula for $U_k$ [2].\n",
    "We will use two examples\n",
    "$$P_k = e^{is D_k} e^{is J_k} e^{-isD_k}$$\n",
    "and\n",
    "$$Q_k = e^{-is J_k}e^{is D_k} e^{is J_k} e^{-isD_k}$$\n",
    "\n",
    "We can show that\n",
    "$$J_{k+1}= P_k^\\dagger J_k P_k= Q_k^\\dagger J_k Q_k$$\n",
    "because of a reduction by means of a commutator vanishing (the ordering was chosen on purpose).\n",
    "\n",
    "This means that the group commutator $P_k$ and the reduced $Q_k$ schemes should give the same `GroupCommutatorIterationWithEvolutionOracles.h`. Additionally that should be also `DoubleBracketIteration.h` as long as the ordering is correct.\n",
    "\n",
    "[1] L. Xiaoyue et al., “Strategies for optimizing double-bracket quantum algorithms,” Aug. 14, 2024, arXiv: arXiv:2408.07431. doi: 10.48550/arXiv.2408.07431. https://arxiv.org/abs/2408.07431 \n",
    "\n",
    "[2] Y.-A. Chen, A. M. Childs, M. Hafezi, Z. Jiang, H. Kim, and Y. Xu, “Efficient product formulas for commutators and applications to quantum simulation,” Phys. Rev. Research, vol. 4, no. 1, p. 013191, Mar. 2022, doi: 10.1103/PhysRevResearch.4.013191. https://journals.aps.org/prresearch/abstract/10.1103/PhysRevResearch.4.013191 "
   ]
  },
  {
   "cell_type": "markdown",
   "metadata": {},
   "source": [
    "### GCI procedure\n",
    "We describe the procedure for preparing a GCI circuit:\n",
    "\n",
    "1. Initialize base oracle evolution oracle of the input Hamiltonian: it outputs circuits that performs $e^{-itH_0}$; we use 2nd order Trotter-Suzuki and then recompile the 2 qubit unitaries into CNOT; evolution oracles are data structures to keep track of how the Hamiltonian simulation is done, it should output a circuit which will be used whenever DBQA needs to run the evolution governed by the input Hamiltonian $H_0$\n",
    "\n",
    "2. Generate the frame-shifted evolution oracle: compose the VQE circuit $Q$ with the base oracle to get $A_0=Q^\\dagger H_0 Q$ as the new Hamiltonian to train GCI on\n",
    "\n",
    "3. Initialize the GCI: determine the group commutator approximation and define the parameterization for $D_k$. \n",
    "\n",
    "Using the magnetic field parameterization will use no CZ gates and will give qualitatively similar results. We recommend this in presence of noise, especially for the early steps when running more DBQA steps"
   ]
  },
  {
   "cell_type": "code",
   "execution_count": null,
   "metadata": {},
   "outputs": [],
   "source": [
    "base_oracle = XXZ_EvolutionOracle.from_nqubits(\n",
    "    nqubits=nqubits, delta=0.5, steps=2, order=2\n",
    ")\n",
    "# the following circuit performs exp{-0.01iH}\n",
    "base_circ = base_oracle.circuit(t_duration=0.01)\n",
    "print(base_circ.draw())"
   ]
  },
  {
   "cell_type": "code",
   "execution_count": null,
   "metadata": {},
   "outputs": [],
   "source": [
    "frame_oracle = FrameShiftedEvolutionOracle.from_evolution_oracle(\n",
    "    circuit_frame=vqe_circ,\n",
    "    base_evolution_oracle=base_oracle,\n",
    ")"
   ]
  },
  {
   "cell_type": "code",
   "execution_count": null,
   "metadata": {},
   "outputs": [],
   "source": [
    "# db_rotation = DoubleBracketRotationType.group_commutator_third_order_reduced\n",
    "dbr_type = DoubleBracketRotationType.group_commutator_reduced\n",
    "gci = GroupCommutatorIterationWithEvolutionOracles(\n",
    "        frame_oracle,\n",
    "        dbr_type\n",
    "    )"
   ]
  },
  {
   "cell_type": "code",
   "execution_count": null,
   "metadata": {},
   "outputs": [],
   "source": [
    "eo_d_type = MagneticFieldEvolutionOracle\n",
    "print(\n",
    "        f\"The gci mode is {gci.mode} rotation with {eo_d_type.__name__} as the oracle.\\n\"\n",
    "    )"
   ]
  },
  {
   "cell_type": "code",
   "execution_count": null,
   "metadata": {},
   "outputs": [],
   "source": [
    "# GCI settings\n",
    "steps = 1\n",
    "optimization_method = \"sgd\"\n",
    "gd_epochs = 10\n",
    "opt_options = {'gd_epochs':gd_epochs, }"
   ]
  },
  {
   "cell_type": "code",
   "execution_count": null,
   "metadata": {},
   "outputs": [],
   "source": [
    "for gci_step_nmb in range(steps):\n",
    "    logging.info(\n",
    "        \"\\n################################################################################\\n\"\n",
    "        + f\"Optimizing GCI step {gci_step_nmb+1} with optimizer {optimization_method}\"\n",
    "        + \"\\n################################################################################\\n\"\n",
    "    )\n",
    "    it = time.time()\n",
    "    if optimization_method == \"sgd\":\n",
    "        params = (\n",
    "            [4 - np.sin(x / 3) for x in range(nqubits)]\n",
    "            if eo_d_type == MagneticFieldEvolutionOracle\n",
    "            else [4 - np.sin(x / 3) for x in range(nqubits)] + nqubits * [1]\n",
    "        )\n",
    "        mode, best_s, best_b, eo_d = select_recursion_step_gd_circuit(\n",
    "            gci,\n",
    "            mode=dbr_type,\n",
    "            eo_d_type=eo_d_type,\n",
    "            params=params,\n",
    "            step_grid=np.linspace(1e-5, 2e-2, 30),\n",
    "            lr_range=(1e-3, 1),\n",
    "            nmb_gd_epochs=gd_epochs,\n",
    "            threshold=1e-4,\n",
    "            max_eval_gd=30,\n",
    "        )\n",
    "\n",
    "        opt_dict = {\"sgd_extras\": \"To be defined\"}\n",
    "\n",
    "    else:\n",
    "        if gci_step_nmb == 0:\n",
    "            p0 = [0.01]\n",
    "            if eo_d_type == MagneticFieldEvolutionOracle:\n",
    "                p0.extend([4 - np.sin(x / 3) for x in range(nqubits)])\n",
    "            elif eo_d_type == IsingNNEvolutionOracle:\n",
    "                p0.extend(\n",
    "                    [4 - np.sin(x / 3) for x in range(nqubits)] + nqubits * [1]\n",
    "                )\n",
    "\n",
    "        else:\n",
    "            p0 = [best_s]\n",
    "            p0.extend(best_b)\n",
    "        optimized_params, opt_dict = optimize_D(\n",
    "            params=p0,\n",
    "            gci=gci,\n",
    "            eo_d_type=eo_d_type,\n",
    "            mode=dbr_type,\n",
    "            method=optimization_method,\n",
    "            **opt_options,\n",
    "        )\n",
    "        best_s = optimized_params[0]\n",
    "        best_b = optimized_params[1:]\n",
    "        eo_d = eo_d_type.load(best_b)\n",
    "\n",
    "    step_data = dict(\n",
    "        best_s=best_s,\n",
    "        eo_d_name=eo_d.__class__.__name__,\n",
    "        eo_d_params=eo_d.params,\n",
    "    )\n",
    "    logging.info(f\"Total optimization time required: {time.time() - it} seconds\")\n",
    "    gci.mode_double_bracket_rotation = dbr_type\n",
    "\n",
    "    gci(best_s, eo_d, dbr_type)\n"
   ]
  },
  {
   "cell_type": "markdown",
   "metadata": {},
   "source": [
    "### Result analysis\n",
    "\n",
    "In this analysis, we will look at the following attributes:\n",
    "\n",
    "1. Fidelity\n",
    "$$\n",
    "F(\\rho, \\sigma) = \\text{tr}^{2}\\left( \\sqrt{\\sqrt{\\sigma}\n",
    "        \\rho^{\\dagger}\\sqrt{\\sigma}} \\right)\n",
    "$$\n",
    "in our case, we are comparing the approximated ground state of our hamiltonian $|\\psi_k\\rang=U_k|0\\rang=V_k...V_0Q|0\\rang$ and its analytical ground state. Note that when $L$ is odd, the ground states are degenerate, which can lead to wrong fidelity values.\n",
    "\n",
    "2. Fidelity witness [1]\n",
    "Fidelity witness is an experimentally-friendly measure to find the closeness between a target pure state $|\\phi\\rang$ and an experimental/simulated state $\\rho$. It provides a lower bound for the fidelity.\n",
    "Specifically,\n",
    "$$ 1-|Tr(H_0\\rho)-\\lang\\phi|H_0|\\phi\\rang|/\\Delta \\le F(|\\phi\\rang, \\rho),\n",
    "$$\n",
    "where $\\Delta$ is the first energy gap of the input Hamiltonian $H_0$.\n",
    "\n",
    "[1] M. Gluza, M. Kliesch, J. Eisert, and L. Aolita, “Fidelity Witnesses for Fermionic Quantum Simulations,” Phys. Rev. Lett., vol. 120, no. 19, p. 190501, May 2018, doi: 10.1103/PhysRevLett.120.190501. https://journals.aps.org/prl/abstract/10.1103/PhysRevLett.120.190501 "
   ]
  },
  {
   "cell_type": "code",
   "execution_count": null,
   "metadata": {},
   "outputs": [],
   "source": [
    "from qibo.quantum_info.metrics import fidelity"
   ]
  },
  {
   "cell_type": "code",
   "execution_count": null,
   "metadata": {},
   "outputs": [],
   "source": [
    "def report(vqe_circ, hamiltonian, gci, step, eo_d, mode):\n",
    "    energies = hamiltonian.eigenvalues()\n",
    "    ground_state_energy = float(energies[0])\n",
    "    vqe_energy = float(hamiltonian.expectation(vqe_circ().state()))\n",
    "    gci_loss = float(gci.loss(step, eo_d, mode))\n",
    "    gap = float(energies[1] - energies[0])\n",
    "\n",
    "    return (\n",
    "        dict(\n",
    "            nqubits=hamiltonian.nqubits,\n",
    "            gci_loss=float(gci_loss),\n",
    "            vqe_energy=float(vqe_energy),\n",
    "            target_energy=ground_state_energy,\n",
    "            diff_vqe_target=vqe_energy - ground_state_energy,\n",
    "            diff_gci_target=gci_loss - ground_state_energy,\n",
    "            gap=gap,\n",
    "            diff_vqe_target_perc=abs(vqe_energy - ground_state_energy)\n",
    "            / abs(ground_state_energy)\n",
    "            * 100,\n",
    "            diff_gci_target_perc=abs(gci_loss - ground_state_energy)\n",
    "            / abs(ground_state_energy)\n",
    "            * 100,\n",
    "            fidelity_witness_vqe=1 - (vqe_energy - ground_state_energy) / gap,\n",
    "            fidelity_witness_gci=1 - (gci_loss - ground_state_energy) / gap,\n",
    "            fidelity_vqe=fidelity(vqe_circ().state(), hamiltonian.ground_state()),\n",
    "            fidelity_gci=fidelity(\n",
    "                gci.get_composed_circuit(best_s, eo_d, dbr_type)().state(), hamiltonian.ground_state()\n",
    "            ),\n",
    "        )\n",
    "        | gci.get_gate_count_dict(gci.get_composed_circuit(best_s, eo_d, dbr_type))\n",
    "    )\n",
    "    \n",
    "def print_report(report: dict):\n",
    "    print(\n",
    "        f\"\\\n",
    "    The target energy is {report['target_energy']}\\n\\\n",
    "    The VQE energy is {report['vqe_energy']} \\n\\\n",
    "    The DBQA energy is {report['gci_loss']}. \\n\\\n",
    "    The difference is for VQE is {report['diff_vqe_target']} \\n\\\n",
    "    and for the DBQA {report['diff_gci_target']} \\n\\\n",
    "    which can be compared to the spectral gap {report['gap']}.\\n\\\n",
    "    The relative difference is \\n\\\n",
    "        - for VQE {report['diff_vqe_target_perc']}% \\n\\\n",
    "        - for DBQA {report['diff_gci_target_perc']}%.\\n\\\n",
    "    The energetic fidelity witness of the ground state is: \\n\\\n",
    "        - for the VQE  {report['fidelity_witness_vqe']} \\n\\\n",
    "        - for DBQA {report['fidelity_witness_gci']}\\n\\\n",
    "    The true fidelity is \\n\\\n",
    "        - for the VQE  {report['fidelity_vqe']}\\n\\\n",
    "        - for DBQA {report['fidelity_gci']}\\n\\\n",
    "                    \"\n",
    "    )\n",
    "    print(\n",
    "        f\"The boosting circuit used {report['nmb_cnot']} CNOT gates coming from compiled XXZ evolution and {report['nmb_cz']} CZ gates from VQE.\\n\\\n",
    "For {report['nqubits']} qubits this gives n_CNOT/n_qubits = {report['nmb_cnot_relative']} and n_CZ/n_qubits = {report['nmb_cz_relative']}\"\n",
    "    )"
   ]
  },
  {
   "cell_type": "code",
   "execution_count": null,
   "metadata": {},
   "outputs": [],
   "source": [
    "this_report = report(vqe_circ, ham, gci, best_s, eo_d, dbr_type)\n",
    "print_report(this_report)"
   ]
  },
  {
   "cell_type": "markdown",
   "metadata": {},
   "source": [
    "We see that based on the numerical simulation, a simple step of GCI DBQA further lowered the loss. From here, we can export the VQE+DBQA circuit in QASM format"
   ]
  },
  {
   "cell_type": "code",
   "execution_count": null,
   "metadata": {},
   "outputs": [],
   "source": [
    "composed_circ = gci.get_composed_circuit(best_s, eo_d, dbr_type)"
   ]
  },
  {
   "cell_type": "code",
   "execution_count": null,
   "metadata": {},
   "outputs": [],
   "source": [
    "vqe_c = models.Circuit.to_qasm(vqe_circ)\n",
    "gci_c = models.Circuit.to_qasm(composed_circ)"
   ]
  },
  {
   "cell_type": "code",
   "execution_count": null,
   "metadata": {},
   "outputs": [],
   "source": [
    "folder_path = f'results/circuit_qasm/{optimizer}_{nqubits}q_{nlayer}l_XXZ/'\n",
    "os.makedirs(folder_path, exist_ok=True)\n",
    "with open(folder_path + f\"vqe_circ.qasm\", \"w\") as file:\n",
    "    file.write(vqe_c)\n",
    "\n",
    "with open(folder_path + f\"gci_circ.qasm\", \"w\") as file:\n",
    "    file.write(gci_c)"
   ]
  }
 ],
 "metadata": {
  "kernelspec": {
   "display_name": "Python 3",
   "language": "python",
   "name": "python3"
  },
  "language_info": {
   "codemirror_mode": {
    "name": "ipython",
    "version": 3
   },
   "file_extension": ".py",
   "mimetype": "text/x-python",
   "name": "python",
   "nbconvert_exporter": "python",
   "pygments_lexer": "ipython3",
   "version": "3.11.10"
  }
 },
 "nbformat": 4,
 "nbformat_minor": 2
}
