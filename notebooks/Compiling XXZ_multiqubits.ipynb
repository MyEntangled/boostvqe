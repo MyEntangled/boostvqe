{
 "cells": [
  {
   "cell_type": "code",
   "execution_count": 72,
   "id": "dcb949ba",
   "metadata": {},
   "outputs": [],
   "source": [
    "from qibo.models.variational import VQE\n",
    "# from boostvqe.ansatze import build_circuit\n",
    "from qibo import hamiltonians, Circuit,gates\n",
    "from pathlib import Path\n",
    "import numpy as np\n",
    "import scipy"
   ]
  },
  {
   "cell_type": "markdown",
   "id": "1a2f1bfb",
   "metadata": {},
   "source": [
    "## CNOT + single qubit rotation decomposition of each 2-qubit XXZ evolution for n-qubit XXZ Trotterisation"
   ]
  },
  {
   "cell_type": "code",
   "execution_count": 73,
   "id": "a3ca4b1e",
   "metadata": {},
   "outputs": [],
   "source": [
    "def single_XXZ_decomposition(nqubits,q_i,q_ip1,t,delta):\n",
    "#     This is a code that decomposes e^{-it(XX + YY + delta*ZZ)}\n",
    "    alpha = -t\n",
    "    beta = -t\n",
    "    gamma = -delta*t\n",
    "    circuit = Circuit(nqubits = nqubits)\n",
    "    circuit.add(gates.RZ(q_ip1, -np.pi/2))\n",
    "    circuit.add(gates.CNOT(q_ip1, q_i))\n",
    "    circuit.add(gates.RZ(q_i, -2*gamma + np.pi/2))\n",
    "    circuit.add(gates.RY(q_ip1, -np.pi/2+2*alpha))\n",
    "    circuit.add(gates.CNOT(q_i, q_ip1))\n",
    "    circuit.add(gates.RY(q_ip1, -2*beta + np.pi/2))\n",
    "    circuit.add(gates.CNOT(q_ip1, q_i))\n",
    "    circuit.add(gates.RZ(q_i, np.pi/2))\n",
    "    return circuit"
   ]
  },
  {
   "cell_type": "markdown",
   "id": "44f29e1d",
   "metadata": {},
   "source": [
    "## Test for 2-qubit XXZ"
   ]
  },
  {
   "cell_type": "code",
   "execution_count": 74,
   "id": "27b93b77",
   "metadata": {},
   "outputs": [],
   "source": [
    "delta = 3\n",
    "t = 1\n",
    "# Multiplying 0.5 to h_xxz for making it h_XXZ = (XX + YY + delta*ZZ)\n",
    "# Without this multiplication, we get h_XXZ = 2(XX + YY + delta*ZZ) due to the periodic BC of hamiltonians.XXZ\n",
    "h_xxz = 0.5*hamiltonians.XXZ(nqubits=2, delta = delta)\n",
    "circ = single_XXZ_decomposition(nqubits = 2,q_i = 0,q_ip1 = 1,t = t,delta = delta)"
   ]
  },
  {
   "cell_type": "code",
   "execution_count": 75,
   "id": "2f4d2ee8",
   "metadata": {},
   "outputs": [
    {
     "name": "stdout",
     "output_type": "stream",
     "text": [
      "[[-7.99817322e-01+6.00243493e-01j  0.00000000e+00+0.00000000e+00j\n",
      "   0.00000000e+00+0.00000000e+00j -1.96261557e-17-1.96261557e-17j]\n",
      " [ 0.00000000e+00+0.00000000e+00j  2.49789431e-01-3.32841449e-01j\n",
      "   7.27271833e-01+5.45799864e-01j  0.00000000e+00+0.00000000e+00j]\n",
      " [ 0.00000000e+00+0.00000000e+00j  7.27271833e-01+5.45799864e-01j\n",
      "   2.49789431e-01-3.32841449e-01j  0.00000000e+00+0.00000000e+00j]\n",
      " [-1.96261557e-17-1.96261557e-17j  0.00000000e+00+0.00000000e+00j\n",
      "   0.00000000e+00+0.00000000e+00j -7.99817322e-01+6.00243493e-01j]]\n",
      "[[-0.9899925 -0.14112001j  0.        +0.j          0.        +0.j\n",
      "   0.        +0.j        ]\n",
      " [ 0.        +0.j          0.41198225-0.05872664j  0.12832006+0.90019763j\n",
      "   0.        +0.j        ]\n",
      " [ 0.        +0.j          0.12832006+0.90019763j  0.41198225-0.05872664j\n",
      "   0.        +0.j        ]\n",
      " [ 0.        +0.j          0.        +0.j          0.        +0.j\n",
      "  -0.9899925 -0.14112001j]]\n"
     ]
    },
    {
     "data": {
      "text/plain": [
       "7.838800601857069e-16"
      ]
     },
     "execution_count": 75,
     "metadata": {},
     "output_type": "execute_result"
    }
   ],
   "source": [
    "u = h_xxz.exp(t)\n",
    "v = circ.unitary()\n",
    "print(v)\n",
    "print(u)\n",
    "np.linalg.norm(u-(1+1j)*v/np.sqrt(2))"
   ]
  },
  {
   "cell_type": "markdown",
   "id": "b6884a38",
   "metadata": {},
   "source": [
    "## n-qubit function (even qubits for now)"
   ]
  },
  {
   "cell_type": "code",
   "execution_count": 111,
   "id": "805ff7a1",
   "metadata": {
    "scrolled": true
   },
   "outputs": [
    {
     "name": "stdout",
     "output_type": "stream",
     "text": [
      "q0: ────X─RZ─o────X─RZ─\n",
      "q1: ─RZ─o─RY─X─RY─o────\n"
     ]
    }
   ],
   "source": [
    "def nqubit_XXZ_decomposition(nqubits,t,delta,steps):\n",
    "    dt = t/steps\n",
    "    alpha = -dt\n",
    "    beta = -dt\n",
    "    gamma = -delta*dt\n",
    "    circuit = Circuit(nqubits = nqubits)\n",
    "    even_qubits = np.arange(0,nqubits,2)\n",
    "    odd_qubits = np.arange(1,nqubits,2)\n",
    "    if nqubits%2 == 0:\n",
    "#         commented out RZ rotations that cancel out with each other\n",
    "#         circuit.add(gates.RZ(q_i+1, -np.pi/2) for q_i in even_qubits)\n",
    "        circuit.add(gates.CNOT(q_i+1, q_i) for q_i in even_qubits)\n",
    "        circuit.add(gates.RZ(q_i, -2*gamma + np.pi/2) for q_i in even_qubits)\n",
    "        circuit.add(gates.RY(q_i+1, -np.pi/2+2*alpha) for q_i in even_qubits)\n",
    "        circuit.add(gates.CNOT(q_i, q_i+1) for q_i in even_qubits)\n",
    "        circuit.add(gates.RY(q_i+1, -2*beta + np.pi/2) for q_i in even_qubits)\n",
    "        circuit.add(gates.CNOT(q_i+1, q_i) for q_i in even_qubits)\n",
    "        \n",
    "        circuit.add(gates.CNOT(even_qubits[n],odd_qubits[n-1]) for n in range(nqubits//2))\n",
    "        circuit.add(gates.RZ(q_i+1, -2*gamma + np.pi/2) for q_i in even_qubits)\n",
    "        circuit.add(gates.RY(q_i, -np.pi/2+2*alpha) for q_i in even_qubits)\n",
    "        circuit.add(gates.CNOT(odd_qubits[n-1],even_qubits[n]) for n in range(nqubits//2))\n",
    "        circuit.add(gates.RY(q_i, -2*beta + np.pi/2) for q_i in even_qubits)\n",
    "        circuit.add(gates.CNOT(even_qubits[n],odd_qubits[n-1]) for n in range(nqubits//2))\n",
    "#         circuit.add(gates.RZ(q_i+1, np.pi/2) for q_i in even_qubits)\n",
    "        \n",
    "        multi_layer = Circuit(nqubits = nqubits)\n",
    "        multi_layer.add(gates.RZ(q_i+1, -np.pi/2) for q_i in even_qubits)\n",
    "        for step in range(steps):\n",
    "            multi_layer += circuit\n",
    "        multi_layer.add(gates.RZ(q_i+1, np.pi/2) for q_i in even_qubits)\n",
    "        return multi_layer"
   ]
  },
  {
   "cell_type": "code",
   "execution_count": 132,
   "id": "8278c88e",
   "metadata": {},
   "outputs": [
    {
     "data": {
      "text/plain": [
       "0.06976539623568771"
      ]
     },
     "execution_count": 132,
     "metadata": {},
     "output_type": "execute_result"
    }
   ],
   "source": [
    "t = 1\n",
    "steps = 20\n",
    "delta=0.5\n",
    "nqubits=4\n",
    "\n",
    "h_xxz = hamiltonians.XXZ(nqubits=nqubits, delta = delta)\n",
    "u = h_xxz.exp(t)\n",
    "circ = nqubit_XXZ_decomposition(nqubits=nqubits,t=t,delta=delta,steps=steps)\n",
    "v = circ.unitary()\n",
    "np.linalg.norm(u-np.exp(nqubits*steps*1j*np.pi/4)*v)"
   ]
  }
 ],
 "metadata": {
  "kernelspec": {
   "display_name": "Python 3 (ipykernel)",
   "language": "python",
   "name": "python3"
  },
  "language_info": {
   "codemirror_mode": {
    "name": "ipython",
    "version": 3
   },
   "file_extension": ".py",
   "mimetype": "text/x-python",
   "name": "python",
   "nbconvert_exporter": "python",
   "pygments_lexer": "ipython3",
   "version": "3.9.13"
  }
 },
 "nbformat": 4,
 "nbformat_minor": 5
}
