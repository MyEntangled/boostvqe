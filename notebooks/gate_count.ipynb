{
 "cells": [
  {
   "cell_type": "code",
   "execution_count": 3,
   "id": "dddc0a04-09d9-4f87-a9f0-3e5cf2f7c06e",
   "metadata": {},
   "outputs": [],
   "source": [
    "from qibo import Circuit, gates"
   ]
  },
  {
   "cell_type": "code",
   "execution_count": 4,
   "id": "1769ef50-bd6d-4bd4-864e-90c44810620a",
   "metadata": {},
   "outputs": [],
   "source": [
    "def build_circuit(nqubits, nlayers):\n",
    "    \"\"\"Build qibo's aavqe example circuit.\"\"\"\n",
    "\n",
    "    circuit = Circuit(nqubits)\n",
    "    for _ in range(nlayers):\n",
    "        circuit.add(gates.RY(q, theta=0) for q in range(nqubits))\n",
    "        circuit.add(gates.RZ(q, theta=0) for q in range(nqubits))\n",
    "        circuit.add(gates.CZ(q, q + 1) for q in range(0, nqubits - 1, 2))\n",
    "        circuit.add(gates.RY(q, theta=0) for q in range(nqubits))\n",
    "        circuit.add(gates.RZ(q, theta=0) for q in range(nqubits))\n",
    "        circuit.add(gates.CZ(q, q + 1) for q in range(1, nqubits - 2, 2))\n",
    "        circuit.add(gates.CZ(0, nqubits - 1))\n",
    "    circuit.add(gates.RY(q, theta=0) for q in range(nqubits))\n",
    "\n",
    "    return circuit"
   ]
  },
  {
   "cell_type": "code",
   "execution_count": 7,
   "id": "3eb00de8-5185-48ca-82cd-0c2606f2028d",
   "metadata": {},
   "outputs": [],
   "source": [
    "nqubits = 10\n",
    "nlayers = 15\n",
    "\n",
    "c = build_circuit(nqubits, nlayers)"
   ]
  },
  {
   "cell_type": "code",
   "execution_count": 8,
   "id": "b311e312-8b14-47a8-9c75-66c7a62f285f",
   "metadata": {},
   "outputs": [
    {
     "name": "stdout",
     "output_type": "stream",
     "text": [
      "Circuit depth = 91\n",
      "Total number of gates = 760\n",
      "Number of qubits = 10\n",
      "Most common gates:\n",
      "ry: 310\n",
      "rz: 300\n",
      "cz: 150\n"
     ]
    }
   ],
   "source": [
    "print(c.summary())"
   ]
  },
  {
   "cell_type": "markdown",
   "id": "dafb2479-affd-48c4-bcd9-03d57874fcad",
   "metadata": {},
   "source": [
    "#### Pure VQE training\n",
    "\n",
    "In the following we consider results with equal accuracy in the ground state approximation.\n",
    "\n",
    "We call $N_{2q}$ the total number of 2-qubit gates of a VQE.\n",
    "\n",
    "**Worst case**: gradient descent on hardware. We need 2 expectation values for each parameter of the circuit to compute the derivative. Then you need to compute it for each epoch of training. The total number of circuit execution to evaluate the gradient is $K=2p$, with $p$ number of params.\n",
    "\n",
    "Considering a training of $N_{ep}$ the total cost is $N_{ep}\\cdot t_{1c} \\cdot K$.\n",
    "\n",
    "$$ N_{tot} = K \\cdot N_{2q} \\cdot N_{ep} = N_{vqe} \\cdot N_{ep}$$ \n",
    "\n",
    "In the best case scenario the loss function requires only one expected value for each optimization iteration and then $K=1$.\n",
    "\n",
    "#### Hybrid VQE-DBI training\n",
    "\n",
    "The cost of one epoch of VQE training can be different if the size of the VQE will change. \n",
    "\n",
    "$$ N'_{tot} = K' \\cdot N'_{2q} \\cdot N'_{ep} + N_{2q, dbi}(n_{step}) = N'_{vqe} \\cdot N'_{ep} + N_{2q, dbi}(n_{step})$$\n",
    "\n",
    "#### Metric\n",
    "\n",
    "We define the metric \n",
    "\n",
    "$$ \\chi = \\frac{N_{tot}}{N'_{tot}} = \\frac{N_{vqe} \\cdot N_{ep}}{N'_{vqe} \\cdot N'_{ep} + N_{2q, dbi}(n_{step})}. $$ \n",
    "\n",
    "In which configuration it happens $\\chi \\geq 1$?"
   ]
  },
  {
   "cell_type": "markdown",
   "id": "329c5458-76a2-4d3f-b3e1-b219d2568aea",
   "metadata": {},
   "source": [
    "#### Evaluation procedure\n",
    "\n",
    "1. The number of qubits is fixed by the target Hamiltonian. Ideally enough large to ensure presence of Barren Plateaus;\n",
    "2. The number of DBI steps is fixed so that the number of 2-qubit gates doesn't explode; \n",
    "3. Fix $\\varepsilon$ as target accuracy in the energy approximation;\n",
    "    1. **Start pure VQE trainig:** we repeat the training, changing the number of layers and epochs. We select the models that can approximate $E_0$ with accuracy $\\leq \\varepsilon$, and we pick the epoch-layers couple that minimize $N_{tot}$. In this way $N_{tot}$ is fixed.\n",
    "    3. **Start hybrid training:** run VQE trainings for increasing number of layers and epochs until the accuracy is $\\leq \\varepsilon$;\n",
    "    4. evaluate $N'_{tot}$.\n",
    "    5. Evaluate the $\\chi$ matrix varying layers and epochs of the hybrid training.\n",
    "\n",
    "With the matrix we could evaluate the regime where the hybrid training has similar performances of the pure training in terms of accuracy and number of gates used."
   ]
  },
  {
   "cell_type": "code",
   "execution_count": null,
   "id": "d216adf3-0481-4b19-bd8d-abbb2902bb4d",
   "metadata": {},
   "outputs": [],
   "source": []
  }
 ],
 "metadata": {
  "kernelspec": {
   "display_name": "Python 3 (ipykernel)",
   "language": "python",
   "name": "python3"
  },
  "language_info": {
   "codemirror_mode": {
    "name": "ipython",
    "version": 3
   },
   "file_extension": ".py",
   "mimetype": "text/x-python",
   "name": "python",
   "nbconvert_exporter": "python",
   "pygments_lexer": "ipython3",
   "version": "3.9.13"
  }
 },
 "nbformat": 4,
 "nbformat_minor": 5
}
