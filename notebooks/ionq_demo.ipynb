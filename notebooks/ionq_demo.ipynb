{
 "cells": [
  {
   "cell_type": "markdown",
   "metadata": {},
   "source": [
    "# IonQ Boostvqe demo\n",
    "\n",
    "In this notebook, we demonstrate how to run boostvqe on IonQ emulators (similarly hardwarws with some backend modifications).\n",
    "\n",
    "We are following on the DBQA GCI circuit synthesis notebook, which can be found following the link: https://github.com/qiboteam/boostvqe/blob/quantinuum_boostvqe-demo/notebooks/quantinuum_demo/gci_boostvqe_circuit_synthesis.ipynb\n",
    "\n",
    "It supplies a VQE and a GCI circuits in QASM format which we will load our circuits from."
   ]
  },
  {
   "cell_type": "markdown",
   "metadata": {},
   "source": [
    "## Step 1: Load circuits"
   ]
  },
  {
   "cell_type": "code",
   "execution_count": 16,
   "metadata": {},
   "outputs": [],
   "source": [
    "import numpy as np\n",
    "from qiskit import QuantumCircuit\n",
    "from qiskit.quantum_info import Statevector\n",
    "from qibo import hamiltonians\n",
    "import matplotlib.pyplot as plt\n",
    "from ionq_utils import *\n",
    "from scipy.linalg import eigvalsh"
   ]
  },
  {
   "cell_type": "code",
   "execution_count": 17,
   "metadata": {},
   "outputs": [],
   "source": [
    "# file paths\n",
    "vqe_circ_file = \"results/vqe_circ_4.qasm\"\n",
    "gci_circ_file = \"results/gci_circ_4.qasm\""
   ]
  },
  {
   "cell_type": "code",
   "execution_count": 18,
   "metadata": {},
   "outputs": [],
   "source": [
    "vqe_circ = QuantumCircuit.from_qasm_file(vqe_circ_file)\n",
    "# render_circuit_jupyter(vqe_circ)"
   ]
  },
  {
   "cell_type": "code",
   "execution_count": 19,
   "metadata": {},
   "outputs": [],
   "source": [
    "gci_circ = QuantumCircuit.from_qasm_file(gci_circ_file)\n",
    "# render_circuit_jupyter(gci_circ)"
   ]
  },
  {
   "cell_type": "markdown",
   "metadata": {},
   "source": [
    "### Check analytical energy\n",
    "\n",
    "In this step we are making sure that the correct circuits have been imported."
   ]
  },
  {
   "cell_type": "code",
   "execution_count": 20,
   "metadata": {},
   "outputs": [],
   "source": [
    "# create target hamiltonian in qiskit\n",
    "ham = xxz_hamiltonian(4, 0.5)\n",
    "ham_matrix = ham.to_matrix()\n",
    "target_energy = min(eigvalsh(ham_matrix))"
   ]
  },
  {
   "cell_type": "code",
   "execution_count": 21,
   "metadata": {},
   "outputs": [
    {
     "name": "stdout",
     "output_type": "stream",
     "text": [
      "Target energy: -6.74456264653803\n",
      "VQE energy: -6.309812021233839\n",
      "GCI energy: -6.741347828261663\n"
     ]
    }
   ],
   "source": [
    "state_vec_vqe = Statevector.from_instruction(vqe_circ)\n",
    "expectation_value_vqe = np.real(np.dot(state_vec_vqe.data.conj().T, np.dot(ham_matrix, state_vec_vqe.data)))\n",
    "state_vec_gci = Statevector.from_instruction(gci_circ)\n",
    "expectation_value_gci = np.real(np.dot(state_vec_gci.data.conj().T, np.dot(ham_matrix, state_vec_gci.data)))\n",
    "print(\"Target energy:\", target_energy)\n",
    "print(\"VQE energy:\", expectation_value_vqe)\n",
    "print(\"GCI energy:\", expectation_value_gci)"
   ]
  },
  {
   "cell_type": "markdown",
   "metadata": {},
   "source": [
    "## Step 2: Connect to IonQ server"
   ]
  },
  {
   "cell_type": "code",
   "execution_count": 22,
   "metadata": {},
   "outputs": [
    {
     "name": "stderr",
     "output_type": "stream",
     "text": [
      "/Users/pethidine/Documents/GitHub/boostvqe/.conda/lib/python3.11/site-packages/qiskit_ionq/helpers.py:563: UserWarning: Unable to get qubit count for simulator: 'qubits'. Defaulting to 100.\n",
      "  warnings.warn(\n",
      "/Users/pethidine/Documents/GitHub/boostvqe/.conda/lib/python3.11/site-packages/qiskit_ionq/helpers.py:563: UserWarning: Unable to get qubit count for ionq_qpu: 'qubits'. Defaulting to 100.\n",
      "  warnings.warn(\n",
      "/Users/pethidine/Documents/GitHub/boostvqe/.conda/lib/python3.11/site-packages/qiskit_ionq/helpers.py:563: UserWarning: Unable to get qubit count for ionq_simulator: 'qubits'. Defaulting to 100.\n",
      "  warnings.warn(\n"
     ]
    }
   ],
   "source": [
    "from qiskit_ionq import IonQProvider\n",
    "from copy import deepcopy\n",
    "\n",
    "my_api_key = \"pOiUVlzriOoF2wX1kp3lIqid1OMhwXZ5\"\n",
    "provider = IonQProvider(my_api_key)\n",
    "ionq_backend = provider.get_backend(\"ionq_simulator\")"
   ]
  },
  {
   "cell_type": "markdown",
   "metadata": {},
   "source": [
    "## Step 3: Prepare measurement circuits\n",
    "\n",
    "In this step, we prepare a list of measurement circuits to measure the energy expectation of the Hamiltonian.\n",
    "Since our example uses XXZ model, we will need to measure the circuits in 3 separate bases:\n",
    "1. X\n",
    "2. Y\n",
    "3. Z"
   ]
  },
  {
   "cell_type": "code",
   "execution_count": null,
   "metadata": {},
   "outputs": [],
   "source": [
    "from pytket.extensions.qiskit import tk_to_qiskit\n",
    "from pytket.pauli import Pauli, QubitPauliString\n",
    "from pytket.circuit import Qubit\n",
    "from pytket.utils.operators import QubitPauliOperator"
   ]
  },
  {
   "cell_type": "code",
   "execution_count": null,
   "metadata": {},
   "outputs": [],
   "source": [
    "meas_vqe_circ_list = rotate_circuit_XYZ(vqe_circ)\n",
    "meas_gci_circ_list = rotate_circuit_XYZ(gci_circ)"
   ]
  },
  {
   "cell_type": "markdown",
   "metadata": {},
   "source": [
    "## Step 4: Define loss function\n",
    "We define a function to convert the measurement results into the expectation energy."
   ]
  },
  {
   "cell_type": "code",
   "execution_count": 43,
   "metadata": {},
   "outputs": [
    {
     "ename": "NameError",
     "evalue": "name 'meas_vqe_circ_list' is not defined",
     "output_type": "error",
     "traceback": [
      "\u001b[0;31m---------------------------------------------------------------------------\u001b[0m",
      "\u001b[0;31mNameError\u001b[0m                                 Traceback (most recent call last)",
      "Cell \u001b[0;32mIn[43], line 4\u001b[0m\n\u001b[1;32m      2\u001b[0m observable_labels \u001b[38;5;241m=\u001b[39m [\u001b[38;5;124m'\u001b[39m\u001b[38;5;124mXX\u001b[39m\u001b[38;5;124m'\u001b[39m, \u001b[38;5;124m'\u001b[39m\u001b[38;5;124mYY\u001b[39m\u001b[38;5;124m'\u001b[39m, \u001b[38;5;124m'\u001b[39m\u001b[38;5;124mZZ\u001b[39m\u001b[38;5;124m'\u001b[39m]\n\u001b[1;32m      3\u001b[0m xxz_expectation \u001b[38;5;241m=\u001b[39m \u001b[38;5;241m0\u001b[39m\n\u001b[0;32m----> 4\u001b[0m \u001b[38;5;28;01mfor\u001b[39;00m i,qc_m \u001b[38;5;129;01min\u001b[39;00m \u001b[38;5;28menumerate\u001b[39m(\u001b[43mmeas_vqe_circ_list\u001b[49m):\n\u001b[1;32m      5\u001b[0m     job \u001b[38;5;241m=\u001b[39m ionq_backend\u001b[38;5;241m.\u001b[39mrun(qc_m, shots\u001b[38;5;241m=\u001b[39mshots)\n\u001b[1;32m      6\u001b[0m     result \u001b[38;5;241m=\u001b[39m job\u001b[38;5;241m.\u001b[39mresult()\n",
      "\u001b[0;31mNameError\u001b[0m: name 'meas_vqe_circ_list' is not defined"
     ]
    }
   ],
   "source": [
    "shots = 1000\n",
    "observable_labels = ['XX', 'YY', 'ZZ']\n",
    "xxz_expectation = 0\n",
    "for i,qc_m in enumerate(meas_vqe_circ_list):\n",
    "    job = ionq_backend.run(qc_m, shots=shots)\n",
    "    result = job.result()\n",
    "    distribution = result.get_probabilities()\n",
    "    expectation = sample_to_expectation(ham_matrix, distribution)\n",
    "    xxz_expectation += expectation\n",
    "    print(observable_labels[i], expectation)\n",
    "    \n",
    "print('Expectation energy:', xxz_expectation)"
   ]
  },
  {
   "cell_type": "code",
   "execution_count": null,
   "metadata": {},
   "outputs": [
    {
     "name": "stdout",
     "output_type": "stream",
     "text": [
      "XX -1.3897576900000002\n",
      "YY -1.3910324479999998\n",
      "ZZ -1.180009208\n",
      "Expectation energy: -3.960799346\n"
     ]
    }
   ],
   "source": [
    "shots = 1000\n",
    "observable_labels = ['XX', 'YY', 'ZZ']\n",
    "xxz_expectation = 0\n",
    "for i,qc_m in enumerate(meas_gci_circ_list):\n",
    "    job = ionq_backend.run(qc_m, shots=shots)\n",
    "    result = job.result()\n",
    "    distribution = result.get_probabilities()\n",
    "    expectation = sample_to_expectation(ham_matrix, distribution)\n",
    "    xxz_expectation += expectation\n",
    "    print(observable_labels[i], expectation)\n",
    "    \n",
    "print('Expectation energy:', xxz_expectation)"
   ]
  },
  {
   "cell_type": "code",
   "execution_count": null,
   "metadata": {},
   "outputs": [
    {
     "name": "stdout",
     "output_type": "stream",
     "text": [
      "-2.7795153768806555\n",
      "-2.782064895225319\n",
      "-0.5898837780778438\n"
     ]
    }
   ],
   "source": [
    "nqubits = 4\n",
    "delta = 0.5\n",
    "xx = xxz_hamiltonian(nqubits,delta,select='XX')\n",
    "yy = xxz_hamiltonian(nqubits,delta,select='YY')\n",
    "zz = xxz_hamiltonian(nqubits,delta,select='ZZ')\n",
    "coefs = [1,1,0.5]\n",
    "observables = [xx,yy,zz]\n",
    "for i, ob in enumerate(observables):\n",
    "    expectation = coefs[i]*np.real(np.dot(state_vec_gci.data.conj().T, np.dot(ob.to_matrix(), state_vec_gci.data)))\n",
    "    print(expectation)"
   ]
  },
  {
   "cell_type": "code",
   "execution_count": null,
   "metadata": {},
   "outputs": [
    {
     "name": "stdout",
     "output_type": "stream",
     "text": [
      "XX -1.422\n",
      "YY -1.3499999999999999\n",
      "ZZ -0.589\n",
      "Expectation energy: -3.3609999999999998\n"
     ]
    }
   ],
   "source": [
    "shots = 1000\n",
    "keys_ls = []\n",
    "frequencies_ls = []\n",
    "observable_labels = ['XX', 'YY', 'ZZ']\n",
    "xxz_expectation = 0\n",
    "for i,qc_m in enumerate(meas_gci_circ_list):\n",
    "    job = ionq_backend.run(qc_m, shots=shots)\n",
    "    result = job.result()\n",
    "    # Get the counts from the result\n",
    "    counts = result.get_counts()\n",
    "    keys = [key.split()[0][::-1] for key in counts.keys()]\n",
    "    sample_counts = list(counts.values())\n",
    "    frequencies = np.array(sample_counts) / sum(sample_counts)\n",
    "    ob = zz\n",
    "    coef = coefs[i]\n",
    "    dict1 = dict(zip(keys, frequencies))\n",
    "    expectation = sample_to_expectation(ob.to_matrix(), dict1)*coef\n",
    "    xxz_expectation += expectation\n",
    "    print(observable_labels[i], expectation)\n",
    "    keys_ls.append(keys)\n",
    "    frequencies_ls.append(frequencies)\n",
    "    \n",
    "print('Expectation energy:', xxz_expectation)"
   ]
  },
  {
   "cell_type": "code",
   "execution_count": null,
   "metadata": {},
   "outputs": [],
   "source": []
  }
 ],
 "metadata": {
  "kernelspec": {
   "display_name": "Python 3",
   "language": "python",
   "name": "python3"
  },
  "language_info": {
   "codemirror_mode": {
    "name": "ipython",
    "version": 3
   },
   "file_extension": ".py",
   "mimetype": "text/x-python",
   "name": "python",
   "nbconvert_exporter": "python",
   "pygments_lexer": "ipython3",
   "version": "3.11.10"
  }
 },
 "nbformat": 4,
 "nbformat_minor": 2
}
