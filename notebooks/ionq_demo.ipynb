{
 "cells": [
  {
   "cell_type": "markdown",
   "metadata": {},
   "source": [
    "# IonQ Boostvqe demo\n",
    "\n",
    "In this notebook, we demonstrate how to run boostvqe on IonQ emulators (similarly hardwarws with some backend modifications).\n",
    "\n",
    "We are following on the DBQA GCI circuit synthesis notebook, which can be found following the link: https://github.com/qiboteam/boostvqe/blob/quantinuum_boostvqe-demo/notebooks/quantinuum_demo/gci_boostvqe_circuit_synthesis.ipynb\n",
    "\n",
    "It supplies a VQE and a GCI circuits in QASM format which we will load our circuits from."
   ]
  },
  {
   "cell_type": "markdown",
   "metadata": {},
   "source": [
    "## Step 1: Load circuits"
   ]
  },
  {
   "cell_type": "code",
   "execution_count": 66,
   "metadata": {},
   "outputs": [],
   "source": [
    "import numpy as np\n",
    "from qiskit import QuantumCircuit\n",
    "from qiskit.quantum_info import Statevector\n",
    "from qibo import hamiltonians\n",
    "import matplotlib.pyplot as plt\n",
    "from ionq_utils import *\n",
    "from scipy.linalg import eigh"
   ]
  },
  {
   "cell_type": "code",
   "execution_count": 17,
   "metadata": {},
   "outputs": [],
   "source": [
    "# file paths\n",
    "vqe_circ_file = \"results/vqe_circ_4.qasm\"\n",
    "gci_circ_file = \"results/gci_circ_4.qasm\""
   ]
  },
  {
   "cell_type": "code",
   "execution_count": 18,
   "metadata": {},
   "outputs": [],
   "source": [
    "vqe_circ = QuantumCircuit.from_qasm_file(vqe_circ_file)\n",
    "# render_circuit_jupyter(vqe_circ)"
   ]
  },
  {
   "cell_type": "code",
   "execution_count": 19,
   "metadata": {},
   "outputs": [],
   "source": [
    "gci_circ = QuantumCircuit.from_qasm_file(gci_circ_file)\n",
    "# render_circuit_jupyter(gci_circ)"
   ]
  },
  {
   "cell_type": "markdown",
   "metadata": {},
   "source": [
    "### Check analytical energy\n",
    "\n",
    "In this step we are making sure that the correct circuits have been imported."
   ]
  },
  {
   "cell_type": "code",
   "execution_count": 67,
   "metadata": {},
   "outputs": [],
   "source": [
    "# create target hamiltonian in qiskit\n",
    "ham = xxz_hamiltonian(4, 0.5)\n",
    "ham_matrix = ham.to_matrix()\n",
    "eigenvalues, eigenstates = eigh(ham_matrix)\n",
    "target_energy = eigenvalues[0]"
   ]
  },
  {
   "cell_type": "code",
   "execution_count": 68,
   "metadata": {},
   "outputs": [
    {
     "name": "stdout",
     "output_type": "stream",
     "text": [
      "Target energy: -6.744562646538019\n",
      "VQE energy: -6.309812021233839\n",
      "GCI energy: -6.741347828261663\n"
     ]
    }
   ],
   "source": [
    "state_vec_vqe = Statevector.from_instruction(vqe_circ)\n",
    "expectation_value_vqe = np.real(np.dot(state_vec_vqe.data.conj().T, np.dot(ham_matrix, state_vec_vqe.data)))\n",
    "state_vec_gci = Statevector.from_instruction(gci_circ)\n",
    "expectation_value_gci = np.real(np.dot(state_vec_gci.data.conj().T, np.dot(ham_matrix, state_vec_gci.data)))\n",
    "print(\"Target energy:\", target_energy)\n",
    "print(\"VQE energy:\", expectation_value_vqe)\n",
    "print(\"GCI energy:\", expectation_value_gci)"
   ]
  },
  {
   "cell_type": "markdown",
   "metadata": {},
   "source": [
    "## Step 2: Connect to IonQ server"
   ]
  },
  {
   "cell_type": "code",
   "execution_count": 22,
   "metadata": {},
   "outputs": [
    {
     "name": "stderr",
     "output_type": "stream",
     "text": [
      "/Users/pethidine/Documents/GitHub/boostvqe/.conda/lib/python3.11/site-packages/qiskit_ionq/helpers.py:563: UserWarning: Unable to get qubit count for simulator: 'qubits'. Defaulting to 100.\n",
      "  warnings.warn(\n",
      "/Users/pethidine/Documents/GitHub/boostvqe/.conda/lib/python3.11/site-packages/qiskit_ionq/helpers.py:563: UserWarning: Unable to get qubit count for ionq_qpu: 'qubits'. Defaulting to 100.\n",
      "  warnings.warn(\n",
      "/Users/pethidine/Documents/GitHub/boostvqe/.conda/lib/python3.11/site-packages/qiskit_ionq/helpers.py:563: UserWarning: Unable to get qubit count for ionq_simulator: 'qubits'. Defaulting to 100.\n",
      "  warnings.warn(\n"
     ]
    }
   ],
   "source": [
    "from qiskit_ionq import IonQProvider\n",
    "from copy import deepcopy\n",
    "\n",
    "my_api_key = \"pOiUVlzriOoF2wX1kp3lIqid1OMhwXZ5\"\n",
    "provider = IonQProvider(my_api_key)\n",
    "ionq_backend = provider.get_backend(\"ionq_simulator\")"
   ]
  },
  {
   "cell_type": "markdown",
   "metadata": {},
   "source": [
    "## Step 3: Prepare measurement circuits\n",
    "\n",
    "In this step, we prepare a list of measurement circuits to measure the energy expectation of the Hamiltonian.\n",
    "Since our example uses XXZ model, we will need to measure the circuits in 3 separate bases:\n",
    "1. X\n",
    "2. Y\n",
    "3. Z"
   ]
  },
  {
   "cell_type": "code",
   "execution_count": null,
   "metadata": {},
   "outputs": [],
   "source": [
    "from pytket.extensions.qiskit import tk_to_qiskit\n",
    "from pytket.pauli import Pauli, QubitPauliString\n",
    "from pytket.circuit import Qubit\n",
    "from pytket.utils.operators import QubitPauliOperator"
   ]
  },
  {
   "cell_type": "code",
   "execution_count": 45,
   "metadata": {},
   "outputs": [],
   "source": [
    "meas_vqe_circ_list = rotate_circuit_XYZ(vqe_circ)\n",
    "meas_gci_circ_list = rotate_circuit_XYZ(gci_circ)"
   ]
  },
  {
   "cell_type": "markdown",
   "metadata": {},
   "source": [
    "## Step 4: Execute circuits\n"
   ]
  },
  {
   "cell_type": "code",
   "execution_count": 58,
   "metadata": {},
   "outputs": [],
   "source": [
    "zz = xxz_hamiltonian(4,1,select='ZZ').to_matrix()\n",
    "coef = [1,1,0.5]"
   ]
  },
  {
   "cell_type": "code",
   "execution_count": 59,
   "metadata": {},
   "outputs": [
    {
     "name": "stdout",
     "output_type": "stream",
     "text": [
      "XX -3.0812240639999997\n",
      "YY -1.967248336\n",
      "ZZ -1.272256812\n",
      "Expectation energy: -6.320729212\n"
     ]
    }
   ],
   "source": [
    "shots = 1000\n",
    "observable_labels = ['XX', 'YY', 'ZZ']\n",
    "xxz_expectation = 0\n",
    "for i,qc_m in enumerate(meas_vqe_circ_list):\n",
    "    job = ionq_backend.run(qc_m, shots=shots)\n",
    "    result = job.result()\n",
    "    distribution = result.get_probabilities()\n",
    "    expectation = sample_to_expectation(zz, distribution) * coef[i]\n",
    "    xxz_expectation += expectation\n",
    "    print(observable_labels[i], expectation)\n",
    "    \n",
    "vqe_expect = xxz_expectation\n",
    "print('Expectation energy:', vqe_expect)"
   ]
  },
  {
   "cell_type": "code",
   "execution_count": 76,
   "metadata": {},
   "outputs": [
    {
     "name": "stdout",
     "output_type": "stream",
     "text": [
      "XX -2.7795153800000003\n",
      "YY -2.7820648959999996\n",
      "ZZ -1.180009208\n",
      "Expectation energy: -6.741589484\n"
     ]
    }
   ],
   "source": [
    "shots = 1000\n",
    "observable_labels = ['XX', 'YY', 'ZZ']\n",
    "xxz_expectation = 0\n",
    "for i,qc_m in enumerate(meas_gci_circ_list):\n",
    "    job = ionq_backend.run(qc_m, shots=shots)\n",
    "    result = job.result()\n",
    "    distribution = result.get_probabilities()\n",
    "    expectation = sample_to_expectation(zz, distribution) * coef[i]\n",
    "    xxz_expectation += expectation\n",
    "    print(observable_labels[i], expectation)\n",
    "    \n",
    "gci_expect = xxz_expectation\n",
    "print('Expectation energy:', gci_expect)"
   ]
  },
  {
   "cell_type": "markdown",
   "metadata": {},
   "source": [
    "## Step 5: Run with noise"
   ]
  },
  {
   "cell_type": "code",
   "execution_count": 61,
   "metadata": {},
   "outputs": [
    {
     "name": "stdout",
     "output_type": "stream",
     "text": [
      "XX -3.028\n",
      "YY -1.784\n",
      "ZZ -1.2859999999999998\n",
      "Expectation energy: -6.098\n"
     ]
    }
   ],
   "source": [
    "shots = 1000\n",
    "observable_labels = ['XX', 'YY', 'ZZ']\n",
    "xxz_expectation = 0\n",
    "for i,qc_m in enumerate(meas_vqe_circ_list):\n",
    "    job = ionq_backend.run(qc_m, shots=shots, noise_model='aria-1')\n",
    "    result = job.result()\n",
    "    distribution = result.get_probabilities()\n",
    "    expectation = sample_to_expectation(zz, distribution) * coef[i]\n",
    "    xxz_expectation += expectation\n",
    "    print(observable_labels[i], expectation)\n",
    "    \n",
    "vqe_expect_noise = xxz_expectation\n",
    "print('Expectation energy:', vqe_expect_noise)"
   ]
  },
  {
   "cell_type": "code",
   "execution_count": 77,
   "metadata": {},
   "outputs": [
    {
     "name": "stdout",
     "output_type": "stream",
     "text": [
      "XX -0.616\n",
      "YY -0.44800000000000006\n",
      "ZZ -0.31800000000000006\n",
      "Expectation energy: -1.3820000000000001\n"
     ]
    }
   ],
   "source": [
    "shots = 1000\n",
    "observable_labels = ['XX', 'YY', 'ZZ']\n",
    "xxz_expectation = 0\n",
    "for i,qc_m in enumerate(meas_gci_circ_list):\n",
    "    job = ionq_backend.run(qc_m, shots=shots, noise_model='aria-1')\n",
    "    result = job.result()\n",
    "    distribution = result.get_probabilities()\n",
    "    expectation = sample_to_expectation(zz, distribution) * coef[i]\n",
    "    xxz_expectation += expectation\n",
    "    print(observable_labels[i], expectation)\n",
    "    \n",
    "gci_expect_noise = xxz_expectation\n",
    "print('Expectation energy:', gci_expect_noise)"
   ]
  },
  {
   "cell_type": "markdown",
   "metadata": {},
   "source": [
    "## Report"
   ]
  },
  {
   "cell_type": "code",
   "execution_count": 78,
   "metadata": {},
   "outputs": [],
   "source": [
    "def report_ionq(vqe_analytical, gci_analytical, ham_matrix, expval_vqe, expval_gci, expval_vqe_noise, expval_gci_noise):\n",
    "    eigenvalues, eigenstates = eigh(ham_matrix)\n",
    "    ground_state_energy = eigenvalues[0]\n",
    "    vqe_energy = vqe_analytical\n",
    "    gci_energy = gci_analytical\n",
    "    gap = float(eigenvalues[1] - eigenvalues[0])\n",
    "    return (\n",
    "        dict(\n",
    "            nqubits = int(np.log(len(ham_matrix))/np.log(2)),\n",
    "            gci_energy=float(gci_energy),\n",
    "            vqe_energy=float(vqe_energy),\n",
    "            vqe_energy_emulator=float(expval_vqe),\n",
    "            gci_energy_emulator=float(expval_gci),\n",
    "            vqe_energy_emulator_noise=float(expval_vqe_noise),\n",
    "            gci_energy_emulator_noise=float(expval_gci_noise),\n",
    "            target_energy=ground_state_energy,\n",
    "            diff_vqe_target=vqe_energy - ground_state_energy,\n",
    "            diff_gci_target=gci_energy - ground_state_energy,\n",
    "            diff_vqe_target_emulator=expval_vqe - ground_state_energy,\n",
    "            diff_gci_target_emulator=expval_gci - ground_state_energy,\n",
    "            diff_vqe_target_emulator_noise=expval_vqe_noise - ground_state_energy,\n",
    "            diff_gci_target_emulator_noise=expval_gci_noise - ground_state_energy,\n",
    "            gap=gap,\n",
    "            diff_vqe_target_perc=abs(vqe_energy - ground_state_energy)\n",
    "            / abs(ground_state_energy)\n",
    "            * 100,\n",
    "            diff_gci_target_perc=abs(gci_energy - ground_state_energy)\n",
    "            / abs(ground_state_energy)\n",
    "            * 100,\n",
    "            diff_vqe_target_perc_emulator=abs(expval_vqe - ground_state_energy)\n",
    "            / abs(ground_state_energy)\n",
    "            * 100,\n",
    "            diff_gci_target_perc_emulator=abs(expval_gci - ground_state_energy)\n",
    "            / abs(ground_state_energy)\n",
    "            * 100,\n",
    "            diff_vqe_target_perc_emulator_noise=abs(expval_vqe_noise - ground_state_energy)\n",
    "            / abs(ground_state_energy)\n",
    "            * 100,\n",
    "            diff_gci_target_perc_emulator_noise=abs(expval_gci_noise - ground_state_energy)\n",
    "            / abs(ground_state_energy)\n",
    "            * 100,\n",
    "            fidelity_witness_vqe=1 - (vqe_energy - ground_state_energy) / gap,\n",
    "            fidelity_witness_gci=1 - (gci_energy - ground_state_energy) / gap,\n",
    "            fidelity_witness_vqe_emulator=1 - (expval_vqe - ground_state_energy) / gap,\n",
    "            fidelity_witness_gci_emulator=1 - (expval_gci - ground_state_energy) / gap,\n",
    "            fidelity_witness_vqe_emulator_noise=1 - (expval_vqe_noise - ground_state_energy) / gap,\n",
    "            fidelity_witness_gci_emulator_noise=1 - (expval_gci_noise - ground_state_energy) / gap,\n",
    "        )\n",
    "    )"
   ]
  },
  {
   "cell_type": "code",
   "execution_count": 79,
   "metadata": {},
   "outputs": [],
   "source": [
    "report = report_ionq(expectation_value_vqe, expectation_value_gci, ham_matrix, vqe_expect, gci_expect, vqe_expect_noise, gci_expect_noise)"
   ]
  },
  {
   "cell_type": "code",
   "execution_count": 80,
   "metadata": {},
   "outputs": [
    {
     "data": {
      "text/html": [
       "<div>\n",
       "<style scoped>\n",
       "    .dataframe tbody tr th:only-of-type {\n",
       "        vertical-align: middle;\n",
       "    }\n",
       "\n",
       "    .dataframe tbody tr th {\n",
       "        vertical-align: top;\n",
       "    }\n",
       "\n",
       "    .dataframe thead th {\n",
       "        text-align: right;\n",
       "    }\n",
       "</style>\n",
       "<table border=\"1\" class=\"dataframe\">\n",
       "  <thead>\n",
       "    <tr style=\"text-align: right;\">\n",
       "      <th></th>\n",
       "      <th>Analytical</th>\n",
       "      <th>Emulator</th>\n",
       "      <th>Emulator with Noise</th>\n",
       "    </tr>\n",
       "  </thead>\n",
       "  <tbody>\n",
       "    <tr>\n",
       "      <th>VQE energy</th>\n",
       "      <td>-6.309812</td>\n",
       "      <td>-6.320729</td>\n",
       "      <td>-6.098000</td>\n",
       "    </tr>\n",
       "    <tr>\n",
       "      <th>GCI energy</th>\n",
       "      <td>-6.741348</td>\n",
       "      <td>-6.741589</td>\n",
       "      <td>-1.382000</td>\n",
       "    </tr>\n",
       "    <tr>\n",
       "      <th>Difference to target (VQE)</th>\n",
       "      <td>0.434751</td>\n",
       "      <td>0.423833</td>\n",
       "      <td>0.646563</td>\n",
       "    </tr>\n",
       "    <tr>\n",
       "      <th>Difference to target (GCI)</th>\n",
       "      <td>0.003215</td>\n",
       "      <td>0.002973</td>\n",
       "      <td>5.362563</td>\n",
       "    </tr>\n",
       "    <tr>\n",
       "      <th>Percentage difference to target (VQE)</th>\n",
       "      <td>6.445942</td>\n",
       "      <td>6.284076</td>\n",
       "      <td>9.586428</td>\n",
       "    </tr>\n",
       "    <tr>\n",
       "      <th>Percentage difference to target (GCI)</th>\n",
       "      <td>0.047665</td>\n",
       "      <td>0.044082</td>\n",
       "      <td>79.509420</td>\n",
       "    </tr>\n",
       "    <tr>\n",
       "      <th>Fidelity witness (VQE)</th>\n",
       "      <td>0.841596</td>\n",
       "      <td>0.845573</td>\n",
       "      <td>0.764421</td>\n",
       "    </tr>\n",
       "    <tr>\n",
       "      <th>Fidelity witness (GCI)</th>\n",
       "      <td>0.998829</td>\n",
       "      <td>0.998917</td>\n",
       "      <td>-0.953886</td>\n",
       "    </tr>\n",
       "  </tbody>\n",
       "</table>\n",
       "</div>"
      ],
      "text/plain": [
       "                                       Analytical  Emulator  \\\n",
       "VQE energy                              -6.309812 -6.320729   \n",
       "GCI energy                              -6.741348 -6.741589   \n",
       "Difference to target (VQE)               0.434751  0.423833   \n",
       "Difference to target (GCI)               0.003215  0.002973   \n",
       "Percentage difference to target (VQE)    6.445942  6.284076   \n",
       "Percentage difference to target (GCI)    0.047665  0.044082   \n",
       "Fidelity witness (VQE)                   0.841596  0.845573   \n",
       "Fidelity witness (GCI)                   0.998829  0.998917   \n",
       "\n",
       "                                       Emulator with Noise  \n",
       "VQE energy                                       -6.098000  \n",
       "GCI energy                                       -1.382000  \n",
       "Difference to target (VQE)                        0.646563  \n",
       "Difference to target (GCI)                        5.362563  \n",
       "Percentage difference to target (VQE)             9.586428  \n",
       "Percentage difference to target (GCI)            79.509420  \n",
       "Fidelity witness (VQE)                            0.764421  \n",
       "Fidelity witness (GCI)                           -0.953886  "
      ]
     },
     "execution_count": 80,
     "metadata": {},
     "output_type": "execute_result"
    }
   ],
   "source": [
    "# Creating a DataFrame for the table\n",
    "import pandas as pd\n",
    "df = pd.DataFrame({\n",
    "    \"Analytical\": [\n",
    "        report['vqe_energy'],\n",
    "        report['gci_energy'],\n",
    "        report['diff_vqe_target'],\n",
    "        report['diff_gci_target'],\n",
    "        report['diff_vqe_target_perc'],\n",
    "        report['diff_gci_target_perc'],\n",
    "        report['fidelity_witness_vqe'],\n",
    "        report['fidelity_witness_gci']\n",
    "    ],\n",
    "    \"Emulator\": [\n",
    "        report['vqe_energy_emulator'],\n",
    "        report['gci_energy_emulator'],\n",
    "        report['diff_vqe_target_emulator'],\n",
    "        report['diff_gci_target_emulator'],\n",
    "        report['diff_vqe_target_perc_emulator'],\n",
    "        report['diff_gci_target_perc_emulator'],\n",
    "        report['fidelity_witness_vqe_emulator'],\n",
    "        report['fidelity_witness_gci_emulator']\n",
    "    ],\n",
    "    \"Emulator with Noise\": [\n",
    "        report['vqe_energy_emulator_noise'],\n",
    "        report['gci_energy_emulator_noise'],\n",
    "        report['diff_vqe_target_emulator_noise'],\n",
    "        report['diff_gci_target_emulator_noise'],\n",
    "        report['diff_vqe_target_perc_emulator_noise'],\n",
    "        report['diff_gci_target_perc_emulator_noise'],\n",
    "        report['fidelity_witness_vqe_emulator_noise'],\n",
    "        report['fidelity_witness_gci_emulator_noise']\n",
    "    ]\n",
    "}, index=[\n",
    "    \"VQE energy\",\n",
    "    \"GCI energy\",\n",
    "    \"Difference to target (VQE)\",\n",
    "    \"Difference to target (GCI)\",\n",
    "    \"Percentage difference to target (VQE)\",\n",
    "    \"Percentage difference to target (GCI)\",\n",
    "    \"Fidelity witness (VQE)\",\n",
    "    \"Fidelity witness (GCI)\"\n",
    "])\n",
    "\n",
    "# Display the DataFrame\n",
    "df"
   ]
  },
  {
   "cell_type": "code",
   "execution_count": null,
   "metadata": {},
   "outputs": [],
   "source": []
  }
 ],
 "metadata": {
  "kernelspec": {
   "display_name": "Python 3",
   "language": "python",
   "name": "python3"
  },
  "language_info": {
   "codemirror_mode": {
    "name": "ipython",
    "version": 3
   },
   "file_extension": ".py",
   "mimetype": "text/x-python",
   "name": "python",
   "nbconvert_exporter": "python",
   "pygments_lexer": "ipython3",
   "version": "3.11.10"
  }
 },
 "nbformat": 4,
 "nbformat_minor": 2
}
