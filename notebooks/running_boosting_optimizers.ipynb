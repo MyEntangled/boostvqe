{
 "cells": [
  {
   "cell_type": "markdown",
   "metadata": {},
   "source": [
    "# An example how to systematically run VQE boosting by DBQA\n"
   ]
  },
  {
   "cell_type": "code",
   "execution_count": 4,
   "metadata": {},
   "outputs": [
    {
     "data": {
      "text/plain": [
       "<module 'boostvqe.utils' from '/home/matteo/Documents/PhD/boostvqe/src/boostvqe/utils.py'>"
      ]
     },
     "execution_count": 4,
     "metadata": {},
     "output_type": "execute_result"
    }
   ],
   "source": [
    "from importlib import reload\n",
    "import qibo\n",
    "from boostvqe import utils\n",
    "reload(utils)"
   ]
  },
  {
   "cell_type": "code",
   "execution_count": 5,
   "metadata": {},
   "outputs": [
    {
     "name": "stderr",
     "output_type": "stream",
     "text": [
      "[Qibo 0.2.9|INFO|2024-06-24 19:08:39]: Using numpy backend on /CPU:0\n",
      "INFO:qibo.config:Using numpy backend on /CPU:0\n"
     ]
    }
   ],
   "source": [
    "qibo.set_backend(\"numpy\")"
   ]
  },
  {
   "cell_type": "code",
   "execution_count": null,
   "metadata": {},
   "outputs": [
    {
     "name": "stderr",
     "output_type": "stream",
     "text": [
      "[Qibo 0.2.9|INFO|2024-06-24 19:10:04]: Using numpy backend on /CPU:0\n",
      "INFO:qibo.config:Using numpy backend on /CPU:0\n"
     ]
    },
    {
     "name": "stdout",
     "output_type": "stream",
     "text": [
      "Initilizing gci:\n",
      "\n",
      "In the VQE numpy\n"
     ]
    },
    {
     "name": "stderr",
     "output_type": "stream",
     "text": [
      "INFO:root:Optimizing GCI step 1 with optimizer cma\n"
     ]
    },
    {
     "name": "stdout",
     "output_type": "stream",
     "text": [
      "The gci mode is DoubleBracketRotationType.group_commutator_third_order_reduced rotation with B Field as the oracle.\n",
      "\n",
      "The target energy is -15.28\n",
      "The VQE energy is -14.86 \n",
      "The DBQA energy is -14.86. \n",
      "The difference is for VQE is 0.42 \n",
      "and for the DBQA 0.42 \n",
      "which can be compared to the spectral gap 1.09.\n",
      "The relative difference is \n",
      "    - for VQE 2.74% \n",
      "    - for DBQA 2.74%.\n",
      "The energetic fidelity witness of the ground state is: \n",
      "    - for the VQE  0.61 \n",
      "    - for DBQA 0.61\n",
      "The true fidelity is \n",
      "    - for the VQE  0.71\n",
      "    - for DBQA 0.71\n",
      "                \n",
      "The boosting circuit used 0 CNOT gates coming from compiled XXZ evolution and 70 CZ gates from VQE.\n",
      "For 10 qubits this gives n_CNOT/n_qubits = 7.0 and n_CZ/n_qubits = 0.0\n",
      "(5_w,11)-aCMA-ES (mu_w=3.4,w_1=42%) in dimension 11 (seed=340910, Mon Jun 24 19:10:06 2024)\n",
      "Iterat #Fevals   function value  axis ratio  sigma  min&max std  t[m:s]\n",
      "    1     11 -1.486102221487895e+01 1.0e+00 4.82e-01  5e-01  5e-01 0:03.0\n",
      "    2     22 -1.493232917350681e+01 1.2e+00 4.54e-01  4e-01  5e-01 0:05.9\n",
      "    3     33 -1.494589805854785e+01 1.3e+00 4.34e-01  4e-01  5e-01 0:08.7\n",
      "    5     55 -1.488132480684967e+01 1.5e+00 4.32e-01  4e-01  5e-01 0:14.6\n",
      "    7     77 -1.486874025757508e+01 1.6e+00 3.90e-01  3e-01  4e-01 0:20.6\n",
      "    9     99 -1.494251766852943e+01 1.8e+00 3.83e-01  3e-01  4e-01 0:26.5\n",
      "   12    132 -1.490589054974517e+01 2.1e+00 3.05e-01  2e-01  3e-01 0:35.2\n",
      "   15    165 -1.497710655402089e+01 2.4e+00 3.22e-01  2e-01  4e-01 0:43.7\n",
      "   18    198 -1.493294916582314e+01 2.7e+00 3.08e-01  1e-01  3e-01 0:52.1\n",
      "   20    220 -1.496661712203507e+01 3.1e+00 3.35e-01  1e-01  4e-01 0:57.8\n"
     ]
    },
    {
     "name": "stderr",
     "output_type": "stream",
     "text": [
      "INFO:root:Total optimization time required: 58.12031579017639 seconds\n"
     ]
    },
    {
     "name": "stdout",
     "output_type": "stream",
     "text": [
      "termination on maxiter=20 (Mon Jun 24 19:11:04 2024)\n",
      "final/bestever f-value = -1.494420e+01 -1.498048e+01 after 221/37 evaluations\n",
      "incumbent solution: [1.68094599e-03 4.61881572e+00 4.41483696e+00 4.70556406e+00\n",
      " 2.95413628e+00 2.87771714e+00 3.06257374e+00 4.56117127e+00 ...]\n",
      "std deviations: [0.14838242 0.32379564 0.33567459 0.36422163 0.32754441 0.33445155\n",
      " 0.32676092 0.34680029 ...]\n",
      "-14.980484761312827\n",
      "Executing gci step 0:\n",
      "\n",
      "The selected data is DoubleBracketRotationType.group_commutator_third_order_reduced rotation with B Field for the duration s = 0.004508940040903894.\n",
      "--- the report after execution:\n",
      "\n"
     ]
    },
    {
     "name": "stderr",
     "output_type": "stream",
     "text": [
      "INFO:root:Optimizing GCI step 2 with optimizer cma\n"
     ]
    },
    {
     "name": "stdout",
     "output_type": "stream",
     "text": [
      "The target energy is -15.28\n",
      "The VQE energy is -14.86 \n",
      "The DBQA energy is -14.98. \n",
      "The difference is for VQE is 0.42 \n",
      "and for the DBQA 0.3 \n",
      "which can be compared to the spectral gap 1.09.\n",
      "The relative difference is \n",
      "    - for VQE 2.74% \n",
      "    - for DBQA 1.94%.\n",
      "The energetic fidelity witness of the ground state is: \n",
      "    - for the VQE  0.61 \n",
      "    - for DBQA 0.61\n",
      "The true fidelity is \n",
      "    - for the VQE  0.71\n",
      "    - for DBQA 0.75\n",
      "                \n",
      "The boosting circuit used 90 CNOT gates coming from compiled XXZ evolution and 350 CZ gates from VQE.\n",
      "For 10 qubits this gives n_CNOT/n_qubits = 35.0 and n_CZ/n_qubits = 9.0\n",
      "==== the execution report ends here\n",
      "(5_w,11)-aCMA-ES (mu_w=3.4,w_1=42%) in dimension 11 (seed=332034, Mon Jun 24 19:11:05 2024)\n",
      "Iterat #Fevals   function value  axis ratio  sigma  min&max std  t[m:s]\n",
      "    1     11 -1.501194970806467e+01 1.0e+00 4.48e-01  4e-01  5e-01 0:12.5\n",
      "    2     22 -1.493551467116445e+01 1.1e+00 4.58e-01  4e-01  5e-01 0:25.1\n",
      "    3     33 -1.501258356142792e+01 1.3e+00 4.51e-01  4e-01  5e-01 0:37.6\n",
      "    4     44 -1.501549859698790e+01 1.4e+00 4.49e-01  4e-01  5e-01 0:49.8\n",
      "    5     55 -1.501149894454116e+01 1.5e+00 4.45e-01  4e-01  5e-01 1:02.3\n",
      "    6     66 -1.492290626877272e+01 1.6e+00 4.79e-01  4e-01  5e-01 1:14.6\n",
      "    7     77 -1.502521036844586e+01 1.7e+00 4.66e-01  4e-01  5e-01 1:27.0\n",
      "    8     88 -1.498409310155215e+01 1.8e+00 4.53e-01  3e-01  5e-01 1:39.3\n",
      "    9     99 -1.467470533314496e+01 1.8e+00 4.31e-01  3e-01  5e-01 1:51.8\n",
      "   10    110 -1.502231686674275e+01 1.8e+00 4.04e-01  3e-01  5e-01 2:04.2\n",
      "   11    121 -1.498690543488073e+01 1.9e+00 3.76e-01  3e-01  4e-01 2:16.5\n",
      "   12    132 -1.498296179833987e+01 2.0e+00 3.53e-01  2e-01  4e-01 2:28.9\n",
      "   13    143 -1.500259309440433e+01 2.2e+00 3.31e-01  2e-01  4e-01 2:42.0\n",
      "   15    165 -1.499237254383245e+01 2.7e+00 3.08e-01  2e-01  4e-01 3:07.5\n",
      "   17    187 -1.502582667955097e+01 3.2e+00 3.15e-01  2e-01  4e-01 3:32.6\n",
      "   19    209 -1.502686599435694e+01 3.6e+00 3.33e-01  1e-01  4e-01 3:57.8\n",
      "   20    220 -1.502531386306212e+01 3.8e+00 3.20e-01  1e-01  4e-01 4:10.2\n"
     ]
    },
    {
     "name": "stderr",
     "output_type": "stream",
     "text": [
      "INFO:root:Total optimization time required: 251.51421904563904 seconds\n"
     ]
    },
    {
     "name": "stdout",
     "output_type": "stream",
     "text": [
      "termination on maxiter=20 (Mon Jun 24 19:15:17 2024)\n",
      "final/bestever f-value = -1.501696e+01 -1.502687e+01 after 221/206 evaluations\n",
      "incumbent solution: [2.69667679e-03 5.07623175e+00 4.86931741e+00 2.99050710e+00\n",
      " 3.68636139e+00 3.96258237e+00 9.84550834e-01 3.65913370e+00 ...]\n",
      "std deviations: [0.13784311 0.31242055 0.31330945 0.399837   0.32711765 0.34270584\n",
      " 0.33501364 0.30175607 ...]\n",
      "-15.02686599435694\n",
      "Executing gci step 1:\n",
      "\n",
      "The selected data is DoubleBracketRotationType.group_commutator_third_order_reduced rotation with B Field for the duration s = 0.005480377906235396.\n",
      "--- the report after execution:\n",
      "\n",
      "The target energy is -15.28\n",
      "The VQE energy is -14.86 \n",
      "The DBQA energy is -15.03. \n",
      "The difference is for VQE is 0.42 \n",
      "and for the DBQA 0.25 \n",
      "which can be compared to the spectral gap 1.09.\n",
      "The relative difference is \n",
      "    - for VQE 2.74% \n",
      "    - for DBQA 1.63%.\n",
      "The energetic fidelity witness of the ground state is: \n",
      "    - for the VQE  0.61 \n",
      "    - for DBQA 0.61\n",
      "The true fidelity is \n",
      "    - for the VQE  0.71\n",
      "    - for DBQA 0.78\n",
      "                \n"
     ]
    },
    {
     "name": "stderr",
     "output_type": "stream",
     "text": [
      "INFO:root:Optimizing GCI step 3 with optimizer cma\n"
     ]
    },
    {
     "name": "stdout",
     "output_type": "stream",
     "text": [
      "The boosting circuit used 540 CNOT gates coming from compiled XXZ evolution and 1750 CZ gates from VQE.\n",
      "For 10 qubits this gives n_CNOT/n_qubits = 175.0 and n_CZ/n_qubits = 54.0\n",
      "==== the execution report ends here\n",
      "(5_w,11)-aCMA-ES (mu_w=3.4,w_1=42%) in dimension 11 (seed=381363, Mon Jun 24 19:15:20 2024)\n",
      "Iterat #Fevals   function value  axis ratio  sigma  min&max std  t[m:s]\n",
      "    1     11 -1.503972115631410e+01 1.0e+00 4.52e-01  4e-01  5e-01 1:00.4\n",
      "    2     22 -1.504876320634162e+01 1.2e+00 4.39e-01  4e-01  4e-01 2:00.8\n",
      "    3     33 -1.503545854616085e+01 1.3e+00 4.35e-01  4e-01  4e-01 3:02.5\n",
      "    4     44 -1.504841255475905e+01 1.4e+00 4.83e-01  4e-01  5e-01 4:03.1\n",
      "    5     55 -1.504757440134361e+01 1.6e+00 4.93e-01  4e-01  5e-01 5:05.0\n",
      "    6     66 -1.504282821648812e+01 1.6e+00 4.83e-01  4e-01  5e-01 6:05.7\n",
      "    7     77 -1.504169275494222e+01 1.7e+00 4.60e-01  4e-01  5e-01 7:06.5\n",
      "    8     88 -1.504373481688036e+01 1.8e+00 4.34e-01  3e-01  5e-01 8:07.8\n",
      "    9     99 -1.503286984814493e+01 1.8e+00 4.08e-01  3e-01  4e-01 9:09.5\n",
      "   10    110 -1.504607355065306e+01 1.9e+00 3.75e-01  3e-01  4e-01 10:11.1\n",
      "   11    121 -1.504595597971377e+01 2.0e+00 3.55e-01  2e-01  4e-01 11:12.5\n",
      "   12    132 -1.504836605129647e+01 2.1e+00 3.47e-01  2e-01  4e-01 12:13.6\n",
      "   13    143 -1.504471423193346e+01 2.2e+00 3.26e-01  2e-01  4e-01 13:15.2\n",
      "   14    154 -1.503694538406842e+01 2.3e+00 3.05e-01  2e-01  3e-01 14:16.8\n",
      "   15    165 -1.505084976442413e+01 2.5e+00 2.66e-01  1e-01  3e-01 15:18.9\n",
      "   16    176 -1.505068178124242e+01 2.7e+00 2.39e-01  1e-01  3e-01 16:20.2\n",
      "   17    187 -1.504634682915185e+01 2.8e+00 2.13e-01  1e-01  2e-01 17:21.5\n",
      "   18    198 -1.504802659082622e+01 2.9e+00 1.92e-01  9e-02  2e-01 18:22.2\n",
      "   19    209 -1.505062053699012e+01 3.0e+00 1.77e-01  8e-02  2e-01 19:23.2\n",
      "   20    220 -1.504441119041568e+01 3.0e+00 1.67e-01  7e-02  2e-01 20:26.1\n"
     ]
    },
    {
     "name": "stderr",
     "output_type": "stream",
     "text": [
      "INFO:root:Total optimization time required: 1231.466492176056 seconds\n"
     ]
    },
    {
     "name": "stdout",
     "output_type": "stream",
     "text": [
      "termination on maxiter=20 (Mon Jun 24 19:35:52 2024)\n",
      "final/bestever f-value = -1.503218e+01 -1.505085e+01 after 221/164 evaluations\n",
      "incumbent solution: [3.59787913e-04 4.80685794e+00 6.65356648e+00 2.06834836e+00\n",
      " 3.53347956e+00 3.32765267e+00 1.17023443e+00 3.96128527e+00 ...]\n",
      "std deviations: [0.07138614 0.16519007 0.16082111 0.15125946 0.16546173 0.18905296\n",
      " 0.15058336 0.16048244 ...]\n"
     ]
    }
   ],
   "source": [
    "# to see how to customize the optimization run utils.execute_gci_boost? in a cell\n",
    "optimization_method = \"cma\"\n",
    "optimization_config = {\"maxiter\": 20}\n",
    "\n",
    "gci_eval_counter = 1\n",
    "nqubits = [10]\n",
    "nlayers = [7]\n",
    "seeds = [42]\n",
    "target_epochs = [2000]\n",
    "\n",
    "for nqubits in nqubits:\n",
    "    for nlayers in nlayers:\n",
    "        for seed in seeds:\n",
    "            for target_epoch in target_epochs:\n",
    "                for eo_d in utils.get_eo_d_initializations(nqubits)[-2:-1]:\n",
    "                    mode_dbr = utils.DoubleBracketRotationType.group_commutator_third_order_reduced                    \n",
    "                    utils.execute_gci_boost(\n",
    "                        nqubits=nqubits, \n",
    "                        nlayers=nlayers,\n",
    "                        seed=seed,\n",
    "                        target_epoch = target_epoch,\n",
    "                        nmb_gci_steps = 3,\n",
    "                        eo_d = eo_d,\n",
    "                        mode_dbr = mode_dbr,\n",
    "                        optimization_method = optimization_method,\n",
    "                        optimization_config = optimization_config,\n",
    "                        please_be_verbose = True\n",
    "                    )\n",
    "                    print(gci_eval_counter)\n",
    "                    gci_eval_counter +=1"
   ]
  },
  {
   "cell_type": "code",
   "execution_count": null,
   "metadata": {},
   "outputs": [],
   "source": []
  }
 ],
 "metadata": {
  "kernelspec": {
   "display_name": "Python 3 (ipykernel)",
   "language": "python",
   "name": "python3"
  },
  "language_info": {
   "codemirror_mode": {
    "name": "ipython",
    "version": 3
   },
   "file_extension": ".py",
   "mimetype": "text/x-python",
   "name": "python",
   "nbconvert_exporter": "python",
   "pygments_lexer": "ipython3",
   "version": "3.10.0"
  }
 },
 "nbformat": 4,
 "nbformat_minor": 4
}
