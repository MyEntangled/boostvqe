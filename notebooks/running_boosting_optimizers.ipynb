{
 "cells": [
  {
   "cell_type": "markdown",
   "metadata": {},
   "source": [
    "# An example how to systematically run VQE boosting by DBQA\n"
   ]
  },
  {
   "cell_type": "code",
   "execution_count": 1,
   "metadata": {},
   "outputs": [
    {
     "data": {
      "text/plain": [
       "<module 'boostvqe.utils' from '/home/andreapasquale/boostvqe/src/boostvqe/utils.py'>"
      ]
     },
     "execution_count": 1,
     "metadata": {},
     "output_type": "execute_result"
    }
   ],
   "source": [
    "from importlib import reload\n",
    "import qibo\n",
    "from boostvqe import utils\n",
    "reload(utils)"
   ]
  },
  {
   "cell_type": "code",
   "execution_count": 2,
   "metadata": {},
   "outputs": [
    {
     "name": "stderr",
     "output_type": "stream",
     "text": [
      "[Qibo 0.2.9|INFO|2024-06-25 15:13:28]: Using numpy backend on /CPU:0\n",
      "INFO:qibo.config:Using numpy backend on /CPU:0\n"
     ]
    }
   ],
   "source": [
    "qibo.set_backend(\"numpy\")"
   ]
  },
  {
   "cell_type": "code",
   "execution_count": 3,
   "metadata": {},
   "outputs": [
    {
     "name": "stdout",
     "output_type": "stream",
     "text": [
      "Initilizing gci:\n",
      "\n"
     ]
    },
    {
     "ename": "FileNotFoundError",
     "evalue": "[Errno 2] No such file or directory: '../results/vqe_data/with_params/10q7l/sgd_10q_7l_42/optimization_results.json'",
     "output_type": "error",
     "traceback": [
      "\u001b[0;31m---------------------------------------------------------------------------\u001b[0m",
      "\u001b[0;31mFileNotFoundError\u001b[0m                         Traceback (most recent call last)",
      "Cell \u001b[0;32mIn[3], line 17\u001b[0m\n\u001b[1;32m     15\u001b[0m \u001b[38;5;28;01mfor\u001b[39;00m eo_d \u001b[38;5;129;01min\u001b[39;00m utils\u001b[38;5;241m.\u001b[39mget_eo_d_initializations(nqubits)[\u001b[38;5;241m-\u001b[39m\u001b[38;5;241m2\u001b[39m:\u001b[38;5;241m-\u001b[39m\u001b[38;5;241m1\u001b[39m]:\n\u001b[1;32m     16\u001b[0m     mode_dbr \u001b[38;5;241m=\u001b[39m utils\u001b[38;5;241m.\u001b[39mDoubleBracketRotationType\u001b[38;5;241m.\u001b[39mgroup_commutator_third_order_reduced                    \n\u001b[0;32m---> 17\u001b[0m     \u001b[43mutils\u001b[49m\u001b[38;5;241;43m.\u001b[39;49m\u001b[43mexecute_gci_boost\u001b[49m\u001b[43m(\u001b[49m\n\u001b[1;32m     18\u001b[0m \u001b[43m        \u001b[49m\u001b[43mnqubits\u001b[49m\u001b[38;5;241;43m=\u001b[39;49m\u001b[43mnqubits\u001b[49m\u001b[43m,\u001b[49m\u001b[43m \u001b[49m\n\u001b[1;32m     19\u001b[0m \u001b[43m        \u001b[49m\u001b[43mnlayers\u001b[49m\u001b[38;5;241;43m=\u001b[39;49m\u001b[43mnlayers\u001b[49m\u001b[43m,\u001b[49m\n\u001b[1;32m     20\u001b[0m \u001b[43m        \u001b[49m\u001b[43mseed\u001b[49m\u001b[38;5;241;43m=\u001b[39;49m\u001b[43mseed\u001b[49m\u001b[43m,\u001b[49m\n\u001b[1;32m     21\u001b[0m \u001b[43m        \u001b[49m\u001b[43mtarget_epoch\u001b[49m\u001b[43m \u001b[49m\u001b[38;5;241;43m=\u001b[39;49m\u001b[43m \u001b[49m\u001b[43mtarget_epoch\u001b[49m\u001b[43m,\u001b[49m\n\u001b[1;32m     22\u001b[0m \u001b[43m        \u001b[49m\u001b[43mnmb_gci_steps\u001b[49m\u001b[43m \u001b[49m\u001b[38;5;241;43m=\u001b[39;49m\u001b[43m \u001b[49m\u001b[38;5;241;43m3\u001b[39;49m\u001b[43m,\u001b[49m\n\u001b[1;32m     23\u001b[0m \u001b[43m        \u001b[49m\u001b[43meo_d\u001b[49m\u001b[43m \u001b[49m\u001b[38;5;241;43m=\u001b[39;49m\u001b[43m \u001b[49m\u001b[43meo_d\u001b[49m\u001b[43m,\u001b[49m\n\u001b[1;32m     24\u001b[0m \u001b[43m        \u001b[49m\u001b[43mmode_dbr\u001b[49m\u001b[43m \u001b[49m\u001b[38;5;241;43m=\u001b[39;49m\u001b[43m \u001b[49m\u001b[43mmode_dbr\u001b[49m\u001b[43m,\u001b[49m\n\u001b[1;32m     25\u001b[0m \u001b[43m        \u001b[49m\u001b[43moptimization_method\u001b[49m\u001b[43m \u001b[49m\u001b[38;5;241;43m=\u001b[39;49m\u001b[43m \u001b[49m\u001b[43moptimization_method\u001b[49m\u001b[43m,\u001b[49m\n\u001b[1;32m     26\u001b[0m \u001b[43m        \u001b[49m\u001b[43moptimization_config\u001b[49m\u001b[43m \u001b[49m\u001b[38;5;241;43m=\u001b[39;49m\u001b[43m \u001b[49m\u001b[43moptimization_config\u001b[49m\u001b[43m,\u001b[49m\n\u001b[1;32m     27\u001b[0m \u001b[43m        \u001b[49m\u001b[43mplease_be_verbose\u001b[49m\u001b[43m \u001b[49m\u001b[38;5;241;43m=\u001b[39;49m\u001b[43m \u001b[49m\u001b[38;5;28;43;01mTrue\u001b[39;49;00m\n\u001b[1;32m     28\u001b[0m \u001b[43m    \u001b[49m\u001b[43m)\u001b[49m\n\u001b[1;32m     29\u001b[0m     \u001b[38;5;28mprint\u001b[39m(gci_eval_counter)\n\u001b[1;32m     30\u001b[0m     gci_eval_counter \u001b[38;5;241m+\u001b[39m\u001b[38;5;241m=\u001b[39m\u001b[38;5;241m1\u001b[39m\n",
      "File \u001b[0;32m~/boostvqe/src/boostvqe/utils.py:398\u001b[0m, in \u001b[0;36mexecute_gci_boost\u001b[0;34m(nqubits, nlayers, seed, target_epoch, nmb_gci_steps, eo_d, optimization_method, optimization_config, mode_dbr, please_be_verbose, please_be_visual)\u001b[0m\n\u001b[1;32m    396\u001b[0m \u001b[38;5;28;01mif\u001b[39;00m please_be_verbose:\n\u001b[1;32m    397\u001b[0m     \u001b[38;5;28mprint\u001b[39m(\u001b[38;5;124mf\u001b[39m\u001b[38;5;124m\"\u001b[39m\u001b[38;5;124mInitilizing gci:\u001b[39m\u001b[38;5;130;01m\\n\u001b[39;00m\u001b[38;5;124m\"\u001b[39m)\n\u001b[0;32m--> 398\u001b[0m gci \u001b[38;5;241m=\u001b[39m \u001b[43minitialize_gci_from_vqe\u001b[49m\u001b[43m(\u001b[49m\n\u001b[1;32m    399\u001b[0m \u001b[43m    \u001b[49m\u001b[43mnqubits\u001b[49m\u001b[38;5;241;43m=\u001b[39;49m\u001b[43mnqubits\u001b[49m\u001b[43m,\u001b[49m\u001b[43m \u001b[49m\u001b[43mnlayers\u001b[49m\u001b[38;5;241;43m=\u001b[39;49m\u001b[43mnlayers\u001b[49m\u001b[43m,\u001b[49m\u001b[43m \u001b[49m\u001b[43mseed\u001b[49m\u001b[38;5;241;43m=\u001b[39;49m\u001b[43mseed\u001b[49m\u001b[43m,\u001b[49m\u001b[43m \u001b[49m\u001b[43mtarget_epoch\u001b[49m\u001b[38;5;241;43m=\u001b[39;49m\u001b[43mtarget_epoch\u001b[49m\n\u001b[1;32m    400\u001b[0m \u001b[43m\u001b[49m\u001b[43m)\u001b[49m\n\u001b[1;32m    401\u001b[0m \u001b[38;5;28;01mif\u001b[39;00m eo_d \u001b[38;5;129;01mis\u001b[39;00m \u001b[38;5;129;01mnot\u001b[39;00m \u001b[38;5;28;01mNone\u001b[39;00m:\n\u001b[1;32m    402\u001b[0m     gci\u001b[38;5;241m.\u001b[39meo_d \u001b[38;5;241m=\u001b[39m eo_d\n",
      "File \u001b[0;32m~/boostvqe/src/boostvqe/utils.py:215\u001b[0m, in \u001b[0;36minitialize_gci_from_vqe\u001b[0;34m(nqubits, nlayers, seed, target_epoch, mode_dbr)\u001b[0m\n\u001b[1;32m    212\u001b[0m path \u001b[38;5;241m=\u001b[39m \u001b[38;5;124mf\u001b[39m\u001b[38;5;124m\"\u001b[39m\u001b[38;5;124m../results/vqe_data/with_params/\u001b[39m\u001b[38;5;132;01m{\u001b[39;00mnqubits\u001b[38;5;132;01m}\u001b[39;00m\u001b[38;5;124mq\u001b[39m\u001b[38;5;132;01m{\u001b[39;00mnlayers\u001b[38;5;132;01m}\u001b[39;00m\u001b[38;5;124ml/sgd_\u001b[39m\u001b[38;5;132;01m{\u001b[39;00mnqubits\u001b[38;5;132;01m}\u001b[39;00m\u001b[38;5;124mq_\u001b[39m\u001b[38;5;132;01m{\u001b[39;00mnlayers\u001b[38;5;132;01m}\u001b[39;00m\u001b[38;5;124ml_\u001b[39m\u001b[38;5;132;01m{\u001b[39;00mseed\u001b[38;5;132;01m}\u001b[39;00m\u001b[38;5;124m/\u001b[39m\u001b[38;5;124m\"\u001b[39m\n\u001b[1;32m    214\u001b[0m \u001b[38;5;66;03m# upload system configuration and parameters for all the training\u001b[39;00m\n\u001b[0;32m--> 215\u001b[0m \u001b[38;5;28;01mwith\u001b[39;00m \u001b[38;5;28;43mopen\u001b[39;49m\u001b[43m(\u001b[49m\u001b[43mpath\u001b[49m\u001b[43m \u001b[49m\u001b[38;5;241;43m+\u001b[39;49m\u001b[43m \u001b[49m\u001b[38;5;124;43m\"\u001b[39;49m\u001b[38;5;124;43moptimization_results.json\u001b[39;49m\u001b[38;5;124;43m\"\u001b[39;49m\u001b[43m)\u001b[49m \u001b[38;5;28;01mas\u001b[39;00m file:\n\u001b[1;32m    216\u001b[0m     config \u001b[38;5;241m=\u001b[39m json\u001b[38;5;241m.\u001b[39mload(file)\n\u001b[1;32m    218\u001b[0m losses \u001b[38;5;241m=\u001b[39m \u001b[38;5;28mdict\u001b[39m(np\u001b[38;5;241m.\u001b[39mload(path \u001b[38;5;241m+\u001b[39m \u001b[38;5;124m\"\u001b[39m\u001b[38;5;124menergies.npz\u001b[39m\u001b[38;5;124m\"\u001b[39m))[\u001b[38;5;124m\"\u001b[39m\u001b[38;5;124m0\u001b[39m\u001b[38;5;124m\"\u001b[39m]\n",
      "\u001b[0;31mFileNotFoundError\u001b[0m: [Errno 2] No such file or directory: '../results/vqe_data/with_params/10q7l/sgd_10q_7l_42/optimization_results.json'"
     ]
    }
   ],
   "source": [
    "# to see how to customize the optimization run utils.execute_gci_boost? in a cell\n",
    "optimization_method = \"cma\"\n",
    "optimization_config = {\"maxiter\": 20}\n",
    "\n",
    "gci_eval_counter = 1\n",
    "nqubits = [10]\n",
    "nlayers = [7]\n",
    "seeds = [42]\n",
    "target_epochs = [2000]\n",
    "\n",
    "for nqubits in nqubits:\n",
    "    for nlayers in nlayers:\n",
    "        for seed in seeds:\n",
    "            for target_epoch in target_epochs:\n",
    "                for eo_d in utils.get_eo_d_initializations(nqubits)[-2:-1]:\n",
    "                    mode_dbr = utils.DoubleBracketRotationType.group_commutator_third_order_reduced\n",
    "                    utils.execute_gci_boost(\n",
    "                        nqubits=nqubits,\n",
    "                        nlayers=nlayers,\n",
    "                        seed=seed,\n",
    "                        target_epoch = target_epoch,\n",
    "                        nmb_gci_steps = 3,\n",
    "                        eo_d = eo_d,\n",
    "                        mode_dbr = mode_dbr,\n",
    "                        optimization_method = optimization_method,\n",
    "                        optimization_config = optimization_config,\n",
    "                        please_be_verbose = True\n",
    "                    )\n",
    "                    print(gci_eval_counter)\n",
    "                    gci_eval_counter +=1"
   ]
  },
  {
   "cell_type": "code",
   "execution_count": null,
   "metadata": {},
   "outputs": [],
   "source": []
  }
 ],
 "metadata": {
  "kernelspec": {
   "display_name": "Python 3 (ipykernel)",
   "language": "python",
   "name": "python3"
  },
  "language_info": {
   "codemirror_mode": {
    "name": "ipython",
    "version": 3
   },
   "file_extension": ".py",
   "mimetype": "text/x-python",
   "name": "python",
   "nbconvert_exporter": "python",
   "pygments_lexer": "ipython3",
   "version": "3.11.4"
  }
 },
 "nbformat": 4,
 "nbformat_minor": 4
}
