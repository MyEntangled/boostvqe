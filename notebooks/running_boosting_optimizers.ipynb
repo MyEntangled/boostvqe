{
 "cells": [
  {
   "cell_type": "markdown",
   "metadata": {},
   "source": [
    "# An example how to systematically run VQE boosting by DBQA\n"
   ]
  },
  {
   "cell_type": "code",
   "execution_count": 59,
   "metadata": {},
   "outputs": [
    {
     "data": {
      "text/plain": [
       "<module 'boostvqe.utils' from '/home/matteo/Documents/PhD/boostvqe/src/boostvqe/utils.py'>"
      ]
     },
     "execution_count": 59,
     "metadata": {},
     "output_type": "execute_result"
    }
   ],
   "source": [
    "from importlib import reload\n",
    "import qibo\n",
    "from boostvqe import utils\n",
    "reload(utils)"
   ]
  },
  {
   "cell_type": "code",
   "execution_count": 60,
   "metadata": {},
   "outputs": [
    {
     "name": "stderr",
     "output_type": "stream",
     "text": [
      "[Qibo 0.2.9|INFO|2024-06-24 15:32:37]: Using numpy backend on /CPU:0\n",
      "INFO:qibo.config:Using numpy backend on /CPU:0\n"
     ]
    }
   ],
   "source": [
    "qibo.set_backend(\"numpy\")"
   ]
  },
  {
   "cell_type": "code",
   "execution_count": 61,
   "metadata": {},
   "outputs": [
    {
     "name": "stderr",
     "output_type": "stream",
     "text": [
      "[Qibo 0.2.9|INFO|2024-06-24 15:32:37]: Using numpy backend on /CPU:0\n",
      "INFO:qibo.config:Using numpy backend on /CPU:0\n"
     ]
    },
    {
     "name": "stdout",
     "output_type": "stream",
     "text": [
      "Initilizing gci:\n",
      "\n",
      "In the VQE numpy\n"
     ]
    },
    {
     "name": "stderr",
     "output_type": "stream",
     "text": [
      "INFO:root:Optimizing GCI step 1 with optimizer cma\n"
     ]
    },
    {
     "name": "stdout",
     "output_type": "stream",
     "text": [
      "The gci mode is DoubleBracketRotationType.group_commutator_third_order_reduced rotation with B Field as the oracle.\n",
      "\n",
      "VQE energy is -14.8569 and the DBQA yields -14.8569. \n",
      "            The target energy is -15.27613 which means the difference is for VQE             0.41923 and of the DBQA 0.41923             which can be compared to the spectral gap 1.08767.\n",
      "            The relative difference is for VQE 2.74436%             and for DBQA 2.74436%.            The energetic fidelity witness for the ground state for the\n",
      "            VQE is 0.61456 \n",
      "            and DBQA 0.61456\n",
      "            The true fidelity is 0.00082 (see boostvqe issue https://github.com/qiboteam/boostvqe/issues/51 why this value seems wrong)\n",
      "            and DBQA 0.61456\n",
      "The boosting circuit used 0 CNOT gates coming from compiled XXZ evolution and 70 CZ gates from VQE.\n",
      "For 10 qubits this gives n_CNOT/n_qubits = 0.0 and n_CZ/n_qubits = 7.0\n",
      "(5_w,11)-aCMA-ES (mu_w=3.4,w_1=42%) in dimension 11 (seed=409365, Mon Jun 24 15:32:38 2024)\n",
      "Iterat #Fevals   function value  axis ratio  sigma  min&max std  t[m:s]\n",
      "    1     11 -1.063891258869639e+01 1.0e+00 5.14e-01  5e-01  6e-01 0:02.4\n",
      "    2     22 -1.498247954720046e+01 1.2e+00 5.42e-01  5e-01  6e-01 0:05.1\n",
      "    3     33 -1.497706351112633e+01 1.4e+00 5.25e-01  5e-01  6e-01 0:07.5\n",
      "    5     55 -1.492980165029273e+01 1.6e+00 4.79e-01  4e-01  5e-01 0:12.6\n",
      "    7     77 -1.447543757059702e+01 1.8e+00 4.60e-01  3e-01  5e-01 0:17.6\n",
      "    9     99 -1.497735871890977e+01 1.9e+00 3.63e-01  3e-01  4e-01 0:23.0\n",
      "   10    110 -1.497317306181917e+01 2.0e+00 3.32e-01  2e-01  4e-01 0:25.4\n"
     ]
    },
    {
     "name": "stderr",
     "output_type": "stream",
     "text": [
      "INFO:root:Total optimization time required: 25.611522674560547 seconds\n"
     ]
    },
    {
     "name": "stdout",
     "output_type": "stream",
     "text": [
      "termination on maxiter=10 (Mon Jun 24 15:33:04 2024)\n",
      "final/bestever f-value = -1.498460e+01 -1.498460e+01 after 111/111 evaluations\n",
      "incumbent solution: [0.00473833 3.08104428 3.99103043 4.35874281 2.36816959 3.27932279\n",
      " 2.44587993 2.5136938  ...]\n",
      "std deviations: [0.21666822 0.35705276 0.32845895 0.32406452 0.3224076  0.31847898\n",
      " 0.32082107 0.33386151 ...]\n",
      "-14.984601676571238\n",
      "Executing gci step 0:\n",
      "\n",
      "The selected data is DoubleBracketRotationType.group_commutator_third_order_reduced rotation with B Field for the duration s = 0.00473833352567465.\n",
      "--- the report after execution:\n",
      "\n"
     ]
    },
    {
     "name": "stderr",
     "output_type": "stream",
     "text": [
      "INFO:root:Optimizing GCI step 2 with optimizer cma\n"
     ]
    },
    {
     "name": "stdout",
     "output_type": "stream",
     "text": [
      "VQE energy is -14.8569 and the DBQA yields -14.9846. \n",
      "            The target energy is -15.27613 which means the difference is for VQE             0.41923 and of the DBQA 0.29153             which can be compared to the spectral gap 1.08767.\n",
      "            The relative difference is for VQE 2.74436%             and for DBQA 1.9084%.            The energetic fidelity witness for the ground state for the\n",
      "            VQE is 0.61456 \n",
      "            and DBQA 0.73197\n",
      "            The true fidelity is 0.00102 (see boostvqe issue https://github.com/qiboteam/boostvqe/issues/51 why this value seems wrong)\n",
      "            and DBQA 0.73197\n",
      "The boosting circuit used 90 CNOT gates coming from compiled XXZ evolution and 350 CZ gates from VQE.\n",
      "For 10 qubits this gives n_CNOT/n_qubits = 9.0 and n_CZ/n_qubits = 35.0\n",
      "==== the execution report ends here\n",
      "(5_w,11)-aCMA-ES (mu_w=3.4,w_1=42%) in dimension 11 (seed=327630, Mon Jun 24 15:33:05 2024)\n",
      "Iterat #Fevals   function value  axis ratio  sigma  min&max std  t[m:s]\n",
      "    1     11 -1.503676673748506e+01 1.0e+00 4.62e-01  4e-01  5e-01 0:12.9\n",
      "    2     22 -1.489713129553010e+01 1.2e+00 4.04e-01  4e-01  4e-01 0:25.4\n",
      "    3     33 -1.502955239728531e+01 1.2e+00 3.78e-01  3e-01  4e-01 0:38.5\n",
      "    4     44 -1.503527364441150e+01 1.3e+00 3.70e-01  3e-01  4e-01 0:51.2\n",
      "    5     55 -1.499231939766591e+01 1.4e+00 3.65e-01  3e-01  4e-01 1:03.9\n",
      "    6     66 -1.503722495302465e+01 1.5e+00 3.50e-01  3e-01  4e-01 1:16.1\n",
      "    7     77 -1.503723339786293e+01 1.5e+00 3.38e-01  3e-01  4e-01 1:29.0\n",
      "    8     88 -1.503701498403333e+01 1.6e+00 3.30e-01  2e-01  4e-01 1:41.9\n",
      "    9     99 -1.501601892310523e+01 1.7e+00 3.30e-01  2e-01  4e-01 1:54.9\n",
      "   10    110 -1.503360944910682e+01 1.7e+00 3.37e-01  2e-01  4e-01 2:07.5\n"
     ]
    },
    {
     "name": "stderr",
     "output_type": "stream",
     "text": [
      "INFO:root:Total optimization time required: 129.1283016204834 seconds\n"
     ]
    },
    {
     "name": "stdout",
     "output_type": "stream",
     "text": [
      "termination on maxiter=10 (Mon Jun 24 15:35:14 2024)\n",
      "final/bestever f-value = -1.498810e+01 -1.503723e+01 after 111/70 evaluations\n",
      "incumbent solution: [1.78344958e-04 1.73352461e+00 4.25105849e+00 4.59588045e+00\n",
      " 2.76662882e+00 3.96446952e+00 2.33047982e+00 2.82904886e+00 ...]\n",
      "std deviations: [0.23574909 0.4000277  0.34190995 0.30227964 0.3715697  0.31681173\n",
      " 0.29220065 0.32435522 ...]\n",
      "-15.03723339786293\n",
      "Executing gci step 1:\n",
      "\n",
      "The selected data is DoubleBracketRotationType.group_commutator_third_order_reduced rotation with B Field for the duration s = 0.007502162063886653.\n",
      "--- the report after execution:\n",
      "\n"
     ]
    },
    {
     "name": "stderr",
     "output_type": "stream",
     "text": [
      "INFO:root:Optimizing GCI step 3 with optimizer cma\n"
     ]
    },
    {
     "name": "stdout",
     "output_type": "stream",
     "text": [
      "VQE energy is -14.8569 and the DBQA yields -15.03723. \n",
      "            The target energy is -15.27613 which means the difference is for VQE             0.41923 and of the DBQA 0.2389             which can be compared to the spectral gap 1.08767.\n",
      "            The relative difference is for VQE 2.74436%             and for DBQA 1.56386%.            The energetic fidelity witness for the ground state for the\n",
      "            VQE is 0.61456 \n",
      "            and DBQA 0.78036\n",
      "            The true fidelity is 0.00129 (see boostvqe issue https://github.com/qiboteam/boostvqe/issues/51 why this value seems wrong)\n",
      "            and DBQA 0.78036\n",
      "The boosting circuit used 540 CNOT gates coming from compiled XXZ evolution and 1750 CZ gates from VQE.\n",
      "For 10 qubits this gives n_CNOT/n_qubits = 54.0 and n_CZ/n_qubits = 175.0\n",
      "==== the execution report ends here\n",
      "(5_w,11)-aCMA-ES (mu_w=3.4,w_1=42%) in dimension 11 (seed=364471, Mon Jun 24 15:35:17 2024)\n",
      "Iterat #Fevals   function value  axis ratio  sigma  min&max std  t[m:s]\n",
      "    1     11 -1.505088587966921e+01 1.0e+00 4.58e-01  4e-01  5e-01 1:03.2\n",
      "    2     22 -1.506243168954817e+01 1.1e+00 4.53e-01  4e-01  5e-01 2:05.5\n",
      "    3     33 -1.502069825045418e+01 1.2e+00 4.37e-01  4e-01  5e-01 3:08.0\n",
      "    4     44 -1.505865702377027e+01 1.4e+00 4.16e-01  4e-01  4e-01 4:11.5\n",
      "    5     55 -1.505141476714841e+01 1.4e+00 4.18e-01  3e-01  4e-01 5:13.9\n",
      "    6     66 -1.505497767173502e+01 1.5e+00 4.32e-01  3e-01  5e-01 6:17.7\n",
      "    7     77 -1.506341068183283e+01 1.5e+00 4.77e-01  4e-01  6e-01 7:20.2\n",
      "    8     88 -1.503992364524905e+01 1.8e+00 4.58e-01  3e-01  6e-01 8:26.0\n",
      "    9     99 -1.506169798336207e+01 2.0e+00 4.39e-01  3e-01  5e-01 9:28.1\n",
      "   10    110 -1.505539734737353e+01 2.1e+00 4.44e-01  3e-01  5e-01 10:31.0\n"
     ]
    },
    {
     "name": "stderr",
     "output_type": "stream",
     "text": [
      "INFO:root:Total optimization time required: 636.6700251102448 seconds\n"
     ]
    },
    {
     "name": "stdout",
     "output_type": "stream",
     "text": [
      "termination on maxiter=10 (Mon Jun 24 15:45:54 2024)\n",
      "final/bestever f-value = -1.504645e+01 -1.506341e+01 after 111/68 evaluations\n",
      "incumbent solution: [7.36934910e-04 2.37701069e+00 3.93427464e+00 5.37494684e+00\n",
      " 4.30037781e+00 5.27037115e+00 2.09732621e+00 2.52902734e+00 ...]\n",
      "std deviations: [0.27315178 0.41256375 0.44597049 0.46203372 0.52736184 0.43346301\n",
      " 0.41852325 0.44868377 ...]\n",
      "-15.063410681832831\n",
      "Executing gci step 2:\n",
      "\n",
      "The selected data is DoubleBracketRotationType.group_commutator_third_order_reduced rotation with B Field for the duration s = 0.005123563158263304.\n",
      "--- the report after execution:\n",
      "\n",
      "VQE energy is -14.8569 and the DBQA yields -15.06341. \n",
      "            The target energy is -15.27613 which means the difference is for VQE             0.41923 and of the DBQA 0.21272             which can be compared to the spectral gap 1.08767.\n",
      "            The relative difference is for VQE 2.74436%             and for DBQA 1.3925%.            The energetic fidelity witness for the ground state for the\n",
      "            VQE is 0.61456 \n",
      "            and DBQA 0.80442\n",
      "            The true fidelity is 0.0013 (see boostvqe issue https://github.com/qiboteam/boostvqe/issues/51 why this value seems wrong)\n",
      "            and DBQA 0.80442\n",
      "The boosting circuit used 2790 CNOT gates coming from compiled XXZ evolution and 8750 CZ gates from VQE.\n",
      "For 10 qubits this gives n_CNOT/n_qubits = 279.0 and n_CZ/n_qubits = 875.0\n",
      "==== the execution report ends here\n",
      "1\n"
     ]
    }
   ],
   "source": [
    "# to see how to customize the optimization run utils.execute_gci_boost? in a cell\n",
    "optimization_method = \"cma\"\n",
    "optimization_config = {\"maxiter\": 10}\n",
    "\n",
    "gci_eval_counter = 1\n",
    "nqubits = [10]\n",
    "nlayers = [7]\n",
    "seeds = [42]\n",
    "target_epochs = [2000]\n",
    "\n",
    "for nqubits in nqubits:\n",
    "    for nlayers in nlayers:\n",
    "        for seed in seeds:\n",
    "            for target_epoch in target_epochs:\n",
    "                for eo_d in utils.get_eo_d_initializations(nqubits)[-2:-1]:\n",
    "                    mode_dbr = utils.DoubleBracketRotationType.group_commutator_third_order_reduced                    \n",
    "                    utils.execute_gci_boost(\n",
    "                        nqubits=nqubits, \n",
    "                        nlayers=nlayers,\n",
    "                        seed=seed,\n",
    "                        target_epoch = target_epoch,\n",
    "                        nmb_gci_steps = 3,\n",
    "                        eo_d = eo_d,\n",
    "                        mode_dbr = mode_dbr,\n",
    "                        optimization_method = optimization_method,\n",
    "                        optimization_config = optimization_config,\n",
    "                        please_be_verbose = True\n",
    "                    )\n",
    "                    print(gci_eval_counter)\n",
    "                    gci_eval_counter +=1"
   ]
  },
  {
   "cell_type": "code",
   "execution_count": null,
   "metadata": {},
   "outputs": [],
   "source": []
  }
 ],
 "metadata": {
  "kernelspec": {
   "display_name": "Python 3 (ipykernel)",
   "language": "python",
   "name": "python3"
  },
  "language_info": {
   "codemirror_mode": {
    "name": "ipython",
    "version": 3
   },
   "file_extension": ".py",
   "mimetype": "text/x-python",
   "name": "python",
   "nbconvert_exporter": "python",
   "pygments_lexer": "ipython3",
   "version": "3.10.0"
  }
 },
 "nbformat": 4,
 "nbformat_minor": 4
}
