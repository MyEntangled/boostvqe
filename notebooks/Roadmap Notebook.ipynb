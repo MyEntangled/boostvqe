{
 "cells": [
  {
   "cell_type": "code",
   "execution_count": 9,
   "metadata": {},
   "outputs": [],
   "source": [
    "import json\n",
    "import time\n",
    "from pathlib import Path\n",
    "\n",
    "import numpy as np\n",
    "import qibo\n",
    "from qibo import hamiltonians, set_backend\n",
    "from boostvqe.models.dbi.double_bracket import (\n",
    "    DoubleBracketGeneratorType,\n",
    "    DoubleBracketIteration,\n",
    ")\n",
    "\n",
    "from boostvqe.ansatze import VQE, build_circuit\n",
    "from boostvqe.utils import apply_dbi_steps, rotate_h_with_vqe\n"
   ]
  },
  {
   "cell_type": "code",
   "execution_count": null,
   "metadata": {},
   "outputs": [],
   "source": [
    "\n",
    "qibo.set_backend(\"numpy\")\n",
    "\n",
    "# set the path string which define the results\n",
    "path = \"../results/vqe_data/with_params/10q3l/sgd_10q_3l_42/\"\n",
    "\n",
    "# set the target epoch to which apply DBQA and the number of steps\n",
    "target_epoch = 2000\n",
    "dbi_steps = 1\n",
    "\n",
    "# upload system configuration and parameters for all the training\n",
    "with open(path + \"optimization_results.json\") as file:\n",
    "    config = json.load(file)\n",
    "\n",
    "losses = dict(np.load(path + \"energies.npz\"))[\"0\"]\n",
    "params = np.load(path + f\"parameters/params_ite{target_epoch}.npy\")\n",
    "\n",
    "\n",
    "# build circuit, hamiltonian and VQE\n",
    "hamiltonian = hamiltonians.XXZ(nqubits=config[\"nqubits\"], delta=0.5)\n",
    "circuit = build_circuit(config[\"nqubits\"], config[\"nlayers\"], \"numpy\")\n",
    "vqe = VQE(circuit, hamiltonian)\n",
    "zero_state = hamiltonian.backend.zero_state(config[\"nqubits\"])\n",
    "zero_state_t = np.transpose([zero_state])\n",
    "target_energy = np.min(hamiltonian.eigenvalues())\n",
    "\n",
    "\n",
    "# set target parameters into the VQE\n",
    "vqe.circuit.set_parameters(params)\n",
    "vqe_state = vqe.circuit().state()\n",
    "\n",
    "ene1 = hamiltonian.expectation(vqe_state)\n"
   ]
  },
  {
   "cell_type": "code",
   "execution_count": 2,
   "metadata": {},
   "outputs": [],
   "source": [
    "v_vqe = vqe.circuit.unitary()"
   ]
  },
  {
   "cell_type": "code",
   "execution_count": 3,
   "metadata": {},
   "outputs": [],
   "source": [
    "h_vqe = v_vqe.conj().T @ hamiltonian.matrix @ v_vqe\n",
    "h_vqe_ham = hamiltonians.Hamiltonian(nqubits = config[\"nqubits\"],matrix=h_vqe)"
   ]
  },
  {
   "cell_type": "markdown",
   "metadata": {},
   "source": [
    "# This is the scenario that we can try to compile\n",
    "$D= \\sum_i B_i Z_i$\n",
    "and Group commutator"
   ]
  },
  {
   "cell_type": "code",
   "execution_count": 16,
   "metadata": {},
   "outputs": [
    {
     "name": "stderr",
     "output_type": "stream",
     "text": [
      "[Qibo 0.2.9|WARNING|2024-06-07 11:07:33]: Calculating the dense form of a symbolic Hamiltonian. This operation is memory inefficient.\n",
      "WARNING:qibo.config:Calculating the dense form of a symbolic Hamiltonian. This operation is memory inefficient.\n"
     ]
    }
   ],
   "source": [
    "from qibo import symbols, hamiltonians\n",
    "b_list = [1+np.sin(x) for x in np.linspace(-1,1,config[\"nqubits\"]) ]\n",
    "#b_list = np.random.rand(config[\"nqubits\"])\n",
    "d = hamiltonians.SymbolicHamiltonian( sum([b*symbols.Z(j) for j,b in zip(range(config[\"nqubits\"]),b_list)]))\n",
    "dm = d.dense.matrix"
   ]
  },
  {
   "cell_type": "markdown",
   "metadata": {},
   "source": [
    "Sam prepared this function to check if the sign is correct. This we should use in eventual hpc training"
   ]
  },
  {
   "cell_type": "code",
   "execution_count": 92,
   "metadata": {},
   "outputs": [
    {
     "ename": "KeyboardInterrupt",
     "evalue": "",
     "output_type": "error",
     "traceback": [
      "\u001b[0;31m---------------------------------------------------------------------------\u001b[0m",
      "\u001b[0;31mKeyboardInterrupt\u001b[0m                         Traceback (most recent call last)",
      "Cell \u001b[0;32mIn[92], line 11\u001b[0m\n\u001b[1;32m      7\u001b[0m inspect\u001b[38;5;241m.\u001b[39mgetfile(dbi\u001b[38;5;241m.\u001b[39m\u001b[38;5;18m__class__\u001b[39m)\n\u001b[1;32m      9\u001b[0m step \u001b[38;5;241m=\u001b[39m \u001b[38;5;241m0.12\u001b[39m\n\u001b[0;32m---> 11\u001b[0m u_gc3 \u001b[38;5;241m=\u001b[39m \u001b[43mdbi\u001b[49m\u001b[38;5;241;43m.\u001b[39;49m\u001b[43meval_dbr_unitary\u001b[49m\u001b[43m(\u001b[49m\u001b[43mstep\u001b[49m\u001b[43m,\u001b[49m\u001b[43md\u001b[49m\u001b[38;5;241;43m=\u001b[39;49m\u001b[43mdm\u001b[49m\u001b[43m,\u001b[49m\u001b[43m \u001b[49m\u001b[43mmode\u001b[49m\u001b[43m \u001b[49m\u001b[38;5;241;43m=\u001b[39;49m\u001b[43m \u001b[49m\u001b[43mmode\u001b[49m\u001b[43m)\u001b[49m\n\u001b[1;32m     12\u001b[0m h_gc3_exposed \u001b[38;5;241m=\u001b[39m hamiltonians\u001b[38;5;241m.\u001b[39mHamiltonian(matrix \u001b[38;5;241m=\u001b[39m u_gc3\u001b[38;5;241m.\u001b[39mconj()\u001b[38;5;241m.\u001b[39mT \u001b[38;5;241m@\u001b[39m deepcopy(h_vqe_ham)\u001b[38;5;241m.\u001b[39mmatrix \u001b[38;5;241m@\u001b[39m u_gc3 )\n\u001b[1;32m     14\u001b[0m dbi(\u001b[38;5;241m0.12\u001b[39m,d\u001b[38;5;241m=\u001b[39mdm)\n",
      "File \u001b[0;32m~/Projectes_git/boostvqe/src/boostvqe/models/dbi/double_bracket.py:171\u001b[0m, in \u001b[0;36mDoubleBracketIteration.eval_dbr_unitary\u001b[0;34m(self, step, mode, d)\u001b[0m\n\u001b[1;32m    166\u001b[0m     \u001b[38;5;28;01mif\u001b[39;00m d \u001b[38;5;129;01mis\u001b[39;00m \u001b[38;5;28;01mNone\u001b[39;00m:\n\u001b[1;32m    167\u001b[0m         d \u001b[38;5;241m=\u001b[39m \u001b[38;5;28mself\u001b[39m\u001b[38;5;241m.\u001b[39mdiagonal_h_matrix\n\u001b[1;32m    168\u001b[0m     operator \u001b[38;5;241m=\u001b[39m (\n\u001b[1;32m    169\u001b[0m         \u001b[38;5;28mself\u001b[39m\u001b[38;5;241m.\u001b[39mh\u001b[38;5;241m.\u001b[39mexp(\u001b[38;5;241m-\u001b[39mstep \u001b[38;5;241m*\u001b[39m (np\u001b[38;5;241m.\u001b[39msqrt(\u001b[38;5;241m5\u001b[39m) \u001b[38;5;241m-\u001b[39m \u001b[38;5;241m1\u001b[39m) \u001b[38;5;241m/\u001b[39m \u001b[38;5;241m2\u001b[39m)\n\u001b[1;32m    170\u001b[0m         \u001b[38;5;241m@\u001b[39m \u001b[38;5;28mself\u001b[39m\u001b[38;5;241m.\u001b[39mbackend\u001b[38;5;241m.\u001b[39mcalculate_matrix_exp(\u001b[38;5;241m-\u001b[39mstep \u001b[38;5;241m*\u001b[39m (np\u001b[38;5;241m.\u001b[39msqrt(\u001b[38;5;241m5\u001b[39m) \u001b[38;5;241m-\u001b[39m \u001b[38;5;241m1\u001b[39m) \u001b[38;5;241m/\u001b[39m \u001b[38;5;241m2\u001b[39m, d)\n\u001b[0;32m--> 171\u001b[0m         \u001b[38;5;241m@\u001b[39m \u001b[38;5;28;43mself\u001b[39;49m\u001b[38;5;241;43m.\u001b[39;49m\u001b[43mh\u001b[49m\u001b[38;5;241;43m.\u001b[39;49m\u001b[43mexp\u001b[49m\u001b[43m(\u001b[49m\u001b[43mstep\u001b[49m\u001b[43m)\u001b[49m\n\u001b[1;32m    172\u001b[0m         \u001b[38;5;241m@\u001b[39m \u001b[38;5;28mself\u001b[39m\u001b[38;5;241m.\u001b[39mbackend\u001b[38;5;241m.\u001b[39mcalculate_matrix_exp(step \u001b[38;5;241m*\u001b[39m (np\u001b[38;5;241m.\u001b[39msqrt(\u001b[38;5;241m5\u001b[39m) \u001b[38;5;241m+\u001b[39m \u001b[38;5;241m1\u001b[39m) \u001b[38;5;241m/\u001b[39m \u001b[38;5;241m2\u001b[39m, d)\n\u001b[1;32m    173\u001b[0m         \u001b[38;5;241m@\u001b[39m \u001b[38;5;28mself\u001b[39m\u001b[38;5;241m.\u001b[39mh\u001b[38;5;241m.\u001b[39mexp(\u001b[38;5;241m-\u001b[39mstep \u001b[38;5;241m*\u001b[39m (\u001b[38;5;241m3\u001b[39m \u001b[38;5;241m-\u001b[39m np\u001b[38;5;241m.\u001b[39msqrt(\u001b[38;5;241m5\u001b[39m)) \u001b[38;5;241m/\u001b[39m \u001b[38;5;241m2\u001b[39m)\n\u001b[1;32m    174\u001b[0m         \u001b[38;5;241m@\u001b[39m \u001b[38;5;28mself\u001b[39m\u001b[38;5;241m.\u001b[39mbackend\u001b[38;5;241m.\u001b[39mcalculate_matrix_exp(\u001b[38;5;241m-\u001b[39mstep, d)\n\u001b[1;32m    175\u001b[0m     )\n\u001b[1;32m    176\u001b[0m operator_dagger \u001b[38;5;241m=\u001b[39m \u001b[38;5;28mself\u001b[39m\u001b[38;5;241m.\u001b[39mbackend\u001b[38;5;241m.\u001b[39mcast(\n\u001b[1;32m    177\u001b[0m     np\u001b[38;5;241m.\u001b[39marray(np\u001b[38;5;241m.\u001b[39mmatrix(\u001b[38;5;28mself\u001b[39m\u001b[38;5;241m.\u001b[39mbackend\u001b[38;5;241m.\u001b[39mto_numpy(operator))\u001b[38;5;241m.\u001b[39mgetH())\n\u001b[1;32m    178\u001b[0m )\n\u001b[1;32m    179\u001b[0m \u001b[38;5;28;01mreturn\u001b[39;00m operator\n",
      "File \u001b[0;32m~/Projectes_git/qibo/src/qibo/hamiltonians/hamiltonians.py:112\u001b[0m, in \u001b[0;36mHamiltonian.exp\u001b[0;34m(self, a)\u001b[0m\n\u001b[1;32m    110\u001b[0m \u001b[38;5;28;01mif\u001b[39;00m \u001b[38;5;28mself\u001b[39m\u001b[38;5;241m.\u001b[39m_exp\u001b[38;5;241m.\u001b[39mget(\u001b[38;5;124m\"\u001b[39m\u001b[38;5;124ma\u001b[39m\u001b[38;5;124m\"\u001b[39m) \u001b[38;5;241m!=\u001b[39m a:\n\u001b[1;32m    111\u001b[0m     \u001b[38;5;28mself\u001b[39m\u001b[38;5;241m.\u001b[39m_exp[\u001b[38;5;124m\"\u001b[39m\u001b[38;5;124ma\u001b[39m\u001b[38;5;124m\"\u001b[39m] \u001b[38;5;241m=\u001b[39m a\n\u001b[0;32m--> 112\u001b[0m     \u001b[38;5;28mself\u001b[39m\u001b[38;5;241m.\u001b[39m_exp[\u001b[38;5;124m\"\u001b[39m\u001b[38;5;124mresult\u001b[39m\u001b[38;5;124m\"\u001b[39m] \u001b[38;5;241m=\u001b[39m \u001b[38;5;28;43mself\u001b[39;49m\u001b[38;5;241;43m.\u001b[39;49m\u001b[43mbackend\u001b[49m\u001b[38;5;241;43m.\u001b[39;49m\u001b[43mcalculate_matrix_exp\u001b[49m\u001b[43m(\u001b[49m\n\u001b[1;32m    113\u001b[0m \u001b[43m        \u001b[49m\u001b[43ma\u001b[49m\u001b[43m,\u001b[49m\u001b[43m \u001b[49m\u001b[38;5;28;43mself\u001b[39;49m\u001b[38;5;241;43m.\u001b[39;49m\u001b[43mmatrix\u001b[49m\u001b[43m,\u001b[49m\u001b[43m \u001b[49m\u001b[38;5;28;43mself\u001b[39;49m\u001b[38;5;241;43m.\u001b[39;49m\u001b[43m_eigenvectors\u001b[49m\u001b[43m,\u001b[49m\u001b[43m \u001b[49m\u001b[38;5;28;43mself\u001b[39;49m\u001b[38;5;241;43m.\u001b[39;49m\u001b[43m_eigenvalues\u001b[49m\n\u001b[1;32m    114\u001b[0m \u001b[43m    \u001b[49m\u001b[43m)\u001b[49m\n\u001b[1;32m    115\u001b[0m \u001b[38;5;28;01mreturn\u001b[39;00m \u001b[38;5;28mself\u001b[39m\u001b[38;5;241m.\u001b[39m_exp\u001b[38;5;241m.\u001b[39mget(\u001b[38;5;124m\"\u001b[39m\u001b[38;5;124mresult\u001b[39m\u001b[38;5;124m\"\u001b[39m)\n",
      "File \u001b[0;32m~/Projectes_git/qibo/src/qibo/backends/numpy.py:759\u001b[0m, in \u001b[0;36mNumpyBackend.calculate_matrix_exp\u001b[0;34m(self, a, matrix, eigenvectors, eigenvalues)\u001b[0m\n\u001b[1;32m    757\u001b[0m     \u001b[38;5;28;01melse\u001b[39;00m:\n\u001b[1;32m    758\u001b[0m         \u001b[38;5;28;01mfrom\u001b[39;00m \u001b[38;5;21;01mscipy\u001b[39;00m\u001b[38;5;21;01m.\u001b[39;00m\u001b[38;5;21;01mlinalg\u001b[39;00m \u001b[38;5;28;01mimport\u001b[39;00m expm\n\u001b[0;32m--> 759\u001b[0m     \u001b[38;5;28;01mreturn\u001b[39;00m \u001b[43mexpm\u001b[49m\u001b[43m(\u001b[49m\u001b[38;5;241;43m-\u001b[39;49m\u001b[38;5;241;43m1\u001b[39;49m\u001b[43mj\u001b[49m\u001b[43m \u001b[49m\u001b[38;5;241;43m*\u001b[39;49m\u001b[43m \u001b[49m\u001b[43ma\u001b[49m\u001b[43m \u001b[49m\u001b[38;5;241;43m*\u001b[39;49m\u001b[43m \u001b[49m\u001b[43mmatrix\u001b[49m\u001b[43m)\u001b[49m\n\u001b[1;32m    760\u001b[0m expd \u001b[38;5;241m=\u001b[39m \u001b[38;5;28mself\u001b[39m\u001b[38;5;241m.\u001b[39mnp\u001b[38;5;241m.\u001b[39mdiag(\u001b[38;5;28mself\u001b[39m\u001b[38;5;241m.\u001b[39mnp\u001b[38;5;241m.\u001b[39mexp(\u001b[38;5;241m-\u001b[39m\u001b[38;5;241m1\u001b[39mj \u001b[38;5;241m*\u001b[39m a \u001b[38;5;241m*\u001b[39m eigenvalues))\n\u001b[1;32m    761\u001b[0m ud \u001b[38;5;241m=\u001b[39m \u001b[38;5;28mself\u001b[39m\u001b[38;5;241m.\u001b[39mnp\u001b[38;5;241m.\u001b[39mtranspose(np\u001b[38;5;241m.\u001b[39mconj(eigenvectors))\n",
      "File \u001b[0;32m/usr/lib/python3/dist-packages/scipy/linalg/_matfuncs.py:350\u001b[0m, in \u001b[0;36mexpm\u001b[0;34m(A)\u001b[0m\n\u001b[1;32m    347\u001b[0m \u001b[38;5;28;01mif\u001b[39;00m s \u001b[38;5;241m!=\u001b[39m \u001b[38;5;241m0\u001b[39m:  \u001b[38;5;66;03m# scaling needed\u001b[39;00m\n\u001b[1;32m    348\u001b[0m     Am[:\u001b[38;5;241m4\u001b[39m] \u001b[38;5;241m*\u001b[39m\u001b[38;5;241m=\u001b[39m [[[\u001b[38;5;241m2\u001b[39m\u001b[38;5;241m*\u001b[39m\u001b[38;5;241m*\u001b[39m(\u001b[38;5;241m-\u001b[39ms)]], [[\u001b[38;5;241m4\u001b[39m\u001b[38;5;241m*\u001b[39m\u001b[38;5;241m*\u001b[39m(\u001b[38;5;241m-\u001b[39ms)]], [[\u001b[38;5;241m16\u001b[39m\u001b[38;5;241m*\u001b[39m\u001b[38;5;241m*\u001b[39m(\u001b[38;5;241m-\u001b[39ms)]], [[\u001b[38;5;241m64\u001b[39m\u001b[38;5;241m*\u001b[39m\u001b[38;5;241m*\u001b[39m(\u001b[38;5;241m-\u001b[39ms)]]]\n\u001b[0;32m--> 350\u001b[0m \u001b[43mpade_UV_calc\u001b[49m\u001b[43m(\u001b[49m\u001b[43mAm\u001b[49m\u001b[43m,\u001b[49m\u001b[43m \u001b[49m\u001b[43mn\u001b[49m\u001b[43m,\u001b[49m\u001b[43m \u001b[49m\u001b[43mm\u001b[49m\u001b[43m)\u001b[49m\n\u001b[1;32m    351\u001b[0m eAw \u001b[38;5;241m=\u001b[39m Am[\u001b[38;5;241m0\u001b[39m]\n\u001b[1;32m    353\u001b[0m \u001b[38;5;28;01mif\u001b[39;00m s \u001b[38;5;241m!=\u001b[39m \u001b[38;5;241m0\u001b[39m:  \u001b[38;5;66;03m# squaring needed\u001b[39;00m\n",
      "\u001b[0;31mKeyboardInterrupt\u001b[0m: "
     ]
    }
   ],
   "source": [
    "from copy import deepcopy\n",
    "dbi = DoubleBracketIteration(\n",
    "    hamiltonian=deepcopy(h_vqe_ham),\n",
    "    mode=DoubleBracketGeneratorType.group_commutator_3,\n",
    ")\n",
    "import inspect\n",
    "inspect.getfile(dbi.__class__)\n",
    "\n",
    "step = 0.12\n",
    "\n",
    "u_gc3 = dbi.eval_dbr_unitary(step,d=dm, mode = mode)\n",
    "h_gc3_exposed = hamiltonians.Hamiltonian(matrix = u_gc3.conj().T @ deepcopy(h_vqe_ham).matrix @ u_gc3 )\n",
    "\n",
    "dbi(0.12,d=dm)\n",
    "energy_dbi_gc3 = dbi.h.expectation(zero_state_t)\n",
    "energy_dbi_gc3_exposed = h_gc3_exposed.expectation(zero_state_t)"
   ]
  },
  {
   "cell_type": "code",
   "execution_count": null,
   "metadata": {},
   "outputs": [],
   "source": [
    "u1 = dbi.h.exp(-step * (np.sqrt(5) - 1) / 2)\n",
    "u2 = dbi.backend.calculate_matrix_exp(-step * (np.sqrt(5) - 1) / 2, dm)\n",
    "u3 = dbi.h.exp(step)\n",
    "u4 = dbi.backend.calculate_matrix_exp(step * (np.sqrt(5) + 1) / 2, dm)\n",
    "u5 = dbi.h.exp(-step * (3 - np.sqrt(5)) / 2)\n",
    "u6 = dbi.backend.calculate_matrix_exp(-step, dm)\n",
    "\n",
    "u_gc3_by_hand = u1 @ u2 @ u3 @ u4 @ u5 @ u6\n",
    "h_gc3_by_hand = hamiltonians.Hamiltonian(matrix = u_gc3_by_hand.conj().T @ deepcopy(h_vqe_ham).matrix @ u_gc3_by_hand )\n",
    "\n",
    "energy_dbi_gc3_by_hand = h_gc3_by_hand.expectation(zero_state_t)"
   ]
  },
  {
   "cell_type": "code",
   "execution_count": null,
   "metadata": {},
   "outputs": [
    {
     "ename": "NameError",
     "evalue": "name 'energy_dbi_gc3' is not defined",
     "output_type": "error",
     "traceback": [
      "\u001b[0;31m---------------------------------------------------------------------------\u001b[0m",
      "\u001b[0;31mNameError\u001b[0m                                 Traceback (most recent call last)",
      "Cell \u001b[0;32mIn[91], line 1\u001b[0m\n\u001b[0;32m----> 1\u001b[0m \u001b[38;5;28mprint\u001b[39m(ene1,\u001b[43menergy_dbi_gc3\u001b[49m)\n",
      "\u001b[0;31mNameError\u001b[0m: name 'energy_dbi_gc3' is not defined"
     ]
    }
   ],
   "source": [
    "print(ene1,energy_dbi_gc3)"
   ]
  },
  {
   "cell_type": "markdown",
   "metadata": {},
   "source": [
    "# Circuits by hand\n"
   ]
  },
  {
   "cell_type": "code",
   "execution_count": null,
   "metadata": {},
   "outputs": [],
   "source": [
    "from boostvqe.compiling_XXZ import *\n",
    "v1_circ = nqubit_XXZ_decomposition(nqubits=config[\"nqubits\"],t=-step * (np.sqrt(5) - 1) / 2,delta=0.5,steps=16)\n",
    "v1 = v_vqe.conj().T @ v1_circ.unitary() @ v_vqe\n",
    "\n",
    "v2_circ = nqubit_XXZ_decomposition(nqubits=config[\"nqubits\"],t=step ,delta=0.5,steps=6)\n",
    "v2 = v_vqe.conj().T @ v2_circ.unitary()@ v_vqe\n",
    "\n",
    "v3_circ = nqubit_XXZ_decomposition(nqubits=config[\"nqubits\"],t=-step * (3 - np.sqrt(5)) / 2,delta=0.5,steps=16)\n",
    "v3 = v_vqe.conj().T @ v3_circ.unitary()@ v_vqe\n",
    "\n",
    "vd1_circ = Circuit(nqubits = config[\"nqubits\"])\n",
    "vd1_circ.add"
   ]
  },
  {
   "cell_type": "code",
   "execution_count": null,
   "metadata": {},
   "outputs": [],
   "source": [
    "u_gc3_CNOT = v1 @ u2 @ v2  @ u4 @ v3 @ u6\n"
   ]
  },
  {
   "cell_type": "code",
   "execution_count": null,
   "metadata": {},
   "outputs": [],
   "source": []
  },
  {
   "cell_type": "code",
   "execution_count": null,
   "metadata": {},
   "outputs": [],
   "source": []
  },
  {
   "cell_type": "code",
   "execution_count": null,
   "metadata": {},
   "outputs": [],
   "source": []
  },
  {
   "cell_type": "code",
   "execution_count": null,
   "metadata": {},
   "outputs": [],
   "source": []
  },
  {
   "cell_type": "code",
   "execution_count": 23,
   "metadata": {},
   "outputs": [
    {
     "name": "stdout",
     "output_type": "stream",
     "text": [
      "0.1\n",
      "-0.17370846444809196\n",
      "0.11000000000000001\n",
      "-0.1858758485760017\n",
      "0.12000000000000001\n",
      "-0.19209367273542632\n",
      "0.13\n",
      "-0.19163474209593012\n",
      "0.14\n",
      "-0.18406164639815614\n"
     ]
    }
   ],
   "source": [
    "        \n",
    "for t in np.linspace(.1,.14,5):\n",
    "    for mode  in [DoubleBracketGeneratorType.group_commutator_3]:        \n",
    "        print (t)\n",
    "        dbi(t,d=dm, mode = mode)\n",
    "        print(dbi.h.expectation(zero_state_t)-ene1)\n",
    "        dbi.h = deepcopy(h_vqe_ham)"
   ]
  },
  {
   "cell_type": "code",
   "execution_count": 89,
   "metadata": {},
   "outputs": [],
   "source": []
  },
  {
   "cell_type": "code",
   "execution_count": 90,
   "metadata": {},
   "outputs": [
    {
     "data": {
      "text/plain": [
       "-14.751809336151513"
      ]
     },
     "execution_count": 90,
     "metadata": {},
     "output_type": "execute_result"
    }
   ],
   "source": [
    "\n"
   ]
  },
  {
   "cell_type": "code",
   "execution_count": 67,
   "metadata": {},
   "outputs": [
    {
     "data": {
      "text/plain": [
       "-0.17370846444809196"
      ]
     },
     "execution_count": 67,
     "metadata": {},
     "output_type": "execute_result"
    }
   ],
   "source": [
    "_ - ene1"
   ]
  },
  {
   "cell_type": "code",
   "execution_count": 31,
   "metadata": {},
   "outputs": [],
   "source": []
  },
  {
   "cell_type": "code",
   "execution_count": 32,
   "metadata": {},
   "outputs": [],
   "source": []
  },
  {
   "cell_type": "code",
   "execution_count": 84,
   "metadata": {},
   "outputs": [],
   "source": []
  },
  {
   "cell_type": "code",
   "execution_count": 85,
   "metadata": {},
   "outputs": [],
   "source": [
    "u_gc3_CNOT = v1 @ u2 @ v2  @ u4 @ v3 @ u6\n"
   ]
  },
  {
   "cell_type": "code",
   "execution_count": 86,
   "metadata": {},
   "outputs": [],
   "source": [
    "\n",
    "dbi2 = DoubleBracketIteration(\n",
    "    hamiltonian=hamiltonians.Hamiltonian(matrix = u_gc3_CNOT.conj().T @ deepcopy(h_vqe_ham).matrix @ u_gc3_CNOT, nqubits = config[\"nqubits\"]),\n",
    "    mode=DoubleBracketGeneratorType.single_commutator,\n",
    ")"
   ]
  },
  {
   "cell_type": "code",
   "execution_count": 87,
   "metadata": {},
   "outputs": [
    {
     "data": {
      "text/plain": [
       "-14.74579723717103"
      ]
     },
     "execution_count": 87,
     "metadata": {},
     "output_type": "execute_result"
    }
   ],
   "source": [
    "dbi2.h.expectation(zero_state_t)"
   ]
  },
  {
   "cell_type": "code",
   "execution_count": 88,
   "metadata": {},
   "outputs": [
    {
     "data": {
      "text/plain": [
       "-0.18562264311544752"
      ]
     },
     "execution_count": 88,
     "metadata": {},
     "output_type": "execute_result"
    }
   ],
   "source": [
    "_ - ene1"
   ]
  },
  {
   "cell_type": "markdown",
   "metadata": {},
   "source": [
    "$\\langle 0| V_1\\dagger U_\\theta^\\dagger  H_0 U_\\theta V_1 |0\\rangle$\n",
    "\n",
    "$|dbqa \\rangle = U_\\theta V_1 |0\\rangle$"
   ]
  },
  {
   "cell_type": "code",
   "execution_count": null,
   "metadata": {},
   "outputs": [],
   "source": []
  },
  {
   "cell_type": "code",
   "execution_count": null,
   "metadata": {},
   "outputs": [],
   "source": []
  },
  {
   "cell_type": "code",
   "execution_count": 19,
   "metadata": {},
   "outputs": [
    {
     "name": "stdout",
     "output_type": "stream",
     "text": [
      "0.001\n",
      "0.03049416970667984\n",
      "0.001\n",
      "-2.93783569489392e-05\n",
      "0.0505\n",
      "3.1454674430590615\n",
      "0.0505\n",
      "-0.06606296647770904\n",
      "0.1\n",
      "7.074245955138497\n",
      "0.1\n",
      "-0.17370846444809196\n"
     ]
    }
   ],
   "source": [
    "        \n",
    "for t in np.linspace(.001,.1,3):\n",
    "    for mode  in [DoubleBracketGeneratorType.single_commutator, DoubleBracketGeneratorType.group_commutator_3]:\n",
    "        \n",
    "        print (t)\n",
    "        dbi(t,d=dm, mode = mode)\n",
    "        print(dbi.h.expectation(zero_state_t)-ene1)\n",
    "        dbi.h = deepcopy(h_vqe_ham)"
   ]
  },
  {
   "cell_type": "code",
   "execution_count": null,
   "metadata": {},
   "outputs": [],
   "source": []
  },
  {
   "cell_type": "code",
   "execution_count": 25,
   "metadata": {},
   "outputs": [
    {
     "name": "stdout",
     "output_type": "stream",
     "text": [
      "0.001\n",
      "-0.02824536086750129\n",
      "0.001\n",
      "2.9380340411222505e-05\n",
      "0.009250000000000001\n",
      "-0.1680169705742678\n",
      "0.009250000000000001\n",
      "0.0025178786739274983\n",
      "0.0175\n",
      "-0.12216196003698343\n",
      "0.0175\n",
      "0.00904829844227173\n",
      "0.025750000000000002\n",
      "0.12697893245887215\n",
      "0.025750000000000002\n",
      "0.019708017902930308\n",
      "0.034\n",
      "0.5809235629930072\n",
      "0.034\n",
      "0.03461163575132886\n",
      "0.04225\n",
      "1.2225916652057816\n",
      "0.04225\n",
      "0.0538671984955581\n",
      "0.0505\n",
      "2.0170847723539627\n",
      "0.0505\n",
      "0.07753647566399202\n",
      "0.058750000000000004\n",
      "2.9158127725243492\n",
      "0.058750000000000004\n",
      "0.1055948106119633\n",
      "0.067\n",
      "3.863256246756647\n",
      "0.067\n",
      "0.13789621831791443\n",
      "0.07525000000000001\n",
      "4.804975983893996\n",
      "0.07525000000000001\n",
      "0.1741487964359827\n",
      "0.0835\n",
      "5.695149857470556\n",
      "0.0835\n",
      "0.2139042537835767\n",
      "0.09175\n",
      "6.502038526684503\n",
      "0.09175\n",
      "0.2565636208389197\n",
      "0.1\n",
      "7.210326149454998\n",
      "0.1\n",
      "0.30139922935152264\n"
     ]
    }
   ],
   "source": [
    "        \n",
    "for t in np.linspace(.001,.1,13):\n",
    "    for mode  in [DoubleBracketGeneratorType.single_commutator, DoubleBracketGeneratorType.group_commutator_3]:\n",
    "        \n",
    "        print (t)\n",
    "        dbi(t,d=-dm, mode = mode)\n",
    "        print(dbi.h.expectation(zero_state_t)-ene1)\n",
    "        dbi.h = deepcopy(h_vqe_ham)"
   ]
  },
  {
   "cell_type": "markdown",
   "metadata": {},
   "source": [
    "## We need to schedule unitaries such as this one below\n",
    "\n",
    "This later needs to be generalized to the GC3 PR from Andrew to get the same performance\n",
    "\n"
   ]
  },
  {
   "cell_type": "code",
   "execution_count": null,
   "metadata": {},
   "outputs": [],
   "source": [
    "def u_gcr(h,d,t):\n",
    "    ud =  d.exp(t)\n",
    "    u = h.exp(-t)\n",
    "    return     ud.conj().T @ u @ud\n"
   ]
  },
  {
   "cell_type": "code",
   "execution_count": null,
   "metadata": {},
   "outputs": [
    {
     "name": "stdout",
     "output_type": "stream",
     "text": [
      "5.329070518200751e-15\n",
      "3.963354089364657e-10\n",
      "1.5823502508283127e-09\n"
     ]
    }
   ],
   "source": [
    "for t in np.linspace(1e-9,1e-6,3):\n",
    "    u_gcrd = u_gcr(h_vqe_ham,d,t)\n",
    "    print(h_vqe_ham.expectation(u_gcrd@zero_state_t)-ene1)"
   ]
  },
  {
   "cell_type": "markdown",
   "metadata": {},
   "source": [
    "- This doesn't work now. It's better to have the correct expose dbr unitary and then take the exposed unitaries and compare to compiled circuits.\n"
   ]
  },
  {
   "cell_type": "markdown",
   "metadata": {},
   "source": [
    "If someone picks it up:\n",
    "- please try to find the correct scheduling as above\n",
    "- then expose the unitaries\n",
    "- and then use the XXZ decomposition function to replace h.exp(-t) by a circuit"
   ]
  },
  {
   "cell_type": "markdown",
   "metadata": {},
   "source": []
  }
 ],
 "metadata": {
  "kernelspec": {
   "display_name": "Python 3",
   "language": "python",
   "name": "python3"
  },
  "language_info": {
   "codemirror_mode": {
    "name": "ipython",
    "version": 3
   },
   "file_extension": ".py",
   "mimetype": "text/x-python",
   "name": "python",
   "nbconvert_exporter": "python",
   "pygments_lexer": "ipython3",
   "version": "3.12.3"
  }
 },
 "nbformat": 4,
 "nbformat_minor": 2
}
