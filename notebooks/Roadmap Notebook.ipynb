{
 "cells": [
  {
   "cell_type": "code",
   "execution_count": 4,
   "metadata": {},
   "outputs": [],
   "source": [
    "import json\n",
    "import time\n",
    "from pathlib import Path\n",
    "\n",
    "import numpy as np\n",
    "import qibo\n",
    "from qibo import hamiltonians, set_backend\n",
    "from boostvqe.models.dbi.double_bracket import (\n",
    "    DoubleBracketGeneratorType,\n",
    "    DoubleBracketIteration,\n",
    ")\n",
    "\n",
    "from boostvqe.ansatze import VQE, build_circuit\n",
    "from boostvqe.utils import apply_dbi_steps, rotate_h_with_vqe\n"
   ]
  },
  {
   "cell_type": "code",
   "execution_count": 5,
   "metadata": {},
   "outputs": [
    {
     "name": "stderr",
     "output_type": "stream",
     "text": [
      "[Qibo 0.2.9|INFO|2024-06-10 15:23:56]: Using numpy backend on /CPU:0\n",
      "INFO:qibo.config:Using numpy backend on /CPU:0\n",
      "[Qibo 0.2.9|INFO|2024-06-10 15:23:56]: Using numpy backend on /CPU:0\n",
      "INFO:qibo.config:Using numpy backend on /CPU:0\n"
     ]
    },
    {
     "name": "stdout",
     "output_type": "stream",
     "text": [
      "In the VQE numpy\n"
     ]
    }
   ],
   "source": [
    "\n",
    "qibo.set_backend(\"numpy\")\n",
    "\n",
    "# set the path string which define the results\n",
    "path = \"../results/vqe_data/with_params/10q3l/sgd_10q_3l_42/\"\n",
    "\n",
    "# set the target epoch to which apply DBQA and the number of steps\n",
    "target_epoch = 2000\n",
    "dbi_steps = 1\n",
    "\n",
    "# upload system configuration and parameters for all the training\n",
    "with open(path + \"optimization_results.json\") as file:\n",
    "    config = json.load(file)\n",
    "\n",
    "losses = dict(np.load(path + \"energies.npz\"))[\"0\"]\n",
    "params = np.load(path + f\"parameters/params_ite{target_epoch}.npy\")\n",
    "\n",
    "\n",
    "# build circuit, hamiltonian and VQE\n",
    "hamiltonian = hamiltonians.XXZ(nqubits=config[\"nqubits\"], delta=0.5)\n",
    "circuit = build_circuit(config[\"nqubits\"], config[\"nlayers\"], \"numpy\")\n",
    "vqe = VQE(circuit, hamiltonian)\n",
    "zero_state = hamiltonian.backend.zero_state(config[\"nqubits\"])\n",
    "zero_state_t = np.transpose([zero_state])\n",
    "target_energy = np.min(hamiltonian.eigenvalues())\n",
    "\n",
    "\n",
    "# set target parameters into the VQE\n",
    "vqe.circuit.set_parameters(params)\n",
    "vqe_state = vqe.circuit().state()\n",
    "\n",
    "ene1 = hamiltonian.expectation(vqe_state)\n"
   ]
  },
  {
   "cell_type": "markdown",
   "metadata": {},
   "source": [
    "# This is the scenario that we can try to compile\n",
    "$D= \\sum_i B_i Z_i$\n",
    "and Group commutator"
   ]
  },
  {
   "cell_type": "code",
   "execution_count": 12,
   "metadata": {},
   "outputs": [
    {
     "data": {
      "text/plain": [
       "-14.736563359199838"
      ]
     },
     "execution_count": 12,
     "metadata": {},
     "output_type": "execute_result"
    }
   ],
   "source": [
    "from qibo import symbols, hamiltonians\n",
    "b_list = [1+np.sin(x) for x in np.linspace(-1,1,config[\"nqubits\"]) ]\n",
    "#b_list = np.random.rand(config[\"nqubits\"])\n",
    "d = hamiltonians.SymbolicHamiltonian( sum([b*symbols.Z(j) for j,b in zip(range(config[\"nqubits\"]),b_list)]))\n",
    "\n",
    "step = 0.12\n",
    "vd1_circ = d.circuit( -step * (np.sqrt(5) - 1) / 2 ) \n",
    "vd2_circ = d.circuit( step * (np.sqrt(5) + 1) / 2 )\n",
    "vd3_circ = d.circuit(-step  ) \n",
    "\n",
    "from boostvqe.compiling_XXZ import *\n",
    "\n",
    "nmb_ts_steps = 8\n",
    "v1_circ = nqubit_XXZ_decomposition(nqubits=config[\"nqubits\"],t=-step * (np.sqrt(5) - 1) / 2,delta=0.5,steps=nmb_ts_steps)\n",
    "v2_circ = nqubit_XXZ_decomposition(nqubits=config[\"nqubits\"],t=step ,delta=0.5,steps=nmb_ts_steps)\n",
    "v3_circ = nqubit_XXZ_decomposition(nqubits=config[\"nqubits\"],t=-step * (3 - np.sqrt(5)) / 2,delta=0.5,steps=nmb_ts_steps)\n",
    "\n",
    "\n",
    "\n",
    "vqe_circ = vqe.circuit\n",
    "vqe_circ_inv = vqe_circ.invert()\n",
    "\n",
    "circ_boost = (\n",
    "    vd2_circ \n",
    "    + vqe_circ + v2_circ +vqe_circ_inv \n",
    "    + vd1_circ\n",
    "    + vqe_circ + v1_circ +vqe_circ_inv \n",
    "    +\n",
    "    vqe_circ \n",
    ")\n",
    "ket_boost = circ_boost(initial_state=zero_state)\n",
    "hamiltonian.expectation(ket_boost.state()) "
   ]
  },
  {
   "cell_type": "code",
   "execution_count": 31,
   "metadata": {},
   "outputs": [
    {
     "data": {
      "text/plain": [
       "-14.560174594055583"
      ]
     },
     "execution_count": 31,
     "metadata": {},
     "output_type": "execute_result"
    }
   ],
   "source": [
    "ene1"
   ]
  },
  {
   "cell_type": "code",
   "execution_count": 32,
   "metadata": {},
   "outputs": [
    {
     "data": {
      "text/plain": [
       "-15.276131122065795"
      ]
     },
     "execution_count": 32,
     "metadata": {},
     "output_type": "execute_result"
    }
   ],
   "source": [
    "target_energy"
   ]
  },
  {
   "cell_type": "code",
   "execution_count": 12,
   "metadata": {},
   "outputs": [
    {
     "ename": "SyntaxError",
     "evalue": "invalid syntax (3556992881.py, line 1)",
     "output_type": "error",
     "traceback": [
      "\u001b[0;36m  Cell \u001b[0;32mIn[12], line 1\u001b[0;36m\u001b[0m\n\u001b[0;31m    blabla to stop\u001b[0m\n\u001b[0m           ^\u001b[0m\n\u001b[0;31mSyntaxError\u001b[0m\u001b[0;31m:\u001b[0m invalid syntax\n"
     ]
    }
   ],
   "source": [
    "blabla to stop "
   ]
  },
  {
   "cell_type": "code",
   "execution_count": null,
   "metadata": {},
   "outputs": [],
   "source": []
  },
  {
   "cell_type": "code",
   "execution_count": null,
   "metadata": {},
   "outputs": [],
   "source": []
  },
  {
   "cell_type": "code",
   "execution_count": 9,
   "metadata": {},
   "outputs": [
    {
     "name": "stderr",
     "output_type": "stream",
     "text": [
      "[Qibo 0.2.9|WARNING|2024-06-10 18:10:45]: Calculating the dense form of a symbolic Hamiltonian. This operation is memory inefficient.\n",
      "WARNING:qibo.config:Calculating the dense form of a symbolic Hamiltonian. This operation is memory inefficient.\n"
     ]
    }
   ],
   "source": [
    "dm = d.dense.matrix\n",
    "v_vqe = vqe.circuit.unitary()\n",
    "h_vqe = v_vqe.conj().T @ hamiltonian.matrix @ v_vqe\n",
    "h_vqe_ham = hamiltonians.Hamiltonian(nqubits = config[\"nqubits\"],matrix=h_vqe)\n",
    "\n",
    "from copy import deepcopy\n",
    "dbi = DoubleBracketIteration(\n",
    "    hamiltonian=deepcopy(h_vqe_ham),\n",
    "    mode=DoubleBracketGeneratorType.group_commutator_3,\n",
    ")\n",
    "\n",
    "\n",
    "step = 0.12\n",
    "\n",
    "dbi(0.12,d=dm)\n",
    "energy_dbi_gc3 = dbi.h.expectation(zero_state_t)"
   ]
  },
  {
   "cell_type": "code",
   "execution_count": 10,
   "metadata": {},
   "outputs": [
    {
     "data": {
      "text/plain": [
       "-14.752268266791006"
      ]
     },
     "execution_count": 10,
     "metadata": {},
     "output_type": "execute_result"
    }
   ],
   "source": [
    "energy_dbi_gc3"
   ]
  },
  {
   "cell_type": "code",
   "execution_count": 11,
   "metadata": {},
   "outputs": [],
   "source": [
    "dbi = DoubleBracketIteration(\n",
    "    hamiltonian=deepcopy(h_vqe_ham),\n",
    "    mode=DoubleBracketGeneratorType.group_commutator_3,\n",
    ")\n",
    "u_gc3 = dbi.eval_dbr_unitary(step,d=dm)"
   ]
  },
  {
   "cell_type": "code",
   "execution_count": null,
   "metadata": {},
   "outputs": [],
   "source": [
    "circ_boost = (\n",
    "    vqe_circ + v1_circ +vqe_circ_inv \n",
    "    + vd1_circ \n",
    "    + vqe_circ + v2_circ +vqe_circ_inv \n",
    "    + vd3_circ\n",
    "    + vqe_circ + v1_circ +vqe_circ_inv \n",
    "    + vd3_circ\n",
    "    + vqe_circ \n",
    ")"
   ]
  },
  {
   "cell_type": "markdown",
   "metadata": {},
   "source": [
    "# Alternate way is much slower"
   ]
  },
  {
   "cell_type": "code",
   "execution_count": null,
   "metadata": {},
   "outputs": [
    {
     "name": "stderr",
     "output_type": "stream",
     "text": [
      "[Qibo 0.2.9|WARNING|2024-06-07 17:32:13]: Calculating the dense form of a symbolic Hamiltonian. This operation is memory inefficient.\n",
      "WARNING:qibo.config:Calculating the dense form of a symbolic Hamiltonian. This operation is memory inefficient.\n"
     ]
    }
   ],
   "source": [
    "dm = d.dense.matrix"
   ]
  },
  {
   "cell_type": "code",
   "execution_count": null,
   "metadata": {},
   "outputs": [],
   "source": [
    "v_vqe = vqe.circuit.unitary()"
   ]
  },
  {
   "cell_type": "code",
   "execution_count": null,
   "metadata": {},
   "outputs": [],
   "source": [
    "h_vqe = v_vqe.conj().T @ hamiltonian.matrix @ v_vqe\n",
    "h_vqe_ham = hamiltonians.Hamiltonian(nqubits = config[\"nqubits\"],matrix=h_vqe)"
   ]
  },
  {
   "cell_type": "code",
   "execution_count": null,
   "metadata": {},
   "outputs": [],
   "source": [
    "from copy import deepcopy\n",
    "dbi = DoubleBracketIteration(\n",
    "    hamiltonian=deepcopy(h_vqe_ham),\n",
    "    mode=DoubleBracketGeneratorType.group_commutator_3,\n",
    ")\n",
    "import inspect\n",
    "inspect.getfile(dbi.__class__)\n",
    "\n",
    "step = 0.12\n",
    "\n",
    "u_gc3 = dbi.eval_dbr_unitary(step,d=dm)\n",
    "h_gc3_exposed = hamiltonians.Hamiltonian(matrix = u_gc3.conj().T @ deepcopy(h_vqe_ham).matrix @ u_gc3, nqubits= config[\"nqubits\"] )\n",
    "\n",
    "dbi(0.12,d=dm)\n",
    "energy_dbi_gc3 = dbi.h.expectation(zero_state_t)\n",
    "energy_dbi_gc3_exposed = h_gc3_exposed.expectation(zero_state_t)"
   ]
  },
  {
   "cell_type": "code",
   "execution_count": null,
   "metadata": {},
   "outputs": [],
   "source": [
    "u1 = dbi.h.exp(-step * (np.sqrt(5) - 1) / 2)\n",
    "u2 = dbi.backend.calculate_matrix_exp(-step * (np.sqrt(5) - 1) / 2, dm)\n",
    "u3 = dbi.h.exp(step)\n",
    "u4 = dbi.backend.calculate_matrix_exp(step * (np.sqrt(5) + 1) / 2, dm)\n",
    "u5 = dbi.h.exp(-step * (3 - np.sqrt(5)) / 2)\n",
    "u6 = dbi.backend.calculate_matrix_exp(-step, dm)\n",
    "\n",
    "u_gc3_by_hand = u1 @ u2 @ u3 @ u4 @ u5 @ u6\n",
    "h_gc3_by_hand = hamiltonians.Hamiltonian(matrix = u_gc3_by_hand.conj().T @ deepcopy(h_vqe_ham).matrix @ u_gc3_by_hand )\n",
    "\n",
    "energy_dbi_gc3_by_hand = h_gc3_by_hand.expectation(zero_state_t)"
   ]
  },
  {
   "cell_type": "code",
   "execution_count": null,
   "metadata": {},
   "outputs": [
    {
     "ename": "NameError",
     "evalue": "name 'energy_dbi_gc3' is not defined",
     "output_type": "error",
     "traceback": [
      "\u001b[0;31m---------------------------------------------------------------------------\u001b[0m",
      "\u001b[0;31mNameError\u001b[0m                                 Traceback (most recent call last)",
      "Cell \u001b[0;32mIn[91], line 1\u001b[0m\n\u001b[0;32m----> 1\u001b[0m \u001b[38;5;28mprint\u001b[39m(ene1,\u001b[43menergy_dbi_gc3\u001b[49m)\n",
      "\u001b[0;31mNameError\u001b[0m: name 'energy_dbi_gc3' is not defined"
     ]
    }
   ],
   "source": [
    "print(ene1)\n",
    "print(energy_dbi_gc3)"
   ]
  },
  {
   "cell_type": "markdown",
   "metadata": {},
   "source": [
    "# Runs too long to bother to wait when casting to numpy"
   ]
  },
  {
   "cell_type": "code",
   "execution_count": null,
   "metadata": {},
   "outputs": [
    {
     "ename": "KeyboardInterrupt",
     "evalue": "",
     "output_type": "error",
     "traceback": [
      "\u001b[0;31m---------------------------------------------------------------------------\u001b[0m",
      "\u001b[0;31mKeyboardInterrupt\u001b[0m                         Traceback (most recent call last)",
      "Cell \u001b[0;32mIn[80], line 3\u001b[0m\n\u001b[1;32m      1\u001b[0m v1 \u001b[38;5;241m=\u001b[39m v_vqe\u001b[38;5;241m.\u001b[39mconj()\u001b[38;5;241m.\u001b[39mT \u001b[38;5;241m@\u001b[39m v1_circ\u001b[38;5;241m.\u001b[39munitary() \u001b[38;5;241m@\u001b[39m v_vqe\n\u001b[1;32m      2\u001b[0m v2 \u001b[38;5;241m=\u001b[39m v_vqe\u001b[38;5;241m.\u001b[39mconj()\u001b[38;5;241m.\u001b[39mT \u001b[38;5;241m@\u001b[39m v2_circ\u001b[38;5;241m.\u001b[39munitary()\u001b[38;5;241m@\u001b[39m v_vqe\n\u001b[0;32m----> 3\u001b[0m v3 \u001b[38;5;241m=\u001b[39m v_vqe\u001b[38;5;241m.\u001b[39mconj()\u001b[38;5;241m.\u001b[39mT \u001b[38;5;241m@\u001b[39m \u001b[43mv3_circ\u001b[49m\u001b[38;5;241;43m.\u001b[39;49m\u001b[43munitary\u001b[49m\u001b[43m(\u001b[49m\u001b[43m)\u001b[49m\u001b[38;5;241m@\u001b[39m v_vqe\n\u001b[1;32m      5\u001b[0m u_gc3_by_hand_from_circ \u001b[38;5;241m=\u001b[39m v1 \u001b[38;5;241m@\u001b[39m vd1_circ\u001b[38;5;241m.\u001b[39munitary() \u001b[38;5;241m@\u001b[39m v2 \u001b[38;5;241m@\u001b[39m vd2_circ\u001b[38;5;241m.\u001b[39munitary() \u001b[38;5;241m@\u001b[39m v3 \u001b[38;5;241m@\u001b[39m vd3_circ\u001b[38;5;241m.\u001b[39munitary()\n\u001b[1;32m      6\u001b[0m h_gc3_by_hand_from_circ \u001b[38;5;241m=\u001b[39m hamiltonians\u001b[38;5;241m.\u001b[39mHamiltonian(\n\u001b[1;32m      7\u001b[0m     matrix \u001b[38;5;241m=\u001b[39m u_gc3_by_hand_from_circ\u001b[38;5;241m.\u001b[39mconj()\u001b[38;5;241m.\u001b[39mT \u001b[38;5;241m@\u001b[39m deepcopy(h_vqe_ham)\u001b[38;5;241m.\u001b[39mmatrix \u001b[38;5;241m@\u001b[39m u_gc3_by_hand_from_circ )\n",
      "File \u001b[0;32m~/Projectes_git/qibo/src/qibo/models/circuit.py:1033\u001b[0m, in \u001b[0;36mCircuit.unitary\u001b[0;34m(self, backend)\u001b[0m\n\u001b[1;32m   1031\u001b[0m     \u001b[38;5;28;01melif\u001b[39;00m \u001b[38;5;129;01mnot\u001b[39;00m \u001b[38;5;28misinstance\u001b[39m(gate, (gates\u001b[38;5;241m.\u001b[39mSpecialGate, gates\u001b[38;5;241m.\u001b[39mM)):\n\u001b[1;32m   1032\u001b[0m         fgate\u001b[38;5;241m.\u001b[39mappend(gate)\n\u001b[0;32m-> 1033\u001b[0m \u001b[38;5;28;01mreturn\u001b[39;00m \u001b[43mfgate\u001b[49m\u001b[38;5;241;43m.\u001b[39;49m\u001b[43mmatrix\u001b[49m\u001b[43m(\u001b[49m\u001b[43mbackend\u001b[49m\u001b[43m)\u001b[49m\n",
      "File \u001b[0;32m~/Projectes_git/qibo/src/qibo/gates/special.py:109\u001b[0m, in \u001b[0;36mFusedGate.matrix\u001b[0;34m(self, backend)\u001b[0m\n\u001b[1;32m     99\u001b[0m \u001b[38;5;250m\u001b[39m\u001b[38;5;124;03m\"\"\"Returns matrix representation of special gate.\u001b[39;00m\n\u001b[1;32m    100\u001b[0m \n\u001b[1;32m    101\u001b[0m \u001b[38;5;124;03mArgs:\u001b[39;00m\n\u001b[0;32m   (...)\u001b[0m\n\u001b[1;32m    105\u001b[0m \u001b[38;5;124;03m    ndarray: Matrix representation of special gate.\u001b[39;00m\n\u001b[1;32m    106\u001b[0m \u001b[38;5;124;03m\"\"\"\u001b[39;00m\n\u001b[1;32m    107\u001b[0m backend \u001b[38;5;241m=\u001b[39m _check_backend(backend)\n\u001b[0;32m--> 109\u001b[0m \u001b[38;5;28;01mreturn\u001b[39;00m \u001b[43mbackend\u001b[49m\u001b[38;5;241;43m.\u001b[39;49m\u001b[43mmatrix_fused\u001b[49m\u001b[43m(\u001b[49m\u001b[38;5;28;43mself\u001b[39;49m\u001b[43m)\u001b[49m\n",
      "File \u001b[0;32m~/Projectes_git/qibo/src/qibo/backends/numpy.py:133\u001b[0m, in \u001b[0;36mNumpyBackend.matrix_fused\u001b[0;34m(self, fgate)\u001b[0m\n\u001b[1;32m    130\u001b[0m \u001b[38;5;66;03m# Kronecker product with identity is needed to make the\u001b[39;00m\n\u001b[1;32m    131\u001b[0m \u001b[38;5;66;03m# original matrix have shape (2**rank x 2**rank)\u001b[39;00m\n\u001b[1;32m    132\u001b[0m eye \u001b[38;5;241m=\u001b[39m np\u001b[38;5;241m.\u001b[39meye(\u001b[38;5;241m2\u001b[39m \u001b[38;5;241m*\u001b[39m\u001b[38;5;241m*\u001b[39m (rank \u001b[38;5;241m-\u001b[39m \u001b[38;5;28mlen\u001b[39m(gate\u001b[38;5;241m.\u001b[39mqubits)))\n\u001b[0;32m--> 133\u001b[0m gmatrix \u001b[38;5;241m=\u001b[39m \u001b[43mnp\u001b[49m\u001b[38;5;241;43m.\u001b[39;49m\u001b[43mkron\u001b[49m\u001b[43m(\u001b[49m\u001b[43mgmatrix\u001b[49m\u001b[43m,\u001b[49m\u001b[43m \u001b[49m\u001b[43meye\u001b[49m\u001b[43m)\u001b[49m\n\u001b[1;32m    134\u001b[0m \u001b[38;5;66;03m# Transpose the new matrix indices so that it targets the\u001b[39;00m\n\u001b[1;32m    135\u001b[0m \u001b[38;5;66;03m# target qubits of the original gate\u001b[39;00m\n\u001b[1;32m    136\u001b[0m original_shape \u001b[38;5;241m=\u001b[39m gmatrix\u001b[38;5;241m.\u001b[39mshape\n",
      "File \u001b[0;32m/usr/lib/python3/dist-packages/numpy/lib/shape_base.py:1173\u001b[0m, in \u001b[0;36mkron\u001b[0;34m(a, b)\u001b[0m\n\u001b[1;32m   1171\u001b[0m b_arr \u001b[38;5;241m=\u001b[39m expand_dims(b_arr, axis\u001b[38;5;241m=\u001b[39m\u001b[38;5;28mtuple\u001b[39m(\u001b[38;5;28mrange\u001b[39m(\u001b[38;5;241m0\u001b[39m, nd\u001b[38;5;241m*\u001b[39m\u001b[38;5;241m2\u001b[39m, \u001b[38;5;241m2\u001b[39m)))\n\u001b[1;32m   1172\u001b[0m \u001b[38;5;66;03m# In case of `mat`, convert result to `array`\u001b[39;00m\n\u001b[0;32m-> 1173\u001b[0m result \u001b[38;5;241m=\u001b[39m \u001b[43m_nx\u001b[49m\u001b[38;5;241;43m.\u001b[39;49m\u001b[43mmultiply\u001b[49m\u001b[43m(\u001b[49m\u001b[43ma_arr\u001b[49m\u001b[43m,\u001b[49m\u001b[43m \u001b[49m\u001b[43mb_arr\u001b[49m\u001b[43m,\u001b[49m\u001b[43m \u001b[49m\u001b[43msubok\u001b[49m\u001b[38;5;241;43m=\u001b[39;49m\u001b[43m(\u001b[49m\u001b[38;5;129;43;01mnot\u001b[39;49;00m\u001b[43m \u001b[49m\u001b[43mis_any_mat\u001b[49m\u001b[43m)\u001b[49m\u001b[43m)\u001b[49m\n\u001b[1;32m   1175\u001b[0m \u001b[38;5;66;03m# Reshape back\u001b[39;00m\n\u001b[1;32m   1176\u001b[0m result \u001b[38;5;241m=\u001b[39m result\u001b[38;5;241m.\u001b[39mreshape(_nx\u001b[38;5;241m.\u001b[39mmultiply(as_, bs))\n",
      "\u001b[0;31mKeyboardInterrupt\u001b[0m: "
     ]
    }
   ],
   "source": [
    "v1 = v_vqe.conj().T @ v1_circ.unitary() @ v_vqe\n",
    "v2 = v_vqe.conj().T @ v2_circ.unitary()@ v_vqe\n",
    "v3 = v_vqe.conj().T @ v3_circ.unitary()@ v_vqe\n",
    "\n",
    "u_gc3_by_hand_from_circ = v1 @ vd1_circ.unitary() @ v2 @ vd2_circ.unitary() @ v3 @ vd3_circ.unitary()\n",
    "h_gc3_by_hand_from_circ = hamiltonians.Hamiltonian(\n",
    "    matrix = u_gc3_by_hand_from_circ.conj().T @ deepcopy(h_vqe_ham).matrix @ u_gc3_by_hand_from_circ )\n",
    "energy_dbi_gc3_by_hand = h_gc3_by_hand_from_circ.expectation(zero_state_t)\n",
    "print(energy_dbi_gc3_by_hand)"
   ]
  },
  {
   "cell_type": "code",
   "execution_count": null,
   "metadata": {},
   "outputs": [],
   "source": []
  },
  {
   "cell_type": "code",
   "execution_count": null,
   "metadata": {},
   "outputs": [
    {
     "name": "stderr",
     "output_type": "stream",
     "text": [
      "[Qibo 0.2.9|WARNING|2024-06-07 17:57:27]: Calculating the dense form of a symbolic Hamiltonian. This operation is memory inefficient.\n",
      "WARNING:qibo.config:Calculating the dense form of a symbolic Hamiltonian. This operation is memory inefficient.\n"
     ]
    },
    {
     "data": {
      "text/plain": [
       "4.9065389333867974e-18"
      ]
     },
     "metadata": {},
     "output_type": "display_data"
    }
   ],
   "source": [
    "c = Circuit(nqubits=2)\n",
    "c.add(gates.RZ(0, theta = step))\n",
    "c.add(gates.RZ(1, theta = 1.2*step))\n",
    "ddd = hamiltonians.SymbolicHamiltonian(symbols.Z(0)+1.2*symbols.Z(1), nqubits=2)\n",
    "np.linalg.norm(ddd.exp(step/2) - c.unitary())"
   ]
  },
  {
   "cell_type": "code",
   "execution_count": null,
   "metadata": {},
   "outputs": [
    {
     "data": {
      "text/plain": [
       "<qibo.models.circuit.Circuit at 0x76ee04808b90>"
      ]
     },
     "execution_count": 11,
     "metadata": {},
     "output_type": "execute_result"
    }
   ],
   "source": []
  },
  {
   "cell_type": "code",
   "execution_count": null,
   "metadata": {},
   "outputs": [
    {
     "name": "stdout",
     "output_type": "stream",
     "text": [
      "0.1\n",
      "-0.17370846444809196\n",
      "0.11000000000000001\n",
      "-0.1858758485760017\n",
      "0.12000000000000001\n",
      "-0.19209367273542632\n",
      "0.13\n",
      "-0.19163474209593012\n",
      "0.14\n",
      "-0.18406164639815614\n"
     ]
    }
   ],
   "source": [
    "        \n",
    "for t in np.linspace(.1,.14,5):\n",
    "    for mode  in [DoubleBracketGeneratorType.group_commutator_3]:        \n",
    "        print (t)\n",
    "        dbi(t,d=dm, mode = mode)\n",
    "        print(dbi.h.expectation(zero_state_t)-ene1)\n",
    "        dbi.h = deepcopy(h_vqe_ham)"
   ]
  },
  {
   "cell_type": "code",
   "execution_count": null,
   "metadata": {},
   "outputs": [],
   "source": []
  },
  {
   "cell_type": "code",
   "execution_count": null,
   "metadata": {},
   "outputs": [
    {
     "data": {
      "text/plain": [
       "-14.751809336151513"
      ]
     },
     "execution_count": 90,
     "metadata": {},
     "output_type": "execute_result"
    }
   ],
   "source": [
    "\n"
   ]
  },
  {
   "cell_type": "code",
   "execution_count": null,
   "metadata": {},
   "outputs": [
    {
     "data": {
      "text/plain": [
       "-0.17370846444809196"
      ]
     },
     "execution_count": 67,
     "metadata": {},
     "output_type": "execute_result"
    }
   ],
   "source": [
    "_ - ene1"
   ]
  },
  {
   "cell_type": "code",
   "execution_count": null,
   "metadata": {},
   "outputs": [],
   "source": []
  },
  {
   "cell_type": "code",
   "execution_count": null,
   "metadata": {},
   "outputs": [],
   "source": []
  },
  {
   "cell_type": "code",
   "execution_count": null,
   "metadata": {},
   "outputs": [],
   "source": []
  },
  {
   "cell_type": "code",
   "execution_count": null,
   "metadata": {},
   "outputs": [],
   "source": [
    "u_gc3_CNOT = v1 @ u2 @ v2  @ u4 @ v3 @ u6\n"
   ]
  },
  {
   "cell_type": "code",
   "execution_count": null,
   "metadata": {},
   "outputs": [],
   "source": [
    "\n",
    "dbi2 = DoubleBracketIteration(\n",
    "    hamiltonian=hamiltonians.Hamiltonian(matrix = u_gc3_CNOT.conj().T @ deepcopy(h_vqe_ham).matrix @ u_gc3_CNOT, nqubits = config[\"nqubits\"]),\n",
    "    mode=DoubleBracketGeneratorType.single_commutator,\n",
    ")"
   ]
  },
  {
   "cell_type": "code",
   "execution_count": null,
   "metadata": {},
   "outputs": [
    {
     "data": {
      "text/plain": [
       "-14.74579723717103"
      ]
     },
     "execution_count": 87,
     "metadata": {},
     "output_type": "execute_result"
    }
   ],
   "source": [
    "dbi2.h.expectation(zero_state_t)"
   ]
  },
  {
   "cell_type": "code",
   "execution_count": null,
   "metadata": {},
   "outputs": [
    {
     "data": {
      "text/plain": [
       "-0.18562264311544752"
      ]
     },
     "execution_count": 88,
     "metadata": {},
     "output_type": "execute_result"
    }
   ],
   "source": [
    "_ - ene1"
   ]
  },
  {
   "cell_type": "markdown",
   "metadata": {},
   "source": [
    "$\\langle 0| V_1\\dagger U_\\theta^\\dagger  H_0 U_\\theta V_1 |0\\rangle$\n",
    "\n",
    "$|dbqa \\rangle = U_\\theta V_1 |0\\rangle$"
   ]
  },
  {
   "cell_type": "code",
   "execution_count": null,
   "metadata": {},
   "outputs": [],
   "source": []
  },
  {
   "cell_type": "code",
   "execution_count": null,
   "metadata": {},
   "outputs": [],
   "source": []
  },
  {
   "cell_type": "code",
   "execution_count": null,
   "metadata": {},
   "outputs": [
    {
     "name": "stdout",
     "output_type": "stream",
     "text": [
      "0.001\n",
      "0.03049416970667984\n",
      "0.001\n",
      "-2.93783569489392e-05\n",
      "0.0505\n",
      "3.1454674430590615\n",
      "0.0505\n",
      "-0.06606296647770904\n",
      "0.1\n",
      "7.074245955138497\n",
      "0.1\n",
      "-0.17370846444809196\n"
     ]
    }
   ],
   "source": [
    "        \n",
    "for t in np.linspace(.001,.1,3):\n",
    "    for mode  in [DoubleBracketGeneratorType.single_commutator, DoubleBracketGeneratorType.group_commutator_3]:\n",
    "        \n",
    "        print (t)\n",
    "        dbi(t,d=dm, mode = mode)\n",
    "        print(dbi.h.expectation(zero_state_t)-ene1)\n",
    "        dbi.h = deepcopy(h_vqe_ham)"
   ]
  },
  {
   "cell_type": "code",
   "execution_count": null,
   "metadata": {},
   "outputs": [],
   "source": []
  },
  {
   "cell_type": "code",
   "execution_count": null,
   "metadata": {},
   "outputs": [
    {
     "name": "stdout",
     "output_type": "stream",
     "text": [
      "0.001\n",
      "-0.02824536086750129\n",
      "0.001\n",
      "2.9380340411222505e-05\n",
      "0.009250000000000001\n",
      "-0.1680169705742678\n",
      "0.009250000000000001\n",
      "0.0025178786739274983\n",
      "0.0175\n",
      "-0.12216196003698343\n",
      "0.0175\n",
      "0.00904829844227173\n",
      "0.025750000000000002\n",
      "0.12697893245887215\n",
      "0.025750000000000002\n",
      "0.019708017902930308\n",
      "0.034\n",
      "0.5809235629930072\n",
      "0.034\n",
      "0.03461163575132886\n",
      "0.04225\n",
      "1.2225916652057816\n",
      "0.04225\n",
      "0.0538671984955581\n",
      "0.0505\n",
      "2.0170847723539627\n",
      "0.0505\n",
      "0.07753647566399202\n",
      "0.058750000000000004\n",
      "2.9158127725243492\n",
      "0.058750000000000004\n",
      "0.1055948106119633\n",
      "0.067\n",
      "3.863256246756647\n",
      "0.067\n",
      "0.13789621831791443\n",
      "0.07525000000000001\n",
      "4.804975983893996\n",
      "0.07525000000000001\n",
      "0.1741487964359827\n",
      "0.0835\n",
      "5.695149857470556\n",
      "0.0835\n",
      "0.2139042537835767\n",
      "0.09175\n",
      "6.502038526684503\n",
      "0.09175\n",
      "0.2565636208389197\n",
      "0.1\n",
      "7.210326149454998\n",
      "0.1\n",
      "0.30139922935152264\n"
     ]
    }
   ],
   "source": [
    "        \n",
    "for t in np.linspace(.001,.1,13):\n",
    "    for mode  in [DoubleBracketGeneratorType.single_commutator, DoubleBracketGeneratorType.group_commutator_3]:\n",
    "        \n",
    "        print (t)\n",
    "        dbi(t,d=-dm, mode = mode)\n",
    "        print(dbi.h.expectation(zero_state_t)-ene1)\n",
    "        dbi.h = deepcopy(h_vqe_ham)"
   ]
  },
  {
   "cell_type": "markdown",
   "metadata": {},
   "source": [
    "## We need to schedule unitaries such as this one below\n",
    "\n",
    "This later needs to be generalized to the GC3 PR from Andrew to get the same performance\n",
    "\n"
   ]
  },
  {
   "cell_type": "code",
   "execution_count": null,
   "metadata": {},
   "outputs": [],
   "source": [
    "def u_gcr(h,d,t):\n",
    "    ud =  d.exp(t)\n",
    "    u = h.exp(-t)\n",
    "    return     ud.conj().T @ u @ud\n"
   ]
  },
  {
   "cell_type": "code",
   "execution_count": null,
   "metadata": {},
   "outputs": [
    {
     "name": "stdout",
     "output_type": "stream",
     "text": [
      "5.329070518200751e-15\n",
      "3.963354089364657e-10\n",
      "1.5823502508283127e-09\n"
     ]
    }
   ],
   "source": [
    "for t in np.linspace(1e-9,1e-6,3):\n",
    "    u_gcrd = u_gcr(h_vqe_ham,d,t)\n",
    "    print(h_vqe_ham.expectation(u_gcrd@zero_state_t)-ene1)"
   ]
  },
  {
   "cell_type": "markdown",
   "metadata": {},
   "source": [
    "- This doesn't work now. It's better to have the correct expose dbr unitary and then take the exposed unitaries and compare to compiled circuits.\n"
   ]
  },
  {
   "cell_type": "markdown",
   "metadata": {},
   "source": [
    "If someone picks it up:\n",
    "- please try to find the correct scheduling as above\n",
    "- then expose the unitaries\n",
    "- and then use the XXZ decomposition function to replace h.exp(-t) by a circuit"
   ]
  },
  {
   "cell_type": "markdown",
   "metadata": {},
   "source": []
  }
 ],
 "metadata": {
  "kernelspec": {
   "display_name": "Python 3",
   "language": "python",
   "name": "python3"
  },
  "language_info": {
   "codemirror_mode": {
    "name": "ipython",
    "version": 3
   },
   "file_extension": ".py",
   "mimetype": "text/x-python",
   "name": "python",
   "nbconvert_exporter": "python",
   "pygments_lexer": "ipython3",
   "version": "3.12.3"
  }
 },
 "nbformat": 4,
 "nbformat_minor": 2
}
