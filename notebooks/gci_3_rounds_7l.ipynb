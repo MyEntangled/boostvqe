{
 "cells": [
  {
   "cell_type": "markdown",
   "metadata": {},
   "source": [
    "# Tutorial on using the classes for transpiling DBQA strategies into various types of double-bracket rotations (DBRs)\n",
    "\n",
    "## 1. VQE results are loaded\n",
    "## 2. The GC3 DBR is shown using  the `GroupCommutatorIterationWithEvolutionOracles` class\n",
    "### 3.1. It is shown how to perform more steps of the GCI. \n",
    "Using the class approach one can just change `mode_double_bracket_rotation=DoubleBracketRotationType.group_commutator_third_order_reduced` to a different type and same code will run."
   ]
  },
  {
   "cell_type": "code",
   "execution_count": 1,
   "metadata": {},
   "outputs": [],
   "source": [
    "import json\n",
    "import time\n",
    "from pathlib import Path\n",
    "\n",
    "import numpy as np\n",
    "import qibo\n",
    "from qibo import hamiltonians, set_backend\n",
    "from boostvqe.models.dbi.double_bracket import (\n",
    "    DoubleBracketGeneratorType,\n",
    "    DoubleBracketIteration,\n",
    ")\n",
    "\n",
    "from boostvqe.ansatze import VQE, build_circuit\n",
    "from boostvqe.utils import apply_dbi_steps, rotate_h_with_vqe\n",
    "from qibo import symbols, hamiltonians\n",
    "from copy import deepcopy\n",
    "from boostvqe.compiling_XXZ import *\n",
    "\n",
    "import matplotlib.pyplot as plt"
   ]
  },
  {
   "cell_type": "markdown",
   "metadata": {},
   "source": [
    "## 1. Loading VQE results"
   ]
  },
  {
   "cell_type": "code",
   "execution_count": 2,
   "metadata": {},
   "outputs": [
    {
     "name": "stderr",
     "output_type": "stream",
     "text": [
      "[Qibo 0.2.9|INFO|2024-06-13 15:49:17]: Using numpy backend on /CPU:0\n",
      "INFO:qibo.config:Using numpy backend on /CPU:0\n",
      "[Qibo 0.2.9|INFO|2024-06-13 15:49:17]: Using numpy backend on /CPU:0\n",
      "INFO:qibo.config:Using numpy backend on /CPU:0\n"
     ]
    },
    {
     "name": "stdout",
     "output_type": "stream",
     "text": [
      "In the VQE numpy\n"
     ]
    }
   ],
   "source": [
    "\n",
    "qibo.set_backend(\"numpy\")\n",
    "\n",
    "# set the path string which define the results\n",
    "path = \"../results/vqe_data/with_params/10q7l/sgd_10q_7l_42/\"\n",
    "\n",
    "# set the target epoch to which apply DBQA and the number of steps\n",
    "target_epoch = 2000\n",
    "dbi_steps = 1\n",
    "\n",
    "# upload system configuration and parameters for all the training\n",
    "with open(path + \"optimization_results.json\") as file:\n",
    "    config = json.load(file)\n",
    "\n",
    "losses = dict(np.load(path + \"energies.npz\"))[\"0\"]\n",
    "params = np.load(path + f\"parameters/params_ite{target_epoch}.npy\")\n",
    "\n",
    "nqubits = config[\"nqubits\"]\n",
    "# build circuit, hamiltonian and VQE\n",
    "hamiltonian = hamiltonians.XXZ(nqubits=nqubits, delta=0.5)\n",
    "circuit = build_circuit(nqubits, config[\"nlayers\"], \"numpy\")\n",
    "vqe = VQE(circuit, hamiltonian)\n",
    "zero_state = hamiltonian.backend.zero_state(nqubits)\n",
    "zero_state_t = np.transpose([zero_state])\n",
    "target_energy = np.min(hamiltonian.eigenvalues())\n",
    "\n",
    "\n",
    "# set target parameters into the VQE\n",
    "vqe.circuit.set_parameters(params)\n",
    "vqe_state = vqe.circuit().state()\n",
    "\n",
    "ene1 = hamiltonian.expectation(vqe_state)\n"
   ]
  },
  {
   "cell_type": "code",
   "execution_count": 3,
   "metadata": {},
   "outputs": [
    {
     "name": "stdout",
     "output_type": "stream",
     "text": [
      "VQE energy is -14.856898957126564. \n",
      "The target energy is -15.276131122065795 which means the difference is 0.4192321649392312.\n",
      "The relative difference is 0.02744360869838739%.\n"
     ]
    }
   ],
   "source": [
    "print(f\"VQE energy is {ene1}. \\n\\\n",
    "The target energy is {target_energy} which means the difference is {ene1-target_energy}.\\n\\\n",
    "The relative difference is {abs(ene1-target_energy)/abs(target_energy)}%.\")"
   ]
  },
  {
   "cell_type": "markdown",
   "metadata": {},
   "source": [
    "# 2. 3 GCI3 steps for fixed\n",
    "$D= \\sum_i B_i Z_i$\n",
    "and Group commutator"
   ]
  },
  {
   "cell_type": "code",
   "execution_count": 4,
   "metadata": {},
   "outputs": [
    {
     "data": {
      "text/plain": [
       "[<matplotlib.lines.Line2D at 0x76c24c668470>]"
      ]
     },
     "execution_count": 4,
     "metadata": {},
     "output_type": "execute_result"
    },
    {
     "data": {
      "image/png": "[encoded data removed]",
      "text/plain": [
       "<Figure size 640x480 with 1 Axes>"
      ]
     },
     "metadata": {},
     "output_type": "display_data"
    }
   ],
   "source": [
    "b_list = [4-np.sin(i/3) for i,x in enumerate(np.random.rand(10)) ]\n",
    "                                  \n",
    "plt.plot(b_list)"
   ]
  },
  {
   "cell_type": "code",
   "execution_count": 5,
   "metadata": {},
   "outputs": [],
   "source": [
    "\n",
    "\n",
    "from boostvqe.models.dbi.group_commutator_iteration_transpiler import *\n",
    "from boostvqe.models.dbi.double_bracket_evolution_oracles import *\n",
    "\n",
    "\n",
    "eo_xxz = XXZ_EvolutionOracle(nqubits, steps = 3, order = 2)\n",
    "\n",
    "# implement the rotate by VQE on the level of circuits\n",
    "fsoe  = VQERotatedEvolutionOracle(eo_xxz, vqe)\n"
   ]
  },
  {
   "cell_type": "code",
   "execution_count": 6,
   "metadata": {},
   "outputs": [],
   "source": [
    "\n",
    "# init gci with the vqe-rotated hamiltonian\n",
    "gci  = GroupCommutatorIterationWithEvolutionOracles(input_hamiltonian_evolution_oracle=fsoe, \n",
    "        mode_double_bracket_rotation=DoubleBracketRotationType.group_commutator_reduced)\n"
   ]
  },
  {
   "cell_type": "code",
   "execution_count": 7,
   "metadata": {},
   "outputs": [
    {
     "name": "stdout",
     "output_type": "stream",
     "text": [
      "The boosting circuit used 0 CNOT gates coming from compiled XXZ evolution and 70 CZ gates from VQE.\n",
      "For 10 qubits this gives n_CNOT/n_qubits = 0.0 and n_CZ/n_qubits = 7.0\n"
     ]
    }
   ],
   "source": [
    "gci.print_gate_count_report()"
   ]
  },
  {
   "cell_type": "code",
   "execution_count": 8,
   "metadata": {},
   "outputs": [
    {
     "data": {
      "text/plain": [
       "-14.935556941199138"
      ]
     },
     "execution_count": 8,
     "metadata": {},
     "output_type": "execute_result"
    }
   ],
   "source": [
    "# init the generator of the evolution,\n",
    "#  this is quite simple - just pass a diagonal SymbolicHamiltonian \n",
    "# and because it will be commuting we can use the member function circuit for compiling\n",
    "eo_d = MagneticFieldEvolutionOracle(b_list,name = \"D(linear)\")\n",
    "step,loss = gci.choose_step(d = eo_d,max_evals=34,step_min = 0.001,step_max = 0.003)\n",
    "loss"
   ]
  },
  {
   "cell_type": "code",
   "execution_count": 9,
   "metadata": {},
   "outputs": [
    {
     "data": {
      "text/plain": [
       "0.0024545454545454545"
      ]
     },
     "execution_count": 9,
     "metadata": {},
     "output_type": "execute_result"
    }
   ],
   "source": [
    "step"
   ]
  },
  {
   "cell_type": "code",
   "execution_count": 29,
   "metadata": {},
   "outputs": [
    {
     "data": {
      "text/plain": [
       "-14.801884982344752"
      ]
     },
     "execution_count": 29,
     "metadata": {},
     "output_type": "execute_result"
    }
   ],
   "source": [
    "gci.loss(step, eo_d)"
   ]
  },
  {
   "cell_type": "code",
   "execution_count": 11,
   "metadata": {},
   "outputs": [
    {
     "name": "stdout",
     "output_type": "stream",
     "text": [
      "The boosting circuit used 135 CNOT gates coming from compiled XXZ evolution and 210 CZ gates from VQE.\n",
      "For 10 qubits this gives n_CNOT/n_qubits = 13.5 and n_CZ/n_qubits = 21.0\n"
     ]
    }
   ],
   "source": [
    "gci(step, eo_d)\n",
    "gci.print_gate_count_report()"
   ]
  },
  {
   "cell_type": "code",
   "execution_count": 30,
   "metadata": {},
   "outputs": [
    {
     "data": {
      "text/plain": [
       "-14.935556941199138"
      ]
     },
     "execution_count": 30,
     "metadata": {},
     "output_type": "execute_result"
    }
   ],
   "source": [
    "gci.h_ref.expectation(gci.get_composed_circuit()().state())"
   ]
  },
  {
   "cell_type": "code",
   "execution_count": 47,
   "metadata": {},
   "outputs": [],
   "source": [
    "v1_circ = gci.get_composed_circuit()\n",
    "fsoe2  = FrameShiftedEvolutionOracle(deepcopy(eo_xxz),before_circuit=v1_circ.invert(), after_circuit=v1_circ, name=\"fixing bug\")\n",
    "# init gci with the vqe-rotated hamiltonian\n",
    "gci2  = GroupCommutatorIterationWithEvolutionOracles(input_hamiltonian_evolution_oracle=fsoe2, \n",
    "        mode_double_bracket_rotation=DoubleBracketRotationType.group_commutator_reduced)\n"
   ]
  },
  {
   "cell_type": "code",
   "execution_count": 48,
   "metadata": {},
   "outputs": [
    {
     "name": "stdout",
     "output_type": "stream",
     "text": [
      "-14.935584402651747\n",
      "0.002466666666666667\n"
     ]
    }
   ],
   "source": [
    "\n",
    "step,loss = gci2.choose_step(d = eo_d,max_evals=34,step_min = 0.0002,step_max = 0.007)\n",
    "print(loss)\n",
    "print(step)"
   ]
  },
  {
   "cell_type": "code",
   "execution_count": 51,
   "metadata": {},
   "outputs": [
    {
     "name": "stdout",
     "output_type": "stream",
     "text": [
      "-14.984427028066971\n",
      "0.0051818181818181815\n"
     ]
    }
   ],
   "source": [
    "gci2.mode_double_bracket_rotation = DoubleBracketRotationType.group_commutator_third_order_reduced\n",
    "step,loss = gci2.choose_step(d = eo_d,max_evals=34,step_min = 0.002,step_max = 0.007)\n",
    "print(loss)\n",
    "print(step)"
   ]
  },
  {
   "cell_type": "code",
   "execution_count": 52,
   "metadata": {},
   "outputs": [
    {
     "name": "stdout",
     "output_type": "stream",
     "text": [
      "The boosting circuit used 945 CNOT gates coming from compiled XXZ evolution and 1050 CZ gates from VQE.\n",
      "For 10 qubits this gives n_CNOT/n_qubits = 94.5 and n_CZ/n_qubits = 105.0\n"
     ]
    }
   ],
   "source": [
    "gci2(step, eo_d)\n",
    "gci2.print_gate_count_report()"
   ]
  },
  {
   "cell_type": "code",
   "execution_count": 66,
   "metadata": {},
   "outputs": [],
   "source": [
    "v2_circ = gci2.get_composed_circuit()\n",
    "fsoe3  = FrameShiftedEvolutionOracle(deepcopy(eo_xxz),before_circuit=v2_circ.invert(), after_circuit=v2_circ, name=\"fixing bug\")\n",
    "# init gci with the vqe-rotated hamiltonian\n",
    "gci3  = GroupCommutatorIterationWithEvolutionOracles(input_hamiltonian_evolution_oracle=fsoe3, \n",
    "        mode_double_bracket_rotation=DoubleBracketRotationType.group_commutator_reduced)"
   ]
  },
  {
   "cell_type": "code",
   "execution_count": 67,
   "metadata": {},
   "outputs": [
    {
     "name": "stdout",
     "output_type": "stream",
     "text": [
      "-15.010589667316292\n",
      "0.002878787878787879\n"
     ]
    }
   ],
   "source": [
    "\n",
    "step,loss = gci3.choose_step(d = eo_d,max_evals=34,step_min = 0.0002,step_max = 0.007)\n",
    "print(loss)\n",
    "print(step)"
   ]
  },
  {
   "cell_type": "code",
   "execution_count": 68,
   "metadata": {},
   "outputs": [
    {
     "name": "stdout",
     "output_type": "stream",
     "text": [
      "-15.032622863707562\n",
      "0.006242424242424242\n"
     ]
    }
   ],
   "source": [
    "gci3.mode_double_bracket_rotation = DoubleBracketRotationType.group_commutator_third_order_reduced\n",
    "step,loss = gci3.choose_step(d = eo_d,max_evals=34,step_min = 0.002,step_max = 0.007)\n",
    "print(loss)\n",
    "print(step)"
   ]
  },
  {
   "cell_type": "code",
   "execution_count": 69,
   "metadata": {},
   "outputs": [
    {
     "name": "stdout",
     "output_type": "stream",
     "text": [
      "The boosting circuit used 4995 CNOT gates coming from compiled XXZ evolution and 5250 CZ gates from VQE.\n",
      "For 10 qubits this gives n_CNOT/n_qubits = 499.5 and n_CZ/n_qubits = 525.0\n"
     ]
    }
   ],
   "source": [
    "gci3(step, eo_d)\n",
    "gci3.print_gate_count_report()"
   ]
  },
  {
   "cell_type": "code",
   "execution_count": 70,
   "metadata": {},
   "outputs": [
    {
     "data": {
      "text/plain": [
       "-0.015940440443489932"
      ]
     },
     "execution_count": 70,
     "metadata": {},
     "output_type": "execute_result"
    }
   ],
   "source": [
    "(loss-target_energy)/target_energy"
   ]
  }
 ],
 "metadata": {
  "kernelspec": {
   "display_name": "Python 3",
   "language": "python",
   "name": "python3"
  },
  "language_info": {
   "codemirror_mode": {
    "name": "ipython",
    "version": 3
   },
   "file_extension": ".py",
   "mimetype": "text/x-python",
   "name": "python",
   "nbconvert_exporter": "python",
   "pygments_lexer": "ipython3",
   "version": "3.12.3"
  }
 },
 "nbformat": 4,
 "nbformat_minor": 2
}
