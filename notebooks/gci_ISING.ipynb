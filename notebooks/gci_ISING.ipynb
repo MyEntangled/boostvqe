{
 "cells": [
  {
   "cell_type": "code",
   "execution_count": 1,
   "metadata": {},
   "outputs": [
    {
     "name": "stderr",
     "output_type": "stream",
     "text": [
      "[Qibo 0.2.9|INFO|2024-06-19 14:56:06]: Using numpy backend on /CPU:0\n"
     ]
    }
   ],
   "source": [
    "from boostvqe.utils import *"
   ]
  },
  {
   "cell_type": "code",
   "execution_count": 2,
   "metadata": {},
   "outputs": [],
   "source": [
    "b_rand2 = [a+b for a,b in zip(np.random.rand(10)*.2,np.linspace(1,0,10))]\n",
    "eo_d = MagneticFieldEvolutionOracle(b_rand2)\n",
    "eo_d_Ising = IsingNNEvolutionOracle([0]*10,[1]*10)"
   ]
  },
  {
   "cell_type": "code",
   "execution_count": 3,
   "metadata": {},
   "outputs": [
    {
     "data": {
      "text/plain": [
       "9.93797468116278e-15"
      ]
     },
     "execution_count": 3,
     "metadata": {},
     "output_type": "execute_result"
    }
   ],
   "source": [
    "c1 = eo_d_Ising.circuit(0.1)\n",
    "eo_d_Ising.please_use_coarse_compiling = True\n",
    "c2 = eo_d_Ising.circuit(0.1)\n",
    "np.linalg.norm(c1.unitary()-c2.unitary())"
   ]
  },
  {
   "cell_type": "code",
   "execution_count": 4,
   "metadata": {},
   "outputs": [
    {
     "data": {
      "text/plain": [
       "20"
      ]
     },
     "execution_count": 4,
     "metadata": {},
     "output_type": "execute_result"
    }
   ],
   "source": [
    "GroupCommutatorIterationWithEvolutionOracles.count_gates(c1,gates.CNOT)"
   ]
  },
  {
   "cell_type": "code",
   "execution_count": 5,
   "metadata": {},
   "outputs": [
    {
     "data": {
      "text/plain": [
       "0"
      ]
     },
     "execution_count": 5,
     "metadata": {},
     "output_type": "execute_result"
    }
   ],
   "source": [
    "GroupCommutatorIterationWithEvolutionOracles.count_gates(c2,gates.CNOT)"
   ]
  },
  {
   "cell_type": "code",
   "execution_count": 7,
   "metadata": {},
   "outputs": [
    {
     "name": "stdout",
     "output_type": "stream",
     "text": [
      "q0: ─────U─────────────U─U─────────────U─────\n",
      "q1: ─────U───U─────────|─|─────────U───U─────\n",
      "q2: ───U─────U─────────|─|─────────U─────U───\n",
      "q3: ───U─────────────U─|─|─U─────────────U───\n",
      "q4: ───────────────U─U─|─|─U─U───────────────\n",
      "q5: ───────────U───U───|─|───U───U───────────\n",
      "q6: ─U─────────U───────|─|───────U─────────U─\n",
      "q7: ─U───────────U─────|─|─────U───────────U─\n",
      "q8: ───────U─────U─────|─|─────U─────U───────\n",
      "q9: ───────U───────────U─U───────────U───────\n"
     ]
    }
   ],
   "source": [
    "print(c2.draw())"
   ]
  },
  {
   "cell_type": "code",
   "execution_count": null,
   "metadata": {},
   "outputs": [],
   "source": []
  }
 ],
 "metadata": {
  "kernelspec": {
   "display_name": "Python 3",
   "language": "python",
   "name": "python3"
  },
  "language_info": {
   "codemirror_mode": {
    "name": "ipython",
    "version": 3
   },
   "file_extension": ".py",
   "mimetype": "text/x-python",
   "name": "python",
   "nbconvert_exporter": "python",
   "pygments_lexer": "ipython3",
   "version": "3.12.3"
  }
 },
 "nbformat": 4,
 "nbformat_minor": 2
}
