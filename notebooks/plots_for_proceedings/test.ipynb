{
 "cells": [
  {
   "cell_type": "code",
   "execution_count": null,
   "metadata": {},
   "outputs": [],
   "source": [
    "import numpy as np\n",
    "from qibo import hamiltonians, set_backend\n",
    "from boostvqe.models.dbi.double_bracket import (\n",
    "    DoubleBracketGeneratorType,\n",
    "    DoubleBracketIteration,\n",
    ")\n",
    "from boostvqe.models.dbi.utils import *\n",
    "from boostvqe.models.dbi.utils_scheduling import *\n",
    "from boostvqe.models.dbi.utils_dbr_strategies import *\n",
    "\n",
    "from qibo import hamiltonians\n",
    "from boostvqe.compiling_XXZ import *\n",
    "\n",
    "import matplotlib.pyplot as plt\n",
    "from utils import *"
   ]
  },
  {
   "cell_type": "code",
   "execution_count": null,
   "metadata": {},
   "outputs": [],
   "source": [
    "dbi = initialize_dbi(5, \"TFIM\", 3)\n",
    "dbi.cost = DoubleBracketCostFunction.off_diagonal_norm\n",
    "dbi.mode = DoubleBracketGeneratorType.single_commutator\n",
    "nqubits = dbi.h.nqubits\n",
    "print(dbi.off_diagonal_norm)\n",
    "print(dbi.diagonal_h_matrix)"
   ]
  },
  {
   "cell_type": "code",
   "execution_count": null,
   "metadata": {},
   "outputs": [],
   "source": [
    "NSTEPS = 10\n",
    "dbi.scheduling = DoubleBracketScheduling.grid_search\n",
    "loss_list = []\n",
    "s_plot_list = []"
   ]
  },
  {
   "cell_type": "code",
   "execution_count": null,
   "metadata": {},
   "outputs": [],
   "source": [
    "d_names = [\n",
    "    \"fix\",\n",
    "    \"GWW\"\n",
    "]"
   ]
  },
  {
   "cell_type": "code",
   "execution_count": null,
   "metadata": {},
   "outputs": [],
   "source": [
    "print(\"initial\", dbi.diagonal_h_matrix)\n",
    "for GWW in [False, True]:\n",
    "    dbi_eval = deepcopy(dbi)\n",
    "    ls = [dbi.off_diagonal_norm]\n",
    "    ss = [] \n",
    "    for _ in range(NSTEPS):\n",
    "        if GWW is True:\n",
    "            d = dbi_eval.diagonal_h_matrix\n",
    "        else:\n",
    "            d = dbi.diagonal_h_matrix\n",
    "        s = dbi_eval.choose_step(d=d)\n",
    "        dbi_eval(s, d=d)\n",
    "        ls.append(dbi_eval.off_diagonal_norm)\n",
    "        ss.append(s)\n",
    "    loss_list.append(ls)\n",
    "    s_plot_list.append(s_to_plot(ss))"
   ]
  },
  {
   "cell_type": "code",
   "execution_count": null,
   "metadata": {},
   "outputs": [],
   "source": [
    "for i, d_name in enumerate(d_names):\n",
    "    plt.plot(s_plot_list[i], loss_list[i], label=d_name, marker='.')\n",
    "    # plt.plot(loss_list[i], label=d_name, marker='.')\n",
    "plt.ylabel(r'$||\\sigma(\\hat H)||$')\n",
    "plt.xlabel(r'DBR duration $s$')\n",
    "# plt.xlabel('Iterations')\n",
    "# plt.legend(bbox_to_anchor=(1, -0.2),shadow=False, ncol=4)\n",
    "plt.legend()\n",
    "plt.tight_layout() \n",
    "plt.plot()"
   ]
  },
  {
   "cell_type": "code",
   "execution_count": null,
   "metadata": {},
   "outputs": [],
   "source": [
    "dbi_eval.diagonal_h_matrix"
   ]
  },
  {
   "cell_type": "code",
   "execution_count": null,
   "metadata": {},
   "outputs": [],
   "source": [
    "from utils import *"
   ]
  },
  {
   "cell_type": "code",
   "execution_count": null,
   "metadata": {},
   "outputs": [],
   "source": [
    "dbi = initialize_dbi(5, \"XXZ\", 0.5)"
   ]
  },
  {
   "cell_type": "code",
   "execution_count": null,
   "metadata": {},
   "outputs": [],
   "source": [
    "dephasing = dbi.diagonal_h_matrix\n",
    "print(dephasing)"
   ]
  },
  {
   "cell_type": "code",
   "execution_count": null,
   "metadata": {},
   "outputs": [],
   "source": [
    "pauli_operator_dict_2 = generate_pauli_operator_dict(nqubits, 2)\n",
    "ising_coef = [0] * nqubits + [0.5 if abs(y - x) == 1 or abs(y - x) == (nqubits-1) else 0 for x, y in list(pauli_operator_dict_2)[dbi.h.nqubits:]]\n",
    "ising = ising_diag(dbi, ising_coef, pauli_operator_dict_2)\n",
    "print(ising)"
   ]
  },
  {
   "cell_type": "code",
   "execution_count": 23,
   "metadata": {},
   "outputs": [
    {
     "name": "stdout",
     "output_type": "stream",
     "text": [
      "[0. 0. 0. 1. 0. 0. 0. 0. 0. 0. 0. 0. 0. 0. 0. 0. 0. 0. 0. 0. 0. 0. 0. 0.\n",
      " 0. 0. 0. 0. 0. 0. 0. 0.]\n"
     ]
    }
   ],
   "source": [
    "dbi = initialize_dbi(5, \"XXZ\", 0.5)\n",
    "dbi.ref_state = np.zeros(2**nqubits)\n",
    "dbi.ref_state[3] = 1\n",
    "print(dbi.ref_state)\n",
    "\n",
    "from mpl_toolkits.axes_grid1.inset_locator import inset_axes"
   ]
  },
  {
   "cell_type": "code",
   "execution_count": 24,
   "metadata": {},
   "outputs": [],
   "source": [
    "def plot_matrix_inset(axes, loc, parent_axis, matrix, xy, xytext):\n",
    "    axin = inset_axes(parent_axis, loc=loc, width=\"10%\", height=\"10%\", loc=loc)\n",
    "    inset = axin.imshow(matrix, cmap='RdBu')\n",
    "\n",
    "    divider = make_axes_locatable(axin)\n",
    "    div_ax = divider.append_axes(\"right\", size=\"10%\", pad=0.05)\n",
    "    cbar = plt.colorbar(inset, cax = div_ax )\n",
    "    parent_axis.annotate(' ',\n",
    "        xy=(xy), \n",
    "        xytext=(xytext),  \n",
    "        textcoords='axes fraction',\n",
    "        arrowprops=dict(facecolor='black', shrink=1),\n",
    "        horizontalalignment='left',\n",
    "        verticalalignment='bottom')\n",
    "    D = matrix.shape[0]\n",
    "    axin.set_yticks(range(D))  \n",
    "    axin.set_xticklabels([1]+['']*(D-2)+[D])\n",
    "    axin.set_yticklabels([1]+['']*(D-2)+[D])\n",
    "    axin.set_xticks(range(D))"
   ]
  },
  {
   "cell_type": "code",
   "execution_count": 25,
   "metadata": {},
   "outputs": [
    {
     "ename": "TypeError",
     "evalue": "inset_axes() missing 2 required positional arguments: 'width' and 'height'",
     "output_type": "error",
     "traceback": [
      "\u001b[0;31m---------------------------------------------------------------------------\u001b[0m",
      "\u001b[0;31mTypeError\u001b[0m                                 Traceback (most recent call last)",
      "\u001b[0;32m/var/folders/sn/4ym_qb8x0cs_f961d78kvvkc0000gn/T/ipykernel_95361/4156901940.py\u001b[0m in \u001b[0;36m<cell line: 0>\u001b[0;34m()\u001b[0m\n\u001b[1;32m      2\u001b[0m \u001b[0max\u001b[0m\u001b[0;34m.\u001b[0m\u001b[0mplot\u001b[0m\u001b[0;34m(\u001b[0m\u001b[0;34m[\u001b[0m\u001b[0;36m1\u001b[0m\u001b[0;34m,\u001b[0m\u001b[0;36m2\u001b[0m\u001b[0;34m,\u001b[0m\u001b[0;36m3\u001b[0m\u001b[0;34m,\u001b[0m\u001b[0;36m4\u001b[0m\u001b[0;34m,\u001b[0m\u001b[0;34m]\u001b[0m\u001b[0;34m)\u001b[0m\u001b[0;34m\u001b[0m\u001b[0;34m\u001b[0m\u001b[0m\n\u001b[1;32m      3\u001b[0m \u001b[0ma\u001b[0m \u001b[0;34m=\u001b[0m \u001b[0mnp\u001b[0m\u001b[0;34m.\u001b[0m\u001b[0marray\u001b[0m\u001b[0;34m(\u001b[0m\u001b[0;34m[\u001b[0m\u001b[0;34m[\u001b[0m\u001b[0;36m1\u001b[0m\u001b[0;34m,\u001b[0m\u001b[0;36m2\u001b[0m\u001b[0;34m,\u001b[0m\u001b[0;36m3\u001b[0m\u001b[0;34m,\u001b[0m\u001b[0;36m4\u001b[0m\u001b[0;34m]\u001b[0m\u001b[0;34m,\u001b[0m\u001b[0;34m[\u001b[0m\u001b[0;36m3\u001b[0m\u001b[0;34m,\u001b[0m\u001b[0;36m4\u001b[0m\u001b[0;34m,\u001b[0m\u001b[0;36m4\u001b[0m\u001b[0;34m,\u001b[0m\u001b[0;36m5\u001b[0m\u001b[0;34m]\u001b[0m\u001b[0;34m,\u001b[0m\u001b[0;34m[\u001b[0m\u001b[0;36m3\u001b[0m\u001b[0;34m,\u001b[0m\u001b[0;36m4\u001b[0m\u001b[0;34m,\u001b[0m\u001b[0;36m4\u001b[0m\u001b[0;34m,\u001b[0m\u001b[0;36m5\u001b[0m\u001b[0;34m]\u001b[0m\u001b[0;34m,\u001b[0m\u001b[0;34m[\u001b[0m\u001b[0;36m3\u001b[0m\u001b[0;34m,\u001b[0m\u001b[0;36m4\u001b[0m\u001b[0;34m,\u001b[0m\u001b[0;36m4\u001b[0m\u001b[0;34m,\u001b[0m\u001b[0;36m5\u001b[0m\u001b[0;34m]\u001b[0m\u001b[0;34m]\u001b[0m\u001b[0;34m)\u001b[0m\u001b[0;34m\u001b[0m\u001b[0;34m\u001b[0m\u001b[0m\n\u001b[0;32m----> 4\u001b[0;31m \u001b[0mplot_matrix_inset\u001b[0m\u001b[0;34m(\u001b[0m\u001b[0;34m[\u001b[0m\u001b[0;36m0.06\u001b[0m\u001b[0;34m,\u001b[0m\u001b[0;36m.12\u001b[0m\u001b[0;34m,\u001b[0m \u001b[0;36m0.31\u001b[0m\u001b[0;34m,\u001b[0m \u001b[0;36m0.31\u001b[0m\u001b[0;34m]\u001b[0m\u001b[0;34m,\u001b[0m \u001b[0;34m'upper right'\u001b[0m\u001b[0;34m,\u001b[0m \u001b[0max\u001b[0m\u001b[0;34m,\u001b[0m \u001b[0ma\u001b[0m\u001b[0;34m,\u001b[0m \u001b[0;34m(\u001b[0m\u001b[0;36m1\u001b[0m\u001b[0;34m,\u001b[0m\u001b[0;36m1\u001b[0m\u001b[0;34m)\u001b[0m\u001b[0;34m,\u001b[0m \u001b[0;34m(\u001b[0m\u001b[0;36m0.5\u001b[0m\u001b[0;34m,\u001b[0m\u001b[0;36m1\u001b[0m\u001b[0;34m)\u001b[0m\u001b[0;34m)\u001b[0m\u001b[0;34m\u001b[0m\u001b[0;34m\u001b[0m\u001b[0m\n\u001b[0m",
      "\u001b[0;32m/var/folders/sn/4ym_qb8x0cs_f961d78kvvkc0000gn/T/ipykernel_95361/1298394871.py\u001b[0m in \u001b[0;36mplot_matrix_inset\u001b[0;34m(axes, loc, parent_axis, matrix, xy, xytext)\u001b[0m\n\u001b[1;32m      1\u001b[0m \u001b[0;32mdef\u001b[0m \u001b[0mplot_matrix_inset\u001b[0m\u001b[0;34m(\u001b[0m\u001b[0maxes\u001b[0m\u001b[0;34m,\u001b[0m \u001b[0mloc\u001b[0m\u001b[0;34m,\u001b[0m \u001b[0mparent_axis\u001b[0m\u001b[0;34m,\u001b[0m \u001b[0mmatrix\u001b[0m\u001b[0;34m,\u001b[0m \u001b[0mxy\u001b[0m\u001b[0;34m,\u001b[0m \u001b[0mxytext\u001b[0m\u001b[0;34m)\u001b[0m\u001b[0;34m:\u001b[0m\u001b[0;34m\u001b[0m\u001b[0;34m\u001b[0m\u001b[0m\n\u001b[0;32m----> 2\u001b[0;31m     \u001b[0maxin\u001b[0m \u001b[0;34m=\u001b[0m \u001b[0minset_axes\u001b[0m\u001b[0;34m(\u001b[0m\u001b[0mparent_axis\u001b[0m\u001b[0;34m,\u001b[0m \u001b[0mloc\u001b[0m\u001b[0;34m=\u001b[0m\u001b[0mloc\u001b[0m\u001b[0;34m)\u001b[0m\u001b[0;34m\u001b[0m\u001b[0;34m\u001b[0m\u001b[0m\n\u001b[0m\u001b[1;32m      3\u001b[0m     \u001b[0minset\u001b[0m \u001b[0;34m=\u001b[0m \u001b[0maxin\u001b[0m\u001b[0;34m.\u001b[0m\u001b[0mimshow\u001b[0m\u001b[0;34m(\u001b[0m\u001b[0mmatrix\u001b[0m\u001b[0;34m,\u001b[0m \u001b[0mcmap\u001b[0m\u001b[0;34m=\u001b[0m\u001b[0;34m'RdBu'\u001b[0m\u001b[0;34m)\u001b[0m\u001b[0;34m\u001b[0m\u001b[0;34m\u001b[0m\u001b[0m\n\u001b[1;32m      4\u001b[0m \u001b[0;34m\u001b[0m\u001b[0m\n\u001b[1;32m      5\u001b[0m     \u001b[0mdivider\u001b[0m \u001b[0;34m=\u001b[0m \u001b[0mmake_axes_locatable\u001b[0m\u001b[0;34m(\u001b[0m\u001b[0maxin\u001b[0m\u001b[0;34m)\u001b[0m\u001b[0;34m\u001b[0m\u001b[0;34m\u001b[0m\u001b[0m\n",
      "\u001b[0;31mTypeError\u001b[0m: inset_axes() missing 2 required positional arguments: 'width' and 'height'"
     ]
    },
    {
     "data": {
      "image/png": "[encoded data removed]",
      "text/plain": [
       "<Figure size 800x600 with 1 Axes>"
      ]
     },
     "metadata": {},
     "output_type": "display_data"
    }
   ],
   "source": [
    "fig, ax = plt.subplots(figsize=(8,6))\n",
    "ax.plot([1,2,3,4,])\n",
    "a = np.array([[1,2,3,4],[3,4,4,5],[3,4,4,5],[3,4,4,5]])\n",
    "plot_matrix_inset([0.06,.12, 0.31, 0.31], 'upper right', ax, a, (1,1), (0.5,1))"
   ]
  },
  {
   "cell_type": "code",
   "execution_count": null,
   "metadata": {},
   "outputs": [],
   "source": [
    "import numpy as np\n",
    "from qibo import hamiltonians, set_backend\n",
    "from boostvqe.models.dbi.double_bracket import (\n",
    "    DoubleBracketGeneratorType,\n",
    "    DoubleBracketIteration,\n",
    ")\n",
    "from boostvqe.models.dbi.utils import *\n",
    "from boostvqe.models.dbi.utils_scheduling import *\n",
    "from boostvqe.models.dbi.utils_dbr_strategies import *\n",
    "\n",
    "from qibo import hamiltonians\n",
    "from boostvqe.compiling_XXZ import *\n",
    "\n",
    "import matplotlib.pyplot as plt\n",
    "from utils import *\n"
   ]
  },
  {
   "cell_type": "code",
   "execution_count": null,
   "metadata": {},
   "outputs": [],
   "source": [
    "\n",
    "run_param_rc(15)\n",
    "fig, ax = plt.subplots()\n",
    "dbi = initialize_dbi(5, \"XXZ\", 0.5)\n",
    "dbi.cost = DoubleBracketCostFunction.off_diagonal_norm\n",
    "dbi.mode = DoubleBracketGeneratorType.single_commutator\n",
    "nqubits = dbi.h.nqubits\n",
    "\n",
    "d_names = [\n",
    "            'GWW (canonical)',\n",
    "           'Pauli-Z',\n",
    "           'Gradient descent (computational)',\n",
    "           'Gradient descent (pauli-1)',\n",
    "           'Gradient descent (pauli-2)',\n",
    "           ]\n",
    "\n",
    "NSTEPS = 10\n",
    "dbi.scheduling = DoubleBracketScheduling.grid_search\n",
    "loss_list = []\n",
    "s_plot_list = []\n",
    "\n",
    "# GWW\n",
    "dbi_eval = deepcopy(dbi)\n",
    "ls = [dbi_eval.off_diagonal_norm]\n",
    "ss = []\n",
    "for _ in range(NSTEPS):\n",
    "    d = dbi_eval.diagonal_h_matrix\n",
    "    s = dbi_eval.choose_step(d=d)\n",
    "    dbi_eval(s, d=d)\n",
    "    ls.append(dbi_eval.off_diagonal_norm)\n",
    "    ss.append(s)\n",
    "loss_list.append(ls)\n",
    "s_plot_list.append(s_to_plot(ss))\n",
    "final_gww = deepcopy(dbi_eval.h.matrix)\n",
    "print(final_gww)\n",
    "plot_matrix_inset([0.06,.12, 0.31, 0.31], ax, final_gww.real, (s, ls[-1]))\n",
    "ax.axhline()\n"
   ]
  },
  {
   "cell_type": "code",
   "execution_count": null,
   "metadata": {},
   "outputs": [],
   "source": []
  },
  {
   "cell_type": "code",
   "execution_count": null,
   "metadata": {},
   "outputs": [],
   "source": [
    "\n",
    "# pauli-Z\n",
    "generate_local_Z = generate_Z_operators(nqubits)\n",
    "Z_ops = list(generate_local_Z.values())\n",
    "Z_names = list(generate_local_Z.keys())\n",
    "dbi_eval = deepcopy(dbi)\n",
    "ls = [dbi.off_diagonal_norm]\n",
    "ss = [] \n",
    "for _ in range(NSTEPS):\n",
    "    dbi_eval, idx, step, flip_sign = select_best_dbr_generator(dbi_eval, Z_ops, compare_canonical=False)\n",
    "    d = Z_ops[idx]\n",
    "    ls.append(dbi_eval.off_diagonal_norm)\n",
    "    ss.append(step)\n",
    "loss_list.append(ls)\n",
    "s_plot_list.append(s_to_plot(ss))\n",
    "final_pauli = deepcopy(dbi_eval.h.matrix)\n",
    "\n",
    "# gradient descent \n",
    "parameterizations = [ParameterizationTypes.computational,ParameterizationTypes.pauli, ParameterizationTypes.pauli]\n",
    "pauli_op_dict = generate_pauli_operator_dict(nqubits, 2)\n",
    "seed = 10\n",
    "d_params = [np.random.random(2**nqubits), np.random.random(nqubits), np.random.random(int(nqubits*(nqubits-1)/2)) ]\n",
    "for i,parameterization in enumerate(parameterizations):\n",
    "    dbi_eval = deepcopy(dbi)\n",
    "    ls = [dbi.off_diagonal_norm]\n",
    "    ss = [] \n",
    "    d_param = d_params[i]\n",
    "    for _ in range(NSTEPS):\n",
    "        d_param, d, s = gradient_descent(dbi_eval, d_param, parameterization, pauli_op_dict, pauli_parameterization_order=i)\n",
    "        ss.append(s)\n",
    "        dbi_eval(step=s, d=d)\n",
    "        ls.append(dbi_eval.off_diagonal_norm)\n",
    "    loss_list.append(ls)\n",
    "    s_plot_list.append(s_to_plot(ss))\n",
    "\n",
    "for i, d_name in enumerate(d_names):\n",
    "    plt.plot(s_plot_list[i], loss_list[i], label=d_name, marker='.')\n",
    "    # plt.plot(loss_list[i], label=d_name, marker='.')\n",
    "plt.ylabel(r'$||\\sigma(\\hat H)||$')\n",
    "plt.xlabel(r'DBR duration $s$')\n",
    "plt.axhline(8, linestyle='--', label=\"min(BHMM)\", color='0.8')\n",
    "# plt.xlabel('Iterations')\n",
    "plt.legend(bbox_to_anchor=(1, -0.2),shadow=False, ncol=4)\n",
    "plt.legend()\n",
    "plt.tight_layout() \n",
    "plt.savefig('variational_XXZ_5_0.5.pdf')"
   ]
  },
  {
   "cell_type": "code",
   "execution_count": null,
   "metadata": {},
   "outputs": [],
   "source": []
  }
 ],
 "metadata": {
  "kernelspec": {
   "display_name": "DBF_qibo",
   "language": "python",
   "name": "python3"
  },
  "language_info": {
   "codemirror_mode": {
    "name": "ipython",
    "version": 3
   },
   "file_extension": ".py",
   "mimetype": "text/x-python",
   "name": "python",
   "nbconvert_exporter": "python",
   "pygments_lexer": "ipython3",
   "version": "3.11.7"
  }
 },
 "nbformat": 4,
 "nbformat_minor": 2
}
