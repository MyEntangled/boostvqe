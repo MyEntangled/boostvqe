{
 "cells": [
  {
   "cell_type": "markdown",
   "metadata": {},
   "source": [
    "Here our goal is to reduce the energy as much as possible, at the same time keep track of the cost."
   ]
  },
  {
   "cell_type": "markdown",
   "metadata": {},
   "source": [
    "### Imports"
   ]
  },
  {
   "cell_type": "code",
   "execution_count": 64,
   "metadata": {},
   "outputs": [],
   "source": [
    "import json\n",
    "import time\n",
    "from pathlib import Path\n",
    "\n",
    "import numpy as np\n",
    "import qibo\n",
    "from qibo import hamiltonians, set_backend\n",
    "from boostvqe.models.dbi.double_bracket import (\n",
    "    DoubleBracketGeneratorType,\n",
    "    DoubleBracketIteration,\n",
    ")\n",
    "\n",
    "from boostvqe.ansatze import VQE, build_circuit\n",
    "from boostvqe.utils import apply_dbi_steps, rotate_h_with_vqe\n",
    "from qibo import symbols, hamiltonians\n",
    "from copy import deepcopy\n",
    "from boostvqe.compiling_XXZ import *\n",
    "\n",
    "from boostvqe.models.dbi.group_commutator_iteration_transpiler import *\n",
    "from boostvqe.models.dbi.double_bracket_evolution_oracles import *\n",
    "\n",
    "import matplotlib.pyplot as plt"
   ]
  },
  {
   "cell_type": "markdown",
   "metadata": {},
   "source": [
    "### Help functions"
   ]
  },
  {
   "cell_type": "code",
   "execution_count": 74,
   "metadata": {},
   "outputs": [],
   "source": [
    "def visualize_matrix(matrix, title=\"\"):\n",
    "    \"\"\"Visualize hamiltonian in a heatmap form.\"\"\"\n",
    "    fig, ax = plt.subplots(figsize=(5,5))\n",
    "    ax.set_title(title)\n",
    "    try:\n",
    "        im = ax.imshow(np.absolute(matrix), cmap=\"inferno\")\n",
    "    except TypeError:\n",
    "        im = ax.imshow(np.absolute(matrix.get()), cmap=\"inferno\")\n",
    "    fig.colorbar(im, ax=ax)\n",
    "\n",
    "\n",
    "def get_gd_evolution_oracle(n_local, params):\n",
    "    if n_local == 1:\n",
    "        return MagneticFieldEvolutionOracle(params)\n",
    "    elif n_local == 2:\n",
    "        return IsingNNEvolutionOracle(params[:int(len(params)/2)], params[int(len(params)/2):])\n",
    "    else:\n",
    "        raise_error(ValueError, \"Model not supported, change `n_local` to values in [1, 2]\")\n",
    "     \n",
    "def gradient_numerical(\n",
    "    loss_function,\n",
    "    n_local,\n",
    "    params: list, \n",
    "    loss_0,\n",
    "    s_0,\n",
    "    delta: float = 1e-3,\n",
    "):\n",
    "    grad = np.zeros(len(params))\n",
    "    for i in range(len(params)):\n",
    "        params_new = deepcopy(params)\n",
    "        params_new[i] += delta\n",
    "        eo_d = get_gd_evolution_oracle(n_local, params_new)\n",
    "        # find the increment of a very small step\n",
    "        grad[i] = (loss_function(s_0, eo_d) - loss_0 ) / delta\n",
    "        \n",
    "    # normalize gradient\n",
    "    grad = grad / max(abs(grad))\n",
    "    return grad\n",
    "\n",
    "\n",
    "def adapative_grid_search(loss_function, n_local, params, grad, s_min, s_max, lr_min, lr_max, initial_points, refinement_factor, max_iter, edge_threshold = 0.1):\n",
    "    best_loss = float('inf')\n",
    "    best_s = None\n",
    "    best_lr = None\n",
    "    last_best_loss = float('inf')\n",
    "    # given max_iter, find num_refinment from geometric series\n",
    "    # max_iter > initial_points*(refinement_factor^n-1)/(refinement_factor-1)\n",
    "    iter_refinement = int(math.log((max_iter * (refinement_factor-1)/initial_points)+1)/math.log(refinement_factor))\n",
    "    print(iter_refinement)\n",
    "    for _ in range(iter_refinement):\n",
    "        num_eval = n_points = int(np.sqrt(initial_points))\n",
    "        s_values = np.linspace(s_min, s_max, num_eval)\n",
    "        lr_values = np.linspace(lr_min, lr_max, num_eval)\n",
    "    \n",
    "        for s in s_values:\n",
    "            for lr in lr_values:\n",
    "                params_eval = deepcopy(params) - grad * lr\n",
    "                eo_d = get_gd_evolution_oracle(n_local, params_eval)\n",
    "                # Evaluate the loss function with the current parameters\n",
    "                loss = loss_function(s, eo_d)\n",
    "                if loss < best_loss:\n",
    "                    best_loss = loss\n",
    "                    best_s = s\n",
    "                    best_lr = lr\n",
    "        # condition to stop: worse than last round\n",
    "        if best_loss > last_best_loss:\n",
    "            print(\"break: perform worse than last round\")\n",
    "            break\n",
    "        else:\n",
    "            last_best_loss = best_loss\n",
    "        # adjust range if best params too close to the edge\n",
    "        s_range = s_max - s_min\n",
    "        lr_range = lr_max - lr_min\n",
    "        # initial_points = int(initial_points * refinement_factor)\n",
    "        \n",
    "        if best_s - s_min < edge_threshold * s_range:\n",
    "            s_min = max(s_min - s_range / refinement_factor, best_s * edge_threshold)\n",
    "            s_max = min(s_max, best_s + (best_s - s_min))\n",
    "            print(f\"s {best_s} too small, now range: {s_min,s_max}\")\n",
    "        elif s_max - best_s <edge_threshold * s_range:\n",
    "            s_max = min(s_max + s_range/refinement_factor, best_s / edge_threshold)\n",
    "            s_min = max(s_min, best_s - (s_max - best_s))\n",
    "            print(f\"s {best_s} too big, now range: {s_min,s_max}\")\n",
    "        else:\n",
    "            s_min, s_max = max(s_min, best_s - s_range / refinement_factor), min(s_max, best_s + s_range / refinement_factor)\n",
    "        if best_lr - lr_min < edge_threshold * lr_range:\n",
    "            lr_min = max(lr_min - lr_range / refinement_factor, best_lr * edge_threshold)\n",
    "            lr_max = min(lr_max, best_lr + (best_lr - lr_min))\n",
    "            print(f\"lr {best_lr} too small, now range: {lr_min,lr_max}\")\n",
    "        elif lr_max - best_lr <edge_threshold * lr_range:\n",
    "            lr_max = lr_max + lr_range/refinement_factor\n",
    "            lr_min = max(lr_min, best_lr - (lr_max - best_lr))\n",
    "            print(f\"lr {best_lr} too big, now range: {lr_min,lr_max}\")\n",
    "        else:  \n",
    "            lr_min, lr_max = max(lr_min, best_lr - (lr_max - lr_min) / refinement_factor), min(lr_max, best_lr + (lr_max - lr_min) / refinement_factor)\n",
    "        \n",
    "    best_params = params - grad * best_lr\n",
    "    return best_s, best_lr, best_params, best_loss"
   ]
  },
  {
   "cell_type": "markdown",
   "metadata": {},
   "source": [
    "## Load VQE"
   ]
  },
  {
   "cell_type": "code",
   "execution_count": 75,
   "metadata": {},
   "outputs": [
    {
     "name": "stderr",
     "output_type": "stream",
     "text": [
      "[Qibo 0.2.9|INFO|2024-06-20 11:52:23]: Using numpy backend on /CPU:0\n",
      "INFO:qibo.config:Using numpy backend on /CPU:0\n",
      "[Qibo 0.2.9|INFO|2024-06-20 11:52:23]: Using numpy backend on /CPU:0\n",
      "INFO:qibo.config:Using numpy backend on /CPU:0\n"
     ]
    },
    {
     "name": "stdout",
     "output_type": "stream",
     "text": [
      "In the VQE numpy\n"
     ]
    }
   ],
   "source": [
    "qibo.set_backend(\"numpy\")\n",
    "\n",
    "# set the path string which define the results\n",
    "path = \"../results/vqe_data/with_params/10q7l/sgd_10q_7l_42/\"\n",
    "\n",
    "# set the target epoch to which apply DBQA and the number of steps\n",
    "target_epoch = 2000\n",
    "dbi_steps = 1\n",
    "\n",
    "# upload system configuration and parameters for all the training\n",
    "with open(path + \"optimization_results.json\") as file:\n",
    "    config = json.load(file)\n",
    "\n",
    "losses = dict(np.load(path + \"energies.npz\"))[\"0\"]\n",
    "params = np.load(path + f\"parameters/params_ite{target_epoch}.npy\")\n",
    "\n",
    "nqubits = config[\"nqubits\"]\n",
    "# build circuit, hamiltonian and VQE\n",
    "hamiltonian = hamiltonians.XXZ(nqubits=nqubits, delta=0.5)\n",
    "circuit = build_circuit(nqubits, config[\"nlayers\"], \"numpy\")\n",
    "vqe = VQE(circuit, hamiltonian)\n",
    "zero_state = hamiltonian.backend.zero_state(nqubits)\n",
    "zero_state_t = np.transpose([zero_state])\n",
    "target_energy = np.min(hamiltonian.eigenvalues())\n",
    "\n",
    "\n",
    "# set target parameters into the VQE\n",
    "vqe.circuit.set_parameters(params)\n",
    "vqe_state = vqe.circuit().state()\n",
    "\n",
    "ene1 = hamiltonian.expectation(vqe_state)"
   ]
  },
  {
   "cell_type": "code",
   "execution_count": 67,
   "metadata": {},
   "outputs": [
    {
     "name": "stdout",
     "output_type": "stream",
     "text": [
      "VQE energy is -14.856898957126571. \n",
      "The target energy is -15.276131122065761 which means the difference is 0.41923216493919035.\n",
      "The relative difference is 2.744360869838478%.\n",
      "The goal is to reach 1.0% which requires to lower energy to -15.123369810845103.\n"
     ]
    }
   ],
   "source": [
    "print(f\"VQE energy is {ene1}. \\n\\\n",
    "The target energy is {target_energy} which means the difference is {ene1-target_energy}.\\n\\\n",
    "The relative difference is {abs(ene1-target_energy)/abs(target_energy)*100}%.\\n\\\n",
    "The goal is to reach 1.0% which requires to lower energy to {0.99*target_energy}.\")"
   ]
  },
  {
   "cell_type": "markdown",
   "metadata": {},
   "source": [
    "## 1. Try reduced GCI"
   ]
  },
  {
   "cell_type": "code",
   "execution_count": 68,
   "metadata": {},
   "outputs": [],
   "source": [
    "# Initialize transpiler code\n",
    "eo_xxz = XXZ_EvolutionOracle(nqubits, steps = 1, order = 2)\n",
    "\n",
    "# implement the rotate by VQE on the level of circuits\n",
    "fsoe  = VQERotatedEvolutionOracle(eo_xxz, vqe)\n",
    "\n",
    "# init gci with the vqe-rotated hamiltonian\n",
    "gci  = GroupCommutatorIterationWithEvolutionOracles(input_hamiltonian_evolution_oracle=fsoe, \n",
    "        mode_double_bracket_rotation=DoubleBracketRotationType.group_commutator)"
   ]
  },
  {
   "cell_type": "code",
   "execution_count": 69,
   "metadata": {},
   "outputs": [],
   "source": [
    "# Randomized initial b_list\n",
    "# 1-local magnetic field\n",
    "b_list = [a+b for a,b in zip(np.random.rand(10)*.2,np.linspace(1,0,10))]\n",
    "eo_d = MagneticFieldEvolutionOracle(b_list)\n",
    "# 2-local Ising model\n",
    "eo_d_Ising = IsingNNEvolutionOracle(b_list,b_list)"
   ]
  },
  {
   "cell_type": "code",
   "execution_count": 70,
   "metadata": {},
   "outputs": [
    {
     "data": {
      "text/plain": [
       "([<matplotlib.axis.XTick at 0x1795dd3d0>],\n",
       " [Text(0.010000000000000002, 0, '0.01')])"
      ]
     },
     "execution_count": 70,
     "metadata": {},
     "output_type": "execute_result"
    },
    {
     "data": {
      "image/png": "[encoded data removed]",
      "text/plain": [
       "<Figure size 640x480 with 1 Axes>"
      ]
     },
     "metadata": {},
     "output_type": "display_data"
    }
   ],
   "source": [
    "losses_1 = []\n",
    "losses_2 = []\n",
    "times = np.linspace(1e-3,2e-2,20)\n",
    "for s in times:\n",
    "    losses_1.append(gci.loss(s, eo_d))\n",
    "    losses_2.append(gci.loss(s, eo_d_Ising))\n",
    "plt.plot(times,losses_1, label=\"Magnetic\")\n",
    "plt.plot(times,losses_2, label=\"Ising\")\n",
    "plt.legend()\n",
    "plt.yticks([losses_1[0],losses_1[np.argmin(losses_1)]])\n",
    "plt.xticks([times[np.argmin(losses_1)]])\n",
    "plt.yticks([losses_2[0],losses_2[np.argmin(losses_2)]])\n",
    "plt.xticks([times[np.argmin(losses_2)]])"
   ]
  },
  {
   "cell_type": "code",
   "execution_count": 71,
   "metadata": {},
   "outputs": [
    {
     "name": "stdout",
     "output_type": "stream",
     "text": [
      "The minimum energy is achieved by Ising model at -14.982364028489936,\n",
      "The relative difference is now 2.744360869838478%.\n"
     ]
    }
   ],
   "source": [
    "min_loss = min(losses_2)\n",
    "s_gci_1 = times[np.argmin(losses_2)]\n",
    "print(f\"The minimum energy is achieved by Ising model at {min_loss},\\n\\\n",
    "The relative difference is now {abs(ene1-target_energy)/abs(target_energy)*100}%.\")"
   ]
  },
  {
   "cell_type": "markdown",
   "metadata": {},
   "source": [
    "To further lower the energy, we try a step of gradient descent."
   ]
  },
  {
   "cell_type": "code",
   "execution_count": 76,
   "metadata": {},
   "outputs": [
    {
     "name": "stdout",
     "output_type": "stream",
     "text": [
      "[ 0.6645301   0.69726581  0.61752017  0.35074985  0.62131527  0.09579757\n",
      "  0.32334403 -0.05574173 -0.05677563 -0.20760748  1.          0.65777815\n",
      "  0.73290258  0.45403174  0.39138273  0.17936212  0.1758334  -0.07523074\n",
      " -0.1065898  -0.28256544]\n"
     ]
    }
   ],
   "source": [
    "grad = gradient_numerical(gci.loss, 2,  b_list+b_list, min_loss, s_gci_1 )\n",
    "print(grad)"
   ]
  },
  {
   "cell_type": "markdown",
   "metadata": {},
   "source": [
    "scenario A: minimum inside grid\n",
    "scenario B: minimum on edge of gird\n",
    "\n",
    "init: compute 3 values \n",
    "evaluate scenario (A or B)\n",
    "if A:\n",
    "    if check termination criterion:\n",
    "        (delta(loss)> 1e-4)\n",
    "        return\n",
    "    else:\n",
    "        refine grid:\n",
    "            select min index\n",
    "            new edge = neighboring grid points\n",
    "            evaluate 1 extra points each side\n",
    "            evaluate which scenario (A or B)  \n",
    "if B:\n",
    "    add 1 step to the right direction (beyond edge)\n",
    "    if value increases:\n",
    "        new edge = added step and neighboring grid\n",
    "        go to scenario A\n",
    "    else:\n",
    "        min = added step\n",
    "        go to scenario B\n",
    "\n",
    "\n",
    "lr_min, lr_max\n",
    "s_max, "
   ]
  },
  {
   "cell_type": "code",
   "execution_count": 77,
   "metadata": {},
   "outputs": [
    {
     "name": "stdout",
     "output_type": "stream",
     "text": [
      "3\n",
      "The first gradient descent step reduces energy to -14.99016932670521, a difference of -0.007805298215274092.\n",
      "0.0153125 0.6878124999999999\n"
     ]
    }
   ],
   "source": [
    "best_s, best_lr, best_params, best_loss = adapative_grid_search(gci.loss, 2, b_list+b_list, grad, 5e-3, 2e-2, 1e-3, 1, 30, 2, 300)\n",
    "print(f\"The first gradient descent step reduces energy to {best_loss}, a difference of {best_loss - min_loss}.\")\n",
    "print(best_s, best_lr)\n",
    "best_params_train = best_params\n",
    "best_loss_train = best_loss\n",
    "best_s_train = best_s"
   ]
  },
  {
   "cell_type": "code",
   "execution_count": 63,
   "metadata": {},
   "outputs": [
    {
     "name": "stdout",
     "output_type": "stream",
     "text": [
      "3\n",
      "lr 0.001 too small, now range: (0.0001, 0.0019)\n",
      "lr 0.0019 too big, now range: (0.001, 0.0028)\n",
      "lr 0.0028 too big, now range: (0.0018999999999999998, 0.0037)\n",
      "-14.989962779889336\n",
      "3\n",
      "lr 0.001 too small, now range: (0.0001, 0.0019)\n",
      "lr 0.00172 too big, now range: (0.0009099999999999998, 0.00253)\n",
      "-14.99001108624754\n",
      "3\n",
      "lr 0.001 too small, now range: (0.0001, 0.0019)\n",
      "lr 0.0001 too small, now range: (1e-05, 0.00019)\n",
      "lr 0.00019 too big, now range: (9.999999999999999e-05, 0.00028000000000000003)\n",
      "-14.990016288352297\n",
      "3\n",
      "lr 0.001 too small, now range: (0.0001, 0.0019)\n",
      "lr 0.0001 too small, now range: (1e-05, 0.00019)\n",
      "lr 0.00019 too big, now range: (9.999999999999999e-05, 0.00028000000000000003)\n",
      "-14.990021468127214\n",
      "3\n",
      "lr 0.001 too small, now range: (0.0001, 0.0019)\n",
      "lr 0.0001 too small, now range: (1e-05, 0.00019)\n",
      "lr 0.00019 too big, now range: (9.999999999999999e-05, 0.00028000000000000003)\n",
      "-14.990026625640574\n",
      "3\n",
      "lr 0.001 too small, now range: (0.0001, 0.0019)\n",
      "lr 0.0001 too small, now range: (1e-05, 0.00019)\n",
      "lr 0.00019 too big, now range: (9.999999999999999e-05, 0.00028000000000000003)\n",
      "-14.990031760960438\n",
      "3\n",
      "lr 0.001 too small, now range: (0.0001, 0.0019)\n",
      "lr 0.0001 too small, now range: (1e-05, 0.00019)\n",
      "lr 0.00019 too big, now range: (9.999999999999999e-05, 0.00028000000000000003)\n",
      "-14.99003687415528\n",
      "3\n",
      "lr 0.001 too small, now range: (0.0001, 0.0019)\n",
      "lr 0.0001 too small, now range: (1e-05, 0.00019)\n",
      "lr 0.00019 too big, now range: (9.999999999999999e-05, 0.00028000000000000003)\n",
      "-14.990041965293502\n",
      "3\n",
      "lr 0.001 too small, now range: (0.0001, 0.0019)\n",
      "lr 0.0001 too small, now range: (1e-05, 0.00019)\n",
      "lr 0.00019 too big, now range: (9.999999999999999e-05, 0.00028000000000000003)\n",
      "-14.99004703444389\n",
      "3\n",
      "lr 0.001 too small, now range: (0.0001, 0.0019)\n",
      "lr 0.0001 too small, now range: (1e-05, 0.00019)\n",
      "lr 0.00019 too big, now range: (9.999999999999999e-05, 0.00028000000000000003)\n",
      "-14.990052081675149\n"
     ]
    }
   ],
   "source": [
    "# Training gradient\n",
    "train_epochs = 10\n",
    "loss_function_resolution_threshold = 1e-4\n",
    "for _ in range(train_epochs):\n",
    "    grad = gradient_numerical(gci.loss, 2, best_params_train, best_loss_train, best_s_train )\n",
    "    best_s_train, best_lr_train, best_params_train, best_loss_train = adapative_grid_search(gci.loss, 2, best_params_train, grad, 1e-3, 2e-2, 1e-3, 1e1, 20, 2, 200)\n",
    "    if best_loss - best_loss_train > loss_function_resolution_threshold:\n",
    "        best_loss = best_loss_train\n",
    "        best_s = best_s_train\n",
    "        best_params = best_params_train\n",
    "    else:\n",
    "        break\n",
    "    print(best_loss_train)"
   ]
  },
  {
   "cell_type": "markdown",
   "metadata": {},
   "source": [
    "Gradient descent training reached paleau at the second step, we move on to the second step"
   ]
  },
  {
   "cell_type": "markdown",
   "metadata": {},
   "source": [
    "## 2. 2nd Step"
   ]
  },
  {
   "cell_type": "code",
   "execution_count": 14,
   "metadata": {},
   "outputs": [
    {
     "name": "stdout",
     "output_type": "stream",
     "text": [
      "-14.986573010822516\n"
     ]
    },
    {
     "data": {
      "text/plain": [
       "-14.986573010822514"
      ]
     },
     "execution_count": 14,
     "metadata": {},
     "output_type": "execute_result"
    }
   ],
   "source": [
    "b_list, j_list = best_params\n",
    "eo_d_Ising = IsingNNEvolutionOracle(b_list,j_list)\n",
    "print(gci.loss(best_s, eo_d_Ising))\n",
    "c0 = gci.group_commutator(best_s, eo_d_Ising)[\"forwards\"]\n",
    "c1 = gci.get_composed_circuit()\n",
    "v1_circ = c0+c1\n",
    "hamiltonian.expectation((v1_circ)().state())"
   ]
  },
  {
   "cell_type": "code",
   "execution_count": 215,
   "metadata": {},
   "outputs": [
    {
     "name": "stdout",
     "output_type": "stream",
     "text": [
      "The boosting circuit used 90 CNOT gates coming from compiled XXZ evolution and 350 CZ gates from VQE.\n",
      "For 10 qubits this gives n_CNOT/n_qubits = 9.0 and n_CZ/n_qubits = 35.0\n"
     ]
    },
    {
     "data": {
      "text/plain": [
       "-14.99765916110974"
      ]
     },
     "execution_count": 215,
     "metadata": {},
     "output_type": "execute_result"
    }
   ],
   "source": [
    "fsoe2  = FrameShiftedEvolutionOracle(deepcopy(eo_xxz),before_circuit=v1_circ.invert(), after_circuit=v1_circ, name=\"fixing bug\")\n",
    "# init gci with the vqe-rotated hamiltonian\n",
    "gci2  = GroupCommutatorIterationWithEvolutionOracles(input_hamiltonian_evolution_oracle=fsoe2, \n",
    "        mode_double_bracket_rotation=DoubleBracketRotationType.group_commutator_third_order_reduced)\n",
    "gci2.print_gate_count_report()\n",
    "#  this is quite simple - just pass a diagonal SymbolicHamiltonian \n",
    "# and because it will be commuting we can use the member function circuit for compiling\n",
    "gci2.loss()"
   ]
  },
  {
   "cell_type": "code",
   "execution_count": 217,
   "metadata": {},
   "outputs": [
    {
     "data": {
      "image/png": "[encoded data removed]",
      "text/plain": [
       "<Figure size 640x480 with 1 Axes>"
      ]
     },
     "metadata": {},
     "output_type": "display_data"
    }
   ],
   "source": [
    "gci2.mode_double_bracket_rotation = DoubleBracketRotationType.group_commutator_third_order_reduced\n",
    "losses = []\n",
    "times = np.linspace(1e-3,2e-2,30)\n",
    "eo_d_Ising = IsingNNEvolutionOracle(b_list, j_list)\n",
    "for s in times:\n",
    "    losses.append(gci2.loss(s, eo_d_Ising))\n",
    "plt.plot(times,losses)\n",
    "plt.yticks([losses[0],losses[np.argmin(losses)]])\n",
    "plt.xticks([times[np.argmin(losses)]])\n",
    "initial_loss = min(losses)\n",
    "s_gci_2nd = times[np.argmin(losses)]"
   ]
  },
  {
   "cell_type": "markdown",
   "metadata": {},
   "source": [
    "Repeat the steps with gradient descent."
   ]
  },
  {
   "cell_type": "markdown",
   "metadata": {},
   "source": [
    "### Gradient descent"
   ]
  },
  {
   "cell_type": "code",
   "execution_count": 218,
   "metadata": {},
   "outputs": [
    {
     "name": "stdout",
     "output_type": "stream",
     "text": [
      "[-3.39505855e-04 -5.22973531e-04 -9.09189513e-04 -1.02156535e-03\n",
      " -7.21058919e-04 -7.55750396e-05 -2.89893594e-04  8.95563819e-05\n",
      "  3.66259252e-04  1.83278907e-04] [-6.92320961e-04 -1.11982109e-03 -8.96430697e-04 -1.43416413e-03\n",
      " -5.18403807e-04 -3.80469126e-04 -3.26727649e-04 -1.30780945e-04\n",
      " -3.04522096e-06 -2.78079581e-04]\n"
     ]
    }
   ],
   "source": [
    "grad_b, grad_j = gradient_numerical_Ising(gci2.loss, b_list, j_list, initial_loss, s_gci_2nd )\n",
    "print(grad_b, grad_j)"
   ]
  },
  {
   "cell_type": "code",
   "execution_count": 219,
   "metadata": {},
   "outputs": [
    {
     "name": "stdout",
     "output_type": "stream",
     "text": [
      "The first gradient descent step reduces energy to -15.049103194612776, a difference of -0.00684048287353356.\n",
      "0.009821428571428571 1000.0\n"
     ]
    }
   ],
   "source": [
    "best_s, best_lr, best_params, best_loss = adapative_grid_search_Ising(gci2.loss, b_list, j_list, grad_b, grad_j, 5e-3, 2e-2, 1e2, 1e3, 10, 2, 300)\n",
    "print(f\"The first gradient descent step reduces energy to {best_loss}, a difference of {best_loss - initial_loss}.\")\n",
    "print(best_s, best_lr)\n",
    "b_list_train = best_params[0]\n",
    "j_list_train = best_params[1]\n",
    "best_loss_train = best_loss\n",
    "best_s_train = best_s"
   ]
  },
  {
   "cell_type": "markdown",
   "metadata": {},
   "source": [
    "### Gradient training"
   ]
  },
  {
   "cell_type": "code",
   "execution_count": 222,
   "metadata": {},
   "outputs": [
    {
     "name": "stdout",
     "output_type": "stream",
     "text": [
      "-15.049103194612776\n",
      "-15.049103194612776\n"
     ]
    }
   ],
   "source": [
    "# Training gradient\n",
    "train_epochs = 5\n",
    "stuck_counter = 0\n",
    "for _ in range(train_epochs):\n",
    "    grad_b_train, grad_j_train = gradient_numerical_Ising(gci2.loss, b_list_train, j_list_train, best_loss_train, best_s_train )\n",
    "    best_s_train, best_lr_train, best_params_train, best_loss_train = adapative_grid_search_Ising(gci2.loss, b_list, j_list, grad_b, grad_j, 3e-3, 2e-2, 5e2, 5e3, 20, 2, 100)\n",
    "    b_list_train = best_params_train[0]\n",
    "    j_list_train = best_params_train[1]\n",
    "    if best_loss_train < best_loss:\n",
    "        best_loss = best_loss_train\n",
    "        best_s = best_s_train\n",
    "        best_params = best_params_train\n",
    "    else:\n",
    "        stuck_counter += 1\n",
    "    if stuck_counter == 3:\n",
    "        break\n",
    "    print(best_loss)"
   ]
  },
  {
   "cell_type": "markdown",
   "metadata": {},
   "source": [
    "## 3. 3rd step"
   ]
  },
  {
   "cell_type": "code",
   "execution_count": 223,
   "metadata": {},
   "outputs": [
    {
     "name": "stdout",
     "output_type": "stream",
     "text": [
      "-15.049103194612776\n"
     ]
    },
    {
     "data": {
      "text/plain": [
       "-15.049103194612774"
      ]
     },
     "execution_count": 223,
     "metadata": {},
     "output_type": "execute_result"
    }
   ],
   "source": [
    "b_list, j_list = best_params\n",
    "eo_d_Ising = IsingNNEvolutionOracle(b_list,j_list)\n",
    "print(gci2.loss(best_s, eo_d_Ising))\n",
    "c0 = gci2.group_commutator(best_s, eo_d_Ising)[\"forwards\"]\n",
    "c1 = gci2.get_composed_circuit()\n",
    "v2_circ = c0+c1\n",
    "hamiltonian.expectation((v2_circ)().state()) "
   ]
  },
  {
   "cell_type": "code",
   "execution_count": 224,
   "metadata": {},
   "outputs": [
    {
     "name": "stdout",
     "output_type": "stream",
     "text": [
      "The boosting circuit used 540 CNOT gates coming from compiled XXZ evolution and 1750 CZ gates from VQE.\n",
      "For 10 qubits this gives n_CNOT/n_qubits = 54.0 and n_CZ/n_qubits = 175.0\n"
     ]
    },
    {
     "data": {
      "text/plain": [
       "-15.049103194612776"
      ]
     },
     "execution_count": 224,
     "metadata": {},
     "output_type": "execute_result"
    }
   ],
   "source": [
    "fsoe3  = FrameShiftedEvolutionOracle(deepcopy(eo_xxz),before_circuit=v2_circ.invert(), after_circuit=v2_circ, name=\"fixing bug\")\n",
    "# init gci with the vqe-rotated hamiltonian\n",
    "gci3  = GroupCommutatorIterationWithEvolutionOracles(input_hamiltonian_evolution_oracle=fsoe3, \n",
    "        mode_double_bracket_rotation=DoubleBracketRotationType.group_commutator_third_order_reduced)\n",
    "gci3.print_gate_count_report()\n",
    "#  this is quite simple - just pass a diagonal SymbolicHamiltonian \n",
    "# and because it will be commuting we can use the member function circuit for compiling\n",
    "gci3.loss()"
   ]
  },
  {
   "cell_type": "code",
   "execution_count": 225,
   "metadata": {},
   "outputs": [
    {
     "data": {
      "image/png": "[encoded data removed]",
      "text/plain": [
       "<Figure size 640x480 with 1 Axes>"
      ]
     },
     "metadata": {},
     "output_type": "display_data"
    }
   ],
   "source": [
    "gci3.mode_double_bracket_rotation = DoubleBracketRotationType.group_commutator_third_order_reduced\n",
    "losses = []\n",
    "times = np.linspace(1e-3,2e-2,50)\n",
    "eo_d_Ising = IsingNNEvolutionOracle(b_list, j_list)\n",
    "for s in times:\n",
    "    losses.append(gci3.loss(s, eo_d_Ising))\n",
    "plt.plot(times,losses)\n",
    "plt.yticks([losses[0],losses[np.argmin(losses)]])\n",
    "plt.xticks([times[np.argmin(losses)]])\n",
    "initial_loss = min(losses)\n",
    "s_gci_3rd = times[np.argmin(losses)]"
   ]
  },
  {
   "cell_type": "markdown",
   "metadata": {},
   "source": [
    "### Gradient descent"
   ]
  },
  {
   "cell_type": "code",
   "execution_count": 226,
   "metadata": {},
   "outputs": [
    {
     "name": "stdout",
     "output_type": "stream",
     "text": [
      "[-1.89087599e-04 -1.62532137e-04 -6.21149621e-05 -2.68473611e-04\n",
      " -2.51489469e-04 -1.30351983e-04 -2.38763109e-04 -1.60984621e-04\n",
      " -5.40896306e-05 -1.22584668e-04] [-0.0003177  -0.00019466 -0.00029919 -0.00044205 -0.00027714 -0.00031012\n",
      " -0.0003607  -0.00013949 -0.00021503 -0.00025908]\n"
     ]
    }
   ],
   "source": [
    "grad_b, grad_j = gradient_numerical_Ising(gci3.loss, b_list, j_list, initial_loss, s_gci_3rd )\n",
    "print(grad_b, grad_j)"
   ]
  },
  {
   "cell_type": "code",
   "execution_count": 231,
   "metadata": {},
   "outputs": [
    {
     "name": "stdout",
     "output_type": "stream",
     "text": [
      "The 3rd gradient descent step reduces energy to -15.082962775970586, a difference of -0.003649529391450912.\n",
      "0.0055000000000000005 2000.0\n"
     ]
    }
   ],
   "source": [
    "best_s, best_lr, best_params, best_loss = adapative_grid_search_Ising(gci3.loss, b_list, j_list, grad_b, grad_j, 1e-3, 1e-2, 1e2, 2e3, 20, 2, 100)\n",
    "print(f\"The 3rd gradient descent step reduces energy to {best_loss}, a difference of {best_loss - initial_loss}.\")\n",
    "print(best_s, best_lr)\n",
    "b_list_train = best_params[0]\n",
    "j_list_train = best_params[1]\n",
    "best_loss_train = best_loss\n",
    "best_s_train = best_s"
   ]
  },
  {
   "cell_type": "markdown",
   "metadata": {},
   "source": [
    "### Gradient training"
   ]
  },
  {
   "cell_type": "code",
   "execution_count": 229,
   "metadata": {},
   "outputs": [],
   "source": [
    "# Training gradient\n",
    "train_epochs = 1\n",
    "for _ in range(train_epochs):\n",
    "    grad_b_train, grad_j_train = gradient_numerical_Ising(gci2.loss, b_list_train, j_list_train, best_loss_train, best_s_train )\n",
    "    best_s_train, best_lr_train, best_params_train, best_loss_train = adapative_grid_search_Ising(gci2.loss, b_list_train, j_list_train, grad_b_train, grad_j_train, 1e-3, 8e-3, 1e3, 5e4, 15, 2, 50)\n",
    "    b_list_train = best_params_train[0]\n",
    "    j_list_train = best_params_train[1]\n",
    "    if best_loss_train < best_loss:\n",
    "        best_loss = best_loss_train\n",
    "        best_s = best_s_train\n",
    "        best_params = best_params_train\n",
    "    if best_loss_train > np.round(initial_loss):\n",
    "        break\n",
    "    print(best_loss)"
   ]
  },
  {
   "cell_type": "code",
   "execution_count": null,
   "metadata": {},
   "outputs": [],
   "source": []
  }
 ],
 "metadata": {
  "kernelspec": {
   "display_name": "DBF_qibo",
   "language": "python",
   "name": "python3"
  },
  "language_info": {
   "codemirror_mode": {
    "name": "ipython",
    "version": 3
   },
   "file_extension": ".py",
   "mimetype": "text/x-python",
   "name": "python",
   "nbconvert_exporter": "python",
   "pygments_lexer": "ipython3",
   "version": "3.11.7"
  }
 },
 "nbformat": 4,
 "nbformat_minor": 2
}
