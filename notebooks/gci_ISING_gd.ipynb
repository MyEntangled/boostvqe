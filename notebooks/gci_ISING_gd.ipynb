{
 "cells": [
  {
   "cell_type": "markdown",
   "metadata": {},
   "source": [
    "Here our goal is to reduce the energy as much as possible, at the same time keep track of the cost."
   ]
  },
  {
   "cell_type": "markdown",
   "metadata": {},
   "source": [
    "### Imports"
   ]
  },
  {
   "cell_type": "code",
   "execution_count": 21,
   "metadata": {},
   "outputs": [],
   "source": [
    "import json\n",
    "import time\n",
    "from pathlib import Path\n",
    "\n",
    "import numpy as np\n",
    "import qibo\n",
    "from qibo import hamiltonians, set_backend\n",
    "from boostvqe.models.dbi.double_bracket import (\n",
    "    DoubleBracketGeneratorType,\n",
    "    DoubleBracketIteration,\n",
    ")\n",
    "\n",
    "from boostvqe.ansatze import VQE, build_circuit\n",
    "from boostvqe.utils import apply_dbi_steps, rotate_h_with_vqe\n",
    "from qibo import symbols, hamiltonians\n",
    "from copy import deepcopy\n",
    "from boostvqe.compiling_XXZ import *\n",
    "\n",
    "from boostvqe.models.dbi.group_commutator_iteration_transpiler import *\n",
    "from boostvqe.models.dbi.double_bracket_evolution_oracles import *\n",
    "\n",
    "import matplotlib.pyplot as plt"
   ]
  },
  {
   "cell_type": "markdown",
   "metadata": {},
   "source": [
    "### Help functions"
   ]
  },
  {
   "cell_type": "code",
   "execution_count": 29,
   "metadata": {},
   "outputs": [],
   "source": [
    "def visualize_matrix(matrix, title=\"\"):\n",
    "    \"\"\"Visualize hamiltonian in a heatmap form.\"\"\"\n",
    "    fig, ax = plt.subplots(figsize=(5,5))\n",
    "    ax.set_title(title)\n",
    "    try:\n",
    "        im = ax.imshow(np.absolute(matrix), cmap=\"inferno\")\n",
    "    except TypeError:\n",
    "        im = ax.imshow(np.absolute(matrix.get()), cmap=\"inferno\")\n",
    "    fig.colorbar(im, ax=ax)\n",
    "    \n",
    "def gradient_numerical_Ising(\n",
    "    loss_function,\n",
    "    b_params: list,\n",
    "    j_params: list,\n",
    "    loss_0,\n",
    "    s_0,\n",
    "    delta: float = 1e-3,\n",
    "):\n",
    "    grad_b = np.zeros(len(b_params))\n",
    "    grad_j = np.zeros(len(j_params))\n",
    "    for i in range(len(b_params)):\n",
    "        params_new = deepcopy(b_params)\n",
    "        params_new[i] += delta\n",
    "        eo_d = IsingNNEvolutionOracle(params_new, j_params)\n",
    "        # find the increment of a very small step\n",
    "        grad_b[i] = (loss_function(s_0, eo_d) - loss_0 ) / delta\n",
    "    for i in range(len(j_params)):\n",
    "        params_new = deepcopy(j_params)\n",
    "        params_new[i] += delta\n",
    "        eo_d = IsingNNEvolutionOracle(b_params, params_new)\n",
    "        # find the increment of a very small step\n",
    "        grad_j[i] = (loss_function(s_0, eo_d) - loss_0 ) / delta\n",
    "    return grad_b, grad_j\n",
    "\n",
    "def grid_search_Ising(loss_function, b_list, j_list, grad_b, grad_j, s_min, s_max, lr_min, lr_max, max_eval):\n",
    "    # Calculate the number of points in the grid based on max_eval\n",
    "    n_points = int(np.sqrt(max_eval))\n",
    "    \n",
    "    # Generate grid of parameters\n",
    "    s_values = np.linspace(s_min, s_max, n_points)\n",
    "    lr_values = np.linspace(lr_min, lr_max, n_points)\n",
    "    \n",
    "    best_loss = float('inf')\n",
    "    best_s = None\n",
    "    best_lr = None\n",
    "    \n",
    "    # Iterate over all combinations of s and lr\n",
    "    for s in s_values:\n",
    "        for lr in lr_values:\n",
    "            b_eval = deepcopy(b_list)\n",
    "            j_eval = deepcopy(j_list)\n",
    "            b_eval = b_eval - grad_b * lr\n",
    "            j_eval = j_eval - grad_j * lr\n",
    "            eo_d = IsingNNEvolutionOracle(b_eval, j_eval)\n",
    "            # Evaluate the loss function with the current parameters\n",
    "            loss = loss_function(s, eo_d)\n",
    "            \n",
    "            # Update the best parameters if the current loss is lower\n",
    "            if loss < best_loss:\n",
    "                best_loss = loss\n",
    "                best_s = s\n",
    "                best_lr = lr\n",
    "        best_params = (b_list - grad_b * best_lr, j_list - grad_j * best_lr)\n",
    "    return best_s, best_lr, best_params, best_loss"
   ]
  },
  {
   "cell_type": "markdown",
   "metadata": {},
   "source": [
    "## Load VQE"
   ]
  },
  {
   "cell_type": "code",
   "execution_count": 5,
   "metadata": {},
   "outputs": [
    {
     "name": "stderr",
     "output_type": "stream",
     "text": [
      "[Qibo 0.2.9|INFO|2024-06-14 15:25:22]: Using numpy backend on /CPU:0\n",
      "INFO:qibo.config:Using numpy backend on /CPU:0\n",
      "[Qibo 0.2.9|INFO|2024-06-14 15:25:23]: Using numpy backend on /CPU:0\n",
      "INFO:qibo.config:Using numpy backend on /CPU:0\n"
     ]
    },
    {
     "name": "stdout",
     "output_type": "stream",
     "text": [
      "In the VQE numpy\n"
     ]
    }
   ],
   "source": [
    "qibo.set_backend(\"numpy\")\n",
    "\n",
    "# set the path string which define the results\n",
    "path = \"../results/vqe_data/with_params/sgd_10q_7l_42/\"\n",
    "\n",
    "# set the target epoch to which apply DBQA and the number of steps\n",
    "target_epoch = 2000\n",
    "dbi_steps = 1\n",
    "\n",
    "# upload system configuration and parameters for all the training\n",
    "with open(path + \"optimization_results.json\") as file:\n",
    "    config = json.load(file)\n",
    "\n",
    "losses = dict(np.load(path + \"energies.npz\"))[\"0\"]\n",
    "params = np.load(path + f\"parameters/params_ite{target_epoch}.npy\")\n",
    "\n",
    "nqubits = config[\"nqubits\"]\n",
    "# build circuit, hamiltonian and VQE\n",
    "hamiltonian = hamiltonians.XXZ(nqubits=nqubits, delta=0.5)\n",
    "circuit = build_circuit(nqubits, config[\"nlayers\"], \"numpy\")\n",
    "vqe = VQE(circuit, hamiltonian)\n",
    "zero_state = hamiltonian.backend.zero_state(nqubits)\n",
    "zero_state_t = np.transpose([zero_state])\n",
    "target_energy = np.min(hamiltonian.eigenvalues())\n",
    "\n",
    "\n",
    "# set target parameters into the VQE\n",
    "vqe.circuit.set_parameters(params)\n",
    "vqe_state = vqe.circuit().state()\n",
    "\n",
    "ene1 = hamiltonian.expectation(vqe_state)"
   ]
  },
  {
   "cell_type": "code",
   "execution_count": 123,
   "metadata": {},
   "outputs": [
    {
     "name": "stdout",
     "output_type": "stream",
     "text": [
      "VQE energy is -14.856898957126571. \n",
      "The target energy is -15.276131122065761 which means the difference is 0.41923216493919035.\n",
      "The relative difference is 2.744360869838478%.\n",
      "The goal is to reach 1.0% which requires to lower energy to -15.123369810845103.\n"
     ]
    }
   ],
   "source": [
    "print(f\"VQE energy is {ene1}. \\n\\\n",
    "The target energy is {target_energy} which means the difference is {ene1-target_energy}.\\n\\\n",
    "The relative difference is {abs(ene1-target_energy)/abs(target_energy)*100}%.\\n\\\n",
    "The goal is to reach 1.0% which requires to lower energy to {0.99*target_energy}.\")"
   ]
  },
  {
   "cell_type": "markdown",
   "metadata": {},
   "source": [
    "## 1. Try reduced GCI"
   ]
  },
  {
   "cell_type": "code",
   "execution_count": 124,
   "metadata": {},
   "outputs": [],
   "source": [
    "# Initialize transpiler code\n",
    "eo_xxz = XXZ_EvolutionOracle(nqubits, steps = 1, order = 2)\n",
    "\n",
    "# implement the rotate by VQE on the level of circuits\n",
    "fsoe  = VQERotatedEvolutionOracle(eo_xxz, vqe)\n",
    "\n",
    "# init gci with the vqe-rotated hamiltonian\n",
    "gci  = GroupCommutatorIterationWithEvolutionOracles(input_hamiltonian_evolution_oracle=fsoe, \n",
    "        mode_double_bracket_rotation=DoubleBracketRotationType.group_commutator_third_order_reduced)"
   ]
  },
  {
   "cell_type": "code",
   "execution_count": 125,
   "metadata": {},
   "outputs": [],
   "source": [
    "# Randomized initial b_list\n",
    "# 1-local magnetic field\n",
    "b_list = [a+b for a,b in zip(np.random.rand(10)*.2,np.linspace(1,0,10))]\n",
    "eo_d = MagneticFieldEvolutionOracle(b_list)\n",
    "# 2-local Ising model\n",
    "eo_d_Ising = IsingNNEvolutionOracle(b_list,b_list)"
   ]
  },
  {
   "cell_type": "code",
   "execution_count": 126,
   "metadata": {},
   "outputs": [
    {
     "data": {
      "text/plain": [
       "([<matplotlib.axis.XTick at 0x298fc5890>],\n",
       " [Text(0.011555555555555555, 0, '0.01156')])"
      ]
     },
     "execution_count": 126,
     "metadata": {},
     "output_type": "execute_result"
    },
    {
     "data": {
      "image/png": "[encoded data removed]",
      "text/plain": [
       "<Figure size 640x480 with 1 Axes>"
      ]
     },
     "metadata": {},
     "output_type": "display_data"
    }
   ],
   "source": [
    "losses_1 = []\n",
    "losses_2 = []\n",
    "times = np.linspace(1e-3,2e-2,10)\n",
    "for s in times:\n",
    "    losses_1.append(gci.loss(s, eo_d))\n",
    "    losses_2.append(gci.loss(s, eo_d_Ising))\n",
    "plt.plot(times,losses_1, label=\"Magnetic\")\n",
    "plt.plot(times,losses_2, label=\"Ising\")\n",
    "plt.legend()\n",
    "plt.yticks([losses_1[0],losses_1[np.argmin(losses_1)]])\n",
    "plt.xticks([times[np.argmin(losses_1)]])\n",
    "plt.yticks([losses_2[0],losses_2[np.argmin(losses_2)]])\n",
    "plt.xticks([times[np.argmin(losses_2)]])"
   ]
  },
  {
   "cell_type": "code",
   "execution_count": 127,
   "metadata": {},
   "outputs": [
    {
     "name": "stdout",
     "output_type": "stream",
     "text": [
      "The minimum energy is achieved by Ising model at -14.989844866828316,\n",
      "The relative difference is now 2.744360869838478%.\n"
     ]
    }
   ],
   "source": [
    "min_loss = min(losses_2)\n",
    "s_gci_1 = times[np.argmin(losses_2)]\n",
    "print(f\"The minimum energy is achieved by Ising model at {min_loss},\\n\\\n",
    "The relative difference is now {abs(ene1-target_energy)/abs(target_energy)*100}%.\")"
   ]
  },
  {
   "cell_type": "markdown",
   "metadata": {},
   "source": [
    "To further lower the energy, we try a step of gradient descent."
   ]
  },
  {
   "cell_type": "code",
   "execution_count": 128,
   "metadata": {},
   "outputs": [
    {
     "name": "stdout",
     "output_type": "stream",
     "text": [
      "[ 1.69287691e-03  1.14889580e-03  9.10209199e-04 -9.68637384e-05\n",
      " -1.07337659e-05 -1.23843417e-03 -1.27076022e-03 -3.05051791e-03\n",
      " -2.70961964e-03 -4.14654275e-03] [ 2.28574623e-03  8.66741212e-04  5.51505977e-04 -6.87671058e-05\n",
      " -9.41078827e-04 -2.18244792e-03 -1.72849639e-03 -2.23616210e-03\n",
      " -3.69326350e-03 -4.22770045e-03]\n"
     ]
    }
   ],
   "source": [
    "grad_b, grad_j = gradient_numerical_Ising(gci.loss, b_list, b_list, min_loss, s_gci_1 )\n",
    "print(grad_b, grad_j)"
   ]
  },
  {
   "cell_type": "code",
   "execution_count": 144,
   "metadata": {},
   "outputs": [
    {
     "name": "stdout",
     "output_type": "stream",
     "text": [
      "The first gradient descent step reduces energy to -14.995518008675015, a difference of -0.0056731418466995365.\n",
      "0.0078125 100.0\n"
     ]
    }
   ],
   "source": [
    "best_s, best_lr, best_params, best_loss = grid_search_Ising(gci.loss, b_list, b_list, grad_b, grad_j, 5e-3, 5e-2, 1e2, 5e2, 300)\n",
    "print(f\"The first gradient descent step reduces energy to {best_loss}, a difference of {best_loss - min_loss}.\")\n",
    "print(best_s, best_lr)\n",
    "b_list_train = best_params[0]\n",
    "j_list_train = best_params[1]\n",
    "best_loss_train = best_loss\n",
    "best_s_train = best_s"
   ]
  },
  {
   "cell_type": "code",
   "execution_count": 139,
   "metadata": {},
   "outputs": [],
   "source": [
    "# Training gradient\n",
    "train_epochs = 10\n",
    "for _ in range(train_epochs):\n",
    "    grad_b_train, grad_j_train = gradient_numerical_Ising(gci.loss, b_list_train, j_list_train, best_loss_train, best_s_train )\n",
    "    best_s_train, best_lr_train, best_params_train, best_loss_train = grid_search_Ising(gci.loss, b_list_train, j_list_train, grad_b_train, grad_j_train,  5e-3, 5e-2, 1e2, 5e2, 100)\n",
    "    b_list_train = best_params_train[0]\n",
    "    j_list_train = best_params_train[1]\n",
    "    if best_loss_train < best_loss:\n",
    "        best_loss = best_loss_train\n",
    "        best_s = best_s_train\n",
    "        best_params = best_params_train\n",
    "    if best_loss_train > -14.98:\n",
    "        break\n",
    "    print(best_loss)"
   ]
  },
  {
   "cell_type": "markdown",
   "metadata": {},
   "source": [
    "Gradient descent training reached paleau at the second step, we move on to the second step"
   ]
  },
  {
   "cell_type": "markdown",
   "metadata": {},
   "source": [
    "## 2. 2nd Step"
   ]
  },
  {
   "cell_type": "code",
   "execution_count": 145,
   "metadata": {},
   "outputs": [
    {
     "name": "stdout",
     "output_type": "stream",
     "text": [
      "-14.995518008675015\n"
     ]
    },
    {
     "data": {
      "text/plain": [
       "-14.995518008675017"
      ]
     },
     "execution_count": 145,
     "metadata": {},
     "output_type": "execute_result"
    }
   ],
   "source": [
    "b_list, j_list = best_params\n",
    "eo_d_Ising = IsingNNEvolutionOracle(b_list,j_list)\n",
    "print(gci.loss(best_s, eo_d_Ising))\n",
    "c0 = gci.group_commutator(best_s, eo_d_Ising)[\"forwards\"]\n",
    "c1 = gci.get_composed_circuit()\n",
    "v1_circ = c0+c1\n",
    "hamiltonian.expectation((v1_circ)().state())"
   ]
  },
  {
   "cell_type": "code",
   "execution_count": 146,
   "metadata": {},
   "outputs": [
    {
     "name": "stdout",
     "output_type": "stream",
     "text": [
      "The boosting circuit used 90 CNOT gates coming from compiled XXZ evolution and 350 CZ gates from VQE.\n",
      "For 10 qubits this gives n_CNOT/n_qubits = 9.0 and n_CZ/n_qubits = 35.0\n"
     ]
    },
    {
     "data": {
      "text/plain": [
       "-14.995518008675015"
      ]
     },
     "execution_count": 146,
     "metadata": {},
     "output_type": "execute_result"
    }
   ],
   "source": [
    "fsoe2  = FrameShiftedEvolutionOracle(deepcopy(eo_xxz),before_circuit=v1_circ.invert(), after_circuit=v1_circ, name=\"fixing bug\")\n",
    "# init gci with the vqe-rotated hamiltonian\n",
    "gci2  = GroupCommutatorIterationWithEvolutionOracles(input_hamiltonian_evolution_oracle=fsoe2, \n",
    "        mode_double_bracket_rotation=DoubleBracketRotationType.group_commutator_third_order_reduced)\n",
    "gci2.print_gate_count_report()\n",
    "#  this is quite simple - just pass a diagonal SymbolicHamiltonian \n",
    "# and because it will be commuting we can use the member function circuit for compiling\n",
    "gci2.loss()"
   ]
  },
  {
   "cell_type": "code",
   "execution_count": 147,
   "metadata": {},
   "outputs": [
    {
     "data": {
      "image/png": "[encoded data removed]",
      "text/plain": [
       "<Figure size 640x480 with 1 Axes>"
      ]
     },
     "metadata": {},
     "output_type": "display_data"
    }
   ],
   "source": [
    "gci2.mode_double_bracket_rotation = DoubleBracketRotationType.group_commutator_third_order_reduced\n",
    "losses = []\n",
    "times = np.linspace(1e-3,2e-2,10)\n",
    "eo_d_Ising = IsingNNEvolutionOracle(b_list, j_list)\n",
    "for s in times:\n",
    "    losses.append(gci2.loss(s, eo_d_Ising))\n",
    "plt.plot(times,losses)\n",
    "plt.yticks([losses[0],losses[np.argmin(losses)]])\n",
    "plt.xticks([times[np.argmin(losses)]])\n",
    "initial_loss = min(losses)\n",
    "s_gci_2nd = times[np.argmin(losses)]"
   ]
  },
  {
   "cell_type": "markdown",
   "metadata": {},
   "source": [
    "Repeat the steps with gradient descent."
   ]
  },
  {
   "cell_type": "markdown",
   "metadata": {},
   "source": [
    "### Gradient descent"
   ]
  },
  {
   "cell_type": "code",
   "execution_count": 148,
   "metadata": {},
   "outputs": [
    {
     "name": "stdout",
     "output_type": "stream",
     "text": [
      "[-0.0001593  -0.0003494  -0.00026101 -0.00069051 -0.00036367 -0.00019519\n",
      " -0.00069194 -0.0002644  -0.00018128 -0.0004412 ] [-0.00026579 -0.00044557 -0.00047773 -0.0010062  -0.0006198  -0.00072631\n",
      " -0.00112734 -0.00028637 -0.00053224 -0.00055129]\n"
     ]
    }
   ],
   "source": [
    "grad_b, grad_j = gradient_numerical_Ising(gci2.loss, b_list, j_list, initial_loss, s_gci_2nd )\n",
    "print(grad_b, grad_j)"
   ]
  },
  {
   "cell_type": "code",
   "execution_count": 159,
   "metadata": {},
   "outputs": [
    {
     "name": "stdout",
     "output_type": "stream",
     "text": [
      "The first gradient descent step reduces energy to -15.047227216277397, a difference of -0.0015083238347948225.\n",
      "0.008333333333333333 500.0\n"
     ]
    }
   ],
   "source": [
    "best_s, best_lr, best_params, best_loss = grid_search_Ising(gci2.loss, b_list, b_list, grad_b, grad_j, 5e-3, 2e-2, 1e2, 1e3, 100)\n",
    "print(f\"The first gradient descent step reduces energy to {best_loss}, a difference of {best_loss - initial_loss}.\")\n",
    "print(best_s, best_lr)\n",
    "b_list_train = best_params[0]\n",
    "j_list_train = best_params[1]\n",
    "best_loss_train = best_loss\n",
    "best_s_train = best_s"
   ]
  },
  {
   "cell_type": "markdown",
   "metadata": {},
   "source": [
    "### Gradient training"
   ]
  },
  {
   "cell_type": "code",
   "execution_count": 160,
   "metadata": {},
   "outputs": [
    {
     "name": "stdout",
     "output_type": "stream",
     "text": [
      "-15.047549462419939\n",
      "-15.047764944101074\n",
      "-15.04792690550585\n",
      "-15.048038046105933\n",
      "-15.048099010507396\n"
     ]
    }
   ],
   "source": [
    "# Training gradient\n",
    "train_epochs = 5\n",
    "for _ in range(train_epochs):\n",
    "    grad_b_train, grad_j_train = gradient_numerical_Ising(gci2.loss, b_list_train, j_list_train, best_loss_train, best_s_train )\n",
    "    best_s_train, best_lr_train, best_params_train, best_loss_train = grid_search_Ising(gci2.loss, b_list_train, j_list_train, grad_b_train, grad_j_train, 5e-3, 2e-2, 1e2, 1e3, 30)\n",
    "    b_list_train = best_params_train[0]\n",
    "    j_list_train = best_params_train[1]\n",
    "    if best_loss_train < best_loss:\n",
    "        best_loss = best_loss_train\n",
    "        best_s = best_s_train\n",
    "        best_params = best_params_train\n",
    "    if best_loss_train > np.round(initial_loss):\n",
    "        break\n",
    "    print(best_loss)"
   ]
  },
  {
   "cell_type": "markdown",
   "metadata": {},
   "source": [
    "## 3. 3rd step"
   ]
  },
  {
   "cell_type": "code",
   "execution_count": 161,
   "metadata": {},
   "outputs": [
    {
     "name": "stdout",
     "output_type": "stream",
     "text": [
      "-15.048099010507396\n"
     ]
    },
    {
     "data": {
      "text/plain": [
       "-15.048099010507396"
      ]
     },
     "execution_count": 161,
     "metadata": {},
     "output_type": "execute_result"
    }
   ],
   "source": [
    "b_list, j_list = best_params\n",
    "eo_d_Ising = IsingNNEvolutionOracle(b_list,j_list)\n",
    "print(gci2.loss(best_s, eo_d_Ising))\n",
    "c0 = gci2.group_commutator(best_s, eo_d_Ising)[\"forwards\"]\n",
    "c1 = gci2.get_composed_circuit()\n",
    "v2_circ = c0+c1\n",
    "hamiltonian.expectation((v2_circ)().state()) "
   ]
  },
  {
   "cell_type": "code",
   "execution_count": 162,
   "metadata": {},
   "outputs": [
    {
     "name": "stdout",
     "output_type": "stream",
     "text": [
      "The boosting circuit used 540 CNOT gates coming from compiled XXZ evolution and 1750 CZ gates from VQE.\n",
      "For 10 qubits this gives n_CNOT/n_qubits = 54.0 and n_CZ/n_qubits = 175.0\n"
     ]
    },
    {
     "data": {
      "text/plain": [
       "-15.048099010507396"
      ]
     },
     "execution_count": 162,
     "metadata": {},
     "output_type": "execute_result"
    }
   ],
   "source": [
    "fsoe3  = FrameShiftedEvolutionOracle(deepcopy(eo_xxz),before_circuit=v2_circ.invert(), after_circuit=v2_circ, name=\"fixing bug\")\n",
    "# init gci with the vqe-rotated hamiltonian\n",
    "gci3  = GroupCommutatorIterationWithEvolutionOracles(input_hamiltonian_evolution_oracle=fsoe3, \n",
    "        mode_double_bracket_rotation=DoubleBracketRotationType.group_commutator_third_order_reduced)\n",
    "gci3.print_gate_count_report()\n",
    "#  this is quite simple - just pass a diagonal SymbolicHamiltonian \n",
    "# and because it will be commuting we can use the member function circuit for compiling\n",
    "gci3.loss()"
   ]
  },
  {
   "cell_type": "code",
   "execution_count": 163,
   "metadata": {},
   "outputs": [
    {
     "data": {
      "image/png": "[encoded data removed]",
      "text/plain": [
       "<Figure size 640x480 with 1 Axes>"
      ]
     },
     "metadata": {},
     "output_type": "display_data"
    }
   ],
   "source": [
    "gci3.mode_double_bracket_rotation = DoubleBracketRotationType.group_commutator_third_order_reduced\n",
    "losses = []\n",
    "times = np.linspace(1e-3,2e-2,10)\n",
    "eo_d_Ising = IsingNNEvolutionOracle(b_list, j_list)\n",
    "for s in times:\n",
    "    losses.append(gci3.loss(s, eo_d_Ising))\n",
    "plt.plot(times,losses)\n",
    "plt.yticks([losses[0],losses[np.argmin(losses)]])\n",
    "plt.xticks([times[np.argmin(losses)]])\n",
    "initial_loss = min(losses)\n",
    "s_gci_3rd = times[np.argmin(losses)]"
   ]
  },
  {
   "cell_type": "markdown",
   "metadata": {},
   "source": [
    "### Gradient descent"
   ]
  },
  {
   "cell_type": "code",
   "execution_count": 164,
   "metadata": {},
   "outputs": [
    {
     "name": "stdout",
     "output_type": "stream",
     "text": [
      "[-0.00021945 -0.00033477 -0.00035416 -0.0005305  -0.00048769 -0.00032455\n",
      " -0.00043283 -0.0003387  -0.0002082  -0.00039806] [-0.00040381 -0.00047986 -0.00058137 -0.00070244 -0.00054989 -0.00055154\n",
      " -0.00059134 -0.00037207 -0.00039661 -0.00056224]\n"
     ]
    }
   ],
   "source": [
    "grad_b, grad_j = gradient_numerical_Ising(gci3.loss, b_list, j_list, initial_loss, s_gci_3rd )\n",
    "print(grad_b, grad_j)"
   ]
  },
  {
   "cell_type": "code",
   "execution_count": 166,
   "metadata": {},
   "outputs": [
    {
     "name": "stdout",
     "output_type": "stream",
     "text": [
      "The first gradient descent step reduces energy to -15.082669061819992, a difference of -0.0039861920947643625.\n",
      "0.005 1788.888888888889\n"
     ]
    }
   ],
   "source": [
    "best_s, best_lr, best_params, best_loss = grid_search_Ising(gci3.loss, b_list, b_list, grad_b, grad_j, 1e-3, 1e-2, 1e2, 2e3, 100)\n",
    "print(f\"The first gradient descent step reduces energy to {best_loss}, a difference of {best_loss - initial_loss}.\")\n",
    "print(best_s, best_lr)\n",
    "b_list_train = best_params[0]\n",
    "j_list_train = best_params[1]\n",
    "best_loss_train = best_loss\n",
    "best_s_train = best_s"
   ]
  },
  {
   "cell_type": "markdown",
   "metadata": {},
   "source": [
    "### Gradient training"
   ]
  },
  {
   "cell_type": "code",
   "execution_count": 172,
   "metadata": {},
   "outputs": [],
   "source": [
    "# Training gradient\n",
    "train_epochs = 1\n",
    "for _ in range(train_epochs):\n",
    "    grad_b_train, grad_j_train = gradient_numerical_Ising(gci2.loss, b_list_train, j_list_train, best_loss_train, best_s_train )\n",
    "    best_s_train, best_lr_train, best_params_train, best_loss_train = grid_search_Ising(gci2.loss, b_list_train, j_list_train, grad_b_train, grad_j_train, 1e-3, 3e-2, 1e1, 1e2, 30)\n",
    "    b_list_train = best_params_train[0]\n",
    "    j_list_train = best_params_train[1]\n",
    "    if best_loss_train < best_loss:\n",
    "        best_loss = best_loss_train\n",
    "        best_s = best_s_train\n",
    "        best_params = best_params_train\n",
    "    if best_loss_train > np.round(initial_loss):\n",
    "        break\n",
    "    print(best_loss)"
   ]
  },
  {
   "cell_type": "code",
   "execution_count": 173,
   "metadata": {},
   "outputs": [
    {
     "name": "stdout",
     "output_type": "stream",
     "text": [
      "[0.00044688 0.00049679 0.00068806 0.00078858 0.00070354 0.00070705\n",
      " 0.00076442 0.00081346 0.0006076  0.00075727] [0.00043722 0.00079801 0.00066789 0.00071422 0.00067625 0.00074009\n",
      " 0.00073627 0.00069744 0.0005468  0.00082511] 100.0 0.001\n"
     ]
    }
   ],
   "source": [
    "print(grad_b_train, grad_j_train, best_lr_train, best_s_train)"
   ]
  }
 ],
 "metadata": {
  "kernelspec": {
   "display_name": "DBF_qibo",
   "language": "python",
   "name": "python3"
  },
  "language_info": {
   "codemirror_mode": {
    "name": "ipython",
    "version": 3
   },
   "file_extension": ".py",
   "mimetype": "text/x-python",
   "name": "python",
   "nbconvert_exporter": "python",
   "pygments_lexer": "ipython3",
   "version": "3.11.7"
  }
 },
 "nbformat": 4,
 "nbformat_minor": 2
}
