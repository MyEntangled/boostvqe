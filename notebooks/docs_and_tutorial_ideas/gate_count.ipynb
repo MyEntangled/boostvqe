{
 "cells": [
  {
   "cell_type": "code",
   "execution_count": 3,
   "id": "dddc0a04-09d9-4f87-a9f0-3e5cf2f7c06e",
   "metadata": {},
   "outputs": [],
   "source": [
    "from qibo import Circuit, gates"
   ]
  },
  {
   "cell_type": "code",
   "execution_count": 4,
   "id": "1769ef50-bd6d-4bd4-864e-90c44810620a",
   "metadata": {},
   "outputs": [],
   "source": [
    "def build_circuit(nqubits, nlayers):\n",
    "    \"\"\"Build qibo's aavqe example circuit.\"\"\"\n",
    "\n",
    "    circuit = Circuit(nqubits)\n",
    "    for _ in range(nlayers):\n",
    "        circuit.add(gates.RY(q, theta=0) for q in range(nqubits))\n",
    "        circuit.add(gates.RZ(q, theta=0) for q in range(nqubits))\n",
    "        circuit.add(gates.CZ(q, q + 1) for q in range(0, nqubits - 1, 2))\n",
    "        circuit.add(gates.RY(q, theta=0) for q in range(nqubits))\n",
    "        circuit.add(gates.RZ(q, theta=0) for q in range(nqubits))\n",
    "        circuit.add(gates.CZ(q, q + 1) for q in range(1, nqubits - 2, 2))\n",
    "        circuit.add(gates.CZ(0, nqubits - 1))\n",
    "    circuit.add(gates.RY(q, theta=0) for q in range(nqubits))\n",
    "\n",
    "    return circuit"
   ]
  },
  {
   "cell_type": "code",
   "execution_count": 7,
   "id": "3eb00de8-5185-48ca-82cd-0c2606f2028d",
   "metadata": {},
   "outputs": [],
   "source": [
    "nqubits = 10\n",
    "nlayers = 15\n",
    "\n",
    "c = build_circuit(nqubits, nlayers)"
   ]
  },
  {
   "cell_type": "code",
   "execution_count": 8,
   "id": "b311e312-8b14-47a8-9c75-66c7a62f285f",
   "metadata": {},
   "outputs": [
    {
     "name": "stdout",
     "output_type": "stream",
     "text": [
      "Circuit depth = 91\n",
      "Total number of gates = 760\n",
      "Number of qubits = 10\n",
      "Most common gates:\n",
      "ry: 310\n",
      "rz: 300\n",
      "cz: 150\n"
     ]
    }
   ],
   "source": [
    "print(c.summary())"
   ]
  },
  {
   "cell_type": "markdown",
   "id": "329c5458-76a2-4d3f-b3e1-b219d2568aea",
   "metadata": {},
   "source": [
    "In the following, we propose a method to compare pure VQE training with hybrid VQE-DBI training. Before delving into the details, let's express the number of two-qubit gates that should be performed during the entire training process in terms of the VQE hyperparameters.\n",
    "\n",
    "#### Pure VQE Training\n",
    "\n",
    "We denote $N_{2q}$ as the total number of two-qubit gates in a VQE. This quantity depends on the number of layers, and with our ansatz, a direct proportionality holds:\n",
    "\n",
    "$$N_{2q} = N_{layers} \\cdot d_{2q}$$\n",
    "\n",
    "where $d_{2q}$ is the number of two-qubit gates per layer.\n",
    "\n",
    "Let's consider the worst-case scenario in terms of two-qubit gate evaluations: gradient descent on hardware. We need two expectation values for each VQE parameter to compute the derivative. These values need to be computed for each epoch of training. The total number of circuit executions to evaluate a gradient is $K = 2p$, where $p$ is the number of circuit parameters.\n",
    "\n",
    "Considering a training of $N_{ep}$ epochs, the total number of circuit evaluations is $N_{ep} \\cdot K$.\n",
    "\n",
    "$$ N_{tot} = K \\cdot N_{2q} \\cdot N_{ep} = N_{vqe} \\cdot N_{ep}$$ \n",
    "\n",
    "In the best-case scenario, the loss function requires only one expectation value for each optimization iteration, hence $K = 1$.\n",
    "\n",
    "#### Hybrid VQE-DBI Training\n",
    "\n",
    "In this case, the total number of two-qubit gates is given by the sum of the gates used in the VQE ($N'_{VQE}$) and the DBI ($N_{DBI}$).\n",
    "\n",
    "$$ N'_{tot} = N'_{VQE} + N_{DBI} = K' \\cdot N'_{2q} \\cdot N'_{ep} + N_{2q, dbi}(n_{step}) = N'_{vqe} \\cdot N'_{ep} + N_{2q, dbi}(n_{step})$$\n",
    "\n",
    "#### Metric\n",
    "\n",
    "We define the metric \n",
    "\n",
    "$$ \\chi = \\frac{N'_{tot}}{N_{tot}} = \\frac{N'_{vqe} \\cdot N'_{ep} + N_{2q, dbi}(n_{step})}{N_{vqe} \\cdot N_{ep}} = \\frac{K' \\cdot N'_{layers} \\cdot d'_{2q} \\cdot N'_{ep} + N_{2q, dbi}(n_{step})}{K \\cdot N_{layers} \\cdot d_{2q} \\cdot N_{ep}}$$ \n",
    "\n",
    "Since the VQE layers are the same in both cases, $d_{2q} = d'_{2q}$. In the worst-case scenario, $K$ and $K'$ are proportional to the number of layers; otherwise, they can be neglected. From the above formula, we can infer that the ratio $\\chi$ depends only on the number of epochs and layers.\n",
    "\n",
    "#### Evaluation Procedure\n",
    "\n",
    "Now we propose an algorithm to evaluate which configuration, given a fixed model accuracy, satisfies $\\chi \\leq 1$, i.e., the hybrid method is more efficient than the pure method.\n",
    "\n",
    "1. Choose a number of qubits large enough to ensure the presence of barren plateaus.\n",
    "2. Fix the number of DBI steps. DBI is effective even with a small number of iterations, and since the number of two-qubit gates grows exponentially with the number of iterations, it is better to choose it as small as possible.\n",
    "3. Fix a target accuracy (difference between the true ground energy and the one found by the model) $\\varepsilon$:\n",
    "    1. **Pure Training:** In this step, we want to find the best VQE model given $\\varepsilon$ and use it as our target. We select the models that can approximate $E_0$ with accuracy $\\leq \\varepsilon$, and pick the epoch-layers pair that minimizes $N_{tot}$.\n",
    "    2. **Hybrid Training:** Run VQE hybrid training with different numbers of layers and epochs, select those with accuracy less than or equal to $\\varepsilon$, and evaluate $N'_{tot}$ for each of them.\n",
    "    3. Evaluate $\\chi$ for each combination of layers and epochs of the hybrid models.\n",
    "\n",
    "We can collect all the $\\chi$ values in a matrix and study the regime where hybrid training performs similarly to or better than pure training.\n"
   ]
  },
  {
   "cell_type": "code",
   "execution_count": null,
   "id": "d216adf3-0481-4b19-bd8d-abbb2902bb4d",
   "metadata": {},
   "outputs": [],
   "source": []
  },
  {
   "cell_type": "code",
   "execution_count": null,
   "id": "07687900",
   "metadata": {},
   "outputs": [],
   "source": []
  }
 ],
 "metadata": {
  "kernelspec": {
   "display_name": "Python 3 (ipykernel)",
   "language": "python",
   "name": "python3"
  },
  "language_info": {
   "codemirror_mode": {
    "name": "ipython",
    "version": 3
   },
   "file_extension": ".py",
   "mimetype": "text/x-python",
   "name": "python",
   "nbconvert_exporter": "python",
   "pygments_lexer": "ipython3",
   "version": "3.9.13"
  }
 },
 "nbformat": 4,
 "nbformat_minor": 5
}
