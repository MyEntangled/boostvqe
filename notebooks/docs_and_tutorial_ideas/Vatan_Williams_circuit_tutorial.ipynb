{
 "cells": [
  {
   "cell_type": "markdown",
   "metadata": {},
   "source": []
  },
  {
   "cell_type": "code",
   "execution_count": null,
   "metadata": {},
   "outputs": [],
   "source": [
    "from qibo import hamiltonians, Circuit,gates\n",
    "import numpy as np"
   ]
  },
  {
   "cell_type": "code",
   "execution_count": 3,
   "metadata": {},
   "outputs": [],
   "source": [
    "nqubits=2"
   ]
  },
  {
   "cell_type": "code",
   "execution_count": 4,
   "metadata": {},
   "outputs": [],
   "source": [
    "def VW_circuit(alpha,beta,gamma):\n",
    "    circuit=Circuit(2)\n",
    "    q_ip1  = 1\n",
    "    q_i = 0\n",
    "    circuit.add(gates.RZ(q_ip1, -np.pi/2))\n",
    "    circuit.add(gates.CNOT(q_ip1, q_i))\n",
    "    circuit.add(gates.RZ(q_i, -2*gamma + np.pi/2))\n",
    "    circuit.add(gates.RY(q_ip1, -np.pi/2+2*alpha))\n",
    "    circuit.add(gates.CNOT(q_i, q_ip1))\n",
    "    circuit.add(gates.RY(q_ip1, -2*beta + np.pi/2))\n",
    "    circuit.add(gates.CNOT(q_ip1, q_i))\n",
    "    circuit.add(gates.RZ(q_i, np.pi/2))\n",
    "    return circuit"
   ]
  },
  {
   "cell_type": "code",
   "execution_count": 5,
   "metadata": {},
   "outputs": [
    {
     "name": "stdout",
     "output_type": "stream",
     "text": [
      "q0: ────X─RZ─o────X─RZ─\n",
      "q1: ─RZ─o─RY─X─RY─o────\n"
     ]
    }
   ],
   "source": [
    "c1 = VW_circuit(1,1,1)\n",
    "print(c1.draw())"
   ]
  },
  {
   "cell_type": "code",
   "execution_count": 7,
   "metadata": {},
   "outputs": [
    {
     "name": "stdout",
     "output_type": "stream",
     "text": [
      "q0: ────X─RZ─o────X─RZ─\n",
      "q1: ─RZ─o─RY─X─RY─o────\n"
     ]
    }
   ],
   "source": [
    "circuit = Circuit(2)\n",
    "c2 = VW_circuit(1/2,1/2,1/2)\n",
    "print(c2.draw())"
   ]
  },
  {
   "cell_type": "code",
   "execution_count": 8,
   "metadata": {},
   "outputs": [
    {
     "name": "stderr",
     "output_type": "stream",
     "text": [
      "[Qibo 0.2.8|INFO|2024-06-06 10:04:01]: Using qibojit (numba) backend on /CPU:0\n"
     ]
    },
    {
     "data": {
      "text/plain": [
       "4.728403887687194e-16"
      ]
     },
     "execution_count": 8,
     "metadata": {},
     "output_type": "execute_result"
    }
   ],
   "source": [
    "np.linalg.norm(c1.unitary()-(c2+c2).unitary()*np.exp(+1j*np.pi/4))"
   ]
  }
 ],
 "metadata": {
  "kernelspec": {
   "display_name": "Python 3",
   "language": "python",
   "name": "python3"
  },
  "language_info": {
   "codemirror_mode": {
    "name": "ipython",
    "version": 3
   },
   "file_extension": ".py",
   "mimetype": "text/x-python",
   "name": "python",
   "nbconvert_exporter": "python",
   "pygments_lexer": "ipython3",
   "version": "3.11.9"
  }
 },
 "nbformat": 4,
 "nbformat_minor": 2
}
