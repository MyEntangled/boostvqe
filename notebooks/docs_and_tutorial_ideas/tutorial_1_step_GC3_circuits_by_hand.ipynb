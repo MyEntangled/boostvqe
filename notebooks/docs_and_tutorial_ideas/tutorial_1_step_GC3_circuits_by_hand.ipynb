{
 "cells": [
  {
   "cell_type": "markdown",
   "metadata": {},
   "source": [
    "# Tutorial on using the classes for transpiling DBQA strategies into various types of double-bracket rotations (DBRs)\n",
    "\n",
    "## 1. VQE results are loaded\n",
    "## 2. The GC3 DBR is shown using explicit circuits obtained from more basic and special purpose functions\n",
    "## 3. The same is done using the `GroupCommutatorIterationWithEvolutionOracles` class\n",
    "### 3.1. It is shown how to perform more steps of the GCI. \n",
    "Using the class approach one can just change `mode_double_bracket_rotation=DoubleBracketRotationType.group_commutator_third_order_reduced` to a different type and same code will run."
   ]
  },
  {
   "cell_type": "code",
   "execution_count": 1,
   "metadata": {},
   "outputs": [],
   "source": [
    "import json\n",
    "import time\n",
    "from pathlib import Path\n",
    "\n",
    "import numpy as np\n",
    "import qibo\n",
    "from qibo import hamiltonians, set_backend\n",
    "from boostvqe.models.dbi.double_bracket import (\n",
    "    DoubleBracketGeneratorType,\n",
    "    DoubleBracketIteration,\n",
    ")\n",
    "\n",
    "from boostvqe.ansatze import VQE, build_circuit\n",
    "from boostvqe.utils import apply_dbi_steps, rotate_h_with_vqe\n",
    "from qibo import symbols, hamiltonians\n",
    "from copy import deepcopy\n",
    "from boostvqe.compiling_XXZ import *\n",
    "\n",
    "import matplotlib.pyplot as plt"
   ]
  },
  {
   "cell_type": "markdown",
   "metadata": {},
   "source": [
    "## 1. Loading VQE results"
   ]
  },
  {
   "cell_type": "code",
   "execution_count": 2,
   "metadata": {},
   "outputs": [
    {
     "name": "stderr",
     "output_type": "stream",
     "text": [
      "[Qibo 0.2.9|INFO|2024-06-14 21:45:01]: Using numpy backend on /CPU:0\n",
      "INFO:qibo.config:Using numpy backend on /CPU:0\n",
      "[Qibo 0.2.9|INFO|2024-06-14 21:45:02]: Using numpy backend on /CPU:0\n",
      "INFO:qibo.config:Using numpy backend on /CPU:0\n"
     ]
    },
    {
     "name": "stdout",
     "output_type": "stream",
     "text": [
      "In the VQE numpy\n"
     ]
    }
   ],
   "source": [
    "\n",
    "qibo.set_backend(\"numpy\")\n",
    "\n",
    "# set the path string which define the results\n",
    "path = \"../../results/vqe_data/with_params/10q3l/sgd_10q_3l_42/\"\n",
    "\n",
    "# set the target epoch to which apply DBQA and the number of steps\n",
    "target_epoch = 2000\n",
    "dbi_steps = 1\n",
    "\n",
    "# upload system configuration and parameters for all the training\n",
    "with open(path + \"optimization_results.json\") as file:\n",
    "    config = json.load(file)\n",
    "\n",
    "losses = dict(np.load(path + \"energies.npz\"))[\"0\"]\n",
    "params = np.load(path + f\"parameters/params_ite{target_epoch}.npy\")\n",
    "\n",
    "nqubits = config[\"nqubits\"]\n",
    "# build circuit, hamiltonian and VQE\n",
    "hamiltonian = hamiltonians.XXZ(nqubits=nqubits, delta=0.5)\n",
    "circuit = build_circuit(nqubits, config[\"nlayers\"], \"numpy\")\n",
    "vqe = VQE(circuit, hamiltonian)\n",
    "zero_state = hamiltonian.backend.zero_state(nqubits)\n",
    "zero_state_t = np.transpose([zero_state])\n",
    "target_energy = np.min(hamiltonian.eigenvalues())\n",
    "\n",
    "\n",
    "# set target parameters into the VQE\n",
    "vqe.circuit.set_parameters(params)\n",
    "vqe_state = vqe.circuit().state()\n",
    "\n",
    "ene1 = hamiltonian.expectation(vqe_state)\n"
   ]
  },
  {
   "cell_type": "code",
   "execution_count": 3,
   "metadata": {},
   "outputs": [
    {
     "name": "stdout",
     "output_type": "stream",
     "text": [
      "VQE energy is -14.560174594055583. \n",
      "The target energy is -15.276131122065795 which means the difference is 0.7159565280102118.\n",
      "The relative difference is 4.69%.\n"
     ]
    }
   ],
   "source": [
    "print(f\"VQE energy is {ene1}. \\n\\\n",
    "The target energy is {target_energy} which means the difference is {ene1-target_energy}.\\n\\\n",
    "The relative difference is {round(abs(ene1-target_energy)/abs(target_energy)*100,2)}%.\")"
   ]
  },
  {
   "cell_type": "markdown",
   "metadata": {},
   "source": [
    "# 2. Circuits by hand showing 1 GCI 3 step we want to compile\n",
    "$D= \\sum_i B_i Z_i$\n",
    "and Group commutator"
   ]
  },
  {
   "cell_type": "code",
   "execution_count": 4,
   "metadata": {},
   "outputs": [
    {
     "name": "stdout",
     "output_type": "stream",
     "text": [
      "After boosting we have -14.7495 which is an improvement 0.1893 over VQE with -14.560174594055583. \n",
      "The target energy is -15.276131122065795 which means the difference after GCI is 0.5266.\n",
      "The relative difference is 3.45%      and was 4.69%.\n"
     ]
    },
    {
     "data": {
      "text/plain": [
       "[<matplotlib.lines.Line2D at 0x7f956feea870>]"
      ]
     },
     "execution_count": 4,
     "metadata": {},
     "output_type": "execute_result"
    },
    {
     "data": {
      "image/png": "[encoded data removed]",
      "text/plain": [
       "<Figure size 640x480 with 1 Axes>"
      ]
     },
     "metadata": {},
     "output_type": "display_data"
    }
   ],
   "source": [
    "b_list = [1+np.sin(x) for x in np.linspace(-1,1,nqubits) ]\n",
    "\n",
    "d = hamiltonians.SymbolicHamiltonian( sum([b*symbols.Z(j) for j,b in zip(range(nqubits),b_list)]))\n",
    "\n",
    "step = 0.12\n",
    "u2_circ = deepcopy(d).circuit( -step * (np.sqrt(5) - 1) / 2 ) \n",
    "u4_circ = deepcopy(d).circuit( step * (np.sqrt(5) + 1) / 2 )\n",
    "u6_circ = deepcopy(d).circuit( -step  ) \n",
    "\n",
    "vqe_circ = vqe.circuit\n",
    "vqe_circ_inv = vqe_circ.invert()\n",
    "nmb_ts_steps = 1\n",
    "u1_circ = vqe_circ +nqubit_XXZ_decomposition(nqubits=nqubits,t=-step * (np.sqrt(5) - 1) / 2,delta=0.5,steps=nmb_ts_steps, order = 2)+vqe_circ_inv \n",
    "u3_circ = vqe_circ +nqubit_XXZ_decomposition(nqubits=nqubits,t= step ,delta=0.5,steps=nmb_ts_steps, order = 2)+vqe_circ_inv \n",
    "u5_circ = vqe_circ +nqubit_XXZ_decomposition(nqubits=nqubits,t=-step * (3 - np.sqrt(5)) / 2,delta=0.5,steps=nmb_ts_steps, order = 2)+vqe_circ_inv \n",
    "\n",
    "\n",
    "\n",
    "circ_boost = (  u6_circ + u5_circ + u4_circ + u3_circ + u2_circ +vqe_circ )\n",
    "\n",
    "ket_boost = circ_boost(initial_state=zero_state)\n",
    "gci3_loss = hamiltonian.expectation(ket_boost.state()) \n",
    "print(f\"After boosting we have {np.round(gci3_loss,4)} which is an improvement {np.round(ene1-gci3_loss,4)} over VQE with {ene1}. \\n\\\n",
    "The target energy is {target_energy} which means the difference after GCI is {np.round(gci3_loss-target_energy,4)}.\\n\\\n",
    "The relative difference is {np.round(abs(gci3_loss-target_energy)/abs(target_energy)*100,2)}%\\\n",
    "      and was {np.round(abs(ene1-target_energy)/abs(target_energy)*100,2)}%.\")\n",
    "\n",
    "plt.plot(b_list)"
   ]
  },
  {
   "cell_type": "markdown",
   "metadata": {},
   "source": [
    "Proof of principle counting function example. See member functions of `GroupCommutatorIterationWithEvolutionOracles`for automation"
   ]
  },
  {
   "cell_type": "code",
   "execution_count": 5,
   "metadata": {},
   "outputs": [
    {
     "name": "stdout",
     "output_type": "stream",
     "text": [
      "The boosting circuit used 90 CNOT gates coming from compiled XXZ evolution.\n",
      "       For 10 qubits this gives n_CNOT/n_qubits = 9.0\n"
     ]
    }
   ],
   "source": [
    "t=0\n",
    "for g in circ_boost.queue:\n",
    "    if isinstance(g, qibo.gates.gates.CNOT):\n",
    "        t = t +1\n",
    "print(f\"The boosting circuit used {t} CNOT gates coming from compiled XXZ evolution.\\n\\\n",
    "       For {nqubits} qubits this gives n_CNOT/n_qubits = {t/nqubits}\")"
   ]
  },
  {
   "cell_type": "code",
   "execution_count": 6,
   "metadata": {},
   "outputs": [
    {
     "name": "stdout",
     "output_type": "stream",
     "text": [
      "The boosting circuit used 150 CZ gates coming from repeated wrapping by the VQE unitary.\n",
      "       For 10 qubits this gives n_CZ/n_qubits = 15.0\n"
     ]
    }
   ],
   "source": [
    "t=0\n",
    "for g in circ_boost.queue:\n",
    "    if isinstance(g, qibo.gates.gates.CZ):\n",
    "        t = t +1\n",
    "print(f\"The boosting circuit used {t} CZ gates coming from repeated wrapping by the VQE unitary.\\n\\\n",
    "       For {nqubits} qubits this gives n_CZ/n_qubits = {t/nqubits}\")"
   ]
  },
  {
   "cell_type": "code",
   "execution_count": 7,
   "metadata": {},
   "outputs": [
    {
     "data": {
      "text/plain": [
       "30"
      ]
     },
     "execution_count": 7,
     "metadata": {},
     "output_type": "execute_result"
    }
   ],
   "source": [
    "t=0\n",
    "for g in vqe.circuit.queue:\n",
    "    if isinstance(g, qibo.gates.gates.CZ):\n",
    "        t = t +1\n",
    "t"
   ]
  },
  {
   "cell_type": "markdown",
   "metadata": {},
   "source": [
    "# 3. How to use the transpiling code"
   ]
  },
  {
   "cell_type": "code",
   "execution_count": 8,
   "metadata": {},
   "outputs": [
    {
     "name": "stdout",
     "output_type": "stream",
     "text": [
      "-14.749515449118832\n",
      "-14.749515449118832\n",
      "-14.749515449118832\n",
      "-14.749515449118832\n"
     ]
    }
   ],
   "source": [
    "from boostvqe.models.dbi.group_commutator_iteration_transpiler import *\n",
    "from boostvqe.models.dbi.double_bracket_evolution_oracles import *\n",
    "\n",
    "\n",
    "eo_xxz = XXZ_EvolutionOracle(nqubits, steps = 1, order = 2)\n",
    "\n",
    "# implement the rotate by VQE on the level of circuits\n",
    "fsoe  = VQERotatedEvolutionOracle(eo_xxz, vqe)\n",
    "\n",
    "# init gci with the vqe-rotated hamiltonian\n",
    "gci  = GroupCommutatorIterationWithEvolutionOracles(input_hamiltonian_evolution_oracle=fsoe, \n",
    "        mode_double_bracket_rotation=DoubleBracketRotationType.group_commutator_third_order_reduced)\n",
    "\n",
    "eo_d = MagneticFieldEvolutionOracle(b_list,name = \"D(linear)\")\n",
    "\n",
    "# above we didn't gauge the time \\approx e^{x^2 [D,H]} but gci approximates e^{-sW} so takes a square root\n",
    "#3 equivalent ways to get the circuit\n",
    "circ_boost = (  gci.group_commutator(step**2, eo_d)[\"forwards\"] +vqe_circ )\n",
    "print(hamiltonian.expectation(circ_boost().state()) )\n",
    "circ_boost = (  gci.recursion_step_circuit(step**2, eo_d) +vqe_circ )\n",
    "print(hamiltonian.expectation(circ_boost().state()) )\n",
    "circ_boost = (  gci.get_composed_circuit(step**2, eo_d) )\n",
    "print(hamiltonian.expectation(circ_boost().state()) )\n",
    "\n",
    "# the same cost function can be obtained by\n",
    "print(gci.loss(step**2,eo_d))"
   ]
  },
  {
   "cell_type": "code",
   "execution_count": 9,
   "metadata": {},
   "outputs": [
    {
     "name": "stdout",
     "output_type": "stream",
     "text": [
      "-14.749515449118832\n",
      "The boosting circuit used 90 CNOT gates coming from compiled XXZ evolution and 150 CZ gates from VQE.\n",
      "For 10 qubits this gives n_CNOT/n_qubits = 9.0 and n_CZ/n_qubits = 15.0\n"
     ]
    }
   ],
   "source": [
    "#above the group_commutator just gives a circuit - we can propagte this forward by the equivalent\n",
    "gci(step**2, eo_d)\n",
    "circ_boost = gci.get_composed_circuit()\n",
    "print(hamiltonian.expectation(circ_boost().state()) )\n",
    "gci.loss()\n",
    "gci.print_gate_count_report()"
   ]
  },
  {
   "cell_type": "code",
   "execution_count": 10,
   "metadata": {},
   "outputs": [
    {
     "data": {
      "text/plain": [
       "([<matplotlib.axis.XTick at 0x7f956f90fad0>], [Text(0.0126, 0, '0.0126')])"
      ]
     },
     "execution_count": 10,
     "metadata": {},
     "output_type": "execute_result"
    },
    {
     "data": {
      "image/png": "[encoded data removed]",
      "text/plain": [
       "<Figure size 640x480 with 1 Axes>"
      ]
     },
     "metadata": {},
     "output_type": "display_data"
    }
   ],
   "source": [
    "losses = []\n",
    "times = np.linspace(0.001,0.03,31)\n",
    "for s in times:\n",
    "    losses.append(gci.loss(s, eo_d))\n",
    "\n",
    "plt.plot(times,losses)\n",
    "plt.yticks([losses[0],losses[np.argmin(losses)]])\n",
    "plt.xticks([times[np.argmin(losses)]])"
   ]
  },
  {
   "cell_type": "code",
   "execution_count": null,
   "metadata": {},
   "outputs": [],
   "source": []
  }
 ],
 "metadata": {
  "kernelspec": {
   "display_name": "Python 3",
   "language": "python",
   "name": "python3"
  },
  "language_info": {
   "codemirror_mode": {
    "name": "ipython",
    "version": 3
   },
   "file_extension": ".py",
   "mimetype": "text/x-python",
   "name": "python",
   "nbconvert_exporter": "python",
   "pygments_lexer": "ipython3",
   "version": "3.12.3"
  }
 },
 "nbformat": 4,
 "nbformat_minor": 2
}
