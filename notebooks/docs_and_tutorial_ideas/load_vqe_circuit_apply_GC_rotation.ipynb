{
 "cells": [
  {
   "cell_type": "code",
   "execution_count": 6,
   "id": "e9d5cd59-7cca-4503-8b7c-6e8f897d21f3",
   "metadata": {},
   "outputs": [],
   "source": [
    "from qibo.models.variational import VQE\n",
    "from boostvqe.ansatze import build_circuit\n",
    "from qibo import hamiltonians\n",
    "from pathlib import Path"
   ]
  },
  {
   "cell_type": "code",
   "execution_count": 7,
   "id": "5d728e04-2593-460d-9742-141e877038d0",
   "metadata": {},
   "outputs": [],
   "source": [
    "# insert path to parameters_history.npy\n",
    "path = Path(\"../results/pure_vqe/BFGS_8q_1l_42/parameters_history.npy\")"
   ]
  },
  {
   "cell_type": "code",
   "execution_count": 8,
   "id": "8ea9a16c-5608-4e79-8531-959119f360e1",
   "metadata": {},
   "outputs": [],
   "source": [
    "import numpy as np"
   ]
  },
  {
   "cell_type": "code",
   "execution_count": 9,
   "id": "fdceaba2-f18d-4833-9345-99126c0e6970",
   "metadata": {},
   "outputs": [],
   "source": [
    "params = np.load(path, allow_pickle=True).tolist()"
   ]
  },
  {
   "cell_type": "code",
   "execution_count": 10,
   "id": "5c4d9792-e59f-4af9-b587-e063f3e11d98",
   "metadata": {},
   "outputs": [
    {
     "data": {
      "text/plain": [
       "array([ 1.01826928,  3.42201683,  0.11638393,  1.55161516, -2.95835472,\n",
       "       -2.74524029, -3.59575963,  0.63840512, -0.97780105,  1.8301649 ,\n",
       "       -3.33491212,  3.57706204,  1.74313567, -1.60208323, -2.49052699,\n",
       "       -1.91391829, -1.7834659 ,  1.51016373,  0.75563978, -2.29154434,\n",
       "        1.47091912, -2.46513894, -1.55926372,  0.54112274,  1.01884751,\n",
       "        2.99077176, -3.16998465,  0.63962461,  0.1747779 , -2.5445537 ,\n",
       "        0.24075282, -0.72043619, -2.31949996,  3.09109558,  1.54556804,\n",
       "        1.53117995, -0.04777816, -1.84636061, -0.38710555, -0.95312714])"
      ]
     },
     "execution_count": 10,
     "metadata": {},
     "output_type": "execute_result"
    }
   ],
   "source": [
    "params[0][-1]"
   ]
  },
  {
   "cell_type": "code",
   "execution_count": 11,
   "id": "cb155d23-fb7f-4006-abda-828f1ab10441",
   "metadata": {},
   "outputs": [
    {
     "name": "stderr",
     "output_type": "stream",
     "text": [
      "[Qibo 0.2.8|INFO|2024-05-30 19:23:23]: Using qibojit (numba) backend on /CPU:0\n"
     ]
    }
   ],
   "source": [
    "circuit = build_circuit(nqubits=8, nlayers=1)\n",
    "ham = hamiltonians.XXZ(nqubits=8)"
   ]
  },
  {
   "cell_type": "code",
   "execution_count": 12,
   "id": "75e596da-0b44-4d60-aaad-bb83c99a1b89",
   "metadata": {},
   "outputs": [],
   "source": [
    "vqe = VQE(circuit=circuit, hamiltonian=ham)"
   ]
  },
  {
   "cell_type": "code",
   "execution_count": 13,
   "id": "9dcc326c-31c6-48d2-b973-21c12648f4d2",
   "metadata": {},
   "outputs": [],
   "source": [
    "vqe.circuit.set_parameters(params[0][-1])"
   ]
  },
  {
   "cell_type": "code",
   "execution_count": 14,
   "id": "9adf4d24-86c4-4dba-812f-b862f5342a5b",
   "metadata": {},
   "outputs": [],
   "source": [
    "final_state = vqe.circuit().state()\n",
    "\n",
    "final_state"
   ]
  },
  {
   "cell_type": "code",
   "execution_count": 16,
   "id": "f6887f83-544b-488a-8853-3ef99d397775",
   "metadata": {},
   "outputs": [
    {
     "data": {
      "text/plain": [
       "-10.466986134259724"
      ]
     },
     "execution_count": 16,
     "metadata": {},
     "output_type": "execute_result"
    }
   ],
   "source": [
    "ham.expectation(final_state)"
   ]
  },
  {
   "cell_type": "code",
   "execution_count": 17,
   "id": "798d0cc3-9937-40c6-8764-674fec559277",
   "metadata": {},
   "outputs": [],
   "source": [
    "from qibo import hamiltonians, set_backend\n",
    "from qibo.models.dbi.double_bracket import DoubleBracketGeneratorType, DoubleBracketScheduling, DoubleBracketIteration, DoubleBracketCostFunction\n",
    "from qibo.models.dbi.utils import *\n",
    "from qibo.models.dbi.utils_scheduling import *"
   ]
  },
  {
   "cell_type": "code",
   "execution_count": 21,
   "id": "98b2e633",
   "metadata": {},
   "outputs": [
    {
     "data": {
      "text/plain": [
       "0.0"
      ]
     },
     "execution_count": 21,
     "metadata": {},
     "output_type": "execute_result"
    }
   ],
   "source": [
    "u =  vqe.circuit.unitary()\n",
    "h_vqe = u.conj().T @ ham.matrix @ u\n",
    "from numpy.linalg import norm\n",
    "from boostvqe.utils import rotate_h_with_vqe\n",
    "norm(h_vqe - rotate_h_with_vqe(ham, vqe) )"
   ]
  },
  {
   "cell_type": "code",
   "execution_count": 53,
   "id": "dfa6d651",
   "metadata": {},
   "outputs": [],
   "source": [
    "cost = DoubleBracketCostFunction.least_squares\n",
    "dbi = DoubleBracketIteration(hamiltonians.Hamiltonian(nqubits= nqubits, matrix=h_vqe),\n",
    "                             mode=DoubleBracketGeneratorType.group_commutator,cost=cost)"
   ]
  },
  {
   "cell_type": "code",
   "execution_count": 54,
   "id": "7c557a25",
   "metadata": {},
   "outputs": [
    {
     "name": "stderr",
     "output_type": "stream",
     "text": [
      "[Qibo 0.2.8|WARNING|2024-05-30 19:52:52]: Calculating the dense form of a symbolic Hamiltonian. This operation is memory inefficient.\n",
      "WARNING:qibo.config:Calculating the dense form of a symbolic Hamiltonian. This operation is memory inefficient.\n"
     ]
    },
    {
     "data": {
      "text/plain": [
       "-10.90216959139352"
      ]
     },
     "execution_count": 54,
     "metadata": {},
     "output_type": "execute_result"
    }
   ],
   "source": [
    "dbi_eval = deepcopy(dbi)\n",
    "flows = 1\n",
    "\n",
    "d_opt_symbolic = SymbolicHamiltonian( symbols.Z(1)+symbols.Z(2)+symbols.Z(3)+symbols.Z(4)+symbols.Z(5)+symbols.Z(6),nqubits=8)\n",
    "\n",
    "\n",
    "v = dbi_eval.eval_dbr_unitary(0.02,d=d_opt_symbolic.dense.matrix)\n",
    "\n",
    "ket_ini = np.transpose(dbi.h.backend.zero_state(nqubits))\n",
    "dbi.h.expectation(v.conj().T@ket_ini)"
   ]
  },
  {
   "cell_type": "code",
   "execution_count": 56,
   "id": "10c1f0a8",
   "metadata": {},
   "outputs": [
    {
     "data": {
      "text/plain": [
       "-10.90216959139353"
      ]
     },
     "execution_count": 56,
     "metadata": {},
     "output_type": "execute_result"
    }
   ],
   "source": [
    "ham.expectation(u@v.conj().T@ket_ini)"
   ]
  },
  {
   "cell_type": "code",
   "execution_count": null,
   "id": "fedc093b",
   "metadata": {},
   "outputs": [],
   "source": []
  }
 ],
 "metadata": {
  "kernelspec": {
   "display_name": "Python 3 (ipykernel)",
   "language": "python",
   "name": "python3"
  },
  "language_info": {
   "codemirror_mode": {
    "name": "ipython",
    "version": 3
   },
   "file_extension": ".py",
   "mimetype": "text/x-python",
   "name": "python",
   "nbconvert_exporter": "python",
   "pygments_lexer": "ipython3",
   "version": "3.10.12"
  }
 },
 "nbformat": 4,
 "nbformat_minor": 5
}
