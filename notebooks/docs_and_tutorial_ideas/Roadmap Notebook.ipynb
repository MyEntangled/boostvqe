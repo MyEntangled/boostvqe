{
 "cells": [
  {
   "cell_type": "code",
   "execution_count": 1,
   "metadata": {},
   "outputs": [],
   "source": [
    "import json\n",
    "import time\n",
    "from pathlib import Path\n",
    "\n",
    "import numpy as np\n",
    "import qibo\n",
    "from qibo import hamiltonians, set_backend\n",
    "from boostvqe.models.dbi.double_bracket import (\n",
    "    DoubleBracketGeneratorType,\n",
    "    DoubleBracketIteration,\n",
    ")\n",
    "\n",
    "from boostvqe.ansatze import VQE, build_circuit\n",
    "from boostvqe.utils import apply_dbi_steps, rotate_h_with_vqe\n"
   ]
  },
  {
   "cell_type": "code",
   "execution_count": 2,
   "metadata": {},
   "outputs": [
    {
     "name": "stderr",
     "output_type": "stream",
     "text": [
      "[Qibo 0.2.9|INFO|2024-06-11 23:10:51]: Using numpy backend on /CPU:0\n",
      "INFO:qibo.config:Using numpy backend on /CPU:0\n"
     ]
    },
    {
     "name": "stderr",
     "output_type": "stream",
     "text": [
      "[Qibo 0.2.9|INFO|2024-06-11 23:10:53]: Using numpy backend on /CPU:0\n",
      "INFO:qibo.config:Using numpy backend on /CPU:0\n"
     ]
    },
    {
     "name": "stdout",
     "output_type": "stream",
     "text": [
      "In the VQE numpy\n"
     ]
    }
   ],
   "source": [
    "\n",
    "qibo.set_backend(\"numpy\")\n",
    "\n",
    "# set the path string which define the results\n",
    "path = \"../results/vqe_data/with_params/10q11l/sgd_10q_11l_42/\"\n",
    "\n",
    "# set the target epoch to which apply DBQA and the number of steps\n",
    "target_epoch = 2000\n",
    "dbi_steps = 1\n",
    "\n",
    "# upload system configuration and parameters for all the training\n",
    "with open(path + \"optimization_results.json\") as file:\n",
    "    config = json.load(file)\n",
    "\n",
    "losses = dict(np.load(path + \"energies.npz\"))[\"0\"]\n",
    "params = np.load(path + f\"parameters/params_ite{target_epoch}.npy\")\n",
    "\n",
    "\n",
    "# build circuit, hamiltonian and VQE\n",
    "hamiltonian = hamiltonians.XXZ(nqubits=config[\"nqubits\"], delta=0.5)\n",
    "circuit = build_circuit(config[\"nqubits\"], config[\"nlayers\"], \"numpy\")\n",
    "vqe = VQE(circuit, hamiltonian)\n",
    "zero_state = hamiltonian.backend.zero_state(config[\"nqubits\"])\n",
    "zero_state_t = np.transpose([zero_state])\n",
    "target_energy = np.min(hamiltonian.eigenvalues())\n",
    "\n",
    "\n",
    "# set target parameters into the VQE\n",
    "vqe.circuit.set_parameters(params)\n",
    "vqe_state = vqe.circuit().state()\n",
    "\n",
    "ene1 = hamiltonian.expectation(vqe_state)\n"
   ]
  },
  {
   "cell_type": "code",
   "execution_count": 3,
   "metadata": {},
   "outputs": [
    {
     "name": "stdout",
     "output_type": "stream",
     "text": [
      "q0:     ─RY─RZ─o─────────RY─RZ─────────o─RY─RZ─o─────────RY─RZ─────────o─RY─RZ ...\n",
      "q1:     ─RY─RZ─Z─────────RY─RZ─o───────|─RY─RZ─Z─────────RY─RZ─o───────|─RY─RZ ...\n",
      "q2:     ─RY─RZ───o───────RY─RZ─Z───────|─RY─RZ───o───────RY─RZ─Z───────|─RY─RZ ...\n",
      "q3:     ─RY─RZ───Z───────RY─RZ───o─────|─RY─RZ───Z───────RY─RZ───o─────|─RY─RZ ...\n",
      "q4:     ─RY─RZ─────o─────RY─RZ───Z─────|─RY─RZ─────o─────RY─RZ───Z─────|─RY─RZ ...\n",
      "q5:     ─RY─RZ─────Z─────RY─RZ─────o───|─RY─RZ─────Z─────RY─RZ─────o───|─RY─RZ ...\n",
      "q6:     ─RY─RZ───────o───RY─RZ─────Z───|─RY─RZ───────o───RY─RZ─────Z───|─RY─RZ ...\n",
      "q7:     ─RY─RZ───────Z───RY─RZ───────o─|─RY─RZ───────Z───RY─RZ───────o─|─RY─RZ ...\n",
      "q8:     ─RY─RZ─────────o─RY─RZ───────Z─|─RY─RZ─────────o─RY─RZ───────Z─|─RY─RZ ...\n",
      "q9:     ─RY─RZ─────────Z─RY─RZ─────────Z─RY─RZ─────────Z─RY─RZ─────────Z─RY─RZ ...\n",
      "\n",
      "q0: ... ─o─────────RY─RZ─────────o─RY─RZ─o─────────RY─RZ─────────o─RY─RZ─o──── ...\n",
      "q1: ... ─Z─────────RY─RZ─o───────|─RY─RZ─Z─────────RY─RZ─o───────|─RY─RZ─Z──── ...\n",
      "q2: ... ───o───────RY─RZ─Z───────|─RY─RZ───o───────RY─RZ─Z───────|─RY─RZ───o── ...\n",
      "q3: ... ───Z───────RY─RZ───o─────|─RY─RZ───Z───────RY─RZ───o─────|─RY─RZ───Z── ...\n",
      "q4: ... ─────o─────RY─RZ───Z─────|─RY─RZ─────o─────RY─RZ───Z─────|─RY─RZ─────o ...\n",
      "q5: ... ─────Z─────RY─RZ─────o───|─RY─RZ─────Z─────RY─RZ─────o───|─RY─RZ─────Z ...\n",
      "q6: ... ───────o───RY─RZ─────Z───|─RY─RZ───────o───RY─RZ─────Z───|─RY─RZ────── ...\n",
      "q7: ... ───────Z───RY─RZ───────o─|─RY─RZ───────Z───RY─RZ───────o─|─RY─RZ────── ...\n",
      "q8: ... ─────────o─RY─RZ───────Z─|─RY─RZ─────────o─RY─RZ───────Z─|─RY─RZ────── ...\n",
      "q9: ... ─────────Z─RY─RZ─────────Z─RY─RZ─────────Z─RY─RZ─────────Z─RY─RZ────── ...\n",
      "\n",
      "q0: ... ─────RY─RZ─────────o─RY─RZ─o─────────RY─RZ─────────o─RY─RZ─o─────────R ...\n",
      "q1: ... ─────RY─RZ─o───────|─RY─RZ─Z─────────RY─RZ─o───────|─RY─RZ─Z─────────R ...\n",
      "q2: ... ─────RY─RZ─Z───────|─RY─RZ───o───────RY─RZ─Z───────|─RY─RZ───o───────R ...\n",
      "q3: ... ─────RY─RZ───o─────|─RY─RZ───Z───────RY─RZ───o─────|─RY─RZ───Z───────R ...\n",
      "q4: ... ─────RY─RZ───Z─────|─RY─RZ─────o─────RY─RZ───Z─────|─RY─RZ─────o─────R ...\n",
      "q5: ... ─────RY─RZ─────o───|─RY─RZ─────Z─────RY─RZ─────o───|─RY─RZ─────Z─────R ...\n",
      "q6: ... ─o───RY─RZ─────Z───|─RY─RZ───────o───RY─RZ─────Z───|─RY─RZ───────o───R ...\n",
      "q7: ... ─Z───RY─RZ───────o─|─RY─RZ───────Z───RY─RZ───────o─|─RY─RZ───────Z───R ...\n",
      "q8: ... ───o─RY─RZ───────Z─|─RY─RZ─────────o─RY─RZ───────Z─|─RY─RZ─────────o─R ...\n",
      "q9: ... ───Z─RY─RZ─────────Z─RY─RZ─────────Z─RY─RZ─────────Z─RY─RZ─────────Z─R ...\n",
      "\n",
      "q0: ... Y─RZ─────────o─RY─RZ─o─────────RY─RZ─────────o─RY─RZ─o─────────RY─RZ── ...\n",
      "q1: ... Y─RZ─o───────|─RY─RZ─Z─────────RY─RZ─o───────|─RY─RZ─Z─────────RY─RZ─o ...\n",
      "q2: ... Y─RZ─Z───────|─RY─RZ───o───────RY─RZ─Z───────|─RY─RZ───o───────RY─RZ─Z ...\n",
      "q3: ... Y─RZ───o─────|─RY─RZ───Z───────RY─RZ───o─────|─RY─RZ───Z───────RY─RZ── ...\n",
      "q4: ... Y─RZ───Z─────|─RY─RZ─────o─────RY─RZ───Z─────|─RY─RZ─────o─────RY─RZ── ...\n",
      "q5: ... Y─RZ─────o───|─RY─RZ─────Z─────RY─RZ─────o───|─RY─RZ─────Z─────RY─RZ── ...\n",
      "q6: ... Y─RZ─────Z───|─RY─RZ───────o───RY─RZ─────Z───|─RY─RZ───────o───RY─RZ── ...\n",
      "q7: ... Y─RZ───────o─|─RY─RZ───────Z───RY─RZ───────o─|─RY─RZ───────Z───RY─RZ── ...\n",
      "q8: ... Y─RZ───────Z─|─RY─RZ─────────o─RY─RZ───────Z─|─RY─RZ─────────o─RY─RZ── ...\n",
      "q9: ... Y─RZ─────────Z─RY─RZ─────────Z─RY─RZ─────────Z─RY─RZ─────────Z─RY─RZ── ...\n",
      "\n",
      "q0: ... ───────o─RY─RZ─o─────────RY─RZ─────────o─RY─RZ─o─────────RY─RZ──────── ...\n",
      "q1: ... ───────|─RY─RZ─Z─────────RY─RZ─o───────|─RY─RZ─Z─────────RY─RZ─o────── ...\n",
      "q2: ... ───────|─RY─RZ───o───────RY─RZ─Z───────|─RY─RZ───o───────RY─RZ─Z────── ...\n",
      "q3: ... ─o─────|─RY─RZ───Z───────RY─RZ───o─────|─RY─RZ───Z───────RY─RZ───o──── ...\n",
      "q4: ... ─Z─────|─RY─RZ─────o─────RY─RZ───Z─────|─RY─RZ─────o─────RY─RZ───Z──── ...\n",
      "q5: ... ───o───|─RY─RZ─────Z─────RY─RZ─────o───|─RY─RZ─────Z─────RY─RZ─────o── ...\n",
      "q6: ... ───Z───|─RY─RZ───────o───RY─RZ─────Z───|─RY─RZ───────o───RY─RZ─────Z── ...\n",
      "q7: ... ─────o─|─RY─RZ───────Z───RY─RZ───────o─|─RY─RZ───────Z───RY─RZ───────o ...\n",
      "q8: ... ─────Z─|─RY─RZ─────────o─RY─RZ───────Z─|─RY─RZ─────────o─RY─RZ───────Z ...\n",
      "q9: ... ───────Z─RY─RZ─────────Z─RY─RZ─────────Z─RY─RZ─────────Z─RY─RZ──────── ...\n",
      "\n",
      "q0: ... ─o─RY─\n",
      "q1: ... ─|─RY─\n",
      "q2: ... ─|─RY─\n",
      "q3: ... ─|─RY─\n",
      "q4: ... ─|─RY─\n",
      "q5: ... ─|─RY─\n",
      "q6: ... ─|─RY─\n",
      "q7: ... ─|─RY─\n",
      "q8: ... ─|─RY─\n",
      "q9: ... ─Z─RY─\n"
     ]
    }
   ],
   "source": [
    "print(vqe.circuit.draw())"
   ]
  },
  {
   "cell_type": "markdown",
   "metadata": {},
   "source": [
    "# This is the scenario that we can try to compile\n",
    "$D= \\sum_i B_i Z_i$\n",
    "and Group commutator"
   ]
  },
  {
   "cell_type": "code",
   "execution_count": 4,
   "metadata": {},
   "outputs": [
    {
     "data": {
      "text/plain": [
       "-15.032761300698297"
      ]
     },
     "execution_count": 4,
     "metadata": {},
     "output_type": "execute_result"
    }
   ],
   "source": [
    "from qibo import symbols, hamiltonians\n",
    "b_list = [1+np.sin(x) for x in np.linspace(-1,1,config[\"nqubits\"]) ]\n",
    "#b_list = np.random.rand(config[\"nqubits\"])\n",
    "d = hamiltonians.SymbolicHamiltonian( sum([b*symbols.Z(j) for j,b in zip(range(config[\"nqubits\"]),b_list)]))\n",
    "from copy import deepcopy\n",
    "step = 0.12\n",
    "u2_circ = deepcopy(d).circuit( -step * (np.sqrt(5) - 1) / 2 ) \n",
    "u4_circ = deepcopy(d).circuit( step * (np.sqrt(5) + 1) / 2 )\n",
    "u6_circ = deepcopy(d).circuit( -step  ) \n",
    "\n",
    "from boostvqe.compiling_XXZ import *\n",
    "vqe_circ = vqe.circuit\n",
    "vqe_circ_inv = vqe_circ.invert()\n",
    "nmb_ts_steps = 1\n",
    "u1_circ = vqe_circ +nqubit_XXZ_decomposition(nqubits=config[\"nqubits\"],t=-step * (np.sqrt(5) - 1) / 2,delta=0.5,steps=nmb_ts_steps, order = 2)+vqe_circ_inv \n",
    "u3_circ = vqe_circ +nqubit_XXZ_decomposition(nqubits=config[\"nqubits\"],t= step ,delta=0.5,steps=nmb_ts_steps, order = 2)+vqe_circ_inv \n",
    "u5_circ = vqe_circ +nqubit_XXZ_decomposition(nqubits=config[\"nqubits\"],t=-step * (3 - np.sqrt(5)) / 2,delta=0.5,steps=nmb_ts_steps, order = 2)+vqe_circ_inv \n",
    "\n",
    "\n",
    "\n",
    "circ_boost = (  u6_circ + u5_circ + u4_circ + u3_circ + u2_circ +vqe_circ )\n",
    "\n",
    "ket_boost = circ_boost(initial_state=zero_state)\n",
    "hamiltonian.expectation(ket_boost.state()) "
   ]
  },
  {
   "cell_type": "code",
   "execution_count": 5,
   "metadata": {},
   "outputs": [
    {
     "data": {
      "text/plain": [
       "90"
      ]
     },
     "execution_count": 5,
     "metadata": {},
     "output_type": "execute_result"
    }
   ],
   "source": [
    "t=0\n",
    "for g in circ_boost.queue:\n",
    "    if isinstance(g, qibo.gates.gates.CNOT):\n",
    "        t = t +1\n",
    "t"
   ]
  },
  {
   "cell_type": "code",
   "execution_count": 6,
   "metadata": {},
   "outputs": [
    {
     "data": {
      "text/plain": [
       "550"
      ]
     },
     "execution_count": 6,
     "metadata": {},
     "output_type": "execute_result"
    }
   ],
   "source": [
    "t=0\n",
    "for g in circ_boost.queue:\n",
    "    if isinstance(g, qibo.gates.gates.CZ):\n",
    "        t = t +1\n",
    "t"
   ]
  },
  {
   "cell_type": "code",
   "execution_count": 7,
   "metadata": {},
   "outputs": [
    {
     "data": {
      "text/plain": [
       "110"
      ]
     },
     "execution_count": 7,
     "metadata": {},
     "output_type": "execute_result"
    }
   ],
   "source": [
    "t=0\n",
    "for g in vqe.circuit.queue:\n",
    "    if isinstance(g, qibo.gates.gates.CZ):\n",
    "        t = t +1\n",
    "t"
   ]
  },
  {
   "cell_type": "code",
   "execution_count": 8,
   "metadata": {},
   "outputs": [
    {
     "data": {
      "text/plain": [
       "7.0"
      ]
     },
     "execution_count": 8,
     "metadata": {},
     "output_type": "execute_result"
    }
   ],
   "source": [
    "1050/150"
   ]
  },
  {
   "cell_type": "code",
   "execution_count": 9,
   "metadata": {},
   "outputs": [
    {
     "data": {
      "text/plain": [
       "-0.7639320225002102"
      ]
     },
     "execution_count": 9,
     "metadata": {},
     "output_type": "execute_result"
    }
   ],
   "source": [
    "np.sqrt(5)-3"
   ]
  },
  {
   "cell_type": "code",
   "execution_count": 10,
   "metadata": {},
   "outputs": [
    {
     "data": {
      "text/plain": [
       "-14.938487070478573"
      ]
     },
     "execution_count": 10,
     "metadata": {},
     "output_type": "execute_result"
    }
   ],
   "source": [
    "ene1"
   ]
  },
  {
   "cell_type": "code",
   "execution_count": 11,
   "metadata": {},
   "outputs": [
    {
     "data": {
      "text/plain": [
       "-15.276131122065795"
      ]
     },
     "execution_count": 11,
     "metadata": {},
     "output_type": "execute_result"
    }
   ],
   "source": [
    "target_energy"
   ]
  },
  {
   "cell_type": "code",
   "execution_count": 12,
   "metadata": {},
   "outputs": [
    {
     "data": {
      "text/plain": [
       "-15.032761300698017"
      ]
     },
     "execution_count": 12,
     "metadata": {},
     "output_type": "execute_result"
    }
   ],
   "source": [
    "from boostvqe.models.dbi.group_commutator_iteration_transpiler import *\n",
    "eo_d = EvolutionOracle(d,mode_evolution_oracle=EvolutionOracleType.hamiltonian_simulation,name = \"D(linear)\")\n",
    "\n",
    "hamiltonian.delta = 0.5\n",
    "from boostvqe.models.dbi.double_bracket_evolution_oracles import *\n",
    "# quick hack how to use the method function hamiltonians.XXZ to get a simulable oracle\n",
    "eo_xxz = XXZ_EvolutionOracle(hamiltonian,mode_evolution_oracle=EvolutionOracleType.numerical, steps = 1, order = 2)\n",
    "eo_xxz.mode_evolution_oracle=EvolutionOracleType.hamiltonian_simulation\n",
    "hamiltonian.dense = hamiltonian\n",
    "# prescribe nmb of steps\n",
    "eo_d.please_use_prescribed_nmb_ts_steps = 1\n",
    "eo_xxz.please_use_prescribed_nmb_ts_steps = 1\n",
    "\n",
    "\n",
    "gci  = GroupCommutatorIterationWithEvolutionOracles(input_hamiltonian_evolution_oracle=\n",
    "                            FrameShiftedEvolutionOracle(eo_xxz, before_circuit=vqe.circuit.invert(), \n",
    "                                                        after_circuit=vqe.circuit,name=\"shifting by vqe\"), \n",
    "                                                        mode_double_bracket_rotation=DoubleBracketRotationType.group_commutator_third_order_reduced)\n",
    "gci(step**2, eo_d)\n",
    "hamiltonian.expectation(gci.iterated_hamiltonian_evolution_oracle.get_composed_circuit()().state())"
   ]
  },
  {
   "cell_type": "code",
   "execution_count": 13,
   "metadata": {},
   "outputs": [],
   "source": [
    "a = deepcopy(gci.iterated_hamiltonian_evolution_oracle.get_composed_circuit())\n",
    "gci2  = GroupCommutatorIterationWithEvolutionOracles(input_hamiltonian_evolution_oracle=\n",
    "                            FrameShiftedEvolutionOracle(eo_xxz, before_circuit=a.invert(), \n",
    "                                                        after_circuit=a,name=\"shifting by vqe\"), \n",
    "                                                        mode_double_bracket_rotation=DoubleBracketRotationType.group_commutator_third_order_reduced)"
   ]
  },
  {
   "cell_type": "code",
   "execution_count": 14,
   "metadata": {},
   "outputs": [
    {
     "name": "stderr",
     "output_type": "stream",
     "text": [
      "[Qibo 0.2.9|WARNING|2024-06-11 23:11:05]: Calculating the dense form of a symbolic Hamiltonian. This operation is memory inefficient.\n",
      "WARNING:qibo.config:Calculating the dense form of a symbolic Hamiltonian. This operation is memory inefficient.\n",
      "[Qibo 0.2.9|WARNING|2024-06-11 23:16:22]: Calculating the dense form of a symbolic Hamiltonian. This operation is memory inefficient.\n",
      "WARNING:qibo.config:Calculating the dense form of a symbolic Hamiltonian. This operation is memory inefficient.\n"
     ]
    }
   ],
   "source": [
    "dd = hamiltonians.SymbolicHamiltonian( sum([1.2*j*symbols.Z(j) for j in range(10)]))\n",
    "eo_dd = EvolutionOracle(dd,mode_evolution_oracle=EvolutionOracleType.hamiltonian_simulation,name = \"D(linear)\")\n",
    "for s in np.linspace(0.01,0.02,6):\n",
    "    circ_update = gci2.group_commutator(s,eo_dd)[\"forwards\"]+ a\n",
    "    print(hamiltonian.expectation(circ_update().state()))\n"
   ]
  },
  {
   "cell_type": "code",
   "execution_count": null,
   "metadata": {},
   "outputs": [
    {
     "ename": "AttributeError",
     "evalue": "'numpy.int64' object has no attribute 'init_kwargs'",
     "output_type": "error",
     "traceback": [
      "\u001b[0;31m---------------------------------------------------------------------------\u001b[0m",
      "\u001b[0;31mAttributeError\u001b[0m                            Traceback (most recent call last)",
      "Cell \u001b[0;32mIn[30], line 6\u001b[0m\n\u001b[1;32m      4\u001b[0m loss_list \u001b[38;5;241m=\u001b[39m []\n\u001b[1;32m      5\u001b[0m \u001b[38;5;28;01mfor\u001b[39;00m s \u001b[38;5;129;01min\u001b[39;00m np\u001b[38;5;241m.\u001b[39mlinspace(\u001b[38;5;241m0\u001b[39m,\u001b[38;5;241m0.1\u001b[39m,\u001b[38;5;241m20\u001b[39m):\n\u001b[0;32m----> 6\u001b[0m     circ_update \u001b[38;5;241m=\u001b[39m \u001b[43mgci2\u001b[49m\u001b[38;5;241;43m.\u001b[39;49m\u001b[43mgroup_commutator\u001b[49m\u001b[43m(\u001b[49m\u001b[43ms\u001b[49m\u001b[43m,\u001b[49m\u001b[43meo_d\u001b[49m\u001b[43m)\u001b[49m\u001b[43m[\u001b[49m\u001b[38;5;124;43m\"\u001b[39;49m\u001b[38;5;124;43mforwards\u001b[39;49m\u001b[38;5;124;43m\"\u001b[39;49m\u001b[43m]\u001b[49m\u001b[38;5;241;43m+\u001b[39;49m\u001b[43m \u001b[49m\u001b[43ma\u001b[49m\n\u001b[1;32m      7\u001b[0m     loss_list\u001b[38;5;241m.\u001b[39mappend(hamiltonian\u001b[38;5;241m.\u001b[39mexpectation(circ_update()\u001b[38;5;241m.\u001b[39mstate()))\n\u001b[1;32m      9\u001b[0m \u001b[38;5;28;01mimport\u001b[39;00m \u001b[38;5;21;01mmatplotlib\u001b[39;00m\u001b[38;5;21;01m.\u001b[39;00m\u001b[38;5;21;01mpyplot\u001b[39;00m \u001b[38;5;28;01mas\u001b[39;00m \u001b[38;5;21;01mplt\u001b[39;00m \n",
      "File \u001b[0;32m~/Projectes_git/qibo/src/qibo/models/circuit.py:262\u001b[0m, in \u001b[0;36mCircuit.__add__\u001b[0;34m(self, circuit)\u001b[0m\n\u001b[1;32m    253\u001b[0m \u001b[38;5;250m\u001b[39m\u001b[38;5;124;03m\"\"\"Add circuits.\u001b[39;00m\n\u001b[1;32m    254\u001b[0m \n\u001b[1;32m    255\u001b[0m \u001b[38;5;124;03mArgs:\u001b[39;00m\n\u001b[0;32m   (...)\u001b[0m\n\u001b[1;32m    259\u001b[0m \u001b[38;5;124;03m    The resulting circuit from the addition.\u001b[39;00m\n\u001b[1;32m    260\u001b[0m \u001b[38;5;124;03m\"\"\"\u001b[39;00m\n\u001b[1;32m    261\u001b[0m \u001b[38;5;28;01mfor\u001b[39;00m k, kwarg1 \u001b[38;5;129;01min\u001b[39;00m \u001b[38;5;28mself\u001b[39m\u001b[38;5;241m.\u001b[39minit_kwargs\u001b[38;5;241m.\u001b[39mitems():\n\u001b[0;32m--> 262\u001b[0m     kwarg2 \u001b[38;5;241m=\u001b[39m \u001b[43mcircuit\u001b[49m\u001b[38;5;241;43m.\u001b[39;49m\u001b[43minit_kwargs\u001b[49m[k]\n\u001b[1;32m    263\u001b[0m     \u001b[38;5;28;01mif\u001b[39;00m kwarg1 \u001b[38;5;241m!=\u001b[39m kwarg2:\n\u001b[1;32m    264\u001b[0m         raise_error(\n\u001b[1;32m    265\u001b[0m             \u001b[38;5;167;01mValueError\u001b[39;00m,\n\u001b[1;32m    266\u001b[0m             \u001b[38;5;124m\"\u001b[39m\u001b[38;5;124mCannot add circuits with different kwargs. \u001b[39m\u001b[38;5;124m\"\u001b[39m\n\u001b[1;32m    267\u001b[0m             \u001b[38;5;241m+\u001b[39m \u001b[38;5;124mf\u001b[39m\u001b[38;5;124m\"\u001b[39m\u001b[38;5;132;01m{\u001b[39;00mk\u001b[38;5;132;01m}\u001b[39;00m\u001b[38;5;124m is \u001b[39m\u001b[38;5;132;01m{\u001b[39;00mkwarg1\u001b[38;5;132;01m}\u001b[39;00m\u001b[38;5;124m for first circuit and \u001b[39m\u001b[38;5;132;01m{\u001b[39;00mkwarg2\u001b[38;5;132;01m}\u001b[39;00m\u001b[38;5;124m \u001b[39m\u001b[38;5;124m\"\u001b[39m\n\u001b[1;32m    268\u001b[0m             \u001b[38;5;241m+\u001b[39m \u001b[38;5;124m\"\u001b[39m\u001b[38;5;124mfor the second.\u001b[39m\u001b[38;5;124m\"\u001b[39m,\n\u001b[1;32m    269\u001b[0m         )\n",
      "\u001b[0;31mAttributeError\u001b[0m: 'numpy.int64' object has no attribute 'init_kwargs'"
     ]
    }
   ],
   "source": [
    "dd = hamiltonians.SymbolicHamiltonian( sum([symbols.Z(j) for j in range(10)]))\n",
    "eo_dd = EvolutionOracle(dd,mode_evolution_oracle=EvolutionOracleType.hamiltonian_simulation,name = \"D(linear)\")\n",
    "\n",
    "loss_list = []\n",
    "for s in np.linspace(0,0.1,20):\n",
    "    circ_update = gci2.group_commutator(s,eo_d)[\"forwards\"]+ a\n",
    "    loss_list.append(hamiltonian.expectation(circ_update().state()))\n",
    "                     \n",
    "import matplotlib.pyplot as plt \n",
    "plt.plot(loss_list)"
   ]
  },
  {
   "cell_type": "code",
   "execution_count": null,
   "metadata": {},
   "outputs": [
    {
     "data": {
      "text/plain": [
       "0.004395604395604396"
      ]
     },
     "execution_count": 25,
     "metadata": {},
     "output_type": "execute_result"
    }
   ],
   "source": [
    "\n",
    "a = np.argmin(loss_list)\n",
    "times = np.linspace(0,0.2,92)\n",
    "times[a]"
   ]
  },
  {
   "cell_type": "code",
   "execution_count": null,
   "metadata": {},
   "outputs": [
    {
     "data": {
      "text/plain": [
       "-14.811148950309335"
      ]
     },
     "execution_count": 26,
     "metadata": {},
     "output_type": "execute_result"
    }
   ],
   "source": [
    "loss_list[a]"
   ]
  },
  {
   "cell_type": "code",
   "execution_count": null,
   "metadata": {},
   "outputs": [],
   "source": [
    "ds"
   ]
  },
  {
   "cell_type": "code",
   "execution_count": null,
   "metadata": {},
   "outputs": [],
   "source": [
    "gci(times[a],eo_d)"
   ]
  },
  {
   "cell_type": "code",
   "execution_count": null,
   "metadata": {},
   "outputs": [
    {
     "name": "stderr",
     "output_type": "stream",
     "text": [
      "[Qibo 0.2.9|WARNING|2024-06-11 21:21:38]: Calculating the dense form of a symbolic Hamiltonian. This operation is memory inefficient.\n",
      "WARNING:qibo.config:Calculating the dense form of a symbolic Hamiltonian. This operation is memory inefficient.\n"
     ]
    },
    {
     "ename": "KeyboardInterrupt",
     "evalue": "",
     "output_type": "error",
     "traceback": [
      "\u001b[0;31m---------------------------------------------------------------------------\u001b[0m",
      "\u001b[0;31mKeyboardInterrupt\u001b[0m                         Traceback (most recent call last)",
      "Cell \u001b[0;32mIn[40], line 5\u001b[0m\n\u001b[1;32m      3\u001b[0m loss_list \u001b[38;5;241m=\u001b[39m []\n\u001b[1;32m      4\u001b[0m \u001b[38;5;28;01mfor\u001b[39;00m s \u001b[38;5;129;01min\u001b[39;00m np\u001b[38;5;241m.\u001b[39mlinspace(\u001b[38;5;241m0\u001b[39m,\u001b[38;5;241m0.1\u001b[39m,\u001b[38;5;241m2\u001b[39m):\n\u001b[0;32m----> 5\u001b[0m     circ_update \u001b[38;5;241m=\u001b[39m \u001b[43mgci\u001b[49m\u001b[38;5;241;43m.\u001b[39;49m\u001b[43mgroup_commutator\u001b[49m\u001b[43m(\u001b[49m\u001b[43ms\u001b[49m\u001b[43m,\u001b[49m\u001b[43meo_dd\u001b[49m\u001b[43m)\u001b[49m[\u001b[38;5;124m\"\u001b[39m\u001b[38;5;124mforwards\u001b[39m\u001b[38;5;124m\"\u001b[39m]\u001b[38;5;241m+\u001b[39m gci\u001b[38;5;241m.\u001b[39miterated_hamiltonian_evolution_oracle\u001b[38;5;241m.\u001b[39mget_composed_circuit()\n\u001b[1;32m      6\u001b[0m     loss_list\u001b[38;5;241m.\u001b[39mappend(hamiltonian\u001b[38;5;241m.\u001b[39mexpectation(circ_update()\u001b[38;5;241m.\u001b[39mstate()))\n\u001b[1;32m      8\u001b[0m \u001b[38;5;28;01mimport\u001b[39;00m \u001b[38;5;21;01mmatplotlib\u001b[39;00m\u001b[38;5;21;01m.\u001b[39;00m\u001b[38;5;21;01mpyplot\u001b[39;00m \u001b[38;5;28;01mas\u001b[39;00m \u001b[38;5;21;01mplt\u001b[39;00m \n",
      "File \u001b[0;32m~/Projectes_git/boostvqe/src/boostvqe/models/dbi/group_commutator_iteration_transpiler.py:210\u001b[0m, in \u001b[0;36mGroupCommutatorIterationWithEvolutionOracles.group_commutator\u001b[0;34m(self, t_step, eo1, eo2, mode_dbr)\u001b[0m\n\u001b[1;32m    207\u001b[0m     query_list_backward \u001b[38;5;241m=\u001b[39m [ Circuit\u001b[38;5;241m.\u001b[39minvert(c) \u001b[38;5;28;01mfor\u001b[39;00m c \u001b[38;5;129;01min\u001b[39;00m query_list_forward[::\u001b[38;5;241m-\u001b[39m\u001b[38;5;241m1\u001b[39m]]\n\u001b[1;32m    208\u001b[0m \u001b[38;5;28;01melif\u001b[39;00m gc_type \u001b[38;5;129;01mis\u001b[39;00m DoubleBracketRotationType\u001b[38;5;241m.\u001b[39mgroup_commutator_third_order_reduced:\n\u001b[1;32m    209\u001b[0m     query_list_forward \u001b[38;5;241m=\u001b[39m [\n\u001b[0;32m--> 210\u001b[0m         \u001b[43mdeepcopy\u001b[49m\u001b[43m(\u001b[49m\u001b[43meo1\u001b[49m\u001b[43m)\u001b[49m\u001b[38;5;241;43m.\u001b[39;49m\u001b[43mcircuit\u001b[49m\u001b[43m(\u001b[49m\u001b[38;5;241;43m-\u001b[39;49m\u001b[43ms_step\u001b[49m\u001b[43m \u001b[49m\u001b[38;5;241;43m*\u001b[39;49m\u001b[43m \u001b[49m\u001b[43m(\u001b[49m\u001b[43mnp\u001b[49m\u001b[38;5;241;43m.\u001b[39;49m\u001b[43msqrt\u001b[49m\u001b[43m(\u001b[49m\u001b[38;5;241;43m5\u001b[39;49m\u001b[43m)\u001b[49m\u001b[43m \u001b[49m\u001b[38;5;241;43m-\u001b[39;49m\u001b[43m \u001b[49m\u001b[38;5;241;43m1\u001b[39;49m\u001b[43m)\u001b[49m\u001b[43m \u001b[49m\u001b[38;5;241;43m/\u001b[39;49m\u001b[43m \u001b[49m\u001b[38;5;241;43m2\u001b[39;49m\u001b[43m)\u001b[49m,\n\u001b[1;32m    211\u001b[0m         deepcopy(eo2)\u001b[38;5;241m.\u001b[39mcircuit(s_step),\n\u001b[1;32m    212\u001b[0m         deepcopy(eo1)\u001b[38;5;241m.\u001b[39mcircuit(s_step \u001b[38;5;241m*\u001b[39m (np\u001b[38;5;241m.\u001b[39msqrt(\u001b[38;5;241m5\u001b[39m) \u001b[38;5;241m+\u001b[39m \u001b[38;5;241m1\u001b[39m) \u001b[38;5;241m/\u001b[39m \u001b[38;5;241m2\u001b[39m),\n\u001b[1;32m    213\u001b[0m         deepcopy(eo2)\u001b[38;5;241m.\u001b[39mcircuit(\u001b[38;5;241m-\u001b[39ms_step \u001b[38;5;241m*\u001b[39m (\u001b[38;5;241m3\u001b[39m \u001b[38;5;241m-\u001b[39m np\u001b[38;5;241m.\u001b[39msqrt(\u001b[38;5;241m5\u001b[39m)) \u001b[38;5;241m/\u001b[39m \u001b[38;5;241m2\u001b[39m),\n\u001b[1;32m    214\u001b[0m         deepcopy(eo1)\u001b[38;5;241m.\u001b[39mcircuit(\u001b[38;5;241m-\u001b[39ms_step)            \n\u001b[1;32m    215\u001b[0m     ]\n\u001b[1;32m    216\u001b[0m     query_list_backward \u001b[38;5;241m=\u001b[39m [ Circuit\u001b[38;5;241m.\u001b[39minvert(c) \u001b[38;5;28;01mfor\u001b[39;00m c \u001b[38;5;129;01min\u001b[39;00m query_list_forward[::\u001b[38;5;241m-\u001b[39m\u001b[38;5;241m1\u001b[39m]]\n\u001b[1;32m    217\u001b[0m \u001b[38;5;28;01melse\u001b[39;00m:\n",
      "File \u001b[0;32m~/Projectes_git/boostvqe/src/boostvqe/models/dbi/double_bracket_evolution_oracles.py:76\u001b[0m, in \u001b[0;36mEvolutionOracle.circuit\u001b[0;34m(self, t_duration)\u001b[0m\n\u001b[1;32m     74\u001b[0m \u001b[38;5;28;01melif\u001b[39;00m \u001b[38;5;28mself\u001b[39m\u001b[38;5;241m.\u001b[39mmode_evolution_oracle \u001b[38;5;129;01mis\u001b[39;00m EvolutionOracleType\u001b[38;5;241m.\u001b[39mhamiltonian_simulation:\n\u001b[1;32m     75\u001b[0m     \u001b[38;5;28;01mif\u001b[39;00m \u001b[38;5;28mself\u001b[39m\u001b[38;5;241m.\u001b[39mplease_use_prescribed_nmb_ts_steps \u001b[38;5;129;01mis\u001b[39;00m \u001b[38;5;28;01mFalse\u001b[39;00m:\n\u001b[0;32m---> 76\u001b[0m         \u001b[38;5;28;01mreturn\u001b[39;00m \u001b[38;5;28;43mself\u001b[39;49m\u001b[38;5;241;43m.\u001b[39;49m\u001b[43mdiscretized_evolution_circuit_binary_search\u001b[49m\u001b[43m(\u001b[49m\n\u001b[1;32m     77\u001b[0m \u001b[43m            \u001b[49m\u001b[43mt_duration\u001b[49m\u001b[43m,\u001b[49m\u001b[43m \u001b[49m\u001b[43meps\u001b[49m\u001b[38;5;241;43m=\u001b[39;49m\u001b[38;5;28;43mself\u001b[39;49m\u001b[38;5;241;43m.\u001b[39;49m\u001b[43meps_trottersuzuki\u001b[49m\n\u001b[1;32m     78\u001b[0m \u001b[43m            \u001b[49m\u001b[43m)\u001b[49m\n\u001b[1;32m     79\u001b[0m     \u001b[38;5;28;01melse\u001b[39;00m:\n\u001b[1;32m     80\u001b[0m         dt \u001b[38;5;241m=\u001b[39m t_duration \u001b[38;5;241m/\u001b[39m \u001b[38;5;28mself\u001b[39m\u001b[38;5;241m.\u001b[39mplease_use_prescribed_nmb_ts_steps\n",
      "File \u001b[0;32m~/Projectes_git/boostvqe/src/boostvqe/models/dbi/double_bracket_evolution_oracles.py:107\u001b[0m, in \u001b[0;36mEvolutionOracle.discretized_evolution_circuit_binary_search\u001b[0;34m(self, t_duration, eps)\u001b[0m\n\u001b[1;32m    102\u001b[0m \u001b[38;5;28;01mwhile\u001b[39;00m nmb_trottersuzuki_steps \u001b[38;5;241m<\u001b[39m\u001b[38;5;241m=\u001b[39m nmb_trottersuzki_steps_right:\n\u001b[1;32m    103\u001b[0m     mid \u001b[38;5;241m=\u001b[39m (\n\u001b[1;32m    104\u001b[0m         nmb_trottersuzuki_steps\n\u001b[1;32m    105\u001b[0m         \u001b[38;5;241m+\u001b[39m (nmb_trottersuzki_steps_right \u001b[38;5;241m-\u001b[39m nmb_trottersuzuki_steps) \u001b[38;5;241m/\u001b[39m\u001b[38;5;241m/\u001b[39m \u001b[38;5;241m2\u001b[39m\n\u001b[1;32m    106\u001b[0m     )\n\u001b[0;32m--> 107\u001b[0m     \u001b[38;5;28;01mif\u001b[39;00m \u001b[43mcheck_accuracy\u001b[49m\u001b[43m(\u001b[49m\u001b[43mmid\u001b[49m\u001b[43m)\u001b[49m:\n\u001b[1;32m    108\u001b[0m         nmb_trottersuzuki_steps_used \u001b[38;5;241m=\u001b[39m mid\n\u001b[1;32m    109\u001b[0m         nmb_trottersuzki_steps_right \u001b[38;5;241m=\u001b[39m mid \u001b[38;5;241m-\u001b[39m \u001b[38;5;241m1\u001b[39m\n",
      "File \u001b[0;32m~/Projectes_git/boostvqe/src/boostvqe/models/dbi/double_bracket_evolution_oracles.py:94\u001b[0m, in \u001b[0;36mEvolutionOracle.discretized_evolution_circuit_binary_search.<locals>.check_accuracy\u001b[0;34m(n_steps)\u001b[0m\n\u001b[1;32m     93\u001b[0m \u001b[38;5;28;01mdef\u001b[39;00m \u001b[38;5;21mcheck_accuracy\u001b[39m(n_steps):\n\u001b[0;32m---> 94\u001b[0m     proposed_circuit_unitary \u001b[38;5;241m=\u001b[39m \u001b[43mnp\u001b[49m\u001b[38;5;241;43m.\u001b[39;49m\u001b[43mlinalg\u001b[49m\u001b[38;5;241;43m.\u001b[39;49m\u001b[43mmatrix_power\u001b[49m\u001b[43m(\u001b[49m\n\u001b[1;32m     95\u001b[0m \u001b[43m        \u001b[49m\u001b[43mdeepcopy\u001b[49m\u001b[43m(\u001b[49m\u001b[38;5;28;43mself\u001b[39;49m\u001b[38;5;241;43m.\u001b[39;49m\u001b[43mh\u001b[49m\u001b[43m)\u001b[49m\u001b[38;5;241;43m.\u001b[39;49m\u001b[43mcircuit\u001b[49m\u001b[43m(\u001b[49m\u001b[43mt_duration\u001b[49m\u001b[43m \u001b[49m\u001b[38;5;241;43m/\u001b[39;49m\u001b[43m \u001b[49m\u001b[43mn_steps\u001b[49m\u001b[43m)\u001b[49m\u001b[38;5;241;43m.\u001b[39;49m\u001b[43munitary\u001b[49m\u001b[43m(\u001b[49m\u001b[43m)\u001b[49m\u001b[43m,\u001b[49m\n\u001b[1;32m     96\u001b[0m \u001b[43m        \u001b[49m\u001b[43mn_steps\u001b[49m\u001b[43m,\u001b[49m\n\u001b[1;32m     97\u001b[0m \u001b[43m    \u001b[49m\u001b[43m)\u001b[49m\n\u001b[1;32m     98\u001b[0m     norm_difference \u001b[38;5;241m=\u001b[39m np\u001b[38;5;241m.\u001b[39mlinalg\u001b[38;5;241m.\u001b[39mnorm(target_unitary \u001b[38;5;241m-\u001b[39m proposed_circuit_unitary)\n\u001b[1;32m     99\u001b[0m     \u001b[38;5;28;01mreturn\u001b[39;00m norm_difference \u001b[38;5;241m<\u001b[39m eps\n",
      "File \u001b[0;32m/usr/lib/python3/dist-packages/numpy/linalg/linalg.py:677\u001b[0m, in \u001b[0;36mmatrix_power\u001b[0;34m(a, n)\u001b[0m\n\u001b[1;32m    675\u001b[0m z \u001b[38;5;241m=\u001b[39m result \u001b[38;5;241m=\u001b[39m \u001b[38;5;28;01mNone\u001b[39;00m\n\u001b[1;32m    676\u001b[0m \u001b[38;5;28;01mwhile\u001b[39;00m n \u001b[38;5;241m>\u001b[39m \u001b[38;5;241m0\u001b[39m:\n\u001b[0;32m--> 677\u001b[0m     z \u001b[38;5;241m=\u001b[39m a \u001b[38;5;28;01mif\u001b[39;00m z \u001b[38;5;129;01mis\u001b[39;00m \u001b[38;5;28;01mNone\u001b[39;00m \u001b[38;5;28;01melse\u001b[39;00m \u001b[43mfmatmul\u001b[49m\u001b[43m(\u001b[49m\u001b[43mz\u001b[49m\u001b[43m,\u001b[49m\u001b[43m \u001b[49m\u001b[43mz\u001b[49m\u001b[43m)\u001b[49m\n\u001b[1;32m    678\u001b[0m     n, bit \u001b[38;5;241m=\u001b[39m \u001b[38;5;28mdivmod\u001b[39m(n, \u001b[38;5;241m2\u001b[39m)\n\u001b[1;32m    679\u001b[0m     \u001b[38;5;28;01mif\u001b[39;00m bit:\n",
      "\u001b[0;31mKeyboardInterrupt\u001b[0m: "
     ]
    }
   ],
   "source": [
    "dd = hamiltonians.SymbolicHamiltonian( sum([symbols.Z(j) for j in range(10)]))\n",
    "eo_dd = EvolutionOracle(dd,mode_evolution_oracle=EvolutionOracleType.hamiltonian_simulation,name = \"D(linear)\")\n",
    "loss_list = []\n",
    "for s in np.linspace(0,0.1,2):\n",
    "    circ_update = gci.group_commutator(s,eo_dd)[\"forwards\"]+ gci.iterated_hamiltonian_evolution_oracle.get_composed_circuit()\n",
    "    loss_list.append(hamiltonian.expectation(circ_update().state()))\n",
    "                     \n",
    "import matplotlib.pyplot as plt \n",
    "plt.plot(loss_list)"
   ]
  },
  {
   "cell_type": "code",
   "execution_count": null,
   "metadata": {},
   "outputs": [
    {
     "data": {
      "text/plain": [
       "0.0"
      ]
     },
     "execution_count": 36,
     "metadata": {},
     "output_type": "execute_result"
    }
   ],
   "source": [
    "a = np.argmin(loss_list)\n",
    "times = np.linspace(0,0.2,92)\n",
    "times[a]"
   ]
  },
  {
   "cell_type": "code",
   "execution_count": null,
   "metadata": {},
   "outputs": [
    {
     "name": "stderr",
     "output_type": "stream",
     "text": [
      "[Qibo 0.2.9|WARNING|2024-06-10 22:27:45]: Calculating the dense form of a symbolic Hamiltonian. This operation is memory inefficient.\n",
      "WARNING:qibo.config:Calculating the dense form of a symbolic Hamiltonian. This operation is memory inefficient.\n"
     ]
    },
    {
     "name": "stdout",
     "output_type": "stream",
     "text": [
      "-14.560174594055583\n",
      "-14.752268266791006\n"
     ]
    }
   ],
   "source": [
    "adm = d.dense.matrix\n",
    "v_vqe = vqe.circuit.unitary()\n",
    "h_vqe = v_vqe.conj().T @ hamiltonian.matrix @ v_vqe\n",
    "h_vqe_ham = hamiltonians.Hamiltonian(nqubits = config[\"nqubits\"],matrix=h_vqe)\n",
    "\n",
    "from copy import deepcopy\n",
    "dbi = DoubleBracketIteration(\n",
    "    hamiltonian=deepcopy(h_vqe_ham),\n",
    "    mode=DoubleBracketGeneratorType.group_commutator_3,\n",
    ")\n",
    "\n",
    "u1 = dbi.h.exp(-step * (np.sqrt(5) - 1) / 2)\n",
    "u2 = dbi.backend.calculate_matrix_exp(-step * (np.sqrt(5) - 1) / 2, dm)\n",
    "u3 = dbi.h.exp(step)\n",
    "u4 = dbi.backend.calculate_matrix_exp(step * (np.sqrt(5) + 1) / 2, dm)\n",
    "u5 = dbi.h.exp(-step * (3 - np.sqrt(5)) / 2)\n",
    "u6 = dbi.backend.calculate_matrix_exp(-step, dm)\n",
    "\n",
    "u_gc3_by_hand = u1 @ u2 @ u3 @ u4 @ u5 @ u6\n",
    "h_gc3_by_hand = hamiltonians.Hamiltonian(matrix = u_gc3_by_hand.conj().T @ deepcopy(h_vqe_ham).matrix @ u_gc3_by_hand, nqubits= config[\"nqubits\"] )\n",
    "\n",
    "energy_dbi_gc3_by_hand = h_gc3_by_hand.expectation(zero_state_t)\n",
    "print(ene1)\n",
    "print(energy_dbi_gc3_by_hand)"
   ]
  },
  {
   "cell_type": "code",
   "execution_count": null,
   "metadata": {},
   "outputs": [
    {
     "name": "stdout",
     "output_type": "stream",
     "text": [
      "0.006991213069987698\n"
     ]
    }
   ],
   "source": [
    "print(np.linalg.norm( u1-vw_xxz_compiling_phase(config[\"nqubits\"],nmb_ts_steps,order = 2)*( u1_circ ).unitary() ))"
   ]
  },
  {
   "cell_type": "code",
   "execution_count": null,
   "metadata": {},
   "outputs": [
    {
     "name": "stdout",
     "output_type": "stream",
     "text": [
      "1.107953320613948e-14\n",
      "0.029094422053674126\n",
      "28.1467227947752\n",
      "0.0016616352501537186\n",
      "5.311895747628695\n"
     ]
    }
   ],
   "source": [
    "print(np.linalg.norm( u2-( u2_circ ).unitary() ))\n",
    "print(np.linalg.norm( u3-vw_xxz_compiling_phase(config[\"nqubits\"],nmb_ts_steps,order = 2)*( u3_circ ).unitary() ))\n",
    "print(np.linalg.norm( u4-( u4_circ ).unitary() ))\n",
    "print(np.linalg.norm( u5-vw_xxz_compiling_phase(config[\"nqubits\"],nmb_ts_steps,order = 2)*( u5_circ ).unitary() ))\n",
    "print(np.linalg.norm( u6-( u6_circ ).unitary() ))"
   ]
  },
  {
   "cell_type": "code",
   "execution_count": null,
   "metadata": {},
   "outputs": [
    {
     "name": "stdout",
     "output_type": "stream",
     "text": [
      "-14.560174594055583\n",
      "-14.752263119810468\n"
     ]
    }
   ],
   "source": [
    "u_gc3_by_hand2 = u1 @ u2 @ u3 @ u4 @ u5_circ.unitary() @ u6_circ.unitary()\n",
    "h_gc3_by_hand2 = hamiltonians.Hamiltonian(matrix = u_gc3_by_hand2.conj().T @ deepcopy(h_vqe_ham).matrix @ u_gc3_by_hand2, nqubits= config[\"nqubits\"] )\n",
    "\n",
    "energy_dbi_gc3_by_hand2 = h_gc3_by_hand2.expectation(zero_state_t)\n",
    "print(ene1)\n",
    "print(energy_dbi_gc3_by_hand2)"
   ]
  },
  {
   "cell_type": "code",
   "execution_count": null,
   "metadata": {},
   "outputs": [
    {
     "name": "stdout",
     "output_type": "stream",
     "text": [
      "-14.560174594055583\n",
      "-14.718760002748295\n"
     ]
    }
   ],
   "source": [
    "u_gc3_by_hand2 = u1 @ u2 @ u3 @ u4_circ.unitary() @ u5_circ.unitary() @ u6_circ.unitary()\n",
    "h_gc3_by_hand2 = hamiltonians.Hamiltonian(matrix = u_gc3_by_hand2.conj().T @ deepcopy(h_vqe_ham).matrix @ u_gc3_by_hand2, nqubits= config[\"nqubits\"] )\n",
    "\n",
    "energy_dbi_gc3_by_hand2 = h_gc3_by_hand2.expectation(zero_state_t)\n",
    "print(ene1)\n",
    "print(energy_dbi_gc3_by_hand2)"
   ]
  },
  {
   "cell_type": "code",
   "execution_count": null,
   "metadata": {},
   "outputs": [
    {
     "name": "stdout",
     "output_type": "stream",
     "text": [
      "-14.560174594055583\n",
      "-14.560174594055697\n"
     ]
    }
   ],
   "source": [
    "u_gc3_by_hand2 = u1 @ u2 @ u3_circ.unitary() @ u4_circ.unitary() @ u5_circ.unitary() @ u6_circ.unitary()\n",
    "h_gc3_by_hand2 = hamiltonians.Hamiltonian(matrix = u_gc3_by_hand2.conj().T @ deepcopy(h_vqe_ham).matrix @ u_gc3_by_hand2, nqubits= config[\"nqubits\"] )\n",
    "\n",
    "energy_dbi_gc3_by_hand2 = h_gc3_by_hand2.expectation(zero_state_t)\n",
    "print(ene1)\n",
    "print(energy_dbi_gc3_by_hand2)"
   ]
  },
  {
   "cell_type": "code",
   "execution_count": null,
   "metadata": {},
   "outputs": [
    {
     "name": "stdout",
     "output_type": "stream",
     "text": [
      "-14.560174594055583\n",
      "-14.560174594055667\n"
     ]
    }
   ],
   "source": [
    "u_gc3_by_hand2 = u1 @ u2_circ.unitary() @ u3_circ.unitary() @ u4_circ.unitary() @ u5_circ.unitary() @ u6_circ.unitary()\n",
    "h_gc3_by_hand2 = hamiltonians.Hamiltonian(matrix = u_gc3_by_hand2.conj().T @ deepcopy(h_vqe_ham).matrix @ u_gc3_by_hand2, nqubits= config[\"nqubits\"] )\n",
    "\n",
    "energy_dbi_gc3_by_hand2 = h_gc3_by_hand2.expectation(zero_state_t)\n",
    "print(ene1)\n",
    "print(energy_dbi_gc3_by_hand2)"
   ]
  },
  {
   "cell_type": "code",
   "execution_count": null,
   "metadata": {},
   "outputs": [
    {
     "name": "stdout",
     "output_type": "stream",
     "text": [
      "-14.560174594055583\n",
      "-14.621201272487871\n"
     ]
    }
   ],
   "source": [
    "u_gc3_by_hand2 = u1 @ u2_circ.unitary() @ u3_circ.unitary() @ u4_circ.unitary() @ u5 @ u6_circ.unitary()\n",
    "h_gc3_by_hand2 = hamiltonians.Hamiltonian(matrix = u_gc3_by_hand2.conj().T @ deepcopy(h_vqe_ham).matrix @ u_gc3_by_hand2, nqubits= config[\"nqubits\"] )\n",
    "\n",
    "energy_dbi_gc3_by_hand2 = h_gc3_by_hand2.expectation(zero_state_t)\n",
    "print(ene1)\n",
    "print(energy_dbi_gc3_by_hand2)"
   ]
  },
  {
   "cell_type": "code",
   "execution_count": null,
   "metadata": {},
   "outputs": [
    {
     "name": "stdout",
     "output_type": "stream",
     "text": [
      "-14.560174594055583\n",
      "-14.560174594055773\n"
     ]
    }
   ],
   "source": [
    "u_gc3_by_hand3 = (u6_circ+u5_circ+u4_circ+u3_circ+u2_circ+u1_circ).unitary()\n",
    "h_gc3_by_hand3 = hamiltonians.Hamiltonian(matrix = u_gc3_by_hand3.conj().T @ deepcopy(h_vqe_ham).matrix @ u_gc3_by_hand3, nqubits= config[\"nqubits\"] )\n",
    "\n",
    "energy_dbi_gc3_by_hand3 = h_gc3_by_hand3.expectation(zero_state_t)\n",
    "print(ene1)\n",
    "\n",
    "print(energy_dbi_gc3_by_hand3)"
   ]
  },
  {
   "cell_type": "code",
   "execution_count": null,
   "metadata": {},
   "outputs": [
    {
     "name": "stdout",
     "output_type": "stream",
     "text": [
      "-14.560174594055583\n",
      "-14.560174594055773\n"
     ]
    }
   ],
   "source": [
    "u_gc3_by_hand4 = vqe.circuit.unitary() @ u_gc3_by_hand3\n",
    "h_gc3_by_hand4 = hamiltonians.Hamiltonian(matrix = u_gc3_by_hand4.conj().T @ deepcopy(hamiltonian).matrix @ u_gc3_by_hand4, nqubits= config[\"nqubits\"] )\n",
    "\n",
    "energy_dbi_gc3_by_hand4 = h_gc3_by_hand4.expectation(zero_state_t)\n",
    "print(ene1)\n",
    "print(energy_dbi_gc3_by_hand4)"
   ]
  },
  {
   "cell_type": "code",
   "execution_count": null,
   "metadata": {},
   "outputs": [
    {
     "ename": "SyntaxError",
     "evalue": "invalid syntax (3556992881.py, line 1)",
     "output_type": "error",
     "traceback": [
      "\u001b[0;36m  Cell \u001b[0;32mIn[6], line 1\u001b[0;36m\u001b[0m\n\u001b[0;31m    blabla to stop\u001b[0m\n\u001b[0m           ^\u001b[0m\n\u001b[0;31mSyntaxError\u001b[0m\u001b[0;31m:\u001b[0m invalid syntax\n"
     ]
    }
   ],
   "source": [
    "blabla to stop "
   ]
  },
  {
   "cell_type": "code",
   "execution_count": null,
   "metadata": {},
   "outputs": [],
   "source": []
  },
  {
   "cell_type": "code",
   "execution_count": null,
   "metadata": {},
   "outputs": [],
   "source": []
  },
  {
   "cell_type": "code",
   "execution_count": null,
   "metadata": {},
   "outputs": [
    {
     "name": "stderr",
     "output_type": "stream",
     "text": [
      "[Qibo 0.2.9|WARNING|2024-06-10 18:29:47]: Calculating the dense form of a symbolic Hamiltonian. This operation is memory inefficient.\n",
      "WARNING:qibo.config:Calculating the dense form of a symbolic Hamiltonian. This operation is memory inefficient.\n"
     ]
    }
   ],
   "source": [
    "dm = d.dense.matrix\n",
    "v_vqe = vqe.circuit.unitary()\n",
    "h_vqe = v_vqe.conj().T @ hamiltonian.matrix @ v_vqe\n",
    "h_vqe_ham = hamiltonians.Hamiltonian(nqubits = config[\"nqubits\"],matrix=h_vqe)\n",
    "\n",
    "from copy import deepcopy\n",
    "dbi = DoubleBracketIteration(\n",
    "    hamiltonian=deepcopy(h_vqe_ham),\n",
    "    mode=DoubleBracketGeneratorType.group_commutator_3,\n",
    ")\n",
    "\n",
    "\n",
    "step = 0.12\n",
    "\n",
    "dbi(0.12,d=dm)\n",
    "energy_dbi_gc3 = dbi.h.expectation(zero_state_t)"
   ]
  },
  {
   "cell_type": "code",
   "execution_count": null,
   "metadata": {},
   "outputs": [],
   "source": [
    "from copy import deepcopy\n",
    "dbi2 = DoubleBracketIteration(\n",
    "    hamiltonian=deepcopy(h_vqe_ham),\n",
    "    mode=DoubleBracketGeneratorType.group_commutator_3_reduced,\n",
    ")\n",
    "\n",
    "\n",
    "step = 0.12\n",
    "\n",
    "dbi2(0.12,d=dm)\n",
    "energy_dbi_gc32 = dbi2.h.expectation(zero_state_t)"
   ]
  },
  {
   "cell_type": "code",
   "execution_count": null,
   "metadata": {},
   "outputs": [
    {
     "data": {
      "text/plain": [
       "-14.752268266791006"
      ]
     },
     "execution_count": 18,
     "metadata": {},
     "output_type": "execute_result"
    }
   ],
   "source": [
    "energy_dbi_gc3"
   ]
  },
  {
   "cell_type": "code",
   "execution_count": null,
   "metadata": {},
   "outputs": [
    {
     "data": {
      "text/plain": [
       "-14.752268266790963"
      ]
     },
     "execution_count": 19,
     "metadata": {},
     "output_type": "execute_result"
    }
   ],
   "source": [
    "energy_dbi_gc32"
   ]
  },
  {
   "cell_type": "code",
   "execution_count": null,
   "metadata": {},
   "outputs": [],
   "source": [
    "dbi = DoubleBracketIteration(\n",
    "    hamiltonian=deepcopy(h_vqe_ham),\n",
    "    mode=DoubleBracketGeneratorType.group_commutator_3,\n",
    ")\n",
    "u_gc3 = dbi.eval_dbr_unitary(step,d=dm)"
   ]
  },
  {
   "cell_type": "code",
   "execution_count": null,
   "metadata": {},
   "outputs": [],
   "source": [
    "circ_boost = (\n",
    "    vqe_circ + v1_circ +vqe_circ_inv \n",
    "    + vd1_circ \n",
    "    + vqe_circ + v2_circ +vqe_circ_inv \n",
    "    + vd3_circ\n",
    "    + vqe_circ + v1_circ +vqe_circ_inv \n",
    "    + vd3_circ\n",
    "    + vqe_circ \n",
    ")"
   ]
  },
  {
   "cell_type": "code",
   "execution_count": null,
   "metadata": {},
   "outputs": [
    {
     "ename": "KeyboardInterrupt",
     "evalue": "",
     "output_type": "error",
     "traceback": [
      "\u001b[0;31m---------------------------------------------------------------------------\u001b[0m",
      "\u001b[0;31mKeyboardInterrupt\u001b[0m                         Traceback (most recent call last)",
      "Cell \u001b[0;32mIn[17], line 1\u001b[0m\n\u001b[0;32m----> 1\u001b[0m np\u001b[38;5;241m.\u001b[39mlinalg\u001b[38;5;241m.\u001b[39mnorm(u_gc3 \u001b[38;5;241m-\u001b[39m \u001b[43mcirc_boost\u001b[49m\u001b[38;5;241;43m.\u001b[39;49m\u001b[43munitary\u001b[49m\u001b[43m(\u001b[49m\u001b[43m)\u001b[49m\u001b[38;5;241m*\u001b[39m np\u001b[38;5;241m.\u001b[39mexp(\u001b[38;5;241m1\u001b[39mj \u001b[38;5;241m*\u001b[39mnp\u001b[38;5;241m.\u001b[39mpi\u001b[38;5;241m/\u001b[39m\u001b[38;5;241m4\u001b[39m\u001b[38;5;241m*\u001b[39m\u001b[38;5;241m880\u001b[39m))\n",
      "File \u001b[0;32m~/Projectes_git/qibo/src/qibo/models/circuit.py:1033\u001b[0m, in \u001b[0;36mCircuit.unitary\u001b[0;34m(self, backend)\u001b[0m\n\u001b[1;32m   1031\u001b[0m     \u001b[38;5;28;01melif\u001b[39;00m \u001b[38;5;129;01mnot\u001b[39;00m \u001b[38;5;28misinstance\u001b[39m(gate, (gates\u001b[38;5;241m.\u001b[39mSpecialGate, gates\u001b[38;5;241m.\u001b[39mM)):\n\u001b[1;32m   1032\u001b[0m         fgate\u001b[38;5;241m.\u001b[39mappend(gate)\n\u001b[0;32m-> 1033\u001b[0m \u001b[38;5;28;01mreturn\u001b[39;00m \u001b[43mfgate\u001b[49m\u001b[38;5;241;43m.\u001b[39;49m\u001b[43mmatrix\u001b[49m\u001b[43m(\u001b[49m\u001b[43mbackend\u001b[49m\u001b[43m)\u001b[49m\n",
      "File \u001b[0;32m~/Projectes_git/qibo/src/qibo/gates/special.py:109\u001b[0m, in \u001b[0;36mFusedGate.matrix\u001b[0;34m(self, backend)\u001b[0m\n\u001b[1;32m     99\u001b[0m \u001b[38;5;250m\u001b[39m\u001b[38;5;124;03m\"\"\"Returns matrix representation of special gate.\u001b[39;00m\n\u001b[1;32m    100\u001b[0m \n\u001b[1;32m    101\u001b[0m \u001b[38;5;124;03mArgs:\u001b[39;00m\n\u001b[0;32m   (...)\u001b[0m\n\u001b[1;32m    105\u001b[0m \u001b[38;5;124;03m    ndarray: Matrix representation of special gate.\u001b[39;00m\n\u001b[1;32m    106\u001b[0m \u001b[38;5;124;03m\"\"\"\u001b[39;00m\n\u001b[1;32m    107\u001b[0m backend \u001b[38;5;241m=\u001b[39m _check_backend(backend)\n\u001b[0;32m--> 109\u001b[0m \u001b[38;5;28;01mreturn\u001b[39;00m \u001b[43mbackend\u001b[49m\u001b[38;5;241;43m.\u001b[39;49m\u001b[43mmatrix_fused\u001b[49m\u001b[43m(\u001b[49m\u001b[38;5;28;43mself\u001b[39;49m\u001b[43m)\u001b[49m\n",
      "File \u001b[0;32m~/Projectes_git/qibo/src/qibo/backends/numpy.py:133\u001b[0m, in \u001b[0;36mNumpyBackend.matrix_fused\u001b[0;34m(self, fgate)\u001b[0m\n\u001b[1;32m    130\u001b[0m \u001b[38;5;66;03m# Kronecker product with identity is needed to make the\u001b[39;00m\n\u001b[1;32m    131\u001b[0m \u001b[38;5;66;03m# original matrix have shape (2**rank x 2**rank)\u001b[39;00m\n\u001b[1;32m    132\u001b[0m eye \u001b[38;5;241m=\u001b[39m np\u001b[38;5;241m.\u001b[39meye(\u001b[38;5;241m2\u001b[39m \u001b[38;5;241m*\u001b[39m\u001b[38;5;241m*\u001b[39m (rank \u001b[38;5;241m-\u001b[39m \u001b[38;5;28mlen\u001b[39m(gate\u001b[38;5;241m.\u001b[39mqubits)))\n\u001b[0;32m--> 133\u001b[0m gmatrix \u001b[38;5;241m=\u001b[39m \u001b[43mnp\u001b[49m\u001b[38;5;241;43m.\u001b[39;49m\u001b[43mkron\u001b[49m\u001b[43m(\u001b[49m\u001b[43mgmatrix\u001b[49m\u001b[43m,\u001b[49m\u001b[43m \u001b[49m\u001b[43meye\u001b[49m\u001b[43m)\u001b[49m\n\u001b[1;32m    134\u001b[0m \u001b[38;5;66;03m# Transpose the new matrix indices so that it targets the\u001b[39;00m\n\u001b[1;32m    135\u001b[0m \u001b[38;5;66;03m# target qubits of the original gate\u001b[39;00m\n\u001b[1;32m    136\u001b[0m original_shape \u001b[38;5;241m=\u001b[39m gmatrix\u001b[38;5;241m.\u001b[39mshape\n",
      "File \u001b[0;32m/usr/lib/python3/dist-packages/numpy/lib/shape_base.py:1173\u001b[0m, in \u001b[0;36mkron\u001b[0;34m(a, b)\u001b[0m\n\u001b[1;32m   1171\u001b[0m b_arr \u001b[38;5;241m=\u001b[39m expand_dims(b_arr, axis\u001b[38;5;241m=\u001b[39m\u001b[38;5;28mtuple\u001b[39m(\u001b[38;5;28mrange\u001b[39m(\u001b[38;5;241m0\u001b[39m, nd\u001b[38;5;241m*\u001b[39m\u001b[38;5;241m2\u001b[39m, \u001b[38;5;241m2\u001b[39m)))\n\u001b[1;32m   1172\u001b[0m \u001b[38;5;66;03m# In case of `mat`, convert result to `array`\u001b[39;00m\n\u001b[0;32m-> 1173\u001b[0m result \u001b[38;5;241m=\u001b[39m \u001b[43m_nx\u001b[49m\u001b[38;5;241;43m.\u001b[39;49m\u001b[43mmultiply\u001b[49m\u001b[43m(\u001b[49m\u001b[43ma_arr\u001b[49m\u001b[43m,\u001b[49m\u001b[43m \u001b[49m\u001b[43mb_arr\u001b[49m\u001b[43m,\u001b[49m\u001b[43m \u001b[49m\u001b[43msubok\u001b[49m\u001b[38;5;241;43m=\u001b[39;49m\u001b[43m(\u001b[49m\u001b[38;5;129;43;01mnot\u001b[39;49;00m\u001b[43m \u001b[49m\u001b[43mis_any_mat\u001b[49m\u001b[43m)\u001b[49m\u001b[43m)\u001b[49m\n\u001b[1;32m   1175\u001b[0m \u001b[38;5;66;03m# Reshape back\u001b[39;00m\n\u001b[1;32m   1176\u001b[0m result \u001b[38;5;241m=\u001b[39m result\u001b[38;5;241m.\u001b[39mreshape(_nx\u001b[38;5;241m.\u001b[39mmultiply(as_, bs))\n",
      "\u001b[0;31mKeyboardInterrupt\u001b[0m: "
     ]
    }
   ],
   "source": [
    "np.linalg.norm(u_gc3 - circ_boost.unitary()* np.exp(1j *np.pi/4*880))"
   ]
  },
  {
   "cell_type": "markdown",
   "metadata": {},
   "source": [
    "# Alternate way is much slower"
   ]
  },
  {
   "cell_type": "code",
   "execution_count": null,
   "metadata": {},
   "outputs": [
    {
     "name": "stderr",
     "output_type": "stream",
     "text": [
      "[Qibo 0.2.9|WARNING|2024-06-07 17:32:13]: Calculating the dense form of a symbolic Hamiltonian. This operation is memory inefficient.\n",
      "WARNING:qibo.config:Calculating the dense form of a symbolic Hamiltonian. This operation is memory inefficient.\n"
     ]
    }
   ],
   "source": [
    "dm = d.dense.matrix"
   ]
  },
  {
   "cell_type": "code",
   "execution_count": null,
   "metadata": {},
   "outputs": [],
   "source": [
    "v_vqe = vqe.circuit.unitary()"
   ]
  },
  {
   "cell_type": "code",
   "execution_count": null,
   "metadata": {},
   "outputs": [],
   "source": [
    "h_vqe = v_vqe.conj().T @ hamiltonian.matrix @ v_vqe\n",
    "h_vqe_ham = hamiltonians.Hamiltonian(nqubits = config[\"nqubits\"],matrix=h_vqe)"
   ]
  },
  {
   "cell_type": "code",
   "execution_count": null,
   "metadata": {},
   "outputs": [],
   "source": [
    "from copy import deepcopy\n",
    "dbi = DoubleBracketIteration(\n",
    "    hamiltonian=deepcopy(h_vqe_ham),\n",
    "    mode=DoubleBracketGeneratorType.group_commutator_3,\n",
    ")\n",
    "import inspect\n",
    "inspect.getfile(dbi.__class__)\n",
    "\n",
    "step = 0.12\n",
    "\n",
    "u_gc3 = dbi.eval_dbr_unitary(step,d=dm)\n",
    "h_gc3_exposed = hamiltonians.Hamiltonian(matrix = u_gc3.conj().T @ deepcopy(h_vqe_ham).matrix @ u_gc3, nqubits= config[\"nqubits\"] )\n",
    "\n",
    "dbi(0.12,d=dm)\n",
    "energy_dbi_gc3 = dbi.h.expectation(zero_state_t)\n",
    "energy_dbi_gc3_exposed = h_gc3_exposed.expectation(zero_state_t)"
   ]
  },
  {
   "cell_type": "code",
   "execution_count": null,
   "metadata": {},
   "outputs": [],
   "source": [
    "u1 = dbi.h.exp(-step * (np.sqrt(5) - 1) / 2)\n",
    "u2 = dbi.backend.calculate_matrix_exp(-step * (np.sqrt(5) - 1) / 2, dm)\n",
    "u3 = dbi.h.exp(step)\n",
    "u4 = dbi.backend.calculate_matrix_exp(step * (np.sqrt(5) + 1) / 2, dm)\n",
    "u5 = dbi.h.exp(-step * (3 - np.sqrt(5)) / 2)\n",
    "u6 = dbi.backend.calculate_matrix_exp(-step, dm)\n",
    "\n",
    "u_gc3_by_hand = u1 @ u2 @ u3 @ u4 @ u5 @ u6\n",
    "h_gc3_by_hand = hamiltonians.Hamiltonian(matrix = u_gc3_by_hand.conj().T @ deepcopy(h_vqe_ham).matrix @ u_gc3_by_hand, nqubits= config[\"nqubits\"] )\n",
    "\n",
    "energy_dbi_gc3_by_hand = h_gc3_by_hand.expectation(zero_state_t)\n",
    "print(ene1)\n",
    "print(energy_dbi_gc3)"
   ]
  },
  {
   "cell_type": "markdown",
   "metadata": {},
   "source": [
    "# Runs too long to bother to wait when casting to numpy"
   ]
  },
  {
   "cell_type": "code",
   "execution_count": null,
   "metadata": {},
   "outputs": [
    {
     "ename": "KeyboardInterrupt",
     "evalue": "",
     "output_type": "error",
     "traceback": [
      "\u001b[0;31m---------------------------------------------------------------------------\u001b[0m",
      "\u001b[0;31mKeyboardInterrupt\u001b[0m                         Traceback (most recent call last)",
      "Cell \u001b[0;32mIn[80], line 3\u001b[0m\n\u001b[1;32m      1\u001b[0m v1 \u001b[38;5;241m=\u001b[39m v_vqe\u001b[38;5;241m.\u001b[39mconj()\u001b[38;5;241m.\u001b[39mT \u001b[38;5;241m@\u001b[39m v1_circ\u001b[38;5;241m.\u001b[39munitary() \u001b[38;5;241m@\u001b[39m v_vqe\n\u001b[1;32m      2\u001b[0m v2 \u001b[38;5;241m=\u001b[39m v_vqe\u001b[38;5;241m.\u001b[39mconj()\u001b[38;5;241m.\u001b[39mT \u001b[38;5;241m@\u001b[39m v2_circ\u001b[38;5;241m.\u001b[39munitary()\u001b[38;5;241m@\u001b[39m v_vqe\n\u001b[0;32m----> 3\u001b[0m v3 \u001b[38;5;241m=\u001b[39m v_vqe\u001b[38;5;241m.\u001b[39mconj()\u001b[38;5;241m.\u001b[39mT \u001b[38;5;241m@\u001b[39m \u001b[43mv3_circ\u001b[49m\u001b[38;5;241;43m.\u001b[39;49m\u001b[43munitary\u001b[49m\u001b[43m(\u001b[49m\u001b[43m)\u001b[49m\u001b[38;5;241m@\u001b[39m v_vqe\n\u001b[1;32m      5\u001b[0m u_gc3_by_hand_from_circ \u001b[38;5;241m=\u001b[39m v1 \u001b[38;5;241m@\u001b[39m vd1_circ\u001b[38;5;241m.\u001b[39munitary() \u001b[38;5;241m@\u001b[39m v2 \u001b[38;5;241m@\u001b[39m vd2_circ\u001b[38;5;241m.\u001b[39munitary() \u001b[38;5;241m@\u001b[39m v3 \u001b[38;5;241m@\u001b[39m vd3_circ\u001b[38;5;241m.\u001b[39munitary()\n\u001b[1;32m      6\u001b[0m h_gc3_by_hand_from_circ \u001b[38;5;241m=\u001b[39m hamiltonians\u001b[38;5;241m.\u001b[39mHamiltonian(\n\u001b[1;32m      7\u001b[0m     matrix \u001b[38;5;241m=\u001b[39m u_gc3_by_hand_from_circ\u001b[38;5;241m.\u001b[39mconj()\u001b[38;5;241m.\u001b[39mT \u001b[38;5;241m@\u001b[39m deepcopy(h_vqe_ham)\u001b[38;5;241m.\u001b[39mmatrix \u001b[38;5;241m@\u001b[39m u_gc3_by_hand_from_circ )\n",
      "File \u001b[0;32m~/Projectes_git/qibo/src/qibo/models/circuit.py:1033\u001b[0m, in \u001b[0;36mCircuit.unitary\u001b[0;34m(self, backend)\u001b[0m\n\u001b[1;32m   1031\u001b[0m     \u001b[38;5;28;01melif\u001b[39;00m \u001b[38;5;129;01mnot\u001b[39;00m \u001b[38;5;28misinstance\u001b[39m(gate, (gates\u001b[38;5;241m.\u001b[39mSpecialGate, gates\u001b[38;5;241m.\u001b[39mM)):\n\u001b[1;32m   1032\u001b[0m         fgate\u001b[38;5;241m.\u001b[39mappend(gate)\n\u001b[0;32m-> 1033\u001b[0m \u001b[38;5;28;01mreturn\u001b[39;00m \u001b[43mfgate\u001b[49m\u001b[38;5;241;43m.\u001b[39;49m\u001b[43mmatrix\u001b[49m\u001b[43m(\u001b[49m\u001b[43mbackend\u001b[49m\u001b[43m)\u001b[49m\n",
      "File \u001b[0;32m~/Projectes_git/qibo/src/qibo/gates/special.py:109\u001b[0m, in \u001b[0;36mFusedGate.matrix\u001b[0;34m(self, backend)\u001b[0m\n\u001b[1;32m     99\u001b[0m \u001b[38;5;250m\u001b[39m\u001b[38;5;124;03m\"\"\"Returns matrix representation of special gate.\u001b[39;00m\n\u001b[1;32m    100\u001b[0m \n\u001b[1;32m    101\u001b[0m \u001b[38;5;124;03mArgs:\u001b[39;00m\n\u001b[0;32m   (...)\u001b[0m\n\u001b[1;32m    105\u001b[0m \u001b[38;5;124;03m    ndarray: Matrix representation of special gate.\u001b[39;00m\n\u001b[1;32m    106\u001b[0m \u001b[38;5;124;03m\"\"\"\u001b[39;00m\n\u001b[1;32m    107\u001b[0m backend \u001b[38;5;241m=\u001b[39m _check_backend(backend)\n\u001b[0;32m--> 109\u001b[0m \u001b[38;5;28;01mreturn\u001b[39;00m \u001b[43mbackend\u001b[49m\u001b[38;5;241;43m.\u001b[39;49m\u001b[43mmatrix_fused\u001b[49m\u001b[43m(\u001b[49m\u001b[38;5;28;43mself\u001b[39;49m\u001b[43m)\u001b[49m\n",
      "File \u001b[0;32m~/Projectes_git/qibo/src/qibo/backends/numpy.py:133\u001b[0m, in \u001b[0;36mNumpyBackend.matrix_fused\u001b[0;34m(self, fgate)\u001b[0m\n\u001b[1;32m    130\u001b[0m \u001b[38;5;66;03m# Kronecker product with identity is needed to make the\u001b[39;00m\n\u001b[1;32m    131\u001b[0m \u001b[38;5;66;03m# original matrix have shape (2**rank x 2**rank)\u001b[39;00m\n\u001b[1;32m    132\u001b[0m eye \u001b[38;5;241m=\u001b[39m np\u001b[38;5;241m.\u001b[39meye(\u001b[38;5;241m2\u001b[39m \u001b[38;5;241m*\u001b[39m\u001b[38;5;241m*\u001b[39m (rank \u001b[38;5;241m-\u001b[39m \u001b[38;5;28mlen\u001b[39m(gate\u001b[38;5;241m.\u001b[39mqubits)))\n\u001b[0;32m--> 133\u001b[0m gmatrix \u001b[38;5;241m=\u001b[39m \u001b[43mnp\u001b[49m\u001b[38;5;241;43m.\u001b[39;49m\u001b[43mkron\u001b[49m\u001b[43m(\u001b[49m\u001b[43mgmatrix\u001b[49m\u001b[43m,\u001b[49m\u001b[43m \u001b[49m\u001b[43meye\u001b[49m\u001b[43m)\u001b[49m\n\u001b[1;32m    134\u001b[0m \u001b[38;5;66;03m# Transpose the new matrix indices so that it targets the\u001b[39;00m\n\u001b[1;32m    135\u001b[0m \u001b[38;5;66;03m# target qubits of the original gate\u001b[39;00m\n\u001b[1;32m    136\u001b[0m original_shape \u001b[38;5;241m=\u001b[39m gmatrix\u001b[38;5;241m.\u001b[39mshape\n",
      "File \u001b[0;32m/usr/lib/python3/dist-packages/numpy/lib/shape_base.py:1173\u001b[0m, in \u001b[0;36mkron\u001b[0;34m(a, b)\u001b[0m\n\u001b[1;32m   1171\u001b[0m b_arr \u001b[38;5;241m=\u001b[39m expand_dims(b_arr, axis\u001b[38;5;241m=\u001b[39m\u001b[38;5;28mtuple\u001b[39m(\u001b[38;5;28mrange\u001b[39m(\u001b[38;5;241m0\u001b[39m, nd\u001b[38;5;241m*\u001b[39m\u001b[38;5;241m2\u001b[39m, \u001b[38;5;241m2\u001b[39m)))\n\u001b[1;32m   1172\u001b[0m \u001b[38;5;66;03m# In case of `mat`, convert result to `array`\u001b[39;00m\n\u001b[0;32m-> 1173\u001b[0m result \u001b[38;5;241m=\u001b[39m \u001b[43m_nx\u001b[49m\u001b[38;5;241;43m.\u001b[39;49m\u001b[43mmultiply\u001b[49m\u001b[43m(\u001b[49m\u001b[43ma_arr\u001b[49m\u001b[43m,\u001b[49m\u001b[43m \u001b[49m\u001b[43mb_arr\u001b[49m\u001b[43m,\u001b[49m\u001b[43m \u001b[49m\u001b[43msubok\u001b[49m\u001b[38;5;241;43m=\u001b[39;49m\u001b[43m(\u001b[49m\u001b[38;5;129;43;01mnot\u001b[39;49;00m\u001b[43m \u001b[49m\u001b[43mis_any_mat\u001b[49m\u001b[43m)\u001b[49m\u001b[43m)\u001b[49m\n\u001b[1;32m   1175\u001b[0m \u001b[38;5;66;03m# Reshape back\u001b[39;00m\n\u001b[1;32m   1176\u001b[0m result \u001b[38;5;241m=\u001b[39m result\u001b[38;5;241m.\u001b[39mreshape(_nx\u001b[38;5;241m.\u001b[39mmultiply(as_, bs))\n",
      "\u001b[0;31mKeyboardInterrupt\u001b[0m: "
     ]
    }
   ],
   "source": [
    "v1 = v_vqe.conj().T @ v1_circ.unitary() @ v_vqe\n",
    "v2 = v_vqe.conj().T @ v2_circ.unitary()@ v_vqe\n",
    "v3 = v_vqe.conj().T @ v3_circ.unitary()@ v_vqe\n",
    "\n",
    "u_gc3_by_hand_from_circ = v1 @ vd1_circ.unitary() @ v2 @ vd2_circ.unitary() @ v3 @ vd3_circ.unitary()\n",
    "h_gc3_by_hand_from_circ = hamiltonians.Hamiltonian(\n",
    "    matrix = u_gc3_by_hand_from_circ.conj().T @ deepcopy(h_vqe_ham).matrix @ u_gc3_by_hand_from_circ )\n",
    "energy_dbi_gc3_by_hand = h_gc3_by_hand_from_circ.expectation(zero_state_t)\n",
    "print(energy_dbi_gc3_by_hand)"
   ]
  },
  {
   "cell_type": "code",
   "execution_count": null,
   "metadata": {},
   "outputs": [],
   "source": []
  },
  {
   "cell_type": "code",
   "execution_count": null,
   "metadata": {},
   "outputs": [
    {
     "name": "stderr",
     "output_type": "stream",
     "text": [
      "[Qibo 0.2.9|WARNING|2024-06-07 17:57:27]: Calculating the dense form of a symbolic Hamiltonian. This operation is memory inefficient.\n",
      "WARNING:qibo.config:Calculating the dense form of a symbolic Hamiltonian. This operation is memory inefficient.\n"
     ]
    },
    {
     "data": {
      "text/plain": [
       "4.9065389333867974e-18"
      ]
     },
     "metadata": {},
     "output_type": "display_data"
    }
   ],
   "source": [
    "c = Circuit(nqubits=2)\n",
    "c.add(gates.RZ(0, theta = step))\n",
    "c.add(gates.RZ(1, theta = 1.2*step))\n",
    "ddd = hamiltonians.SymbolicHamiltonian(symbols.Z(0)+1.2*symbols.Z(1), nqubits=2)\n",
    "np.linalg.norm(ddd.exp(step/2) - c.unitary())"
   ]
  },
  {
   "cell_type": "code",
   "execution_count": null,
   "metadata": {},
   "outputs": [
    {
     "name": "stderr",
     "output_type": "stream",
     "text": [
      "[Qibo 0.2.9|WARNING|2024-06-10 18:56:18]: Calculating the dense form of a symbolic Hamiltonian. This operation is memory inefficient.\n",
      "WARNING:qibo.config:Calculating the dense form of a symbolic Hamiltonian. This operation is memory inefficient.\n"
     ]
    },
    {
     "data": {
      "text/plain": [
       "1.8075301951460534e-14"
      ]
     },
     "execution_count": 31,
     "metadata": {},
     "output_type": "execute_result"
    }
   ],
   "source": [
    "np.linalg.norm(d.exp(1)-d.circuit(1).unitary())"
   ]
  },
  {
   "cell_type": "code",
   "execution_count": null,
   "metadata": {},
   "outputs": [
    {
     "name": "stdout",
     "output_type": "stream",
     "text": [
      "0.1\n",
      "-0.17370846444809196\n",
      "0.11000000000000001\n",
      "-0.1858758485760017\n",
      "0.12000000000000001\n",
      "-0.19209367273542632\n",
      "0.13\n",
      "-0.19163474209593012\n",
      "0.14\n",
      "-0.18406164639815614\n"
     ]
    }
   ],
   "source": [
    "        \n",
    "for t in np.linspace(.1,.14,5):\n",
    "    for mode  in [DoubleBracketGeneratorType.group_commutator_3]:        \n",
    "        print (t)\n",
    "        dbi(t,d=dm, mode = mode)\n",
    "        print(dbi.h.expectation(zero_state_t)-ene1)\n",
    "        dbi.h = deepcopy(h_vqe_ham)"
   ]
  },
  {
   "cell_type": "code",
   "execution_count": null,
   "metadata": {},
   "outputs": [],
   "source": []
  },
  {
   "cell_type": "code",
   "execution_count": null,
   "metadata": {},
   "outputs": [
    {
     "data": {
      "text/plain": [
       "-14.751809336151513"
      ]
     },
     "execution_count": 90,
     "metadata": {},
     "output_type": "execute_result"
    }
   ],
   "source": [
    "\n"
   ]
  },
  {
   "cell_type": "code",
   "execution_count": null,
   "metadata": {},
   "outputs": [
    {
     "data": {
      "text/plain": [
       "-0.17370846444809196"
      ]
     },
     "execution_count": 67,
     "metadata": {},
     "output_type": "execute_result"
    }
   ],
   "source": [
    "_ - ene1"
   ]
  },
  {
   "cell_type": "code",
   "execution_count": null,
   "metadata": {},
   "outputs": [],
   "source": []
  },
  {
   "cell_type": "code",
   "execution_count": null,
   "metadata": {},
   "outputs": [],
   "source": []
  },
  {
   "cell_type": "code",
   "execution_count": null,
   "metadata": {},
   "outputs": [],
   "source": []
  },
  {
   "cell_type": "code",
   "execution_count": null,
   "metadata": {},
   "outputs": [],
   "source": [
    "u_gc3_CNOT = v1 @ u2 @ v2  @ u4 @ v3 @ u6\n"
   ]
  },
  {
   "cell_type": "code",
   "execution_count": null,
   "metadata": {},
   "outputs": [],
   "source": [
    "\n",
    "dbi2 = DoubleBracketIteration(\n",
    "    hamiltonian=hamiltonians.Hamiltonian(matrix = u_gc3_CNOT.conj().T @ deepcopy(h_vqe_ham).matrix @ u_gc3_CNOT, nqubits = config[\"nqubits\"]),\n",
    "    mode=DoubleBracketGeneratorType.single_commutator,\n",
    ")"
   ]
  },
  {
   "cell_type": "code",
   "execution_count": null,
   "metadata": {},
   "outputs": [
    {
     "data": {
      "text/plain": [
       "-14.74579723717103"
      ]
     },
     "execution_count": 87,
     "metadata": {},
     "output_type": "execute_result"
    }
   ],
   "source": [
    "dbi2.h.expectation(zero_state_t)"
   ]
  },
  {
   "cell_type": "code",
   "execution_count": null,
   "metadata": {},
   "outputs": [
    {
     "data": {
      "text/plain": [
       "-0.18562264311544752"
      ]
     },
     "execution_count": 88,
     "metadata": {},
     "output_type": "execute_result"
    }
   ],
   "source": [
    "_ - ene1"
   ]
  },
  {
   "cell_type": "markdown",
   "metadata": {},
   "source": [
    "$\\langle 0| V_1\\dagger U_\\theta^\\dagger  H_0 U_\\theta V_1 |0\\rangle$\n",
    "\n",
    "$|dbqa \\rangle = U_\\theta V_1 |0\\rangle$"
   ]
  },
  {
   "cell_type": "code",
   "execution_count": null,
   "metadata": {},
   "outputs": [],
   "source": []
  },
  {
   "cell_type": "code",
   "execution_count": null,
   "metadata": {},
   "outputs": [],
   "source": []
  },
  {
   "cell_type": "code",
   "execution_count": null,
   "metadata": {},
   "outputs": [
    {
     "name": "stdout",
     "output_type": "stream",
     "text": [
      "0.001\n",
      "0.03049416970667984\n",
      "0.001\n",
      "-2.93783569489392e-05\n",
      "0.0505\n",
      "3.1454674430590615\n",
      "0.0505\n",
      "-0.06606296647770904\n",
      "0.1\n",
      "7.074245955138497\n",
      "0.1\n",
      "-0.17370846444809196\n"
     ]
    }
   ],
   "source": [
    "        \n",
    "for t in np.linspace(.001,.1,3):\n",
    "    for mode  in [DoubleBracketGeneratorType.single_commutator, DoubleBracketGeneratorType.group_commutator_3]:\n",
    "        \n",
    "        print (t)\n",
    "        dbi(t,d=dm, mode = mode)\n",
    "        print(dbi.h.expectation(zero_state_t)-ene1)\n",
    "        dbi.h = deepcopy(h_vqe_ham)"
   ]
  },
  {
   "cell_type": "code",
   "execution_count": null,
   "metadata": {},
   "outputs": [],
   "source": []
  },
  {
   "cell_type": "code",
   "execution_count": null,
   "metadata": {},
   "outputs": [
    {
     "name": "stdout",
     "output_type": "stream",
     "text": [
      "0.001\n",
      "-0.02824536086750129\n",
      "0.001\n",
      "2.9380340411222505e-05\n",
      "0.009250000000000001\n",
      "-0.1680169705742678\n",
      "0.009250000000000001\n",
      "0.0025178786739274983\n",
      "0.0175\n",
      "-0.12216196003698343\n",
      "0.0175\n",
      "0.00904829844227173\n",
      "0.025750000000000002\n",
      "0.12697893245887215\n",
      "0.025750000000000002\n",
      "0.019708017902930308\n",
      "0.034\n",
      "0.5809235629930072\n",
      "0.034\n",
      "0.03461163575132886\n",
      "0.04225\n",
      "1.2225916652057816\n",
      "0.04225\n",
      "0.0538671984955581\n",
      "0.0505\n",
      "2.0170847723539627\n",
      "0.0505\n",
      "0.07753647566399202\n",
      "0.058750000000000004\n",
      "2.9158127725243492\n",
      "0.058750000000000004\n",
      "0.1055948106119633\n",
      "0.067\n",
      "3.863256246756647\n",
      "0.067\n",
      "0.13789621831791443\n",
      "0.07525000000000001\n",
      "4.804975983893996\n",
      "0.07525000000000001\n",
      "0.1741487964359827\n",
      "0.0835\n",
      "5.695149857470556\n",
      "0.0835\n",
      "0.2139042537835767\n",
      "0.09175\n",
      "6.502038526684503\n",
      "0.09175\n",
      "0.2565636208389197\n",
      "0.1\n",
      "7.210326149454998\n",
      "0.1\n",
      "0.30139922935152264\n"
     ]
    }
   ],
   "source": [
    "        \n",
    "for t in np.linspace(.001,.1,13):\n",
    "    for mode  in [DoubleBracketGeneratorType.single_commutator, DoubleBracketGeneratorType.group_commutator_3]:\n",
    "        \n",
    "        print (t)\n",
    "        dbi(t,d=-dm, mode = mode)\n",
    "        print(dbi.h.expectation(zero_state_t)-ene1)\n",
    "        dbi.h = deepcopy(h_vqe_ham)"
   ]
  },
  {
   "cell_type": "markdown",
   "metadata": {},
   "source": [
    "## We need to schedule unitaries such as this one below\n",
    "\n",
    "This later needs to be generalized to the GC3 PR from Andrew to get the same performance\n",
    "\n"
   ]
  },
  {
   "cell_type": "code",
   "execution_count": null,
   "metadata": {},
   "outputs": [],
   "source": [
    "def u_gcr(h,d,t):\n",
    "    ud =  d.exp(t)\n",
    "    u = h.exp(-t)\n",
    "    return     ud.conj().T @ u @ud\n"
   ]
  },
  {
   "cell_type": "code",
   "execution_count": null,
   "metadata": {},
   "outputs": [
    {
     "name": "stdout",
     "output_type": "stream",
     "text": [
      "5.329070518200751e-15\n",
      "3.963354089364657e-10\n",
      "1.5823502508283127e-09\n"
     ]
    }
   ],
   "source": [
    "for t in np.linspace(1e-9,1e-6,3):\n",
    "    u_gcrd = u_gcr(h_vqe_ham,d,t)\n",
    "    print(h_vqe_ham.expectation(u_gcrd@zero_state_t)-ene1)"
   ]
  },
  {
   "cell_type": "markdown",
   "metadata": {},
   "source": [
    "- This doesn't work now. It's better to have the correct expose dbr unitary and then take the exposed unitaries and compare to compiled circuits.\n"
   ]
  },
  {
   "cell_type": "markdown",
   "metadata": {},
   "source": [
    "If someone picks it up:\n",
    "- please try to find the correct scheduling as above\n",
    "- then expose the unitaries\n",
    "- and then use the XXZ decomposition function to replace h.exp(-t) by a circuit"
   ]
  },
  {
   "cell_type": "markdown",
   "metadata": {},
   "source": []
  }
 ],
 "metadata": {
  "kernelspec": {
   "display_name": "Python 3",
   "language": "python",
   "name": "python3"
  },
  "language_info": {
   "codemirror_mode": {
    "name": "ipython",
    "version": 3
   },
   "file_extension": ".py",
   "mimetype": "text/x-python",
   "name": "python",
   "nbconvert_exporter": "python",
   "pygments_lexer": "ipython3",
   "version": "3.12.3"
  }
 },
 "nbformat": 4,
 "nbformat_minor": 2
}
