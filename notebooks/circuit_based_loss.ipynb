{
 "cells": [
  {
   "cell_type": "markdown",
   "metadata": {},
   "source": [
    "# Tutorial on using the classes for transpiling DBQA strategies into various types of double-bracket rotations (DBRs)\n",
    "\n",
    "## 1. VQE results are loaded\n",
    "## 2. The GC3 DBR is shown using explicit circuits obtained from more basic and special purpose functions\n",
    "## 3. The same is done using the `GroupCommutatorIterationWithEvolutionOracles` class\n",
    "### 3.1. It is shown how to perform more steps of the GCI. \n",
    "Using the class approach one can just change `mode_double_bracket_rotation=DoubleBracketRotationType.group_commutator_third_order_reduced` to a different type and same code will run."
   ]
  },
  {
   "cell_type": "code",
   "execution_count": 1,
   "metadata": {},
   "outputs": [],
   "source": [
    "import json\n",
    "import time\n",
    "from pathlib import Path\n",
    "\n",
    "import numpy as np\n",
    "import qibo\n",
    "from qibo import hamiltonians, set_backend\n",
    "from boostvqe.models.dbi.double_bracket import (\n",
    "    DoubleBracketGeneratorType,\n",
    "    DoubleBracketIteration,\n",
    ")\n",
    "\n",
    "from boostvqe.ansatze import VQE, build_circuit\n",
    "from boostvqe.utils import apply_dbi_steps, rotate_h_with_vqe\n",
    "from qibo import symbols, hamiltonians\n",
    "from copy import deepcopy\n",
    "from boostvqe.compiling_XXZ import *\n",
    "\n",
    "import matplotlib.pyplot as plt"
   ]
  },
  {
   "cell_type": "markdown",
   "metadata": {},
   "source": [
    "## 1. Loading VQE results"
   ]
  },
  {
   "cell_type": "code",
   "execution_count": 2,
   "metadata": {},
   "outputs": [
    {
     "name": "stderr",
     "output_type": "stream",
     "text": [
      "[Qibo 0.2.9|INFO|2024-06-14 14:11:37]: Using numpy backend on /CPU:0\n",
      "INFO:qibo.config:Using numpy backend on /CPU:0\n",
      "[Qibo 0.2.9|INFO|2024-06-14 14:11:38]: Using numpy backend on /CPU:0\n",
      "INFO:qibo.config:Using numpy backend on /CPU:0\n"
     ]
    },
    {
     "name": "stdout",
     "output_type": "stream",
     "text": [
      "In the VQE numpy\n"
     ]
    }
   ],
   "source": [
    "\n",
    "qibo.set_backend(\"numpy\")\n",
    "\n",
    "# set the path string which define the results\n",
    "path = \"../results/vqe_data/with_params/10q3l/sgd_10q_3l_42/\"\n",
    "\n",
    "# set the target epoch to which apply DBQA and the number of steps\n",
    "target_epoch = 2000\n",
    "dbi_steps = 1\n",
    "\n",
    "# upload system configuration and parameters for all the training\n",
    "with open(path + \"optimization_results.json\") as file:\n",
    "    config = json.load(file)\n",
    "\n",
    "losses = dict(np.load(path + \"energies.npz\"))[\"0\"]\n",
    "params = np.load(path + f\"parameters/params_ite{target_epoch}.npy\")\n",
    "\n",
    "nqubits = config[\"nqubits\"]\n",
    "# build circuit, hamiltonian and VQE\n",
    "hamiltonian = hamiltonians.XXZ(nqubits=nqubits, delta=0.5)\n",
    "circuit = build_circuit(nqubits, config[\"nlayers\"], \"numpy\")\n",
    "vqe = VQE(circuit, hamiltonian)\n",
    "zero_state = hamiltonian.backend.zero_state(nqubits)\n",
    "zero_state_t = np.transpose([zero_state])\n",
    "target_energy = np.min(hamiltonian.eigenvalues())\n",
    "\n",
    "\n",
    "# set target parameters into the VQE\n",
    "vqe.circuit.set_parameters(params)\n",
    "vqe_state = vqe.circuit().state()\n",
    "\n",
    "ene1 = hamiltonian.expectation(vqe_state)\n"
   ]
  },
  {
   "cell_type": "code",
   "execution_count": 3,
   "metadata": {},
   "outputs": [
    {
     "name": "stdout",
     "output_type": "stream",
     "text": [
      "VQE energy is -14.560174594055583. \n",
      "The target energy is -15.276131122065795 which means the difference is 0.7159565280102118.\n",
      "The relative difference is 4.69%.\n"
     ]
    }
   ],
   "source": [
    "print(f\"VQE energy is {ene1}. \\n\\\n",
    "The target energy is {target_energy} which means the difference is {ene1-target_energy}.\\n\\\n",
    "The relative difference is {round(abs(ene1-target_energy)/abs(target_energy)*100,2)}%.\")"
   ]
  },
  {
   "cell_type": "markdown",
   "metadata": {},
   "source": [
    "# 2. Circuits by hand showing 1 GCI 3 step we want to compile\n",
    "$D= \\sum_i B_i Z_i$\n",
    "and Group commutator"
   ]
  },
  {
   "cell_type": "code",
   "execution_count": 4,
   "metadata": {},
   "outputs": [
    {
     "name": "stdout",
     "output_type": "stream",
     "text": [
      "After boosting we have -14.7495 which is an improvement 0.1893 over VQE with -14.560174594055583. \n",
      "The target energy is -15.276131122065795 which means the difference after GCI is 0.5266.\n",
      "The relative difference is 3.45%      and was 4.69%.\n"
     ]
    },
    {
     "data": {
      "text/plain": [
       "[<matplotlib.lines.Line2D at 0x7a89d27ab860>]"
      ]
     },
     "execution_count": 4,
     "metadata": {},
     "output_type": "execute_result"
    },
    {
     "data": {
      "image/png": "[encoded data removed]",
      "text/plain": [
       "<Figure size 640x480 with 1 Axes>"
      ]
     },
     "metadata": {},
     "output_type": "display_data"
    }
   ],
   "source": [
    "b_list = [1+np.sin(x) for x in np.linspace(-1,1,nqubits) ]\n",
    "#b_list = np.random.rand(nqubits)\n",
    "d = hamiltonians.SymbolicHamiltonian( sum([b*symbols.Z(j) for j,b in zip(range(nqubits),b_list)]))\n",
    "\n",
    "step = 0.12\n",
    "u2_circ = deepcopy(d).circuit( -step * (np.sqrt(5) - 1) / 2 ) \n",
    "u4_circ = deepcopy(d).circuit( step * (np.sqrt(5) + 1) / 2 )\n",
    "u6_circ = deepcopy(d).circuit( -step  ) \n",
    "\n",
    "vqe_circ = vqe.circuit\n",
    "vqe_circ_inv = vqe_circ.invert()\n",
    "nmb_ts_steps = 1\n",
    "u1_circ = vqe_circ +nqubit_XXZ_decomposition(nqubits=nqubits,t=-step * (np.sqrt(5) - 1) / 2,delta=0.5,steps=nmb_ts_steps, order = 2)+vqe_circ_inv \n",
    "u3_circ = vqe_circ +nqubit_XXZ_decomposition(nqubits=nqubits,t= step ,delta=0.5,steps=nmb_ts_steps, order = 2)+vqe_circ_inv \n",
    "u5_circ = vqe_circ +nqubit_XXZ_decomposition(nqubits=nqubits,t=-step * (3 - np.sqrt(5)) / 2,delta=0.5,steps=nmb_ts_steps, order = 2)+vqe_circ_inv \n",
    "\n",
    "\n",
    "\n",
    "circ_boost = (  u6_circ + u5_circ + u4_circ + u3_circ + u2_circ +vqe_circ )\n",
    "\n",
    "ket_boost = circ_boost(initial_state=zero_state)\n",
    "gci3_loss = hamiltonian.expectation(ket_boost.state()) \n",
    "print(f\"After boosting we have {np.round(gci3_loss,4)} which is an improvement {np.round(ene1-gci3_loss,4)} over VQE with {ene1}. \\n\\\n",
    "The target energy is {target_energy} which means the difference after GCI is {np.round(gci3_loss-target_energy,4)}.\\n\\\n",
    "The relative difference is {np.round(abs(gci3_loss-target_energy)/abs(target_energy)*100,2)}%\\\n",
    "      and was {np.round(abs(ene1-target_energy)/abs(target_energy)*100,2)}%.\")\n",
    "\n",
    "plt.plot(b_list)"
   ]
  },
  {
   "cell_type": "code",
   "execution_count": null,
   "metadata": {},
   "outputs": [],
   "source": []
  },
  {
   "cell_type": "code",
   "execution_count": 5,
   "metadata": {},
   "outputs": [
    {
     "name": "stdout",
     "output_type": "stream",
     "text": [
      "The boosting circuit used 90 CNOT gates coming from compiled XXZ evolution.\n",
      "       For 10 qubits this gives n_CNOT/n_qubits = 9.0\n"
     ]
    }
   ],
   "source": [
    "t=0\n",
    "for g in circ_boost.queue:\n",
    "    if isinstance(g, qibo.gates.gates.CNOT):\n",
    "        t = t +1\n",
    "print(f\"The boosting circuit used {t} CNOT gates coming from compiled XXZ evolution.\\n\\\n",
    "       For {nqubits} qubits this gives n_CNOT/n_qubits = {t/nqubits}\")"
   ]
  },
  {
   "cell_type": "code",
   "execution_count": 6,
   "metadata": {},
   "outputs": [
    {
     "name": "stdout",
     "output_type": "stream",
     "text": [
      "The boosting circuit used 150 CZ gates coming from repeated wrapping by the VQE unitary.\n",
      "       For 10 qubits this gives n_CZ/n_qubits = 15.0\n"
     ]
    }
   ],
   "source": [
    "t=0\n",
    "for g in circ_boost.queue:\n",
    "    if isinstance(g, qibo.gates.gates.CZ):\n",
    "        t = t +1\n",
    "print(f\"The boosting circuit used {t} CZ gates coming from repeated wrapping by the VQE unitary.\\n\\\n",
    "       For {nqubits} qubits this gives n_CZ/n_qubits = {t/nqubits}\")"
   ]
  },
  {
   "cell_type": "code",
   "execution_count": 7,
   "metadata": {},
   "outputs": [
    {
     "data": {
      "text/plain": [
       "30"
      ]
     },
     "execution_count": 7,
     "metadata": {},
     "output_type": "execute_result"
    }
   ],
   "source": [
    "t=0\n",
    "for g in vqe.circuit.queue:\n",
    "    if isinstance(g, qibo.gates.gates.CZ):\n",
    "        t = t +1\n",
    "t"
   ]
  },
  {
   "cell_type": "markdown",
   "metadata": {},
   "source": [
    "# 3. How to use the transpiling code"
   ]
  },
  {
   "cell_type": "code",
   "execution_count": 8,
   "metadata": {},
   "outputs": [
    {
     "ename": "TypeError",
     "evalue": "'Hamiltonian' object cannot be interpreted as an integer",
     "output_type": "error",
     "traceback": [
      "\u001b[0;31m---------------------------------------------------------------------------\u001b[0m",
      "\u001b[0;31mTypeError\u001b[0m                                 Traceback (most recent call last)",
      "Cell \u001b[0;32mIn[8], line 9\u001b[0m\n\u001b[1;32m      7\u001b[0m hamiltonian\u001b[38;5;241m.\u001b[39mdelta \u001b[38;5;241m=\u001b[39m \u001b[38;5;241m0.5\u001b[39m\n\u001b[1;32m      8\u001b[0m hamiltonian\u001b[38;5;241m.\u001b[39mdense \u001b[38;5;241m=\u001b[39m hamiltonian\n\u001b[0;32m----> 9\u001b[0m eo_xxz \u001b[38;5;241m=\u001b[39m \u001b[43mXXZ_EvolutionOracle\u001b[49m\u001b[43m(\u001b[49m\u001b[43mhamiltonian\u001b[49m\u001b[43m,\u001b[49m\u001b[43mmode_evolution_oracle\u001b[49m\u001b[38;5;241;43m=\u001b[39;49m\u001b[43mEvolutionOracleType\u001b[49m\u001b[38;5;241;43m.\u001b[39;49m\u001b[43mnumerical\u001b[49m\u001b[43m,\u001b[49m\u001b[43m \u001b[49m\u001b[43msteps\u001b[49m\u001b[43m \u001b[49m\u001b[38;5;241;43m=\u001b[39;49m\u001b[43m \u001b[49m\u001b[38;5;241;43m1\u001b[39;49m\u001b[43m,\u001b[49m\u001b[43m \u001b[49m\u001b[43morder\u001b[49m\u001b[43m \u001b[49m\u001b[38;5;241;43m=\u001b[39;49m\u001b[43m \u001b[49m\u001b[38;5;241;43m2\u001b[39;49m\u001b[43m)\u001b[49m\n\u001b[1;32m     10\u001b[0m eo_xxz\u001b[38;5;241m.\u001b[39mmode_evolution_oracle\u001b[38;5;241m=\u001b[39mEvolutionOracleType\u001b[38;5;241m.\u001b[39mhamiltonian_simulation\n\u001b[1;32m     11\u001b[0m \u001b[38;5;66;03m#hack end\u001b[39;00m\n\u001b[1;32m     12\u001b[0m \n\u001b[1;32m     13\u001b[0m \u001b[38;5;66;03m# prescribe nmb of steps, otherwise there will be casting to dense and searching for a step duration (this can later be avoided with @shangtai non-classical simulation PR)\u001b[39;00m\n",
      "File \u001b[0;32m~/Projectes_git/boostvqe/src/boostvqe/models/dbi/double_bracket_evolution_oracles.py:263\u001b[0m, in \u001b[0;36mXXZ_EvolutionOracle.__init__\u001b[0;34m(self, nqubits, name, mode_evolution_oracle, steps, order, delta)\u001b[0m\n\u001b[1;32m    253\u001b[0m \u001b[38;5;28;01mdef\u001b[39;00m \u001b[38;5;21m__init__\u001b[39m(\n\u001b[1;32m    254\u001b[0m     \u001b[38;5;28mself\u001b[39m,\n\u001b[1;32m    255\u001b[0m     nqubits,\n\u001b[0;32m   (...)\u001b[0m\n\u001b[1;32m    260\u001b[0m     delta \u001b[38;5;241m=\u001b[39m \u001b[38;5;241m0.5\u001b[39m        \n\u001b[1;32m    261\u001b[0m ):\n\u001b[1;32m    262\u001b[0m     \u001b[38;5;28msuper\u001b[39m()\u001b[38;5;241m.\u001b[39m\u001b[38;5;21m__init__\u001b[39m(            \n\u001b[0;32m--> 263\u001b[0m     \u001b[43mXXZ_EvolutionOracle\u001b[49m\u001b[38;5;241;43m.\u001b[39;49m\u001b[43mxxz_symbolic\u001b[49m\u001b[43m(\u001b[49m\u001b[43mnqubits\u001b[49m\u001b[43m,\u001b[49m\u001b[43m \u001b[49m\u001b[43mdelta\u001b[49m\u001b[43m \u001b[49m\u001b[38;5;241;43m=\u001b[39;49m\u001b[43m \u001b[49m\u001b[43mdelta\u001b[49m\u001b[43m)\u001b[49m,\n\u001b[1;32m    264\u001b[0m     name,\n\u001b[1;32m    265\u001b[0m     mode_evolution_oracle\n\u001b[1;32m    266\u001b[0m     )\n\u001b[1;32m    268\u001b[0m     \u001b[38;5;28;01mif\u001b[39;00m steps \u001b[38;5;129;01mis\u001b[39;00m \u001b[38;5;28;01mNone\u001b[39;00m:\n\u001b[1;32m    269\u001b[0m         \u001b[38;5;28mself\u001b[39m\u001b[38;5;241m.\u001b[39msteps \u001b[38;5;241m=\u001b[39m \u001b[38;5;241m1\u001b[39m\n",
      "File \u001b[0;32m~/Projectes_git/boostvqe/src/boostvqe/models/dbi/double_bracket_evolution_oracles.py:296\u001b[0m, in \u001b[0;36mXXZ_EvolutionOracle.xxz_symbolic\u001b[0;34m(nqubits, delta)\u001b[0m\n\u001b[1;32m    293\u001b[0m \u001b[38;5;129m@staticmethod\u001b[39m\n\u001b[1;32m    294\u001b[0m \u001b[38;5;28;01mdef\u001b[39;00m \u001b[38;5;21mxxz_symbolic\u001b[39m(nqubits, delta \u001b[38;5;241m=\u001b[39m \u001b[38;5;241m0.5\u001b[39m):\n\u001b[1;32m    295\u001b[0m     \u001b[38;5;28;01mreturn\u001b[39;00m SymbolicHamiltonian(\n\u001b[0;32m--> 296\u001b[0m                         \u001b[38;5;28msum\u001b[39m([ symbols\u001b[38;5;241m.\u001b[39mX(j)\u001b[38;5;241m*\u001b[39msymbols\u001b[38;5;241m.\u001b[39mX(j\u001b[38;5;241m+\u001b[39m\u001b[38;5;241m1\u001b[39m) \u001b[38;5;241m+\u001b[39m symbols\u001b[38;5;241m.\u001b[39mY(j)\u001b[38;5;241m*\u001b[39msymbols\u001b[38;5;241m.\u001b[39mY(j\u001b[38;5;241m+\u001b[39m\u001b[38;5;241m1\u001b[39m) \u001b[38;5;241m+\u001b[39mdelta\u001b[38;5;241m*\u001b[39msymbols\u001b[38;5;241m.\u001b[39mZ(j)\u001b[38;5;241m*\u001b[39msymbols\u001b[38;5;241m.\u001b[39mZ(j\u001b[38;5;241m+\u001b[39m\u001b[38;5;241m1\u001b[39m) \u001b[38;5;28;01mfor\u001b[39;00m j \u001b[38;5;129;01min\u001b[39;00m \u001b[38;5;28;43mrange\u001b[39;49m\u001b[43m(\u001b[49m\u001b[43mnqubits\u001b[49m\u001b[38;5;241;43m-\u001b[39;49m\u001b[38;5;241;43m1\u001b[39;49m\u001b[43m)\u001b[49m] \n\u001b[1;32m    297\u001b[0m                             \u001b[38;5;241m+\u001b[39m [ symbols\u001b[38;5;241m.\u001b[39mX(nqubits\u001b[38;5;241m-\u001b[39m\u001b[38;5;241m1\u001b[39m)\u001b[38;5;241m*\u001b[39msymbols\u001b[38;5;241m.\u001b[39mX(\u001b[38;5;241m0\u001b[39m) \u001b[38;5;241m+\u001b[39m symbols\u001b[38;5;241m.\u001b[39mY(nqubits\u001b[38;5;241m-\u001b[39m\u001b[38;5;241m1\u001b[39m)\u001b[38;5;241m*\u001b[39msymbols\u001b[38;5;241m.\u001b[39mY(\u001b[38;5;241m0\u001b[39m) \u001b[38;5;241m+\u001b[39mdelta\u001b[38;5;241m*\u001b[39msymbols\u001b[38;5;241m.\u001b[39mZ(nqubits\u001b[38;5;241m-\u001b[39m\u001b[38;5;241m1\u001b[39m)\u001b[38;5;241m*\u001b[39msymbols\u001b[38;5;241m.\u001b[39mZ(\u001b[38;5;241m0\u001b[39m)]),\n\u001b[1;32m    298\u001b[0m                             nqubits\u001b[38;5;241m=\u001b[39m nqubits\n\u001b[1;32m    299\u001b[0m                         )\n",
      "\u001b[0;31mTypeError\u001b[0m: 'Hamiltonian' object cannot be interpreted as an integer"
     ]
    }
   ],
   "source": [
    "step = 0.12\n",
    "\n",
    "from boostvqe.models.dbi.group_commutator_iteration_transpiler import *\n",
    "from boostvqe.models.dbi.double_bracket_evolution_oracles import *\n",
    "\n",
    "# quick hack how to use the method function hamiltonians.XXZ to get a simulable oracle\n",
    "hamiltonian.delta = 0.5\n",
    "hamiltonian.dense = hamiltonian\n",
    "eo_xxz = XXZ_EvolutionOracle(hamiltonian,mode_evolution_oracle=EvolutionOracleType.numerical, steps = 1, order = 2)\n",
    "eo_xxz.mode_evolution_oracle=EvolutionOracleType.hamiltonian_simulation\n",
    "#hack end\n",
    "\n",
    "# prescribe nmb of steps, otherwise there will be casting to dense and searching for a step duration (this can later be avoided with @shangtai non-classical simulation PR)\n",
    "eo_xxz.please_use_prescribed_nmb_ts_steps = 1\n",
    "\n",
    "# implement the rotate by VQE on the level of circuits\n",
    "fsoe  = FrameShiftedEvolutionOracle(eo_xxz, before_circuit=vqe.circuit.invert(), \n",
    "                after_circuit=vqe.circuit,name=\"shifting by vqe\")\n",
    "\n",
    "# init gci with the vqe-rotated hamiltonian\n",
    "gci  = GroupCommutatorIterationWithEvolutionOracles(input_hamiltonian_evolution_oracle=fsoe, \n",
    "        mode_double_bracket_rotation=DoubleBracketRotationType.group_commutator_third_order_reduced)\n",
    "\n",
    "# init the generator of the evolution,\n",
    "#  this is quite simple - just pass a diagonal SymbolicHamiltonian \n",
    "# and because it will be commuting we can use the member function circuit for compiling\n",
    "eo_d = EvolutionOracle(d,mode_evolution_oracle=EvolutionOracleType.hamiltonian_simulation,name = \"D(linear)\")\n",
    "eo_d.please_use_prescribed_nmb_ts_steps = 1\n",
    "\n",
    "# above we didn't gauge the time \\approx e^{x^2 [D,H]} but gci approximates e^{-sW} so takes a square root\n",
    "circ_boost = (  gci.group_commutator(step**2, eo_d)[\"forwards\"] +vqe_circ )\n",
    "\n",
    "hamiltonian.expectation(circ_boost().state()) "
   ]
  },
  {
   "cell_type": "code",
   "execution_count": null,
   "metadata": {},
   "outputs": [
    {
     "data": {
      "text/plain": [
       "-14.749515449118626"
      ]
     },
     "execution_count": 9,
     "metadata": {},
     "output_type": "execute_result"
    }
   ],
   "source": [
    "#above the group_commutator just gives a circuit - we can propagte this forward by the equivalent\n",
    "gci(step**2, eo_d)\n",
    "circ_boost = gci.get_composed_circuit()\n",
    "\n",
    "hamiltonian.expectation(circ_boost().state()) "
   ]
  },
  {
   "cell_type": "code",
   "execution_count": null,
   "metadata": {},
   "outputs": [
    {
     "data": {
      "text/plain": [
       "-14.749515449118626"
      ]
     },
     "execution_count": 10,
     "metadata": {},
     "output_type": "execute_result"
    }
   ],
   "source": [
    "circ_boost = gci.get_composed_circuit()\n",
    "\n",
    "hamiltonian.expectation(circ_boost().state()) "
   ]
  },
  {
   "cell_type": "code",
   "execution_count": null,
   "metadata": {},
   "outputs": [],
   "source": [
    "def loss(circ,h):\n",
    "    return h.expectation(circ().state()) "
   ]
  },
  {
   "cell_type": "code",
   "execution_count": null,
   "metadata": {},
   "outputs": [],
   "source": [
    "losses = []\n",
    "times = np.linspace(0.1,0.3,310)\n",
    "for s in times:\n",
    "    losses.append(loss(gci.group_commutator(s, eo_d)[\"forwards\"]+circ_boost,hamiltonian))"
   ]
  },
  {
   "cell_type": "code",
   "execution_count": null,
   "metadata": {},
   "outputs": [
    {
     "data": {
      "text/plain": [
       "([<matplotlib.axis.XTick at 0x75e462859970>],\n",
       " [Text(16.666666666666664, 0, '16.67')])"
      ]
     },
     "execution_count": 22,
     "metadata": {},
     "output_type": "execute_result"
    },
    {
     "data": {
      "image/png": "[encoded data removed]",
      "text/plain": [
       "<Figure size 640x480 with 1 Axes>"
      ]
     },
     "metadata": {},
     "output_type": "display_data"
    }
   ],
   "source": [
    "plt.plot(times,losses)\n",
    "plt.yticks([losses[0],losses[np.argmin(losses)]])\n",
    "plt.xticks([times[np.argmin(losses)]])"
   ]
  },
  {
   "cell_type": "code",
   "execution_count": null,
   "metadata": {},
   "outputs": [],
   "source": [
    "losses = []\n",
    "times = np.linspace(10,30,31)\n",
    "for s in times:\n",
    "    losses.append(loss(gci.group_commutator(s, eo_d)[\"forwards\"]+circ_boost,hamiltonian))\n",
    "plt.plot(times,losses)\n",
    "plt.yticks([losses[0],losses[np.argmin(losses)]])\n",
    "plt.xticks([times[np.argmin(losses)]])"
   ]
  },
  {
   "cell_type": "code",
   "execution_count": null,
   "metadata": {},
   "outputs": [
    {
     "data": {
      "text/plain": [
       "-14.81184144754536"
      ]
     },
     "execution_count": 14,
     "metadata": {},
     "output_type": "execute_result"
    }
   ],
   "source": [
    "gci(times[np.argmin(losses)], eo_d)\n",
    "circ_boost = gci.iterated_hamiltonian_evolution_oracle.get_composed_circuit()\n",
    "\n",
    "hamiltonian.expectation(circ_boost().state()) "
   ]
  },
  {
   "cell_type": "code",
   "execution_count": null,
   "metadata": {},
   "outputs": [],
   "source": [
    "losses = []\n",
    "times = np.linspace(0,0.03,10)\n",
    "for s in times:\n",
    "    losses.append(loss(gci.group_commutator(s, eo_d)[\"forwards\"]+circ_boost,hamiltonian))"
   ]
  },
  {
   "cell_type": "code",
   "execution_count": null,
   "metadata": {},
   "outputs": [
    {
     "data": {
      "text/plain": [
       "([<matplotlib.axis.XTick at 0x75e462858920>],\n",
       " [Text(0.006666666666666666, 0, '0.00667')])"
      ]
     },
     "execution_count": 16,
     "metadata": {},
     "output_type": "execute_result"
    },
    {
     "data": {
      "image/png": "[encoded data removed]",
      "text/plain": [
       "<Figure size 640x480 with 1 Axes>"
      ]
     },
     "metadata": {},
     "output_type": "display_data"
    }
   ],
   "source": [
    "plt.plot(times,losses)\n",
    "plt.yticks([losses[0],losses[np.argmin(losses)]])\n",
    "plt.xticks([times[np.argmin(losses)]])"
   ]
  },
  {
   "cell_type": "code",
   "execution_count": null,
   "metadata": {},
   "outputs": [],
   "source": [
    "\n"
   ]
  }
 ],
 "metadata": {
  "kernelspec": {
   "display_name": "Python 3",
   "language": "python",
   "name": "python3"
  },
  "language_info": {
   "codemirror_mode": {
    "name": "ipython",
    "version": 3
   },
   "file_extension": ".py",
   "mimetype": "text/x-python",
   "name": "python",
   "nbconvert_exporter": "python",
   "pygments_lexer": "ipython3",
   "version": "3.12.3"
  }
 },
 "nbformat": 4,
 "nbformat_minor": 2
}
