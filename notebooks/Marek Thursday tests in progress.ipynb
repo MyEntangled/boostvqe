{
 "cells": [
  {
   "cell_type": "code",
   "execution_count": 1,
   "metadata": {},
   "outputs": [
    {
     "name": "stderr",
     "output_type": "stream",
     "text": [
      "[Qibo 0.2.9|INFO|2024-06-06 13:44:32]: Using numpy backend on /CPU:0\n",
      "INFO:qibo.config:Using numpy backend on /CPU:0\n",
      "[Qibo 0.2.9|INFO|2024-06-06 13:44:33]: Using numpy backend on /CPU:0\n",
      "INFO:qibo.config:Using numpy backend on /CPU:0\n"
     ]
    },
    {
     "name": "stdout",
     "output_type": "stream",
     "text": [
      "In the VQE numpy\n"
     ]
    }
   ],
   "source": [
    "import json\n",
    "import time\n",
    "from pathlib import Path\n",
    "\n",
    "import numpy as np\n",
    "import qibo\n",
    "from qibo import hamiltonians, set_backend\n",
    "from qibo.models.dbi.double_bracket import (\n",
    "    DoubleBracketGeneratorType,\n",
    "    DoubleBracketIteration,\n",
    ")\n",
    "\n",
    "from boostvqe.ansatze import VQE, build_circuit\n",
    "from boostvqe.utils import apply_dbi_steps, rotate_h_with_vqe\n",
    "\n",
    "qibo.set_backend(\"numpy\")\n",
    "\n",
    "# set the path string which define the results\n",
    "path = \"../results/vqe_data/with_params/10q3l/sgd_10q_3l_42/\"\n",
    "\n",
    "# set the target epoch to which apply DBQA and the number of steps\n",
    "target_epoch = 2000\n",
    "dbi_steps = 1\n",
    "\n",
    "# upload system configuration and parameters for all the training\n",
    "with open(path + \"optimization_results.json\") as file:\n",
    "    config = json.load(file)\n",
    "\n",
    "losses = dict(np.load(path + \"energies.npz\"))[\"0\"]\n",
    "params = np.load(path + f\"parameters/params_ite{target_epoch}.npy\")\n",
    "\n",
    "\n",
    "# build circuit, hamiltonian and VQE\n",
    "hamiltonian = hamiltonians.XXZ(nqubits=config[\"nqubits\"], delta=0.5)\n",
    "circuit = build_circuit(config[\"nqubits\"], config[\"nlayers\"], \"numpy\")\n",
    "vqe = VQE(circuit, hamiltonian)\n",
    "zero_state = hamiltonian.backend.zero_state(config[\"nqubits\"])\n",
    "zero_state_t = np.transpose([zero_state])\n",
    "target_energy = np.min(hamiltonian.eigenvalues())\n",
    "\n",
    "\n",
    "# set target parameters into the VQE\n",
    "vqe.circuit.set_parameters(params)\n",
    "vqe_state = vqe.circuit().state()\n",
    "\n",
    "ene1 = hamiltonian.expectation(vqe_state)\n"
   ]
  },
  {
   "cell_type": "code",
   "execution_count": 3,
   "metadata": {},
   "outputs": [],
   "source": [
    "v_vqe = vqe.circuit.unitary()"
   ]
  },
  {
   "cell_type": "code",
   "execution_count": 2,
   "metadata": {},
   "outputs": [
    {
     "data": {
      "text/plain": [
       "0.0"
      ]
     },
     "execution_count": 2,
     "metadata": {},
     "output_type": "execute_result"
    }
   ],
   "source": [
    "new_hamiltonian_matrix = rotate_h_with_vqe(hamiltonian=hamiltonian, vqe=vqe)\n",
    "new_hamiltonian = hamiltonians.Hamiltonian(\n",
    "    config[\"nqubits\"], matrix=new_hamiltonian_matrix\n",
    ")\n",
    "\n",
    "np.linalg.norm(hamiltonian.matrix-new_hamiltonian.matrix)"
   ]
  },
  {
   "cell_type": "code",
   "execution_count": 15,
   "metadata": {},
   "outputs": [],
   "source": [
    "h_vqe = v_vqe.conj().T @ hamiltonian.matrix @ v_vqe\n",
    "h_vqe_ham = hamiltonians.Hamiltonian(nqubits = config[\"nqubits\"],matrix=h_vqe)"
   ]
  },
  {
   "cell_type": "code",
   "execution_count": 5,
   "metadata": {},
   "outputs": [
    {
     "data": {
      "text/plain": [
       "224.18868358763476"
      ]
     },
     "execution_count": 5,
     "metadata": {},
     "output_type": "execute_result"
    }
   ],
   "source": [
    "\n",
    "np.linalg.norm(hamiltonian.matrix-h_vqe)"
   ]
  },
  {
   "cell_type": "code",
   "execution_count": 6,
   "metadata": {},
   "outputs": [],
   "source": [
    "from qibo import symbols, hamiltonians\n",
    "d = hamiltonians.SymbolicHamiltonian( sum([b*symbols.Z(j) for j,b in zip(range(config[\"nqubits\"]),np.linspace(-1,1,config[\"nqubits\"]))]))"
   ]
  },
  {
   "cell_type": "code",
   "execution_count": 7,
   "metadata": {},
   "outputs": [
    {
     "name": "stdout",
     "output_type": "stream",
     "text": [
      "-14.560174594055583\n"
     ]
    }
   ],
   "source": []
  },
  {
   "cell_type": "code",
   "execution_count": 16,
   "metadata": {},
   "outputs": [
    {
     "name": "stdout",
     "output_type": "stream",
     "text": [
      "-14.560174594055578\n"
     ]
    }
   ],
   "source": [
    "print(h_vqe_ham.expectation(zero_state_t))"
   ]
  },
  {
   "cell_type": "code",
   "execution_count": 17,
   "metadata": {},
   "outputs": [
    {
     "data": {
      "text/plain": [
       "-15.276131122065795"
      ]
     },
     "execution_count": 17,
     "metadata": {},
     "output_type": "execute_result"
    }
   ],
   "source": [
    "target_energy"
   ]
  },
  {
   "cell_type": "code",
   "execution_count": 27,
   "metadata": {},
   "outputs": [
    {
     "name": "stderr",
     "output_type": "stream",
     "text": [
      "[Qibo 0.2.9|WARNING|2024-06-06 13:56:47]: Calculating the dense form of a symbolic Hamiltonian. This operation is memory inefficient.\n",
      "WARNING:qibo.config:Calculating the dense form of a symbolic Hamiltonian. This operation is memory inefficient.\n"
     ]
    }
   ],
   "source": [
    "dm = d.dense.matrix"
   ]
  },
  {
   "cell_type": "code",
   "execution_count": 21,
   "metadata": {},
   "outputs": [],
   "source": [
    "from copy import deepcopy\n",
    "dbi = DoubleBracketIteration(\n",
    "    hamiltonian=deepcopy(h_vqe_ham),\n",
    "    mode=DoubleBracketGeneratorType.single_commutator,\n",
    ")\n"
   ]
  },
  {
   "cell_type": "code",
   "execution_count": 25,
   "metadata": {},
   "outputs": [
    {
     "data": {
      "text/plain": [
       "-14.560174594055578"
      ]
     },
     "execution_count": 25,
     "metadata": {},
     "output_type": "execute_result"
    }
   ],
   "source": [
    "dbi.h.expectation(zero_state_t)"
   ]
  },
  {
   "cell_type": "code",
   "execution_count": 26,
   "metadata": {},
   "outputs": [
    {
     "name": "stdout",
     "output_type": "stream",
     "text": [
      "-14.782805005074469\n"
     ]
    }
   ],
   "source": [
    "\n",
    "for t in [0.01]:\n",
    "    dbi(t)\n",
    "    print(dbi.h.expectation(zero_state_t))\n",
    "    dbi.h = deepcopy(h_vqe_ham)"
   ]
  },
  {
   "cell_type": "code",
   "execution_count": null,
   "metadata": {},
   "outputs": [],
   "source": [
    "def u_gcr(h,d,t):\n",
    "    ud =  d.exp(t)\n",
    "    u = h.exp(t)\n",
    "    return     ud.conj().T @ u @ud\n"
   ]
  },
  {
   "cell_type": "code",
   "execution_count": 32,
   "metadata": {},
   "outputs": [
    {
     "data": {
      "text/plain": [
       "-1.4827471249442334"
      ]
     },
     "execution_count": 32,
     "metadata": {},
     "output_type": "execute_result"
    }
   ],
   "source": [
    "h_vqe_ham.expectation(u_gcr(h_vqe_ham,d,np.sqrt(0.01))@zero_state_t)"
   ]
  },
  {
   "cell_type": "code",
   "execution_count": null,
   "metadata": {},
   "outputs": [],
   "source": [
    "h_vqe_ham.expectation(u_gcr(h_vqe_ham,d,np.sqrt(0.01))@zero_state_t)"
   ]
  },
  {
   "cell_type": "code",
   "execution_count": null,
   "metadata": {},
   "outputs": [],
   "source": [
    "\n",
    "# DBQA stuff\n",
    "t0 = time.time()\n",
    "print(\"Rotating with VQE\")\n",
    "new_hamiltonian_matrix = rotate_h_with_vqe(hamiltonian=hamiltonian, vqe=vqe)\n",
    "new_hamiltonian = hamiltonians.Hamiltonian(\n",
    "    config[\"nqubits\"], matrix=new_hamiltonian_matrix\n",
    ")\n",
    "print(time.time() - t0)\n"
   ]
  },
  {
   "cell_type": "code",
   "execution_count": null,
   "metadata": {},
   "outputs": [],
   "source": [
    "t = 0.01\n",
    "s = np.sqrt(t)"
   ]
  },
  {
   "cell_type": "code",
   "execution_count": 33,
   "metadata": {},
   "outputs": [
    {
     "data": {
      "text/plain": [
       "-15.276131122065795"
      ]
     },
     "execution_count": 33,
     "metadata": {},
     "output_type": "execute_result"
    }
   ],
   "source": [
    "target_energy"
   ]
  },
  {
   "cell_type": "code",
   "execution_count": null,
   "metadata": {},
   "outputs": [],
   "source": [
    "ene1"
   ]
  },
  {
   "cell_type": "code",
   "execution_count": null,
   "metadata": {},
   "outputs": [],
   "source": [
    "from qibo import hamiltonians\n",
    "import numpy as np\n",
    "from boostvqe.compiling_XXZ import *\n",
    "\n",
    "steps = 1\n",
    "delta=0.5\n",
    "\n",
    "\n",
    "h_xxz = hamiltonians.XXZ(nqubits=config[\"nqubits\"], delta = delta)\n",
    "u = h_xxz.exp(t)\n"
   ]
  },
  {
   "cell_type": "code",
   "execution_count": null,
   "metadata": {},
   "outputs": [],
   "source": [
    "from qibo import symbols, hamiltonians\n",
    "d = hamiltonians.SymbolicHamiltonian( sum([symbols.Z(j) for j in range(config[\"nqubits\"])]))\n",
    "circ_d = d.circuit(s)\n",
    "ud = circ_d.unitary()"
   ]
  },
  {
   "cell_type": "code",
   "execution_count": null,
   "metadata": {},
   "outputs": [],
   "source": [
    "from qibo import symbols, hamiltonians\n",
    "dtest = hamiltonians.SymbolicHamiltonian( sum([symbols.Z(j) for j in range(config[\"nqubits\"])])).dense\n",
    "ud =  dtest.exp(-0.1)"
   ]
  },
  {
   "cell_type": "code",
   "execution_count": null,
   "metadata": {},
   "outputs": [],
   "source": []
  },
  {
   "cell_type": "code",
   "execution_count": null,
   "metadata": {},
   "outputs": [],
   "source": []
  },
  {
   "cell_type": "code",
   "execution_count": null,
   "metadata": {},
   "outputs": [],
   "source": [
    "u2 = h_xxz.exp(t*np.sqrt(5))"
   ]
  },
  {
   "cell_type": "code",
   "execution_count": null,
   "metadata": {},
   "outputs": [],
   "source": [
    "print(h_xxz.expectation(ud.conj().T@u2@ud@u2@u_gcr@ vqe_state))"
   ]
  },
  {
   "cell_type": "code",
   "execution_count": null,
   "metadata": {},
   "outputs": [],
   "source": [
    "circ = nqubit_XXZ_decomposition(nqubits=config[\"nqubits\"],t=t,delta=delta,steps=steps)\n",
    "v = circ.unitary()\n",
    "\n"
   ]
  },
  {
   "cell_type": "code",
   "execution_count": null,
   "metadata": {},
   "outputs": [],
   "source": [
    "u = v@v"
   ]
  },
  {
   "cell_type": "code",
   "execution_count": null,
   "metadata": {},
   "outputs": [],
   "source": [
    "circ = nqubit_XXZ_decomposition(nqubits=config[\"nqubits\"],t=t * np.sqrt(5),delta=delta,steps=steps)\n",
    "v2 = circ.unitary()"
   ]
  },
  {
   "cell_type": "code",
   "execution_count": null,
   "metadata": {},
   "outputs": [],
   "source": [
    "def try_to_speed_up_GC3( v,v2,d):\n",
    "    return  (\n",
    "    v@ v2.conj().T\n",
    "    @ self.backend.calculate_matrix_exp(-step * (np.sqrt(5) - 1) / 2, d)\n",
    "    @ v\n",
    "    @ self.backend.calculate_matrix_exp(step * (np.sqrt(5) + 1) / 2, d)\n",
    "    @ v.conj().T @  v.conj().T @v.conj().T @ v2.conj().T\n",
    "    @ self.backend.calculate_matrix_exp(-step, d)\n",
    ")\n"
   ]
  },
  {
   "cell_type": "code",
   "execution_count": null,
   "metadata": {},
   "outputs": [],
   "source": [
    "from qibo import symbols, hamiltonians\n",
    "d = hamiltonians.SymbolicHamiltonian( sum([symbols.Z(j) for j in range(config[\"nqubits\"])])).dense"
   ]
  },
  {
   "cell_type": "code",
   "execution_count": null,
   "metadata": {},
   "outputs": [],
   "source": [
    "from qibo.models.dbi.utils import *\n",
    "\n",
    "pauli_operator_dict = generate_pauli_operator_dict(config[\"nqubits\"], 1)\n",
    "pauli_operators = list(pauli_operator_dict.values())\n",
    "d_coef_pauli = np.ones(config[\"nqubits\"])\n",
    "d_coef_pauli = d_coef_pauli + np.random.rand(len(d_coef_pauli))\n",
    "d_pauli = sum([d_coef_pauli[i] * pauli_operators[i] for i in range(len(d_coef_pauli))])\n"
   ]
  },
  {
   "cell_type": "code",
   "execution_count": null,
   "metadata": {},
   "outputs": [],
   "source": [
    "np.linalg.norm(d_pauli - d)"
   ]
  },
  {
   "cell_type": "code",
   "execution_count": null,
   "metadata": {},
   "outputs": [],
   "source": [
    "q = try_to_speed_up_GC3(v,v2,dbi.)"
   ]
  },
  {
   "cell_type": "code",
   "execution_count": null,
   "metadata": {},
   "outputs": [],
   "source": [
    "def expose_gci3(self, step)\n",
    "    return = (\n",
    "    self.h.exp(-step * (np.sqrt(5) - 1) / 2)\n",
    "    @ self.backend.calculate_matrix_exp(-step * (np.sqrt(5) - 1) / 2, d)\n",
    "    @ self.h.exp(step)\n",
    "    @ self.backend.calculate_matrix_exp(step * (np.sqrt(5) + 1) / 2, d)\n",
    "    @ self.h.exp(-step * (3 - np.sqrt(5)) / 2)\n",
    "    @ self.backend.calculate_matrix_exp(-step, d)\n",
    ")\n",
    "\n"
   ]
  },
  {
   "cell_type": "code",
   "execution_count": null,
   "metadata": {},
   "outputs": [],
   "source": [
    "u =expose_gci3(dbi,np.sqrt(t))\n"
   ]
  },
  {
   "cell_type": "code",
   "execution_count": null,
   "metadata": {},
   "outputs": [],
   "source": [
    "\n",
    "dbi = DoubleBracketIteration(\n",
    "    hamiltonian=new_hamiltonian,\n",
    "    mode=DoubleBracketGeneratorType.group_commutator_3,\n",
    ")\n",
    "\n",
    "zero_state_t = np.transpose([zero_state])\n",
    "energy_h0 = float(dbi.h.expectation(np.array(zero_state_t)))\n",
    "fluctuations_h0 = float(dbi.h.energy_fluctuation(zero_state_t))\n"
   ]
  },
  {
   "cell_type": "code",
   "execution_count": null,
   "metadata": {},
   "outputs": [],
   "source": [
    "dbi(0.1)"
   ]
  },
  {
   "cell_type": "code",
   "execution_count": null,
   "metadata": {},
   "outputs": [],
   "source": [
    "d = dbi.diagonal_h_matrix\n",
    "dbi.backend.calculate_matrix_exp(-0.1,d)"
   ]
  },
  {
   "cell_type": "code",
   "execution_count": null,
   "metadata": {},
   "outputs": [],
   "source": [
    "dbi.backend.calculate_matrix_exp(-0.1,dbi.h.matrix)"
   ]
  },
  {
   "cell_type": "code",
   "execution_count": null,
   "metadata": {},
   "outputs": [],
   "source": [
    "new_hamiltonian.exp(0.1)"
   ]
  },
  {
   "cell_type": "code",
   "execution_count": null,
   "metadata": {},
   "outputs": [],
   "source": [
    "print(fluctuations_h0)\n",
    "print(energy_h0)"
   ]
  },
  {
   "cell_type": "code",
   "execution_count": null,
   "metadata": {},
   "outputs": [],
   "source": [
    "dbi.loss(0.01)"
   ]
  },
  {
   "cell_type": "code",
   "execution_count": null,
   "metadata": {},
   "outputs": [],
   "source": [
    "\n",
    "print(\"Applying DBI steps\")\n",
    "\n",
    "print(time.time() - t0)\n",
    "print(\n",
    "    f\"\\nReached accuracy before DBI at iter {target_epoch}: {np.abs(target_energy - ene1)}\"\n",
    ")\n",
    "print(\n",
    "    f\"Reached accuracy after DBI at iter {target_epoch}: {np.abs(target_energy - dbi_energies[-1])}\"\n",
    ")\n",
    "print(\n",
    "    f\"Reached accuracy in the end of VQE long training: {np.abs(target_energy - losses[-1])}\"\n",
    ")\n"
   ]
  },
  {
   "cell_type": "code",
   "execution_count": null,
   "metadata": {},
   "outputs": [],
   "source": []
  }
 ],
 "metadata": {
  "kernelspec": {
   "display_name": "Python 3",
   "language": "python",
   "name": "python3"
  },
  "language_info": {
   "codemirror_mode": {
    "name": "ipython",
    "version": 3
   },
   "file_extension": ".py",
   "mimetype": "text/x-python",
   "name": "python",
   "nbconvert_exporter": "python",
   "pygments_lexer": "ipython3",
   "version": "3.12.3"
  }
 },
 "nbformat": 4,
 "nbformat_minor": 2
}
