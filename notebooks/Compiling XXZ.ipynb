{
 "cells": [
  {
   "cell_type": "code",
   "execution_count": 19,
   "id": "dcb949ba",
   "metadata": {},
   "outputs": [],
   "source": [
    "from qibo.models.variational import VQE\n",
    "# from boostvqe.ansatze import build_circuit\n",
    "from qibo import hamiltonians, Circuit,gates\n",
    "from pathlib import Path\n",
    "import numpy as np\n",
    "import scipy"
   ]
  },
  {
   "cell_type": "code",
   "execution_count": 5,
   "id": "27b93b77",
   "metadata": {},
   "outputs": [
    {
     "name": "stderr",
     "output_type": "stream",
     "text": [
      "[Qibo 0.2.8|INFO|2024-05-31 12:35:50]: Using numpy backend on /CPU:0\n"
     ]
    }
   ],
   "source": [
    "h_xxz = hamiltonians.XXZ(nqubits=2)\n"
   ]
  },
  {
   "cell_type": "code",
   "execution_count": 43,
   "id": "2057722c",
   "metadata": {},
   "outputs": [],
   "source": [
    "q_i = 0\n",
    "q_ip1 = 1\n",
    "t= 1\n",
    "gamma = -t\n",
    "beta = -2*t\n",
    "alpha = -2*t\n"
   ]
  },
  {
   "cell_type": "code",
   "execution_count": 44,
   "id": "19497f9c",
   "metadata": {},
   "outputs": [
    {
     "name": "stdout",
     "output_type": "stream",
     "text": [
      "q0: ────X─RZ─o────X─RZ─\n",
      "q1: ─RZ─o─RY─X─RY─o────\n"
     ]
    }
   ],
   "source": [
    "circuit = Circuit(nqubits=2)\n",
    "circuit.add(gates.RZ(q_ip1, -np.pi/2))\n",
    "circuit.add(gates.CNOT(q_ip1, q_i))\n",
    "circuit.add(gates.RZ(q_i, -2*gamma + np.pi/2))\n",
    "circuit.add(gates.RY(q_ip1, -np.pi/2+2*alpha))\n",
    "circuit.add(gates.CNOT(q_i, q_ip1))\n",
    "circuit.add(gates.RY(q_ip1, -2*beta + np.pi/2))\n",
    "circuit.add(gates.CNOT(q_ip1, q_i))\n",
    "circuit.add(gates.RZ(q_i, np.pi/2))\n",
    "print(circuit.draw())"
   ]
  },
  {
   "cell_type": "code",
   "execution_count": 45,
   "id": "7df54d32",
   "metadata": {},
   "outputs": [],
   "source": [
    "u = h_xxz.exp(t)"
   ]
  },
  {
   "cell_type": "code",
   "execution_count": 46,
   "id": "abb9eb03",
   "metadata": {},
   "outputs": [
    {
     "name": "stdout",
     "output_type": "stream",
     "text": [
      "[[-2.12958415e-01-9.77061264e-01j  0.00000000e+00+0.00000000e+00j\n",
      "   0.00000000e+00+0.00000000e+00j -1.96261557e-17+5.88784672e-17j]\n",
      " [ 0.00000000e+00+0.00000000e+00j -6.38649862e-01-1.39198910e-01j\n",
      "  -1.61167460e-01+7.39442403e-01j  0.00000000e+00+0.00000000e+00j]\n",
      " [ 0.00000000e+00+0.00000000e+00j -1.61167460e-01+7.39442403e-01j\n",
      "  -6.38649862e-01-1.39198910e-01j  0.00000000e+00+0.00000000e+00j]\n",
      " [ 1.96261557e-17+1.96261557e-17j  0.00000000e+00+0.00000000e+00j\n",
      "   0.00000000e+00+0.00000000e+00j -2.12958415e-01-9.77061264e-01j]]\n",
      "[[ 0.54030231-0.84147098j  0.        +0.j          0.        +0.j\n",
      "   0.        +0.j        ]\n",
      " [ 0.        +0.j         -0.35316516-0.55002214j -0.63682734+0.40890213j\n",
      "   0.        +0.j        ]\n",
      " [ 0.        +0.j         -0.63682734+0.40890213j -0.35316516-0.55002214j\n",
      "   0.        +0.j        ]\n",
      " [ 0.        +0.j          0.        +0.j          0.        +0.j\n",
      "   0.54030231-0.84147098j]]\n"
     ]
    },
    {
     "data": {
      "text/plain": [
       "9.461354227335467e-16"
      ]
     },
     "execution_count": 46,
     "metadata": {},
     "output_type": "execute_result"
    }
   ],
   "source": [
    "v = circuit.unitary()\n",
    "print(v)\n",
    "print(u)\n",
    "np.linalg.norm(u-(1+1j)*v/np.sqrt(2))"
   ]
  }
 ],
 "metadata": {
  "kernelspec": {
   "display_name": "Python 3 (ipykernel)",
   "language": "python",
   "name": "python3"
  },
  "language_info": {
   "codemirror_mode": {
    "name": "ipython",
    "version": 3
   },
   "file_extension": ".py",
   "mimetype": "text/x-python",
   "name": "python",
   "nbconvert_exporter": "python",
   "pygments_lexer": "ipython3",
   "version": "3.9.13"
  }
 },
 "nbformat": 4,
 "nbformat_minor": 5
}
