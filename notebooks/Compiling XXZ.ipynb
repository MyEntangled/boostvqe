{
 "cells": [
  {
   "cell_type": "code",
   "execution_count": 39,
   "id": "dcb949ba",
   "metadata": {},
   "outputs": [],
   "source": [
    "from qibo.models.variational import VQE\n",
    "from boostvqe.ansatze import build_circuit\n",
    "from qibo import hamiltonians, Circuit,gates\n",
    "from pathlib import Path\n",
    "import numpy as np"
   ]
  },
  {
   "cell_type": "code",
   "execution_count": 60,
   "id": "27b93b77",
   "metadata": {},
   "outputs": [],
   "source": [
    "h_xxz = hamiltonians.XXZ(nqubits=2)\n"
   ]
  },
  {
   "cell_type": "code",
   "execution_count": 73,
   "id": "2057722c",
   "metadata": {},
   "outputs": [],
   "source": [
    "q_i = 0\n",
    "q_ip1 = 1\n",
    "t= 1\n",
    "gamma = t/2\n",
    "beta = t\n",
    "alpha = t\n"
   ]
  },
  {
   "cell_type": "code",
   "execution_count": 83,
   "id": "19497f9c",
   "metadata": {},
   "outputs": [],
   "source": [
    "circuit = Circuit(nqubits=2)\n",
    "circuit.add(gates.RZ(q_ip1, np.pi/2))\n",
    "circuit.add(gates.CNOT(q_ip1, q_i))\n",
    "circuit.add(gates.RZ(q_i, 2*gamma - np.pi/2))\n",
    "circuit.add(gates.RY(q_ip1, np.pi/2-2*alpha))\n",
    "circuit.add(gates.CNOT(q_i, q_ip1))\n",
    "circuit.add(gates.RY(q_ip1, 2*beta - np.pi/2))\n",
    "circuit.add(gates.CNOT(q_ip1, q_i))\n",
    "circuit.add(gates.RZ(q_i, -np.pi/2))"
   ]
  },
  {
   "cell_type": "code",
   "execution_count": 84,
   "id": "7df54d32",
   "metadata": {},
   "outputs": [],
   "source": [
    "u = h_xxz.exp(t)"
   ]
  },
  {
   "cell_type": "code",
   "execution_count": 85,
   "id": "abb9eb03",
   "metadata": {},
   "outputs": [
    {
     "name": "stdout",
     "output_type": "stream",
     "text": [
      "[[9.59549630e-01+2.81539531e-01j 0.00000000e+00+0.00000000e+00j\n",
      "  0.00000000e+00+0.00000000e+00j 1.06503324e-18+2.03901673e-18j]\n",
      " [0.00000000e+00+0.00000000e+00j 1.17161785e-01+3.99313543e-01j\n",
      "  8.72516009e-01-2.56003171e-01j 0.00000000e+00+0.00000000e+00j]\n",
      " [0.00000000e+00+0.00000000e+00j 8.72516009e-01-2.56003171e-01j\n",
      "  1.17161785e-01+3.99313543e-01j 0.00000000e+00+0.00000000e+00j]\n",
      " [7.66415873e-18+1.78697198e-18j 0.00000000e+00+0.00000000e+00j\n",
      "  0.00000000e+00+0.00000000e+00j 9.59549630e-01+2.81539531e-01j]]\n",
      "[[ 0.54030231-0.84147098j  0.        +0.j          0.        +0.j\n",
      "   0.        +0.j        ]\n",
      " [ 0.        +0.j         -0.35316516-0.55002214j -0.63682734+0.40890213j\n",
      "   0.        +0.j        ]\n",
      " [ 0.        +0.j         -0.63682734+0.40890213j -0.35316516-0.55002214j\n",
      "   0.        +0.j        ]\n",
      " [ 0.        +0.j          0.        +0.j          0.        +0.j\n",
      "   0.54030231-0.84147098j]]\n"
     ]
    },
    {
     "data": {
      "text/plain": [
       "3.4291431556196694"
      ]
     },
     "execution_count": 85,
     "metadata": {},
     "output_type": "execute_result"
    }
   ],
   "source": [
    "v = circuit.unitary()\n",
    "print(v)\n",
    "print(u)\n",
    "np.linalg.norm(u-(1+1j)*v/np.sqrt(2))"
   ]
  },
  {
   "cell_type": "code",
   "execution_count": null,
   "id": "726d68a0",
   "metadata": {},
   "outputs": [],
   "source": []
  },
  {
   "cell_type": "code",
   "execution_count": null,
   "id": "ebb2662d",
   "metadata": {},
   "outputs": [],
   "source": []
  }
 ],
 "metadata": {
  "kernelspec": {
   "display_name": "Python 3 (ipykernel)",
   "language": "python",
   "name": "python3"
  },
  "language_info": {
   "codemirror_mode": {
    "name": "ipython",
    "version": 3
   },
   "file_extension": ".py",
   "mimetype": "text/x-python",
   "name": "python",
   "nbconvert_exporter": "python",
   "pygments_lexer": "ipython3",
   "version": "3.10.12"
  }
 },
 "nbformat": 4,
 "nbformat_minor": 5
}
