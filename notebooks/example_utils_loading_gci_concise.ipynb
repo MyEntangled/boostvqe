{
 "cells": [
  {
   "cell_type": "markdown",
   "metadata": {},
   "source": [
    "# An example how to check different types of group commutator rotations\n"
   ]
  },
  {
   "cell_type": "code",
   "execution_count": 1,
   "metadata": {},
   "outputs": [
    {
     "name": "stderr",
     "output_type": "stream",
     "text": [
      "[Qibo 0.2.9|INFO|2024-06-18 22:39:19]: Using numpy backend on /CPU:0\n"
     ]
    }
   ],
   "source": [
    "import json\n",
    "import time\n",
    "from pathlib import Path\n",
    "\n",
    "import numpy as np\n",
    "import qibo\n",
    "from qibo import hamiltonians, set_backend\n",
    "qibo.set_backend(\"numpy\")\n",
    "from boostvqe.models.dbi.double_bracket import (\n",
    "    DoubleBracketGeneratorType,\n",
    "    DoubleBracketIteration,\n",
    "    )\n",
    "\n",
    "from boostvqe.models.dbi.group_commutator_iteration_transpiler import *\n",
    "from boostvqe.models.dbi.double_bracket_evolution_oracles import *\n",
    "\n",
    "from boostvqe.ansatze import VQE, build_circuit\n",
    "from boostvqe.utils import apply_dbi_steps, rotate_h_with_vqe\n",
    "from qibo import symbols, hamiltonians\n",
    "from copy import deepcopy\n",
    "from boostvqe.compiling_XXZ import *\n",
    "\n",
    "import matplotlib.pyplot as plt"
   ]
  },
  {
   "cell_type": "markdown",
   "metadata": {},
   "source": [
    "#### 1. Loading VQE results"
   ]
  },
  {
   "cell_type": "code",
   "execution_count": 2,
   "metadata": {},
   "outputs": [],
   "source": [
    "def print_vqe_comparison_report(gci):\n",
    "    gci_loss = gci.loss()\n",
    "    print(f\"VQE energy is {round(gci.vqe_energy,5)} and the DBQA yields {round(gci_loss,5)}. \\n\\\n",
    "The target energy is {round(gci.h.target_energy,5)} which means the difference is for VQE \\\n",
    "    {round(gci.vqe_energy-gci.h.target_energy,5)} and of the DBQA {round(gci_loss-gci.h.target_energy,5)} which can be compared to the spectral gap {round(gci.h.gap,5)}.\\n\\\n",
    "The relative difference is for VQE {round(abs(gci.vqe_energy-gci.h.target_energy)/abs(gci.h.target_energy)*100,5)}% \\\n",
    "    and for DBQA {round(abs(gci_loss-gci.h.target_energy)/abs(gci.h.target_energy)*100,5)}%.\\\n",
    "The energetic fidelity witness for the ground state for the VQE is {round(1- abs(gci.vqe_energy-gci.h.target_energy)/abs(gci.h.gap),5)} and DBQA {round(1- abs(gci_loss-gci.h.target_energy)/abs(gci.h.gap),5)}\\\n",
    "\")\n",
    "\n",
    "\n",
    "def initialize_gci_from_vqe( path = \"../results/vqe_data/with_params/10q7l/sgd_10q_7l_42/\",\n",
    "                            target_epoch = 2000,\n",
    "                            dbi_steps = 1,\n",
    "                            mode_dbr = DoubleBracketRotationType.group_commutator_third_order_reduced):\n",
    "\n",
    "    # upload system configuration and parameters for all the training\n",
    "    with open(path + \"optimization_results.json\") as file:\n",
    "        config = json.load(file)\n",
    "\n",
    "    losses = dict(np.load(path + \"energies.npz\"))[\"0\"]\n",
    "    params = np.load(path + f\"parameters/params_ite{target_epoch}.npy\")\n",
    "\n",
    "    nqubits = config[\"nqubits\"]\n",
    "    # build circuit, hamiltonian and VQE\n",
    "    circuit = build_circuit(nqubits, config[\"nlayers\"], \"numpy\")       \n",
    "    hamiltonian = hamiltonians.XXZ(nqubits=nqubits, delta=0.5)\n",
    "\n",
    "    vqe = VQE(circuit, hamiltonian)\n",
    "    # set target parameters into the VQE\n",
    "    vqe.circuit.set_parameters(params)\n",
    "\n",
    "    eo_xxz = XXZ_EvolutionOracle(nqubits, steps = 1, order = 2)\n",
    "    # implement the rotate by VQE on the level of circuits\n",
    "    fsoe  = VQERotatedEvolutionOracle(eo_xxz, vqe)\n",
    "    # init gci with the vqe-rotated hamiltonian\n",
    "    gci  = GroupCommutatorIterationWithEvolutionOracles(input_hamiltonian_evolution_oracle=fsoe, \n",
    "            mode_double_bracket_rotation=mode_dbr)\n",
    "    \n",
    "    eigenergies = hamiltonian.eigenvalues()\n",
    "    target_energy = np.min(eigenergies)\n",
    "    gci.h.target_energy = target_energy\n",
    "    eigenergies.sort()\n",
    "    gap = eigenergies[1] - target_energy\n",
    "    gci.h.gap = gap\n",
    "\n",
    "    gci.vqe_energy = hamiltonian.expectation(vqe.circuit().state())\n",
    "\n",
    "   \n",
    "    b_list = [1+np.sin(x/3)for x in range(10)]\n",
    "    gci.eo_d = MagneticFieldEvolutionOracle(b_list,name = \"D(B = 1+sin(x/3))\")\n",
    "    gci.default_times = np.linspace(0.003,0.004,10)\n",
    "    return gci\n"
   ]
  },
  {
   "cell_type": "code",
   "execution_count": 3,
   "metadata": {},
   "outputs": [],
   "source": [
    "\n",
    "def select_recursion_step_circuit(gci, mode_dbr_list = [DoubleBracketRotationType.group_commutator_third_order], times = np.linspace(1e-3,3e-2,10),please_be_visual = False):\n",
    "    \"\"\" Returns: circuit of the step, code of the strategy\"\"\"\n",
    "    mode_start = gci.mode_double_bracket_rotation\n",
    "    minimal_losses = []\n",
    "    all_losses = []\n",
    "    minimizer_s = []\n",
    "    for i,mode in enumerate(mode_dbr_list):\n",
    "        \n",
    "        \n",
    "        eo_d = gci.eo_d\n",
    "        gci.mode_double_bracket_rotation = mode\n",
    "        s, l, ls = gci.choose_step(d = eo_d,times = times)\n",
    "        print(l)\n",
    "        #here optimize over gradient descent\n",
    "        minimal_losses.append(l)\n",
    "        minimizer_s.append(s)\n",
    "\n",
    "        if please_be_visual:\n",
    "            plt.plot(times,ls)\n",
    "            plt.yticks([ls[0],l, ls[-1]])\n",
    "            plt.xticks([times[0],s,times[-1]])\n",
    "            plt.show()\n",
    "\n",
    "    minimizer_dbr_id = np.argmin(minimal_losses)\n",
    "    print(minimizer_s,minimal_losses)\n",
    "    return mode_dbr_list[minimizer_dbr_id], minimizer_s[minimizer_dbr_id], gci.eo_d\n",
    "\n",
    "def execute_selected_recursion_step( gci, mode_dbr, minimizer_s, eo_d, please_be_verbose = False ):\n",
    "    gci.mode_double_bracket_rotation = mode_dbr\n",
    "    if please_be_verbose:\n",
    "        gci.print_gate_count_report()\n",
    "        print_vqe_comparison_report(gci)\n",
    "    gci(minimizer_s, eo_d)\n",
    "    if please_be_verbose:\n",
    "        gci.print_gate_count_report() \n",
    "        print_vqe_comparison_report(gci)\n",
    "    return gci"
   ]
  },
  {
   "cell_type": "code",
   "execution_count": 4,
   "metadata": {},
   "outputs": [
    {
     "name": "stderr",
     "output_type": "stream",
     "text": [
      "[Qibo 0.2.9|INFO|2024-06-18 22:39:24]: Using numpy backend on /CPU:0\n",
      "INFO:qibo.config:Using numpy backend on /CPU:0\n"
     ]
    },
    {
     "name": "stdout",
     "output_type": "stream",
     "text": [
      "In the VQE numpy\n",
      "VQE energy is -14.8569 and the DBQA yields -14.8569. \n",
      "The target energy is -15.27613 which means the difference is for VQE     0.41923 and of the DBQA 0.41923 which can be compared to the spectral gap 1.08767.\n",
      "The relative difference is for VQE 2.74436%     and for DBQA 2.74436%.The energetic fidelity witness for the ground state for the VQE is 0.61456 and DBQA 0.61456\n"
     ]
    }
   ],
   "source": [
    "gci = initialize_gci_from_vqe()\n",
    "print_vqe_comparison_report(gci)"
   ]
  },
  {
   "cell_type": "code",
   "execution_count": 5,
   "metadata": {},
   "outputs": [
    {
     "name": "stdout",
     "output_type": "stream",
     "text": [
      "-14.986549788382565\n"
     ]
    },
    {
     "data": {
      "image/png": "[encoded data removed]",
      "text/plain": [
       "<Figure size 640x480 with 1 Axes>"
      ]
     },
     "metadata": {},
     "output_type": "display_data"
    },
    {
     "name": "stdout",
     "output_type": "stream",
     "text": [
      "[0.009444444444444443] [-14.986549788382565]\n",
      "-14.986549788382565 0.009444444444444443\n"
     ]
    }
   ],
   "source": [
    "mode_dbr, minimizer_s, eo_d = select_recursion_step_circuit(\n",
    "    gci, mode_dbr_list = [DoubleBracketRotationType.group_commutator_third_order_reduced],times = np.linspace(1e-3,2e-2,10),please_be_visual = True)\n",
    "print(gci.loss(minimizer_s, eo_d), minimizer_s)\n"
   ]
  },
  {
   "cell_type": "code",
   "execution_count": 6,
   "metadata": {},
   "outputs": [
    {
     "name": "stdout",
     "output_type": "stream",
     "text": [
      "VQE energy is -14.8569 and the DBQA yields -14.8569. \n",
      "The target energy is -15.27613 which means the difference is for VQE     0.41923 and of the DBQA 0.41923 which can be compared to the spectral gap 1.08767.\n",
      "The relative difference is for VQE 2.74436%     and for DBQA 2.74436%.The energetic fidelity witness for the ground state for the VQE is 0.61456 and DBQA 0.61456\n"
     ]
    }
   ],
   "source": [
    "print_vqe_comparison_report(gci)"
   ]
  },
  {
   "cell_type": "code",
   "execution_count": 7,
   "metadata": {},
   "outputs": [
    {
     "name": "stdout",
     "output_type": "stream",
     "text": [
      "The boosting circuit used 0 CNOT gates coming from compiled XXZ evolution and 70 CZ gates from VQE.\n",
      "For 10 qubits this gives n_CNOT/n_qubits = 0.0 and n_CZ/n_qubits = 7.0\n",
      "VQE energy is -14.8569 and the DBQA yields -14.8569. \n",
      "The target energy is -15.27613 which means the difference is for VQE     0.41923 and of the DBQA 0.41923 which can be compared to the spectral gap 1.08767.\n",
      "The relative difference is for VQE 2.74436%     and for DBQA 2.74436%.The energetic fidelity witness for the ground state for the VQE is 0.61456 and DBQA 0.61456\n",
      "The boosting circuit used 90 CNOT gates coming from compiled XXZ evolution and 350 CZ gates from VQE.\n",
      "For 10 qubits this gives n_CNOT/n_qubits = 9.0 and n_CZ/n_qubits = 35.0\n",
      "VQE energy is -14.8569 and the DBQA yields -14.98655. \n",
      "The target energy is -15.27613 which means the difference is for VQE     0.41923 and of the DBQA 0.28958 which can be compared to the spectral gap 1.08767.\n",
      "The relative difference is for VQE 2.74436%     and for DBQA 1.89565%.The energetic fidelity witness for the ground state for the VQE is 0.61456 and DBQA 0.73376\n"
     ]
    }
   ],
   "source": [
    "gci = execute_selected_recursion_step( gci, mode_dbr, minimizer_s, eo_d, please_be_verbose = True )"
   ]
  },
  {
   "cell_type": "code",
   "execution_count": 8,
   "metadata": {},
   "outputs": [
    {
     "data": {
      "text/plain": [
       "-14.986549788382565"
      ]
     },
     "execution_count": 8,
     "metadata": {},
     "output_type": "execute_result"
    }
   ],
   "source": [
    "gci.loss()"
   ]
  },
  {
   "cell_type": "code",
   "execution_count": 9,
   "metadata": {},
   "outputs": [
    {
     "name": "stdout",
     "output_type": "stream",
     "text": [
      "-15.017770982266393\n"
     ]
    },
    {
     "data": {
      "image/png": "[encoded data removed]",
      "text/plain": [
       "<Figure size 640x480 with 1 Axes>"
      ]
     },
     "metadata": {},
     "output_type": "display_data"
    },
    {
     "name": "stdout",
     "output_type": "stream",
     "text": [
      "[0.01222222222248889] [-15.017770982266393]\n"
     ]
    }
   ],
   "source": [
    "mode_dbr, minimizer_s, eo_d = select_recursion_step_circuit(\n",
    "    gci, mode_dbr_list = [DoubleBracketRotationType.group_commutator_third_order_reduced],times = np.linspace(3e-13,11e-2,10),please_be_visual = True)\n"
   ]
  },
  {
   "cell_type": "code",
   "execution_count": 10,
   "metadata": {},
   "outputs": [
    {
     "name": "stdout",
     "output_type": "stream",
     "text": [
      "The boosting circuit used 90 CNOT gates coming from compiled XXZ evolution and 350 CZ gates from VQE.\n",
      "For 10 qubits this gives n_CNOT/n_qubits = 9.0 and n_CZ/n_qubits = 35.0\n",
      "VQE energy is -14.8569 and the DBQA yields -14.98655. \n",
      "The target energy is -15.27613 which means the difference is for VQE     0.41923 and of the DBQA 0.28958 which can be compared to the spectral gap 1.08767.\n",
      "The relative difference is for VQE 2.74436%     and for DBQA 1.89565%.The energetic fidelity witness for the ground state for the VQE is 0.61456 and DBQA 0.73376\n",
      "The boosting circuit used 540 CNOT gates coming from compiled XXZ evolution and 1750 CZ gates from VQE.\n",
      "For 10 qubits this gives n_CNOT/n_qubits = 54.0 and n_CZ/n_qubits = 175.0\n",
      "VQE energy is -14.8569 and the DBQA yields -15.01777. \n",
      "The target energy is -15.27613 which means the difference is for VQE     0.41923 and of the DBQA 0.25836 which can be compared to the spectral gap 1.08767.\n",
      "The relative difference is for VQE 2.74436%     and for DBQA 1.69127%.The energetic fidelity witness for the ground state for the VQE is 0.61456 and DBQA 0.76246\n"
     ]
    },
    {
     "data": {
      "text/plain": [
       "<boostvqe.models.dbi.group_commutator_iteration_transpiler.GroupCommutatorIterationWithEvolutionOracles at 0x7887985e3a10>"
      ]
     },
     "execution_count": 10,
     "metadata": {},
     "output_type": "execute_result"
    }
   ],
   "source": [
    "execute_selected_recursion_step( gci, mode_dbr, minimizer_s, eo_d, please_be_verbose = True )\n"
   ]
  },
  {
   "cell_type": "code",
   "execution_count": 16,
   "metadata": {},
   "outputs": [
    {
     "name": "stdout",
     "output_type": "stream",
     "text": [
      "-15.017770982274241\n"
     ]
    },
    {
     "data": {
      "image/png": "[encoded data removed]",
      "text/plain": [
       "<Figure size 640x480 with 1 Axes>"
      ]
     },
     "metadata": {},
     "output_type": "display_data"
    },
    {
     "name": "stdout",
     "output_type": "stream",
     "text": [
      "[3e-13] [-15.017770982274241]\n",
      "The boosting circuit used 540 CNOT gates coming from compiled XXZ evolution and 1750 CZ gates from VQE.\n",
      "For 10 qubits this gives n_CNOT/n_qubits = 54.0 and n_CZ/n_qubits = 175.0\n",
      "VQE energy is -14.8569 and the DBQA yields -15.01777. \n",
      "The target energy is -15.27613 which means the difference is for VQE     0.41923 and of the DBQA 0.25836 which can be compared to the spectral gap 1.08767.\n",
      "The relative difference is for VQE 2.74436%     and for DBQA 1.69127%.The energetic fidelity witness for the ground state for the VQE is 0.61456 and DBQA 0.76246\n",
      "The boosting circuit used 2790 CNOT gates coming from compiled XXZ evolution and 8750 CZ gates from VQE.\n",
      "For 10 qubits this gives n_CNOT/n_qubits = 279.0 and n_CZ/n_qubits = 875.0\n"
     ]
    },
    {
     "ename": "KeyboardInterrupt",
     "evalue": "",
     "output_type": "error",
     "traceback": [
      "\u001b[0;31m---------------------------------------------------------------------------\u001b[0m",
      "\u001b[0;31mKeyboardInterrupt\u001b[0m                         Traceback (most recent call last)",
      "Cell \u001b[0;32mIn[16], line 3\u001b[0m\n\u001b[1;32m      1\u001b[0m mode_dbr, minimizer_s, eo_d \u001b[38;5;241m=\u001b[39m select_recursion_step_circuit(\n\u001b[1;32m      2\u001b[0m     gci, mode_dbr_list \u001b[38;5;241m=\u001b[39m [DoubleBracketRotationType\u001b[38;5;241m.\u001b[39mgroup_commutator_third_order_reduced],times \u001b[38;5;241m=\u001b[39m np\u001b[38;5;241m.\u001b[39mlinspace(\u001b[38;5;241m3e-13\u001b[39m,\u001b[38;5;241m11e-2\u001b[39m,\u001b[38;5;241m10\u001b[39m),please_be_visual \u001b[38;5;241m=\u001b[39m \u001b[38;5;28;01mTrue\u001b[39;00m)\n\u001b[0;32m----> 3\u001b[0m \u001b[43mexecute_selected_recursion_step\u001b[49m\u001b[43m(\u001b[49m\u001b[43m \u001b[49m\u001b[43mgci\u001b[49m\u001b[43m,\u001b[49m\u001b[43m \u001b[49m\u001b[43mmode_dbr\u001b[49m\u001b[43m,\u001b[49m\u001b[43m \u001b[49m\u001b[43mminimizer_s\u001b[49m\u001b[43m,\u001b[49m\u001b[43m \u001b[49m\u001b[43meo_d\u001b[49m\u001b[43m,\u001b[49m\u001b[43m \u001b[49m\u001b[43mplease_be_verbose\u001b[49m\u001b[43m \u001b[49m\u001b[38;5;241;43m=\u001b[39;49m\u001b[43m \u001b[49m\u001b[38;5;28;43;01mTrue\u001b[39;49;00m\u001b[43m \u001b[49m\u001b[43m)\u001b[49m\n",
      "Cell \u001b[0;32mIn[3], line 36\u001b[0m, in \u001b[0;36mexecute_selected_recursion_step\u001b[0;34m(gci, mode_dbr, minimizer_s, eo_d, please_be_verbose)\u001b[0m\n\u001b[1;32m     34\u001b[0m \u001b[38;5;28;01mif\u001b[39;00m please_be_verbose:\n\u001b[1;32m     35\u001b[0m     gci\u001b[38;5;241m.\u001b[39mprint_gate_count_report() \n\u001b[0;32m---> 36\u001b[0m     \u001b[43mprint_vqe_comparison_report\u001b[49m\u001b[43m(\u001b[49m\u001b[43mgci\u001b[49m\u001b[43m)\u001b[49m\n\u001b[1;32m     37\u001b[0m \u001b[38;5;28;01mreturn\u001b[39;00m gci\n",
      "Cell \u001b[0;32mIn[2], line 2\u001b[0m, in \u001b[0;36mprint_vqe_comparison_report\u001b[0;34m(gci)\u001b[0m\n\u001b[1;32m      1\u001b[0m \u001b[38;5;28;01mdef\u001b[39;00m \u001b[38;5;21mprint_vqe_comparison_report\u001b[39m(gci):\n\u001b[0;32m----> 2\u001b[0m     gci_loss \u001b[38;5;241m=\u001b[39m \u001b[43mgci\u001b[49m\u001b[38;5;241;43m.\u001b[39;49m\u001b[43mloss\u001b[49m\u001b[43m(\u001b[49m\u001b[43m)\u001b[49m\n\u001b[1;32m      3\u001b[0m     \u001b[38;5;28mprint\u001b[39m(\u001b[38;5;124mf\u001b[39m\u001b[38;5;124m\"\u001b[39m\u001b[38;5;124mVQE energy is \u001b[39m\u001b[38;5;132;01m{\u001b[39;00m\u001b[38;5;28mround\u001b[39m(gci\u001b[38;5;241m.\u001b[39mvqe_energy,\u001b[38;5;241m5\u001b[39m)\u001b[38;5;132;01m}\u001b[39;00m\u001b[38;5;124m and the DBQA yields \u001b[39m\u001b[38;5;132;01m{\u001b[39;00m\u001b[38;5;28mround\u001b[39m(gci_loss,\u001b[38;5;241m5\u001b[39m)\u001b[38;5;132;01m}\u001b[39;00m\u001b[38;5;124m. \u001b[39m\u001b[38;5;130;01m\\n\u001b[39;00m\u001b[38;5;130;01m\\\u001b[39;00m\n\u001b[1;32m      4\u001b[0m \u001b[38;5;124mThe target energy is \u001b[39m\u001b[38;5;132;01m{\u001b[39;00m\u001b[38;5;28mround\u001b[39m(gci\u001b[38;5;241m.\u001b[39mh\u001b[38;5;241m.\u001b[39mtarget_energy,\u001b[38;5;241m5\u001b[39m)\u001b[38;5;132;01m}\u001b[39;00m\u001b[38;5;124m which means the difference is for VQE \u001b[39m\u001b[38;5;130;01m\\\u001b[39;00m\n\u001b[1;32m      5\u001b[0m \u001b[38;5;124m    \u001b[39m\u001b[38;5;132;01m{\u001b[39;00m\u001b[38;5;28mround\u001b[39m(gci\u001b[38;5;241m.\u001b[39mvqe_energy\u001b[38;5;241m-\u001b[39mgci\u001b[38;5;241m.\u001b[39mh\u001b[38;5;241m.\u001b[39mtarget_energy,\u001b[38;5;241m5\u001b[39m)\u001b[38;5;132;01m}\u001b[39;00m\u001b[38;5;124m and of the DBQA \u001b[39m\u001b[38;5;132;01m{\u001b[39;00m\u001b[38;5;28mround\u001b[39m(gci_loss\u001b[38;5;241m-\u001b[39mgci\u001b[38;5;241m.\u001b[39mh\u001b[38;5;241m.\u001b[39mtarget_energy,\u001b[38;5;241m5\u001b[39m)\u001b[38;5;132;01m}\u001b[39;00m\u001b[38;5;124m which can be compared to the spectral gap \u001b[39m\u001b[38;5;132;01m{\u001b[39;00m\u001b[38;5;28mround\u001b[39m(gci\u001b[38;5;241m.\u001b[39mh\u001b[38;5;241m.\u001b[39mgap,\u001b[38;5;241m5\u001b[39m)\u001b[38;5;132;01m}\u001b[39;00m\u001b[38;5;124m.\u001b[39m\u001b[38;5;130;01m\\n\u001b[39;00m\u001b[38;5;130;01m\\\u001b[39;00m\n\u001b[0;32m   (...)\u001b[0m\n\u001b[1;32m      8\u001b[0m \u001b[38;5;124mThe energetic fidelity witness for the ground state for the VQE is \u001b[39m\u001b[38;5;132;01m{\u001b[39;00m\u001b[38;5;28mround\u001b[39m(\u001b[38;5;241m1\u001b[39m\u001b[38;5;241m-\u001b[39m\u001b[38;5;250m \u001b[39m\u001b[38;5;28mabs\u001b[39m(gci\u001b[38;5;241m.\u001b[39mvqe_energy\u001b[38;5;241m-\u001b[39mgci\u001b[38;5;241m.\u001b[39mh\u001b[38;5;241m.\u001b[39mtarget_energy)\u001b[38;5;241m/\u001b[39m\u001b[38;5;28mabs\u001b[39m(gci\u001b[38;5;241m.\u001b[39mh\u001b[38;5;241m.\u001b[39mgap),\u001b[38;5;241m5\u001b[39m)\u001b[38;5;132;01m}\u001b[39;00m\u001b[38;5;124m and DBQA \u001b[39m\u001b[38;5;132;01m{\u001b[39;00m\u001b[38;5;28mround\u001b[39m(\u001b[38;5;241m1\u001b[39m\u001b[38;5;241m-\u001b[39m\u001b[38;5;250m \u001b[39m\u001b[38;5;28mabs\u001b[39m(gci_loss\u001b[38;5;241m-\u001b[39mgci\u001b[38;5;241m.\u001b[39mh\u001b[38;5;241m.\u001b[39mtarget_energy)\u001b[38;5;241m/\u001b[39m\u001b[38;5;28mabs\u001b[39m(gci\u001b[38;5;241m.\u001b[39mh\u001b[38;5;241m.\u001b[39mgap),\u001b[38;5;241m5\u001b[39m)\u001b[38;5;132;01m}\u001b[39;00m\u001b[38;5;130;01m\\\u001b[39;00m\n\u001b[1;32m      9\u001b[0m \u001b[38;5;124m\"\u001b[39m)\n",
      "File \u001b[0;32m~/Projectes_git/boostvqe/src/boostvqe/models/dbi/group_commutator_iteration_transpiler.py:268\u001b[0m, in \u001b[0;36mGroupCommutatorIterationWithEvolutionOracles.loss\u001b[0;34m(self, step, eo_d)\u001b[0m\n\u001b[1;32m    264\u001b[0m \u001b[38;5;28;01melse\u001b[39;00m:\n\u001b[1;32m    265\u001b[0m     circ \u001b[38;5;241m=\u001b[39m \u001b[38;5;28mself\u001b[39m\u001b[38;5;241m.\u001b[39mgroup_commutator(step, eo_d)[\u001b[38;5;124m\"\u001b[39m\u001b[38;5;124mforwards\u001b[39m\u001b[38;5;124m\"\u001b[39m] \u001b[38;5;241m+\u001b[39m \\\n\u001b[1;32m    266\u001b[0m     \u001b[38;5;28mself\u001b[39m\u001b[38;5;241m.\u001b[39mget_composed_circuit()  \n\u001b[1;32m    267\u001b[0m \u001b[38;5;28;01mreturn\u001b[39;00m \u001b[38;5;28mself\u001b[39m\u001b[38;5;241m.\u001b[39mh_ref\u001b[38;5;241m.\u001b[39mexpectation(\n\u001b[0;32m--> 268\u001b[0m     \u001b[43mcirc\u001b[49m\u001b[43m(\u001b[49m\u001b[43m)\u001b[49m\u001b[38;5;241m.\u001b[39mstate()\n\u001b[1;32m    269\u001b[0m )\n",
      "File \u001b[0;32m~/Projectes_git/qibo/src/qibo/models/circuit.py:1115\u001b[0m, in \u001b[0;36mCircuit.__call__\u001b[0;34m(self, initial_state, nshots)\u001b[0m\n\u001b[1;32m   1113\u001b[0m \u001b[38;5;28;01mdef\u001b[39;00m \u001b[38;5;21m__call__\u001b[39m(\u001b[38;5;28mself\u001b[39m, initial_state\u001b[38;5;241m=\u001b[39m\u001b[38;5;28;01mNone\u001b[39;00m, nshots\u001b[38;5;241m=\u001b[39m\u001b[38;5;241m1000\u001b[39m):\n\u001b[1;32m   1114\u001b[0m \u001b[38;5;250m    \u001b[39m\u001b[38;5;124;03m\"\"\"Equivalent to ``circuit.execute``.\"\"\"\u001b[39;00m\n\u001b[0;32m-> 1115\u001b[0m     \u001b[38;5;28;01mreturn\u001b[39;00m \u001b[38;5;28;43mself\u001b[39;49m\u001b[38;5;241;43m.\u001b[39;49m\u001b[43mexecute\u001b[49m\u001b[43m(\u001b[49m\u001b[43minitial_state\u001b[49m\u001b[38;5;241;43m=\u001b[39;49m\u001b[43minitial_state\u001b[49m\u001b[43m,\u001b[49m\u001b[43m \u001b[49m\u001b[43mnshots\u001b[49m\u001b[38;5;241;43m=\u001b[39;49m\u001b[43mnshots\u001b[49m\u001b[43m)\u001b[49m\n",
      "File \u001b[0;32m~/Projectes_git/qibo/src/qibo/models/circuit.py:1111\u001b[0m, in \u001b[0;36mCircuit.execute\u001b[0;34m(self, initial_state, nshots)\u001b[0m\n\u001b[1;32m   1107\u001b[0m     \u001b[38;5;28;01mreturn\u001b[39;00m GlobalBackend()\u001b[38;5;241m.\u001b[39mexecute_distributed_circuit(\n\u001b[1;32m   1108\u001b[0m         \u001b[38;5;28mself\u001b[39m, initial_state, nshots\n\u001b[1;32m   1109\u001b[0m     )\n\u001b[1;32m   1110\u001b[0m \u001b[38;5;28;01melse\u001b[39;00m:\n\u001b[0;32m-> 1111\u001b[0m     \u001b[38;5;28;01mreturn\u001b[39;00m \u001b[43mGlobalBackend\u001b[49m\u001b[43m(\u001b[49m\u001b[43m)\u001b[49m\u001b[38;5;241;43m.\u001b[39;49m\u001b[43mexecute_circuit\u001b[49m\u001b[43m(\u001b[49m\u001b[38;5;28;43mself\u001b[39;49m\u001b[43m,\u001b[49m\u001b[43m \u001b[49m\u001b[43minitial_state\u001b[49m\u001b[43m,\u001b[49m\u001b[43m \u001b[49m\u001b[43mnshots\u001b[49m\u001b[43m)\u001b[49m\n",
      "File \u001b[0;32m~/Projectes_git/qibo/src/qibo/backends/numpy.py:436\u001b[0m, in \u001b[0;36mNumpyBackend.execute_circuit\u001b[0;34m(self, circuit, initial_state, nshots)\u001b[0m\n\u001b[1;32m    433\u001b[0m         state \u001b[38;5;241m=\u001b[39m \u001b[38;5;28mself\u001b[39m\u001b[38;5;241m.\u001b[39mcast(initial_state)\n\u001b[1;32m    435\u001b[0m     \u001b[38;5;28;01mfor\u001b[39;00m gate \u001b[38;5;129;01min\u001b[39;00m circuit\u001b[38;5;241m.\u001b[39mqueue:\n\u001b[0;32m--> 436\u001b[0m         state \u001b[38;5;241m=\u001b[39m \u001b[43mgate\u001b[49m\u001b[38;5;241;43m.\u001b[39;49m\u001b[43mapply\u001b[49m\u001b[43m(\u001b[49m\u001b[38;5;28;43mself\u001b[39;49m\u001b[43m,\u001b[49m\u001b[43m \u001b[49m\u001b[43mstate\u001b[49m\u001b[43m,\u001b[49m\u001b[43m \u001b[49m\u001b[43mnqubits\u001b[49m\u001b[43m)\u001b[49m\n\u001b[1;32m    438\u001b[0m \u001b[38;5;28;01mif\u001b[39;00m circuit\u001b[38;5;241m.\u001b[39mhas_unitary_channel:\n\u001b[1;32m    439\u001b[0m     \u001b[38;5;66;03m# here we necessarily have `density_matrix=True`, otherwise\u001b[39;00m\n\u001b[1;32m    440\u001b[0m     \u001b[38;5;66;03m# execute_circuit_repeated would have been called\u001b[39;00m\n\u001b[1;32m    441\u001b[0m     \u001b[38;5;28;01mif\u001b[39;00m circuit\u001b[38;5;241m.\u001b[39mmeasurements:\n",
      "File \u001b[0;32m~/Projectes_git/qibo/src/qibo/gates/abstract.py:393\u001b[0m, in \u001b[0;36mGate.apply\u001b[0;34m(self, backend, state, nqubits)\u001b[0m\n\u001b[1;32m    392\u001b[0m \u001b[38;5;28;01mdef\u001b[39;00m \u001b[38;5;21mapply\u001b[39m(\u001b[38;5;28mself\u001b[39m, backend, state, nqubits):\n\u001b[0;32m--> 393\u001b[0m     \u001b[38;5;28;01mreturn\u001b[39;00m \u001b[43mbackend\u001b[49m\u001b[38;5;241;43m.\u001b[39;49m\u001b[43mapply_gate\u001b[49m\u001b[43m(\u001b[49m\u001b[38;5;28;43mself\u001b[39;49m\u001b[43m,\u001b[49m\u001b[43m \u001b[49m\u001b[43mstate\u001b[49m\u001b[43m,\u001b[49m\u001b[43m \u001b[49m\u001b[43mnqubits\u001b[49m\u001b[43m)\u001b[49m\n",
      "File \u001b[0;32m~/Projectes_git/qibo/src/qibo/backends/numpy.py:199\u001b[0m, in \u001b[0;36mNumpyBackend.apply_gate\u001b[0;34m(self, gate, state, nqubits)\u001b[0m\n\u001b[1;32m    197\u001b[0m     matrix \u001b[38;5;241m=\u001b[39m \u001b[38;5;28mself\u001b[39m\u001b[38;5;241m.\u001b[39mnp\u001b[38;5;241m.\u001b[39mreshape(matrix, \u001b[38;5;241m2\u001b[39m \u001b[38;5;241m*\u001b[39m \u001b[38;5;28mlen\u001b[39m(gate\u001b[38;5;241m.\u001b[39mqubits) \u001b[38;5;241m*\u001b[39m (\u001b[38;5;241m2\u001b[39m,))\n\u001b[1;32m    198\u001b[0m     opstring \u001b[38;5;241m=\u001b[39m einsum_utils\u001b[38;5;241m.\u001b[39mapply_gate_string(gate\u001b[38;5;241m.\u001b[39mqubits, nqubits)\n\u001b[0;32m--> 199\u001b[0m     state \u001b[38;5;241m=\u001b[39m \u001b[38;5;28;43mself\u001b[39;49m\u001b[38;5;241;43m.\u001b[39;49m\u001b[43mnp\u001b[49m\u001b[38;5;241;43m.\u001b[39;49m\u001b[43meinsum\u001b[49m\u001b[43m(\u001b[49m\u001b[43mopstring\u001b[49m\u001b[43m,\u001b[49m\u001b[43m \u001b[49m\u001b[43mstate\u001b[49m\u001b[43m,\u001b[49m\u001b[43m \u001b[49m\u001b[43mmatrix\u001b[49m\u001b[43m)\u001b[49m\n\u001b[1;32m    200\u001b[0m \u001b[38;5;28;01mreturn\u001b[39;00m \u001b[38;5;28mself\u001b[39m\u001b[38;5;241m.\u001b[39mnp\u001b[38;5;241m.\u001b[39mreshape(state, (\u001b[38;5;241m2\u001b[39m\u001b[38;5;241m*\u001b[39m\u001b[38;5;241m*\u001b[39mnqubits,))\n",
      "File \u001b[0;32m/usr/lib/python3/dist-packages/numpy/core/einsumfunc.py:1371\u001b[0m, in \u001b[0;36meinsum\u001b[0;34m(out, optimize, *operands, **kwargs)\u001b[0m\n\u001b[1;32m   1369\u001b[0m     \u001b[38;5;28;01mif\u001b[39;00m specified_out:\n\u001b[1;32m   1370\u001b[0m         kwargs[\u001b[38;5;124m'\u001b[39m\u001b[38;5;124mout\u001b[39m\u001b[38;5;124m'\u001b[39m] \u001b[38;5;241m=\u001b[39m out\n\u001b[0;32m-> 1371\u001b[0m     \u001b[38;5;28;01mreturn\u001b[39;00m \u001b[43mc_einsum\u001b[49m\u001b[43m(\u001b[49m\u001b[38;5;241;43m*\u001b[39;49m\u001b[43moperands\u001b[49m\u001b[43m,\u001b[49m\u001b[43m \u001b[49m\u001b[38;5;241;43m*\u001b[39;49m\u001b[38;5;241;43m*\u001b[39;49m\u001b[43mkwargs\u001b[49m\u001b[43m)\u001b[49m\n\u001b[1;32m   1373\u001b[0m \u001b[38;5;66;03m# Check the kwargs to avoid a more cryptic error later, without having to\u001b[39;00m\n\u001b[1;32m   1374\u001b[0m \u001b[38;5;66;03m# repeat default values here\u001b[39;00m\n\u001b[1;32m   1375\u001b[0m valid_einsum_kwargs \u001b[38;5;241m=\u001b[39m [\u001b[38;5;124m'\u001b[39m\u001b[38;5;124mdtype\u001b[39m\u001b[38;5;124m'\u001b[39m, \u001b[38;5;124m'\u001b[39m\u001b[38;5;124morder\u001b[39m\u001b[38;5;124m'\u001b[39m, \u001b[38;5;124m'\u001b[39m\u001b[38;5;124mcasting\u001b[39m\u001b[38;5;124m'\u001b[39m]\n",
      "\u001b[0;31mKeyboardInterrupt\u001b[0m: "
     ]
    }
   ],
   "source": [
    "mode_dbr, minimizer_s, eo_d = select_recursion_step_circuit(\n",
    "    gci, mode_dbr_list = [DoubleBracketRotationType.group_commutator_third_order_reduced],times = np.linspace(3e-13,11e-2,10),please_be_visual = True)\n",
    "execute_selected_recursion_step( gci, mode_dbr, minimizer_s, eo_d, please_be_verbose = True )"
   ]
  },
  {
   "cell_type": "code",
   "execution_count": 15,
   "metadata": {},
   "outputs": [
    {
     "name": "stdout",
     "output_type": "stream",
     "text": [
      "-15.058537128524133\n",
      "0\n",
      "-15.058559523244236\n",
      "1\n"
     ]
    },
    {
     "ename": "KeyboardInterrupt",
     "evalue": "",
     "output_type": "error",
     "traceback": [
      "\u001b[0;31m---------------------------------------------------------------------------\u001b[0m",
      "\u001b[0;31mKeyboardInterrupt\u001b[0m                         Traceback (most recent call last)",
      "Cell \u001b[0;32mIn[15], line 3\u001b[0m\n\u001b[1;32m      1\u001b[0m \u001b[38;5;28;01mfrom\u001b[39;00m \u001b[38;5;21;01mboostvqe\u001b[39;00m\u001b[38;5;21;01m.\u001b[39;00m\u001b[38;5;21;01mmodels\u001b[39;00m\u001b[38;5;21;01m.\u001b[39;00m\u001b[38;5;21;01mdbi\u001b[39;00m\u001b[38;5;21;01m.\u001b[39;00m\u001b[38;5;21;01mutils_gci_optimization\u001b[39;00m \u001b[38;5;28;01mimport\u001b[39;00m \u001b[38;5;241m*\u001b[39m\n\u001b[0;32m----> 3\u001b[0m d_params_test, s, min_loss \u001b[38;5;241m=\u001b[39m \u001b[43mgradient_descent_circuits\u001b[49m\u001b[43m(\u001b[49m\n\u001b[1;32m      4\u001b[0m \u001b[43mgci\u001b[49m\u001b[43m,\u001b[49m\u001b[43mtimes_choose_step\u001b[49m\u001b[38;5;241;43m=\u001b[39;49m\u001b[43mnp\u001b[49m\u001b[38;5;241;43m.\u001b[39;49m\u001b[43mlinspace\u001b[49m\u001b[43m(\u001b[49m\u001b[38;5;241;43m1e-3\u001b[39;49m\u001b[43m,\u001b[49m\u001b[38;5;241;43m1e-2\u001b[39;49m\u001b[43m,\u001b[49m\u001b[38;5;241;43m10\u001b[39;49m\u001b[43m)\u001b[49m\u001b[43m,\u001b[49m\n\u001b[1;32m      5\u001b[0m \u001b[43m \u001b[49m\u001b[43mtrain_epochs\u001b[49m\u001b[38;5;241;43m=\u001b[39;49m\u001b[38;5;241;43m5\u001b[39;49m\u001b[43m,\u001b[49m\n\u001b[1;32m      6\u001b[0m \u001b[43m   \u001b[49m\u001b[43md_params_init\u001b[49m\u001b[38;5;241;43m=\u001b[39;49m\u001b[43meo_d\u001b[49m\u001b[38;5;241;43m.\u001b[39;49m\u001b[43mb_list\u001b[49m\u001b[43m,\u001b[49m\n\u001b[1;32m      7\u001b[0m \u001b[43m   \u001b[49m\u001b[43mlr\u001b[49m\u001b[38;5;241;43m=\u001b[39;49m\u001b[38;5;241;43m10\u001b[39;49m\n\u001b[1;32m      8\u001b[0m \u001b[43m)\u001b[49m\n",
      "File \u001b[0;32m~/Projectes_git/boostvqe/src/boostvqe/models/dbi/utils_gci_optimization.py:108\u001b[0m, in \u001b[0;36mgradient_descent_circuits\u001b[0;34m(dbi_object, train_epochs, d_params_init, times_choose_step, lr, step_guess)\u001b[0m\n\u001b[1;32m    106\u001b[0m \u001b[38;5;28mprint\u001b[39m(i)\n\u001b[1;32m    107\u001b[0m \u001b[38;5;66;03m# find gradient\u001b[39;00m\n\u001b[0;32m--> 108\u001b[0m grad \u001b[38;5;241m=\u001b[39m \u001b[43mgradient_numerical_circuits\u001b[49m\u001b[43m(\u001b[49m\n\u001b[1;32m    109\u001b[0m \u001b[43m    \u001b[49m\u001b[43mdbi_object\u001b[49m\u001b[43m,\u001b[49m\n\u001b[1;32m    110\u001b[0m \u001b[43m    \u001b[49m\u001b[43md_params_test\u001b[49m\u001b[43m,\u001b[49m\n\u001b[1;32m    111\u001b[0m \u001b[43m    \u001b[49m\u001b[43mParameterizationTypes\u001b[49m\u001b[38;5;241;43m.\u001b[39;49m\u001b[43mcircuits\u001b[49m\u001b[43m,\u001b[49m\n\u001b[1;32m    112\u001b[0m \u001b[43m    \u001b[49m\u001b[43ms\u001b[49m\u001b[38;5;241;43m=\u001b[39;49m\u001b[43mstep_guess\u001b[49m\u001b[43m,\u001b[49m\n\u001b[1;32m    113\u001b[0m \u001b[43m    \u001b[49m\u001b[43mloss_0\u001b[49m\u001b[43m \u001b[49m\u001b[38;5;241;43m=\u001b[39;49m\u001b[43m \u001b[49m\u001b[43mloss\u001b[49m\n\u001b[1;32m    114\u001b[0m \u001b[43m\u001b[49m\u001b[43m)\u001b[49m\n\u001b[1;32m    115\u001b[0m d_params_test \u001b[38;5;241m=\u001b[39m [d_params_init[j] \u001b[38;5;241m-\u001b[39m grad[j] \u001b[38;5;241m*\u001b[39m lr \u001b[38;5;28;01mfor\u001b[39;00m j \u001b[38;5;129;01min\u001b[39;00m \u001b[38;5;28mrange\u001b[39m(\u001b[38;5;28mlen\u001b[39m(grad))]\n\u001b[1;32m    116\u001b[0m d \u001b[38;5;241m=\u001b[39m MagneticFieldEvolutionOracle(d_params_test)\n",
      "File \u001b[0;32m~/Projectes_git/boostvqe/src/boostvqe/models/dbi/utils_gci_optimization.py:82\u001b[0m, in \u001b[0;36mgradient_numerical_circuits\u001b[0;34m(dbi_object, d_params, parameterization, s, delta, backend, loss_0, **kwargs)\u001b[0m\n\u001b[1;32m     80\u001b[0m     d_new \u001b[38;5;241m=\u001b[39m MagneticFieldEvolutionOracle(params_new)\n\u001b[1;32m     81\u001b[0m     \u001b[38;5;66;03m# find the increment of a very small step\u001b[39;00m\n\u001b[0;32m---> 82\u001b[0m     grad[i] \u001b[38;5;241m=\u001b[39m (\u001b[43mdbi_object\u001b[49m\u001b[38;5;241;43m.\u001b[39;49m\u001b[43mloss\u001b[49m\u001b[43m(\u001b[49m\u001b[43ms\u001b[49m\u001b[43m,\u001b[49m\u001b[43m \u001b[49m\u001b[43md_new\u001b[49m\u001b[43m)\u001b[49m \u001b[38;5;241m-\u001b[39m loss_0 ) \u001b[38;5;241m/\u001b[39m delta\n\u001b[1;32m     83\u001b[0m \u001b[38;5;28;01mreturn\u001b[39;00m grad\n",
      "File \u001b[0;32m~/Projectes_git/boostvqe/src/boostvqe/models/dbi/group_commutator_iteration_transpiler.py:268\u001b[0m, in \u001b[0;36mGroupCommutatorIterationWithEvolutionOracles.loss\u001b[0;34m(self, step, eo_d)\u001b[0m\n\u001b[1;32m    264\u001b[0m \u001b[38;5;28;01melse\u001b[39;00m:\n\u001b[1;32m    265\u001b[0m     circ \u001b[38;5;241m=\u001b[39m \u001b[38;5;28mself\u001b[39m\u001b[38;5;241m.\u001b[39mgroup_commutator(step, eo_d)[\u001b[38;5;124m\"\u001b[39m\u001b[38;5;124mforwards\u001b[39m\u001b[38;5;124m\"\u001b[39m] \u001b[38;5;241m+\u001b[39m \\\n\u001b[1;32m    266\u001b[0m     \u001b[38;5;28mself\u001b[39m\u001b[38;5;241m.\u001b[39mget_composed_circuit()  \n\u001b[1;32m    267\u001b[0m \u001b[38;5;28;01mreturn\u001b[39;00m \u001b[38;5;28mself\u001b[39m\u001b[38;5;241m.\u001b[39mh_ref\u001b[38;5;241m.\u001b[39mexpectation(\n\u001b[0;32m--> 268\u001b[0m     \u001b[43mcirc\u001b[49m\u001b[43m(\u001b[49m\u001b[43m)\u001b[49m\u001b[38;5;241m.\u001b[39mstate()\n\u001b[1;32m    269\u001b[0m )\n",
      "File \u001b[0;32m~/Projectes_git/qibo/src/qibo/models/circuit.py:1115\u001b[0m, in \u001b[0;36mCircuit.__call__\u001b[0;34m(self, initial_state, nshots)\u001b[0m\n\u001b[1;32m   1113\u001b[0m \u001b[38;5;28;01mdef\u001b[39;00m \u001b[38;5;21m__call__\u001b[39m(\u001b[38;5;28mself\u001b[39m, initial_state\u001b[38;5;241m=\u001b[39m\u001b[38;5;28;01mNone\u001b[39;00m, nshots\u001b[38;5;241m=\u001b[39m\u001b[38;5;241m1000\u001b[39m):\n\u001b[1;32m   1114\u001b[0m \u001b[38;5;250m    \u001b[39m\u001b[38;5;124;03m\"\"\"Equivalent to ``circuit.execute``.\"\"\"\u001b[39;00m\n\u001b[0;32m-> 1115\u001b[0m     \u001b[38;5;28;01mreturn\u001b[39;00m \u001b[38;5;28;43mself\u001b[39;49m\u001b[38;5;241;43m.\u001b[39;49m\u001b[43mexecute\u001b[49m\u001b[43m(\u001b[49m\u001b[43minitial_state\u001b[49m\u001b[38;5;241;43m=\u001b[39;49m\u001b[43minitial_state\u001b[49m\u001b[43m,\u001b[49m\u001b[43m \u001b[49m\u001b[43mnshots\u001b[49m\u001b[38;5;241;43m=\u001b[39;49m\u001b[43mnshots\u001b[49m\u001b[43m)\u001b[49m\n",
      "File \u001b[0;32m~/Projectes_git/qibo/src/qibo/models/circuit.py:1111\u001b[0m, in \u001b[0;36mCircuit.execute\u001b[0;34m(self, initial_state, nshots)\u001b[0m\n\u001b[1;32m   1107\u001b[0m     \u001b[38;5;28;01mreturn\u001b[39;00m GlobalBackend()\u001b[38;5;241m.\u001b[39mexecute_distributed_circuit(\n\u001b[1;32m   1108\u001b[0m         \u001b[38;5;28mself\u001b[39m, initial_state, nshots\n\u001b[1;32m   1109\u001b[0m     )\n\u001b[1;32m   1110\u001b[0m \u001b[38;5;28;01melse\u001b[39;00m:\n\u001b[0;32m-> 1111\u001b[0m     \u001b[38;5;28;01mreturn\u001b[39;00m \u001b[43mGlobalBackend\u001b[49m\u001b[43m(\u001b[49m\u001b[43m)\u001b[49m\u001b[38;5;241;43m.\u001b[39;49m\u001b[43mexecute_circuit\u001b[49m\u001b[43m(\u001b[49m\u001b[38;5;28;43mself\u001b[39;49m\u001b[43m,\u001b[49m\u001b[43m \u001b[49m\u001b[43minitial_state\u001b[49m\u001b[43m,\u001b[49m\u001b[43m \u001b[49m\u001b[43mnshots\u001b[49m\u001b[43m)\u001b[49m\n",
      "File \u001b[0;32m~/Projectes_git/qibo/src/qibo/backends/numpy.py:436\u001b[0m, in \u001b[0;36mNumpyBackend.execute_circuit\u001b[0;34m(self, circuit, initial_state, nshots)\u001b[0m\n\u001b[1;32m    433\u001b[0m         state \u001b[38;5;241m=\u001b[39m \u001b[38;5;28mself\u001b[39m\u001b[38;5;241m.\u001b[39mcast(initial_state)\n\u001b[1;32m    435\u001b[0m     \u001b[38;5;28;01mfor\u001b[39;00m gate \u001b[38;5;129;01min\u001b[39;00m circuit\u001b[38;5;241m.\u001b[39mqueue:\n\u001b[0;32m--> 436\u001b[0m         state \u001b[38;5;241m=\u001b[39m \u001b[43mgate\u001b[49m\u001b[38;5;241;43m.\u001b[39;49m\u001b[43mapply\u001b[49m\u001b[43m(\u001b[49m\u001b[38;5;28;43mself\u001b[39;49m\u001b[43m,\u001b[49m\u001b[43m \u001b[49m\u001b[43mstate\u001b[49m\u001b[43m,\u001b[49m\u001b[43m \u001b[49m\u001b[43mnqubits\u001b[49m\u001b[43m)\u001b[49m\n\u001b[1;32m    438\u001b[0m \u001b[38;5;28;01mif\u001b[39;00m circuit\u001b[38;5;241m.\u001b[39mhas_unitary_channel:\n\u001b[1;32m    439\u001b[0m     \u001b[38;5;66;03m# here we necessarily have `density_matrix=True`, otherwise\u001b[39;00m\n\u001b[1;32m    440\u001b[0m     \u001b[38;5;66;03m# execute_circuit_repeated would have been called\u001b[39;00m\n\u001b[1;32m    441\u001b[0m     \u001b[38;5;28;01mif\u001b[39;00m circuit\u001b[38;5;241m.\u001b[39mmeasurements:\n",
      "File \u001b[0;32m~/Projectes_git/qibo/src/qibo/gates/abstract.py:393\u001b[0m, in \u001b[0;36mGate.apply\u001b[0;34m(self, backend, state, nqubits)\u001b[0m\n\u001b[1;32m    392\u001b[0m \u001b[38;5;28;01mdef\u001b[39;00m \u001b[38;5;21mapply\u001b[39m(\u001b[38;5;28mself\u001b[39m, backend, state, nqubits):\n\u001b[0;32m--> 393\u001b[0m     \u001b[38;5;28;01mreturn\u001b[39;00m \u001b[43mbackend\u001b[49m\u001b[38;5;241;43m.\u001b[39;49m\u001b[43mapply_gate\u001b[49m\u001b[43m(\u001b[49m\u001b[38;5;28;43mself\u001b[39;49m\u001b[43m,\u001b[49m\u001b[43m \u001b[49m\u001b[43mstate\u001b[49m\u001b[43m,\u001b[49m\u001b[43m \u001b[49m\u001b[43mnqubits\u001b[49m\u001b[43m)\u001b[49m\n",
      "File \u001b[0;32m~/Projectes_git/qibo/src/qibo/backends/numpy.py:199\u001b[0m, in \u001b[0;36mNumpyBackend.apply_gate\u001b[0;34m(self, gate, state, nqubits)\u001b[0m\n\u001b[1;32m    197\u001b[0m     matrix \u001b[38;5;241m=\u001b[39m \u001b[38;5;28mself\u001b[39m\u001b[38;5;241m.\u001b[39mnp\u001b[38;5;241m.\u001b[39mreshape(matrix, \u001b[38;5;241m2\u001b[39m \u001b[38;5;241m*\u001b[39m \u001b[38;5;28mlen\u001b[39m(gate\u001b[38;5;241m.\u001b[39mqubits) \u001b[38;5;241m*\u001b[39m (\u001b[38;5;241m2\u001b[39m,))\n\u001b[1;32m    198\u001b[0m     opstring \u001b[38;5;241m=\u001b[39m einsum_utils\u001b[38;5;241m.\u001b[39mapply_gate_string(gate\u001b[38;5;241m.\u001b[39mqubits, nqubits)\n\u001b[0;32m--> 199\u001b[0m     state \u001b[38;5;241m=\u001b[39m \u001b[38;5;28;43mself\u001b[39;49m\u001b[38;5;241;43m.\u001b[39;49m\u001b[43mnp\u001b[49m\u001b[38;5;241;43m.\u001b[39;49m\u001b[43meinsum\u001b[49m\u001b[43m(\u001b[49m\u001b[43mopstring\u001b[49m\u001b[43m,\u001b[49m\u001b[43m \u001b[49m\u001b[43mstate\u001b[49m\u001b[43m,\u001b[49m\u001b[43m \u001b[49m\u001b[43mmatrix\u001b[49m\u001b[43m)\u001b[49m\n\u001b[1;32m    200\u001b[0m \u001b[38;5;28;01mreturn\u001b[39;00m \u001b[38;5;28mself\u001b[39m\u001b[38;5;241m.\u001b[39mnp\u001b[38;5;241m.\u001b[39mreshape(state, (\u001b[38;5;241m2\u001b[39m\u001b[38;5;241m*\u001b[39m\u001b[38;5;241m*\u001b[39mnqubits,))\n",
      "File \u001b[0;32m/usr/lib/python3/dist-packages/numpy/core/einsumfunc.py:1371\u001b[0m, in \u001b[0;36meinsum\u001b[0;34m(out, optimize, *operands, **kwargs)\u001b[0m\n\u001b[1;32m   1369\u001b[0m     \u001b[38;5;28;01mif\u001b[39;00m specified_out:\n\u001b[1;32m   1370\u001b[0m         kwargs[\u001b[38;5;124m'\u001b[39m\u001b[38;5;124mout\u001b[39m\u001b[38;5;124m'\u001b[39m] \u001b[38;5;241m=\u001b[39m out\n\u001b[0;32m-> 1371\u001b[0m     \u001b[38;5;28;01mreturn\u001b[39;00m \u001b[43mc_einsum\u001b[49m\u001b[43m(\u001b[49m\u001b[38;5;241;43m*\u001b[39;49m\u001b[43moperands\u001b[49m\u001b[43m,\u001b[49m\u001b[43m \u001b[49m\u001b[38;5;241;43m*\u001b[39;49m\u001b[38;5;241;43m*\u001b[39;49m\u001b[43mkwargs\u001b[49m\u001b[43m)\u001b[49m\n\u001b[1;32m   1373\u001b[0m \u001b[38;5;66;03m# Check the kwargs to avoid a more cryptic error later, without having to\u001b[39;00m\n\u001b[1;32m   1374\u001b[0m \u001b[38;5;66;03m# repeat default values here\u001b[39;00m\n\u001b[1;32m   1375\u001b[0m valid_einsum_kwargs \u001b[38;5;241m=\u001b[39m [\u001b[38;5;124m'\u001b[39m\u001b[38;5;124mdtype\u001b[39m\u001b[38;5;124m'\u001b[39m, \u001b[38;5;124m'\u001b[39m\u001b[38;5;124morder\u001b[39m\u001b[38;5;124m'\u001b[39m, \u001b[38;5;124m'\u001b[39m\u001b[38;5;124mcasting\u001b[39m\u001b[38;5;124m'\u001b[39m]\n",
      "\u001b[0;31mKeyboardInterrupt\u001b[0m: "
     ]
    }
   ],
   "source": [
    "from boostvqe.models.dbi.utils_gci_optimization import *\n",
    "\n",
    "d_params_test, s, min_loss = gradient_descent_circuits(\n",
    "gci,times_choose_step=np.linspace(1e-3,1e-2,10),\n",
    " train_epochs=5,\n",
    "   d_params_init=eo_d.b_list,\n",
    "   lr=10\n",
    ")"
   ]
  },
  {
   "cell_type": "code",
   "execution_count": null,
   "metadata": {},
   "outputs": [],
   "source": []
  },
  {
   "cell_type": "code",
   "execution_count": null,
   "metadata": {},
   "outputs": [],
   "source": [
    "c =Circuit(2)\n",
    "c.add(gates.CNOT(0,1))\n",
    "c.add(gates.RZ(1,theta = np.pi))\n",
    "c.add(gates.CNOT(0,1))\n",
    "u = c.unitary()"
   ]
  },
  {
   "cell_type": "code",
   "execution_count": null,
   "metadata": {},
   "outputs": [
    {
     "data": {
      "text/plain": [
       "array([[6.123234e-17-1.j, 0.000000e+00+0.j, 0.000000e+00+0.j,\n",
       "        0.000000e+00+0.j],\n",
       "       [0.000000e+00+0.j, 6.123234e-17+1.j, 0.000000e+00+0.j,\n",
       "        0.000000e+00+0.j],\n",
       "       [0.000000e+00+0.j, 0.000000e+00+0.j, 6.123234e-17+1.j,\n",
       "        0.000000e+00+0.j],\n",
       "       [0.000000e+00+0.j, 0.000000e+00+0.j, 0.000000e+00+0.j,\n",
       "        6.123234e-17-1.j]])"
      ]
     },
     "execution_count": 52,
     "metadata": {},
     "output_type": "execute_result"
    }
   ],
   "source": [
    "u"
   ]
  },
  {
   "cell_type": "code",
   "execution_count": null,
   "metadata": {},
   "outputs": [
    {
     "data": {
      "text/plain": [
       "array([[6.123234e-17-1.j, 0.000000e+00+0.j],\n",
       "       [0.000000e+00+0.j, 6.123234e-17+1.j]])"
      ]
     },
     "execution_count": 49,
     "metadata": {},
     "output_type": "execute_result"
    }
   ],
   "source": [
    "c =Circuit(1)\n",
    "c.add(gates.RZ(0,theta = np.pi))\n",
    "c.unitary()"
   ]
  },
  {
   "cell_type": "code",
   "execution_count": null,
   "metadata": {},
   "outputs": [],
   "source": []
  }
 ],
 "metadata": {
  "kernelspec": {
   "display_name": "Python 3",
   "language": "python",
   "name": "python3"
  },
  "language_info": {
   "codemirror_mode": {
    "name": "ipython",
    "version": 3
   },
   "file_extension": ".py",
   "mimetype": "text/x-python",
   "name": "python",
   "nbconvert_exporter": "python",
   "pygments_lexer": "ipython3",
   "version": "3.12.3"
  }
 },
 "nbformat": 4,
 "nbformat_minor": 2
}
