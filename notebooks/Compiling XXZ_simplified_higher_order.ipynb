{
 "cells": [
  {
   "cell_type": "code",
   "execution_count": 2,
   "metadata": {},
   "outputs": [],
   "source": [
    "#from qibo.models.variational import VQE\n",
    "# from boostvqe.ansatze import build_circuit\n",
    "from qibo import hamiltonians, Circuit,gates\n",
    "#from pathlib import Path\n",
    "import numpy as np\n",
    "#import scipy"
   ]
  },
  {
   "cell_type": "code",
   "execution_count": 7,
   "metadata": {},
   "outputs": [],
   "source": [
    "t = 0.01\n",
    "steps = 1\n",
    "delta=0.5\n",
    "nqubits=2\n"
   ]
  },
  {
   "cell_type": "code",
   "execution_count": 1,
   "metadata": {},
   "outputs": [],
   "source": [
    "def _add_gates(circuit,list_q_i,list_q_ip1,t,delta,steps, coeff=1):\n",
    "    t = t*coeff\n",
    "    dt = t/steps\n",
    "    alpha = -dt\n",
    "    beta = -dt\n",
    "    gamma = -delta*dt\n",
    "\n",
    "    circuit.add(gates.RZ(q_ip1, -np.pi/2) for q_ip1 in list_q_ip1)\n",
    "    circuit.add(gates.CNOT(q_ip1, q_i) for q_i,q_ip1 in zip(list_q_i,list_q_ip1))\n",
    "    circuit.add(gates.RZ(q_i, -2*gamma + np.pi/2) for q_i in list_q_i)\n",
    "    circuit.add(gates.RY(q_ip1, -np.pi/2+2*alpha) for q_ip1 in list_q_ip1)\n",
    "    circuit.add(gates.CNOT(q_i, q_ip1) for q_i,q_ip1 in zip(list_q_i,list_q_ip1))\n",
    "    circuit.add(gates.RY(q_ip1, -2*beta + np.pi/2) for q_ip1 in list_q_ip1)\n",
    "    circuit.add(gates.CNOT(q_ip1, q_i) for q_i,q_ip1 in zip(list_q_i,list_q_ip1))\n",
    "    circuit.add(gates.RZ(q_i, np.pi/2) for q_i in list_q_i)\n",
    "    return circuit"
   ]
  },
  {
   "cell_type": "code",
   "execution_count": 13,
   "metadata": {},
   "outputs": [
    {
     "name": "stdout",
     "output_type": "stream",
     "text": [
      "q0: ────X─RZ─o────X─RZ─\n",
      "q1: ─RZ─o─RY─X─RY─o────\n"
     ]
    }
   ],
   "source": [
    "circuit = Circuit(2)\n",
    "c1 = _add_gates(circuit,[0],[1],t,delta,1,1)\n",
    "print(c1.draw())"
   ]
  },
  {
   "cell_type": "code",
   "execution_count": 14,
   "metadata": {},
   "outputs": [
    {
     "name": "stdout",
     "output_type": "stream",
     "text": [
      "q0: ────X─RZ─o────X─RZ─\n",
      "q1: ─RZ─o─RY─X─RY─o────\n"
     ]
    }
   ],
   "source": [
    "circuit = Circuit(2)\n",
    "c2 = _add_gates(circuit,[0],[1],t,delta,1,1/2)\n",
    "print(c2.draw())"
   ]
  },
  {
   "cell_type": "code",
   "execution_count": 21,
   "metadata": {},
   "outputs": [
    {
     "data": {
      "text/plain": [
       "8.436257876513695e-16"
      ]
     },
     "execution_count": 21,
     "metadata": {},
     "output_type": "execute_result"
    }
   ],
   "source": [
    "np.linalg.norm(c1.unitary()-(c2+c2).unitary()*np.exp(+1j*np.pi/4))"
   ]
  },
  {
   "cell_type": "code",
   "execution_count": 17,
   "metadata": {},
   "outputs": [
    {
     "data": {
      "text/plain": [
       "1.5312044458134593"
      ]
     },
     "execution_count": 17,
     "metadata": {},
     "output_type": "execute_result"
    }
   ],
   "source": [
    "u = c2.unitary()\n",
    "v = c1.unitary()\n",
    "np.linalg.norm(u-v@v)"
   ]
  },
  {
   "cell_type": "code",
   "execution_count": 51,
   "metadata": {},
   "outputs": [],
   "source": [
    "c=0.5"
   ]
  },
  {
   "cell_type": "code",
   "execution_count": 5,
   "metadata": {},
   "outputs": [],
   "source": [
    "def nqubit_XXZ_decomposition(nqubits,t,delta,steps,c):\n",
    "    circuit = Circuit(nqubits = nqubits)\n",
    "\n",
    "    even_numbers = [num for num in range(nqubits) if num % 2 == 0]\n",
    "    odd_numbers = [num for num in range(nqubits) if num % 2 == 1]\n",
    "\n",
    "    if nqubits%2 == 0:\n",
    "        even_numbers_end_0 = [num for num in range(1,nqubits) if num % 2 == 0]\n",
    "        even_numbers_end_0.append(0)\n",
    "        \n",
    "        circuit = _add_gates(circuit,even_numbers,odd_numbers,t,delta,steps,c)\n",
    "        circuit = _add_gates(circuit,odd_numbers,even_numbers_end_0,t,delta,steps)\n",
    "        circuit = _add_gates(circuit,even_numbers,odd_numbers,t,delta,steps,c)\n",
    "\n",
    "    elif nqubits%2 == 1:\n",
    "        circuit = _add_gates(circuit,even_numbers[:-1],odd_numbers,t,delta,steps)\n",
    "        circuit = _add_gates(circuit,odd_numbers,even_numbers[1:],t,delta,steps)\n",
    "        circuit = _add_gates(circuit,[nqubits-1],[0],t,delta,steps)\n",
    "\n",
    "\n",
    "    multi_layer = Circuit(nqubits = nqubits)\n",
    "    for step in range(steps):\n",
    "        multi_layer += circuit\n",
    "    return multi_layer\n"
   ]
  },
  {
   "cell_type": "code",
   "execution_count": 8,
   "metadata": {},
   "outputs": [
    {
     "name": "stdout",
     "output_type": "stream",
     "text": [
      "1.5309425034460595\n",
      "q0: ────X─RZ─o────X─RZ─RZ─o─RY─X─RY─o───────X─RZ─o────X─RZ─\n",
      "q1: ─RZ─o─RY─X─RY─o───────X─RZ─o────X─RZ─RZ─o─RY─X─RY─o────\n"
     ]
    }
   ],
   "source": [
    "h_xxz = hamiltonians.XXZ(nqubits=nqubits, delta = delta)\n",
    "u = h_xxz.exp(t)\n",
    "circ = nqubit_XXZ_decomposition(nqubits=nqubits,t=t,delta=delta,steps=steps,c=1)\n",
    "v = circ.unitary()\n",
    "print(np.linalg.norm(u-np.exp(nqubits*steps*1j*np.pi/4)*v))\n",
    "print(circ.draw())"
   ]
  },
  {
   "cell_type": "code",
   "execution_count": 56,
   "metadata": {},
   "outputs": [],
   "source": [
    "res = []\n",
    "coeffs = np.linspace(0.1,200.1,300)\n",
    "for c in coeffs:\n",
    "    circ = nqubit_XXZ_decomposition(nqubits=nqubits,t=t,delta=delta,steps=steps,c=c)\n",
    "    v = circ.unitary()\n",
    "    res.append(np.linalg.norm(u-np.exp(nqubits*steps*1j*np.pi/4)*v))"
   ]
  },
  {
   "cell_type": "code",
   "execution_count": 59,
   "metadata": {},
   "outputs": [
    {
     "data": {
      "text/plain": [
       "Text(0, 0.5, '||U-V||')"
      ]
     },
     "execution_count": 59,
     "metadata": {},
     "output_type": "execute_result"
    },
    {
     "data": {
      "image/png": "[encoded data removed]",
      "text/plain": [
       "<Figure size 640x480 with 1 Axes>"
      ]
     },
     "metadata": {},
     "output_type": "display_data"
    },
    {
     "ename": "",
     "evalue": "",
     "output_type": "error",
     "traceback": [
      "\u001b[1;31mThe Kernel crashed while executing code in the current cell or a previous cell. \n",
      "\u001b[1;31mPlease review the code in the cell(s) to identify a possible cause of the failure. \n",
      "\u001b[1;31mClick <a href='https://aka.ms/vscodeJupyterKernelCrash'>here</a> for more info. \n",
      "\u001b[1;31mView Jupyter <a href='command:jupyter.viewOutput'>log</a> for further details."
     ]
    }
   ],
   "source": [
    "import matplotlib.pyplot as plt\n",
    "plt.plot(coeffs,res)\n",
    "plt.title('Second order Trotter Suzuki')\n",
    "plt.xlabel('Multiple of t')\n",
    "plt.ylabel('||U-V||')"
   ]
  },
  {
   "cell_type": "code",
   "execution_count": null,
   "metadata": {},
   "outputs": [],
   "source": []
  }
 ],
 "metadata": {
  "kernelspec": {
   "display_name": "Python 3",
   "language": "python",
   "name": "python3"
  },
  "language_info": {
   "codemirror_mode": {
    "name": "ipython",
    "version": 3
   },
   "file_extension": ".py",
   "mimetype": "text/x-python",
   "name": "python",
   "nbconvert_exporter": "python",
   "pygments_lexer": "ipython3",
   "version": "3.11.9"
  }
 },
 "nbformat": 4,
 "nbformat_minor": 2
}
