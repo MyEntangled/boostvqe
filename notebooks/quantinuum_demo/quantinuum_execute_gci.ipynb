{
 "cells": [
  {
   "cell_type": "markdown",
   "metadata": {},
   "source": [
    "# Run Boostvqe in Quantinuum\n",
    "\n",
    "Following our example in the notebook `gci_boostvqe_circuit_synthesis.ipynb`, we will load the VQE and GCI circuits and run on Quantinuum Nexus emulators."
   ]
  },
  {
   "cell_type": "markdown",
   "metadata": {},
   "source": [
    "## Load VQE and GCI circuits"
   ]
  },
  {
   "cell_type": "code",
   "execution_count": 82,
   "metadata": {},
   "outputs": [],
   "source": [
    "from pytket import Circuit, OpType\n",
    "from pytket.circuit.display import render_circuit_jupyter\n",
    "import pytket.qasm\n",
    "from datetime import datetime\n",
    "from quantinuum_utils import *"
   ]
  },
  {
   "cell_type": "code",
   "execution_count": null,
   "metadata": {},
   "outputs": [],
   "source": [
    "import os\n",
    "os.chdir('..')\n",
    "optimizer = 'sgd'\n",
    "nqubits = 4\n",
    "nlayer = 1\n",
    "folder_path = f'results/circuit_qasm/{optimizer}_{nqubits}q_{nlayer}l_XXZ/'\n",
    "vqe_circ_file = folder_path + 'vqe_circ.qasm'\n",
    "gci_circ_file = folder_path + 'gci_circ.qasm'"
   ]
  },
  {
   "cell_type": "code",
   "execution_count": null,
   "metadata": {},
   "outputs": [],
   "source": [
    "vqe_circ = pytket.qasm.circuit_from_qasm(vqe_circ_file)\n",
    "# render_circuit_jupyter(vqe_circ)"
   ]
  },
  {
   "cell_type": "code",
   "execution_count": null,
   "metadata": {},
   "outputs": [],
   "source": [
    "gci_circ = pytket.qasm.circuit_from_qasm(gci_circ_file)\n",
    "# render_circuit_jupyter(gci_circ)"
   ]
  },
  {
   "cell_type": "markdown",
   "metadata": {},
   "source": [
    "# Quantinuum preparation"
   ]
  },
  {
   "cell_type": "markdown",
   "metadata": {},
   "source": [
    "Let us check the size of the GCI circuit."
   ]
  },
  {
   "cell_type": "code",
   "execution_count": null,
   "metadata": {},
   "outputs": [],
   "source": [
    "print(\"Circuit depth:\", gci_circ.depth())\n",
    "print(\"Circuit total gate count:\", gci_circ.n_gates)\n",
    "num_cnots = sum(1 for command in gci_circ if command.op.type == OpType.CX)\n",
    "print(\"Circuit CNOT count:\", num_cnots)"
   ]
  },
  {
   "cell_type": "code",
   "execution_count": null,
   "metadata": {},
   "outputs": [],
   "source": [
    "import qnexus as qnx"
   ]
  },
  {
   "cell_type": "code",
   "execution_count": null,
   "metadata": {},
   "outputs": [],
   "source": [
    "# connect to nexus account\n",
    "qnx.client.auth.login()"
   ]
  },
  {
   "cell_type": "code",
   "execution_count": null,
   "metadata": {},
   "outputs": [],
   "source": [
    "# connect to nexus project\n",
    "project_name = \"boostvqe_demo_XXZ\"\n",
    "project_ref = qnx.projects.get_or_create(name=project_name)\n",
    "project_ref.df()\n",
    "\n",
    "# set this in the context\n",
    "qnx.context.set_active_project(project_ref)"
   ]
  },
  {
   "cell_type": "markdown",
   "metadata": {},
   "source": [
    "### Hamiltonian in Pytket"
   ]
  },
  {
   "cell_type": "code",
   "execution_count": null,
   "metadata": {},
   "outputs": [],
   "source": [
    "# XXZ model\n",
    "nqubits = 4\n",
    "delta = 0.5\n",
    "terms = {}\n",
    "for i in range(nqubits):\n",
    "    term_x_i = create_qubit_pauli_string(nqubits, {i: Pauli.X, (i+1)%nqubits: Pauli.X}, 1)\n",
    "    term_y_i = create_qubit_pauli_string(nqubits, {i: Pauli.Y, (i+1)%nqubits: Pauli.Y}, 1)\n",
    "    term_z_i = create_qubit_pauli_string(nqubits, {i: Pauli.Z, (i+1)%nqubits: Pauli.Z}, delta)\n",
    "    terms.update(term_x_i)\n",
    "    terms.update(term_y_i)\n",
    "    terms.update(term_z_i)\n",
    "ham_quantinuum = QubitPauliOperator(terms)"
   ]
  },
  {
   "cell_type": "markdown",
   "metadata": {},
   "source": [
    "### Measurement setup\n",
    "Based on the hamiltonian in Pauli basis, we create a list of measurement setup for evaluating each non-commuting set of Pauli components of the hamiltonian."
   ]
  },
  {
   "cell_type": "code",
   "execution_count": null,
   "metadata": {},
   "outputs": [],
   "source": [
    "terms = [term for term in ham_quantinuum._dict.keys()]\n",
    "measurement_setup = measurement_reduction(\n",
    "    terms, strat=PauliPartitionStrat.CommutingSets\n",
    ")\n",
    "# for mc in measurement_setup.measurement_circs:\n",
    "#     render_circuit_jupyter(mc)"
   ]
  },
  {
   "cell_type": "markdown",
   "metadata": {},
   "source": [
    "Here, we have created measurement circuits for the $X$, $Y$, and $Z$ terms. Next, we can upload and compile the measurement circuits.\n",
    "\n",
    "## Compile circuits\n",
    "\n",
    "We are now running noiseless emulation."
   ]
  },
  {
   "cell_type": "code",
   "execution_count": null,
   "metadata": {},
   "outputs": [],
   "source": [
    "optimisation_level = 1"
   ]
  },
  {
   "cell_type": "code",
   "execution_count": 56,
   "metadata": {},
   "outputs": [],
   "source": [
    "# create list of circuits for measurement in different bases\n",
    "vqe_circuit_ref_list = []\n",
    "gci_circuit_ref_list = []\n",
    "for i, mc in enumerate(measurement_setup.measurement_circs):\n",
    "    c = vqe_circ.copy()\n",
    "    c.append(mc)\n",
    "    measurement_vqe_circuit_ref = qnx.circuits.upload(\n",
    "                circuit=c, \n",
    "                name=f\"measurement vqe circuit {i}\",\n",
    "            )\n",
    "    c = gci_circ.copy()\n",
    "    c.append(mc)\n",
    "    measurement_gci_circuit_ref = qnx.circuits.upload(\n",
    "                circuit=c, \n",
    "                name=f\"measurement gci circuit {i}\",\n",
    "            )\n",
    "    vqe_circuit_ref_list.append(measurement_vqe_circuit_ref)\n",
    "    gci_circuit_ref_list.append(measurement_gci_circuit_ref)\n",
    "\n",
    "# compile vqe measurement circuit list\n",
    "compiled_vqe_circuit_refs = qnx.compile(\n",
    "            name=f\"compile_job_VQE_{datetime.now()}\",\n",
    "            circuits=vqe_circuit_ref_list,\n",
    "            optimisation_level=optimisation_level,\n",
    "            backend_config=qnx.QuantinuumConfig(device_name=\"H1-1LE\"),\n",
    "            timeout=None,\n",
    "        )\n",
    "\n",
    "# compile gci measurement circuit list\n",
    "compiled_gci_circuit_refs = qnx.compile(\n",
    "            name=f\"compile_job_GCI_{datetime.now()}\",\n",
    "            circuits=gci_circuit_ref_list,\n",
    "            optimisation_level=optimisation_level,\n",
    "            backend_config=qnx.QuantinuumConfig(device_name=\"H1-1LE\"),\n",
    "            timeout=None,\n",
    "        )"
   ]
  },
  {
   "cell_type": "markdown",
   "metadata": {},
   "source": [
    "## Optimisation level test"
   ]
  },
  {
   "cell_type": "code",
   "execution_count": 80,
   "metadata": {},
   "outputs": [],
   "source": [
    "from pytket.circuit import OpType\n",
    "from datetime import datetime\n",
    "\n",
    "# Define your optimization levels\n",
    "optimization_levels = [0,1,2]\n",
    "\n",
    "# Dictionary to store compiled circuits per optimization level\n",
    "vqe_compiled_circuits_dict = {}\n",
    "gci_compiled_circuits_dict = {}\n",
    "\n",
    "# Compile circuits for each optimization level\n",
    "for opt_level in optimization_levels:\n",
    "    vqe_compile_job = qnx.compile(\n",
    "        name=f\"compile_job_VQE_opt_{opt_level}_{datetime.now()}\",\n",
    "        circuits=vqe_circuit_ref_list,\n",
    "        optimisation_level=opt_level,\n",
    "        backend_config=qnx.QuantinuumConfig(device_name=\"H1-1LE\"),\n",
    "        timeout=None,\n",
    "    )\n",
    "    vqe_compiled_circuits_dict[opt_level] = vqe_compile_job\n",
    "    gci_compile_job = qnx.compile(\n",
    "        name=f\"compile_job_GCI_opt_{opt_level}_{datetime.now()}\",\n",
    "        circuits=gci_circuit_ref_list,\n",
    "        optimisation_level=opt_level,\n",
    "        backend_config=qnx.QuantinuumConfig(device_name=\"H1-1LE\"),\n",
    "        timeout=None,\n",
    "    )\n",
    "    gci_compiled_circuits_dict[opt_level] = gci_compile_job"
   ]
  },
  {
   "cell_type": "code",
   "execution_count": 106,
   "metadata": {},
   "outputs": [],
   "source": [
    "# Function to retrieve and analyze compiled circuits from a compile job\n",
    "def retrieve_and_analyze_compiled_circuits(compile_jobs, opt_level):\n",
    "    \"\"\"Waits for jobs to complete, downloads results, and analyzes gate counts.\"\"\"\n",
    "    job = compile_jobs[0]\n",
    "    # Download the compiled circuit\n",
    "    compiled_circuit = job.download_circuit()\n",
    "    \n",
    "    # Analyze gate counts\n",
    "    circuit_depth = compiled_circuit.depth()\n",
    "    total_gates = compiled_circuit.n_gates\n",
    "    # for command in compiled_circuit:\n",
    "    #     print(command.op.type)\n",
    "    # num_cnots = sum(1 for command in compiled_circuit if command.op.type == OpType.CZ)\n",
    "    # print(num_cnots)\n",
    "    \n",
    "    # Print the analysis\n",
    "    print(f\"--- Optimization Level: {opt_level} ---\")\n",
    "    print(f\"Circuit Depth: {circuit_depth}\")\n",
    "    print(f\"Total Gate Count: {total_gates}\")\n",
    "    # print(f\"CNOT Gate Count: {num_cnots}\\n\")\n",
    "    \n",
    "from collections import Counter\n",
    "import matplotlib.pyplot as plt\n",
    "import numpy as np\n",
    "\n",
    "\n",
    "def plot_grouped_op_type_frequencies(circuits, labels, figsize=(14, 8)):\n",
    "    \"\"\"\n",
    "    Generates a grouped bar plot of operation type frequencies for multiple pytket circuits,\n",
    "    with frequency values displayed on top of each bar.\n",
    "\n",
    "    Parameters:\n",
    "    - circuits (list of pytket.circuit.Circuit): List of pytket circuits to analyze.\n",
    "    - labels (list of str): Labels for each circuit (e.g., optimization levels).\n",
    "    - figsize (tuple, optional): Size of the figure. Default is (14, 8).\n",
    "\n",
    "    Returns:\n",
    "    - None: Displays the plot.\n",
    "    \"\"\"\n",
    "\n",
    "    if len(circuits) != len(labels):\n",
    "        raise ValueError(\"The number of circuits must match the number of labels.\")\n",
    "\n",
    "    # Step 1: Aggregate all unique OpTypes across all circuits\n",
    "    all_op_types = set()\n",
    "    for circuit in circuits:\n",
    "        all_op_types.update([command.op.type for command in circuit])\n",
    "    all_op_types = sorted(all_op_types, key=lambda x: x.name)  # Sort alphabetically by name\n",
    "\n",
    "    # Step 2: Count frequencies for each circuit\n",
    "    freq_dicts = []\n",
    "    for circuit in circuits:\n",
    "        op_types = [command.op.type for command in circuit]\n",
    "        op_counts = Counter(op_types)\n",
    "        # Ensure all OpTypes are present, even if count is zero\n",
    "        freq = {op_type.name: op_counts.get(op_type, 0) for op_type in all_op_types}\n",
    "        freq_dicts.append(freq)\n",
    "\n",
    "    # Step 3: Prepare data for plotting\n",
    "    op_labels = [op_type.name for op_type in all_op_types]\n",
    "    num_op_types = len(op_labels)\n",
    "    num_circuits = len(circuits)\n",
    "\n",
    "    # Set the positions and width for the bars\n",
    "    bar_width = 0.8 / num_circuits  # Total width is 0.8, divided among circuits\n",
    "    indices = np.arange(num_op_types)\n",
    "\n",
    "    # Step 4: Create the plot\n",
    "    plt.figure(figsize=figsize)\n",
    "\n",
    "    # Set default colors if none provided\n",
    "    colors = plt.cm.tab10.colors  # Default matplotlib color cycle\n",
    "\n",
    "    # Ensure there are enough colors\n",
    "    if len(colors) < len(circuits):\n",
    "        # Repeat colors if not enough\n",
    "        colors = colors * (len(circuits) // len(colors) + 1)\n",
    "\n",
    "    for i, freq in enumerate(freq_dicts):\n",
    "        counts = [freq[op] for op in op_labels]\n",
    "        # Calculate position for each circuit's bars\n",
    "        bar_positions = indices - 0.4 + (i + 0.5) * bar_width\n",
    "        bars = plt.bar(bar_positions, counts, width=bar_width, label=labels[i], color=colors[i])\n",
    "\n",
    "        # Add frequency labels on top of each bar\n",
    "        for bar in bars:\n",
    "            height = bar.get_height()\n",
    "            plt.annotate('{}'.format(height),\n",
    "                         xy=(bar.get_x() + bar.get_width() / 2, height),\n",
    "                         xytext=(0, 3),  # 3 points vertical offset\n",
    "                         textcoords=\"offset points\",\n",
    "                         ha='center', va='bottom', fontsize=9)\n",
    "\n",
    "    # Step 5: Customize the plot\n",
    "    plt.xlabel('Operation Type', fontsize=14)\n",
    "    plt.ylabel('Frequency', fontsize=14)\n",
    "    plt.title('Frequency of Operation Types Across Circuits', fontsize=16)\n",
    "    plt.xticks(indices, op_labels, rotation=45, ha='right')\n",
    "    plt.legend(title='Circuits', fontsize=12, title_fontsize=12)\n",
    "    plt.tight_layout()\n",
    "\n",
    "    # Optional: Add gridlines for better readability\n",
    "    plt.grid(axis='y', linestyle='--', alpha=0.7)\n",
    "\n",
    "    # Step 6: Display the plot\n",
    "    plt.show()"
   ]
  },
  {
   "cell_type": "code",
   "execution_count": 99,
   "metadata": {},
   "outputs": [
    {
     "name": "stdout",
     "output_type": "stream",
     "text": [
      "\n",
      "Processing Optimization Level: 0\n",
      "--- Optimization Level: 0 ---\n",
      "Circuit Depth: 498\n",
      "Total Gate Count: 1662\n",
      "\n",
      "Processing Optimization Level: 1\n",
      "--- Optimization Level: 1 ---\n",
      "Circuit Depth: 184\n",
      "Total Gate Count: 546\n",
      "\n",
      "Processing Optimization Level: 2\n",
      "--- Optimization Level: 2 ---\n",
      "Circuit Depth: 144\n",
      "Total Gate Count: 434\n"
     ]
    }
   ],
   "source": [
    "# Iterate over each optimization level and process the compile jobs\n",
    "circuits = []\n",
    "for opt_level, compile_jobs in gci_compiled_circuits_dict.items():\n",
    "    print(f\"\\nProcessing Optimization Level: {opt_level}\")\n",
    "    retrieve_and_analyze_compiled_circuits(compile_jobs, opt_level)\n",
    "    job = compile_jobs[0]\n",
    "    # Download the compiled circuit\n",
    "    compiled_circuit = job.download_circuit()\n",
    "    circuits.append(compiled_circuit)"
   ]
  },
  {
   "cell_type": "code",
   "execution_count": 109,
   "metadata": {},
   "outputs": [],
   "source": [
    "circuits.append(gci_circ)"
   ]
  },
  {
   "cell_type": "code",
   "execution_count": 110,
   "metadata": {},
   "outputs": [
    {
     "data": {
      "image/png": "[encoded data removed]",
      "text/plain": [
       "<Figure size 1400x800 with 1 Axes>"
      ]
     },
     "metadata": {},
     "output_type": "display_data"
    }
   ],
   "source": [
    "plot_grouped_op_type_frequencies(circuits, labels=[f'optimisation level {optimisation_level}' for optimisation_level in range(3)]+['GCI circuit'])"
   ]
  },
  {
   "cell_type": "markdown",
   "metadata": {},
   "source": [
    "# Run without noise"
   ]
  },
  {
   "cell_type": "code",
   "execution_count": null,
   "metadata": {},
   "outputs": [],
   "source": [
    "# Configuration\n",
    "nshots = 2000\n",
    "backend_config = qnx.QuantinuumConfig(device_name=\"H1-1LE\") "
   ]
  },
  {
   "cell_type": "code",
   "execution_count": null,
   "metadata": {},
   "outputs": [],
   "source": [
    "vqe_job_name = f\"execute_job_VQE_{nshots}shots_{datetime.now()}\"\n",
    "gci_job_name = f\"execute_job_GCI_{nshots}shots_{datetime.now()}\"\n",
    "results_vqe = qnx.start_execute_job(\n",
    "            name=vqe_job_name,\n",
    "            circuits=compiled_vqe_circuit_refs,\n",
    "            n_shots=[nshots]*len(vqe_circuit_ref_list),\n",
    "            backend_config=backend_config,\n",
    "        )\n",
    "results_gci = qnx.start_execute_job(\n",
    "            name=gci_job_name,\n",
    "            circuits=compiled_gci_circuit_refs,\n",
    "            n_shots=[nshots]*len(gci_circuit_ref_list),\n",
    "            backend_config=backend_config,\n",
    "        )"
   ]
  },
  {
   "cell_type": "code",
   "execution_count": null,
   "metadata": {},
   "outputs": [],
   "source": [
    "from pathlib import Path\n",
    "folder_path = f'results/qnx_job_ref/{optimizer}_{nqubits}q_{nlayer}l_ol{optimisation_level}_XXZ/'\n",
    "os.makedirs(folder_path, exist_ok=True)\n",
    "qnx.filesystem.save(\n",
    "    ref=results_vqe,\n",
    "    path=Path.cwd() / folder_path / vqe_job_name,\n",
    "    mkdir=True,\n",
    ")\n",
    "\n",
    "from pathlib import Path\n",
    "qnx.filesystem.save(\n",
    "    ref=results_gci,\n",
    "    path=Path.cwd() /folder_path / gci_job_name,\n",
    "    mkdir=True,\n",
    ")"
   ]
  },
  {
   "cell_type": "markdown",
   "metadata": {},
   "source": [
    "# Retrieve noiseless results\n",
    "\n",
    "Without running repeated jobs, we can retrieve our results from the Qnexus project."
   ]
  },
  {
   "cell_type": "code",
   "execution_count": null,
   "metadata": {},
   "outputs": [],
   "source": [
    "import qnexus as qnx\n",
    "from pathlib import Path"
   ]
  },
  {
   "cell_type": "code",
   "execution_count": null,
   "metadata": {},
   "outputs": [],
   "source": [
    "optimisation_level = 1\n",
    "folder_path = f'results/qnx_job_ref/{optimizer}_{nqubits}q_{nlayer}l_{optimisation_level}ol_XXZ/'\n",
    "vqe_job_file = folder_path + 'execute_job_VQE_2000shots_2024-11-06 16:01:11.142908'\n",
    "gci_job_file = folder_path + 'execute_job_GCI_2000shots_2024-11-06 16:01:11.143008'"
   ]
  },
  {
   "cell_type": "code",
   "execution_count": null,
   "metadata": {},
   "outputs": [],
   "source": [
    "vqe_job_ref = qnx.filesystem.load(\n",
    "    path=Path.cwd() / vqe_job_file\n",
    ")\n",
    "\n",
    "gci_job_ref = qnx.filesystem.load(\n",
    "    path=Path.cwd() / gci_job_file\n",
    ")"
   ]
  },
  {
   "cell_type": "code",
   "execution_count": null,
   "metadata": {},
   "outputs": [],
   "source": [
    "print(qnx.jobs.status(vqe_job_ref))\n",
    "print(qnx.jobs.status(gci_job_ref))"
   ]
  },
  {
   "cell_type": "code",
   "execution_count": null,
   "metadata": {},
   "outputs": [],
   "source": [
    "vqe_results = [job.download_result() for job in qnx.jobs.results(vqe_job_ref)]\n",
    "gci_results = [job.download_result() for job in qnx.jobs.results(gci_job_ref)]"
   ]
  },
  {
   "cell_type": "code",
   "execution_count": null,
   "metadata": {},
   "outputs": [],
   "source": [
    "# XXZ model\n",
    "nqubits = 4\n",
    "delta = 0.5\n",
    "terms = {}\n",
    "for i in range(nqubits):\n",
    "    term_x_i = create_qubit_pauli_string(nqubits, {i: Pauli.X, (i+1)%nqubits: Pauli.X}, 1)\n",
    "    term_y_i = create_qubit_pauli_string(nqubits, {i: Pauli.Y, (i+1)%nqubits: Pauli.Y}, 1)\n",
    "    term_z_i = create_qubit_pauli_string(nqubits, {i: Pauli.Z, (i+1)%nqubits: Pauli.Z}, delta)\n",
    "    terms.update(term_x_i)\n",
    "    terms.update(term_y_i)\n",
    "    terms.update(term_z_i)\n",
    "ham_quantinuum = QubitPauliOperator(terms)\n",
    "terms = [term for term in ham_quantinuum._dict.keys()]\n",
    "measurement_setup = measurement_reduction(\n",
    "    terms, strat=PauliPartitionStrat.CommutingSets\n",
    ")"
   ]
  },
  {
   "cell_type": "code",
   "execution_count": null,
   "metadata": {},
   "outputs": [],
   "source": [
    "expval_vqe = compute_expectation_value_from_results(\n",
    "    vqe_results, measurement_setup, ham_quantinuum\n",
    ")\n",
    "print(expval_vqe)"
   ]
  },
  {
   "cell_type": "code",
   "execution_count": null,
   "metadata": {},
   "outputs": [],
   "source": [
    "expval_gci = compute_expectation_value_from_results(\n",
    "    gci_results, measurement_setup, ham_quantinuum\n",
    ")\n",
    "print(expval_gci)"
   ]
  },
  {
   "cell_type": "markdown",
   "metadata": {},
   "source": [
    "# With noise"
   ]
  },
  {
   "cell_type": "code",
   "execution_count": null,
   "metadata": {},
   "outputs": [],
   "source": [
    "backend_config = qnx.QuantinuumConfig(\n",
    "    device_name='H1-Emulator',\n",
    "    attempt_batching=True,\n",
    ")\n",
    "nshots = 2000"
   ]
  },
  {
   "cell_type": "code",
   "execution_count": null,
   "metadata": {},
   "outputs": [],
   "source": [
    "vqe_job_name_with_noise = f\"execute_job_VQE_{nshots}shots_noise_{datetime.now()}\"\n",
    "gci_job_name_with_noise = f\"execute_job_GCI_{nshots}shots_noise_{datetime.now()}\"\n",
    "results_vqe_noise = qnx.start_execute_job(\n",
    "            name=vqe_job_name_with_noise,\n",
    "            circuits=compiled_vqe_circuit_refs,\n",
    "            n_shots=[nshots]*len(vqe_circuit_ref_list),\n",
    "            backend_config=backend_config,\n",
    "        )\n",
    "results_gci_noise = qnx.start_execute_job(\n",
    "            name=gci_job_name_with_noise,\n",
    "            circuits=compiled_gci_circuit_refs,\n",
    "            n_shots=[nshots]*len(gci_circuit_ref_list),\n",
    "            backend_config=backend_config,\n",
    "        )"
   ]
  },
  {
   "cell_type": "code",
   "execution_count": null,
   "metadata": {},
   "outputs": [],
   "source": [
    "from pathlib import Path\n",
    "folder_path = f'results/qnx_job_ref/{optimizer}_{nqubits}q_{nlayer}l_{optimisation_level}ol_XXZ/'\n",
    "os.makedirs(folder_path, exist_ok=True)\n",
    "qnx.filesystem.save(\n",
    "    ref=results_vqe_noise,\n",
    "    path=Path.cwd() / folder_path / vqe_job_name_with_noise,\n",
    "    mkdir=True,\n",
    ")\n",
    "\n",
    "from pathlib import Path\n",
    "qnx.filesystem.save(\n",
    "    ref=results_gci_noise,\n",
    "    path=Path.cwd() / folder_path / gci_job_name_with_noise,\n",
    "    mkdir=True,\n",
    ")"
   ]
  },
  {
   "cell_type": "markdown",
   "metadata": {},
   "source": [
    "# Retrieve noisy results"
   ]
  },
  {
   "cell_type": "code",
   "execution_count": null,
   "metadata": {},
   "outputs": [],
   "source": [
    "gci_job_file_noise = 'results/qnx_job_ref/sgd_4q_1l_1ol_XXZ/execute_job_GCI_2000shots_noise_2024-11-18 20:23:34.273262'\n",
    "vqe_job_file_noise = 'results/qnx_job_ref/sgd_4q_1l_1ol_XXZ/execute_job_VQE_2000shots_noise_2024-11-18 20:23:34.273095'"
   ]
  },
  {
   "cell_type": "code",
   "execution_count": null,
   "metadata": {},
   "outputs": [],
   "source": [
    "vqe_job_ref_noise = qnx.filesystem.load(\n",
    "    path=Path.cwd() / vqe_job_file_noise\n",
    ")\n",
    "\n",
    "gci_job_ref_noise = qnx.filesystem.load(\n",
    "    path=Path.cwd() / gci_job_file_noise\n",
    ")"
   ]
  },
  {
   "cell_type": "code",
   "execution_count": null,
   "metadata": {},
   "outputs": [],
   "source": [
    "print(qnx.jobs.status(vqe_job_ref_noise))\n",
    "print(qnx.jobs.status(gci_job_ref_noise))"
   ]
  },
  {
   "cell_type": "code",
   "execution_count": null,
   "metadata": {},
   "outputs": [],
   "source": [
    "vqe_results_noise = [job.download_result() for job in qnx.jobs.results(vqe_job_ref_noise)]\n",
    "gci_results_noise = [job.download_result() for job in qnx.jobs.results(gci_job_ref_noise)]"
   ]
  },
  {
   "cell_type": "code",
   "execution_count": null,
   "metadata": {},
   "outputs": [],
   "source": [
    "expval_vqe_noise = compute_expectation_value_from_results(\n",
    "    vqe_results_noise, measurement_setup, ham_quantinuum\n",
    ")\n",
    "print(expval_vqe_noise)"
   ]
  },
  {
   "cell_type": "code",
   "execution_count": null,
   "metadata": {},
   "outputs": [],
   "source": [
    "expval_gci_noise = compute_expectation_value_from_results(\n",
    "    gci_results_noise, measurement_setup, ham_quantinuum\n",
    ")\n",
    "print(expval_gci_noise)"
   ]
  },
  {
   "cell_type": "markdown",
   "metadata": {},
   "source": [
    "# Prepare report"
   ]
  },
  {
   "cell_type": "code",
   "execution_count": null,
   "metadata": {},
   "outputs": [],
   "source": [
    "import qibo\n",
    "from qibo.backends import construct_backend\n",
    "from qibo import hamiltonians\n",
    "import matplotlib.pyplot as plt\n",
    "import numpy as np"
   ]
  },
  {
   "cell_type": "code",
   "execution_count": null,
   "metadata": {},
   "outputs": [],
   "source": [
    "qibo.set_backend(\"numpy\")"
   ]
  },
  {
   "cell_type": "code",
   "execution_count": null,
   "metadata": {},
   "outputs": [],
   "source": [
    "nqubits = 4\n",
    "delta = 0.5\n",
    "ham = hamiltonians.XXZ(nqubits, delta, dense=False)\n",
    "plt.imshow(np.real(ham.matrix))\n",
    "plt.colorbar()"
   ]
  },
  {
   "cell_type": "markdown",
   "metadata": {},
   "source": []
  },
  {
   "cell_type": "code",
   "execution_count": null,
   "metadata": {},
   "outputs": [],
   "source": [
    "with open (vqe_circ_file, \"r\") as file:\n",
    "    vqe_circuit_qasm_str = file.read()\n",
    "    \n",
    "with open (gci_circ_file, \"r\") as file:\n",
    "    gci_circuit_qasm_str = file.read()"
   ]
  },
  {
   "cell_type": "code",
   "execution_count": null,
   "metadata": {},
   "outputs": [],
   "source": [
    "vqe_circ_qibo = qibo.models.Circuit.from_qasm(vqe_circuit_qasm_str)\n",
    "gci_circ_qibo = qibo.models.Circuit.from_qasm(gci_circuit_qasm_str)"
   ]
  },
  {
   "cell_type": "code",
   "execution_count": null,
   "metadata": {},
   "outputs": [],
   "source": [
    "report_quantinuum = report(vqe_circ_qibo, gci_circ_qibo, ham, expval_vqe, expval_gci, expval_vqe_noise, expval_gci_noise)"
   ]
  },
  {
   "cell_type": "code",
   "execution_count": null,
   "metadata": {},
   "outputs": [],
   "source": [
    "report_table(report_quantinuum)"
   ]
  }
 ],
 "metadata": {
  "kernelspec": {
   "display_name": "Python 3",
   "language": "python",
   "name": "python3"
  },
  "language_info": {
   "codemirror_mode": {
    "name": "ipython",
    "version": 3
   },
   "file_extension": ".py",
   "mimetype": "text/x-python",
   "name": "python",
   "nbconvert_exporter": "python",
   "pygments_lexer": "ipython3",
   "version": "3.11.10"
  }
 },
 "nbformat": 4,
 "nbformat_minor": 2
}
