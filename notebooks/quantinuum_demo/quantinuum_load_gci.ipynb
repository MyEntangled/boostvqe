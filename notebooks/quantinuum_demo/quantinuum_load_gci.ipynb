{
 "cells": [
  {
   "cell_type": "markdown",
   "metadata": {},
   "source": [
    "# Boostvqe in Quantinuum\n",
    "\n",
    "Following our example in the notebook `gci_boostvqe_circuit_synthesis.ipynb`, we will load the VQE and GCI circuits and run on Quantinuum Nexus emulators."
   ]
  },
  {
   "cell_type": "markdown",
   "metadata": {},
   "source": [
    "## Load VQE and GCI circuits"
   ]
  },
  {
   "cell_type": "code",
   "execution_count": 72,
   "metadata": {},
   "outputs": [],
   "source": [
    "from pytket import Circuit, OpType\n",
    "from pytket.circuit.display import render_circuit_jupyter\n",
    "import pytket.qasm\n",
    "from datetime import datetime"
   ]
  },
  {
   "cell_type": "code",
   "execution_count": 123,
   "metadata": {},
   "outputs": [],
   "source": [
    "vqe_circ_file = \"results/vqe_circ_4.qasm\"\n",
    "gci_circ_file = \"results/gci_circ_4.qasm\""
   ]
  },
  {
   "cell_type": "code",
   "execution_count": 124,
   "metadata": {},
   "outputs": [],
   "source": [
    "vqe_circ = pytket.qasm.circuit_from_qasm(vqe_circ_file)\n",
    "# render_circuit_jupyter(vqe_circ)"
   ]
  },
  {
   "cell_type": "code",
   "execution_count": 125,
   "metadata": {},
   "outputs": [],
   "source": [
    "gci_circ = pytket.qasm.circuit_from_qasm(gci_circ_file)\n",
    "# render_circuit_jupyter(gci_circ)"
   ]
  },
  {
   "cell_type": "markdown",
   "metadata": {},
   "source": [
    "Let us check the size of the GCI circuit."
   ]
  },
  {
   "cell_type": "code",
   "execution_count": 126,
   "metadata": {},
   "outputs": [
    {
     "name": "stdout",
     "output_type": "stream",
     "text": [
      "Circuit depth: 235\n",
      "Circuit total gate count: 632\n",
      "Circuit CNOT count: 144\n"
     ]
    }
   ],
   "source": [
    "print(\"Circuit depth:\", gci_circ.depth())\n",
    "print(\"Circuit total gate count:\", gci_circ.n_gates)\n",
    "num_cnots = sum(1 for command in gci_circ if command.op.type == OpType.CX)\n",
    "print(\"Circuit CNOT count:\", num_cnots)"
   ]
  },
  {
   "cell_type": "markdown",
   "metadata": {},
   "source": [
    "## Quantinuum preparation\n",
    "Authentication - Create project - Set context"
   ]
  },
  {
   "cell_type": "code",
   "execution_count": 77,
   "metadata": {},
   "outputs": [],
   "source": [
    "import qnexus as qnx"
   ]
  },
  {
   "cell_type": "code",
   "execution_count": 79,
   "metadata": {},
   "outputs": [
    {
     "name": "stdout",
     "output_type": "stream",
     "text": [
      "🌐 Browser log in initiated.\n"
     ]
    },
    {
     "data": {
      "text/html": [
       "<pre style=\"white-space:pre;overflow-x:auto;line-height:normal;font-family:Menlo,'DejaVu Sans Mono',consolas,'Courier New',monospace\">╭────────────────────────────────────────────────────────────────────────────────────────╮\n",
       "│                                                                                        │\n",
       "│         Confirm that the browser shows the following code and click 'allow device':    │\n",
       "│                                                                                        │\n",
       "│                                      aCMXbV                                            │\n",
       "│                                                                                        │\n",
       "╰────────────────────────────────────────────────────────────────────────────────────────╯\n",
       "</pre>\n"
      ],
      "text/plain": [
       "╭────────────────────────────────────────────────────────────────────────────────────────╮\n",
       "│                                                                                        │\n",
       "│         Confirm that the browser shows the following code and click 'allow device':    │\n",
       "│                                                                                        │\n",
       "│                                      aCMXbV                                            │\n",
       "│                                                                                        │\n",
       "╰────────────────────────────────────────────────────────────────────────────────────────╯\n"
      ]
     },
     "metadata": {},
     "output_type": "display_data"
    },
    {
     "name": "stdout",
     "output_type": "stream",
     "text": [
      "Browser didn't open automatically? Use this link: \u001b[34mhttps://nexus.quantinuum.com/auth/device/browser?otp=aCMXbVpN2Fc7oVPrzcem6o3im3RMK73yublrdqULf_C0w2Q_K7FKZ5xEtlGP4whSKXiNzWZOVBRXiL2fUk1p0Q\n",
      "✅ Successfully logged in as xiaoyue.li@ntu.edu.sg using the browser.\n"
     ]
    }
   ],
   "source": [
    "# connect to nexus account\n",
    "qnx.client.auth.login()"
   ]
  },
  {
   "cell_type": "code",
   "execution_count": 148,
   "metadata": {},
   "outputs": [],
   "source": [
    "# connect to nexus project\n",
    "project_name = \"boostvqe_demo_XXZ\"\n",
    "project_ref = qnx.projects.get_or_create(name=project_name)\n",
    "project_ref.df()\n",
    "\n",
    "# set this in the context\n",
    "qnx.context.set_active_project(project_ref)"
   ]
  },
  {
   "cell_type": "markdown",
   "metadata": {},
   "source": [
    "## Energy expectation\n",
    "\n",
    "We define the loss function as the energy expectation of $H$ with the rotated state $|\\psi\\rangle=U|0\\rangle$, where the $U$ is implemented via the boostvqe circuit.\n",
    "\n",
    "We will start with computing the expectation of a Pauli operator measured in the corresponding basis."
   ]
  },
  {
   "cell_type": "code",
   "execution_count": 149,
   "metadata": {},
   "outputs": [],
   "source": [
    "from pytket import Circuit\n",
    "from pytket.utils.operators import QubitPauliOperator\n",
    "from pytket.partition import measurement_reduction, MeasurementBitMap, MeasurementSetup, PauliPartitionStrat\n",
    "from pytket.backends.backendresult import BackendResult\n",
    "from pytket.pauli import Pauli, QubitPauliString\n",
    "from pytket.circuit import Qubit"
   ]
  },
  {
   "cell_type": "code",
   "execution_count": 150,
   "metadata": {},
   "outputs": [],
   "source": [
    "def compute_expectation_paulistring(\n",
    "    distribution: dict[tuple[int, ...], float], bitmap: MeasurementBitMap\n",
    ") -> float:\n",
    "    '''\n",
    "    This function assumes that the bitmap is in the correct measurement basis\n",
    "    and evaluates Pauli operators composed of Pauli.Z and Pauli.I.\n",
    "    It calculates the expectation by counting the parity of the qubits being\n",
    "    flipped.\n",
    "    '''\n",
    "    value = 0\n",
    "    for bitstring, probability in distribution.items():\n",
    "        value += probability * (sum(bitstring[i] for i in bitmap.bits) % 2)\n",
    "    return ((-1) ** bitmap.invert) * (-2 * value + 1)"
   ]
  },
  {
   "cell_type": "markdown",
   "metadata": {},
   "source": [
    "Combining with the measurement setup and count results, the loss function can be defined:"
   ]
  },
  {
   "cell_type": "code",
   "execution_count": 151,
   "metadata": {},
   "outputs": [],
   "source": [
    "def compute_expectation_value_from_results(\n",
    "    results: list[BackendResult],\n",
    "    measurement_setup: MeasurementSetup,\n",
    "    operator: QubitPauliOperator,\n",
    ") -> float:\n",
    "    '''\n",
    "    This function loops with the measurement_setup corresponding to the\n",
    "    hamiltonian, select the corresponding string_coef, results index and\n",
    "    calculates the total expectation of the input hamiltonian.\n",
    "    '''\n",
    "    energy = 0\n",
    "    for pauli_string, bitmaps in measurement_setup.results.items():\n",
    "        string_coeff = operator.get(pauli_string, 0.0)\n",
    "        if string_coeff != 0:\n",
    "            for bm in bitmaps:\n",
    "                index = bm.circ_index\n",
    "                distribution = results[index].get_distribution()\n",
    "                value = compute_expectation_paulistring(distribution, bm)\n",
    "                energy += complex(value * string_coeff).real\n",
    "    return energy"
   ]
  },
  {
   "cell_type": "markdown",
   "metadata": {},
   "source": [
    "### Hamiltonian in Pytket"
   ]
  },
  {
   "cell_type": "code",
   "execution_count": 152,
   "metadata": {},
   "outputs": [],
   "source": [
    "def create_qubit_pauli_string(nqubits, specify_ls, coef):\n",
    "    '''\n",
    "    specify_ls: {index:Pauli.X/Y/Z}\n",
    "    '''\n",
    "    term = {}\n",
    "    specified_ids = list(specify_ls.keys())\n",
    "    for i in range(nqubits):\n",
    "        if i in specified_ids:\n",
    "            term.update({Qubit(i):specify_ls[i]})\n",
    "        else:\n",
    "            term.update({Qubit(i):Pauli.I})\n",
    "\n",
    "    return {QubitPauliString(term):coef}"
   ]
  },
  {
   "cell_type": "code",
   "execution_count": 153,
   "metadata": {},
   "outputs": [],
   "source": [
    "# XXZ model\n",
    "nqubits = 4\n",
    "delta = 0.5\n",
    "terms = {}\n",
    "for i in range(nqubits):\n",
    "    term_x_i = create_qubit_pauli_string(nqubits, {i: Pauli.X, (i+1)%nqubits: Pauli.X}, 1)\n",
    "    term_y_i = create_qubit_pauli_string(nqubits, {i: Pauli.Y, (i+1)%nqubits: Pauli.Y}, 1)\n",
    "    term_z_i = create_qubit_pauli_string(nqubits, {i: Pauli.Z, (i+1)%nqubits: Pauli.Z}, delta)\n",
    "    terms.update(term_x_i)\n",
    "    terms.update(term_y_i)\n",
    "    terms.update(term_z_i)\n",
    "ham_quantinuum = QubitPauliOperator(terms)"
   ]
  },
  {
   "cell_type": "markdown",
   "metadata": {},
   "source": [
    "### Measurement setup\n",
    "Based on the hamiltonian in Pauli basis, we create a list of measurement setup for evaluating each non-commuting set of Pauli components of the hamiltonian."
   ]
  },
  {
   "cell_type": "code",
   "execution_count": 154,
   "metadata": {},
   "outputs": [],
   "source": [
    "terms = [term for term in ham_quantinuum._dict.keys()]\n",
    "measurement_setup = measurement_reduction(\n",
    "    terms, strat=PauliPartitionStrat.CommutingSets\n",
    ")\n",
    "# for mc in measurement_setup.measurement_circs:\n",
    "#     render_circuit_jupyter(mc)"
   ]
  },
  {
   "cell_type": "markdown",
   "metadata": {},
   "source": [
    "Here, we have created measurement circuits for the $X$, $Y$, and $Z$ terms. Next, we can upload and compile the measurement circuits.\n",
    "\n",
    "## Compile circuits\n",
    "\n",
    "We are now running noiseless emulation."
   ]
  },
  {
   "cell_type": "code",
   "execution_count": 155,
   "metadata": {},
   "outputs": [],
   "source": [
    "# create list of circuits for measurement in different bases\n",
    "vqe_circuit_ref_list = []\n",
    "gci_circuit_ref_list = []\n",
    "for i, mc in enumerate(measurement_setup.measurement_circs):\n",
    "    c = vqe_circ.copy()\n",
    "    c.append(mc)\n",
    "    measurement_vqe_circuit_ref = qnx.circuits.upload(\n",
    "                circuit=c, \n",
    "                name=f\"measurement vqe circuit {i}\",\n",
    "            )\n",
    "    c = gci_circ.copy()\n",
    "    c.append(mc)\n",
    "    measurement_gci_circuit_ref = qnx.circuits.upload(\n",
    "                circuit=c, \n",
    "                name=f\"measurement gci circuit {i}\",\n",
    "            )\n",
    "    vqe_circuit_ref_list.append(measurement_vqe_circuit_ref)\n",
    "    gci_circuit_ref_list.append(measurement_gci_circuit_ref)\n",
    "\n",
    "# compile vqe measurement circuit list\n",
    "compiled_vqe_circuit_refs = qnx.compile(\n",
    "            name=f\"compile_job_VQE_{datetime.now()}\",\n",
    "            circuits=vqe_circuit_ref_list,\n",
    "            optimisation_level=1,\n",
    "            backend_config=qnx.QuantinuumConfig(device_name=\"H1-1LE\"),\n",
    "            timeout=None,\n",
    "        )\n",
    "\n",
    "# compile gci measurement circuit list\n",
    "compiled_gci_circuit_refs = qnx.compile(\n",
    "            name=f\"compile_job_GCI_{datetime.now()}\",\n",
    "            circuits=gci_circuit_ref_list,\n",
    "            optimisation_level=1,\n",
    "            backend_config=qnx.QuantinuumConfig(device_name=\"H1-1LE\"),\n",
    "            timeout=None,\n",
    "        )"
   ]
  },
  {
   "cell_type": "markdown",
   "metadata": {},
   "source": [
    "## Run circuits"
   ]
  },
  {
   "cell_type": "code",
   "execution_count": 173,
   "metadata": {},
   "outputs": [],
   "source": [
    "# Configuration\n",
    "nshots = 2000\n",
    "backend_config = qnx.QuantinuumConfig(device_name=\"H1-1LE\") "
   ]
  },
  {
   "cell_type": "code",
   "execution_count": 157,
   "metadata": {},
   "outputs": [],
   "source": [
    "vqe_job_name = f\"execute_job_VQE_{nshots}shots_{datetime.now()}\"\n",
    "gci_job_name = f\"execute_job_GCI_{nshots}shots_{datetime.now()}\"\n",
    "results_vqe = qnx.start_execute_job(\n",
    "            name=vqe_job_name,\n",
    "            circuits=compiled_vqe_circuit_refs,\n",
    "            n_shots=[nshots]*len(vqe_circuit_ref_list),\n",
    "            backend_config=backend_config,\n",
    "        )\n",
    "results_gci = qnx.start_execute_job(\n",
    "            name=gci_job_name,\n",
    "            circuits=compiled_gci_circuit_refs,\n",
    "            n_shots=[nshots]*len(gci_circuit_ref_list),\n",
    "            backend_config=backend_config,\n",
    "        )"
   ]
  },
  {
   "cell_type": "code",
   "execution_count": 158,
   "metadata": {},
   "outputs": [],
   "source": [
    "from pathlib import Path\n",
    "qnx.filesystem.save(\n",
    "    ref=results_vqe,\n",
    "    path=Path.cwd() / \"results\" / vqe_job_name,\n",
    "    mkdir=True,\n",
    ")\n",
    "\n",
    "from pathlib import Path\n",
    "qnx.filesystem.save(\n",
    "    ref=results_gci,\n",
    "    path=Path.cwd() / \"results\" / gci_job_name,\n",
    "    mkdir=True,\n",
    ")"
   ]
  },
  {
   "cell_type": "markdown",
   "metadata": {},
   "source": [
    "# Retrieve results\n",
    "\n",
    "Without running repeated jobs, we can retrieve our results from the Qnexus project."
   ]
  },
  {
   "cell_type": "code",
   "execution_count": 159,
   "metadata": {},
   "outputs": [],
   "source": [
    "vqe_job_file = \"results/execute_job_VQE_1000shots_2024-11-06 13:39:29.036185\"\n",
    "gci_job_file = \"results/execute_job_VQE_2000shots_2024-11-06 16:01:11.142908\""
   ]
  },
  {
   "cell_type": "code",
   "execution_count": 160,
   "metadata": {},
   "outputs": [],
   "source": [
    "vqe_job_ref = qnx.filesystem.load(\n",
    "    path=Path.cwd() / vqe_job_file\n",
    ")\n",
    "\n",
    "gci_job_ref = qnx.filesystem.load(\n",
    "    path=Path.cwd() / gci_job_file\n",
    ")"
   ]
  },
  {
   "cell_type": "code",
   "execution_count": 164,
   "metadata": {},
   "outputs": [
    {
     "name": "stdout",
     "output_type": "stream",
     "text": [
      "JobStatus(status=<StatusEnum.COMPLETED: 'Circuit has completed. Results are ready.'>, message='The job is completed.', error_detail=None, completed_time=datetime.datetime(2024, 11, 6, 5, 42, 25, 66452, tzinfo=datetime.timezone.utc), queued_time=None, submitted_time=datetime.datetime(2024, 11, 6, 5, 39, 30, 491358, tzinfo=datetime.timezone.utc), running_time=datetime.datetime(2024, 11, 6, 5, 42, 18, 369196, tzinfo=datetime.timezone.utc), cancelled_time=None, error_time=None, queue_position=None)\n",
      "JobStatus(status=<StatusEnum.COMPLETED: 'Circuit has completed. Results are ready.'>, message='The job is completed.', error_detail=None, completed_time=datetime.datetime(2024, 11, 6, 8, 4, 10, 547260, tzinfo=datetime.timezone.utc), queued_time=None, submitted_time=datetime.datetime(2024, 11, 6, 8, 1, 11, 896360, tzinfo=datetime.timezone.utc), running_time=datetime.datetime(2024, 11, 6, 8, 4, 4, 369275, tzinfo=datetime.timezone.utc), cancelled_time=None, error_time=None, queue_position=None)\n"
     ]
    }
   ],
   "source": [
    "print(qnx.jobs.status(vqe_job_ref))\n",
    "print(qnx.jobs.status(gci_job_ref))"
   ]
  },
  {
   "cell_type": "code",
   "execution_count": 165,
   "metadata": {},
   "outputs": [],
   "source": [
    "vqe_results = [job.download_result() for job in qnx.jobs.results(vqe_job_ref)]\n",
    "gci_results = [job.download_result() for job in qnx.jobs.results(gci_job_ref)]"
   ]
  },
  {
   "cell_type": "code",
   "execution_count": 166,
   "metadata": {},
   "outputs": [
    {
     "name": "stdout",
     "output_type": "stream",
     "text": [
      "-4.8629999999999995\n"
     ]
    }
   ],
   "source": [
    "expval_vqe = compute_expectation_value_from_results(\n",
    "    vqe_results, measurement_setup, ham_quantinuum\n",
    ")\n",
    "print(expval_vqe)"
   ]
  },
  {
   "cell_type": "code",
   "execution_count": 167,
   "metadata": {},
   "outputs": [
    {
     "name": "stdout",
     "output_type": "stream",
     "text": [
      "-6.389\n"
     ]
    }
   ],
   "source": [
    "expval_gci = compute_expectation_value_from_results(\n",
    "    gci_results, measurement_setup, ham_quantinuum\n",
    ")\n",
    "print(expval_gci)"
   ]
  },
  {
   "cell_type": "markdown",
   "metadata": {},
   "source": [
    "# With noise"
   ]
  },
  {
   "cell_type": "code",
   "execution_count": 174,
   "metadata": {},
   "outputs": [],
   "source": [
    "backend_config = qnx.QuantinuumConfig(\n",
    "    device_name='H1-Emulator',\n",
    "    attempt_batching=True,\n",
    ")"
   ]
  },
  {
   "cell_type": "code",
   "execution_count": 194,
   "metadata": {},
   "outputs": [],
   "source": [
    "vqe_job_name_with_noise = f\"execute_job_VQE_{nshots}shots_noise_{datetime.now()}\"\n",
    "gci_job_name_with_noise = f\"execute_job_GCI_{nshots}shots_noise_{datetime.now()}\"\n",
    "results_vqe_noise = qnx.start_execute_job(\n",
    "            name=vqe_job_name_with_noise,\n",
    "            circuits=compiled_vqe_circuit_refs,\n",
    "            n_shots=[nshots]*len(vqe_circuit_ref_list),\n",
    "            backend_config=backend_config,\n",
    "        )\n",
    "results_gci_noise = qnx.start_execute_job(\n",
    "            name=gci_job_name_with_noise,\n",
    "            circuits=compiled_gci_circuit_refs,\n",
    "            n_shots=[nshots]*len(gci_circuit_ref_list),\n",
    "            backend_config=backend_config,\n",
    "        )"
   ]
  },
  {
   "cell_type": "code",
   "execution_count": 195,
   "metadata": {},
   "outputs": [],
   "source": [
    "from pathlib import Path\n",
    "qnx.filesystem.save(\n",
    "    ref=results_vqe_noise,\n",
    "    path=Path.cwd() / \"results\" / vqe_job_name_with_noise,\n",
    "    mkdir=True,\n",
    ")\n",
    "\n",
    "from pathlib import Path\n",
    "qnx.filesystem.save(\n",
    "    ref=results_gci_noise,\n",
    "    path=Path.cwd() / \"results\" / gci_job_name_with_noise,\n",
    "    mkdir=True,\n",
    ")"
   ]
  },
  {
   "cell_type": "markdown",
   "metadata": {},
   "source": [
    "### Load results with noise"
   ]
  },
  {
   "cell_type": "code",
   "execution_count": 196,
   "metadata": {},
   "outputs": [],
   "source": [
    "vqe_job_file_noise = \"results/execute_job_VQE_2000shots_noise_2024-11-06 16:38:36.896964\"\n",
    "gci_job_file_noise = \"results/execute_job_GCI_2000shots_noise_2024-11-06 16:38:36.897157\""
   ]
  },
  {
   "cell_type": "code",
   "execution_count": 197,
   "metadata": {},
   "outputs": [],
   "source": [
    "vqe_job_ref_noise = qnx.filesystem.load(\n",
    "    path=Path.cwd() / vqe_job_file_noise\n",
    ")\n",
    "\n",
    "gci_job_ref_noise = qnx.filesystem.load(\n",
    "    path=Path.cwd() / gci_job_file_noise\n",
    ")"
   ]
  },
  {
   "cell_type": "code",
   "execution_count": 203,
   "metadata": {},
   "outputs": [
    {
     "name": "stdout",
     "output_type": "stream",
     "text": [
      "JobStatus(status=<StatusEnum.COMPLETED: 'Circuit has completed. Results are ready.'>, message='The job is completed.', error_detail=None, completed_time=datetime.datetime(2024, 11, 6, 8, 41, 46, 634279, tzinfo=datetime.timezone.utc), queued_time=None, submitted_time=datetime.datetime(2024, 11, 6, 8, 38, 38, 941790, tzinfo=datetime.timezone.utc), running_time=datetime.datetime(2024, 11, 6, 8, 41, 39, 266966, tzinfo=datetime.timezone.utc), cancelled_time=None, error_time=None, queue_position=None)\n",
      "JobStatus(status=<StatusEnum.COMPLETED: 'Circuit has completed. Results are ready.'>, message='The job is completed.', error_detail=None, completed_time=datetime.datetime(2024, 11, 6, 8, 42, 9, 893795, tzinfo=datetime.timezone.utc), queued_time=None, submitted_time=datetime.datetime(2024, 11, 6, 8, 38, 39, 291804, tzinfo=datetime.timezone.utc), running_time=datetime.datetime(2024, 11, 6, 8, 41, 46, 787064, tzinfo=datetime.timezone.utc), cancelled_time=None, error_time=None, queue_position=None)\n"
     ]
    }
   ],
   "source": [
    "print(qnx.jobs.status(vqe_job_ref_noise))\n",
    "print(qnx.jobs.status(gci_job_ref_noise))"
   ]
  },
  {
   "cell_type": "code",
   "execution_count": 204,
   "metadata": {},
   "outputs": [],
   "source": [
    "vqe_results_noise = [job.download_result() for job in qnx.jobs.results(vqe_job_ref_noise)]\n",
    "gci_results_noise = [job.download_result() for job in qnx.jobs.results(gci_job_ref_noise)]"
   ]
  },
  {
   "cell_type": "code",
   "execution_count": 205,
   "metadata": {},
   "outputs": [
    {
     "name": "stdout",
     "output_type": "stream",
     "text": [
      "-6.152\n"
     ]
    }
   ],
   "source": [
    "expval_vqe_noise = compute_expectation_value_from_results(\n",
    "    vqe_results_noise, measurement_setup, ham_quantinuum\n",
    ")\n",
    "print(expval_vqe_noise)"
   ]
  },
  {
   "cell_type": "code",
   "execution_count": 206,
   "metadata": {},
   "outputs": [
    {
     "name": "stdout",
     "output_type": "stream",
     "text": [
      "-5.3950000000000005\n"
     ]
    }
   ],
   "source": [
    "expval_gci_noise = compute_expectation_value_from_results(\n",
    "    gci_results_noise, measurement_setup, ham_quantinuum\n",
    ")\n",
    "print(expval_gci_noise)"
   ]
  },
  {
   "cell_type": "markdown",
   "metadata": {},
   "source": [
    "# Prepare report"
   ]
  },
  {
   "cell_type": "code",
   "execution_count": 207,
   "metadata": {},
   "outputs": [],
   "source": [
    "import qibo\n",
    "from qibo.backends import construct_backend\n",
    "from qibo import hamiltonians\n",
    "import matplotlib.pyplot as plt\n",
    "import numpy as np"
   ]
  },
  {
   "cell_type": "code",
   "execution_count": 208,
   "metadata": {},
   "outputs": [
    {
     "name": "stderr",
     "output_type": "stream",
     "text": [
      "[Qibo 0.2.12|INFO|2024-11-06 16:43:20]: Using numpy backend on /CPU:0\n"
     ]
    }
   ],
   "source": [
    "qibo.set_backend(\"numpy\")"
   ]
  },
  {
   "cell_type": "code",
   "execution_count": 209,
   "metadata": {},
   "outputs": [
    {
     "name": "stderr",
     "output_type": "stream",
     "text": [
      "[Qibo 0.2.12|WARNING|2024-11-06 16:43:20]: Calculating the dense form of a symbolic Hamiltonian. This operation is memory inefficient.\n"
     ]
    },
    {
     "data": {
      "text/plain": [
       "<matplotlib.colorbar.Colorbar at 0x169237410>"
      ]
     },
     "execution_count": 209,
     "metadata": {},
     "output_type": "execute_result"
    },
    {
     "data": {
      "image/png": "[encoded data removed]",
      "text/plain": [
       "<Figure size 640x480 with 2 Axes>"
      ]
     },
     "metadata": {},
     "output_type": "display_data"
    }
   ],
   "source": [
    "nqubits = 4\n",
    "delta = 0.5\n",
    "ham = hamiltonians.XXZ(nqubits, delta, dense=False)\n",
    "plt.imshow(np.real(ham.matrix))\n",
    "plt.colorbar()"
   ]
  },
  {
   "cell_type": "markdown",
   "metadata": {},
   "source": []
  },
  {
   "cell_type": "code",
   "execution_count": 210,
   "metadata": {},
   "outputs": [],
   "source": [
    "with open (vqe_circ_file, \"r\") as file:\n",
    "    vqe_circuit_qasm_str = file.read()\n",
    "    \n",
    "with open (gci_circ_file, \"r\") as file:\n",
    "    gci_circuit_qasm_str = file.read()"
   ]
  },
  {
   "cell_type": "code",
   "execution_count": 211,
   "metadata": {},
   "outputs": [],
   "source": [
    "vqe_circ_qibo = qibo.models.Circuit.from_qasm(vqe_circuit_qasm_str)\n",
    "gci_circ_qibo = qibo.models.Circuit.from_qasm(gci_circuit_qasm_str)"
   ]
  },
  {
   "cell_type": "code",
   "execution_count": 212,
   "metadata": {},
   "outputs": [],
   "source": [
    "def report(vqe_circ, gci_circ, hamiltonian, expval_vqe, expval_gci, expval_vqe_noise, expval_gci_noise):\n",
    "    energies = hamiltonian.eigenvalues()\n",
    "    ground_state_energy = float(energies[0])\n",
    "    vqe_energy = float(hamiltonian.expectation(vqe_circ().state()))\n",
    "    gci_energy = float(hamiltonian.expectation(gci_circ().state()))\n",
    "    gap = float(energies[1] - energies[0])\n",
    "    return (\n",
    "        dict(\n",
    "            nqubits=hamiltonian.nqubits,\n",
    "            gci_energy=float(gci_energy),\n",
    "            vqe_energy=float(vqe_energy),\n",
    "            vqe_energy_emulator=float(expval_vqe),\n",
    "            gci_energy_emulator=float(expval_gci),\n",
    "            vqe_energy_emulator_noise=float(expval_vqe_noise),\n",
    "            gci_energy_emulator_noise=float(expval_gci_noise),\n",
    "            target_energy=ground_state_energy,\n",
    "            diff_vqe_target=vqe_energy - ground_state_energy,\n",
    "            diff_gci_target=gci_energy - ground_state_energy,\n",
    "            diff_vqe_target_emulator=expval_vqe - ground_state_energy,\n",
    "            diff_gci_target_emulator=expval_gci - ground_state_energy,\n",
    "            diff_vqe_target_emulator_noise=expval_vqe_noise - ground_state_energy,\n",
    "            diff_gci_target_emulator_noise=expval_gci_noise - ground_state_energy,\n",
    "            gap=gap,\n",
    "            diff_vqe_target_perc=abs(vqe_energy - ground_state_energy)\n",
    "            / abs(ground_state_energy)\n",
    "            * 100,\n",
    "            diff_gci_target_perc=abs(gci_energy - ground_state_energy)\n",
    "            / abs(ground_state_energy)\n",
    "            * 100,\n",
    "            diff_vqe_target_perc_emulator=abs(expval_vqe - ground_state_energy)\n",
    "            / abs(ground_state_energy)\n",
    "            * 100,\n",
    "            diff_gci_target_perc_emulator=abs(expval_gci - ground_state_energy)\n",
    "            / abs(ground_state_energy)\n",
    "            * 100,\n",
    "            diff_vqe_target_perc_emulator_noise=abs(expval_vqe_noise - ground_state_energy)\n",
    "            / abs(ground_state_energy)\n",
    "            * 100,\n",
    "            diff_gci_target_perc_emulator_noise=abs(expval_gci_noise - ground_state_energy)\n",
    "            / abs(ground_state_energy)\n",
    "            * 100,\n",
    "            fidelity_witness_vqe=1 - (vqe_energy - ground_state_energy) / gap,\n",
    "            fidelity_witness_gci=1 - (gci_energy - ground_state_energy) / gap,\n",
    "            fidelity_witness_vqe_emulator=1 - (expval_vqe - ground_state_energy) / gap,\n",
    "            fidelity_witness_gci_emulator=1 - (expval_gci - ground_state_energy) / gap,\n",
    "            fidelity_witness_vqe_emulator_noise=1 - (expval_vqe_noise - ground_state_energy) / gap,\n",
    "            fidelity_witness_gci_emulator_noise=1 - (expval_gci_noise - ground_state_energy) / gap,\n",
    "        )\n",
    "    )"
   ]
  },
  {
   "cell_type": "code",
   "execution_count": 213,
   "metadata": {},
   "outputs": [],
   "source": [
    "report_quantinuum = report(vqe_circ_qibo, gci_circ_qibo, ham, expval_vqe, expval_gci, expval_vqe_noise, expval_gci_noise)"
   ]
  },
  {
   "cell_type": "code",
   "execution_count": 214,
   "metadata": {},
   "outputs": [],
   "source": [
    "import pandas as pd"
   ]
  },
  {
   "cell_type": "code",
   "execution_count": 215,
   "metadata": {},
   "outputs": [
    {
     "data": {
      "text/html": [
       "<div>\n",
       "<style scoped>\n",
       "    .dataframe tbody tr th:only-of-type {\n",
       "        vertical-align: middle;\n",
       "    }\n",
       "\n",
       "    .dataframe tbody tr th {\n",
       "        vertical-align: top;\n",
       "    }\n",
       "\n",
       "    .dataframe thead th {\n",
       "        text-align: right;\n",
       "    }\n",
       "</style>\n",
       "<table border=\"1\" class=\"dataframe\">\n",
       "  <thead>\n",
       "    <tr style=\"text-align: right;\">\n",
       "      <th></th>\n",
       "      <th>Analytical</th>\n",
       "      <th>Emulator</th>\n",
       "      <th>Emulator with Noise</th>\n",
       "    </tr>\n",
       "  </thead>\n",
       "  <tbody>\n",
       "    <tr>\n",
       "      <th>VQE energy</th>\n",
       "      <td>-6.309812</td>\n",
       "      <td>-4.863000</td>\n",
       "      <td>-6.152000</td>\n",
       "    </tr>\n",
       "    <tr>\n",
       "      <th>GCI energy</th>\n",
       "      <td>-6.741348</td>\n",
       "      <td>-6.389000</td>\n",
       "      <td>-5.395000</td>\n",
       "    </tr>\n",
       "    <tr>\n",
       "      <th>Difference to target (VQE)</th>\n",
       "      <td>0.434751</td>\n",
       "      <td>1.881563</td>\n",
       "      <td>0.592563</td>\n",
       "    </tr>\n",
       "    <tr>\n",
       "      <th>Difference to target (GCI)</th>\n",
       "      <td>0.003215</td>\n",
       "      <td>0.355563</td>\n",
       "      <td>1.349563</td>\n",
       "    </tr>\n",
       "    <tr>\n",
       "      <th>Percentage difference to target (VQE)</th>\n",
       "      <td>6.445942</td>\n",
       "      <td>27.897475</td>\n",
       "      <td>8.785783</td>\n",
       "    </tr>\n",
       "    <tr>\n",
       "      <th>Percentage difference to target (GCI)</th>\n",
       "      <td>0.047665</td>\n",
       "      <td>5.271841</td>\n",
       "      <td>20.009639</td>\n",
       "    </tr>\n",
       "    <tr>\n",
       "      <th>Fidelity witness (VQE)</th>\n",
       "      <td>0.841596</td>\n",
       "      <td>0.314440</td>\n",
       "      <td>0.784096</td>\n",
       "    </tr>\n",
       "    <tr>\n",
       "      <th>Fidelity witness (GCI)</th>\n",
       "      <td>0.998829</td>\n",
       "      <td>0.870448</td>\n",
       "      <td>0.508278</td>\n",
       "    </tr>\n",
       "  </tbody>\n",
       "</table>\n",
       "</div>"
      ],
      "text/plain": [
       "                                       Analytical   Emulator  \\\n",
       "VQE energy                              -6.309812  -4.863000   \n",
       "GCI energy                              -6.741348  -6.389000   \n",
       "Difference to target (VQE)               0.434751   1.881563   \n",
       "Difference to target (GCI)               0.003215   0.355563   \n",
       "Percentage difference to target (VQE)    6.445942  27.897475   \n",
       "Percentage difference to target (GCI)    0.047665   5.271841   \n",
       "Fidelity witness (VQE)                   0.841596   0.314440   \n",
       "Fidelity witness (GCI)                   0.998829   0.870448   \n",
       "\n",
       "                                       Emulator with Noise  \n",
       "VQE energy                                       -6.152000  \n",
       "GCI energy                                       -5.395000  \n",
       "Difference to target (VQE)                        0.592563  \n",
       "Difference to target (GCI)                        1.349563  \n",
       "Percentage difference to target (VQE)             8.785783  \n",
       "Percentage difference to target (GCI)            20.009639  \n",
       "Fidelity witness (VQE)                            0.784096  \n",
       "Fidelity witness (GCI)                            0.508278  "
      ]
     },
     "execution_count": 215,
     "metadata": {},
     "output_type": "execute_result"
    }
   ],
   "source": [
    "# Creating a DataFrame for the table\n",
    "df = pd.DataFrame({\n",
    "    \"Analytical\": [\n",
    "        report_quantinuum['vqe_energy'],\n",
    "        report_quantinuum['gci_energy'],\n",
    "        report_quantinuum['diff_vqe_target'],\n",
    "        report_quantinuum['diff_gci_target'],\n",
    "        report_quantinuum['diff_vqe_target_perc'],\n",
    "        report_quantinuum['diff_gci_target_perc'],\n",
    "        report_quantinuum['fidelity_witness_vqe'],\n",
    "        report_quantinuum['fidelity_witness_gci']\n",
    "    ],\n",
    "    \"Emulator\": [\n",
    "        report_quantinuum['vqe_energy_emulator'],\n",
    "        report_quantinuum['gci_energy_emulator'],\n",
    "        report_quantinuum['diff_vqe_target_emulator'],\n",
    "        report_quantinuum['diff_gci_target_emulator'],\n",
    "        report_quantinuum['diff_vqe_target_perc_emulator'],\n",
    "        report_quantinuum['diff_gci_target_perc_emulator'],\n",
    "        report_quantinuum['fidelity_witness_vqe_emulator'],\n",
    "        report_quantinuum['fidelity_witness_gci_emulator']\n",
    "    ],\n",
    "    \"Emulator with Noise\": [\n",
    "        report_quantinuum['vqe_energy_emulator_noise'],\n",
    "        report_quantinuum['gci_energy_emulator_noise'],\n",
    "        report_quantinuum['diff_vqe_target_emulator_noise'],\n",
    "        report_quantinuum['diff_gci_target_emulator_noise'],\n",
    "        report_quantinuum['diff_vqe_target_perc_emulator_noise'],\n",
    "        report_quantinuum['diff_gci_target_perc_emulator_noise'],\n",
    "        report_quantinuum['fidelity_witness_vqe_emulator_noise'],\n",
    "        report_quantinuum['fidelity_witness_gci_emulator_noise']\n",
    "    ]\n",
    "}, index=[\n",
    "    \"VQE energy\",\n",
    "    \"GCI energy\",\n",
    "    \"Difference to target (VQE)\",\n",
    "    \"Difference to target (GCI)\",\n",
    "    \"Percentage difference to target (VQE)\",\n",
    "    \"Percentage difference to target (GCI)\",\n",
    "    \"Fidelity witness (VQE)\",\n",
    "    \"Fidelity witness (GCI)\"\n",
    "])\n",
    "\n",
    "# Display the DataFrame\n",
    "df"
   ]
  }
 ],
 "metadata": {
  "kernelspec": {
   "display_name": "Python 3",
   "language": "python",
   "name": "python3"
  },
  "language_info": {
   "codemirror_mode": {
    "name": "ipython",
    "version": 3
   },
   "file_extension": ".py",
   "mimetype": "text/x-python",
   "name": "python",
   "nbconvert_exporter": "python",
   "pygments_lexer": "ipython3",
   "version": "3.11.10"
  }
 },
 "nbformat": 4,
 "nbformat_minor": 2
}
