{
 "cells": [
  {
   "cell_type": "markdown",
   "metadata": {},
   "source": [
    "# Boostvqe in Quantinuum\n",
    "\n",
    "Following our example in the notebook `gci_boostvqe_circuit_synthesis.ipynb`, we will load the VQE and GCI circuits and run on Quantinuum Nexus emulators."
   ]
  },
  {
   "cell_type": "markdown",
   "metadata": {},
   "source": [
    "## Load VQE and GCI circuits"
   ]
  },
  {
   "cell_type": "code",
   "execution_count": 1,
   "metadata": {},
   "outputs": [
    {
     "ename": "FileNotFoundError",
     "evalue": "[Errno 2] No such file or directory: 'vqe_circ.qasm'",
     "output_type": "error",
     "traceback": [
      "\u001b[0;31m---------------------------------------------------------------------------\u001b[0m",
      "\u001b[0;31mFileNotFoundError\u001b[0m                         Traceback (most recent call last)",
      "\u001b[0;32m/var/folders/sn/4ym_qb8x0cs_f961d78kvvkc0000gn/T/ipykernel_28437/959837808.py\u001b[0m in \u001b[0;36m<cell line: 0>\u001b[0;34m()\u001b[0m\n\u001b[1;32m      3\u001b[0m \u001b[0;32mimport\u001b[0m \u001b[0mpytket\u001b[0m\u001b[0;34m.\u001b[0m\u001b[0mqasm\u001b[0m\u001b[0;34m\u001b[0m\u001b[0;34m\u001b[0m\u001b[0m\n\u001b[1;32m      4\u001b[0m \u001b[0;32mfrom\u001b[0m \u001b[0mdatetime\u001b[0m \u001b[0;32mimport\u001b[0m \u001b[0mdatetime\u001b[0m\u001b[0;34m\u001b[0m\u001b[0;34m\u001b[0m\u001b[0m\n\u001b[0;32m----> 5\u001b[0;31m \u001b[0mvqe_circ\u001b[0m \u001b[0;34m=\u001b[0m \u001b[0mpytket\u001b[0m\u001b[0;34m.\u001b[0m\u001b[0mqasm\u001b[0m\u001b[0;34m.\u001b[0m\u001b[0mcircuit_from_qasm\u001b[0m\u001b[0;34m(\u001b[0m\u001b[0;34m\"vqe_circ.qasm\"\u001b[0m\u001b[0;34m)\u001b[0m\u001b[0;34m\u001b[0m\u001b[0;34m\u001b[0m\u001b[0m\n\u001b[0m\u001b[1;32m      6\u001b[0m \u001b[0;31m# render_circuit_jupyter(vqe_circ)\u001b[0m\u001b[0;34m\u001b[0m\u001b[0;34m\u001b[0m\u001b[0m\n",
      "\u001b[0;32m~/Library/Caches/pypoetry/virtualenvs/boostvqe-9Q-2T4PW-py3.11/lib/python3.11/site-packages/pytket/qasm/qasm.py\u001b[0m in \u001b[0;36mcircuit_from_qasm\u001b[0;34m(input_file, encoding, maxwidth)\u001b[0m\n\u001b[1;32m    964\u001b[0m     \u001b[0;32mif\u001b[0m \u001b[0mext\u001b[0m \u001b[0;34m!=\u001b[0m \u001b[0;34m\".qasm\"\u001b[0m\u001b[0;34m:\u001b[0m\u001b[0;34m\u001b[0m\u001b[0;34m\u001b[0m\u001b[0m\n\u001b[1;32m    965\u001b[0m         \u001b[0;32mraise\u001b[0m \u001b[0mTypeError\u001b[0m\u001b[0;34m(\u001b[0m\u001b[0;34m\"Can only convert .qasm files\"\u001b[0m\u001b[0;34m)\u001b[0m\u001b[0;34m\u001b[0m\u001b[0;34m\u001b[0m\u001b[0m\n\u001b[0;32m--> 966\u001b[0;31m     \u001b[0;32mwith\u001b[0m \u001b[0mopen\u001b[0m\u001b[0;34m(\u001b[0m\u001b[0minput_file\u001b[0m\u001b[0;34m,\u001b[0m \u001b[0;34m\"r\"\u001b[0m\u001b[0;34m,\u001b[0m \u001b[0mencoding\u001b[0m\u001b[0;34m=\u001b[0m\u001b[0mencoding\u001b[0m\u001b[0;34m)\u001b[0m \u001b[0;32mas\u001b[0m \u001b[0mf\u001b[0m\u001b[0;34m:\u001b[0m\u001b[0;34m\u001b[0m\u001b[0;34m\u001b[0m\u001b[0m\n\u001b[0m\u001b[1;32m    967\u001b[0m         \u001b[0;32mtry\u001b[0m\u001b[0;34m:\u001b[0m\u001b[0;34m\u001b[0m\u001b[0;34m\u001b[0m\u001b[0m\n\u001b[1;32m    968\u001b[0m             \u001b[0mcirc\u001b[0m \u001b[0;34m=\u001b[0m \u001b[0mcircuit_from_qasm_io\u001b[0m\u001b[0;34m(\u001b[0m\u001b[0mf\u001b[0m\u001b[0;34m,\u001b[0m \u001b[0mmaxwidth\u001b[0m\u001b[0;34m=\u001b[0m\u001b[0mmaxwidth\u001b[0m\u001b[0;34m)\u001b[0m\u001b[0;34m\u001b[0m\u001b[0;34m\u001b[0m\u001b[0m\n",
      "\u001b[0;31mFileNotFoundError\u001b[0m: [Errno 2] No such file or directory: 'vqe_circ.qasm'"
     ]
    }
   ],
   "source": [
    "from pytket import Circuit, OpType\n",
    "from pytket.circuit.display import render_circuit_jupyter\n",
    "import pytket.qasm\n",
    "from datetime import datetime\n",
    "vqe_circ = pytket.qasm.circuit_from_qasm(\"vqe_circ.qasm\")\n",
    "# render_circuit_jupyter(vqe_circ)"
   ]
  },
  {
   "cell_type": "code",
   "execution_count": 22,
   "metadata": {},
   "outputs": [],
   "source": [
    "gci_circ = pytket.qasm.circuit_from_qasm(\"gci_circ.qasm\")\n",
    "# render_circuit_jupyter(gci_circ)"
   ]
  },
  {
   "cell_type": "markdown",
   "metadata": {},
   "source": [
    "Let us check the size of the GCI circuit."
   ]
  },
  {
   "cell_type": "code",
   "execution_count": 23,
   "metadata": {},
   "outputs": [
    {
     "name": "stdout",
     "output_type": "stream",
     "text": [
      "Circuit depth: 383\n",
      "Circuit total gate count: 933\n",
      "Circuit CNOT count: 272\n"
     ]
    }
   ],
   "source": [
    "print(\"Circuit depth:\", gci_circ.depth())\n",
    "print(\"Circuit total gate count:\", gci_circ.n_gates)\n",
    "num_cnots = sum(1 for command in gci_circ if command.op.type == OpType.CX)\n",
    "print(\"Circuit CNOT count:\", num_cnots)"
   ]
  },
  {
   "cell_type": "markdown",
   "metadata": {},
   "source": [
    "## Quantinuum preparation\n",
    "Authentication - Create project - Set context"
   ]
  },
  {
   "cell_type": "code",
   "execution_count": 3,
   "metadata": {},
   "outputs": [],
   "source": [
    "import qnexus as qnx"
   ]
  },
  {
   "cell_type": "code",
   "execution_count": 4,
   "metadata": {},
   "outputs": [
    {
     "name": "stdout",
     "output_type": "stream",
     "text": [
      "🌐 Browser log in initiated.\n"
     ]
    },
    {
     "data": {
      "text/html": [
       "<pre style=\"white-space:pre;overflow-x:auto;line-height:normal;font-family:Menlo,'DejaVu Sans Mono',consolas,'Courier New',monospace\">╭────────────────────────────────────────────────────────────────────────────────────────╮\n",
       "│                                                                                        │\n",
       "│         Confirm that the browser shows the following code and click 'allow device':    │\n",
       "│                                                                                        │\n",
       "│                                      -RUOlm                                            │\n",
       "│                                                                                        │\n",
       "╰────────────────────────────────────────────────────────────────────────────────────────╯\n",
       "</pre>\n"
      ],
      "text/plain": [
       "╭────────────────────────────────────────────────────────────────────────────────────────╮\n",
       "│                                                                                        │\n",
       "│         Confirm that the browser shows the following code and click 'allow device':    │\n",
       "│                                                                                        │\n",
       "│                                      -RUOlm                                            │\n",
       "│                                                                                        │\n",
       "╰────────────────────────────────────────────────────────────────────────────────────────╯\n"
      ]
     },
     "metadata": {},
     "output_type": "display_data"
    },
    {
     "name": "stdout",
     "output_type": "stream",
     "text": [
      "Browser didn't open automatically? Use this link: \u001b[34mhttps://nexus.quantinuum.com/auth/device/browser?otp=-RUOlmN8wsLzPc8RAOzDm2t_8htvp8hL28HlM9xaYfexM2gW4K5IrWLiL6RtLXUPAhZIUtfu1eDLuGIETxblsA\n",
      "✅ Successfully logged in as xiaoyue.li@ntu.edu.sg using the browser.\n"
     ]
    }
   ],
   "source": [
    "# connect to nexus account\n",
    "qnx.client.auth.login()"
   ]
  },
  {
   "cell_type": "code",
   "execution_count": 5,
   "metadata": {},
   "outputs": [],
   "source": [
    "# connect to nexus project\n",
    "project_ref = qnx.projects.get_or_create(name=\"boostvqe_demo_XXZ\")\n",
    "project_ref.df()\n",
    "\n",
    "# set this in the context\n",
    "qnx.context.set_active_project(project_ref)"
   ]
  },
  {
   "cell_type": "markdown",
   "metadata": {},
   "source": [
    "## Energy expectation\n",
    "\n",
    "We define the loss function as the energy expectation of $H$ with the rotated state $|\\psi\\rangle=U|0\\rangle$, where the $U$ is implemented via the boostvqe circuit.\n",
    "\n",
    "We will start with computing the expectation of a Pauli operator measured in the corresponding basis."
   ]
  },
  {
   "cell_type": "code",
   "execution_count": 6,
   "metadata": {},
   "outputs": [],
   "source": [
    "from pytket import Circuit\n",
    "from pytket.utils.operators import QubitPauliOperator\n",
    "from pytket.partition import measurement_reduction, MeasurementBitMap, MeasurementSetup, PauliPartitionStrat\n",
    "from pytket.backends.backendresult import BackendResult\n",
    "from pytket.pauli import Pauli, QubitPauliString\n",
    "from pytket.circuit import Qubit"
   ]
  },
  {
   "cell_type": "code",
   "execution_count": 7,
   "metadata": {},
   "outputs": [],
   "source": [
    "def compute_expectation_paulistring(\n",
    "    distribution: dict[tuple[int, ...], float], bitmap: MeasurementBitMap\n",
    ") -> float:\n",
    "    '''\n",
    "    This function assumes that the bitmap is in the correct measurement basis\n",
    "    and evaluates Pauli operators composed of Pauli.Z and Pauli.I.\n",
    "    It calculates the expectation by counting the parity of the qubits being\n",
    "    flipped.\n",
    "    '''\n",
    "    value = 0\n",
    "    for bitstring, probability in distribution.items():\n",
    "        value += probability * (sum(bitstring[i] for i in bitmap.bits) % 2)\n",
    "    return ((-1) ** bitmap.invert) * (-2 * value + 1)"
   ]
  },
  {
   "cell_type": "markdown",
   "metadata": {},
   "source": [
    "Combining with the measurement setup and count results, the loss function can be defined:"
   ]
  },
  {
   "cell_type": "code",
   "execution_count": 8,
   "metadata": {},
   "outputs": [],
   "source": [
    "def compute_expectation_value_from_results(\n",
    "    results: list[BackendResult],\n",
    "    measurement_setup: MeasurementSetup,\n",
    "    operator: QubitPauliOperator,\n",
    ") -> float:\n",
    "    '''\n",
    "    This function loops with the measurement_setup corresponding to the\n",
    "    hamiltonian, select the corresponding string_coef, results index and\n",
    "    calculates the total expectation of the input hamiltonian.\n",
    "    '''\n",
    "    energy = 0\n",
    "    for pauli_string, bitmaps in measurement_setup.results.items():\n",
    "        string_coeff = operator.get(pauli_string, 0.0)\n",
    "        if string_coeff != 0:\n",
    "            for bm in bitmaps:\n",
    "                index = bm.circ_index\n",
    "                distribution = results[index].get_distribution()\n",
    "                value = compute_expectation_paulistring(distribution, bm)\n",
    "                energy += complex(value * string_coeff).real\n",
    "    return energy"
   ]
  },
  {
   "cell_type": "markdown",
   "metadata": {},
   "source": [
    "### Hamiltonian in Pytket"
   ]
  },
  {
   "cell_type": "code",
   "execution_count": 9,
   "metadata": {},
   "outputs": [],
   "source": [
    "def create_qubit_pauli_string(nqubits, specify_ls, coef):\n",
    "    '''\n",
    "    specify_ls: {index:Pauli.X/Y/Z}\n",
    "    '''\n",
    "    term = {}\n",
    "    specified_ids = list(specify_ls.keys())\n",
    "    for i in range(nqubits):\n",
    "        if i in specified_ids:\n",
    "            term.update({Qubit(i):specify_ls[i]})\n",
    "        else:\n",
    "            term.update({Qubit(i):Pauli.I})\n",
    "\n",
    "    return {QubitPauliString(term):coef}"
   ]
  },
  {
   "cell_type": "code",
   "execution_count": 10,
   "metadata": {},
   "outputs": [],
   "source": [
    "# XXZ model\n",
    "nqubits = 5\n",
    "delta = 0.5\n",
    "terms = {}\n",
    "for i in range(nqubits):\n",
    "    term_x_i = create_qubit_pauli_string(nqubits, {i: Pauli.X, (i+1)%nqubits: Pauli.X}, 1)\n",
    "    term_y_i = create_qubit_pauli_string(nqubits, {i: Pauli.Y, (i+1)%nqubits: Pauli.Y}, 1)\n",
    "    term_z_i = create_qubit_pauli_string(nqubits, {i: Pauli.Z}, delta)\n",
    "    terms.update(term_x_i)\n",
    "    terms.update(term_y_i)\n",
    "    terms.update(term_z_i)\n",
    "ham_quantinuum = QubitPauliOperator(terms)"
   ]
  },
  {
   "cell_type": "markdown",
   "metadata": {},
   "source": [
    "### Measurement setup\n",
    "Based on the hamiltonian in Pauli basis, we create a list of measurement setup for evaluating each non-commuting set of Pauli components of the hamiltonian."
   ]
  },
  {
   "cell_type": "code",
   "execution_count": 11,
   "metadata": {},
   "outputs": [],
   "source": [
    "terms = [term for term in ham_quantinuum._dict.keys()]\n",
    "measurement_setup = measurement_reduction(\n",
    "    terms, strat=PauliPartitionStrat.CommutingSets\n",
    ")\n",
    "# for mc in measurement_setup.measurement_circs:\n",
    "#     render_circuit_jupyter(mc)"
   ]
  },
  {
   "cell_type": "markdown",
   "metadata": {},
   "source": [
    "Here, we have created measurement circuits for the $X$, $Y$, and $Z$ terms. Next, we can upload and compile the measurement circuits.\n",
    "\n",
    "## Compile circuits\n",
    "\n",
    "We are now running noiseless emulation."
   ]
  },
  {
   "cell_type": "code",
   "execution_count": 34,
   "metadata": {},
   "outputs": [],
   "source": [
    "# create list of circuits for measurement in different bases\n",
    "vqe_circuit_ref_list = []\n",
    "gci_circuit_ref_list = []\n",
    "for i, mc in enumerate(measurement_setup.measurement_circs):\n",
    "    c = vqe_circ.copy()\n",
    "    c.append(mc)\n",
    "    measurement_vqe_circuit_ref = qnx.circuits.upload(\n",
    "                circuit=c, \n",
    "                name=f\"measurement vqe circuit {i}\",\n",
    "            )\n",
    "    c = gci_circ.copy()\n",
    "    c.append(mc)\n",
    "    measurement_gci_circuit_ref = qnx.circuits.upload(\n",
    "                circuit=c, \n",
    "                name=f\"measurement gci circuit {i}\",\n",
    "            )\n",
    "    vqe_circuit_ref_list.append(measurement_vqe_circuit_ref)\n",
    "    gci_circuit_ref_list.append(measurement_gci_circuit_ref)\n",
    "\n",
    "# compile vqe measurement circuit list\n",
    "compiled_vqe_circuit_refs = qnx.compile(\n",
    "            name=f\"compile_job_VQE_{datetime.now()}\",\n",
    "            circuits=vqe_circuit_ref_list,\n",
    "            optimisation_level=1,\n",
    "            backend_config=qnx.QuantinuumConfig(device_name=\"H1-1LE\"),\n",
    "            timeout=None,\n",
    "        )\n",
    "\n",
    "# compile gci measurement circuit list\n",
    "compiled_gci_circuit_refs = qnx.compile(\n",
    "            name=f\"compile_job_GCI_{datetime.now()}\",\n",
    "            circuits=gci_circuit_ref_list,\n",
    "            optimisation_level=1,\n",
    "            backend_config=qnx.QuantinuumConfig(device_name=\"H1-1LE\"),\n",
    "            timeout=None,\n",
    "        )"
   ]
  },
  {
   "cell_type": "markdown",
   "metadata": {},
   "source": [
    "## Run circuits"
   ]
  },
  {
   "cell_type": "code",
   "execution_count": 35,
   "metadata": {},
   "outputs": [],
   "source": [
    "# Configuration\n",
    "nshots = 1000\n",
    "backend_config = qnx.QuantinuumConfig(device_name=\"H1-1LE\") \n",
    "# Change to emulator with noise, uncomment the following line\n",
    "# backend_config = qnx.QuantinuumConfig(\n",
    "#     device_name='H1-Emulator',\n",
    "#     attempt_batching=True,\n",
    "# )"
   ]
  },
  {
   "cell_type": "code",
   "execution_count": 36,
   "metadata": {},
   "outputs": [],
   "source": [
    "results_vqe = qnx.execute(\n",
    "            name=f\"execute_job_VQE_{nshots}shots_{datetime.now()}\",\n",
    "            circuits=compiled_vqe_circuit_refs,\n",
    "            n_shots=[nshots]*len(vqe_circuit_ref_list),\n",
    "            backend_config=backend_config,\n",
    "            timeout=None,\n",
    "        )\n",
    "results_gci = qnx.execute(\n",
    "            name=f\"execute_job_GCI_{nshots}shots_{datetime.now()}\",\n",
    "            circuits=compiled_gci_circuit_refs,\n",
    "            n_shots=[nshots]*len(gci_circuit_ref_list),\n",
    "            backend_config=backend_config,\n",
    "            timeout=None,\n",
    "        )"
   ]
  },
  {
   "cell_type": "code",
   "execution_count": 37,
   "metadata": {},
   "outputs": [
    {
     "name": "stdout",
     "output_type": "stream",
     "text": [
      "-4.836\n"
     ]
    }
   ],
   "source": [
    "expval_vqe = compute_expectation_value_from_results(\n",
    "    results_vqe, measurement_setup, ham_quantinuum\n",
    ")\n",
    "print(expval_vqe)"
   ]
  },
  {
   "cell_type": "code",
   "execution_count": 38,
   "metadata": {},
   "outputs": [
    {
     "name": "stdout",
     "output_type": "stream",
     "text": [
      "-5.54\n"
     ]
    }
   ],
   "source": [
    "expval_gci = compute_expectation_value_from_results(\n",
    "    results_gci, measurement_setup, ham_quantinuum\n",
    ")\n",
    "print(expval_gci)"
   ]
  },
  {
   "cell_type": "code",
   "execution_count": null,
   "metadata": {},
   "outputs": [],
   "source": []
  }
 ],
 "metadata": {
  "kernelspec": {
   "display_name": "boostvqe-9Q-2T4PW-py3.11",
   "language": "python",
   "name": "python3"
  },
  "language_info": {
   "codemirror_mode": {
    "name": "ipython",
    "version": 3
   },
   "file_extension": ".py",
   "mimetype": "text/x-python",
   "name": "python",
   "nbconvert_exporter": "python",
   "pygments_lexer": "ipython3",
   "version": "3.11.7"
  }
 },
 "nbformat": 4,
 "nbformat_minor": 2
}
