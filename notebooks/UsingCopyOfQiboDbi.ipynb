{
 "cells": [
  {
   "cell_type": "code",
   "execution_count": 1,
   "metadata": {},
   "outputs": [
    {
     "name": "stderr",
     "output_type": "stream",
     "text": [
      "[Qibo 0.2.9|INFO|2024-06-10 17:53:02]: Using numpy backend on /CPU:0\n",
      "INFO:qibo.config:Using numpy backend on /CPU:0\n",
      "[Qibo 0.2.9|INFO|2024-06-10 17:53:02]: Using numpy backend on /CPU:0\n",
      "INFO:qibo.config:Using numpy backend on /CPU:0\n"
     ]
    },
    {
     "name": "stdout",
     "output_type": "stream",
     "text": [
      "In the VQE numpy\n"
     ]
    }
   ],
   "source": [
    "import json\n",
    "import time\n",
    "from pathlib import Path\n",
    "\n",
    "import numpy as np\n",
    "import qibo\n",
    "from qibo import hamiltonians, set_backend\n",
    "from boostvqe.models.dbi.double_bracket import (\n",
    "    DoubleBracketGeneratorType,\n",
    "    DoubleBracketIteration,\n",
    ")\n",
    "\n",
    "from boostvqe.ansatze import VQE, build_circuit\n",
    "from boostvqe.utils import apply_dbi_steps, rotate_h_with_vqe\n",
    "\n",
    "qibo.set_backend(\"numpy\")\n",
    "\n",
    "# set the path string which define the results\n",
    "path = \"../results/vqe_data/with_params/10q3l/sgd_10q_3l_42/\"\n",
    "\n",
    "# set the target epoch to which apply DBQA and the number of steps\n",
    "target_epoch = 2000\n",
    "dbi_steps = 1\n",
    "\n",
    "# upload system configuration and parameters for all the training\n",
    "with open(path + \"optimization_results.json\") as file:\n",
    "    config = json.load(file)\n",
    "nq = config[\"nqubits\"]\n",
    "losses = dict(np.load(path + \"energies.npz\"))[\"0\"]\n",
    "params = np.load(path + f\"parameters/params_ite{target_epoch}.npy\")\n",
    "\n",
    "\n",
    "# build circuit, hamiltonian and VQE\n",
    "hamiltonian = hamiltonians.XXZ(nqubits=nq, delta=0.5)\n",
    "circuit = build_circuit(nq, config[\"nlayers\"], \"numpy\")\n",
    "vqe = VQE(circuit, hamiltonian)\n",
    "zero_state = hamiltonian.backend.zero_state(nq)\n",
    "zero_state_t = np.transpose([zero_state])\n",
    "target_energy = np.min(hamiltonian.eigenvalues())\n",
    "\n",
    "\n",
    "# set target parameters into the VQE\n",
    "vqe.circuit.set_parameters(params)\n",
    "vqe_state = vqe.circuit().state()\n",
    "\n",
    "ene1 = hamiltonian.expectation(vqe_state)\n",
    "\n"
   ]
  },
  {
   "cell_type": "code",
   "execution_count": 2,
   "metadata": {},
   "outputs": [],
   "source": [
    "from qibo import symbols, hamiltonians\n",
    "from qibo import symbols, hamiltonians\n",
    "b_list = [1+np.sin(x) for x in np.linspace(-1,1,nq) ]\n",
    "#b_list = np.random.rand(nq)\n",
    "d = hamiltonians.SymbolicHamiltonian( sum([b*symbols.Z(j) for j,b in zip(range(nq),b_list)]))\n",
    "\n",
    "step = 0.12\n",
    "\n",
    "from boostvqe.models.dbi.group_commutator_iteration_transpiler import *\n",
    "eo_d = EvolutionOracle(d,mode_evolution_oracle=EvolutionOracleType.hamiltonian_simulation,name = \"D(linear)\")\n",
    "\n",
    "hamiltonian.delta = 0.5\n",
    "from boostvqe.models.dbi.double_bracket_evolution_oracles import *\n",
    "# quick hack how to use the method function hamiltonians.XXZ to get a simulable oracle\n",
    "eo_xxz = XXZ_EvolutionOracle(hamiltonian,mode_evolution_oracle=EvolutionOracleType.numerical)\n",
    "eo_xxz.mode_evolution_oracle=EvolutionOracleType.hamiltonian_simulation\n",
    "hamiltonian.dense = hamiltonian\n",
    "# prescribe nmb of steps\n",
    "eo_d.please_use_prescribed_nmb_ts_steps = 1\n",
    "eo_xxz.please_use_prescribed_nmb_ts_steps = 1"
   ]
  },
  {
   "cell_type": "code",
   "execution_count": 3,
   "metadata": {},
   "outputs": [
    {
     "name": "stdout",
     "output_type": "stream",
     "text": [
      "-14.581600160901731\n"
     ]
    }
   ],
   "source": [
    "step = 0.12\n",
    "vd1_circ = d.circuit( -step * (np.sqrt(5) - 1) / 2 ) \n",
    "vd2_circ = d.circuit( step * (np.sqrt(5) + 1) / 2 )\n",
    "vd3_circ = d.circuit(-step  ) \n",
    "\n",
    "from boostvqe.compiling_XXZ import *\n",
    "\n",
    "nmb_ts_steps = 1\n",
    "# v1_circ = nqubit_XXZ_decomposition(nqubits=nq,t=-step * (np.sqrt(5) - 1) / 2,delta=0.5,steps=nmb_ts_steps)\n",
    "v2_circ = nqubit_XXZ_decomposition(nqubits=nq,t=step ,delta=0.5,steps=nmb_ts_steps)\n",
    "v3_circ = nqubit_XXZ_decomposition(nqubits=nq,t=-step * (3 - np.sqrt(5)) / 2,delta=0.5,steps=nmb_ts_steps)\n",
    "\n",
    "vqe_circ = vqe.circuit\n",
    "vqe_circ_inv = vqe_circ.invert()\n",
    "\n",
    "circ_boost = (\n",
    "    vd2_circ \n",
    "    + vqe_circ + v2_circ +vqe_circ_inv \n",
    "    + vd1_circ\n",
    "    + vqe_circ + v3_circ +vqe_circ_inv \n",
    "    +\n",
    "    vqe_circ \n",
    ")\n",
    "ket_boost = circ_boost(initial_state=zero_state)\n",
    "print(hamiltonian.expectation(ket_boost.state()) )\n",
    "#print(circ_boost.draw())"
   ]
  },
  {
   "cell_type": "code",
   "execution_count": null,
   "metadata": {},
   "outputs": [],
   "source": []
  },
  {
   "cell_type": "code",
   "execution_count": 4,
   "metadata": {},
   "outputs": [],
   "source": [
    "\n",
    "gci  = GroupCommutatorIterationWithEvolutionOracles(input_hamiltonian_evolution_oracle=\n",
    "                            FrameShiftedEvolutionOracle(eo_xxz, before_circuit=vqe.circuit.invert(), \n",
    "                                                        after_circuit=vqe.circuit,name=\"shifting by vqe\"), \n",
    "                                                        mode_double_bracket_rotation=DoubleBracketRotationType.group_commutator_third_order_reduced)\n"
   ]
  },
  {
   "cell_type": "code",
   "execution_count": 5,
   "metadata": {},
   "outputs": [
    {
     "data": {
      "text/plain": [
       "-14.556096417000479"
      ]
     },
     "execution_count": 5,
     "metadata": {},
     "output_type": "execute_result"
    }
   ],
   "source": [
    "step = 0.12\n",
    "vd1_circ = eo_d.circuit( -step * (np.sqrt(5) - 1) / 2 ) \n",
    "vd2_circ = eo_d.circuit( step * (np.sqrt(5) + 1) / 2 )\n",
    "vd3_circ = eo_d.circuit(-step  ) \n",
    "\n",
    "from boostvqe.compiling_XXZ import *\n",
    "\n",
    "nmb_ts_steps = 1\n",
    "# v1_circ = nqubit_XXZ_decomposition(nqubits=nq,t=-step * (np.sqrt(5) - 1) / 2,delta=0.5,steps=nmb_ts_steps)\n",
    "v2_circ = eo_xxz.circuit(step)\n",
    "v3_circ = eo_xxz.circuit(-step * (3 - np.sqrt(5)) / 2)\n",
    "\n",
    "vqe_circ = vqe.circuit\n",
    "vqe_circ_inv = vqe_circ.invert()\n",
    "\n",
    "circ_boost = (\n",
    "    vd2_circ \n",
    "    + vqe_circ + v2_circ +vqe_circ_inv \n",
    "    + vd1_circ\n",
    "    + vqe_circ + v3_circ +vqe_circ_inv \n",
    "    +\n",
    "    vqe_circ \n",
    ")\n",
    "ket_boost = circ_boost(initial_state=zero_state)\n",
    "hamiltonian.expectation(ket_boost.state()) "
   ]
  },
  {
   "cell_type": "code",
   "execution_count": 7,
   "metadata": {},
   "outputs": [
    {
     "ename": "ValueError",
     "evalue": "operands could not be broadcast together with shapes (8,8) (4,4) ",
     "output_type": "error",
     "traceback": [
      "\u001b[0;31m---------------------------------------------------------------------------\u001b[0m",
      "\u001b[0;31mValueError\u001b[0m                                Traceback (most recent call last)",
      "Cell \u001b[0;32mIn[7], line 1\u001b[0m\n\u001b[0;32m----> 1\u001b[0m np\u001b[38;5;241m.\u001b[39mlinalg\u001b[38;5;241m.\u001b[39mnorm(\u001b[43mh\u001b[49m\u001b[38;5;241;43m.\u001b[39;49m\u001b[43mcircuit\u001b[49m\u001b[43m(\u001b[49m\u001b[38;5;241;43m12\u001b[39;49m\u001b[43m)\u001b[49m\u001b[38;5;241;43m.\u001b[39;49m\u001b[43munitary\u001b[49m\u001b[43m(\u001b[49m\u001b[43m)\u001b[49m\u001b[38;5;241;43m-\u001b[39;49m\u001b[43mnqubit_XXZ_decomposition\u001b[49m\u001b[43m(\u001b[49m\u001b[43mnqubits\u001b[49m\u001b[38;5;241;43m=\u001b[39;49m\u001b[38;5;241;43m2\u001b[39;49m\u001b[43m,\u001b[49m\u001b[43mt\u001b[49m\u001b[38;5;241;43m=\u001b[39;49m\u001b[38;5;241;43m12\u001b[39;49m\u001b[43m,\u001b[49m\u001b[43mdelta\u001b[49m\u001b[38;5;241;43m=\u001b[39;49m\u001b[38;5;241;43m0.5\u001b[39;49m\u001b[43m,\u001b[49m\u001b[43msteps\u001b[49m\u001b[38;5;241;43m=\u001b[39;49m\u001b[38;5;241;43m1\u001b[39;49m\u001b[43m)\u001b[49m\u001b[38;5;241;43m.\u001b[39;49m\u001b[43munitary\u001b[49m\u001b[43m(\u001b[49m\u001b[43m)\u001b[49m)\n",
      "\u001b[0;31mValueError\u001b[0m: operands could not be broadcast together with shapes (8,8) (4,4) "
     ]
    }
   ],
   "source": [
    "np.linalg.norm(eo_xxz.circuit(12).unitary()-nqubit_XXZ_decomposition(nqubits=2,t=12,delta=0.5,steps=1).unitary())"
   ]
  },
  {
   "cell_type": "code",
   "execution_count": null,
   "metadata": {},
   "outputs": [
    {
     "ename": "KeyboardInterrupt",
     "evalue": "",
     "output_type": "error",
     "traceback": [
      "\u001b[0;31m---------------------------------------------------------------------------\u001b[0m",
      "\u001b[0;31mKeyboardInterrupt\u001b[0m                         Traceback (most recent call last)",
      "Cell \u001b[0;32mIn[49], line 1\u001b[0m\n\u001b[0;32m----> 1\u001b[0m np\u001b[38;5;241m.\u001b[39mlinalg\u001b[38;5;241m.\u001b[39mnorm(hamiltonian\u001b[38;5;241m.\u001b[39mexp(\u001b[38;5;241m.1\u001b[39m)\u001b[38;5;241m-\u001b[39m\u001b[43mnqubit_XXZ_decomposition\u001b[49m\u001b[43m(\u001b[49m\u001b[43mnqubits\u001b[49m\u001b[38;5;241;43m=\u001b[39;49m\u001b[38;5;241;43m10\u001b[39;49m\u001b[43m,\u001b[49m\u001b[43mt\u001b[49m\u001b[38;5;241;43m=\u001b[39;49m\u001b[38;5;241;43m.1\u001b[39;49m\u001b[43m,\u001b[49m\u001b[43mdelta\u001b[49m\u001b[38;5;241;43m=\u001b[39;49m\u001b[38;5;241;43m0.5\u001b[39;49m\u001b[43m,\u001b[49m\u001b[43msteps\u001b[49m\u001b[38;5;241;43m=\u001b[39;49m\u001b[38;5;241;43m12\u001b[39;49m\u001b[43m)\u001b[49m\u001b[38;5;241;43m.\u001b[39;49m\u001b[43munitary\u001b[49m\u001b[43m(\u001b[49m\u001b[43m)\u001b[49m)\n",
      "File \u001b[0;32m~/Projectes_git/qibo/src/qibo/models/circuit.py:1033\u001b[0m, in \u001b[0;36mCircuit.unitary\u001b[0;34m(self, backend)\u001b[0m\n\u001b[1;32m   1031\u001b[0m     \u001b[38;5;28;01melif\u001b[39;00m \u001b[38;5;129;01mnot\u001b[39;00m \u001b[38;5;28misinstance\u001b[39m(gate, (gates\u001b[38;5;241m.\u001b[39mSpecialGate, gates\u001b[38;5;241m.\u001b[39mM)):\n\u001b[1;32m   1032\u001b[0m         fgate\u001b[38;5;241m.\u001b[39mappend(gate)\n\u001b[0;32m-> 1033\u001b[0m \u001b[38;5;28;01mreturn\u001b[39;00m \u001b[43mfgate\u001b[49m\u001b[38;5;241;43m.\u001b[39;49m\u001b[43mmatrix\u001b[49m\u001b[43m(\u001b[49m\u001b[43mbackend\u001b[49m\u001b[43m)\u001b[49m\n",
      "File \u001b[0;32m~/Projectes_git/qibo/src/qibo/gates/special.py:109\u001b[0m, in \u001b[0;36mFusedGate.matrix\u001b[0;34m(self, backend)\u001b[0m\n\u001b[1;32m     99\u001b[0m \u001b[38;5;250m\u001b[39m\u001b[38;5;124;03m\"\"\"Returns matrix representation of special gate.\u001b[39;00m\n\u001b[1;32m    100\u001b[0m \n\u001b[1;32m    101\u001b[0m \u001b[38;5;124;03mArgs:\u001b[39;00m\n\u001b[0;32m   (...)\u001b[0m\n\u001b[1;32m    105\u001b[0m \u001b[38;5;124;03m    ndarray: Matrix representation of special gate.\u001b[39;00m\n\u001b[1;32m    106\u001b[0m \u001b[38;5;124;03m\"\"\"\u001b[39;00m\n\u001b[1;32m    107\u001b[0m backend \u001b[38;5;241m=\u001b[39m _check_backend(backend)\n\u001b[0;32m--> 109\u001b[0m \u001b[38;5;28;01mreturn\u001b[39;00m \u001b[43mbackend\u001b[49m\u001b[38;5;241;43m.\u001b[39;49m\u001b[43mmatrix_fused\u001b[49m\u001b[43m(\u001b[49m\u001b[38;5;28;43mself\u001b[39;49m\u001b[43m)\u001b[49m\n",
      "File \u001b[0;32m~/Projectes_git/qibo/src/qibo/backends/numpy.py:144\u001b[0m, in \u001b[0;36mNumpyBackend.matrix_fused\u001b[0;34m(self, fgate)\u001b[0m\n\u001b[1;32m    142\u001b[0m transpose_indices\u001b[38;5;241m.\u001b[39mextend(indices \u001b[38;5;241m+\u001b[39m rank)\n\u001b[1;32m    143\u001b[0m gmatrix \u001b[38;5;241m=\u001b[39m np\u001b[38;5;241m.\u001b[39mtranspose(gmatrix, transpose_indices)\n\u001b[0;32m--> 144\u001b[0m gmatrix \u001b[38;5;241m=\u001b[39m \u001b[43mnp\u001b[49m\u001b[38;5;241;43m.\u001b[39;49m\u001b[43mreshape\u001b[49m\u001b[43m(\u001b[49m\u001b[43mgmatrix\u001b[49m\u001b[43m,\u001b[49m\u001b[43m \u001b[49m\u001b[43moriginal_shape\u001b[49m\u001b[43m)\u001b[49m\n\u001b[1;32m    145\u001b[0m \u001b[38;5;66;03m# fuse the individual gate matrix to the total ``FusedGate`` matrix\u001b[39;00m\n\u001b[1;32m    146\u001b[0m \u001b[38;5;66;03m# we are using sparse matrices to improve perfomances\u001b[39;00m\n\u001b[1;32m    147\u001b[0m matrix \u001b[38;5;241m=\u001b[39m sparse\u001b[38;5;241m.\u001b[39mcsr_matrix(gmatrix)\u001b[38;5;241m.\u001b[39mdot(matrix)\n",
      "File \u001b[0;32m/usr/lib/python3/dist-packages/numpy/core/fromnumeric.py:285\u001b[0m, in \u001b[0;36mreshape\u001b[0;34m(a, newshape, order)\u001b[0m\n\u001b[1;32m    200\u001b[0m \u001b[38;5;129m@array_function_dispatch\u001b[39m(_reshape_dispatcher)\n\u001b[1;32m    201\u001b[0m \u001b[38;5;28;01mdef\u001b[39;00m \u001b[38;5;21mreshape\u001b[39m(a, newshape, order\u001b[38;5;241m=\u001b[39m\u001b[38;5;124m'\u001b[39m\u001b[38;5;124mC\u001b[39m\u001b[38;5;124m'\u001b[39m):\n\u001b[1;32m    202\u001b[0m \u001b[38;5;250m    \u001b[39m\u001b[38;5;124;03m\"\"\"\u001b[39;00m\n\u001b[1;32m    203\u001b[0m \u001b[38;5;124;03m    Gives a new shape to an array without changing its data.\u001b[39;00m\n\u001b[1;32m    204\u001b[0m \n\u001b[0;32m   (...)\u001b[0m\n\u001b[1;32m    283\u001b[0m \u001b[38;5;124;03m           [5, 6]])\u001b[39;00m\n\u001b[1;32m    284\u001b[0m \u001b[38;5;124;03m    \"\"\"\u001b[39;00m\n\u001b[0;32m--> 285\u001b[0m     \u001b[38;5;28;01mreturn\u001b[39;00m \u001b[43m_wrapfunc\u001b[49m\u001b[43m(\u001b[49m\u001b[43ma\u001b[49m\u001b[43m,\u001b[49m\u001b[43m \u001b[49m\u001b[38;5;124;43m'\u001b[39;49m\u001b[38;5;124;43mreshape\u001b[39;49m\u001b[38;5;124;43m'\u001b[39;49m\u001b[43m,\u001b[49m\u001b[43m \u001b[49m\u001b[43mnewshape\u001b[49m\u001b[43m,\u001b[49m\u001b[43m \u001b[49m\u001b[43morder\u001b[49m\u001b[38;5;241;43m=\u001b[39;49m\u001b[43morder\u001b[49m\u001b[43m)\u001b[49m\n",
      "File \u001b[0;32m/usr/lib/python3/dist-packages/numpy/core/fromnumeric.py:59\u001b[0m, in \u001b[0;36m_wrapfunc\u001b[0;34m(obj, method, *args, **kwds)\u001b[0m\n\u001b[1;32m     56\u001b[0m     \u001b[38;5;28;01mreturn\u001b[39;00m _wrapit(obj, method, \u001b[38;5;241m*\u001b[39margs, \u001b[38;5;241m*\u001b[39m\u001b[38;5;241m*\u001b[39mkwds)\n\u001b[1;32m     58\u001b[0m \u001b[38;5;28;01mtry\u001b[39;00m:\n\u001b[0;32m---> 59\u001b[0m     \u001b[38;5;28;01mreturn\u001b[39;00m \u001b[43mbound\u001b[49m\u001b[43m(\u001b[49m\u001b[38;5;241;43m*\u001b[39;49m\u001b[43margs\u001b[49m\u001b[43m,\u001b[49m\u001b[43m \u001b[49m\u001b[38;5;241;43m*\u001b[39;49m\u001b[38;5;241;43m*\u001b[39;49m\u001b[43mkwds\u001b[49m\u001b[43m)\u001b[49m\n\u001b[1;32m     60\u001b[0m \u001b[38;5;28;01mexcept\u001b[39;00m \u001b[38;5;167;01mTypeError\u001b[39;00m:\n\u001b[1;32m     61\u001b[0m     \u001b[38;5;66;03m# A TypeError occurs if the object does have such a method in its\u001b[39;00m\n\u001b[1;32m     62\u001b[0m     \u001b[38;5;66;03m# class, but its signature is not identical to that of NumPy's. This\u001b[39;00m\n\u001b[0;32m   (...)\u001b[0m\n\u001b[1;32m     66\u001b[0m     \u001b[38;5;66;03m# Call _wrapit from within the except clause to ensure a potential\u001b[39;00m\n\u001b[1;32m     67\u001b[0m     \u001b[38;5;66;03m# exception has a traceback chain.\u001b[39;00m\n\u001b[1;32m     68\u001b[0m     \u001b[38;5;28;01mreturn\u001b[39;00m _wrapit(obj, method, \u001b[38;5;241m*\u001b[39margs, \u001b[38;5;241m*\u001b[39m\u001b[38;5;241m*\u001b[39mkwds)\n",
      "\u001b[0;31mKeyboardInterrupt\u001b[0m: "
     ]
    }
   ],
   "source": [
    "np.linalg.norm(hamiltonian.exp(.1)-nqubit_XXZ_decomposition(nqubits=10,t=.1,delta=0.5,steps=12).unitary())"
   ]
  },
  {
   "cell_type": "code",
   "execution_count": null,
   "metadata": {},
   "outputs": [
    {
     "data": {
      "text/plain": [
       "<function boostvqe.models.dbi.double_bracket_evolution_oracles.XXZ_EvolutionOracle.__init__.<locals>.<lambda>(t_duration)>"
      ]
     },
     "execution_count": 36,
     "metadata": {},
     "output_type": "execute_result"
    }
   ],
   "source": [
    "eo_xxz.h.circuit"
   ]
  },
  {
   "cell_type": "code",
   "execution_count": null,
   "metadata": {},
   "outputs": [
    {
     "data": {
      "text/plain": [
       "44.64146888249785"
      ]
     },
     "execution_count": 42,
     "metadata": {},
     "output_type": "execute_result"
    }
   ],
   "source": [
    "np.linalg.norm(eo_xxz.circuit(12).unitary()-hamiltonian.exp(12))"
   ]
  },
  {
   "cell_type": "code",
   "execution_count": null,
   "metadata": {},
   "outputs": [],
   "source": [
    "c = gci.group_commutator(0.12, eo_d)[\"forwards\"]"
   ]
  },
  {
   "cell_type": "code",
   "execution_count": null,
   "metadata": {},
   "outputs": [
    {
     "data": {
      "text/plain": [
       "-14.560174594055583"
      ]
     },
     "execution_count": 30,
     "metadata": {},
     "output_type": "execute_result"
    }
   ],
   "source": [
    "hamiltonian.expectation((vqe.circuit)().state())"
   ]
  },
  {
   "cell_type": "code",
   "execution_count": null,
   "metadata": {},
   "outputs": [
    {
     "data": {
      "text/plain": [
       "-6.516319182829969"
      ]
     },
     "execution_count": 31,
     "metadata": {},
     "output_type": "execute_result"
    }
   ],
   "source": [
    "hamiltonian.expectation(( vqe.circuit+c)().state())"
   ]
  },
  {
   "cell_type": "code",
   "execution_count": null,
   "metadata": {},
   "outputs": [
    {
     "data": {
      "text/plain": [
       "0.8990696577269373"
      ]
     },
     "execution_count": 8,
     "metadata": {},
     "output_type": "execute_result"
    }
   ],
   "source": [
    "hamiltonian.expectation((vqe.circuit+ c.invert())().state())"
   ]
  },
  {
   "cell_type": "code",
   "execution_count": null,
   "metadata": {},
   "outputs": [
    {
     "data": {
      "text/plain": [
       "-12.996366798086038"
      ]
     },
     "execution_count": 32,
     "metadata": {},
     "output_type": "execute_result"
    }
   ],
   "source": [
    "hamiltonian.expectation(( c.invert() + vqe.circuit)().state())"
   ]
  },
  {
   "cell_type": "code",
   "execution_count": null,
   "metadata": {},
   "outputs": [
    {
     "data": {
      "text/plain": [
       "-13.879854493944988"
      ]
     },
     "execution_count": 33,
     "metadata": {},
     "output_type": "execute_result"
    }
   ],
   "source": [
    "hamiltonian.expectation(( c+ vqe.circuit)().state())"
   ]
  },
  {
   "cell_type": "code",
   "execution_count": null,
   "metadata": {},
   "outputs": [
    {
     "data": {
      "text/plain": [
       "-6.516319182829969"
      ]
     },
     "execution_count": 34,
     "metadata": {},
     "output_type": "execute_result"
    }
   ],
   "source": [
    "hamiltonian.expectation((  vqe.circuit + c)().state())"
   ]
  },
  {
   "cell_type": "code",
   "execution_count": null,
   "metadata": {},
   "outputs": [],
   "source": [
    "gci(0.01,eo_d)"
   ]
  },
  {
   "cell_type": "code",
   "execution_count": null,
   "metadata": {},
   "outputs": [
    {
     "data": {
      "text/plain": [
       "'0.01(0.1(shifting by vqe(XXZ)))'"
      ]
     },
     "execution_count": 13,
     "metadata": {},
     "output_type": "execute_result"
    }
   ],
   "source": [
    "gci.iterated_hamiltonian_evolution_oracle.name"
   ]
  },
  {
   "cell_type": "code",
   "execution_count": null,
   "metadata": {},
   "outputs": [
    {
     "data": {
      "text/plain": [
       "-14.560174594055493"
      ]
     },
     "execution_count": 29,
     "metadata": {},
     "output_type": "execute_result"
    }
   ],
   "source": [
    "hamiltonian.expectation(gci.iterated_hamiltonian_evolution_oracle.get_composed_circuit()().state())\n",
    "    "
   ]
  },
  {
   "cell_type": "code",
   "execution_count": null,
   "metadata": {},
   "outputs": [
    {
     "ename": "NameError",
     "evalue": "name 'h_vqe_ham' is not defined",
     "output_type": "error",
     "traceback": [
      "\u001b[0;31m---------------------------------------------------------------------------\u001b[0m",
      "\u001b[0;31mNameError\u001b[0m                                 Traceback (most recent call last)",
      "Cell \u001b[0;32mIn[15], line 1\u001b[0m\n\u001b[0;32m----> 1\u001b[0m \u001b[38;5;28mprint\u001b[39m(\u001b[43mh_vqe_ham\u001b[49m\u001b[38;5;241m.\u001b[39mexpectation(zero_state_t))\n",
      "\u001b[0;31mNameError\u001b[0m: name 'h_vqe_ham' is not defined"
     ]
    }
   ],
   "source": [
    "print(h_vqe_ham.expectation(zero_state_t))"
   ]
  },
  {
   "cell_type": "code",
   "execution_count": null,
   "metadata": {},
   "outputs": [],
   "source": []
  },
  {
   "cell_type": "code",
   "execution_count": null,
   "metadata": {},
   "outputs": [],
   "source": [
    "def a():\n",
    "    print(\"1\")"
   ]
  },
  {
   "cell_type": "code",
   "execution_count": null,
   "metadata": {},
   "outputs": [],
   "source": [
    "d.a = a"
   ]
  },
  {
   "cell_type": "code",
   "execution_count": null,
   "metadata": {},
   "outputs": [
    {
     "name": "stdout",
     "output_type": "stream",
     "text": [
      "1\n"
     ]
    }
   ],
   "source": [
    "d.a()"
   ]
  },
  {
   "cell_type": "code",
   "execution_count": null,
   "metadata": {},
   "outputs": [
    {
     "name": "stdout",
     "output_type": "stream",
     "text": [
      "-15.276131122065795\n",
      "-14.560174594055583\n"
     ]
    }
   ],
   "source": [
    "print(target_energy)\n",
    "print(ene1)"
   ]
  },
  {
   "cell_type": "code",
   "execution_count": null,
   "metadata": {},
   "outputs": [
    {
     "name": "stderr",
     "output_type": "stream",
     "text": [
      "[Qibo 0.2.9|WARNING|2024-06-07 09:58:30]: Calculating the dense form of a symbolic Hamiltonian. This operation is memory inefficient.\n",
      "WARNING:qibo.config:Calculating the dense form of a symbolic Hamiltonian. This operation is memory inefficient.\n"
     ]
    },
    {
     "ename": "KeyboardInterrupt",
     "evalue": "",
     "output_type": "error",
     "traceback": [
      "\u001b[0;31m---------------------------------------------------------------------------\u001b[0m",
      "\u001b[0;31mKeyboardInterrupt\u001b[0m                         Traceback (most recent call last)",
      "Cell \u001b[0;32mIn[7], line 1\u001b[0m\n\u001b[0;32m----> 1\u001b[0m dm \u001b[38;5;241m=\u001b[39m \u001b[43md\u001b[49m\u001b[38;5;241;43m.\u001b[39;49m\u001b[43mdense\u001b[49m\u001b[38;5;241m.\u001b[39mmatrix\n",
      "File \u001b[0;32m~/Projectes_git/qibo/src/qibo/hamiltonians/hamiltonians.py:376\u001b[0m, in \u001b[0;36mSymbolicHamiltonian.dense\u001b[0;34m(self)\u001b[0m\n\u001b[1;32m    371\u001b[0m \u001b[38;5;28;01mif\u001b[39;00m \u001b[38;5;28mself\u001b[39m\u001b[38;5;241m.\u001b[39m_dense \u001b[38;5;129;01mis\u001b[39;00m \u001b[38;5;28;01mNone\u001b[39;00m:\n\u001b[1;32m    372\u001b[0m     log\u001b[38;5;241m.\u001b[39mwarning(\n\u001b[1;32m    373\u001b[0m         \u001b[38;5;124m\"\u001b[39m\u001b[38;5;124mCalculating the dense form of a symbolic Hamiltonian. \u001b[39m\u001b[38;5;124m\"\u001b[39m\n\u001b[1;32m    374\u001b[0m         \u001b[38;5;124m\"\u001b[39m\u001b[38;5;124mThis operation is memory inefficient.\u001b[39m\u001b[38;5;124m\"\u001b[39m\n\u001b[1;32m    375\u001b[0m     )\n\u001b[0;32m--> 376\u001b[0m     \u001b[38;5;28mself\u001b[39m\u001b[38;5;241m.\u001b[39mdense \u001b[38;5;241m=\u001b[39m \u001b[38;5;28;43mself\u001b[39;49m\u001b[38;5;241;43m.\u001b[39;49m\u001b[43mcalculate_dense\u001b[49m\u001b[43m(\u001b[49m\u001b[43m)\u001b[49m\n\u001b[1;32m    377\u001b[0m \u001b[38;5;28;01mreturn\u001b[39;00m \u001b[38;5;28mself\u001b[39m\u001b[38;5;241m.\u001b[39m_dense\n",
      "File \u001b[0;32m~/Projectes_git/qibo/src/qibo/hamiltonians/hamiltonians.py:569\u001b[0m, in \u001b[0;36mSymbolicHamiltonian.calculate_dense\u001b[0;34m(self)\u001b[0m\n\u001b[1;32m    565\u001b[0m \u001b[38;5;28;01mdef\u001b[39;00m \u001b[38;5;21mcalculate_dense\u001b[39m(\u001b[38;5;28mself\u001b[39m):\n\u001b[1;32m    566\u001b[0m     \u001b[38;5;28;01mif\u001b[39;00m \u001b[38;5;28mself\u001b[39m\u001b[38;5;241m.\u001b[39m_terms \u001b[38;5;129;01mis\u001b[39;00m \u001b[38;5;28;01mNone\u001b[39;00m:\n\u001b[1;32m    567\u001b[0m         \u001b[38;5;66;03m# calculate dense matrix directly using the form to avoid the\u001b[39;00m\n\u001b[1;32m    568\u001b[0m         \u001b[38;5;66;03m# costly ``sympy.expand`` call\u001b[39;00m\n\u001b[0;32m--> 569\u001b[0m         \u001b[38;5;28;01mreturn\u001b[39;00m \u001b[38;5;28;43mself\u001b[39;49m\u001b[38;5;241;43m.\u001b[39;49m\u001b[43m_calculate_dense_from_form\u001b[49m\u001b[43m(\u001b[49m\u001b[43m)\u001b[49m\n\u001b[1;32m    570\u001b[0m     \u001b[38;5;28;01mreturn\u001b[39;00m \u001b[38;5;28mself\u001b[39m\u001b[38;5;241m.\u001b[39m_calculate_dense_from_terms()\n",
      "File \u001b[0;32m~/Projectes_git/qibo/src/qibo/hamiltonians/hamiltonians.py:540\u001b[0m, in \u001b[0;36mSymbolicHamiltonian._calculate_dense_from_form\u001b[0;34m(self)\u001b[0m\n\u001b[1;32m    536\u001b[0m \u001b[38;5;28;01mdef\u001b[39;00m \u001b[38;5;21m_calculate_dense_from_form\u001b[39m(\u001b[38;5;28mself\u001b[39m):\n\u001b[1;32m    537\u001b[0m \u001b[38;5;250m    \u001b[39m\u001b[38;5;124;03m\"\"\"Calculates equivalent :class:`qibo.core.hamiltonians.Hamiltonian` using symbolic form.\u001b[39;00m\n\u001b[1;32m    538\u001b[0m \u001b[38;5;124;03m    Useful when the term representation is not available.\u001b[39;00m\n\u001b[1;32m    539\u001b[0m \u001b[38;5;124;03m    \"\"\"\u001b[39;00m\n\u001b[0;32m--> 540\u001b[0m     matrix \u001b[38;5;241m=\u001b[39m \u001b[38;5;28;43mself\u001b[39;49m\u001b[38;5;241;43m.\u001b[39;49m\u001b[43m_get_symbol_matrix\u001b[49m\u001b[43m(\u001b[49m\u001b[38;5;28;43mself\u001b[39;49m\u001b[38;5;241;43m.\u001b[39;49m\u001b[43mform\u001b[49m\u001b[43m)\u001b[49m\n\u001b[1;32m    541\u001b[0m     \u001b[38;5;28;01mreturn\u001b[39;00m Hamiltonian(\u001b[38;5;28mself\u001b[39m\u001b[38;5;241m.\u001b[39mnqubits, matrix, backend\u001b[38;5;241m=\u001b[39m\u001b[38;5;28mself\u001b[39m\u001b[38;5;241m.\u001b[39mbackend)\n",
      "File \u001b[0;32m~/Projectes_git/qibo/src/qibo/hamiltonians/hamiltonians.py:482\u001b[0m, in \u001b[0;36mSymbolicHamiltonian._get_symbol_matrix\u001b[0;34m(self, term)\u001b[0m\n\u001b[1;32m    464\u001b[0m \u001b[38;5;250m\u001b[39m\u001b[38;5;124;03m\"\"\"Calculates numerical matrix corresponding to symbolic expression.\u001b[39;00m\n\u001b[1;32m    465\u001b[0m \n\u001b[1;32m    466\u001b[0m \u001b[38;5;124;03mThis is partly equivalent to sympy's ``.subs``, which does not work\u001b[39;00m\n\u001b[0;32m   (...)\u001b[0m\n\u001b[1;32m    478\u001b[0m \u001b[38;5;124;03m    array of size ``(2 ** self.nqubits, 2 ** self.nqubits).\u001b[39;00m\n\u001b[1;32m    479\u001b[0m \u001b[38;5;124;03m\"\"\"\u001b[39;00m\n\u001b[1;32m    480\u001b[0m \u001b[38;5;28;01mif\u001b[39;00m \u001b[38;5;28misinstance\u001b[39m(term, sympy\u001b[38;5;241m.\u001b[39mAdd):\n\u001b[1;32m    481\u001b[0m     \u001b[38;5;66;03m# symbolic op for addition\u001b[39;00m\n\u001b[0;32m--> 482\u001b[0m     result \u001b[38;5;241m=\u001b[39m \u001b[38;5;28;43msum\u001b[39;49m\u001b[43m(\u001b[49m\n\u001b[1;32m    483\u001b[0m \u001b[43m        \u001b[49m\u001b[38;5;28;43mself\u001b[39;49m\u001b[38;5;241;43m.\u001b[39;49m\u001b[43m_get_symbol_matrix\u001b[49m\u001b[43m(\u001b[49m\u001b[43msubterm\u001b[49m\u001b[43m)\u001b[49m\u001b[43m \u001b[49m\u001b[38;5;28;43;01mfor\u001b[39;49;00m\u001b[43m \u001b[49m\u001b[43msubterm\u001b[49m\u001b[43m \u001b[49m\u001b[38;5;129;43;01min\u001b[39;49;00m\u001b[43m \u001b[49m\u001b[43mterm\u001b[49m\u001b[38;5;241;43m.\u001b[39;49m\u001b[43mas_ordered_terms\u001b[49m\u001b[43m(\u001b[49m\u001b[43m)\u001b[49m\n\u001b[1;32m    484\u001b[0m \u001b[43m    \u001b[49m\u001b[43m)\u001b[49m\n\u001b[1;32m    486\u001b[0m \u001b[38;5;28;01melif\u001b[39;00m \u001b[38;5;28misinstance\u001b[39m(term, sympy\u001b[38;5;241m.\u001b[39mMul):\n\u001b[1;32m    487\u001b[0m     \u001b[38;5;66;03m# symbolic op for multiplication\u001b[39;00m\n\u001b[1;32m    488\u001b[0m     \u001b[38;5;66;03m# note that we need to use matrix multiplication even though\u001b[39;00m\n\u001b[1;32m    489\u001b[0m     \u001b[38;5;66;03m# we use scalar symbols for convenience\u001b[39;00m\n\u001b[1;32m    490\u001b[0m     factors \u001b[38;5;241m=\u001b[39m term\u001b[38;5;241m.\u001b[39mas_ordered_factors()\n",
      "File \u001b[0;32m~/Projectes_git/qibo/src/qibo/hamiltonians/hamiltonians.py:483\u001b[0m, in \u001b[0;36m<genexpr>\u001b[0;34m(.0)\u001b[0m\n\u001b[1;32m    464\u001b[0m \u001b[38;5;250m\u001b[39m\u001b[38;5;124;03m\"\"\"Calculates numerical matrix corresponding to symbolic expression.\u001b[39;00m\n\u001b[1;32m    465\u001b[0m \n\u001b[1;32m    466\u001b[0m \u001b[38;5;124;03mThis is partly equivalent to sympy's ``.subs``, which does not work\u001b[39;00m\n\u001b[0;32m   (...)\u001b[0m\n\u001b[1;32m    478\u001b[0m \u001b[38;5;124;03m    array of size ``(2 ** self.nqubits, 2 ** self.nqubits).\u001b[39;00m\n\u001b[1;32m    479\u001b[0m \u001b[38;5;124;03m\"\"\"\u001b[39;00m\n\u001b[1;32m    480\u001b[0m \u001b[38;5;28;01mif\u001b[39;00m \u001b[38;5;28misinstance\u001b[39m(term, sympy\u001b[38;5;241m.\u001b[39mAdd):\n\u001b[1;32m    481\u001b[0m     \u001b[38;5;66;03m# symbolic op for addition\u001b[39;00m\n\u001b[1;32m    482\u001b[0m     result \u001b[38;5;241m=\u001b[39m \u001b[38;5;28msum\u001b[39m(\n\u001b[0;32m--> 483\u001b[0m         \u001b[38;5;28;43mself\u001b[39;49m\u001b[38;5;241;43m.\u001b[39;49m\u001b[43m_get_symbol_matrix\u001b[49m\u001b[43m(\u001b[49m\u001b[43msubterm\u001b[49m\u001b[43m)\u001b[49m \u001b[38;5;28;01mfor\u001b[39;00m subterm \u001b[38;5;129;01min\u001b[39;00m term\u001b[38;5;241m.\u001b[39mas_ordered_terms()\n\u001b[1;32m    484\u001b[0m     )\n\u001b[1;32m    486\u001b[0m \u001b[38;5;28;01melif\u001b[39;00m \u001b[38;5;28misinstance\u001b[39m(term, sympy\u001b[38;5;241m.\u001b[39mMul):\n\u001b[1;32m    487\u001b[0m     \u001b[38;5;66;03m# symbolic op for multiplication\u001b[39;00m\n\u001b[1;32m    488\u001b[0m     \u001b[38;5;66;03m# note that we need to use matrix multiplication even though\u001b[39;00m\n\u001b[1;32m    489\u001b[0m     \u001b[38;5;66;03m# we use scalar symbols for convenience\u001b[39;00m\n\u001b[1;32m    490\u001b[0m     factors \u001b[38;5;241m=\u001b[39m term\u001b[38;5;241m.\u001b[39mas_ordered_factors()\n",
      "File \u001b[0;32m~/Projectes_git/qibo/src/qibo/hamiltonians/hamiltonians.py:493\u001b[0m, in \u001b[0;36mSymbolicHamiltonian._get_symbol_matrix\u001b[0;34m(self, term)\u001b[0m\n\u001b[1;32m    491\u001b[0m     result \u001b[38;5;241m=\u001b[39m \u001b[38;5;28mself\u001b[39m\u001b[38;5;241m.\u001b[39m_get_symbol_matrix(factors[\u001b[38;5;241m0\u001b[39m])\n\u001b[1;32m    492\u001b[0m     \u001b[38;5;28;01mfor\u001b[39;00m subterm \u001b[38;5;129;01min\u001b[39;00m factors[\u001b[38;5;241m1\u001b[39m:]:\n\u001b[0;32m--> 493\u001b[0m         result \u001b[38;5;241m=\u001b[39m result \u001b[38;5;241m@\u001b[39m \u001b[38;5;28mself\u001b[39m\u001b[38;5;241m.\u001b[39m_get_symbol_matrix(subterm)\n\u001b[1;32m    495\u001b[0m \u001b[38;5;28;01melif\u001b[39;00m \u001b[38;5;28misinstance\u001b[39m(term, sympy\u001b[38;5;241m.\u001b[39mPow):\n\u001b[1;32m    496\u001b[0m     \u001b[38;5;66;03m# symbolic op for power\u001b[39;00m\n\u001b[1;32m    497\u001b[0m     base, exponent \u001b[38;5;241m=\u001b[39m term\u001b[38;5;241m.\u001b[39mas_base_exp()\n",
      "\u001b[0;31mKeyboardInterrupt\u001b[0m: "
     ]
    }
   ],
   "source": [
    "dm = d.dense.matrix"
   ]
  },
  {
   "cell_type": "code",
   "execution_count": null,
   "metadata": {},
   "outputs": [],
   "source": [
    "from copy import deepcopy\n",
    "dbi = DoubleBracketIteration(\n",
    "    hamiltonian=deepcopy(h_vqe_ham),\n",
    "    mode=DoubleBracketGeneratorType.single_commutator,\n",
    ")\n"
   ]
  },
  {
   "cell_type": "code",
   "execution_count": null,
   "metadata": {},
   "outputs": [
    {
     "data": {
      "text/plain": [
       "-14.560174594055578"
      ]
     },
     "execution_count": 25,
     "metadata": {},
     "output_type": "execute_result"
    }
   ],
   "source": [
    "dbi.h.expectation(zero_state_t)"
   ]
  },
  {
   "cell_type": "code",
   "execution_count": null,
   "metadata": {},
   "outputs": [
    {
     "ename": "NameError",
     "evalue": "name 'dbi' is not defined",
     "output_type": "error",
     "traceback": [
      "\u001b[0;31m---------------------------------------------------------------------------\u001b[0m",
      "\u001b[0;31mNameError\u001b[0m                                 Traceback (most recent call last)",
      "Cell \u001b[0;32mIn[2], line 1\u001b[0m\n\u001b[0;32m----> 1\u001b[0m \u001b[43mdbi\u001b[49m\u001b[38;5;241m.\u001b[39mh\u001b[38;5;241m.\u001b[39mnqubits\n",
      "\u001b[0;31mNameError\u001b[0m: name 'dbi' is not defined"
     ]
    }
   ],
   "source": [
    "dbi.h.nqubits"
   ]
  },
  {
   "cell_type": "code",
   "execution_count": null,
   "metadata": {},
   "outputs": [
    {
     "name": "stdout",
     "output_type": "stream",
     "text": [
      "-14.782805005074469\n"
     ]
    }
   ],
   "source": [
    "\n",
    "for t in [0.01]:\n",
    "    dbi(t)\n",
    "    print(dbi.h.expectation(zero_state_t))\n",
    "    dbi.h = deepcopy(h_vqe_ham)"
   ]
  },
  {
   "cell_type": "code",
   "execution_count": null,
   "metadata": {},
   "outputs": [],
   "source": [
    "def u_gcr(h,d,t):\n",
    "    ud =  d.exp(t)\n",
    "    u = h.exp(t)\n",
    "    return     ud.conj().T @ u @ud\n"
   ]
  },
  {
   "cell_type": "code",
   "execution_count": null,
   "metadata": {},
   "outputs": [
    {
     "data": {
      "text/plain": [
       "-1.4827471249442334"
      ]
     },
     "execution_count": 32,
     "metadata": {},
     "output_type": "execute_result"
    }
   ],
   "source": [
    "h_vqe_ham.expectation(u_gcr(h_vqe_ham,d,np.sqrt(0.01))@zero_state_t)"
   ]
  },
  {
   "cell_type": "code",
   "execution_count": null,
   "metadata": {},
   "outputs": [],
   "source": [
    "h_vqe_ham.expectation(u_gcr(h_vqe_ham,d,np.sqrt(0.01))@zero_state_t)"
   ]
  },
  {
   "cell_type": "code",
   "execution_count": null,
   "metadata": {},
   "outputs": [],
   "source": [
    "\n",
    "# DBQA stuff\n",
    "t0 = time.time()\n",
    "print(\"Rotating with VQE\")\n",
    "new_hamiltonian_matrix = rotate_h_with_vqe(hamiltonian=hamiltonian, vqe=vqe)\n",
    "new_hamiltonian = hamiltonians.Hamiltonian(\n",
    "    nq, matrix=new_hamiltonian_matrix\n",
    ")\n",
    "print(time.time() - t0)\n"
   ]
  },
  {
   "cell_type": "code",
   "execution_count": null,
   "metadata": {},
   "outputs": [],
   "source": [
    "t = 0.01\n",
    "s = np.sqrt(t)"
   ]
  },
  {
   "cell_type": "code",
   "execution_count": null,
   "metadata": {},
   "outputs": [
    {
     "data": {
      "text/plain": [
       "-15.276131122065795"
      ]
     },
     "execution_count": 33,
     "metadata": {},
     "output_type": "execute_result"
    }
   ],
   "source": [
    "target_energy"
   ]
  },
  {
   "cell_type": "code",
   "execution_count": null,
   "metadata": {},
   "outputs": [],
   "source": [
    "ene1"
   ]
  },
  {
   "cell_type": "code",
   "execution_count": null,
   "metadata": {},
   "outputs": [],
   "source": [
    "from qibo import hamiltonians\n",
    "import numpy as np\n",
    "from boostvqe.compiling_XXZ import *\n",
    "\n",
    "steps = 1\n",
    "delta=0.5\n",
    "\n",
    "\n",
    "h_xxz = hamiltonians.XXZ(nqubits=nq, delta = delta)\n",
    "u = h_xxz.exp(t)\n"
   ]
  },
  {
   "cell_type": "code",
   "execution_count": null,
   "metadata": {},
   "outputs": [],
   "source": [
    "from qibo import symbols, hamiltonians\n",
    "d = hamiltonians.SymbolicHamiltonian( sum([symbols.Z(j) for j in range(nq)]))\n",
    "circ_d = d.circuit(s)\n",
    "ud = circ_d.unitary()"
   ]
  },
  {
   "cell_type": "code",
   "execution_count": null,
   "metadata": {},
   "outputs": [],
   "source": [
    "from qibo import symbols, hamiltonians\n",
    "dtest = hamiltonians.SymbolicHamiltonian( sum([symbols.Z(j) for j in range(nq)])).dense\n",
    "ud =  dtest.exp(-0.1)"
   ]
  },
  {
   "cell_type": "code",
   "execution_count": null,
   "metadata": {},
   "outputs": [],
   "source": []
  },
  {
   "cell_type": "code",
   "execution_count": null,
   "metadata": {},
   "outputs": [],
   "source": []
  },
  {
   "cell_type": "code",
   "execution_count": null,
   "metadata": {},
   "outputs": [],
   "source": [
    "u2 = h_xxz.exp(t*np.sqrt(5))"
   ]
  },
  {
   "cell_type": "code",
   "execution_count": null,
   "metadata": {},
   "outputs": [],
   "source": [
    "print(h_xxz.expectation(ud.conj().T@u2@ud@u2@u_gcr@ vqe_state))"
   ]
  },
  {
   "cell_type": "code",
   "execution_count": null,
   "metadata": {},
   "outputs": [],
   "source": [
    "circ = nqubit_XXZ_decomposition(nqubits=nq,t=t,delta=delta,steps=steps)\n",
    "v = circ.unitary()\n",
    "\n"
   ]
  },
  {
   "cell_type": "code",
   "execution_count": null,
   "metadata": {},
   "outputs": [],
   "source": [
    "u = v@v"
   ]
  },
  {
   "cell_type": "code",
   "execution_count": null,
   "metadata": {},
   "outputs": [],
   "source": [
    "circ = nqubit_XXZ_decomposition(nqubits=nq,t=t * np.sqrt(5),delta=delta,steps=steps)\n",
    "v2 = circ.unitary()"
   ]
  },
  {
   "cell_type": "code",
   "execution_count": null,
   "metadata": {},
   "outputs": [],
   "source": [
    "def try_to_speed_up_GC3( v,v2,d):\n",
    "    return  (\n",
    "    v@ v2.conj().T\n",
    "    @ self.backend.calculate_matrix_exp(-step * (np.sqrt(5) - 1) / 2, d)\n",
    "    @ v\n",
    "    @ self.backend.calculate_matrix_exp(step * (np.sqrt(5) + 1) / 2, d)\n",
    "    @ v.conj().T @  v.conj().T @v.conj().T @ v2.conj().T\n",
    "    @ self.backend.calculate_matrix_exp(-step, d)\n",
    ")\n"
   ]
  },
  {
   "cell_type": "code",
   "execution_count": null,
   "metadata": {},
   "outputs": [],
   "source": [
    "from qibo import symbols, hamiltonians\n",
    "d = hamiltonians.SymbolicHamiltonian( sum([symbols.Z(j) for j in range(nq)])).dense"
   ]
  },
  {
   "cell_type": "code",
   "execution_count": null,
   "metadata": {},
   "outputs": [],
   "source": [
    "from qibo.models.dbi.utils import *\n",
    "\n",
    "pauli_operator_dict = generate_pauli_operator_dict(nq, 1)\n",
    "pauli_operators = list(pauli_operator_dict.values())\n",
    "d_coef_pauli = np.ones(nq)\n",
    "d_coef_pauli = d_coef_pauli + np.random.rand(len(d_coef_pauli))\n",
    "d_pauli = sum([d_coef_pauli[i] * pauli_operators[i] for i in range(len(d_coef_pauli))])\n"
   ]
  },
  {
   "cell_type": "code",
   "execution_count": null,
   "metadata": {},
   "outputs": [],
   "source": [
    "np.linalg.norm(d_pauli - d)"
   ]
  },
  {
   "cell_type": "code",
   "execution_count": null,
   "metadata": {},
   "outputs": [],
   "source": [
    "q = try_to_speed_up_GC3(v,v2,dbi.)"
   ]
  },
  {
   "cell_type": "code",
   "execution_count": null,
   "metadata": {},
   "outputs": [],
   "source": [
    "def expose_gci3(self, step)\n",
    "    return = (\n",
    "    self.h.exp(-step * (np.sqrt(5) - 1) / 2)\n",
    "    @ self.backend.calculate_matrix_exp(-step * (np.sqrt(5) - 1) / 2, d)\n",
    "    @ self.h.exp(step)\n",
    "    @ self.backend.calculate_matrix_exp(step * (np.sqrt(5) + 1) / 2, d)\n",
    "    @ self.h.exp(-step * (3 - np.sqrt(5)) / 2)\n",
    "    @ self.backend.calculate_matrix_exp(-step, d)\n",
    ")\n",
    "\n"
   ]
  },
  {
   "cell_type": "code",
   "execution_count": null,
   "metadata": {},
   "outputs": [],
   "source": [
    "u =expose_gci3(dbi,np.sqrt(t))\n"
   ]
  },
  {
   "cell_type": "code",
   "execution_count": null,
   "metadata": {},
   "outputs": [],
   "source": [
    "\n",
    "dbi = DoubleBracketIteration(\n",
    "    hamiltonian=new_hamiltonian,\n",
    "    mode=DoubleBracketGeneratorType.group_commutator_3,\n",
    ")\n",
    "\n",
    "zero_state_t = np.transpose([zero_state])\n",
    "energy_h0 = float(dbi.h.expectation(np.array(zero_state_t)))\n",
    "fluctuations_h0 = float(dbi.h.energy_fluctuation(zero_state_t))\n"
   ]
  },
  {
   "cell_type": "code",
   "execution_count": null,
   "metadata": {},
   "outputs": [],
   "source": [
    "dbi(0.1)"
   ]
  },
  {
   "cell_type": "code",
   "execution_count": null,
   "metadata": {},
   "outputs": [],
   "source": [
    "d = dbi.diagonal_h_matrix\n",
    "dbi.backend.calculate_matrix_exp(-0.1,d)"
   ]
  },
  {
   "cell_type": "code",
   "execution_count": null,
   "metadata": {},
   "outputs": [],
   "source": [
    "dbi.backend.calculate_matrix_exp(-0.1,dbi.h.matrix)"
   ]
  },
  {
   "cell_type": "code",
   "execution_count": null,
   "metadata": {},
   "outputs": [],
   "source": [
    "new_hamiltonian.exp(0.1)"
   ]
  },
  {
   "cell_type": "code",
   "execution_count": null,
   "metadata": {},
   "outputs": [],
   "source": [
    "print(fluctuations_h0)\n",
    "print(energy_h0)"
   ]
  },
  {
   "cell_type": "code",
   "execution_count": null,
   "metadata": {},
   "outputs": [],
   "source": [
    "dbi.loss(0.01)"
   ]
  },
  {
   "cell_type": "code",
   "execution_count": null,
   "metadata": {},
   "outputs": [],
   "source": [
    "\n",
    "print(\"Applying DBI steps\")\n",
    "\n",
    "print(time.time() - t0)\n",
    "print(\n",
    "    f\"\\nReached accuracy before DBI at iter {target_epoch}: {np.abs(target_energy - ene1)}\"\n",
    ")\n",
    "print(\n",
    "    f\"Reached accuracy after DBI at iter {target_epoch}: {np.abs(target_energy - dbi_energies[-1])}\"\n",
    ")\n",
    "print(\n",
    "    f\"Reached accuracy in the end of VQE long training: {np.abs(target_energy - losses[-1])}\"\n",
    ")\n"
   ]
  },
  {
   "cell_type": "code",
   "execution_count": null,
   "metadata": {},
   "outputs": [],
   "source": []
  }
 ],
 "metadata": {
  "kernelspec": {
   "display_name": "Python 3",
   "language": "python",
   "name": "python3"
  },
  "language_info": {
   "codemirror_mode": {
    "name": "ipython",
    "version": 3
   },
   "file_extension": ".py",
   "mimetype": "text/x-python",
   "name": "python",
   "nbconvert_exporter": "python",
   "pygments_lexer": "ipython3",
   "version": "3.12.3"
  }
 },
 "nbformat": 4,
 "nbformat_minor": 2
}
