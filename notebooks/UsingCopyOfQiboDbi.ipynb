{
 "cells": [
  {
   "cell_type": "code",
   "execution_count": 1,
   "metadata": {},
   "outputs": [
    {
     "name": "stderr",
     "output_type": "stream",
     "text": [
      "[Qibo 0.2.9|INFO|2024-06-11 19:58:52]: Using numpy backend on /CPU:0\n",
      "INFO:qibo.config:Using numpy backend on /CPU:0\n",
      "[Qibo 0.2.9|INFO|2024-06-11 19:58:52]: Using numpy backend on /CPU:0\n",
      "INFO:qibo.config:Using numpy backend on /CPU:0\n"
     ]
    },
    {
     "name": "stdout",
     "output_type": "stream",
     "text": [
      "In the VQE numpy\n"
     ]
    }
   ],
   "source": [
    "import json\n",
    "import time\n",
    "from pathlib import Path\n",
    "\n",
    "import numpy as np\n",
    "import qibo\n",
    "from qibo import hamiltonians, set_backend\n",
    "from boostvqe.models.dbi.double_bracket import (\n",
    "    DoubleBracketGeneratorType,\n",
    "    DoubleBracketIteration,\n",
    ")\n",
    "\n",
    "from boostvqe.ansatze import VQE, build_circuit\n",
    "from boostvqe.utils import apply_dbi_steps, rotate_h_with_vqe\n",
    "\n",
    "qibo.set_backend(\"numpy\")\n",
    "\n",
    "# set the path string which define the results\n",
    "path = \"../results/vqe_data/with_params/10q3l/sgd_10q_3l_42/\"\n",
    "\n",
    "# set the target epoch to which apply DBQA and the number of steps\n",
    "target_epoch = 2000\n",
    "dbi_steps = 1\n",
    "\n",
    "# upload system configuration and parameters for all the training\n",
    "with open(path + \"optimization_results.json\") as file:\n",
    "    config = json.load(file)\n",
    "nq = config[\"nqubits\"]\n",
    "losses = dict(np.load(path + \"energies.npz\"))[\"0\"]\n",
    "params = np.load(path + f\"parameters/params_ite{target_epoch}.npy\")\n",
    "\n",
    "\n",
    "# build circuit, hamiltonian and VQE\n",
    "hamiltonian = hamiltonians.XXZ(nqubits=nq, delta=0.5)\n",
    "circuit = build_circuit(nq, config[\"nlayers\"], \"numpy\")\n",
    "vqe = VQE(circuit, hamiltonian)\n",
    "zero_state = hamiltonian.backend.zero_state(nq)\n",
    "zero_state_t = np.transpose([zero_state])\n",
    "target_energy = np.min(hamiltonian.eigenvalues())\n",
    "\n",
    "\n",
    "# set target parameters into the VQE\n",
    "vqe.circuit.set_parameters(params)\n",
    "vqe_state = vqe.circuit().state()\n",
    "\n",
    "ene1 = hamiltonian.expectation(vqe_state)\n",
    "\n"
   ]
  },
  {
   "cell_type": "code",
   "execution_count": 2,
   "metadata": {},
   "outputs": [
    {
     "data": {
      "text/plain": [
       "-14.749515449118832"
      ]
     },
     "execution_count": 2,
     "metadata": {},
     "output_type": "execute_result"
    }
   ],
   "source": [
    "from qibo import symbols, hamiltonians\n",
    "b_list = [1+np.sin(x) for x in np.linspace(-1,1,nq) ]\n",
    "#b_list = np.random.rand(config[\"nqubits\"])\n",
    "d = hamiltonians.SymbolicHamiltonian( sum([b*symbols.Z(j) for j,b in zip(range(nq),b_list)]))\n",
    "from copy import deepcopy\n",
    "step = 0.12\n",
    "u2_circ = deepcopy(d).circuit( -step * (np.sqrt(5) - 1) / 2 ) \n",
    "u4_circ = deepcopy(d).circuit( step * (np.sqrt(5) + 1) / 2 )\n",
    "u6_circ = deepcopy(d).circuit( -step  ) \n",
    "\n",
    "from boostvqe.compiling_XXZ import *\n",
    "vqe_circ = vqe.circuit\n",
    "vqe_circ_inv = vqe_circ.invert()\n",
    "nmb_ts_steps = 1\n",
    "u1_circ = vqe_circ +nqubit_XXZ_decomposition(nqubits=config[\"nqubits\"],t=-step * (np.sqrt(5) - 1) / 2,delta=0.5,steps=nmb_ts_steps, order = 2)+vqe_circ_inv \n",
    "u3_circ = vqe_circ +nqubit_XXZ_decomposition(nqubits=config[\"nqubits\"],t= step ,delta=0.5,steps=nmb_ts_steps, order = 2)+vqe_circ_inv \n",
    "u5_circ = vqe_circ +nqubit_XXZ_decomposition(nqubits=config[\"nqubits\"],t=-step * (3 - np.sqrt(5)) / 2,delta=0.5,steps=nmb_ts_steps, order = 2)+vqe_circ_inv \n",
    "\n",
    "     \n",
    "circ_boost = (  u6_circ + u5_circ + u4_circ + u3_circ + u2_circ +vqe_circ )\n",
    "\n",
    "ket_boost = circ_boost(initial_state=zero_state)\n",
    "hamiltonian.expectation(ket_boost.state()) "
   ]
  },
  {
   "cell_type": "code",
   "execution_count": 3,
   "metadata": {},
   "outputs": [],
   "source": [
    "from qibo import symbols, hamiltonians\n",
    "from qibo import symbols, hamiltonians\n",
    "b_list = [1+np.sin(x) for x in np.linspace(-1,1,nq) ]\n",
    "#b_list = np.random.rand(nq)\n",
    "d = hamiltonians.SymbolicHamiltonian( sum([b*symbols.Z(j) for j,b in zip(range(nq),b_list)]))\n",
    "\n",
    "step = 0.12\n",
    "\n",
    "from boostvqe.models.dbi.group_commutator_iteration_transpiler import *\n",
    "eo_d = EvolutionOracle(d,mode_evolution_oracle=EvolutionOracleType.hamiltonian_simulation,name = \"D(linear)\")\n",
    "\n",
    "hamiltonian.delta = 0.5\n",
    "from boostvqe.models.dbi.double_bracket_evolution_oracles import *\n",
    "# quick hack how to use the method function hamiltonians.XXZ to get a simulable oracle\n",
    "eo_xxz = XXZ_EvolutionOracle(hamiltonian,mode_evolution_oracle=EvolutionOracleType.numerical, steps = 1, order = 2)\n",
    "eo_xxz.mode_evolution_oracle=EvolutionOracleType.hamiltonian_simulation\n",
    "hamiltonian.dense = hamiltonian\n",
    "# prescribe nmb of steps\n",
    "eo_d.please_use_prescribed_nmb_ts_steps = 1\n",
    "eo_xxz.please_use_prescribed_nmb_ts_steps = 1"
   ]
  },
  {
   "cell_type": "code",
   "execution_count": 4,
   "metadata": {},
   "outputs": [],
   "source": [
    "\n",
    "diff_norms = []\n",
    "diff_norms_2nd_order = []\n",
    "times = np.linspace(0,.3,6)\n",
    "a = lambda t_duration: nqubit_XXZ_decomposition(\n",
    "            nqubits=nq,t=t_duration,delta=h_xxz.delta,steps=3,order=1)\n",
    "b = lambda t_duration: nqubit_XXZ_decomposition(\n",
    "            nqubits=nq,t=t_duration,delta=h_xxz.delta,steps=3,order=2)\n"
   ]
  },
  {
   "cell_type": "code",
   "execution_count": 5,
   "metadata": {},
   "outputs": [],
   "source": [
    "\n",
    "gci  = GroupCommutatorIterationWithEvolutionOracles(input_hamiltonian_evolution_oracle=\n",
    "                            FrameShiftedEvolutionOracle(eo_xxz, before_circuit=vqe.circuit.invert(), \n",
    "                                                        after_circuit=vqe.circuit,name=\"shifting by vqe\"), \n",
    "                                                        mode_double_bracket_rotation=DoubleBracketRotationType.group_commutator_third_order_reduced)\n"
   ]
  },
  {
   "cell_type": "code",
   "execution_count": 6,
   "metadata": {},
   "outputs": [
    {
     "data": {
      "text/plain": [
       "-14.749515449118832"
      ]
     },
     "execution_count": 6,
     "metadata": {},
     "output_type": "execute_result"
    }
   ],
   "source": [
    "from qibo import symbols, hamiltonians\n",
    "b_list = [1+np.sin(x) for x in np.linspace(-1,1,nq) ]\n",
    "#b_list = np.random.rand(config[\"nqubits\"])\n",
    "d = hamiltonians.SymbolicHamiltonian( sum([b*symbols.Z(j) for j,b in zip(range(nq),b_list)]))\n",
    "from copy import deepcopy\n",
    "step = 0.12\n",
    "u2_circ = deepcopy(d).circuit( -step * (np.sqrt(5) - 1) / 2 ) \n",
    "u4_circ = deepcopy(d).circuit( step * (np.sqrt(5) + 1) / 2 )\n",
    "u6_circ = deepcopy(d).circuit( -step  ) \n",
    "\n",
    "from boostvqe.compiling_XXZ import *\n",
    "vqe_circ = vqe.circuit\n",
    "vqe_circ_inv = vqe_circ.invert()\n",
    "nmb_ts_steps = 1\n",
    "\n",
    "u3_circ = vqe_circ +eo_xxz.circuit( step ,steps = 1, order =2 )+vqe_circ_inv\n",
    "u5_circ = vqe_circ+ eo_xxz.circuit(-step * (3 - np.sqrt(5)) / 2 ,steps = 1, order =2 )+vqe_circ_inv\n",
    "     \n",
    "circ_boost = (  u6_circ + u5_circ + u4_circ + u3_circ + u2_circ +vqe_circ )\n",
    "\n",
    "ket_boost = circ_boost(initial_state=zero_state)\n",
    "hamiltonian.expectation(ket_boost.state()) "
   ]
  },
  {
   "cell_type": "code",
   "execution_count": 7,
   "metadata": {},
   "outputs": [],
   "source": [
    "fsoe  = FrameShiftedEvolutionOracle(eo_xxz, before_circuit=vqe.circuit.invert(), \n",
    "                                                        after_circuit=vqe.circuit,name=\"shifting by vqe\")"
   ]
  },
  {
   "cell_type": "code",
   "execution_count": 8,
   "metadata": {},
   "outputs": [
    {
     "data": {
      "text/plain": [
       "-14.749515449118832"
      ]
     },
     "execution_count": 8,
     "metadata": {},
     "output_type": "execute_result"
    }
   ],
   "source": [
    "c = fsoe.circuit(0.1)\n",
    "\n",
    "from qibo import symbols, hamiltonians\n",
    "b_list = [1+np.sin(x) for x in np.linspace(-1,1,nq) ]\n",
    "#b_list = np.random.rand(config[\"nqubits\"])\n",
    "d = hamiltonians.SymbolicHamiltonian( sum([b*symbols.Z(j) for j,b in zip(range(nq),b_list)]))\n",
    "from copy import deepcopy\n",
    "step = 0.12\n",
    "u2_circ = eo_d.circuit(-step * (np.sqrt(5) - 1) / 2) #deepcopy(d).circuit( -step * (np.sqrt(5) - 1) / 2 ) \n",
    "u4_circ = eo_d.circuit( step * (np.sqrt(5) + 1) / 2 )\n",
    "u6_circ = eo_d.circuit( -step  ) \n",
    "\n",
    "from boostvqe.compiling_XXZ import *\n",
    "vqe_circ = vqe.circuit\n",
    "vqe_circ_inv = vqe_circ.invert()\n",
    "nmb_ts_steps = 1\n",
    "\n",
    "u3_circ = fsoe.circuit(step)\n",
    "u5_circ = fsoe.circuit(-step * (3 - np.sqrt(5)) / 2  )\n",
    "     \n",
    "circ_boost = (  u6_circ + u5_circ + u4_circ + u3_circ + u2_circ +vqe_circ )\n",
    "\n",
    "ket_boost = circ_boost(initial_state=zero_state)\n",
    "hamiltonian.expectation(ket_boost.state()) \n"
   ]
  },
  {
   "cell_type": "code",
   "execution_count": 9,
   "metadata": {},
   "outputs": [
    {
     "data": {
      "text/plain": [
       "-14.749515449118832"
      ]
     },
     "execution_count": 9,
     "metadata": {},
     "output_type": "execute_result"
    }
   ],
   "source": [
    "\n",
    "gci  = GroupCommutatorIterationWithEvolutionOracles(input_hamiltonian_evolution_oracle=fsoe, \n",
    "        mode_double_bracket_rotation=DoubleBracketRotationType.group_commutator_third_order_reduced)\n",
    "\n",
    "    \n",
    "circ_boost = (  gci.group_commutator(step**2, eo_d)[\"forwards\"] +vqe_circ )\n",
    "\n",
    "ket_boost = circ_boost(initial_state=zero_state)\n",
    "hamiltonian.expectation(ket_boost.state()) "
   ]
  },
  {
   "cell_type": "code",
   "execution_count": 10,
   "metadata": {},
   "outputs": [
    {
     "data": {
      "text/plain": [
       "-14.749515449118832"
      ]
     },
     "execution_count": 10,
     "metadata": {},
     "output_type": "execute_result"
    }
   ],
   "source": [
    "\n",
    "gci  = GroupCommutatorIterationWithEvolutionOracles(input_hamiltonian_evolution_oracle=fsoe, \n",
    "        mode_double_bracket_rotation=DoubleBracketRotationType.group_commutator_third_order_reduced)\n",
    "\n",
    "    \n",
    "circ_boost = (  gci.group_commutator(step**2, eo_d)[\"forwards\"] +vqe_circ )\n",
    "\n",
    "ket_boost = circ_boost(initial_state=zero_state)\n",
    "hamiltonian.expectation(ket_boost.state()) "
   ]
  },
  {
   "cell_type": "code",
   "execution_count": 11,
   "metadata": {},
   "outputs": [
    {
     "data": {
      "text/plain": [
       "-14.749515449118832"
      ]
     },
     "execution_count": 11,
     "metadata": {},
     "output_type": "execute_result"
    }
   ],
   "source": [
    "eo1 = eo_d\n",
    "eo2 = fsoe\n",
    "s_step = step\n",
    "query_list_forward = [\n",
    "                deepcopy(eo1).circuit(-s_step * (np.sqrt(5) - 1) / 2),\n",
    "                deepcopy(eo2).circuit(s_step),\n",
    "                deepcopy(eo1).circuit(s_step * (np.sqrt(5) + 1) / 2),\n",
    "                deepcopy(eo2).circuit(-s_step * (3 - np.sqrt(5)) / 2),\n",
    "                deepcopy(eo1).circuit(-s_step)            \n",
    "            ]\n",
    "query_list_backward = [ Circuit.invert(c) for c in query_list_forward[::-1]]\n",
    "dict_circuit = {\n",
    "                \"forwards\": reduce(Circuit.__add__, query_list_forward[::-1]),\n",
    "                \"backwards\": reduce(Circuit.__add__, query_list_backward[::-1]),\n",
    "            }\n",
    "\n",
    "\n",
    "\n",
    "hamiltonian.expectation( (reduce(Circuit.__add__, query_list_forward[::-1])\n",
    "               +vqe_circ)().state() )"
   ]
  },
  {
   "cell_type": "code",
   "execution_count": 12,
   "metadata": {},
   "outputs": [
    {
     "data": {
      "text/plain": [
       "-14.75006340353596"
      ]
     },
     "execution_count": 12,
     "metadata": {},
     "output_type": "execute_result"
    }
   ],
   "source": [
    "hamiltonian.expectation( (reduce(Circuit.__add__, [u1_circ,u2_circ,u3_circ,u4_circ,u5_circ,u6_circ][::-1])\n",
    "               +vqe_circ)().state() )"
   ]
  },
  {
   "cell_type": "code",
   "execution_count": 13,
   "metadata": {},
   "outputs": [
    {
     "data": {
      "text/plain": [
       "-14.75006340353596"
      ]
     },
     "execution_count": 13,
     "metadata": {},
     "output_type": "execute_result"
    }
   ],
   "source": [
    "circ_boost =  ( reduce(Circuit.__add__, [u1_circ,u2_circ,u3_circ,u4_circ,u5_circ,u6_circ][::-1])\n",
    "               +vqe_circ )\n",
    "\n",
    "ket_boost = circ_boost(initial_state=zero_state)\n",
    "hamiltonian.expectation(ket_boost.state()) "
   ]
  },
  {
   "cell_type": "code",
   "execution_count": 14,
   "metadata": {},
   "outputs": [
    {
     "data": {
      "text/plain": [
       "-14.7136267945728"
      ]
     },
     "execution_count": 14,
     "metadata": {},
     "output_type": "execute_result"
    }
   ],
   "source": [
    "circ_boost =  ( eo1.circuit(-s_step) + \n",
    "               eo2.circuit(-s_step * (3 - np.sqrt(5)) / 2)+\n",
    "               eo1.circuit(s_step * (np.sqrt(5) + 1) / 2)+\n",
    "               eo2.circuit(s_step)+\n",
    "               eo1.circuit(-s_step) \n",
    "               +vqe_circ )\n",
    "\n",
    "ket_boost = circ_boost(initial_state=zero_state)\n",
    "hamiltonian.expectation(ket_boost.state()) "
   ]
  },
  {
   "cell_type": "code",
   "execution_count": 21,
   "metadata": {},
   "outputs": [
    {
     "data": {
      "text/plain": [
       "-14.809004909737844"
      ]
     },
     "execution_count": 21,
     "metadata": {},
     "output_type": "execute_result"
    }
   ],
   "source": [
    "gci(step**2, eo_d)\n",
    "hamiltonian.expectation(gci.iterated_hamiltonian_evolution_oracle.get_composed_circuit()().state())"
   ]
  },
  {
   "cell_type": "code",
   "execution_count": 20,
   "metadata": {},
   "outputs": [
    {
     "data": {
      "text/plain": [
       "-14.503182773819251"
      ]
     },
     "execution_count": 20,
     "metadata": {},
     "output_type": "execute_result"
    }
   ],
   "source": [
    "a = gci.iterated_hamiltonian_evolution_oracle.after_circuit\n",
    "b = gci.iterated_hamiltonian_evolution_oracle.base_evolution_oracle.after_circuit\n",
    "hamiltonian.expectation( (a+vqe.circuit)().state())"
   ]
  },
  {
   "cell_type": "code",
   "execution_count": null,
   "metadata": {},
   "outputs": [],
   "source": []
  },
  {
   "cell_type": "code",
   "execution_count": 17,
   "metadata": {},
   "outputs": [
    {
     "name": "stdout",
     "output_type": "stream",
     "text": [
      "-15.276131122065795\n",
      "-14.560174594055583\n"
     ]
    }
   ],
   "source": [
    "print(target_energy)\n",
    "print(ene1)"
   ]
  },
  {
   "cell_type": "code",
   "execution_count": 18,
   "metadata": {},
   "outputs": [
    {
     "name": "stderr",
     "output_type": "stream",
     "text": [
      "[Qibo 0.2.9|WARNING|2024-06-11 19:58:57]: Calculating the dense form of a symbolic Hamiltonian. This operation is memory inefficient.\n",
      "WARNING:qibo.config:Calculating the dense form of a symbolic Hamiltonian. This operation is memory inefficient.\n"
     ]
    },
    {
     "ename": "KeyboardInterrupt",
     "evalue": "",
     "output_type": "error",
     "traceback": [
      "\u001b[0;31m---------------------------------------------------------------------------\u001b[0m",
      "\u001b[0;31mKeyboardInterrupt\u001b[0m                         Traceback (most recent call last)",
      "Cell \u001b[0;32mIn[18], line 1\u001b[0m\n\u001b[0;32m----> 1\u001b[0m dm \u001b[38;5;241m=\u001b[39m \u001b[43md\u001b[49m\u001b[38;5;241;43m.\u001b[39;49m\u001b[43mdense\u001b[49m\u001b[38;5;241m.\u001b[39mmatrix\n",
      "File \u001b[0;32m~/Projectes_git/qibo/src/qibo/hamiltonians/hamiltonians.py:376\u001b[0m, in \u001b[0;36mSymbolicHamiltonian.dense\u001b[0;34m(self)\u001b[0m\n\u001b[1;32m    371\u001b[0m \u001b[38;5;28;01mif\u001b[39;00m \u001b[38;5;28mself\u001b[39m\u001b[38;5;241m.\u001b[39m_dense \u001b[38;5;129;01mis\u001b[39;00m \u001b[38;5;28;01mNone\u001b[39;00m:\n\u001b[1;32m    372\u001b[0m     log\u001b[38;5;241m.\u001b[39mwarning(\n\u001b[1;32m    373\u001b[0m         \u001b[38;5;124m\"\u001b[39m\u001b[38;5;124mCalculating the dense form of a symbolic Hamiltonian. \u001b[39m\u001b[38;5;124m\"\u001b[39m\n\u001b[1;32m    374\u001b[0m         \u001b[38;5;124m\"\u001b[39m\u001b[38;5;124mThis operation is memory inefficient.\u001b[39m\u001b[38;5;124m\"\u001b[39m\n\u001b[1;32m    375\u001b[0m     )\n\u001b[0;32m--> 376\u001b[0m     \u001b[38;5;28mself\u001b[39m\u001b[38;5;241m.\u001b[39mdense \u001b[38;5;241m=\u001b[39m \u001b[38;5;28;43mself\u001b[39;49m\u001b[38;5;241;43m.\u001b[39;49m\u001b[43mcalculate_dense\u001b[49m\u001b[43m(\u001b[49m\u001b[43m)\u001b[49m\n\u001b[1;32m    377\u001b[0m \u001b[38;5;28;01mreturn\u001b[39;00m \u001b[38;5;28mself\u001b[39m\u001b[38;5;241m.\u001b[39m_dense\n",
      "File \u001b[0;32m~/Projectes_git/qibo/src/qibo/hamiltonians/hamiltonians.py:569\u001b[0m, in \u001b[0;36mSymbolicHamiltonian.calculate_dense\u001b[0;34m(self)\u001b[0m\n\u001b[1;32m    565\u001b[0m \u001b[38;5;28;01mdef\u001b[39;00m \u001b[38;5;21mcalculate_dense\u001b[39m(\u001b[38;5;28mself\u001b[39m):\n\u001b[1;32m    566\u001b[0m     \u001b[38;5;28;01mif\u001b[39;00m \u001b[38;5;28mself\u001b[39m\u001b[38;5;241m.\u001b[39m_terms \u001b[38;5;129;01mis\u001b[39;00m \u001b[38;5;28;01mNone\u001b[39;00m:\n\u001b[1;32m    567\u001b[0m         \u001b[38;5;66;03m# calculate dense matrix directly using the form to avoid the\u001b[39;00m\n\u001b[1;32m    568\u001b[0m         \u001b[38;5;66;03m# costly ``sympy.expand`` call\u001b[39;00m\n\u001b[0;32m--> 569\u001b[0m         \u001b[38;5;28;01mreturn\u001b[39;00m \u001b[38;5;28;43mself\u001b[39;49m\u001b[38;5;241;43m.\u001b[39;49m\u001b[43m_calculate_dense_from_form\u001b[49m\u001b[43m(\u001b[49m\u001b[43m)\u001b[49m\n\u001b[1;32m    570\u001b[0m     \u001b[38;5;28;01mreturn\u001b[39;00m \u001b[38;5;28mself\u001b[39m\u001b[38;5;241m.\u001b[39m_calculate_dense_from_terms()\n",
      "File \u001b[0;32m~/Projectes_git/qibo/src/qibo/hamiltonians/hamiltonians.py:540\u001b[0m, in \u001b[0;36mSymbolicHamiltonian._calculate_dense_from_form\u001b[0;34m(self)\u001b[0m\n\u001b[1;32m    536\u001b[0m \u001b[38;5;28;01mdef\u001b[39;00m \u001b[38;5;21m_calculate_dense_from_form\u001b[39m(\u001b[38;5;28mself\u001b[39m):\n\u001b[1;32m    537\u001b[0m \u001b[38;5;250m    \u001b[39m\u001b[38;5;124;03m\"\"\"Calculates equivalent :class:`qibo.core.hamiltonians.Hamiltonian` using symbolic form.\u001b[39;00m\n\u001b[1;32m    538\u001b[0m \u001b[38;5;124;03m    Useful when the term representation is not available.\u001b[39;00m\n\u001b[1;32m    539\u001b[0m \u001b[38;5;124;03m    \"\"\"\u001b[39;00m\n\u001b[0;32m--> 540\u001b[0m     matrix \u001b[38;5;241m=\u001b[39m \u001b[38;5;28;43mself\u001b[39;49m\u001b[38;5;241;43m.\u001b[39;49m\u001b[43m_get_symbol_matrix\u001b[49m\u001b[43m(\u001b[49m\u001b[38;5;28;43mself\u001b[39;49m\u001b[38;5;241;43m.\u001b[39;49m\u001b[43mform\u001b[49m\u001b[43m)\u001b[49m\n\u001b[1;32m    541\u001b[0m     \u001b[38;5;28;01mreturn\u001b[39;00m Hamiltonian(\u001b[38;5;28mself\u001b[39m\u001b[38;5;241m.\u001b[39mnqubits, matrix, backend\u001b[38;5;241m=\u001b[39m\u001b[38;5;28mself\u001b[39m\u001b[38;5;241m.\u001b[39mbackend)\n",
      "File \u001b[0;32m~/Projectes_git/qibo/src/qibo/hamiltonians/hamiltonians.py:482\u001b[0m, in \u001b[0;36mSymbolicHamiltonian._get_symbol_matrix\u001b[0;34m(self, term)\u001b[0m\n\u001b[1;32m    464\u001b[0m \u001b[38;5;250m\u001b[39m\u001b[38;5;124;03m\"\"\"Calculates numerical matrix corresponding to symbolic expression.\u001b[39;00m\n\u001b[1;32m    465\u001b[0m \n\u001b[1;32m    466\u001b[0m \u001b[38;5;124;03mThis is partly equivalent to sympy's ``.subs``, which does not work\u001b[39;00m\n\u001b[0;32m   (...)\u001b[0m\n\u001b[1;32m    478\u001b[0m \u001b[38;5;124;03m    array of size ``(2 ** self.nqubits, 2 ** self.nqubits).\u001b[39;00m\n\u001b[1;32m    479\u001b[0m \u001b[38;5;124;03m\"\"\"\u001b[39;00m\n\u001b[1;32m    480\u001b[0m \u001b[38;5;28;01mif\u001b[39;00m \u001b[38;5;28misinstance\u001b[39m(term, sympy\u001b[38;5;241m.\u001b[39mAdd):\n\u001b[1;32m    481\u001b[0m     \u001b[38;5;66;03m# symbolic op for addition\u001b[39;00m\n\u001b[0;32m--> 482\u001b[0m     result \u001b[38;5;241m=\u001b[39m \u001b[38;5;28;43msum\u001b[39;49m\u001b[43m(\u001b[49m\n\u001b[1;32m    483\u001b[0m \u001b[43m        \u001b[49m\u001b[38;5;28;43mself\u001b[39;49m\u001b[38;5;241;43m.\u001b[39;49m\u001b[43m_get_symbol_matrix\u001b[49m\u001b[43m(\u001b[49m\u001b[43msubterm\u001b[49m\u001b[43m)\u001b[49m\u001b[43m \u001b[49m\u001b[38;5;28;43;01mfor\u001b[39;49;00m\u001b[43m \u001b[49m\u001b[43msubterm\u001b[49m\u001b[43m \u001b[49m\u001b[38;5;129;43;01min\u001b[39;49;00m\u001b[43m \u001b[49m\u001b[43mterm\u001b[49m\u001b[38;5;241;43m.\u001b[39;49m\u001b[43mas_ordered_terms\u001b[49m\u001b[43m(\u001b[49m\u001b[43m)\u001b[49m\n\u001b[1;32m    484\u001b[0m \u001b[43m    \u001b[49m\u001b[43m)\u001b[49m\n\u001b[1;32m    486\u001b[0m \u001b[38;5;28;01melif\u001b[39;00m \u001b[38;5;28misinstance\u001b[39m(term, sympy\u001b[38;5;241m.\u001b[39mMul):\n\u001b[1;32m    487\u001b[0m     \u001b[38;5;66;03m# symbolic op for multiplication\u001b[39;00m\n\u001b[1;32m    488\u001b[0m     \u001b[38;5;66;03m# note that we need to use matrix multiplication even though\u001b[39;00m\n\u001b[1;32m    489\u001b[0m     \u001b[38;5;66;03m# we use scalar symbols for convenience\u001b[39;00m\n\u001b[1;32m    490\u001b[0m     factors \u001b[38;5;241m=\u001b[39m term\u001b[38;5;241m.\u001b[39mas_ordered_factors()\n",
      "File \u001b[0;32m~/Projectes_git/qibo/src/qibo/hamiltonians/hamiltonians.py:483\u001b[0m, in \u001b[0;36m<genexpr>\u001b[0;34m(.0)\u001b[0m\n\u001b[1;32m    464\u001b[0m \u001b[38;5;250m\u001b[39m\u001b[38;5;124;03m\"\"\"Calculates numerical matrix corresponding to symbolic expression.\u001b[39;00m\n\u001b[1;32m    465\u001b[0m \n\u001b[1;32m    466\u001b[0m \u001b[38;5;124;03mThis is partly equivalent to sympy's ``.subs``, which does not work\u001b[39;00m\n\u001b[0;32m   (...)\u001b[0m\n\u001b[1;32m    478\u001b[0m \u001b[38;5;124;03m    array of size ``(2 ** self.nqubits, 2 ** self.nqubits).\u001b[39;00m\n\u001b[1;32m    479\u001b[0m \u001b[38;5;124;03m\"\"\"\u001b[39;00m\n\u001b[1;32m    480\u001b[0m \u001b[38;5;28;01mif\u001b[39;00m \u001b[38;5;28misinstance\u001b[39m(term, sympy\u001b[38;5;241m.\u001b[39mAdd):\n\u001b[1;32m    481\u001b[0m     \u001b[38;5;66;03m# symbolic op for addition\u001b[39;00m\n\u001b[1;32m    482\u001b[0m     result \u001b[38;5;241m=\u001b[39m \u001b[38;5;28msum\u001b[39m(\n\u001b[0;32m--> 483\u001b[0m         \u001b[38;5;28;43mself\u001b[39;49m\u001b[38;5;241;43m.\u001b[39;49m\u001b[43m_get_symbol_matrix\u001b[49m\u001b[43m(\u001b[49m\u001b[43msubterm\u001b[49m\u001b[43m)\u001b[49m \u001b[38;5;28;01mfor\u001b[39;00m subterm \u001b[38;5;129;01min\u001b[39;00m term\u001b[38;5;241m.\u001b[39mas_ordered_terms()\n\u001b[1;32m    484\u001b[0m     )\n\u001b[1;32m    486\u001b[0m \u001b[38;5;28;01melif\u001b[39;00m \u001b[38;5;28misinstance\u001b[39m(term, sympy\u001b[38;5;241m.\u001b[39mMul):\n\u001b[1;32m    487\u001b[0m     \u001b[38;5;66;03m# symbolic op for multiplication\u001b[39;00m\n\u001b[1;32m    488\u001b[0m     \u001b[38;5;66;03m# note that we need to use matrix multiplication even though\u001b[39;00m\n\u001b[1;32m    489\u001b[0m     \u001b[38;5;66;03m# we use scalar symbols for convenience\u001b[39;00m\n\u001b[1;32m    490\u001b[0m     factors \u001b[38;5;241m=\u001b[39m term\u001b[38;5;241m.\u001b[39mas_ordered_factors()\n",
      "File \u001b[0;32m~/Projectes_git/qibo/src/qibo/hamiltonians/hamiltonians.py:493\u001b[0m, in \u001b[0;36mSymbolicHamiltonian._get_symbol_matrix\u001b[0;34m(self, term)\u001b[0m\n\u001b[1;32m    491\u001b[0m     result \u001b[38;5;241m=\u001b[39m \u001b[38;5;28mself\u001b[39m\u001b[38;5;241m.\u001b[39m_get_symbol_matrix(factors[\u001b[38;5;241m0\u001b[39m])\n\u001b[1;32m    492\u001b[0m     \u001b[38;5;28;01mfor\u001b[39;00m subterm \u001b[38;5;129;01min\u001b[39;00m factors[\u001b[38;5;241m1\u001b[39m:]:\n\u001b[0;32m--> 493\u001b[0m         result \u001b[38;5;241m=\u001b[39m result \u001b[38;5;241m@\u001b[39m \u001b[38;5;28mself\u001b[39m\u001b[38;5;241m.\u001b[39m_get_symbol_matrix(subterm)\n\u001b[1;32m    495\u001b[0m \u001b[38;5;28;01melif\u001b[39;00m \u001b[38;5;28misinstance\u001b[39m(term, sympy\u001b[38;5;241m.\u001b[39mPow):\n\u001b[1;32m    496\u001b[0m     \u001b[38;5;66;03m# symbolic op for power\u001b[39;00m\n\u001b[1;32m    497\u001b[0m     base, exponent \u001b[38;5;241m=\u001b[39m term\u001b[38;5;241m.\u001b[39mas_base_exp()\n",
      "\u001b[0;31mKeyboardInterrupt\u001b[0m: "
     ]
    }
   ],
   "source": [
    "dm = d.dense.matrix"
   ]
  },
  {
   "cell_type": "code",
   "execution_count": null,
   "metadata": {},
   "outputs": [],
   "source": [
    "from copy import deepcopy\n",
    "dbi = DoubleBracketIteration(\n",
    "    hamiltonian=deepcopy(h_vqe_ham),\n",
    "    mode=DoubleBracketGeneratorType.single_commutator,\n",
    ")\n"
   ]
  },
  {
   "cell_type": "code",
   "execution_count": null,
   "metadata": {},
   "outputs": [
    {
     "data": {
      "text/plain": [
       "-14.560174594055578"
      ]
     },
     "execution_count": 25,
     "metadata": {},
     "output_type": "execute_result"
    }
   ],
   "source": [
    "dbi.h.expectation(zero_state_t)"
   ]
  },
  {
   "cell_type": "code",
   "execution_count": null,
   "metadata": {},
   "outputs": [
    {
     "ename": "NameError",
     "evalue": "name 'dbi' is not defined",
     "output_type": "error",
     "traceback": [
      "\u001b[0;31m---------------------------------------------------------------------------\u001b[0m",
      "\u001b[0;31mNameError\u001b[0m                                 Traceback (most recent call last)",
      "Cell \u001b[0;32mIn[2], line 1\u001b[0m\n\u001b[0;32m----> 1\u001b[0m \u001b[43mdbi\u001b[49m\u001b[38;5;241m.\u001b[39mh\u001b[38;5;241m.\u001b[39mnqubits\n",
      "\u001b[0;31mNameError\u001b[0m: name 'dbi' is not defined"
     ]
    }
   ],
   "source": [
    "dbi.h.nqubits"
   ]
  },
  {
   "cell_type": "code",
   "execution_count": null,
   "metadata": {},
   "outputs": [
    {
     "name": "stdout",
     "output_type": "stream",
     "text": [
      "-14.782805005074469\n"
     ]
    }
   ],
   "source": [
    "\n",
    "for t in [0.01]:\n",
    "    dbi(t)\n",
    "    print(dbi.h.expectation(zero_state_t))\n",
    "    dbi.h = deepcopy(h_vqe_ham)"
   ]
  },
  {
   "cell_type": "code",
   "execution_count": null,
   "metadata": {},
   "outputs": [],
   "source": [
    "def u_gcr(h,d,t):\n",
    "    ud =  d.exp(t)\n",
    "    u = h.exp(t)\n",
    "    return     ud.conj().T @ u @ud\n"
   ]
  },
  {
   "cell_type": "code",
   "execution_count": null,
   "metadata": {},
   "outputs": [
    {
     "data": {
      "text/plain": [
       "-1.4827471249442334"
      ]
     },
     "execution_count": 32,
     "metadata": {},
     "output_type": "execute_result"
    }
   ],
   "source": [
    "h_vqe_ham.expectation(u_gcr(h_vqe_ham,d,np.sqrt(0.01))@zero_state_t)"
   ]
  },
  {
   "cell_type": "code",
   "execution_count": null,
   "metadata": {},
   "outputs": [],
   "source": [
    "h_vqe_ham.expectation(u_gcr(h_vqe_ham,d,np.sqrt(0.01))@zero_state_t)"
   ]
  },
  {
   "cell_type": "code",
   "execution_count": null,
   "metadata": {},
   "outputs": [],
   "source": [
    "\n",
    "# DBQA stuff\n",
    "t0 = time.time()\n",
    "print(\"Rotating with VQE\")\n",
    "new_hamiltonian_matrix = rotate_h_with_vqe(hamiltonian=hamiltonian, vqe=vqe)\n",
    "new_hamiltonian = hamiltonians.Hamiltonian(\n",
    "    nq, matrix=new_hamiltonian_matrix\n",
    ")\n",
    "print(time.time() - t0)\n"
   ]
  },
  {
   "cell_type": "code",
   "execution_count": null,
   "metadata": {},
   "outputs": [],
   "source": [
    "t = 0.01\n",
    "s = np.sqrt(t)"
   ]
  },
  {
   "cell_type": "code",
   "execution_count": null,
   "metadata": {},
   "outputs": [
    {
     "data": {
      "text/plain": [
       "-15.276131122065795"
      ]
     },
     "execution_count": 33,
     "metadata": {},
     "output_type": "execute_result"
    }
   ],
   "source": [
    "target_energy"
   ]
  },
  {
   "cell_type": "code",
   "execution_count": null,
   "metadata": {},
   "outputs": [],
   "source": [
    "ene1"
   ]
  },
  {
   "cell_type": "code",
   "execution_count": null,
   "metadata": {},
   "outputs": [],
   "source": [
    "from qibo import hamiltonians\n",
    "import numpy as np\n",
    "from boostvqe.compiling_XXZ import *\n",
    "\n",
    "steps = 1\n",
    "delta=0.5\n",
    "\n",
    "\n",
    "h_xxz = hamiltonians.XXZ(nqubits=nq, delta = delta)\n",
    "u = h_xxz.exp(t)\n"
   ]
  },
  {
   "cell_type": "code",
   "execution_count": null,
   "metadata": {},
   "outputs": [],
   "source": [
    "from qibo import symbols, hamiltonians\n",
    "d = hamiltonians.SymbolicHamiltonian( sum([symbols.Z(j) for j in range(nq)]))\n",
    "circ_d = d.circuit(s)\n",
    "ud = circ_d.unitary()"
   ]
  },
  {
   "cell_type": "code",
   "execution_count": null,
   "metadata": {},
   "outputs": [],
   "source": [
    "from qibo import symbols, hamiltonians\n",
    "dtest = hamiltonians.SymbolicHamiltonian( sum([symbols.Z(j) for j in range(nq)])).dense\n",
    "ud =  dtest.exp(-0.1)"
   ]
  },
  {
   "cell_type": "code",
   "execution_count": null,
   "metadata": {},
   "outputs": [],
   "source": []
  },
  {
   "cell_type": "code",
   "execution_count": null,
   "metadata": {},
   "outputs": [],
   "source": []
  },
  {
   "cell_type": "code",
   "execution_count": null,
   "metadata": {},
   "outputs": [],
   "source": [
    "u2 = h_xxz.exp(t*np.sqrt(5))"
   ]
  },
  {
   "cell_type": "code",
   "execution_count": null,
   "metadata": {},
   "outputs": [],
   "source": [
    "print(h_xxz.expectation(ud.conj().T@u2@ud@u2@u_gcr@ vqe_state))"
   ]
  },
  {
   "cell_type": "code",
   "execution_count": null,
   "metadata": {},
   "outputs": [],
   "source": [
    "circ = nqubit_XXZ_decomposition(nqubits=nq,t=t,delta=delta,steps=steps)\n",
    "v = circ.unitary()\n",
    "\n"
   ]
  },
  {
   "cell_type": "code",
   "execution_count": null,
   "metadata": {},
   "outputs": [],
   "source": [
    "u = v@v"
   ]
  },
  {
   "cell_type": "code",
   "execution_count": null,
   "metadata": {},
   "outputs": [],
   "source": [
    "circ = nqubit_XXZ_decomposition(nqubits=nq,t=t * np.sqrt(5),delta=delta,steps=steps)\n",
    "v2 = circ.unitary()"
   ]
  },
  {
   "cell_type": "code",
   "execution_count": null,
   "metadata": {},
   "outputs": [],
   "source": [
    "def try_to_speed_up_GC3( v,v2,d):\n",
    "    return  (\n",
    "    v@ v2.conj().T\n",
    "    @ self.backend.calculate_matrix_exp(-step * (np.sqrt(5) - 1) / 2, d)\n",
    "    @ v\n",
    "    @ self.backend.calculate_matrix_exp(step * (np.sqrt(5) + 1) / 2, d)\n",
    "    @ v.conj().T @  v.conj().T @v.conj().T @ v2.conj().T\n",
    "    @ self.backend.calculate_matrix_exp(-step, d)\n",
    ")\n"
   ]
  },
  {
   "cell_type": "code",
   "execution_count": null,
   "metadata": {},
   "outputs": [],
   "source": [
    "from qibo import symbols, hamiltonians\n",
    "d = hamiltonians.SymbolicHamiltonian( sum([symbols.Z(j) for j in range(nq)])).dense"
   ]
  },
  {
   "cell_type": "code",
   "execution_count": null,
   "metadata": {},
   "outputs": [],
   "source": [
    "from qibo.models.dbi.utils import *\n",
    "\n",
    "pauli_operator_dict = generate_pauli_operator_dict(nq, 1)\n",
    "pauli_operators = list(pauli_operator_dict.values())\n",
    "d_coef_pauli = np.ones(nq)\n",
    "d_coef_pauli = d_coef_pauli + np.random.rand(len(d_coef_pauli))\n",
    "d_pauli = sum([d_coef_pauli[i] * pauli_operators[i] for i in range(len(d_coef_pauli))])\n"
   ]
  },
  {
   "cell_type": "code",
   "execution_count": null,
   "metadata": {},
   "outputs": [],
   "source": [
    "np.linalg.norm(d_pauli - d)"
   ]
  },
  {
   "cell_type": "code",
   "execution_count": null,
   "metadata": {},
   "outputs": [],
   "source": [
    "q = try_to_speed_up_GC3(v,v2,dbi.)"
   ]
  },
  {
   "cell_type": "code",
   "execution_count": null,
   "metadata": {},
   "outputs": [],
   "source": [
    "def expose_gci3(self, step)\n",
    "    return = (\n",
    "    self.h.exp(-step * (np.sqrt(5) - 1) / 2)\n",
    "    @ self.backend.calculate_matrix_exp(-step * (np.sqrt(5) - 1) / 2, d)\n",
    "    @ self.h.exp(step)\n",
    "    @ self.backend.calculate_matrix_exp(step * (np.sqrt(5) + 1) / 2, d)\n",
    "    @ self.h.exp(-step * (3 - np.sqrt(5)) / 2)\n",
    "    @ self.backend.calculate_matrix_exp(-step, d)\n",
    ")\n",
    "\n"
   ]
  },
  {
   "cell_type": "code",
   "execution_count": null,
   "metadata": {},
   "outputs": [],
   "source": [
    "u =expose_gci3(dbi,np.sqrt(t))\n"
   ]
  },
  {
   "cell_type": "code",
   "execution_count": null,
   "metadata": {},
   "outputs": [],
   "source": [
    "\n",
    "dbi = DoubleBracketIteration(\n",
    "    hamiltonian=new_hamiltonian,\n",
    "    mode=DoubleBracketGeneratorType.group_commutator_3,\n",
    ")\n",
    "\n",
    "zero_state_t = np.transpose([zero_state])\n",
    "energy_h0 = float(dbi.h.expectation(np.array(zero_state_t)))\n",
    "fluctuations_h0 = float(dbi.h.energy_fluctuation(zero_state_t))\n"
   ]
  },
  {
   "cell_type": "code",
   "execution_count": null,
   "metadata": {},
   "outputs": [],
   "source": [
    "dbi(0.1)"
   ]
  },
  {
   "cell_type": "code",
   "execution_count": null,
   "metadata": {},
   "outputs": [],
   "source": [
    "d = dbi.diagonal_h_matrix\n",
    "dbi.backend.calculate_matrix_exp(-0.1,d)"
   ]
  },
  {
   "cell_type": "code",
   "execution_count": null,
   "metadata": {},
   "outputs": [],
   "source": [
    "dbi.backend.calculate_matrix_exp(-0.1,dbi.h.matrix)"
   ]
  },
  {
   "cell_type": "code",
   "execution_count": null,
   "metadata": {},
   "outputs": [],
   "source": [
    "new_hamiltonian.exp(0.1)"
   ]
  },
  {
   "cell_type": "code",
   "execution_count": null,
   "metadata": {},
   "outputs": [],
   "source": [
    "print(fluctuations_h0)\n",
    "print(energy_h0)"
   ]
  },
  {
   "cell_type": "code",
   "execution_count": null,
   "metadata": {},
   "outputs": [],
   "source": [
    "dbi.loss(0.01)"
   ]
  },
  {
   "cell_type": "code",
   "execution_count": null,
   "metadata": {},
   "outputs": [],
   "source": [
    "\n",
    "print(\"Applying DBI steps\")\n",
    "\n",
    "print(time.time() - t0)\n",
    "print(\n",
    "    f\"\\nReached accuracy before DBI at iter {target_epoch}: {np.abs(target_energy - ene1)}\"\n",
    ")\n",
    "print(\n",
    "    f\"Reached accuracy after DBI at iter {target_epoch}: {np.abs(target_energy - dbi_energies[-1])}\"\n",
    ")\n",
    "print(\n",
    "    f\"Reached accuracy in the end of VQE long training: {np.abs(target_energy - losses[-1])}\"\n",
    ")\n"
   ]
  },
  {
   "cell_type": "code",
   "execution_count": null,
   "metadata": {},
   "outputs": [],
   "source": []
  }
 ],
 "metadata": {
  "kernelspec": {
   "display_name": "Python 3",
   "language": "python",
   "name": "python3"
  },
  "language_info": {
   "codemirror_mode": {
    "name": "ipython",
    "version": 3
   },
   "file_extension": ".py",
   "mimetype": "text/x-python",
   "name": "python",
   "nbconvert_exporter": "python",
   "pygments_lexer": "ipython3",
   "version": "3.12.3"
  }
 },
 "nbformat": 4,
 "nbformat_minor": 2
}
