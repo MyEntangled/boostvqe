{
 "cells": [
  {
   "cell_type": "code",
   "execution_count": 1,
   "metadata": {},
   "outputs": [
    {
     "name": "stderr",
     "output_type": "stream",
     "text": [
      "[Qibo 0.2.9|INFO|2024-06-10 09:36:13]: Using numpy backend on /CPU:0\n",
      "INFO:qibo.config:Using numpy backend on /CPU:0\n",
      "[Qibo 0.2.9|INFO|2024-06-10 09:36:13]: Using numpy backend on /CPU:0\n",
      "INFO:qibo.config:Using numpy backend on /CPU:0\n"
     ]
    },
    {
     "name": "stdout",
     "output_type": "stream",
     "text": [
      "In the VQE numpy\n"
     ]
    }
   ],
   "source": [
    "import json\n",
    "import time\n",
    "from pathlib import Path\n",
    "\n",
    "import numpy as np\n",
    "import qibo\n",
    "from qibo import hamiltonians, set_backend\n",
    "from boostvqe.models.dbi.double_bracket import (\n",
    "    DoubleBracketGeneratorType,\n",
    "    DoubleBracketIteration,\n",
    ")\n",
    "\n",
    "from boostvqe.ansatze import VQE, build_circuit\n",
    "from boostvqe.utils import apply_dbi_steps, rotate_h_with_vqe\n",
    "\n",
    "qibo.set_backend(\"numpy\")\n",
    "\n",
    "# set the path string which define the results\n",
    "path = \"../results/vqe_data/with_params/10q3l/sgd_10q_3l_42/\"\n",
    "\n",
    "# set the target epoch to which apply DBQA and the number of steps\n",
    "target_epoch = 2000\n",
    "dbi_steps = 1\n",
    "\n",
    "# upload system configuration and parameters for all the training\n",
    "with open(path + \"optimization_results.json\") as file:\n",
    "    config = json.load(file)\n",
    "\n",
    "losses = dict(np.load(path + \"energies.npz\"))[\"0\"]\n",
    "params = np.load(path + f\"parameters/params_ite{target_epoch}.npy\")\n",
    "\n",
    "\n",
    "# build circuit, hamiltonian and VQE\n",
    "hamiltonian = hamiltonians.XXZ(nqubits=config[\"nqubits\"], delta=0.5)\n",
    "circuit = build_circuit(config[\"nqubits\"], config[\"nlayers\"], \"numpy\")\n",
    "vqe = VQE(circuit, hamiltonian)\n",
    "zero_state = hamiltonian.backend.zero_state(config[\"nqubits\"])\n",
    "zero_state_t = np.transpose([zero_state])\n",
    "target_energy = np.min(hamiltonian.eigenvalues())\n",
    "\n",
    "\n",
    "# set target parameters into the VQE\n",
    "vqe.circuit.set_parameters(params)\n",
    "vqe_state = vqe.circuit().state()\n",
    "\n",
    "ene1 = hamiltonian.expectation(vqe_state)\n"
   ]
  },
  {
   "cell_type": "code",
   "execution_count": 2,
   "metadata": {},
   "outputs": [],
   "source": [
    "from qibo import symbols, hamiltonians\n",
    "d = hamiltonians.SymbolicHamiltonian( sum([b*symbols.Z(j) for j,b in zip(range(config[\"nqubits\"]),np.linspace(-1,1,config[\"nqubits\"]))]))"
   ]
  },
  {
   "cell_type": "code",
   "execution_count": 3,
   "metadata": {},
   "outputs": [],
   "source": [
    "hamiltonian.delta = 0.5\n",
    "from boostvqe.models.dbi.double_bracket_evolution_oracles import *\n",
    "# quick hack how to use the method function hamiltonians.XXZ to get a simulable oracle\n",
    "eo_xxz = XXZ_EvolutionOracle(hamiltonian,mode_evolution_oracle=EvolutionOracleType.numerical)\n",
    "eo_xxz.mode_evolution_oracle=EvolutionOracleType.hamiltonian_simulation\n",
    "hamiltonian.dense = hamiltonian"
   ]
  },
  {
   "cell_type": "code",
   "execution_count": null,
   "metadata": {},
   "outputs": [],
   "source": []
  },
  {
   "cell_type": "code",
   "execution_count": null,
   "metadata": {},
   "outputs": [],
   "source": [
    "\n"
   ]
  },
  {
   "cell_type": "code",
   "execution_count": 5,
   "metadata": {},
   "outputs": [
    {
     "name": "stderr",
     "output_type": "stream",
     "text": [
      "[Qibo 0.2.9|WARNING|2024-06-10 09:36:53]: Calculating the dense form of a symbolic Hamiltonian. This operation is memory inefficient.\n",
      "WARNING:qibo.config:Calculating the dense form of a symbolic Hamiltonian. This operation is memory inefficient.\n"
     ]
    },
    {
     "ename": "KeyboardInterrupt",
     "evalue": "",
     "output_type": "error",
     "traceback": [
      "\u001b[0;31m---------------------------------------------------------------------------\u001b[0m",
      "\u001b[0;31mKeyboardInterrupt\u001b[0m                         Traceback (most recent call last)",
      "Cell \u001b[0;32mIn[5], line 9\u001b[0m\n\u001b[1;32m      6\u001b[0m eo_xxz\u001b[38;5;241m.\u001b[39mplease_use_prescribed_nmb_ts_steps \u001b[38;5;241m=\u001b[39m \u001b[38;5;241m1\u001b[39m\n\u001b[1;32m      8\u001b[0m gci  \u001b[38;5;241m=\u001b[39m GroupCommutatorIterationWithEvolutionOracles(input_hamiltonian_evolution_oracle\u001b[38;5;241m=\u001b[39meo_xxz)\n\u001b[0;32m----> 9\u001b[0m \u001b[43mgci\u001b[49m\u001b[43m(\u001b[49m\u001b[38;5;241;43m0.01\u001b[39;49m\u001b[43m,\u001b[49m\u001b[43meo_d\u001b[49m\u001b[43m)\u001b[49m\n",
      "File \u001b[0;32m~/Projectes_git/boostvqe/src/boostvqe/models/dbi/group_commutator_iteration_transpiler.py:97\u001b[0m, in \u001b[0;36mGroupCommutatorIterationWithEvolutionOracles.__call__\u001b[0;34m(self, step_duration, diagonal_association, mode_dbr)\u001b[0m\n\u001b[1;32m     91\u001b[0m     raise_error(\n\u001b[1;32m     92\u001b[0m         \u001b[38;5;167;01mValueError\u001b[39;00m,\n\u001b[1;32m     93\u001b[0m         \u001b[38;5;124m\"\u001b[39m\u001b[38;5;124msingle_commutator DBR mode doesn\u001b[39m\u001b[38;5;124m'\u001b[39m\u001b[38;5;124mt make sense with EvolutionOracle\u001b[39m\u001b[38;5;124m\"\u001b[39m,\n\u001b[1;32m     94\u001b[0m     )\n\u001b[1;32m     96\u001b[0m \u001b[38;5;66;03m# This will run the appropriate group commutator step\u001b[39;00m\n\u001b[0;32m---> 97\u001b[0m double_bracket_rotation_step \u001b[38;5;241m=\u001b[39m \u001b[38;5;28;43mself\u001b[39;49m\u001b[38;5;241;43m.\u001b[39;49m\u001b[43mgroup_commutator\u001b[49m\u001b[43m(\u001b[49m\n\u001b[1;32m     98\u001b[0m \u001b[43m    \u001b[49m\u001b[43mstep_duration\u001b[49m\u001b[43m,\u001b[49m\u001b[43m \u001b[49m\u001b[43mdiagonal_association\u001b[49m\u001b[43m,\u001b[49m\u001b[43m \u001b[49m\u001b[43mmode_dbr\u001b[49m\u001b[38;5;241;43m=\u001b[39;49m\u001b[43mmode_dbr\u001b[49m\n\u001b[1;32m     99\u001b[0m \u001b[43m\u001b[49m\u001b[43m)\u001b[49m\n\u001b[1;32m    101\u001b[0m before_circuit \u001b[38;5;241m=\u001b[39m double_bracket_rotation_step[\u001b[38;5;124m\"\u001b[39m\u001b[38;5;124mbackwards\u001b[39m\u001b[38;5;124m\"\u001b[39m]\n\u001b[1;32m    102\u001b[0m after_circuit \u001b[38;5;241m=\u001b[39m double_bracket_rotation_step[\u001b[38;5;124m\"\u001b[39m\u001b[38;5;124mforwards\u001b[39m\u001b[38;5;124m\"\u001b[39m]\n",
      "File \u001b[0;32m~/Projectes_git/boostvqe/src/boostvqe/models/dbi/group_commutator_iteration_transpiler.py:177\u001b[0m, in \u001b[0;36mGroupCommutatorIterationWithEvolutionOracles.group_commutator\u001b[0;34m(self, t_step, eo1, eo2, mode_dbr)\u001b[0m\n\u001b[1;32m    169\u001b[0m     raise_error(\n\u001b[1;32m    170\u001b[0m         \u001b[38;5;167;01mValueError\u001b[39;00m,\n\u001b[1;32m    171\u001b[0m         \u001b[38;5;124m\"\u001b[39m\u001b[38;5;124mYou are trying to get the group commutator query list but your dbr mode is single_commutator and not an approximation by means of a product formula!\u001b[39m\u001b[38;5;124m\"\u001b[39m,\n\u001b[1;32m    172\u001b[0m     )\n\u001b[1;32m    174\u001b[0m \u001b[38;5;28;01mif\u001b[39;00m gc_type \u001b[38;5;129;01mis\u001b[39;00m DoubleBracketRotationType\u001b[38;5;241m.\u001b[39mgroup_commutator:\n\u001b[1;32m    175\u001b[0m     query_list_forward \u001b[38;5;241m=\u001b[39m [\n\u001b[1;32m    176\u001b[0m         eo2\u001b[38;5;241m.\u001b[39mcircuit(\u001b[38;5;241m-\u001b[39ms_step),\n\u001b[0;32m--> 177\u001b[0m         \u001b[43meo1\u001b[49m\u001b[38;5;241;43m.\u001b[39;49m\u001b[43mcircuit\u001b[49m\u001b[43m(\u001b[49m\u001b[43ms_step\u001b[49m\u001b[43m)\u001b[49m,\n\u001b[1;32m    178\u001b[0m         eo2\u001b[38;5;241m.\u001b[39mcircuit(s_step),\n\u001b[1;32m    179\u001b[0m         eo1\u001b[38;5;241m.\u001b[39mcircuit(\u001b[38;5;241m-\u001b[39ms_step),\n\u001b[1;32m    180\u001b[0m     ]\n\u001b[1;32m    181\u001b[0m     query_list_backward \u001b[38;5;241m=\u001b[39m [\n\u001b[1;32m    182\u001b[0m         eo1\u001b[38;5;241m.\u001b[39mcircuit(s_step),\n\u001b[1;32m    183\u001b[0m         eo2\u001b[38;5;241m.\u001b[39mcircuit(\u001b[38;5;241m-\u001b[39ms_step),\n\u001b[1;32m    184\u001b[0m         eo1\u001b[38;5;241m.\u001b[39mcircuit(\u001b[38;5;241m-\u001b[39ms_step),\n\u001b[1;32m    185\u001b[0m         eo2\u001b[38;5;241m.\u001b[39mcircuit(s_step),\n\u001b[1;32m    186\u001b[0m     ]\n\u001b[1;32m    187\u001b[0m \u001b[38;5;28;01melif\u001b[39;00m gc_type \u001b[38;5;129;01mis\u001b[39;00m DoubleBracketRotationType\u001b[38;5;241m.\u001b[39mgroup_commutator_reordered:\n",
      "File \u001b[0;32m~/Projectes_git/qibo/src/qibo/models/dbi/double_bracket_evolution_oracles.py:70\u001b[0m, in \u001b[0;36mEvolutionOracle.circuit\u001b[0;34m(self, t_duration)\u001b[0m\n\u001b[1;32m     68\u001b[0m     \u001b[38;5;28;01mreturn\u001b[39;00m \u001b[38;5;28mself\u001b[39m\u001b[38;5;241m.\u001b[39mh\u001b[38;5;241m.\u001b[39mexp(t_duration)\n\u001b[1;32m     69\u001b[0m \u001b[38;5;28;01melif\u001b[39;00m \u001b[38;5;28mself\u001b[39m\u001b[38;5;241m.\u001b[39mmode_evolution_oracle \u001b[38;5;129;01mis\u001b[39;00m EvolutionOracleType\u001b[38;5;241m.\u001b[39mhamiltonian_simulation:\n\u001b[0;32m---> 70\u001b[0m     \u001b[38;5;28;01mreturn\u001b[39;00m \u001b[38;5;28;43mself\u001b[39;49m\u001b[38;5;241;43m.\u001b[39;49m\u001b[43mdiscretized_evolution_circuit_binary_search\u001b[49m\u001b[43m(\u001b[49m\n\u001b[1;32m     71\u001b[0m \u001b[43m        \u001b[49m\u001b[43mt_duration\u001b[49m\u001b[43m,\u001b[49m\u001b[43m \u001b[49m\u001b[43meps\u001b[49m\u001b[38;5;241;43m=\u001b[39;49m\u001b[38;5;28;43mself\u001b[39;49m\u001b[38;5;241;43m.\u001b[39;49m\u001b[43meps_trottersuzuki\u001b[49m\n\u001b[1;32m     72\u001b[0m \u001b[43m    \u001b[49m\u001b[43m)\u001b[49m\n",
      "File \u001b[0;32m~/Projectes_git/qibo/src/qibo/models/dbi/double_bracket_evolution_oracles.py:79\u001b[0m, in \u001b[0;36mEvolutionOracle.discretized_evolution_circuit_binary_search\u001b[0;34m(self, t_duration, eps)\u001b[0m\n\u001b[1;32m     77\u001b[0m \u001b[38;5;28;01mif\u001b[39;00m eps \u001b[38;5;129;01mis\u001b[39;00m \u001b[38;5;28;01mNone\u001b[39;00m:\n\u001b[1;32m     78\u001b[0m     eps \u001b[38;5;241m=\u001b[39m \u001b[38;5;28mself\u001b[39m\u001b[38;5;241m.\u001b[39meps_trottersuzuki\n\u001b[0;32m---> 79\u001b[0m target_unitary \u001b[38;5;241m=\u001b[39m \u001b[38;5;28;43mself\u001b[39;49m\u001b[38;5;241;43m.\u001b[39;49m\u001b[43mh\u001b[49m\u001b[38;5;241;43m.\u001b[39;49m\u001b[43mexp\u001b[49m\u001b[43m(\u001b[49m\u001b[43mt_duration\u001b[49m\u001b[43m)\u001b[49m\n\u001b[1;32m     81\u001b[0m \u001b[38;5;28;01mfrom\u001b[39;00m \u001b[38;5;21;01mcopy\u001b[39;00m \u001b[38;5;28;01mimport\u001b[39;00m deepcopy\n\u001b[1;32m     83\u001b[0m \u001b[38;5;28;01mdef\u001b[39;00m \u001b[38;5;21mcheck_accuracy\u001b[39m(n_steps):\n",
      "File \u001b[0;32m~/Projectes_git/qibo/src/qibo/hamiltonians/hamiltonians.py:461\u001b[0m, in \u001b[0;36mSymbolicHamiltonian.exp\u001b[0;34m(self, a)\u001b[0m\n\u001b[1;32m    460\u001b[0m \u001b[38;5;28;01mdef\u001b[39;00m \u001b[38;5;21mexp\u001b[39m(\u001b[38;5;28mself\u001b[39m, a):\n\u001b[0;32m--> 461\u001b[0m     \u001b[38;5;28;01mreturn\u001b[39;00m \u001b[38;5;28;43mself\u001b[39;49m\u001b[38;5;241;43m.\u001b[39;49m\u001b[43mdense\u001b[49m\u001b[38;5;241m.\u001b[39mexp(a)\n",
      "File \u001b[0;32m~/Projectes_git/qibo/src/qibo/hamiltonians/hamiltonians.py:376\u001b[0m, in \u001b[0;36mSymbolicHamiltonian.dense\u001b[0;34m(self)\u001b[0m\n\u001b[1;32m    371\u001b[0m \u001b[38;5;28;01mif\u001b[39;00m \u001b[38;5;28mself\u001b[39m\u001b[38;5;241m.\u001b[39m_dense \u001b[38;5;129;01mis\u001b[39;00m \u001b[38;5;28;01mNone\u001b[39;00m:\n\u001b[1;32m    372\u001b[0m     log\u001b[38;5;241m.\u001b[39mwarning(\n\u001b[1;32m    373\u001b[0m         \u001b[38;5;124m\"\u001b[39m\u001b[38;5;124mCalculating the dense form of a symbolic Hamiltonian. \u001b[39m\u001b[38;5;124m\"\u001b[39m\n\u001b[1;32m    374\u001b[0m         \u001b[38;5;124m\"\u001b[39m\u001b[38;5;124mThis operation is memory inefficient.\u001b[39m\u001b[38;5;124m\"\u001b[39m\n\u001b[1;32m    375\u001b[0m     )\n\u001b[0;32m--> 376\u001b[0m     \u001b[38;5;28mself\u001b[39m\u001b[38;5;241m.\u001b[39mdense \u001b[38;5;241m=\u001b[39m \u001b[38;5;28;43mself\u001b[39;49m\u001b[38;5;241;43m.\u001b[39;49m\u001b[43mcalculate_dense\u001b[49m\u001b[43m(\u001b[49m\u001b[43m)\u001b[49m\n\u001b[1;32m    377\u001b[0m \u001b[38;5;28;01mreturn\u001b[39;00m \u001b[38;5;28mself\u001b[39m\u001b[38;5;241m.\u001b[39m_dense\n",
      "File \u001b[0;32m~/Projectes_git/qibo/src/qibo/hamiltonians/hamiltonians.py:569\u001b[0m, in \u001b[0;36mSymbolicHamiltonian.calculate_dense\u001b[0;34m(self)\u001b[0m\n\u001b[1;32m    565\u001b[0m \u001b[38;5;28;01mdef\u001b[39;00m \u001b[38;5;21mcalculate_dense\u001b[39m(\u001b[38;5;28mself\u001b[39m):\n\u001b[1;32m    566\u001b[0m     \u001b[38;5;28;01mif\u001b[39;00m \u001b[38;5;28mself\u001b[39m\u001b[38;5;241m.\u001b[39m_terms \u001b[38;5;129;01mis\u001b[39;00m \u001b[38;5;28;01mNone\u001b[39;00m:\n\u001b[1;32m    567\u001b[0m         \u001b[38;5;66;03m# calculate dense matrix directly using the form to avoid the\u001b[39;00m\n\u001b[1;32m    568\u001b[0m         \u001b[38;5;66;03m# costly ``sympy.expand`` call\u001b[39;00m\n\u001b[0;32m--> 569\u001b[0m         \u001b[38;5;28;01mreturn\u001b[39;00m \u001b[38;5;28;43mself\u001b[39;49m\u001b[38;5;241;43m.\u001b[39;49m\u001b[43m_calculate_dense_from_form\u001b[49m\u001b[43m(\u001b[49m\u001b[43m)\u001b[49m\n\u001b[1;32m    570\u001b[0m     \u001b[38;5;28;01mreturn\u001b[39;00m \u001b[38;5;28mself\u001b[39m\u001b[38;5;241m.\u001b[39m_calculate_dense_from_terms()\n",
      "File \u001b[0;32m~/Projectes_git/qibo/src/qibo/hamiltonians/hamiltonians.py:540\u001b[0m, in \u001b[0;36mSymbolicHamiltonian._calculate_dense_from_form\u001b[0;34m(self)\u001b[0m\n\u001b[1;32m    536\u001b[0m \u001b[38;5;28;01mdef\u001b[39;00m \u001b[38;5;21m_calculate_dense_from_form\u001b[39m(\u001b[38;5;28mself\u001b[39m):\n\u001b[1;32m    537\u001b[0m \u001b[38;5;250m    \u001b[39m\u001b[38;5;124;03m\"\"\"Calculates equivalent :class:`qibo.core.hamiltonians.Hamiltonian` using symbolic form.\u001b[39;00m\n\u001b[1;32m    538\u001b[0m \u001b[38;5;124;03m    Useful when the term representation is not available.\u001b[39;00m\n\u001b[1;32m    539\u001b[0m \u001b[38;5;124;03m    \"\"\"\u001b[39;00m\n\u001b[0;32m--> 540\u001b[0m     matrix \u001b[38;5;241m=\u001b[39m \u001b[38;5;28;43mself\u001b[39;49m\u001b[38;5;241;43m.\u001b[39;49m\u001b[43m_get_symbol_matrix\u001b[49m\u001b[43m(\u001b[49m\u001b[38;5;28;43mself\u001b[39;49m\u001b[38;5;241;43m.\u001b[39;49m\u001b[43mform\u001b[49m\u001b[43m)\u001b[49m\n\u001b[1;32m    541\u001b[0m     \u001b[38;5;28;01mreturn\u001b[39;00m Hamiltonian(\u001b[38;5;28mself\u001b[39m\u001b[38;5;241m.\u001b[39mnqubits, matrix, backend\u001b[38;5;241m=\u001b[39m\u001b[38;5;28mself\u001b[39m\u001b[38;5;241m.\u001b[39mbackend)\n",
      "File \u001b[0;32m~/Projectes_git/qibo/src/qibo/hamiltonians/hamiltonians.py:482\u001b[0m, in \u001b[0;36mSymbolicHamiltonian._get_symbol_matrix\u001b[0;34m(self, term)\u001b[0m\n\u001b[1;32m    464\u001b[0m \u001b[38;5;250m\u001b[39m\u001b[38;5;124;03m\"\"\"Calculates numerical matrix corresponding to symbolic expression.\u001b[39;00m\n\u001b[1;32m    465\u001b[0m \n\u001b[1;32m    466\u001b[0m \u001b[38;5;124;03mThis is partly equivalent to sympy's ``.subs``, which does not work\u001b[39;00m\n\u001b[0;32m   (...)\u001b[0m\n\u001b[1;32m    478\u001b[0m \u001b[38;5;124;03m    array of size ``(2 ** self.nqubits, 2 ** self.nqubits).\u001b[39;00m\n\u001b[1;32m    479\u001b[0m \u001b[38;5;124;03m\"\"\"\u001b[39;00m\n\u001b[1;32m    480\u001b[0m \u001b[38;5;28;01mif\u001b[39;00m \u001b[38;5;28misinstance\u001b[39m(term, sympy\u001b[38;5;241m.\u001b[39mAdd):\n\u001b[1;32m    481\u001b[0m     \u001b[38;5;66;03m# symbolic op for addition\u001b[39;00m\n\u001b[0;32m--> 482\u001b[0m     result \u001b[38;5;241m=\u001b[39m \u001b[38;5;28;43msum\u001b[39;49m\u001b[43m(\u001b[49m\n\u001b[1;32m    483\u001b[0m \u001b[43m        \u001b[49m\u001b[38;5;28;43mself\u001b[39;49m\u001b[38;5;241;43m.\u001b[39;49m\u001b[43m_get_symbol_matrix\u001b[49m\u001b[43m(\u001b[49m\u001b[43msubterm\u001b[49m\u001b[43m)\u001b[49m\u001b[43m \u001b[49m\u001b[38;5;28;43;01mfor\u001b[39;49;00m\u001b[43m \u001b[49m\u001b[43msubterm\u001b[49m\u001b[43m \u001b[49m\u001b[38;5;129;43;01min\u001b[39;49;00m\u001b[43m \u001b[49m\u001b[43mterm\u001b[49m\u001b[38;5;241;43m.\u001b[39;49m\u001b[43mas_ordered_terms\u001b[49m\u001b[43m(\u001b[49m\u001b[43m)\u001b[49m\n\u001b[1;32m    484\u001b[0m \u001b[43m    \u001b[49m\u001b[43m)\u001b[49m\n\u001b[1;32m    486\u001b[0m \u001b[38;5;28;01melif\u001b[39;00m \u001b[38;5;28misinstance\u001b[39m(term, sympy\u001b[38;5;241m.\u001b[39mMul):\n\u001b[1;32m    487\u001b[0m     \u001b[38;5;66;03m# symbolic op for multiplication\u001b[39;00m\n\u001b[1;32m    488\u001b[0m     \u001b[38;5;66;03m# note that we need to use matrix multiplication even though\u001b[39;00m\n\u001b[1;32m    489\u001b[0m     \u001b[38;5;66;03m# we use scalar symbols for convenience\u001b[39;00m\n\u001b[1;32m    490\u001b[0m     factors \u001b[38;5;241m=\u001b[39m term\u001b[38;5;241m.\u001b[39mas_ordered_factors()\n",
      "File \u001b[0;32m~/Projectes_git/qibo/src/qibo/hamiltonians/hamiltonians.py:483\u001b[0m, in \u001b[0;36m<genexpr>\u001b[0;34m(.0)\u001b[0m\n\u001b[1;32m    464\u001b[0m \u001b[38;5;250m\u001b[39m\u001b[38;5;124;03m\"\"\"Calculates numerical matrix corresponding to symbolic expression.\u001b[39;00m\n\u001b[1;32m    465\u001b[0m \n\u001b[1;32m    466\u001b[0m \u001b[38;5;124;03mThis is partly equivalent to sympy's ``.subs``, which does not work\u001b[39;00m\n\u001b[0;32m   (...)\u001b[0m\n\u001b[1;32m    478\u001b[0m \u001b[38;5;124;03m    array of size ``(2 ** self.nqubits, 2 ** self.nqubits).\u001b[39;00m\n\u001b[1;32m    479\u001b[0m \u001b[38;5;124;03m\"\"\"\u001b[39;00m\n\u001b[1;32m    480\u001b[0m \u001b[38;5;28;01mif\u001b[39;00m \u001b[38;5;28misinstance\u001b[39m(term, sympy\u001b[38;5;241m.\u001b[39mAdd):\n\u001b[1;32m    481\u001b[0m     \u001b[38;5;66;03m# symbolic op for addition\u001b[39;00m\n\u001b[1;32m    482\u001b[0m     result \u001b[38;5;241m=\u001b[39m \u001b[38;5;28msum\u001b[39m(\n\u001b[0;32m--> 483\u001b[0m         \u001b[38;5;28;43mself\u001b[39;49m\u001b[38;5;241;43m.\u001b[39;49m\u001b[43m_get_symbol_matrix\u001b[49m\u001b[43m(\u001b[49m\u001b[43msubterm\u001b[49m\u001b[43m)\u001b[49m \u001b[38;5;28;01mfor\u001b[39;00m subterm \u001b[38;5;129;01min\u001b[39;00m term\u001b[38;5;241m.\u001b[39mas_ordered_terms()\n\u001b[1;32m    484\u001b[0m     )\n\u001b[1;32m    486\u001b[0m \u001b[38;5;28;01melif\u001b[39;00m \u001b[38;5;28misinstance\u001b[39m(term, sympy\u001b[38;5;241m.\u001b[39mMul):\n\u001b[1;32m    487\u001b[0m     \u001b[38;5;66;03m# symbolic op for multiplication\u001b[39;00m\n\u001b[1;32m    488\u001b[0m     \u001b[38;5;66;03m# note that we need to use matrix multiplication even though\u001b[39;00m\n\u001b[1;32m    489\u001b[0m     \u001b[38;5;66;03m# we use scalar symbols for convenience\u001b[39;00m\n\u001b[1;32m    490\u001b[0m     factors \u001b[38;5;241m=\u001b[39m term\u001b[38;5;241m.\u001b[39mas_ordered_factors()\n",
      "File \u001b[0;32m~/Projectes_git/qibo/src/qibo/hamiltonians/hamiltonians.py:493\u001b[0m, in \u001b[0;36mSymbolicHamiltonian._get_symbol_matrix\u001b[0;34m(self, term)\u001b[0m\n\u001b[1;32m    491\u001b[0m     result \u001b[38;5;241m=\u001b[39m \u001b[38;5;28mself\u001b[39m\u001b[38;5;241m.\u001b[39m_get_symbol_matrix(factors[\u001b[38;5;241m0\u001b[39m])\n\u001b[1;32m    492\u001b[0m     \u001b[38;5;28;01mfor\u001b[39;00m subterm \u001b[38;5;129;01min\u001b[39;00m factors[\u001b[38;5;241m1\u001b[39m:]:\n\u001b[0;32m--> 493\u001b[0m         result \u001b[38;5;241m=\u001b[39m result \u001b[38;5;241m@\u001b[39m \u001b[38;5;28mself\u001b[39m\u001b[38;5;241m.\u001b[39m_get_symbol_matrix(subterm)\n\u001b[1;32m    495\u001b[0m \u001b[38;5;28;01melif\u001b[39;00m \u001b[38;5;28misinstance\u001b[39m(term, sympy\u001b[38;5;241m.\u001b[39mPow):\n\u001b[1;32m    496\u001b[0m     \u001b[38;5;66;03m# symbolic op for power\u001b[39;00m\n\u001b[1;32m    497\u001b[0m     base, exponent \u001b[38;5;241m=\u001b[39m term\u001b[38;5;241m.\u001b[39mas_base_exp()\n",
      "\u001b[0;31mKeyboardInterrupt\u001b[0m: "
     ]
    }
   ],
   "source": [
    "# prescribe nmb of steps\n",
    "\n",
    "from boostvqe.models.dbi.group_commutator_iteration_transpiler import *\n",
    "eo_d = EvolutionOracle(d,mode_evolution_oracle=EvolutionOracleType.hamiltonian_simulation,name = \"D(linear)\")\n",
    "eo_d.please_use_prescribed_nmb_ts_steps = 1\n",
    "eo_xxz.please_use_prescribed_nmb_ts_steps = 1\n",
    "\n",
    "gci  = GroupCommutatorIterationWithEvolutionOracles(input_hamiltonian_evolution_oracle=eo_xxz)\n",
    "gci(0.01,eo_d)"
   ]
  },
  {
   "cell_type": "code",
   "execution_count": null,
   "metadata": {},
   "outputs": [
    {
     "name": "stdout",
     "output_type": "stream",
     "text": [
      "-14.560174594055578\n"
     ]
    }
   ],
   "source": [
    "print(h_vqe_ham.expectation(zero_state_t))"
   ]
  },
  {
   "cell_type": "code",
   "execution_count": null,
   "metadata": {},
   "outputs": [],
   "source": []
  },
  {
   "cell_type": "code",
   "execution_count": null,
   "metadata": {},
   "outputs": [],
   "source": [
    "def a():\n",
    "    print(\"1\")"
   ]
  },
  {
   "cell_type": "code",
   "execution_count": null,
   "metadata": {},
   "outputs": [],
   "source": [
    "d.a = a"
   ]
  },
  {
   "cell_type": "code",
   "execution_count": null,
   "metadata": {},
   "outputs": [
    {
     "name": "stdout",
     "output_type": "stream",
     "text": [
      "1\n"
     ]
    }
   ],
   "source": [
    "d.a()"
   ]
  },
  {
   "cell_type": "code",
   "execution_count": null,
   "metadata": {},
   "outputs": [
    {
     "name": "stdout",
     "output_type": "stream",
     "text": [
      "-15.276131122065795\n",
      "-14.560174594055583\n"
     ]
    }
   ],
   "source": [
    "print(target_energy)\n",
    "print(ene1)"
   ]
  },
  {
   "cell_type": "code",
   "execution_count": null,
   "metadata": {},
   "outputs": [
    {
     "name": "stderr",
     "output_type": "stream",
     "text": [
      "[Qibo 0.2.9|WARNING|2024-06-07 09:58:30]: Calculating the dense form of a symbolic Hamiltonian. This operation is memory inefficient.\n",
      "WARNING:qibo.config:Calculating the dense form of a symbolic Hamiltonian. This operation is memory inefficient.\n"
     ]
    },
    {
     "ename": "KeyboardInterrupt",
     "evalue": "",
     "output_type": "error",
     "traceback": [
      "\u001b[0;31m---------------------------------------------------------------------------\u001b[0m",
      "\u001b[0;31mKeyboardInterrupt\u001b[0m                         Traceback (most recent call last)",
      "Cell \u001b[0;32mIn[7], line 1\u001b[0m\n\u001b[0;32m----> 1\u001b[0m dm \u001b[38;5;241m=\u001b[39m \u001b[43md\u001b[49m\u001b[38;5;241;43m.\u001b[39;49m\u001b[43mdense\u001b[49m\u001b[38;5;241m.\u001b[39mmatrix\n",
      "File \u001b[0;32m~/Projectes_git/qibo/src/qibo/hamiltonians/hamiltonians.py:376\u001b[0m, in \u001b[0;36mSymbolicHamiltonian.dense\u001b[0;34m(self)\u001b[0m\n\u001b[1;32m    371\u001b[0m \u001b[38;5;28;01mif\u001b[39;00m \u001b[38;5;28mself\u001b[39m\u001b[38;5;241m.\u001b[39m_dense \u001b[38;5;129;01mis\u001b[39;00m \u001b[38;5;28;01mNone\u001b[39;00m:\n\u001b[1;32m    372\u001b[0m     log\u001b[38;5;241m.\u001b[39mwarning(\n\u001b[1;32m    373\u001b[0m         \u001b[38;5;124m\"\u001b[39m\u001b[38;5;124mCalculating the dense form of a symbolic Hamiltonian. \u001b[39m\u001b[38;5;124m\"\u001b[39m\n\u001b[1;32m    374\u001b[0m         \u001b[38;5;124m\"\u001b[39m\u001b[38;5;124mThis operation is memory inefficient.\u001b[39m\u001b[38;5;124m\"\u001b[39m\n\u001b[1;32m    375\u001b[0m     )\n\u001b[0;32m--> 376\u001b[0m     \u001b[38;5;28mself\u001b[39m\u001b[38;5;241m.\u001b[39mdense \u001b[38;5;241m=\u001b[39m \u001b[38;5;28;43mself\u001b[39;49m\u001b[38;5;241;43m.\u001b[39;49m\u001b[43mcalculate_dense\u001b[49m\u001b[43m(\u001b[49m\u001b[43m)\u001b[49m\n\u001b[1;32m    377\u001b[0m \u001b[38;5;28;01mreturn\u001b[39;00m \u001b[38;5;28mself\u001b[39m\u001b[38;5;241m.\u001b[39m_dense\n",
      "File \u001b[0;32m~/Projectes_git/qibo/src/qibo/hamiltonians/hamiltonians.py:569\u001b[0m, in \u001b[0;36mSymbolicHamiltonian.calculate_dense\u001b[0;34m(self)\u001b[0m\n\u001b[1;32m    565\u001b[0m \u001b[38;5;28;01mdef\u001b[39;00m \u001b[38;5;21mcalculate_dense\u001b[39m(\u001b[38;5;28mself\u001b[39m):\n\u001b[1;32m    566\u001b[0m     \u001b[38;5;28;01mif\u001b[39;00m \u001b[38;5;28mself\u001b[39m\u001b[38;5;241m.\u001b[39m_terms \u001b[38;5;129;01mis\u001b[39;00m \u001b[38;5;28;01mNone\u001b[39;00m:\n\u001b[1;32m    567\u001b[0m         \u001b[38;5;66;03m# calculate dense matrix directly using the form to avoid the\u001b[39;00m\n\u001b[1;32m    568\u001b[0m         \u001b[38;5;66;03m# costly ``sympy.expand`` call\u001b[39;00m\n\u001b[0;32m--> 569\u001b[0m         \u001b[38;5;28;01mreturn\u001b[39;00m \u001b[38;5;28;43mself\u001b[39;49m\u001b[38;5;241;43m.\u001b[39;49m\u001b[43m_calculate_dense_from_form\u001b[49m\u001b[43m(\u001b[49m\u001b[43m)\u001b[49m\n\u001b[1;32m    570\u001b[0m     \u001b[38;5;28;01mreturn\u001b[39;00m \u001b[38;5;28mself\u001b[39m\u001b[38;5;241m.\u001b[39m_calculate_dense_from_terms()\n",
      "File \u001b[0;32m~/Projectes_git/qibo/src/qibo/hamiltonians/hamiltonians.py:540\u001b[0m, in \u001b[0;36mSymbolicHamiltonian._calculate_dense_from_form\u001b[0;34m(self)\u001b[0m\n\u001b[1;32m    536\u001b[0m \u001b[38;5;28;01mdef\u001b[39;00m \u001b[38;5;21m_calculate_dense_from_form\u001b[39m(\u001b[38;5;28mself\u001b[39m):\n\u001b[1;32m    537\u001b[0m \u001b[38;5;250m    \u001b[39m\u001b[38;5;124;03m\"\"\"Calculates equivalent :class:`qibo.core.hamiltonians.Hamiltonian` using symbolic form.\u001b[39;00m\n\u001b[1;32m    538\u001b[0m \u001b[38;5;124;03m    Useful when the term representation is not available.\u001b[39;00m\n\u001b[1;32m    539\u001b[0m \u001b[38;5;124;03m    \"\"\"\u001b[39;00m\n\u001b[0;32m--> 540\u001b[0m     matrix \u001b[38;5;241m=\u001b[39m \u001b[38;5;28;43mself\u001b[39;49m\u001b[38;5;241;43m.\u001b[39;49m\u001b[43m_get_symbol_matrix\u001b[49m\u001b[43m(\u001b[49m\u001b[38;5;28;43mself\u001b[39;49m\u001b[38;5;241;43m.\u001b[39;49m\u001b[43mform\u001b[49m\u001b[43m)\u001b[49m\n\u001b[1;32m    541\u001b[0m     \u001b[38;5;28;01mreturn\u001b[39;00m Hamiltonian(\u001b[38;5;28mself\u001b[39m\u001b[38;5;241m.\u001b[39mnqubits, matrix, backend\u001b[38;5;241m=\u001b[39m\u001b[38;5;28mself\u001b[39m\u001b[38;5;241m.\u001b[39mbackend)\n",
      "File \u001b[0;32m~/Projectes_git/qibo/src/qibo/hamiltonians/hamiltonians.py:482\u001b[0m, in \u001b[0;36mSymbolicHamiltonian._get_symbol_matrix\u001b[0;34m(self, term)\u001b[0m\n\u001b[1;32m    464\u001b[0m \u001b[38;5;250m\u001b[39m\u001b[38;5;124;03m\"\"\"Calculates numerical matrix corresponding to symbolic expression.\u001b[39;00m\n\u001b[1;32m    465\u001b[0m \n\u001b[1;32m    466\u001b[0m \u001b[38;5;124;03mThis is partly equivalent to sympy's ``.subs``, which does not work\u001b[39;00m\n\u001b[0;32m   (...)\u001b[0m\n\u001b[1;32m    478\u001b[0m \u001b[38;5;124;03m    array of size ``(2 ** self.nqubits, 2 ** self.nqubits).\u001b[39;00m\n\u001b[1;32m    479\u001b[0m \u001b[38;5;124;03m\"\"\"\u001b[39;00m\n\u001b[1;32m    480\u001b[0m \u001b[38;5;28;01mif\u001b[39;00m \u001b[38;5;28misinstance\u001b[39m(term, sympy\u001b[38;5;241m.\u001b[39mAdd):\n\u001b[1;32m    481\u001b[0m     \u001b[38;5;66;03m# symbolic op for addition\u001b[39;00m\n\u001b[0;32m--> 482\u001b[0m     result \u001b[38;5;241m=\u001b[39m \u001b[38;5;28;43msum\u001b[39;49m\u001b[43m(\u001b[49m\n\u001b[1;32m    483\u001b[0m \u001b[43m        \u001b[49m\u001b[38;5;28;43mself\u001b[39;49m\u001b[38;5;241;43m.\u001b[39;49m\u001b[43m_get_symbol_matrix\u001b[49m\u001b[43m(\u001b[49m\u001b[43msubterm\u001b[49m\u001b[43m)\u001b[49m\u001b[43m \u001b[49m\u001b[38;5;28;43;01mfor\u001b[39;49;00m\u001b[43m \u001b[49m\u001b[43msubterm\u001b[49m\u001b[43m \u001b[49m\u001b[38;5;129;43;01min\u001b[39;49;00m\u001b[43m \u001b[49m\u001b[43mterm\u001b[49m\u001b[38;5;241;43m.\u001b[39;49m\u001b[43mas_ordered_terms\u001b[49m\u001b[43m(\u001b[49m\u001b[43m)\u001b[49m\n\u001b[1;32m    484\u001b[0m \u001b[43m    \u001b[49m\u001b[43m)\u001b[49m\n\u001b[1;32m    486\u001b[0m \u001b[38;5;28;01melif\u001b[39;00m \u001b[38;5;28misinstance\u001b[39m(term, sympy\u001b[38;5;241m.\u001b[39mMul):\n\u001b[1;32m    487\u001b[0m     \u001b[38;5;66;03m# symbolic op for multiplication\u001b[39;00m\n\u001b[1;32m    488\u001b[0m     \u001b[38;5;66;03m# note that we need to use matrix multiplication even though\u001b[39;00m\n\u001b[1;32m    489\u001b[0m     \u001b[38;5;66;03m# we use scalar symbols for convenience\u001b[39;00m\n\u001b[1;32m    490\u001b[0m     factors \u001b[38;5;241m=\u001b[39m term\u001b[38;5;241m.\u001b[39mas_ordered_factors()\n",
      "File \u001b[0;32m~/Projectes_git/qibo/src/qibo/hamiltonians/hamiltonians.py:483\u001b[0m, in \u001b[0;36m<genexpr>\u001b[0;34m(.0)\u001b[0m\n\u001b[1;32m    464\u001b[0m \u001b[38;5;250m\u001b[39m\u001b[38;5;124;03m\"\"\"Calculates numerical matrix corresponding to symbolic expression.\u001b[39;00m\n\u001b[1;32m    465\u001b[0m \n\u001b[1;32m    466\u001b[0m \u001b[38;5;124;03mThis is partly equivalent to sympy's ``.subs``, which does not work\u001b[39;00m\n\u001b[0;32m   (...)\u001b[0m\n\u001b[1;32m    478\u001b[0m \u001b[38;5;124;03m    array of size ``(2 ** self.nqubits, 2 ** self.nqubits).\u001b[39;00m\n\u001b[1;32m    479\u001b[0m \u001b[38;5;124;03m\"\"\"\u001b[39;00m\n\u001b[1;32m    480\u001b[0m \u001b[38;5;28;01mif\u001b[39;00m \u001b[38;5;28misinstance\u001b[39m(term, sympy\u001b[38;5;241m.\u001b[39mAdd):\n\u001b[1;32m    481\u001b[0m     \u001b[38;5;66;03m# symbolic op for addition\u001b[39;00m\n\u001b[1;32m    482\u001b[0m     result \u001b[38;5;241m=\u001b[39m \u001b[38;5;28msum\u001b[39m(\n\u001b[0;32m--> 483\u001b[0m         \u001b[38;5;28;43mself\u001b[39;49m\u001b[38;5;241;43m.\u001b[39;49m\u001b[43m_get_symbol_matrix\u001b[49m\u001b[43m(\u001b[49m\u001b[43msubterm\u001b[49m\u001b[43m)\u001b[49m \u001b[38;5;28;01mfor\u001b[39;00m subterm \u001b[38;5;129;01min\u001b[39;00m term\u001b[38;5;241m.\u001b[39mas_ordered_terms()\n\u001b[1;32m    484\u001b[0m     )\n\u001b[1;32m    486\u001b[0m \u001b[38;5;28;01melif\u001b[39;00m \u001b[38;5;28misinstance\u001b[39m(term, sympy\u001b[38;5;241m.\u001b[39mMul):\n\u001b[1;32m    487\u001b[0m     \u001b[38;5;66;03m# symbolic op for multiplication\u001b[39;00m\n\u001b[1;32m    488\u001b[0m     \u001b[38;5;66;03m# note that we need to use matrix multiplication even though\u001b[39;00m\n\u001b[1;32m    489\u001b[0m     \u001b[38;5;66;03m# we use scalar symbols for convenience\u001b[39;00m\n\u001b[1;32m    490\u001b[0m     factors \u001b[38;5;241m=\u001b[39m term\u001b[38;5;241m.\u001b[39mas_ordered_factors()\n",
      "File \u001b[0;32m~/Projectes_git/qibo/src/qibo/hamiltonians/hamiltonians.py:493\u001b[0m, in \u001b[0;36mSymbolicHamiltonian._get_symbol_matrix\u001b[0;34m(self, term)\u001b[0m\n\u001b[1;32m    491\u001b[0m     result \u001b[38;5;241m=\u001b[39m \u001b[38;5;28mself\u001b[39m\u001b[38;5;241m.\u001b[39m_get_symbol_matrix(factors[\u001b[38;5;241m0\u001b[39m])\n\u001b[1;32m    492\u001b[0m     \u001b[38;5;28;01mfor\u001b[39;00m subterm \u001b[38;5;129;01min\u001b[39;00m factors[\u001b[38;5;241m1\u001b[39m:]:\n\u001b[0;32m--> 493\u001b[0m         result \u001b[38;5;241m=\u001b[39m result \u001b[38;5;241m@\u001b[39m \u001b[38;5;28mself\u001b[39m\u001b[38;5;241m.\u001b[39m_get_symbol_matrix(subterm)\n\u001b[1;32m    495\u001b[0m \u001b[38;5;28;01melif\u001b[39;00m \u001b[38;5;28misinstance\u001b[39m(term, sympy\u001b[38;5;241m.\u001b[39mPow):\n\u001b[1;32m    496\u001b[0m     \u001b[38;5;66;03m# symbolic op for power\u001b[39;00m\n\u001b[1;32m    497\u001b[0m     base, exponent \u001b[38;5;241m=\u001b[39m term\u001b[38;5;241m.\u001b[39mas_base_exp()\n",
      "\u001b[0;31mKeyboardInterrupt\u001b[0m: "
     ]
    }
   ],
   "source": [
    "dm = d.dense.matrix"
   ]
  },
  {
   "cell_type": "code",
   "execution_count": null,
   "metadata": {},
   "outputs": [],
   "source": [
    "from copy import deepcopy\n",
    "dbi = DoubleBracketIteration(\n",
    "    hamiltonian=deepcopy(h_vqe_ham),\n",
    "    mode=DoubleBracketGeneratorType.single_commutator,\n",
    ")\n"
   ]
  },
  {
   "cell_type": "code",
   "execution_count": null,
   "metadata": {},
   "outputs": [
    {
     "data": {
      "text/plain": [
       "-14.560174594055578"
      ]
     },
     "execution_count": 25,
     "metadata": {},
     "output_type": "execute_result"
    }
   ],
   "source": [
    "dbi.h.expectation(zero_state_t)"
   ]
  },
  {
   "cell_type": "code",
   "execution_count": null,
   "metadata": {},
   "outputs": [
    {
     "ename": "NameError",
     "evalue": "name 'dbi' is not defined",
     "output_type": "error",
     "traceback": [
      "\u001b[0;31m---------------------------------------------------------------------------\u001b[0m",
      "\u001b[0;31mNameError\u001b[0m                                 Traceback (most recent call last)",
      "Cell \u001b[0;32mIn[2], line 1\u001b[0m\n\u001b[0;32m----> 1\u001b[0m \u001b[43mdbi\u001b[49m\u001b[38;5;241m.\u001b[39mh\u001b[38;5;241m.\u001b[39mnqubits\n",
      "\u001b[0;31mNameError\u001b[0m: name 'dbi' is not defined"
     ]
    }
   ],
   "source": [
    "dbi.h.nqubits"
   ]
  },
  {
   "cell_type": "code",
   "execution_count": null,
   "metadata": {},
   "outputs": [
    {
     "name": "stdout",
     "output_type": "stream",
     "text": [
      "-14.782805005074469\n"
     ]
    }
   ],
   "source": [
    "\n",
    "for t in [0.01]:\n",
    "    dbi(t)\n",
    "    print(dbi.h.expectation(zero_state_t))\n",
    "    dbi.h = deepcopy(h_vqe_ham)"
   ]
  },
  {
   "cell_type": "code",
   "execution_count": null,
   "metadata": {},
   "outputs": [],
   "source": [
    "def u_gcr(h,d,t):\n",
    "    ud =  d.exp(t)\n",
    "    u = h.exp(t)\n",
    "    return     ud.conj().T @ u @ud\n"
   ]
  },
  {
   "cell_type": "code",
   "execution_count": null,
   "metadata": {},
   "outputs": [
    {
     "data": {
      "text/plain": [
       "-1.4827471249442334"
      ]
     },
     "execution_count": 32,
     "metadata": {},
     "output_type": "execute_result"
    }
   ],
   "source": [
    "h_vqe_ham.expectation(u_gcr(h_vqe_ham,d,np.sqrt(0.01))@zero_state_t)"
   ]
  },
  {
   "cell_type": "code",
   "execution_count": null,
   "metadata": {},
   "outputs": [],
   "source": [
    "h_vqe_ham.expectation(u_gcr(h_vqe_ham,d,np.sqrt(0.01))@zero_state_t)"
   ]
  },
  {
   "cell_type": "code",
   "execution_count": null,
   "metadata": {},
   "outputs": [],
   "source": [
    "\n",
    "# DBQA stuff\n",
    "t0 = time.time()\n",
    "print(\"Rotating with VQE\")\n",
    "new_hamiltonian_matrix = rotate_h_with_vqe(hamiltonian=hamiltonian, vqe=vqe)\n",
    "new_hamiltonian = hamiltonians.Hamiltonian(\n",
    "    config[\"nqubits\"], matrix=new_hamiltonian_matrix\n",
    ")\n",
    "print(time.time() - t0)\n"
   ]
  },
  {
   "cell_type": "code",
   "execution_count": null,
   "metadata": {},
   "outputs": [],
   "source": [
    "t = 0.01\n",
    "s = np.sqrt(t)"
   ]
  },
  {
   "cell_type": "code",
   "execution_count": null,
   "metadata": {},
   "outputs": [
    {
     "data": {
      "text/plain": [
       "-15.276131122065795"
      ]
     },
     "execution_count": 33,
     "metadata": {},
     "output_type": "execute_result"
    }
   ],
   "source": [
    "target_energy"
   ]
  },
  {
   "cell_type": "code",
   "execution_count": null,
   "metadata": {},
   "outputs": [],
   "source": [
    "ene1"
   ]
  },
  {
   "cell_type": "code",
   "execution_count": null,
   "metadata": {},
   "outputs": [],
   "source": [
    "from qibo import hamiltonians\n",
    "import numpy as np\n",
    "from boostvqe.compiling_XXZ import *\n",
    "\n",
    "steps = 1\n",
    "delta=0.5\n",
    "\n",
    "\n",
    "h_xxz = hamiltonians.XXZ(nqubits=config[\"nqubits\"], delta = delta)\n",
    "u = h_xxz.exp(t)\n"
   ]
  },
  {
   "cell_type": "code",
   "execution_count": null,
   "metadata": {},
   "outputs": [],
   "source": [
    "from qibo import symbols, hamiltonians\n",
    "d = hamiltonians.SymbolicHamiltonian( sum([symbols.Z(j) for j in range(config[\"nqubits\"])]))\n",
    "circ_d = d.circuit(s)\n",
    "ud = circ_d.unitary()"
   ]
  },
  {
   "cell_type": "code",
   "execution_count": null,
   "metadata": {},
   "outputs": [],
   "source": [
    "from qibo import symbols, hamiltonians\n",
    "dtest = hamiltonians.SymbolicHamiltonian( sum([symbols.Z(j) for j in range(config[\"nqubits\"])])).dense\n",
    "ud =  dtest.exp(-0.1)"
   ]
  },
  {
   "cell_type": "code",
   "execution_count": null,
   "metadata": {},
   "outputs": [],
   "source": []
  },
  {
   "cell_type": "code",
   "execution_count": null,
   "metadata": {},
   "outputs": [],
   "source": []
  },
  {
   "cell_type": "code",
   "execution_count": null,
   "metadata": {},
   "outputs": [],
   "source": [
    "u2 = h_xxz.exp(t*np.sqrt(5))"
   ]
  },
  {
   "cell_type": "code",
   "execution_count": null,
   "metadata": {},
   "outputs": [],
   "source": [
    "print(h_xxz.expectation(ud.conj().T@u2@ud@u2@u_gcr@ vqe_state))"
   ]
  },
  {
   "cell_type": "code",
   "execution_count": null,
   "metadata": {},
   "outputs": [],
   "source": [
    "circ = nqubit_XXZ_decomposition(nqubits=config[\"nqubits\"],t=t,delta=delta,steps=steps)\n",
    "v = circ.unitary()\n",
    "\n"
   ]
  },
  {
   "cell_type": "code",
   "execution_count": null,
   "metadata": {},
   "outputs": [],
   "source": [
    "u = v@v"
   ]
  },
  {
   "cell_type": "code",
   "execution_count": null,
   "metadata": {},
   "outputs": [],
   "source": [
    "circ = nqubit_XXZ_decomposition(nqubits=config[\"nqubits\"],t=t * np.sqrt(5),delta=delta,steps=steps)\n",
    "v2 = circ.unitary()"
   ]
  },
  {
   "cell_type": "code",
   "execution_count": null,
   "metadata": {},
   "outputs": [],
   "source": [
    "def try_to_speed_up_GC3( v,v2,d):\n",
    "    return  (\n",
    "    v@ v2.conj().T\n",
    "    @ self.backend.calculate_matrix_exp(-step * (np.sqrt(5) - 1) / 2, d)\n",
    "    @ v\n",
    "    @ self.backend.calculate_matrix_exp(step * (np.sqrt(5) + 1) / 2, d)\n",
    "    @ v.conj().T @  v.conj().T @v.conj().T @ v2.conj().T\n",
    "    @ self.backend.calculate_matrix_exp(-step, d)\n",
    ")\n"
   ]
  },
  {
   "cell_type": "code",
   "execution_count": null,
   "metadata": {},
   "outputs": [],
   "source": [
    "from qibo import symbols, hamiltonians\n",
    "d = hamiltonians.SymbolicHamiltonian( sum([symbols.Z(j) for j in range(config[\"nqubits\"])])).dense"
   ]
  },
  {
   "cell_type": "code",
   "execution_count": null,
   "metadata": {},
   "outputs": [],
   "source": [
    "from qibo.models.dbi.utils import *\n",
    "\n",
    "pauli_operator_dict = generate_pauli_operator_dict(config[\"nqubits\"], 1)\n",
    "pauli_operators = list(pauli_operator_dict.values())\n",
    "d_coef_pauli = np.ones(config[\"nqubits\"])\n",
    "d_coef_pauli = d_coef_pauli + np.random.rand(len(d_coef_pauli))\n",
    "d_pauli = sum([d_coef_pauli[i] * pauli_operators[i] for i in range(len(d_coef_pauli))])\n"
   ]
  },
  {
   "cell_type": "code",
   "execution_count": null,
   "metadata": {},
   "outputs": [],
   "source": [
    "np.linalg.norm(d_pauli - d)"
   ]
  },
  {
   "cell_type": "code",
   "execution_count": null,
   "metadata": {},
   "outputs": [],
   "source": [
    "q = try_to_speed_up_GC3(v,v2,dbi.)"
   ]
  },
  {
   "cell_type": "code",
   "execution_count": null,
   "metadata": {},
   "outputs": [],
   "source": [
    "def expose_gci3(self, step)\n",
    "    return = (\n",
    "    self.h.exp(-step * (np.sqrt(5) - 1) / 2)\n",
    "    @ self.backend.calculate_matrix_exp(-step * (np.sqrt(5) - 1) / 2, d)\n",
    "    @ self.h.exp(step)\n",
    "    @ self.backend.calculate_matrix_exp(step * (np.sqrt(5) + 1) / 2, d)\n",
    "    @ self.h.exp(-step * (3 - np.sqrt(5)) / 2)\n",
    "    @ self.backend.calculate_matrix_exp(-step, d)\n",
    ")\n",
    "\n"
   ]
  },
  {
   "cell_type": "code",
   "execution_count": null,
   "metadata": {},
   "outputs": [],
   "source": [
    "u =expose_gci3(dbi,np.sqrt(t))\n"
   ]
  },
  {
   "cell_type": "code",
   "execution_count": null,
   "metadata": {},
   "outputs": [],
   "source": [
    "\n",
    "dbi = DoubleBracketIteration(\n",
    "    hamiltonian=new_hamiltonian,\n",
    "    mode=DoubleBracketGeneratorType.group_commutator_3,\n",
    ")\n",
    "\n",
    "zero_state_t = np.transpose([zero_state])\n",
    "energy_h0 = float(dbi.h.expectation(np.array(zero_state_t)))\n",
    "fluctuations_h0 = float(dbi.h.energy_fluctuation(zero_state_t))\n"
   ]
  },
  {
   "cell_type": "code",
   "execution_count": null,
   "metadata": {},
   "outputs": [],
   "source": [
    "dbi(0.1)"
   ]
  },
  {
   "cell_type": "code",
   "execution_count": null,
   "metadata": {},
   "outputs": [],
   "source": [
    "d = dbi.diagonal_h_matrix\n",
    "dbi.backend.calculate_matrix_exp(-0.1,d)"
   ]
  },
  {
   "cell_type": "code",
   "execution_count": null,
   "metadata": {},
   "outputs": [],
   "source": [
    "dbi.backend.calculate_matrix_exp(-0.1,dbi.h.matrix)"
   ]
  },
  {
   "cell_type": "code",
   "execution_count": null,
   "metadata": {},
   "outputs": [],
   "source": [
    "new_hamiltonian.exp(0.1)"
   ]
  },
  {
   "cell_type": "code",
   "execution_count": null,
   "metadata": {},
   "outputs": [],
   "source": [
    "print(fluctuations_h0)\n",
    "print(energy_h0)"
   ]
  },
  {
   "cell_type": "code",
   "execution_count": null,
   "metadata": {},
   "outputs": [],
   "source": [
    "dbi.loss(0.01)"
   ]
  },
  {
   "cell_type": "code",
   "execution_count": null,
   "metadata": {},
   "outputs": [],
   "source": [
    "\n",
    "print(\"Applying DBI steps\")\n",
    "\n",
    "print(time.time() - t0)\n",
    "print(\n",
    "    f\"\\nReached accuracy before DBI at iter {target_epoch}: {np.abs(target_energy - ene1)}\"\n",
    ")\n",
    "print(\n",
    "    f\"Reached accuracy after DBI at iter {target_epoch}: {np.abs(target_energy - dbi_energies[-1])}\"\n",
    ")\n",
    "print(\n",
    "    f\"Reached accuracy in the end of VQE long training: {np.abs(target_energy - losses[-1])}\"\n",
    ")\n"
   ]
  },
  {
   "cell_type": "code",
   "execution_count": null,
   "metadata": {},
   "outputs": [],
   "source": []
  }
 ],
 "metadata": {
  "kernelspec": {
   "display_name": "Python 3",
   "language": "python",
   "name": "python3"
  },
  "language_info": {
   "codemirror_mode": {
    "name": "ipython",
    "version": 3
   },
   "file_extension": ".py",
   "mimetype": "text/x-python",
   "name": "python",
   "nbconvert_exporter": "python",
   "pygments_lexer": "ipython3",
   "version": "3.12.3"
  }
 },
 "nbformat": 4,
 "nbformat_minor": 2
}
