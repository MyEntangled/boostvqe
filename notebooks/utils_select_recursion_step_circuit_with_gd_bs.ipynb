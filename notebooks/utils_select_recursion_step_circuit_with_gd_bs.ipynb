{
 "cells": [
  {
   "cell_type": "code",
   "execution_count": 1,
   "metadata": {},
   "outputs": [],
   "source": [
    "import numpy as np\n",
    "import qibo\n",
    "from boostvqe.models.dbi.group_commutator_iteration_transpiler import DoubleBracketRotationType"
   ]
  },
  {
   "cell_type": "code",
   "execution_count": 3,
   "metadata": {},
   "outputs": [
    {
     "name": "stderr",
     "output_type": "stream",
     "text": [
      "[Qibo 0.2.9|INFO|2024-06-24 13:36:08]: Using numpy backend on /CPU:0\n",
      "INFO:qibo.config:Using numpy backend on /CPU:0\n"
     ]
    },
    {
     "name": "stdout",
     "output_type": "stream",
     "text": [
      "In the VQE numpy\n"
     ]
    },
    {
     "ename": "NameError",
     "evalue": "name 'vqe_energy' is not defined",
     "output_type": "error",
     "traceback": [
      "\u001b[0;31m---------------------------------------------------------------------------\u001b[0m",
      "\u001b[0;31mNameError\u001b[0m                                 Traceback (most recent call last)",
      "Cell \u001b[0;32mIn[3], line 26\u001b[0m\n\u001b[1;32m     12\u001b[0m     \u001b[38;5;28mprint\u001b[39m(\u001b[38;5;124mf\u001b[39m\u001b[38;5;124m\"\u001b[39m\u001b[38;5;124mVQE energy is \u001b[39m\u001b[38;5;132;01m{\u001b[39;00mreturn_values[vqe_energy]\u001b[38;5;132;01m}\u001b[39;00m\u001b[38;5;124m and the DBQA yields \u001b[39m\u001b[38;5;132;01m{\u001b[39;00mreturn_values[gci_loss]\u001b[38;5;132;01m}\u001b[39;00m\u001b[38;5;124m. \u001b[39m\u001b[38;5;130;01m\\n\u001b[39;00m\u001b[38;5;130;01m\\\u001b[39;00m\n\u001b[1;32m     13\u001b[0m \u001b[38;5;124m            The target energy is \u001b[39m\u001b[38;5;132;01m{\u001b[39;00mreturn_values[\u001b[38;5;124m'\u001b[39m\u001b[38;5;124mtarget_energy\u001b[39m\u001b[38;5;124m'\u001b[39m]\u001b[38;5;132;01m}\u001b[39;00m\u001b[38;5;124m which means the difference is for VQE \u001b[39m\u001b[38;5;130;01m\\\u001b[39;00m\n\u001b[1;32m     14\u001b[0m \u001b[38;5;124m            \u001b[39m\u001b[38;5;132;01m{\u001b[39;00mreturn_values[\u001b[38;5;124m'\u001b[39m\u001b[38;5;124mdiff_vqe_target\u001b[39m\u001b[38;5;124m'\u001b[39m]\u001b[38;5;132;01m}\u001b[39;00m\u001b[38;5;124m and of the DBQA \u001b[39m\u001b[38;5;132;01m{\u001b[39;00m\u001b[38;5;28mround\u001b[39m(gci_loss\u001b[38;5;241m-\u001b[39mgci\u001b[38;5;241m.\u001b[39mh\u001b[38;5;241m.\u001b[39mtarget_energy,\u001b[38;5;241m5\u001b[39m)\u001b[38;5;132;01m}\u001b[39;00m\u001b[38;5;124m \u001b[39m\u001b[38;5;130;01m\\\u001b[39;00m\n\u001b[0;32m   (...)\u001b[0m\n\u001b[1;32m     22\u001b[0m \u001b[38;5;124m            and DBQA \u001b[39m\u001b[38;5;132;01m{\u001b[39;00m\u001b[38;5;28mround\u001b[39m(gnd_state_fidelity_witness(gci,gci_loss),\u001b[38;5;241m5\u001b[39m)\u001b[38;5;132;01m}\u001b[39;00m\u001b[38;5;130;01m\\\u001b[39;00m\n\u001b[1;32m     23\u001b[0m \u001b[38;5;124m\"\u001b[39m)\n\u001b[1;32m     24\u001b[0m     gci\u001b[38;5;241m.\u001b[39mprint_gate_count_report()   \n\u001b[0;32m---> 26\u001b[0m \u001b[43mprint_vqe_comparison_report\u001b[49m\u001b[43m(\u001b[49m\u001b[43mgci\u001b[49m\u001b[43m)\u001b[49m\n",
      "Cell \u001b[0;32mIn[3], line 12\u001b[0m, in \u001b[0;36mprint_vqe_comparison_report\u001b[0;34m(gci)\u001b[0m\n\u001b[1;32m      3\u001b[0m \u001b[38;5;28;01mdef\u001b[39;00m \u001b[38;5;21mprint_vqe_comparison_report\u001b[39m(gci):\n\u001b[1;32m      4\u001b[0m     return_values \u001b[38;5;241m=\u001b[39m \u001b[38;5;28mdict\u001b[39m(\n\u001b[1;32m      5\u001b[0m     gci_loss \u001b[38;5;241m=\u001b[39m \u001b[38;5;28mround\u001b[39m(gci\u001b[38;5;241m.\u001b[39mloss(),\u001b[38;5;241m5\u001b[39m),\n\u001b[1;32m      6\u001b[0m     vqe_energy \u001b[38;5;241m=\u001b[39m \u001b[38;5;28mround\u001b[39m(gci\u001b[38;5;241m.\u001b[39mvqe_energy,\u001b[38;5;241m5\u001b[39m),\n\u001b[1;32m      7\u001b[0m     target_energy \u001b[38;5;241m=\u001b[39m \u001b[38;5;28mround\u001b[39m(gci\u001b[38;5;241m.\u001b[39mh\u001b[38;5;241m.\u001b[39mtarget_energy,\u001b[38;5;241m5\u001b[39m),\n\u001b[1;32m      8\u001b[0m     diff_vqe_target \u001b[38;5;241m=\u001b[39m \u001b[38;5;28mround\u001b[39m(gci\u001b[38;5;241m.\u001b[39mvqe_energy\u001b[38;5;241m-\u001b[39mgci\u001b[38;5;241m.\u001b[39mh\u001b[38;5;241m.\u001b[39mtarget_energy,\u001b[38;5;241m5\u001b[39m)\n\u001b[1;32m      9\u001b[0m  )\n\u001b[0;32m---> 12\u001b[0m     \u001b[38;5;28mprint\u001b[39m(\u001b[38;5;124mf\u001b[39m\u001b[38;5;124m\"\u001b[39m\u001b[38;5;124mVQE energy is \u001b[39m\u001b[38;5;132;01m{\u001b[39;00mreturn_values[\u001b[43mvqe_energy\u001b[49m]\u001b[38;5;132;01m}\u001b[39;00m\u001b[38;5;124m and the DBQA yields \u001b[39m\u001b[38;5;132;01m{\u001b[39;00mreturn_values[gci_loss]\u001b[38;5;132;01m}\u001b[39;00m\u001b[38;5;124m. \u001b[39m\u001b[38;5;130;01m\\n\u001b[39;00m\u001b[38;5;130;01m\\\u001b[39;00m\n\u001b[1;32m     13\u001b[0m \u001b[38;5;124m            The target energy is \u001b[39m\u001b[38;5;132;01m{\u001b[39;00mreturn_values[\u001b[38;5;124m'\u001b[39m\u001b[38;5;124mtarget_energy\u001b[39m\u001b[38;5;124m'\u001b[39m]\u001b[38;5;132;01m}\u001b[39;00m\u001b[38;5;124m which means the difference is for VQE \u001b[39m\u001b[38;5;130;01m\\\u001b[39;00m\n\u001b[1;32m     14\u001b[0m \u001b[38;5;124m            \u001b[39m\u001b[38;5;132;01m{\u001b[39;00mreturn_values[\u001b[38;5;124m'\u001b[39m\u001b[38;5;124mdiff_vqe_target\u001b[39m\u001b[38;5;124m'\u001b[39m]\u001b[38;5;132;01m}\u001b[39;00m\u001b[38;5;124m and of the DBQA \u001b[39m\u001b[38;5;132;01m{\u001b[39;00m\u001b[38;5;28mround\u001b[39m(gci_loss\u001b[38;5;241m-\u001b[39mgci\u001b[38;5;241m.\u001b[39mh\u001b[38;5;241m.\u001b[39mtarget_energy,\u001b[38;5;241m5\u001b[39m)\u001b[38;5;132;01m}\u001b[39;00m\u001b[38;5;124m \u001b[39m\u001b[38;5;130;01m\\\u001b[39;00m\n\u001b[1;32m     15\u001b[0m \u001b[38;5;124m            which can be compared to the spectral gap \u001b[39m\u001b[38;5;132;01m{\u001b[39;00m\u001b[38;5;28mround\u001b[39m(gci\u001b[38;5;241m.\u001b[39mh\u001b[38;5;241m.\u001b[39mgap,\u001b[38;5;241m5\u001b[39m)\u001b[38;5;132;01m}\u001b[39;00m\u001b[38;5;124m.\u001b[39m\u001b[38;5;130;01m\\n\u001b[39;00m\u001b[38;5;130;01m\\\u001b[39;00m\n\u001b[1;32m     16\u001b[0m \u001b[38;5;124m            The relative difference is for VQE \u001b[39m\u001b[38;5;132;01m{\u001b[39;00m\u001b[38;5;28mround\u001b[39m(\u001b[38;5;28mabs\u001b[39m(gci\u001b[38;5;241m.\u001b[39mvqe_energy\u001b[38;5;241m-\u001b[39mgci\u001b[38;5;241m.\u001b[39mh\u001b[38;5;241m.\u001b[39mtarget_energy)\u001b[38;5;241m/\u001b[39m\u001b[38;5;28mabs\u001b[39m(gci\u001b[38;5;241m.\u001b[39mh\u001b[38;5;241m.\u001b[39mtarget_energy)\u001b[38;5;241m*\u001b[39m\u001b[38;5;241m100\u001b[39m,\u001b[38;5;241m5\u001b[39m)\u001b[38;5;132;01m}\u001b[39;00m\u001b[38;5;124m% \u001b[39m\u001b[38;5;130;01m\\\u001b[39;00m\n\u001b[1;32m     17\u001b[0m \u001b[38;5;124m            and for DBQA \u001b[39m\u001b[38;5;132;01m{\u001b[39;00m\u001b[38;5;28mround\u001b[39m(\u001b[38;5;28mabs\u001b[39m(gci_loss\u001b[38;5;241m-\u001b[39mgci\u001b[38;5;241m.\u001b[39mh\u001b[38;5;241m.\u001b[39mtarget_energy)\u001b[38;5;241m/\u001b[39m\u001b[38;5;28mabs\u001b[39m(gci\u001b[38;5;241m.\u001b[39mh\u001b[38;5;241m.\u001b[39mtarget_energy)\u001b[38;5;241m*\u001b[39m\u001b[38;5;241m100\u001b[39m,\u001b[38;5;241m5\u001b[39m)\u001b[38;5;132;01m}\u001b[39;00m\u001b[38;5;124m%.\u001b[39m\u001b[38;5;130;01m\\\u001b[39;00m\n\u001b[1;32m     18\u001b[0m \u001b[38;5;124m            The energetic fidelity witness for the ground state for the\u001b[39m\u001b[38;5;130;01m\\n\u001b[39;00m\u001b[38;5;130;01m\\\u001b[39;00m\n\u001b[1;32m     19\u001b[0m \u001b[38;5;124m            VQE is \u001b[39m\u001b[38;5;132;01m{\u001b[39;00m\u001b[38;5;28mround\u001b[39m(\u001b[38;5;241m1\u001b[39m\u001b[38;5;241m-\u001b[39m\u001b[38;5;250m \u001b[39m\u001b[38;5;28mabs\u001b[39m(gci\u001b[38;5;241m.\u001b[39mvqe_energy\u001b[38;5;241m-\u001b[39mgci\u001b[38;5;241m.\u001b[39mh\u001b[38;5;241m.\u001b[39mtarget_energy)\u001b[38;5;241m/\u001b[39m\u001b[38;5;28mabs\u001b[39m(gci\u001b[38;5;241m.\u001b[39mh\u001b[38;5;241m.\u001b[39mgap),\u001b[38;5;241m5\u001b[39m)\u001b[38;5;132;01m}\u001b[39;00m\u001b[38;5;124m \u001b[39m\u001b[38;5;130;01m\\n\u001b[39;00m\u001b[38;5;130;01m\\\u001b[39;00m\n\u001b[1;32m     20\u001b[0m \u001b[38;5;124m            and DBQA \u001b[39m\u001b[38;5;132;01m{\u001b[39;00m\u001b[38;5;28mround\u001b[39m(\u001b[38;5;241m1\u001b[39m\u001b[38;5;241m-\u001b[39m\u001b[38;5;250m \u001b[39m\u001b[38;5;28mabs\u001b[39m(gci_loss\u001b[38;5;241m-\u001b[39mgci\u001b[38;5;241m.\u001b[39mh\u001b[38;5;241m.\u001b[39mtarget_energy)\u001b[38;5;241m/\u001b[39m\u001b[38;5;28mabs\u001b[39m(gci\u001b[38;5;241m.\u001b[39mh\u001b[38;5;241m.\u001b[39mgap),\u001b[38;5;241m5\u001b[39m)\u001b[38;5;132;01m}\u001b[39;00m\u001b[38;5;130;01m\\n\u001b[39;00m\u001b[38;5;130;01m\\\u001b[39;00m\n\u001b[1;32m     21\u001b[0m \u001b[38;5;124m            The true fidelity is \u001b[39m\u001b[38;5;132;01m{\u001b[39;00m\u001b[38;5;28mround\u001b[39m(gnd_state_fidelity(gci),\u001b[38;5;241m5\u001b[39m)\u001b[38;5;132;01m}\u001b[39;00m\u001b[38;5;124m (see boostvqe issue https://github.com/qiboteam/boostvqe/issues/51 why this value seems wrong)\u001b[39m\u001b[38;5;130;01m\\n\u001b[39;00m\u001b[38;5;130;01m\\\u001b[39;00m\n\u001b[1;32m     22\u001b[0m \u001b[38;5;124m            and DBQA \u001b[39m\u001b[38;5;132;01m{\u001b[39;00m\u001b[38;5;28mround\u001b[39m(gnd_state_fidelity_witness(gci,gci_loss),\u001b[38;5;241m5\u001b[39m)\u001b[38;5;132;01m}\u001b[39;00m\u001b[38;5;130;01m\\\u001b[39;00m\n\u001b[1;32m     23\u001b[0m \u001b[38;5;124m\"\u001b[39m)\n\u001b[1;32m     24\u001b[0m     gci\u001b[38;5;241m.\u001b[39mprint_gate_count_report()\n",
      "\u001b[0;31mNameError\u001b[0m: name 'vqe_energy' is not defined"
     ]
    }
   ],
   "source": [
    "from boostvqe.utils import *\n",
    "gci = initialize_gci_from_vqe()\n",
    "\n",
    "\n"
   ]
  },
  {
   "cell_type": "code",
   "execution_count": 6,
   "metadata": {},
   "outputs": [
    {
     "ename": "NameError",
     "evalue": "name 'gci_loss' is not defined",
     "output_type": "error",
     "traceback": [
      "\u001b[0;31m---------------------------------------------------------------------------\u001b[0m",
      "\u001b[0;31mNameError\u001b[0m                                 Traceback (most recent call last)",
      "Cell \u001b[0;32mIn[6], line 22\u001b[0m\n\u001b[1;32m      8\u001b[0m     \u001b[38;5;28mprint\u001b[39m(\u001b[38;5;124mf\u001b[39m\u001b[38;5;124m\"\u001b[39m\u001b[38;5;124mVQE energy is \u001b[39m\u001b[38;5;132;01m{\u001b[39;00mreturn_values[\u001b[38;5;124m'\u001b[39m\u001b[38;5;124mvqe_energy\u001b[39m\u001b[38;5;124m'\u001b[39m]\u001b[38;5;132;01m}\u001b[39;00m\u001b[38;5;124m and the DBQA yields \u001b[39m\u001b[38;5;132;01m{\u001b[39;00mreturn_values[\u001b[38;5;124m'\u001b[39m\u001b[38;5;124mgci_loss\u001b[39m\u001b[38;5;124m'\u001b[39m]\u001b[38;5;132;01m}\u001b[39;00m\u001b[38;5;124m. \u001b[39m\u001b[38;5;130;01m\\n\u001b[39;00m\u001b[38;5;130;01m\\\u001b[39;00m\n\u001b[1;32m      9\u001b[0m \u001b[38;5;124m            The target energy is \u001b[39m\u001b[38;5;132;01m{\u001b[39;00mreturn_values[\u001b[38;5;124m'\u001b[39m\u001b[38;5;124mtarget_energy\u001b[39m\u001b[38;5;124m'\u001b[39m]\u001b[38;5;132;01m}\u001b[39;00m\u001b[38;5;124m which means the difference is for VQE \u001b[39m\u001b[38;5;130;01m\\\u001b[39;00m\n\u001b[1;32m     10\u001b[0m \u001b[38;5;124m            \u001b[39m\u001b[38;5;132;01m{\u001b[39;00mreturn_values[\u001b[38;5;124m'\u001b[39m\u001b[38;5;124mdiff_vqe_target\u001b[39m\u001b[38;5;124m'\u001b[39m]\u001b[38;5;132;01m}\u001b[39;00m\u001b[38;5;124m and of the DBQA \u001b[39m\u001b[38;5;132;01m{\u001b[39;00m\u001b[38;5;28mround\u001b[39m(gci_loss\u001b[38;5;241m-\u001b[39mgci\u001b[38;5;241m.\u001b[39mh\u001b[38;5;241m.\u001b[39mtarget_energy,\u001b[38;5;241m5\u001b[39m)\u001b[38;5;132;01m}\u001b[39;00m\u001b[38;5;124m \u001b[39m\u001b[38;5;130;01m\\\u001b[39;00m\n\u001b[0;32m   (...)\u001b[0m\n\u001b[1;32m     18\u001b[0m \u001b[38;5;124m            and DBQA \u001b[39m\u001b[38;5;132;01m{\u001b[39;00m\u001b[38;5;28mround\u001b[39m(gnd_state_fidelity_witness(gci,gci_loss),\u001b[38;5;241m5\u001b[39m)\u001b[38;5;132;01m}\u001b[39;00m\u001b[38;5;130;01m\\\u001b[39;00m\n\u001b[1;32m     19\u001b[0m \u001b[38;5;124m\"\u001b[39m)\n\u001b[1;32m     20\u001b[0m     gci\u001b[38;5;241m.\u001b[39mprint_gate_count_report()   \n\u001b[0;32m---> 22\u001b[0m \u001b[43mprint_vqe_comparison_report\u001b[49m\u001b[43m(\u001b[49m\u001b[43mgci\u001b[49m\u001b[43m)\u001b[49m\n",
      "Cell \u001b[0;32mIn[6], line 10\u001b[0m, in \u001b[0;36mprint_vqe_comparison_report\u001b[0;34m(gci)\u001b[0m\n\u001b[1;32m      1\u001b[0m \u001b[38;5;28;01mdef\u001b[39;00m \u001b[38;5;21mprint_vqe_comparison_report\u001b[39m(gci):\n\u001b[1;32m      2\u001b[0m     return_values \u001b[38;5;241m=\u001b[39m \u001b[38;5;28mdict\u001b[39m(\n\u001b[1;32m      3\u001b[0m     gci_loss \u001b[38;5;241m=\u001b[39m \u001b[38;5;28mround\u001b[39m(gci\u001b[38;5;241m.\u001b[39mloss(),\u001b[38;5;241m5\u001b[39m),\n\u001b[1;32m      4\u001b[0m     vqe_energy \u001b[38;5;241m=\u001b[39m \u001b[38;5;28mround\u001b[39m(gci\u001b[38;5;241m.\u001b[39mvqe_energy,\u001b[38;5;241m5\u001b[39m),\n\u001b[1;32m      5\u001b[0m     target_energy \u001b[38;5;241m=\u001b[39m \u001b[38;5;28mround\u001b[39m(gci\u001b[38;5;241m.\u001b[39mh\u001b[38;5;241m.\u001b[39mtarget_energy,\u001b[38;5;241m5\u001b[39m),\n\u001b[1;32m      6\u001b[0m     diff_vqe_target \u001b[38;5;241m=\u001b[39m \u001b[38;5;28mround\u001b[39m(gci\u001b[38;5;241m.\u001b[39mvqe_energy\u001b[38;5;241m-\u001b[39mgci\u001b[38;5;241m.\u001b[39mh\u001b[38;5;241m.\u001b[39mtarget_energy,\u001b[38;5;241m5\u001b[39m)\n\u001b[1;32m      7\u001b[0m  )\n\u001b[1;32m      8\u001b[0m     \u001b[38;5;28mprint\u001b[39m(\u001b[38;5;124mf\u001b[39m\u001b[38;5;124m\"\u001b[39m\u001b[38;5;124mVQE energy is \u001b[39m\u001b[38;5;132;01m{\u001b[39;00mreturn_values[\u001b[38;5;124m'\u001b[39m\u001b[38;5;124mvqe_energy\u001b[39m\u001b[38;5;124m'\u001b[39m]\u001b[38;5;132;01m}\u001b[39;00m\u001b[38;5;124m and the DBQA yields \u001b[39m\u001b[38;5;132;01m{\u001b[39;00mreturn_values[\u001b[38;5;124m'\u001b[39m\u001b[38;5;124mgci_loss\u001b[39m\u001b[38;5;124m'\u001b[39m]\u001b[38;5;132;01m}\u001b[39;00m\u001b[38;5;124m. \u001b[39m\u001b[38;5;130;01m\\n\u001b[39;00m\u001b[38;5;130;01m\\\u001b[39;00m\n\u001b[1;32m      9\u001b[0m \u001b[38;5;124m            The target energy is \u001b[39m\u001b[38;5;132;01m{\u001b[39;00mreturn_values[\u001b[38;5;124m'\u001b[39m\u001b[38;5;124mtarget_energy\u001b[39m\u001b[38;5;124m'\u001b[39m]\u001b[38;5;132;01m}\u001b[39;00m\u001b[38;5;124m which means the difference is for VQE \u001b[39m\u001b[38;5;130;01m\\\u001b[39;00m\n\u001b[0;32m---> 10\u001b[0m \u001b[38;5;124m            \u001b[39m\u001b[38;5;132;01m{\u001b[39;00mreturn_values[\u001b[38;5;124m'\u001b[39m\u001b[38;5;124mdiff_vqe_target\u001b[39m\u001b[38;5;124m'\u001b[39m]\u001b[38;5;132;01m}\u001b[39;00m\u001b[38;5;124m and of the DBQA \u001b[39m\u001b[38;5;132;01m{\u001b[39;00m\u001b[38;5;28mround\u001b[39m(\u001b[43mgci_loss\u001b[49m\u001b[38;5;241m-\u001b[39mgci\u001b[38;5;241m.\u001b[39mh\u001b[38;5;241m.\u001b[39mtarget_energy,\u001b[38;5;241m5\u001b[39m)\u001b[38;5;132;01m}\u001b[39;00m\u001b[38;5;124m \u001b[39m\u001b[38;5;130;01m\\\u001b[39;00m\n\u001b[1;32m     11\u001b[0m \u001b[38;5;124m            which can be compared to the spectral gap \u001b[39m\u001b[38;5;132;01m{\u001b[39;00m\u001b[38;5;28mround\u001b[39m(gci\u001b[38;5;241m.\u001b[39mh\u001b[38;5;241m.\u001b[39mgap,\u001b[38;5;241m5\u001b[39m)\u001b[38;5;132;01m}\u001b[39;00m\u001b[38;5;124m.\u001b[39m\u001b[38;5;130;01m\\n\u001b[39;00m\u001b[38;5;130;01m\\\u001b[39;00m\n\u001b[1;32m     12\u001b[0m \u001b[38;5;124m            The relative difference is for VQE \u001b[39m\u001b[38;5;132;01m{\u001b[39;00m\u001b[38;5;28mround\u001b[39m(\u001b[38;5;28mabs\u001b[39m(gci\u001b[38;5;241m.\u001b[39mvqe_energy\u001b[38;5;241m-\u001b[39mgci\u001b[38;5;241m.\u001b[39mh\u001b[38;5;241m.\u001b[39mtarget_energy)\u001b[38;5;241m/\u001b[39m\u001b[38;5;28mabs\u001b[39m(gci\u001b[38;5;241m.\u001b[39mh\u001b[38;5;241m.\u001b[39mtarget_energy)\u001b[38;5;241m*\u001b[39m\u001b[38;5;241m100\u001b[39m,\u001b[38;5;241m5\u001b[39m)\u001b[38;5;132;01m}\u001b[39;00m\u001b[38;5;124m% \u001b[39m\u001b[38;5;130;01m\\\u001b[39;00m\n\u001b[1;32m     13\u001b[0m \u001b[38;5;124m            and for DBQA \u001b[39m\u001b[38;5;132;01m{\u001b[39;00m\u001b[38;5;28mround\u001b[39m(\u001b[38;5;28mabs\u001b[39m(gci_loss\u001b[38;5;241m-\u001b[39mgci\u001b[38;5;241m.\u001b[39mh\u001b[38;5;241m.\u001b[39mtarget_energy)\u001b[38;5;241m/\u001b[39m\u001b[38;5;28mabs\u001b[39m(gci\u001b[38;5;241m.\u001b[39mh\u001b[38;5;241m.\u001b[39mtarget_energy)\u001b[38;5;241m*\u001b[39m\u001b[38;5;241m100\u001b[39m,\u001b[38;5;241m5\u001b[39m)\u001b[38;5;132;01m}\u001b[39;00m\u001b[38;5;124m%.\u001b[39m\u001b[38;5;130;01m\\\u001b[39;00m\n\u001b[1;32m     14\u001b[0m \u001b[38;5;124m            The energetic fidelity witness for the ground state for the\u001b[39m\u001b[38;5;130;01m\\n\u001b[39;00m\u001b[38;5;130;01m\\\u001b[39;00m\n\u001b[1;32m     15\u001b[0m \u001b[38;5;124m            VQE is \u001b[39m\u001b[38;5;132;01m{\u001b[39;00m\u001b[38;5;28mround\u001b[39m(\u001b[38;5;241m1\u001b[39m\u001b[38;5;241m-\u001b[39m\u001b[38;5;250m \u001b[39m\u001b[38;5;28mabs\u001b[39m(gci\u001b[38;5;241m.\u001b[39mvqe_energy\u001b[38;5;241m-\u001b[39mgci\u001b[38;5;241m.\u001b[39mh\u001b[38;5;241m.\u001b[39mtarget_energy)\u001b[38;5;241m/\u001b[39m\u001b[38;5;28mabs\u001b[39m(gci\u001b[38;5;241m.\u001b[39mh\u001b[38;5;241m.\u001b[39mgap),\u001b[38;5;241m5\u001b[39m)\u001b[38;5;132;01m}\u001b[39;00m\u001b[38;5;124m \u001b[39m\u001b[38;5;130;01m\\n\u001b[39;00m\u001b[38;5;130;01m\\\u001b[39;00m\n\u001b[1;32m     16\u001b[0m \u001b[38;5;124m            and DBQA \u001b[39m\u001b[38;5;132;01m{\u001b[39;00m\u001b[38;5;28mround\u001b[39m(\u001b[38;5;241m1\u001b[39m\u001b[38;5;241m-\u001b[39m\u001b[38;5;250m \u001b[39m\u001b[38;5;28mabs\u001b[39m(gci_loss\u001b[38;5;241m-\u001b[39mgci\u001b[38;5;241m.\u001b[39mh\u001b[38;5;241m.\u001b[39mtarget_energy)\u001b[38;5;241m/\u001b[39m\u001b[38;5;28mabs\u001b[39m(gci\u001b[38;5;241m.\u001b[39mh\u001b[38;5;241m.\u001b[39mgap),\u001b[38;5;241m5\u001b[39m)\u001b[38;5;132;01m}\u001b[39;00m\u001b[38;5;130;01m\\n\u001b[39;00m\u001b[38;5;130;01m\\\u001b[39;00m\n\u001b[1;32m     17\u001b[0m \u001b[38;5;124m            The true fidelity is \u001b[39m\u001b[38;5;132;01m{\u001b[39;00m\u001b[38;5;28mround\u001b[39m(gnd_state_fidelity(gci),\u001b[38;5;241m5\u001b[39m)\u001b[38;5;132;01m}\u001b[39;00m\u001b[38;5;124m (see boostvqe issue https://github.com/qiboteam/boostvqe/issues/51 why this value seems wrong)\u001b[39m\u001b[38;5;130;01m\\n\u001b[39;00m\u001b[38;5;130;01m\\\u001b[39;00m\n\u001b[1;32m     18\u001b[0m \u001b[38;5;124m            and DBQA \u001b[39m\u001b[38;5;132;01m{\u001b[39;00m\u001b[38;5;28mround\u001b[39m(gnd_state_fidelity_witness(gci,gci_loss),\u001b[38;5;241m5\u001b[39m)\u001b[38;5;132;01m}\u001b[39;00m\u001b[38;5;130;01m\\\u001b[39;00m\n\u001b[1;32m     19\u001b[0m \u001b[38;5;124m\"\u001b[39m)\n\u001b[1;32m     20\u001b[0m     gci\u001b[38;5;241m.\u001b[39mprint_gate_count_report()\n",
      "\u001b[0;31mNameError\u001b[0m: name 'gci_loss' is not defined"
     ]
    }
   ],
   "source": [
    "def print_vqe_comparison_report(gci, nmb_digits_rounding = 2):\n",
    "    gci_loss = gci.loss()\n",
    "    return_values = dict(\n",
    "    gci_loss = gci_loss,\n",
    "    vqe_energy = gci.vqe_energy,\n",
    "    target_energy = gci.h.target_energy,\n",
    "    diff_vqe_target = gci.vqe_energy-gci.h.target_energy,\n",
    "    diff_gci_target = gci_loss-gci.h.target_energy,\n",
    "    gap = gci.h.gap\n",
    "    diff_vqe_target_perc = abs(gci.vqe_energy-gci.h.target_energy)/abs(gci.h.target_energy)*100,\n",
    "    diff_gci_target_perc = abs(gci_loss-gci.h.target_energy)/abs(gci.h.target_energy)*100,\n",
    "    fidelity_witness_vqe = gnd_state_fidelity_witness(gci,gci.vqe_energy),\n",
    "    fidelity_witness_gci = gnd_state_fidelity_witness(gci,gci.vqe_energy),\n",
    "    fidelity_vqe = gnd_state_fidelity(gci, input_state = gci.vqe.circuit().state()),\n",
    "    fidelity_gci = gnd_state_fidelity(gci),\n",
    " )\n",
    "    print(f\"VQE energy is {return_values['vqe_energy']} and the DBQA yields {return_values['gci_loss']}. \\n\\\n",
    "            The target energy is {return_values['target_energy']} which means the difference is for VQE \\\n",
    "            {return_values['diff_vqe_target']} and of the DBQA {return_values['diff_gci_target']} \\\n",
    "            which can be compared to the spectral gap {return_values['gap']}.\\n\\\n",
    "            The relative difference is for VQE {return_values['diff_vqe_target_perc']}% \\\n",
    "            and for DBQA {return_values['diff_gci_target_perc']}%.\\\n",
    "            The energetic fidelity witness of the ground state is: \\n\\\n",
    "            - for the VQE  {return_values['fidelity_witness_vqe']} \\n\\\n",
    "            - for DBQA {return_values['fidelity_witness_gci']}\\n\\\n",
    "            The true fidelity is \\n\\\n",
    "            - for the VQE  {return_values['fidelity_witness_vqe']} (see boostvqe issue https://github.com/qiboteam/boostvqe/issues/51 why this value seems wrong)\\n\\\n",
    "            - for DBQA {return_values['fidelity_witness_gci']}\\n\\{round(gnd_state_fidelity(gci),5)} \\n\\\n",
    "            and DBQA {round(gnd_state_fidelity_witness(gci,gci_loss),5)}\\\n",
    "\")\n",
    "    gci.print_gate_count_report()   \n",
    "\n",
    "print_vqe_comparison_report(gci)\n",
    "\n",
    "\n",
    "def gnd_state_fidelity_witness(gci,e_state = None):\n",
    "    if e_state is None:\n",
    "        e_state = gci.loss()\n",
    "    return 1 - (e_state-gci.h.target_energy) / gci.h.gap\n",
    "\n",
    "def gnd_state_fidelity(gci, input_state = None):\n",
    "    if input_state is None:\n",
    "        input_state = gci.get_composed_circuit()().state()\n",
    "    return abs( gci.h.ground_state.T.conj() @ input_state )**2"
   ]
  },
  {
   "cell_type": "code",
   "execution_count": null,
   "metadata": {},
   "outputs": [],
   "source": []
  },
  {
   "cell_type": "code",
   "execution_count": null,
   "metadata": {},
   "outputs": [],
   "source": [
    "from boostvqe.models.dbi.group_commutator_iteration_transpiler import *\n",
    "b_list = [1+np.sin(x/3)for x in range(10)]\n",
    "eo_d_m_field = MagneticFieldEvolutionOracle(b_list)\n",
    "eo_d_nn = IsingNNEvolutionOracle(b_list, b_list)"
   ]
  },
  {
   "cell_type": "code",
   "execution_count": null,
   "metadata": {},
   "outputs": [
    {
     "name": "stdout",
     "output_type": "stream",
     "text": [
      "Just finished the selection: better loss -14.992226029274104 for mode DoubleBracketRotationType.group_commutator_third_order_reduced,                  with duration s=0.005222222222222222, and eo_d name = H_ClassicalIsing(B,J)\n"
     ]
    },
    {
     "data": {
      "image/png": "[encoded data removed]",
      "text/plain": [
       "<Figure size 640x480 with 1 Axes>"
      ]
     },
     "metadata": {},
     "output_type": "display_data"
    }
   ],
   "source": [
    "mode_dbr, minimizer_s, min_loss, eo_d = select_recursion_step_gd_circuit(\n",
    "    gci, mode_dbr_list = [DoubleBracketRotationType.group_commutator_third_order_reduced, \n",
    "                          DoubleBracketRotationType.group_commutator],\n",
    "    eo_d = eo_d_nn,\n",
    "    use_gd = False,\n",
    "    step_grid = np.linspace(1e-3,2e-2,10),\n",
    "    please_be_visual = True)\n"
   ]
  },
  {
   "cell_type": "code",
   "execution_count": null,
   "metadata": {},
   "outputs": [
    {
     "name": "stdout",
     "output_type": "stream",
     "text": [
      "<boostvqe.models.dbi.double_bracket_evolution_oracles.MagneticFieldEvolutionOracle object at 0x7eb05cc5fc80> 0.01005 -14.977361372969742 {(0.0001, 0.0001): -14.860422551928544, (0.0001, 0.01005): -14.954229814559074, (0.0001, 0.02): -14.769059208349297, (0.0001, 0.005075): -14.961484813561384, (0.0001, 0.015025): -14.88064951323977, (0.50005, 0.0001): -14.858670427201794, (0.50005, 0.01005): -14.967868665304206, (0.50005, 0.02): -14.971270526602416, (0.50005, 0.02995): -14.896903185325453, (1, 0.0001): -14.856899473569793, (1, 0.01005): -14.856944381831411, (1, 0.02): -14.856978361148478, (1, 0.02995): -14.857003800302875, (1, 0.039900000000000005): -14.857022565555194, (1, 0.049850000000000005): -14.857036108793519, (1, 0.059800000000000006): -14.857045556018758, (1, 0.06975): -14.857051778102464, (1, 0.07970000000000001): -14.857055447163292, (1, 0.08965000000000001): -14.85705708136069, (1, 0.09960000000000001): -14.85705708037561, (0.250075, 0.0001): -14.85954964082741, (0.250075, 0.01005): -14.977361372969742, (0.250075, 0.02): -14.897271664077408, (0.250075, 0.005075): -14.951072879515232, (0.250075, 0.015025): -14.95523127498145, (0.7500249999999999, 0.0001): -14.857786503699886, (0.7500249999999999, 0.01005): -14.925534946478578, (0.7500249999999999, 0.02): -14.958126425817598, (0.7500249999999999, 0.02995): -14.961329665483177, (0.7500249999999999, 0.039900000000000005): -14.938207270797756}\n"
     ]
    }
   ],
   "source": [
    "\n",
    "step_grid = np.linspace(1e-3,2e-2,10)\n",
    "mode = gci.mode_double_bracket_rotation\n",
    "s, l, ls = gci.choose_step(d = eo_d,step_grid = step_grid, mode_dbr = mode)\n",
    "n_local= 1\n",
    "params =eo_d.b_list\n",
    "s_min, s_max = step_grid[0], step_grid[-1]\n",
    "lr_range = (1e-3, 1)\n",
    "lr_min, lr_max = lr_range[0], lr_range[-1]\n",
    "eo_d, s, l, eval_dict = choose_gd_params(gci, n_local, params, l, s, s_min, s_max, lr_min, lr_max, threshold =1e-4, max_eval = 10)\n",
    "\n",
    "loss_0 = l\n",
    "s_0 = s\n",
    "s_min=1e-4\n",
    "s_max=2e-2\n",
    "lr_min=1e-4\n",
    "lr_max=1\n",
    "threshold=1e-4\n",
    "max_eval=10\n",
    "please_be_adaptive = True\n",
    "please_be_verbose = False\n",
    "\n",
    "evaluated_points = {}\n",
    "max_eval = int(np.sqrt(max_eval))\n",
    "grad = gradient_numerical(gci.loss, n_local, params, loss_0, s_0)\n",
    "\n",
    "def loss_func_lr(lr):\n",
    "    filtered_entries = {k:v for k, v in evaluated_points.items() if k[0]==lr}\n",
    "    if len(filtered_entries) > 0:\n",
    "        return min(filtered_entries.values())\n",
    "    elif lr < 0:\n",
    "        return float(\"inf\")\n",
    "    else:\n",
    "        params_eval = (1 - grad*lr) * deepcopy(params)\n",
    "        eo_d = get_gd_evolution_oracle(n_local, params_eval)\n",
    "        # given lr find best possible s_min and loss_min\n",
    "        if please_be_adaptive:\n",
    "            best_s, best_loss, evaluated_points_s, exit_criterion = adaptive_binary_search(lambda s: gci.loss(s, eo_d) if s>0 else float(\"inf\"), \n",
    "                                                                                            threshold, s_min, s_max, max_eval)\n",
    "        else:\n",
    "            best_s, best_loss, evaluated_points_s = gci.choose_step(d = eo_d,s_min=1e-4, s_max=2e-2, max_eval = max_eval)\n",
    "\n",
    "        for s,l in evaluated_points_s.items():\n",
    "            if l < 0:\n",
    "                evaluated_points[(lr, s)] = l\n",
    "        if please_be_verbose:\n",
    "            print(f\"For lr = {lr} found optimal s = {best_s} yielding loss = {best_loss} after terminating with {exit_criterion}\")\n",
    "    return best_loss\n",
    "\n",
    "best_lr, best_loss, _ ,exit_criterion = adaptive_binary_search(loss_func_lr, threshold, lr_min, lr_max, max_eval)\n",
    "if please_be_verbose:\n",
    "    print(f\"For lr = {lr} found optimal s = {best_s} yielding loss = {best_loss} after terminating with {exit_criterion}\")\n",
    "eo_d = get_gd_evolution_oracle(n_local, (1-grad*best_lr)*deepcopy(params))\n",
    "# find best_s\n",
    "for (lr, s), loss in evaluated_points.items():\n",
    "    if lr == best_lr and loss == best_loss:\n",
    "        best_s = s\n",
    "print( eo_d, best_s, best_loss, evaluated_points)"
   ]
  },
  {
   "cell_type": "code",
   "execution_count": null,
   "metadata": {},
   "outputs": [
    {
     "data": {
      "text/plain": [
       "-14.977361372969742"
      ]
     },
     "execution_count": 6,
     "metadata": {},
     "output_type": "execute_result"
    }
   ],
   "source": [
    "gci.loss(best_s,eo_d)"
   ]
  },
  {
   "cell_type": "code",
   "execution_count": null,
   "metadata": {},
   "outputs": [],
   "source": [
    "params_eval = (1 - grad*best_lr) * deepcopy(params)\n",
    "eo_d = get_gd_evolution_oracle(n_local, params_eval)\n",
    "best_s, best_loss, evaluated_points_s, exit_criterion = adaptive_binary_search(lambda s: gci.loss(s, eo_d) if s>0 else float(\"inf\"), \n",
    "                                                                                            threshold, s_min, s_max, max_eval)"
   ]
  },
  {
   "cell_type": "code",
   "execution_count": null,
   "metadata": {},
   "outputs": [
    {
     "data": {
      "text/plain": [
       "-14.977361372969742"
      ]
     },
     "execution_count": 8,
     "metadata": {},
     "output_type": "execute_result"
    }
   ],
   "source": [
    "best_loss"
   ]
  },
  {
   "cell_type": "code",
   "execution_count": null,
   "metadata": {},
   "outputs": [],
   "source": []
  }
 ],
 "metadata": {
  "kernelspec": {
   "display_name": "DBF_qibo",
   "language": "python",
   "name": "python3"
  },
  "language_info": {
   "codemirror_mode": {
    "name": "ipython",
    "version": 3
   },
   "file_extension": ".py",
   "mimetype": "text/x-python",
   "name": "python",
   "nbconvert_exporter": "python",
   "pygments_lexer": "ipython3",
   "version": "3.12.3"
  }
 },
 "nbformat": 4,
 "nbformat_minor": 2
}
