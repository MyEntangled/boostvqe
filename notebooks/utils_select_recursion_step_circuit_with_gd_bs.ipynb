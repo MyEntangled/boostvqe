{
 "cells": [
  {
   "cell_type": "code",
   "execution_count": 1,
   "metadata": {},
   "outputs": [],
   "source": [
    "import numpy as np\n",
    "import qibo\n",
    "from boostvqe.models.dbi.group_commutator_iteration_transpiler import DoubleBracketRotationType"
   ]
  },
  {
   "cell_type": "code",
   "execution_count": 2,
   "metadata": {},
   "outputs": [
    {
     "name": "stderr",
     "output_type": "stream",
     "text": [
      "[Qibo 0.2.9|INFO|2024-06-24 14:51:00]: Using numpy backend on /CPU:0\n",
      "[Qibo 0.2.9|INFO|2024-06-24 14:51:00]: Using numpy backend on /CPU:0\n",
      "INFO:qibo.config:Using numpy backend on /CPU:0\n"
     ]
    },
    {
     "name": "stdout",
     "output_type": "stream",
     "text": [
      "In the VQE numpy\n"
     ]
    }
   ],
   "source": [
    "from boostvqe.utils import *\n",
    "gci = initialize_gci_from_vqe()\n",
    "\n",
    "\n"
   ]
  },
  {
   "cell_type": "code",
   "execution_count": 6,
   "metadata": {},
   "outputs": [],
   "source": [
    "\n",
    "a = gci.get_vqe_boosting_data()"
   ]
  },
  {
   "cell_type": "code",
   "execution_count": 7,
   "metadata": {},
   "outputs": [
    {
     "data": {
      "text/plain": [
       "{'gci_loss': -14.856898957126566,\n",
       " 'vqe_energy': -14.856898957126564,\n",
       " 'target_energy': -15.276131122065795,\n",
       " 'diff_vqe_target': 0.4192321649392312,\n",
       " 'diff_gci_target': 0.41923216493922943,\n",
       " 'gap': 1.0876654489812658,\n",
       " 'diff_vqe_target_perc': 2.744360869838739,\n",
       " 'diff_gci_target_perc': 2.7443608698387276,\n",
       " 'fidelity_witness_vqe': 0.6145577986945394,\n",
       " 'fidelity_witness_gci': 0.6145577986945394,\n",
       " 'fidelity_vqe': 0.7117360085280269,\n",
       " 'fidelity_gci': 0.7117360085280269,\n",
       " 'nmb_cz': 70,\n",
       " 'nmb_cnot': 0,\n",
       " 'nmb_cnot_relative': 7.0,\n",
       " 'nmb_cz_relative': 0.0}"
      ]
     },
     "execution_count": 7,
     "metadata": {},
     "output_type": "execute_result"
    }
   ],
   "source": [
    "a"
   ]
  },
  {
   "cell_type": "code",
   "execution_count": 4,
   "metadata": {},
   "outputs": [],
   "source": [
    "from boostvqe.models.dbi.group_commutator_iteration_transpiler import *\n",
    "b_list = [1+np.sin(x/3)for x in range(10)]\n",
    "eo_d_m_field = MagneticFieldEvolutionOracle(b_list)\n",
    "eo_d_nn = IsingNNEvolutionOracle(b_list, b_list)"
   ]
  },
  {
   "cell_type": "code",
   "execution_count": 5,
   "metadata": {},
   "outputs": [
    {
     "ename": "TypeError",
     "evalue": "select_recursion_step_gd_circuit() got an unexpected keyword argument 'use_gd'",
     "output_type": "error",
     "traceback": [
      "\u001b[0;31m---------------------------------------------------------------------------\u001b[0m",
      "\u001b[0;31mTypeError\u001b[0m                                 Traceback (most recent call last)",
      "Cell \u001b[0;32mIn[5], line 1\u001b[0m\n\u001b[0;32m----> 1\u001b[0m mode_dbr, minimizer_s, min_loss, eo_d \u001b[38;5;241m=\u001b[39m \u001b[43mselect_recursion_step_gd_circuit\u001b[49m\u001b[43m(\u001b[49m\n\u001b[1;32m      2\u001b[0m \u001b[43m    \u001b[49m\u001b[43mgci\u001b[49m\u001b[43m,\u001b[49m\u001b[43m \u001b[49m\u001b[43mmode_dbr_list\u001b[49m\u001b[43m \u001b[49m\u001b[38;5;241;43m=\u001b[39;49m\u001b[43m \u001b[49m\u001b[43m[\u001b[49m\u001b[43mDoubleBracketRotationType\u001b[49m\u001b[38;5;241;43m.\u001b[39;49m\u001b[43mgroup_commutator_third_order_reduced\u001b[49m\u001b[43m,\u001b[49m\u001b[43m \u001b[49m\n\u001b[1;32m      3\u001b[0m \u001b[43m                          \u001b[49m\u001b[43mDoubleBracketRotationType\u001b[49m\u001b[38;5;241;43m.\u001b[39;49m\u001b[43mgroup_commutator\u001b[49m\u001b[43m]\u001b[49m\u001b[43m,\u001b[49m\n\u001b[1;32m      4\u001b[0m \u001b[43m    \u001b[49m\u001b[43meo_d\u001b[49m\u001b[43m \u001b[49m\u001b[38;5;241;43m=\u001b[39;49m\u001b[43m \u001b[49m\u001b[43meo_d_nn\u001b[49m\u001b[43m,\u001b[49m\n\u001b[1;32m      5\u001b[0m \u001b[43m    \u001b[49m\u001b[43muse_gd\u001b[49m\u001b[43m \u001b[49m\u001b[38;5;241;43m=\u001b[39;49m\u001b[43m \u001b[49m\u001b[38;5;28;43;01mFalse\u001b[39;49;00m\u001b[43m,\u001b[49m\n\u001b[1;32m      6\u001b[0m \u001b[43m    \u001b[49m\u001b[43mstep_grid\u001b[49m\u001b[43m \u001b[49m\u001b[38;5;241;43m=\u001b[39;49m\u001b[43m \u001b[49m\u001b[43mnp\u001b[49m\u001b[38;5;241;43m.\u001b[39;49m\u001b[43mlinspace\u001b[49m\u001b[43m(\u001b[49m\u001b[38;5;241;43m1e-3\u001b[39;49m\u001b[43m,\u001b[49m\u001b[38;5;241;43m2e-2\u001b[39;49m\u001b[43m,\u001b[49m\u001b[38;5;241;43m10\u001b[39;49m\u001b[43m)\u001b[49m\u001b[43m,\u001b[49m\n\u001b[1;32m      7\u001b[0m \u001b[43m    \u001b[49m\u001b[43mplease_be_visual\u001b[49m\u001b[43m \u001b[49m\u001b[38;5;241;43m=\u001b[39;49m\u001b[43m \u001b[49m\u001b[38;5;28;43;01mTrue\u001b[39;49;00m\u001b[43m)\u001b[49m\n",
      "\u001b[0;31mTypeError\u001b[0m: select_recursion_step_gd_circuit() got an unexpected keyword argument 'use_gd'"
     ]
    }
   ],
   "source": [
    "mode_dbr, minimizer_s, min_loss, eo_d = select_recursion_step_gd_circuit(\n",
    "    gci, mode_dbr_list = [DoubleBracketRotationType.group_commutator_third_order_reduced, \n",
    "                          DoubleBracketRotationType.group_commutator],\n",
    "    eo_d = eo_d_nn,\n",
    "    use_gd = False,\n",
    "    step_grid = np.linspace(1e-3,2e-2,10),\n",
    "    please_be_visual = True)\n"
   ]
  },
  {
   "cell_type": "code",
   "execution_count": null,
   "metadata": {},
   "outputs": [
    {
     "name": "stdout",
     "output_type": "stream",
     "text": [
      "<boostvqe.models.dbi.double_bracket_evolution_oracles.MagneticFieldEvolutionOracle object at 0x7eb05cc5fc80> 0.01005 -14.977361372969742 {(0.0001, 0.0001): -14.860422551928544, (0.0001, 0.01005): -14.954229814559074, (0.0001, 0.02): -14.769059208349297, (0.0001, 0.005075): -14.961484813561384, (0.0001, 0.015025): -14.88064951323977, (0.50005, 0.0001): -14.858670427201794, (0.50005, 0.01005): -14.967868665304206, (0.50005, 0.02): -14.971270526602416, (0.50005, 0.02995): -14.896903185325453, (1, 0.0001): -14.856899473569793, (1, 0.01005): -14.856944381831411, (1, 0.02): -14.856978361148478, (1, 0.02995): -14.857003800302875, (1, 0.039900000000000005): -14.857022565555194, (1, 0.049850000000000005): -14.857036108793519, (1, 0.059800000000000006): -14.857045556018758, (1, 0.06975): -14.857051778102464, (1, 0.07970000000000001): -14.857055447163292, (1, 0.08965000000000001): -14.85705708136069, (1, 0.09960000000000001): -14.85705708037561, (0.250075, 0.0001): -14.85954964082741, (0.250075, 0.01005): -14.977361372969742, (0.250075, 0.02): -14.897271664077408, (0.250075, 0.005075): -14.951072879515232, (0.250075, 0.015025): -14.95523127498145, (0.7500249999999999, 0.0001): -14.857786503699886, (0.7500249999999999, 0.01005): -14.925534946478578, (0.7500249999999999, 0.02): -14.958126425817598, (0.7500249999999999, 0.02995): -14.961329665483177, (0.7500249999999999, 0.039900000000000005): -14.938207270797756}\n"
     ]
    }
   ],
   "source": [
    "\n",
    "step_grid = np.linspace(1e-3,2e-2,10)\n",
    "mode = gci.mode_double_bracket_rotation\n",
    "s, l, ls = gci.choose_step(d = eo_d,step_grid = step_grid, mode_dbr = mode)\n",
    "n_local= 1\n",
    "params =eo_d.b_list\n",
    "s_min, s_max = step_grid[0], step_grid[-1]\n",
    "lr_range = (1e-3, 1)\n",
    "lr_min, lr_max = lr_range[0], lr_range[-1]\n",
    "eo_d, s, l, eval_dict = choose_gd_params(gci, n_local, params, l, s, s_min, s_max, lr_min, lr_max, threshold =1e-4, max_eval = 10)\n",
    "\n",
    "loss_0 = l\n",
    "s_0 = s\n",
    "s_min=1e-4\n",
    "s_max=2e-2\n",
    "lr_min=1e-4\n",
    "lr_max=1\n",
    "threshold=1e-4\n",
    "max_eval=10\n",
    "please_be_adaptive = True\n",
    "please_be_verbose = False\n",
    "\n",
    "evaluated_points = {}\n",
    "max_eval = int(np.sqrt(max_eval))\n",
    "grad = gradient_numerical(gci.loss, n_local, params, loss_0, s_0)\n",
    "\n",
    "def loss_func_lr(lr):\n",
    "    filtered_entries = {k:v for k, v in evaluated_points.items() if k[0]==lr}\n",
    "    if len(filtered_entries) > 0:\n",
    "        return min(filtered_entries.values())\n",
    "    elif lr < 0:\n",
    "        return float(\"inf\")\n",
    "    else:\n",
    "        params_eval = (1 - grad*lr) * deepcopy(params)\n",
    "        eo_d = get_gd_evolution_oracle(n_local, params_eval)\n",
    "        # given lr find best possible s_min and loss_min\n",
    "        if please_be_adaptive:\n",
    "            best_s, best_loss, evaluated_points_s, exit_criterion = adaptive_binary_search(lambda s: gci.loss(s, eo_d) if s>0 else float(\"inf\"), \n",
    "                                                                                            threshold, s_min, s_max, max_eval)\n",
    "        else:\n",
    "            best_s, best_loss, evaluated_points_s = gci.choose_step(d = eo_d,s_min=1e-4, s_max=2e-2, max_eval = max_eval)\n",
    "\n",
    "        for s,l in evaluated_points_s.items():\n",
    "            if l < 0:\n",
    "                evaluated_points[(lr, s)] = l\n",
    "        if please_be_verbose:\n",
    "            print(f\"For lr = {lr} found optimal s = {best_s} yielding loss = {best_loss} after terminating with {exit_criterion}\")\n",
    "    return best_loss\n",
    "\n",
    "best_lr, best_loss, _ ,exit_criterion = adaptive_binary_search(loss_func_lr, threshold, lr_min, lr_max, max_eval)\n",
    "if please_be_verbose:\n",
    "    print(f\"For lr = {lr} found optimal s = {best_s} yielding loss = {best_loss} after terminating with {exit_criterion}\")\n",
    "eo_d = get_gd_evolution_oracle(n_local, (1-grad*best_lr)*deepcopy(params))\n",
    "# find best_s\n",
    "for (lr, s), loss in evaluated_points.items():\n",
    "    if lr == best_lr and loss == best_loss:\n",
    "        best_s = s\n",
    "print( eo_d, best_s, best_loss, evaluated_points)"
   ]
  },
  {
   "cell_type": "code",
   "execution_count": null,
   "metadata": {},
   "outputs": [
    {
     "data": {
      "text/plain": [
       "-14.977361372969742"
      ]
     },
     "execution_count": 6,
     "metadata": {},
     "output_type": "execute_result"
    }
   ],
   "source": [
    "gci.loss(best_s,eo_d)"
   ]
  },
  {
   "cell_type": "code",
   "execution_count": null,
   "metadata": {},
   "outputs": [],
   "source": [
    "params_eval = (1 - grad*best_lr) * deepcopy(params)\n",
    "eo_d = get_gd_evolution_oracle(n_local, params_eval)\n",
    "best_s, best_loss, evaluated_points_s, exit_criterion = adaptive_binary_search(lambda s: gci.loss(s, eo_d) if s>0 else float(\"inf\"), \n",
    "                                                                                            threshold, s_min, s_max, max_eval)"
   ]
  },
  {
   "cell_type": "code",
   "execution_count": null,
   "metadata": {},
   "outputs": [
    {
     "data": {
      "text/plain": [
       "-14.977361372969742"
      ]
     },
     "execution_count": 8,
     "metadata": {},
     "output_type": "execute_result"
    }
   ],
   "source": [
    "best_loss"
   ]
  },
  {
   "cell_type": "code",
   "execution_count": null,
   "metadata": {},
   "outputs": [],
   "source": []
  }
 ],
 "metadata": {
  "kernelspec": {
   "display_name": "DBF_qibo",
   "language": "python",
   "name": "python3"
  },
  "language_info": {
   "codemirror_mode": {
    "name": "ipython",
    "version": 3
   },
   "file_extension": ".py",
   "mimetype": "text/x-python",
   "name": "python",
   "nbconvert_exporter": "python",
   "pygments_lexer": "ipython3",
   "version": "3.12.3"
  }
 },
 "nbformat": 4,
 "nbformat_minor": 2
}
