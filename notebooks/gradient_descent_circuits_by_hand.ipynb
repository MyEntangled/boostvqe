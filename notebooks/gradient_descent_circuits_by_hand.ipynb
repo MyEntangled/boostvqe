{
 "cells": [
  {
   "cell_type": "markdown",
   "metadata": {},
   "source": [
    "# Tutorial on using the classes for transpiling DBQA strategies into various types of double-bracket rotations (DBRs)\n",
    "\n",
    "## 1. VQE results are loaded\n",
    "## 2. The GC3 DBR is shown using explicit circuits obtained from more basic and special purpose functions\n",
    "## 3. The same is done using the `GroupCommutatorIterationWithEvolutionOracles` class\n",
    "### 3.1. It is shown how to perform more steps of the GCI. \n",
    "Using the class approach one can just change `mode_double_bracket_rotation=DoubleBracketRotationType.group_commutator_third_order_reduced` to a different type and same code will run."
   ]
  },
  {
   "cell_type": "code",
   "execution_count": 1,
   "metadata": {},
   "outputs": [],
   "source": [
    "import json\n",
    "import time\n",
    "from pathlib import Path\n",
    "\n",
    "import numpy as np\n",
    "import qibo\n",
    "from qibo import hamiltonians, set_backend\n",
    "from boostvqe.models.dbi.double_bracket import (\n",
    "    DoubleBracketGeneratorType,\n",
    "    DoubleBracketIteration,\n",
    ")\n",
    "\n",
    "from boostvqe.ansatze import VQE, build_circuit\n",
    "from boostvqe.utils import apply_dbi_steps, rotate_h_with_vqe\n",
    "from qibo import symbols, hamiltonians\n",
    "from copy import deepcopy\n",
    "from boostvqe.compiling_XXZ import *\n",
    "\n",
    "import matplotlib.pyplot as plt"
   ]
  },
  {
   "cell_type": "markdown",
   "metadata": {},
   "source": [
    "## 1. Loading VQE results"
   ]
  },
  {
   "cell_type": "code",
   "execution_count": 2,
   "metadata": {},
   "outputs": [
    {
     "name": "stderr",
     "output_type": "stream",
     "text": [
      "[Qibo 0.2.9|INFO|2024-06-12 22:50:46]: Using numpy backend on /CPU:0\n",
      "INFO:qibo.config:Using numpy backend on /CPU:0\n",
      "[Qibo 0.2.9|INFO|2024-06-12 22:50:46]: Using numpy backend on /CPU:0\n",
      "INFO:qibo.config:Using numpy backend on /CPU:0\n"
     ]
    },
    {
     "name": "stdout",
     "output_type": "stream",
     "text": [
      "In the VQE numpy\n"
     ]
    }
   ],
   "source": [
    "\n",
    "qibo.set_backend(\"numpy\")\n",
    "\n",
    "# set the path string which define the results\n",
    "path = \"../results/vqe_data/with_params/10q3l/sgd_10q_3l_42/\"\n",
    "\n",
    "# set the target epoch to which apply DBQA and the number of steps\n",
    "target_epoch = 2000\n",
    "dbi_steps = 1\n",
    "\n",
    "# upload system configuration and parameters for all the training\n",
    "with open(path + \"optimization_results.json\") as file:\n",
    "    config = json.load(file)\n",
    "\n",
    "losses = dict(np.load(path + \"energies.npz\"))[\"0\"]\n",
    "params = np.load(path + f\"parameters/params_ite{target_epoch}.npy\")\n",
    "\n",
    "nqubits = config[\"nqubits\"]\n",
    "# build circuit, hamiltonian and VQE\n",
    "hamiltonian = hamiltonians.XXZ(nqubits=nqubits, delta=0.5)\n",
    "circuit = build_circuit(nqubits, config[\"nlayers\"], \"numpy\")\n",
    "vqe = VQE(circuit, hamiltonian)\n",
    "zero_state = hamiltonian.backend.zero_state(nqubits)\n",
    "zero_state_t = np.transpose([zero_state])\n",
    "target_energy = np.min(hamiltonian.eigenvalues())\n",
    "\n",
    "\n",
    "# set target parameters into the VQE\n",
    "vqe.circuit.set_parameters(params)\n",
    "vqe_state = vqe.circuit().state()\n",
    "\n",
    "ene1 = hamiltonian.expectation(vqe_state)\n"
   ]
  },
  {
   "cell_type": "code",
   "execution_count": 3,
   "metadata": {},
   "outputs": [
    {
     "name": "stdout",
     "output_type": "stream",
     "text": [
      "VQE energy is -14.560174594055583. \n",
      "The target energy is -15.276131122065795 which means the difference is 0.7159565280102118.\n",
      "The relative difference is 0.04686766055418572%.\n"
     ]
    }
   ],
   "source": [
    "print(f\"VQE energy is {ene1}. \\n\\\n",
    "The target energy is {target_energy} which means the difference is {ene1-target_energy}.\\n\\\n",
    "The relative difference is {abs(ene1-target_energy)/abs(target_energy)}%.\")"
   ]
  },
  {
   "cell_type": "markdown",
   "metadata": {},
   "source": [
    "# 2. try gradient descent\n",
    "$D= \\sum_i B_i Z_i$\n",
    "and Group commutator"
   ]
  },
  {
   "cell_type": "code",
   "execution_count": 4,
   "metadata": {},
   "outputs": [
    {
     "data": {
      "text/plain": [
       "10"
      ]
     },
     "execution_count": 4,
     "metadata": {},
     "output_type": "execute_result"
    }
   ],
   "source": [
    "b_list = [1+np.sin(x) for x in range(nqubits) ]\n",
    "#b_list = [-0.25024438, -0.12512219, -0.06256109, -0.03128055, -0.01564027, -0.00782014,\n",
    " -0.00391007, -0.00195503, -0.00097752, -0.00048876]\n",
    "len(b_list)\n"
   ]
  },
  {
   "cell_type": "code",
   "execution_count": 5,
   "metadata": {},
   "outputs": [
    {
     "data": {
      "text/plain": [
       "[<matplotlib.lines.Line2D at 0x7afe30c079e0>]"
      ]
     },
     "execution_count": 5,
     "metadata": {},
     "output_type": "execute_result"
    },
    {
     "data": {
      "image/png": "[encoded data removed]",
      "text/plain": [
       "<Figure size 640x480 with 1 Axes>"
      ]
     },
     "metadata": {},
     "output_type": "display_data"
    }
   ],
   "source": [
    "#b_list = np.random.rand(nqubits)\n",
    "d = hamiltonians.SymbolicHamiltonian( sum([b*symbols.Z(j) for j,b in zip(range(nqubits),b_list)]))\n",
    "\n",
    "plt.plot(b_list)"
   ]
  },
  {
   "cell_type": "code",
   "execution_count": 6,
   "metadata": {},
   "outputs": [
    {
     "data": {
      "text/plain": [
       "-14.55883015461238"
      ]
     },
     "execution_count": 6,
     "metadata": {},
     "output_type": "execute_result"
    }
   ],
   "source": [
    "\n",
    "\n",
    "from boostvqe.models.dbi.group_commutator_iteration_transpiler import *\n",
    "from boostvqe.models.dbi.double_bracket_evolution_oracles import *\n",
    "\n",
    "# quick hack how to use the method function hamiltonians.XXZ to get a simulable oracle\n",
    "hamiltonian.delta = 0.5\n",
    "hamiltonian.dense = hamiltonian\n",
    "eo_xxz = XXZ_EvolutionOracle(hamiltonian,mode_evolution_oracle=EvolutionOracleType.numerical, steps = 1, order = 2)\n",
    "eo_xxz.mode_evolution_oracle=EvolutionOracleType.hamiltonian_simulation\n",
    "#hack end\n",
    "\n",
    "# prescribe nmb of steps, otherwise there will be casting to dense and searching for a step duration (this can later be avoided with @shangtai non-classical simulation PR)\n",
    "eo_xxz.please_use_prescribed_nmb_ts_steps = 1\n",
    "\n",
    "# implement the rotate by VQE on the level of circuits\n",
    "fsoe  = FrameShiftedEvolutionOracle(eo_xxz, before_circuit=vqe.circuit.invert(), \n",
    "                                                        after_circuit=vqe.circuit,name=\"shifting by vqe\")\n",
    "\n",
    "# init gci with the vqe-rotated hamiltonian\n",
    "gci  = GroupCommutatorIterationWithEvolutionOracles(input_hamiltonian_evolution_oracle=fsoe, \n",
    "        mode_double_bracket_rotation=DoubleBracketRotationType.group_commutator_third_order_reduced)\n",
    "gci.h_ref = deepcopy(hamiltonian)\n",
    "# init the generator of the evolution,\n",
    "#  this is quite simple - just pass a diagonal SymbolicHamiltonian \n",
    "# and because it will be commuting we can use the member function circuit for compiling\n",
    "eo_d = EvolutionOracle(d,mode_evolution_oracle=EvolutionOracleType.hamiltonian_simulation,name = \"D(linear)\")\n",
    "eo_d.please_use_prescribed_nmb_ts_steps = 1\n",
    "step,loss = gci.choose_step(d = eo_d)\n",
    "# above we didn't gauge the time \\approx e^{x^2 [D,H]} but gci approximates e^{-sW} so takes a square root\n",
    "circ_boost = (  gci.group_commutator(step, eo_d)[\"forwards\"] +vqe.circuit )\n",
    "\n",
    "hamiltonian.expectation(circ_boost().state()) "
   ]
  },
  {
   "cell_type": "code",
   "execution_count": null,
   "metadata": {},
   "outputs": [],
   "source": []
  },
  {
   "cell_type": "code",
   "execution_count": 7,
   "metadata": {},
   "outputs": [],
   "source": [
    "def gradient_numerical_circuits(\n",
    "    dbi_object: DoubleBracketIteration,\n",
    "    d_params: list,\n",
    "    parameterization: ParameterizationTypes,\n",
    "    s: float = 1e-2,\n",
    "    delta: float = 1e-3,\n",
    "    backend=None,\n",
    "    loss_0 = None,\n",
    "    **kwargs,\n",
    "):\n",
    "    r\"\"\"\n",
    "    Gradient of the DBI with respect to the parametrization of D. A simple finite difference is used to calculate the gradient.\n",
    "\n",
    "    Args:\n",
    "        dbi_object (DoubleBracketIteration): DoubleBracketIteration object.\n",
    "        d_params (np.array): Parameters for the ansatz (note that the dimension must be 2**nqubits for full ansazt and nqubits for Pauli ansatz).\n",
    "        s (float): A short flow duration for finding the numerical gradient.\n",
    "        delta (float): Step size for numerical gradient.\n",
    "    Returns:\n",
    "        grad (np.array): Gradient of the D operator.\n",
    "    \"\"\"\n",
    "\n",
    "    nqubits = dbi_object.nqubits\n",
    "    grad = np.zeros(len(d_params))\n",
    "    d = params_to_diagonal_operator(\n",
    "        d_params, nqubits, parameterization=parameterization, **kwargs\n",
    "    )\n",
    "    if loss_0 is None:\n",
    "        loss_0 = dbi_object.loss(s, d)\n",
    "    for i in range(len(d_params)):\n",
    "        params_new = deepcopy(d_params)\n",
    "        params_new[i] += delta\n",
    "        d_new = params_to_diagonal_operator(\n",
    "            params_new, nqubits, parameterization=parameterization, **kwargs\n",
    "        )\n",
    "        # find the increment of a very small step\n",
    "        grad[i] = (dbi_object.loss(s, d_new) - loss_0 ) / delta\n",
    "    return grad"
   ]
  },
  {
   "cell_type": "code",
   "execution_count": 8,
   "metadata": {},
   "outputs": [],
   "source": [
    "grad = gradient_numerical_circuits(\n",
    "    gci,\n",
    "    b_list,\n",
    "    ParameterizationTypes.circuits,\n",
    "    s=1e-4\n",
    ")"
   ]
  },
  {
   "cell_type": "code",
   "execution_count": 9,
   "metadata": {},
   "outputs": [
    {
     "data": {
      "text/plain": [
       "array([-0.00023595, -0.00029018, -0.00031306, -0.00034537, -0.0003095 ,\n",
       "       -0.00021277, -0.00031808, -0.00039002, -0.00026142, -0.0002493 ])"
      ]
     },
     "execution_count": 9,
     "metadata": {},
     "output_type": "execute_result"
    }
   ],
   "source": [
    "grad"
   ]
  },
  {
   "cell_type": "code",
   "execution_count": 10,
   "metadata": {},
   "outputs": [],
   "source": [
    "def gradient_descent_circuits(\n",
    "    dbi_object: DoubleBracketIteration,\n",
    "    train_epochs: int,\n",
    "    d_params_init: list,\n",
    "    lr: float = 1e-2,\n",
    "    step_guess = 0.01\n",
    "):\n",
    "\n",
    "    nqubits = dbi_object.nqubits\n",
    "\n",
    "    d_params_store = []\n",
    "    s_store = []\n",
    "    loss_store = []\n",
    "\n",
    "\n",
    "    d_init = params_to_diagonal_operator(\n",
    "                d_params_init,\n",
    "                nqubits,\n",
    "                parameterization=ParameterizationTypes.circuits\n",
    "            )\n",
    "    s,loss = gci.choose_step(d = d_init, max_evals = 50)\n",
    "    print(loss)\n",
    "    d_params_test = d_params_init\n",
    "    for i in range(train_epochs):\n",
    "        print(i)\n",
    "        # find gradient\n",
    "        grad = gradient_numerical_circuits(\n",
    "            dbi_object,\n",
    "            d_params_test,\n",
    "            ParameterizationTypes.circuits,\n",
    "            s=0.004,\n",
    "            loss_0 = loss\n",
    "        )\n",
    "        d_params_store_lr = []\n",
    "        s_store_lr = []\n",
    "        loss_store_lr = []\n",
    "        for lr in np.linspace(1,1e3,9):\n",
    "            d_params_test = [d_params_init[j] - grad[j] * lr for j in range(len(grad))]\n",
    "            d = params_to_diagonal_operator(\n",
    "                d_params_test,\n",
    "                nqubits,\n",
    "                parameterization=ParameterizationTypes.circuits\n",
    "            )\n",
    "            #step_guess, loss = dbi_object.choose_step(d=d,step_min=1e-5,step_max=0.1, max_evals=35,verbose=False)\n",
    "            print(loss)\n",
    "\n",
    "            d_params_store_lr.append(d_params_test)\n",
    "            s_store_lr.append(step_guess)\n",
    "            loss_store_lr.append(loss)\n",
    "        # store values\n",
    "        loss = min(loss_store_lr)\n",
    "\n",
    "        idx_min = loss_store_lr.index(loss)\n",
    "\n",
    "        d_params_test = d_params_store_lr[idx_min]  \n",
    "        d_params_store.append(d_params_test)      \n",
    "        step_guess = s_store_lr[idx_min]\n",
    "        s_store.append(step_guess)\n",
    "        loss_store.append(loss)\n",
    "\n",
    "        print(loss_store_lr[idx_min])\n",
    "        # choose the minimum loss from store\n",
    "    min_loss = min(loss_store)\n",
    "    idx_min = loss_store.index(min_loss)\n",
    "    d_params_test = d_params_store[idx_min]\n",
    "    s = s_store[idx_min]\n",
    "\n",
    "    return d_params_test, s, min_loss"
   ]
  },
  {
   "cell_type": "code",
   "execution_count": 11,
   "metadata": {},
   "outputs": [
    {
     "name": "stdout",
     "output_type": "stream",
     "text": [
      "-14.55883015461235\n",
      "0\n",
      "-14.765763051133575\n",
      "-14.56396888543918\n",
      "-14.556996750058786\n",
      "-14.559534222271996\n",
      "-14.560317782059034\n",
      "-14.648238051004892\n",
      "-14.557038994906328\n",
      "-14.563321090748923\n"
     ]
    },
    {
     "ename": "KeyboardInterrupt",
     "evalue": "",
     "output_type": "error",
     "traceback": [
      "\u001b[0;31m---------------------------------------------------------------------------\u001b[0m",
      "\u001b[0;31mKeyboardInterrupt\u001b[0m                         Traceback (most recent call last)",
      "Cell \u001b[0;32mIn[11], line 1\u001b[0m\n\u001b[0;32m----> 1\u001b[0m d_params_test, s, min_loss \u001b[38;5;241m=\u001b[39m \u001b[43mgradient_descent_circuits\u001b[49m\u001b[43m(\u001b[49m\n\u001b[1;32m      2\u001b[0m \u001b[43mgci\u001b[49m\u001b[43m,\u001b[49m\n\u001b[1;32m      3\u001b[0m \u001b[43m \u001b[49m\u001b[43mtrain_epochs\u001b[49m\u001b[38;5;241;43m=\u001b[39;49m\u001b[38;5;241;43m1\u001b[39;49m\u001b[43m,\u001b[49m\n\u001b[1;32m      4\u001b[0m \u001b[43m   \u001b[49m\u001b[43md_params_init\u001b[49m\u001b[38;5;241;43m=\u001b[39;49m\u001b[43mb_list\u001b[49m\u001b[43m,\u001b[49m\n\u001b[1;32m      5\u001b[0m \u001b[43m   \u001b[49m\u001b[43mlr\u001b[49m\u001b[38;5;241;43m=\u001b[39;49m\u001b[38;5;241;43m1\u001b[39;49m\n\u001b[1;32m      6\u001b[0m \u001b[43m)\u001b[49m\n",
      "Cell \u001b[0;32mIn[10], line 44\u001b[0m, in \u001b[0;36mgradient_descent_circuits\u001b[0;34m(dbi_object, train_epochs, d_params_init, lr, step_guess)\u001b[0m\n\u001b[1;32m     38\u001b[0m d_params_test \u001b[38;5;241m=\u001b[39m [d_params_init[j] \u001b[38;5;241m-\u001b[39m grad[j] \u001b[38;5;241m*\u001b[39m lr \u001b[38;5;28;01mfor\u001b[39;00m j \u001b[38;5;129;01min\u001b[39;00m \u001b[38;5;28mrange\u001b[39m(\u001b[38;5;28mlen\u001b[39m(grad))]\n\u001b[1;32m     39\u001b[0m d \u001b[38;5;241m=\u001b[39m params_to_diagonal_operator(\n\u001b[1;32m     40\u001b[0m     d_params_test,\n\u001b[1;32m     41\u001b[0m     nqubits,\n\u001b[1;32m     42\u001b[0m     parameterization\u001b[38;5;241m=\u001b[39mParameterizationTypes\u001b[38;5;241m.\u001b[39mcircuits\n\u001b[1;32m     43\u001b[0m )\n\u001b[0;32m---> 44\u001b[0m step_guess, loss \u001b[38;5;241m=\u001b[39m \u001b[43mdbi_object\u001b[49m\u001b[38;5;241;43m.\u001b[39;49m\u001b[43mchoose_step\u001b[49m\u001b[43m(\u001b[49m\u001b[43md\u001b[49m\u001b[38;5;241;43m=\u001b[39;49m\u001b[43md\u001b[49m\u001b[43m,\u001b[49m\u001b[43mstep_min\u001b[49m\u001b[38;5;241;43m=\u001b[39;49m\u001b[38;5;241;43m1e-5\u001b[39;49m\u001b[43m,\u001b[49m\u001b[43mstep_max\u001b[49m\u001b[38;5;241;43m=\u001b[39;49m\u001b[38;5;241;43m0.1\u001b[39;49m\u001b[43m,\u001b[49m\u001b[43m \u001b[49m\u001b[43mmax_evals\u001b[49m\u001b[38;5;241;43m=\u001b[39;49m\u001b[38;5;241;43m35\u001b[39;49m\u001b[43m,\u001b[49m\u001b[43mverbose\u001b[49m\u001b[38;5;241;43m=\u001b[39;49m\u001b[38;5;28;43;01mFalse\u001b[39;49;00m\u001b[43m)\u001b[49m\n\u001b[1;32m     45\u001b[0m \u001b[38;5;28mprint\u001b[39m(loss)\n\u001b[1;32m     47\u001b[0m d_params_store_lr\u001b[38;5;241m.\u001b[39mappend(d_params_test)\n",
      "File \u001b[0;32m~/Projectes_git/boostvqe/src/boostvqe/models/dbi/group_commutator_iteration_transpiler.py:277\u001b[0m, in \u001b[0;36mGroupCommutatorIterationWithEvolutionOracles.choose_step\u001b[0;34m(self, step_min, step_max, s_guess, max_evals, space, optimizer, look_ahead, verbose, d)\u001b[0m\n\u001b[1;32m    275\u001b[0m circ_boost \u001b[38;5;241m=\u001b[39m \u001b[38;5;28mself\u001b[39m\u001b[38;5;241m.\u001b[39miterated_hamiltonian_evolution_oracle\u001b[38;5;241m.\u001b[39mget_composed_circuit()\n\u001b[1;32m    276\u001b[0m \u001b[38;5;28;01mfor\u001b[39;00m s \u001b[38;5;129;01min\u001b[39;00m times:\n\u001b[0;32m--> 277\u001b[0m     losses\u001b[38;5;241m.\u001b[39mappend(\u001b[38;5;28;43mself\u001b[39;49m\u001b[38;5;241;43m.\u001b[39;49m\u001b[43mloss\u001b[49m\u001b[43m(\u001b[49m\u001b[43ms\u001b[49m\u001b[43m,\u001b[49m\u001b[43md\u001b[49m\u001b[43m)\u001b[49m)\n\u001b[1;32m    278\u001b[0m \u001b[38;5;28;01mif\u001b[39;00m verbose:\n\u001b[1;32m    279\u001b[0m     \u001b[38;5;28mprint\u001b[39m(losses)\n",
      "File \u001b[0;32m~/Projectes_git/boostvqe/src/boostvqe/models/dbi/group_commutator_iteration_transpiler.py:258\u001b[0m, in \u001b[0;36mGroupCommutatorIterationWithEvolutionOracles.loss\u001b[0;34m(self, step, eo_d)\u001b[0m\n\u001b[1;32m    246\u001b[0m \u001b[38;5;250m\u001b[39m\u001b[38;5;124;03m\"\"\"\u001b[39;00m\n\u001b[1;32m    247\u001b[0m \u001b[38;5;124;03mCompute loss function distance between `look_ahead` steps.\u001b[39;00m\n\u001b[1;32m    248\u001b[0m \n\u001b[0;32m   (...)\u001b[0m\n\u001b[1;32m    252\u001b[0m \u001b[38;5;124;03m    look_ahead (int): number of iteration steps to compute the loss function;\u001b[39;00m\n\u001b[1;32m    253\u001b[0m \u001b[38;5;124;03m\"\"\"\u001b[39;00m\n\u001b[1;32m    255\u001b[0m circ \u001b[38;5;241m=\u001b[39m \u001b[38;5;28mself\u001b[39m\u001b[38;5;241m.\u001b[39mgroup_commutator(step, eo_d)[\u001b[38;5;124m\"\u001b[39m\u001b[38;5;124mforwards\u001b[39m\u001b[38;5;124m\"\u001b[39m] \u001b[38;5;241m+\u001b[39m \\\n\u001b[1;32m    256\u001b[0m     \u001b[38;5;28mself\u001b[39m\u001b[38;5;241m.\u001b[39miterated_hamiltonian_evolution_oracle\u001b[38;5;241m.\u001b[39mget_composed_circuit()  \n\u001b[1;32m    257\u001b[0m \u001b[38;5;28;01mreturn\u001b[39;00m \u001b[38;5;28mself\u001b[39m\u001b[38;5;241m.\u001b[39mh_ref\u001b[38;5;241m.\u001b[39mexpectation(\n\u001b[0;32m--> 258\u001b[0m     \u001b[43mcirc\u001b[49m\u001b[43m(\u001b[49m\u001b[43m)\u001b[49m\u001b[38;5;241m.\u001b[39mstate()\n\u001b[1;32m    259\u001b[0m )\n",
      "File \u001b[0;32m~/Projectes_git/qibo/src/qibo/models/circuit.py:1115\u001b[0m, in \u001b[0;36mCircuit.__call__\u001b[0;34m(self, initial_state, nshots)\u001b[0m\n\u001b[1;32m   1113\u001b[0m \u001b[38;5;28;01mdef\u001b[39;00m \u001b[38;5;21m__call__\u001b[39m(\u001b[38;5;28mself\u001b[39m, initial_state\u001b[38;5;241m=\u001b[39m\u001b[38;5;28;01mNone\u001b[39;00m, nshots\u001b[38;5;241m=\u001b[39m\u001b[38;5;241m1000\u001b[39m):\n\u001b[1;32m   1114\u001b[0m \u001b[38;5;250m    \u001b[39m\u001b[38;5;124;03m\"\"\"Equivalent to ``circuit.execute``.\"\"\"\u001b[39;00m\n\u001b[0;32m-> 1115\u001b[0m     \u001b[38;5;28;01mreturn\u001b[39;00m \u001b[38;5;28;43mself\u001b[39;49m\u001b[38;5;241;43m.\u001b[39;49m\u001b[43mexecute\u001b[49m\u001b[43m(\u001b[49m\u001b[43minitial_state\u001b[49m\u001b[38;5;241;43m=\u001b[39;49m\u001b[43minitial_state\u001b[49m\u001b[43m,\u001b[49m\u001b[43m \u001b[49m\u001b[43mnshots\u001b[49m\u001b[38;5;241;43m=\u001b[39;49m\u001b[43mnshots\u001b[49m\u001b[43m)\u001b[49m\n",
      "File \u001b[0;32m~/Projectes_git/qibo/src/qibo/models/circuit.py:1111\u001b[0m, in \u001b[0;36mCircuit.execute\u001b[0;34m(self, initial_state, nshots)\u001b[0m\n\u001b[1;32m   1107\u001b[0m     \u001b[38;5;28;01mreturn\u001b[39;00m GlobalBackend()\u001b[38;5;241m.\u001b[39mexecute_distributed_circuit(\n\u001b[1;32m   1108\u001b[0m         \u001b[38;5;28mself\u001b[39m, initial_state, nshots\n\u001b[1;32m   1109\u001b[0m     )\n\u001b[1;32m   1110\u001b[0m \u001b[38;5;28;01melse\u001b[39;00m:\n\u001b[0;32m-> 1111\u001b[0m     \u001b[38;5;28;01mreturn\u001b[39;00m \u001b[43mGlobalBackend\u001b[49m\u001b[43m(\u001b[49m\u001b[43m)\u001b[49m\u001b[38;5;241;43m.\u001b[39;49m\u001b[43mexecute_circuit\u001b[49m\u001b[43m(\u001b[49m\u001b[38;5;28;43mself\u001b[39;49m\u001b[43m,\u001b[49m\u001b[43m \u001b[49m\u001b[43minitial_state\u001b[49m\u001b[43m,\u001b[49m\u001b[43m \u001b[49m\u001b[43mnshots\u001b[49m\u001b[43m)\u001b[49m\n",
      "File \u001b[0;32m~/Projectes_git/qibo/src/qibo/backends/numpy.py:436\u001b[0m, in \u001b[0;36mNumpyBackend.execute_circuit\u001b[0;34m(self, circuit, initial_state, nshots)\u001b[0m\n\u001b[1;32m    433\u001b[0m         state \u001b[38;5;241m=\u001b[39m \u001b[38;5;28mself\u001b[39m\u001b[38;5;241m.\u001b[39mcast(initial_state)\n\u001b[1;32m    435\u001b[0m     \u001b[38;5;28;01mfor\u001b[39;00m gate \u001b[38;5;129;01min\u001b[39;00m circuit\u001b[38;5;241m.\u001b[39mqueue:\n\u001b[0;32m--> 436\u001b[0m         state \u001b[38;5;241m=\u001b[39m \u001b[43mgate\u001b[49m\u001b[38;5;241;43m.\u001b[39;49m\u001b[43mapply\u001b[49m\u001b[43m(\u001b[49m\u001b[38;5;28;43mself\u001b[39;49m\u001b[43m,\u001b[49m\u001b[43m \u001b[49m\u001b[43mstate\u001b[49m\u001b[43m,\u001b[49m\u001b[43m \u001b[49m\u001b[43mnqubits\u001b[49m\u001b[43m)\u001b[49m\n\u001b[1;32m    438\u001b[0m \u001b[38;5;28;01mif\u001b[39;00m circuit\u001b[38;5;241m.\u001b[39mhas_unitary_channel:\n\u001b[1;32m    439\u001b[0m     \u001b[38;5;66;03m# here we necessarily have `density_matrix=True`, otherwise\u001b[39;00m\n\u001b[1;32m    440\u001b[0m     \u001b[38;5;66;03m# execute_circuit_repeated would have been called\u001b[39;00m\n\u001b[1;32m    441\u001b[0m     \u001b[38;5;28;01mif\u001b[39;00m circuit\u001b[38;5;241m.\u001b[39mmeasurements:\n",
      "File \u001b[0;32m~/Projectes_git/qibo/src/qibo/gates/abstract.py:393\u001b[0m, in \u001b[0;36mGate.apply\u001b[0;34m(self, backend, state, nqubits)\u001b[0m\n\u001b[1;32m    392\u001b[0m \u001b[38;5;28;01mdef\u001b[39;00m \u001b[38;5;21mapply\u001b[39m(\u001b[38;5;28mself\u001b[39m, backend, state, nqubits):\n\u001b[0;32m--> 393\u001b[0m     \u001b[38;5;28;01mreturn\u001b[39;00m \u001b[43mbackend\u001b[49m\u001b[38;5;241;43m.\u001b[39;49m\u001b[43mapply_gate\u001b[49m\u001b[43m(\u001b[49m\u001b[38;5;28;43mself\u001b[39;49m\u001b[43m,\u001b[49m\u001b[43m \u001b[49m\u001b[43mstate\u001b[49m\u001b[43m,\u001b[49m\u001b[43m \u001b[49m\u001b[43mnqubits\u001b[49m\u001b[43m)\u001b[49m\n",
      "File \u001b[0;32m~/Projectes_git/qibo/src/qibo/backends/numpy.py:198\u001b[0m, in \u001b[0;36mNumpyBackend.apply_gate\u001b[0;34m(self, gate, state, nqubits)\u001b[0m\n\u001b[1;32m    196\u001b[0m \u001b[38;5;28;01melse\u001b[39;00m:\n\u001b[1;32m    197\u001b[0m     matrix \u001b[38;5;241m=\u001b[39m \u001b[38;5;28mself\u001b[39m\u001b[38;5;241m.\u001b[39mnp\u001b[38;5;241m.\u001b[39mreshape(matrix, \u001b[38;5;241m2\u001b[39m \u001b[38;5;241m*\u001b[39m \u001b[38;5;28mlen\u001b[39m(gate\u001b[38;5;241m.\u001b[39mqubits) \u001b[38;5;241m*\u001b[39m (\u001b[38;5;241m2\u001b[39m,))\n\u001b[0;32m--> 198\u001b[0m     opstring \u001b[38;5;241m=\u001b[39m \u001b[43meinsum_utils\u001b[49m\u001b[38;5;241;43m.\u001b[39;49m\u001b[43mapply_gate_string\u001b[49m\u001b[43m(\u001b[49m\u001b[43mgate\u001b[49m\u001b[38;5;241;43m.\u001b[39;49m\u001b[43mqubits\u001b[49m\u001b[43m,\u001b[49m\u001b[43m \u001b[49m\u001b[43mnqubits\u001b[49m\u001b[43m)\u001b[49m\n\u001b[1;32m    199\u001b[0m     state \u001b[38;5;241m=\u001b[39m \u001b[38;5;28mself\u001b[39m\u001b[38;5;241m.\u001b[39mnp\u001b[38;5;241m.\u001b[39meinsum(opstring, state, matrix)\n\u001b[1;32m    200\u001b[0m \u001b[38;5;28;01mreturn\u001b[39;00m \u001b[38;5;28mself\u001b[39m\u001b[38;5;241m.\u001b[39mnp\u001b[38;5;241m.\u001b[39mreshape(state, (\u001b[38;5;241m2\u001b[39m\u001b[38;5;241m*\u001b[39m\u001b[38;5;241m*\u001b[39mnqubits,))\n",
      "File \u001b[0;32m~/Projectes_git/qibo/src/qibo/backends/einsum_utils.py:29\u001b[0m, in \u001b[0;36mapply_gate_string\u001b[0;34m(qubits, nqubits)\u001b[0m\n\u001b[1;32m     28\u001b[0m \u001b[38;5;28;01mdef\u001b[39;00m \u001b[38;5;21mapply_gate_string\u001b[39m(qubits, nqubits):\n\u001b[0;32m---> 29\u001b[0m     inp, out, trans, _ \u001b[38;5;241m=\u001b[39m \u001b[43mprepare_strings\u001b[49m\u001b[43m(\u001b[49m\u001b[43mqubits\u001b[49m\u001b[43m,\u001b[49m\u001b[43m \u001b[49m\u001b[43mnqubits\u001b[49m\u001b[43m)\u001b[49m\n\u001b[1;32m     30\u001b[0m     \u001b[38;5;28;01mreturn\u001b[39;00m \u001b[38;5;124mf\u001b[39m\u001b[38;5;124m\"\u001b[39m\u001b[38;5;132;01m{\u001b[39;00minp\u001b[38;5;132;01m}\u001b[39;00m\u001b[38;5;124m,\u001b[39m\u001b[38;5;132;01m{\u001b[39;00mtrans\u001b[38;5;132;01m}\u001b[39;00m\u001b[38;5;124m->\u001b[39m\u001b[38;5;132;01m{\u001b[39;00mout\u001b[38;5;132;01m}\u001b[39;00m\u001b[38;5;124m\"\u001b[39m\n",
      "File \u001b[0;32m~/Projectes_git/qibo/src/qibo/backends/einsum_utils.py:22\u001b[0m, in \u001b[0;36mprepare_strings\u001b[0;34m(qubits, nqubits)\u001b[0m\n\u001b[1;32m     19\u001b[0m     out[q] \u001b[38;5;241m=\u001b[39m trans[i]\n\u001b[1;32m     21\u001b[0m inp \u001b[38;5;241m=\u001b[39m \u001b[38;5;124m\"\u001b[39m\u001b[38;5;124m\"\u001b[39m\u001b[38;5;241m.\u001b[39mjoin(inp)\n\u001b[0;32m---> 22\u001b[0m out \u001b[38;5;241m=\u001b[39m \u001b[38;5;124;43m\"\u001b[39;49m\u001b[38;5;124;43m\"\u001b[39;49m\u001b[38;5;241;43m.\u001b[39;49m\u001b[43mjoin\u001b[49m\u001b[43m(\u001b[49m\u001b[43mout\u001b[49m\u001b[43m)\u001b[49m\n\u001b[1;32m     23\u001b[0m trans \u001b[38;5;241m=\u001b[39m \u001b[38;5;124m\"\u001b[39m\u001b[38;5;124m\"\u001b[39m\u001b[38;5;241m.\u001b[39mjoin(trans)\n\u001b[1;32m     24\u001b[0m rest \u001b[38;5;241m=\u001b[39m EINSUM_CHARS[nqubits \u001b[38;5;241m+\u001b[39m \u001b[38;5;28mlen\u001b[39m(qubits) :]\n",
      "\u001b[0;31mKeyboardInterrupt\u001b[0m: "
     ]
    }
   ],
   "source": [
    "d_params_test, s, min_loss = gradient_descent_circuits(\n",
    "gci,\n",
    " train_epochs=1,\n",
    "   d_params_init=b_list,\n",
    "   lr=1\n",
    ")"
   ]
  },
  {
   "cell_type": "code",
   "execution_count": null,
   "metadata": {},
   "outputs": [
    {
     "data": {
      "text/plain": [
       "-0.013923057065984068"
      ]
     },
     "execution_count": 17,
     "metadata": {},
     "output_type": "execute_result"
    }
   ],
   "source": [
    "np.max(np.array(d_params_test) - np.array(b_list))"
   ]
  },
  {
   "cell_type": "code",
   "execution_count": null,
   "metadata": {},
   "outputs": [
    {
     "data": {
      "text/plain": [
       "[<matplotlib.lines.Line2D at 0x7611896cc4a0>]"
      ]
     },
     "execution_count": 18,
     "metadata": {},
     "output_type": "execute_result"
    },
    {
     "data": {
      "image/png": "[encoded data removed]",
      "text/plain": [
       "<Figure size 640x480 with 1 Axes>"
      ]
     },
     "metadata": {},
     "output_type": "display_data"
    }
   ],
   "source": [
    "plt.plot(d_params_test)\n",
    "plt.plot(b_list)"
   ]
  },
  {
   "cell_type": "code",
   "execution_count": null,
   "metadata": {},
   "outputs": [],
   "source": [
    "step,loss = gci.choose_step(d = eo_d,step_min=0.0001,step_max=1.15*0.01, max_evals=25)"
   ]
  },
  {
   "cell_type": "code",
   "execution_count": null,
   "metadata": {},
   "outputs": [
    {
     "data": {
      "text/plain": [
       "-14.768439513327529"
      ]
     },
     "execution_count": 35,
     "metadata": {},
     "output_type": "execute_result"
    }
   ],
   "source": [
    "loss"
   ]
  },
  {
   "cell_type": "code",
   "execution_count": null,
   "metadata": {},
   "outputs": [
    {
     "data": {
      "text/plain": [
       "0.011025"
      ]
     },
     "execution_count": 36,
     "metadata": {},
     "output_type": "execute_result"
    }
   ],
   "source": [
    "step"
   ]
  },
  {
   "cell_type": "code",
   "execution_count": null,
   "metadata": {},
   "outputs": [],
   "source": []
  }
 ],
 "metadata": {
  "kernelspec": {
   "display_name": "Python 3",
   "language": "python",
   "name": "python3"
  },
  "language_info": {
   "codemirror_mode": {
    "name": "ipython",
    "version": 3
   },
   "file_extension": ".py",
   "mimetype": "text/x-python",
   "name": "python",
   "nbconvert_exporter": "python",
   "pygments_lexer": "ipython3",
   "version": "3.12.3"
  }
 },
 "nbformat": 4,
 "nbformat_minor": 2
}
