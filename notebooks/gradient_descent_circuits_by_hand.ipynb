{
 "cells": [
  {
   "cell_type": "markdown",
   "metadata": {},
   "source": [
    "# Tutorial on using the classes for transpiling DBQA strategies into various types of double-bracket rotations (DBRs)\n",
    "\n",
    "## 1. VQE results are loaded\n",
    "## 2. The GC3 DBR is shown using explicit circuits obtained from more basic and special purpose functions\n",
    "## 3. The same is done using the `GroupCommutatorIterationWithEvolutionOracles` class\n",
    "### 3.1. It is shown how to perform more steps of the GCI. \n",
    "Using the class approach one can just change `mode_double_bracket_rotation=DoubleBracketRotationType.group_commutator_third_order_reduced` to a different type and same code will run."
   ]
  },
  {
   "cell_type": "code",
   "execution_count": 1,
   "metadata": {},
   "outputs": [],
   "source": [
    "import json\n",
    "import time\n",
    "from pathlib import Path\n",
    "\n",
    "import numpy as np\n",
    "import qibo\n",
    "from qibo import hamiltonians, set_backend\n",
    "from boostvqe.models.dbi.double_bracket import (\n",
    "    DoubleBracketGeneratorType,\n",
    "    DoubleBracketIteration,\n",
    ")\n",
    "\n",
    "from boostvqe.ansatze import VQE, build_circuit\n",
    "from boostvqe.utils import apply_dbi_steps, rotate_h_with_vqe\n",
    "from qibo import symbols, hamiltonians\n",
    "from copy import deepcopy\n",
    "from boostvqe.compiling_XXZ import *\n",
    "\n",
    "import matplotlib.pyplot as plt"
   ]
  },
  {
   "cell_type": "markdown",
   "metadata": {},
   "source": [
    "## 1. Loading VQE results"
   ]
  },
  {
   "cell_type": "code",
   "execution_count": 2,
   "metadata": {},
   "outputs": [
    {
     "name": "stderr",
     "output_type": "stream",
     "text": [
      "[Qibo 0.2.9|INFO|2024-06-12 18:38:12]: Using numpy backend on /CPU:0\n",
      "INFO:qibo.config:Using numpy backend on /CPU:0\n",
      "[Qibo 0.2.9|INFO|2024-06-12 18:38:13]: Using numpy backend on /CPU:0\n",
      "INFO:qibo.config:Using numpy backend on /CPU:0\n"
     ]
    },
    {
     "name": "stdout",
     "output_type": "stream",
     "text": [
      "In the VQE numpy\n"
     ]
    }
   ],
   "source": [
    "\n",
    "qibo.set_backend(\"numpy\")\n",
    "\n",
    "# set the path string which define the results\n",
    "path = \"../results/vqe_data/with_params/10q3l/sgd_10q_3l_42/\"\n",
    "\n",
    "# set the target epoch to which apply DBQA and the number of steps\n",
    "target_epoch = 2000\n",
    "dbi_steps = 1\n",
    "\n",
    "# upload system configuration and parameters for all the training\n",
    "with open(path + \"optimization_results.json\") as file:\n",
    "    config = json.load(file)\n",
    "\n",
    "losses = dict(np.load(path + \"energies.npz\"))[\"0\"]\n",
    "params = np.load(path + f\"parameters/params_ite{target_epoch}.npy\")\n",
    "\n",
    "nqubits = config[\"nqubits\"]\n",
    "# build circuit, hamiltonian and VQE\n",
    "hamiltonian = hamiltonians.XXZ(nqubits=nqubits, delta=0.5)\n",
    "circuit = build_circuit(nqubits, config[\"nlayers\"], \"numpy\")\n",
    "vqe = VQE(circuit, hamiltonian)\n",
    "zero_state = hamiltonian.backend.zero_state(nqubits)\n",
    "zero_state_t = np.transpose([zero_state])\n",
    "target_energy = np.min(hamiltonian.eigenvalues())\n",
    "\n",
    "\n",
    "# set target parameters into the VQE\n",
    "vqe.circuit.set_parameters(params)\n",
    "vqe_state = vqe.circuit().state()\n",
    "\n",
    "ene1 = hamiltonian.expectation(vqe_state)\n"
   ]
  },
  {
   "cell_type": "code",
   "execution_count": 3,
   "metadata": {},
   "outputs": [
    {
     "name": "stdout",
     "output_type": "stream",
     "text": [
      "VQE energy is -14.560174594055583. \n",
      "The target energy is -15.276131122065795 which means the difference is 0.7159565280102118.\n",
      "The relative difference is 0.04686766055418572%.\n"
     ]
    }
   ],
   "source": [
    "print(f\"VQE energy is {ene1}. \\n\\\n",
    "The target energy is {target_energy} which means the difference is {ene1-target_energy}.\\n\\\n",
    "The relative difference is {abs(ene1-target_energy)/abs(target_energy)}%.\")"
   ]
  },
  {
   "cell_type": "markdown",
   "metadata": {},
   "source": [
    "# 2. try gradient descent\n",
    "$D= \\sum_i B_i Z_i$\n",
    "and Group commutator"
   ]
  },
  {
   "cell_type": "code",
   "execution_count": 4,
   "metadata": {},
   "outputs": [
    {
     "data": {
      "text/plain": [
       "[<matplotlib.lines.Line2D at 0x761189c8df10>]"
      ]
     },
     "execution_count": 4,
     "metadata": {},
     "output_type": "execute_result"
    },
    {
     "data": {
      "image/png": "[encoded data removed]",
      "text/plain": [
       "<Figure size 640x480 with 1 Axes>"
      ]
     },
     "metadata": {},
     "output_type": "display_data"
    }
   ],
   "source": [
    "b_list = [1+x+np.sin(i) for i,x in enumerate(np.random.rand(10)) ]\n",
    "#b_list = np.random.rand(nqubits)\n",
    "d = hamiltonians.SymbolicHamiltonian( sum([b*symbols.Z(j) for j,b in zip(range(nqubits),b_list)]))\n",
    "\n",
    "plt.plot(b_list)"
   ]
  },
  {
   "cell_type": "code",
   "execution_count": 5,
   "metadata": {},
   "outputs": [
    {
     "data": {
      "text/plain": [
       "-14.560691052882856"
      ]
     },
     "execution_count": 5,
     "metadata": {},
     "output_type": "execute_result"
    }
   ],
   "source": [
    "\n",
    "\n",
    "from boostvqe.models.dbi.group_commutator_iteration_transpiler import *\n",
    "from boostvqe.models.dbi.double_bracket_evolution_oracles import *\n",
    "\n",
    "# quick hack how to use the method function hamiltonians.XXZ to get a simulable oracle\n",
    "hamiltonian.delta = 0.5\n",
    "hamiltonian.dense = hamiltonian\n",
    "eo_xxz = XXZ_EvolutionOracle(hamiltonian,mode_evolution_oracle=EvolutionOracleType.numerical, steps = 1, order = 2)\n",
    "eo_xxz.mode_evolution_oracle=EvolutionOracleType.hamiltonian_simulation\n",
    "#hack end\n",
    "\n",
    "# prescribe nmb of steps, otherwise there will be casting to dense and searching for a step duration (this can later be avoided with @shangtai non-classical simulation PR)\n",
    "eo_xxz.please_use_prescribed_nmb_ts_steps = 1\n",
    "\n",
    "# implement the rotate by VQE on the level of circuits\n",
    "fsoe  = FrameShiftedEvolutionOracle(eo_xxz, before_circuit=vqe.circuit.invert(), \n",
    "                                                        after_circuit=vqe.circuit,name=\"shifting by vqe\")\n",
    "\n",
    "# init gci with the vqe-rotated hamiltonian\n",
    "gci  = GroupCommutatorIterationWithEvolutionOracles(input_hamiltonian_evolution_oracle=fsoe, \n",
    "        mode_double_bracket_rotation=DoubleBracketRotationType.group_commutator_third_order_reduced)\n",
    "gci.h_ref = deepcopy(hamiltonian)\n",
    "# init the generator of the evolution,\n",
    "#  this is quite simple - just pass a diagonal SymbolicHamiltonian \n",
    "# and because it will be commuting we can use the member function circuit for compiling\n",
    "eo_d = EvolutionOracle(d,mode_evolution_oracle=EvolutionOracleType.hamiltonian_simulation,name = \"D(linear)\")\n",
    "eo_d.please_use_prescribed_nmb_ts_steps = 1\n",
    "step,loss = gci.choose_step(d = eo_d)\n",
    "# above we didn't gauge the time \\approx e^{x^2 [D,H]} but gci approximates e^{-sW} so takes a square root\n",
    "circ_boost = (  gci.group_commutator(step, eo_d)[\"forwards\"] +vqe.circuit )\n",
    "\n",
    "hamiltonian.expectation(circ_boost().state()) "
   ]
  },
  {
   "cell_type": "code",
   "execution_count": null,
   "metadata": {},
   "outputs": [],
   "source": []
  },
  {
   "cell_type": "code",
   "execution_count": 6,
   "metadata": {},
   "outputs": [],
   "source": [
    "def gradient_numerical_circuits(\n",
    "    dbi_object: DoubleBracketIteration,\n",
    "    d_params: list,\n",
    "    parameterization: ParameterizationTypes,\n",
    "    s: float = 1e-2,\n",
    "    delta: float = 1e-3,\n",
    "    backend=None,\n",
    "    loss_0 = None,\n",
    "    **kwargs,\n",
    "):\n",
    "    r\"\"\"\n",
    "    Gradient of the DBI with respect to the parametrization of D. A simple finite difference is used to calculate the gradient.\n",
    "\n",
    "    Args:\n",
    "        dbi_object (DoubleBracketIteration): DoubleBracketIteration object.\n",
    "        d_params (np.array): Parameters for the ansatz (note that the dimension must be 2**nqubits for full ansazt and nqubits for Pauli ansatz).\n",
    "        s (float): A short flow duration for finding the numerical gradient.\n",
    "        delta (float): Step size for numerical gradient.\n",
    "    Returns:\n",
    "        grad (np.array): Gradient of the D operator.\n",
    "    \"\"\"\n",
    "\n",
    "    nqubits = dbi_object.nqubits\n",
    "    grad = np.zeros(len(d_params))\n",
    "    d = params_to_diagonal_operator(\n",
    "        d_params, nqubits, parameterization=parameterization, **kwargs\n",
    "    )\n",
    "    if loss_0 is None:\n",
    "        loss_0 = dbi_object.loss(s, d)\n",
    "    for i in range(len(d_params)):\n",
    "        params_new = deepcopy(d_params)\n",
    "        params_new[i] += delta\n",
    "        d_new = params_to_diagonal_operator(\n",
    "            params_new, nqubits, parameterization=parameterization, **kwargs\n",
    "        )\n",
    "        # find the increment of a very small step\n",
    "        grad[i] = (dbi_object.loss(s, d_new) - loss_0 ) / delta\n",
    "    return grad"
   ]
  },
  {
   "cell_type": "code",
   "execution_count": 7,
   "metadata": {},
   "outputs": [],
   "source": [
    "grad = gradient_numerical_circuits(\n",
    "    gci,\n",
    "    b_list,\n",
    "    ParameterizationTypes.circuits,\n",
    "    s=1e-4\n",
    ")"
   ]
  },
  {
   "cell_type": "code",
   "execution_count": null,
   "metadata": {},
   "outputs": [],
   "source": []
  },
  {
   "cell_type": "code",
   "execution_count": 37,
   "metadata": {},
   "outputs": [],
   "source": [
    "def gradient_descent_circuits(\n",
    "    dbi_object: DoubleBracketIteration,\n",
    "    train_epochs: int,\n",
    "    d_params_init: list,\n",
    "    lr: float = 1e-2,\n",
    "    step_guess = 0.01\n",
    "):\n",
    "\n",
    "    nqubits = dbi_object.nqubits\n",
    "\n",
    "    d_params_store = []\n",
    "    s_store = []\n",
    "    loss_store = []\n",
    "\n",
    "\n",
    "    d_init = params_to_diagonal_operator(\n",
    "                d_params_init,\n",
    "                nqubits,\n",
    "                parameterization=ParameterizationTypes.circuits\n",
    "            )\n",
    "    s,loss = gci.choose_step(d = d_init, max_evals = 50)\n",
    "    print(loss)\n",
    "    d_params_test = d_params_init\n",
    "    for i in range(train_epochs):\n",
    "        print(i)\n",
    "        # find gradient\n",
    "        grad = gradient_numerical_circuits(\n",
    "            dbi_object,\n",
    "            d_params_test,\n",
    "            ParameterizationTypes.circuits,\n",
    "            s=1e-4,\n",
    "            loss_0 = loss\n",
    "        )\n",
    "        d_params_store_lr = []\n",
    "        s_store_lr = []\n",
    "        loss_store_lr = []\n",
    "        for lr in np.linspace(1,1e3,9):\n",
    "            d_params_test = [d_params_init[j] - grad[j] * lr for j in range(len(grad))]\n",
    "            d = params_to_diagonal_operator(\n",
    "                d_params_test,\n",
    "                nqubits,\n",
    "                parameterization=ParameterizationTypes.circuits\n",
    "            )\n",
    "            step_guess, loss = dbi_object.choose_step(d=d,step_min=1e-5,step_max=0.1, max_evals=35,verbose=False)\n",
    "            print(loss)\n",
    "\n",
    "            d_params_store_lr.append(d_params_test)\n",
    "            s_store_lr.append(step_guess)\n",
    "            loss_store_lr.append(loss)\n",
    "        # store values\n",
    "        loss = min(loss_store_lr)\n",
    "\n",
    "        idx_min = loss_store_lr.index(loss)\n",
    "\n",
    "        d_params_test = d_params_store_lr[idx_min]  \n",
    "        d_params_store.append(d_params_test)      \n",
    "        step_guess = s_store_lr[idx_min]\n",
    "        s_store.append(step_guess)\n",
    "        loss_store.append(loss)\n",
    "\n",
    "        print(loss_store_lr[idx_min])\n",
    "        # choose the minimum loss from store\n",
    "    min_loss = min(loss_store)\n",
    "    idx_min = loss_store.index(min_loss)\n",
    "    d_params_test = d_params_store[idx_min]\n",
    "    s = s_store[idx_min]\n",
    "\n",
    "    return d_params_test, s, min_loss"
   ]
  },
  {
   "cell_type": "code",
   "execution_count": 38,
   "metadata": {},
   "outputs": [
    {
     "name": "stdout",
     "output_type": "stream",
     "text": [
      "-14.704528064654145\n",
      "0\n",
      "-14.419527881086758\n",
      "-14.633146630378548\n",
      "-14.686067284974088\n",
      "-14.528447027296728\n",
      "-14.425827379448869\n",
      "-14.434783116428882\n",
      "-14.66126482599904\n",
      "-14.437577414997346\n",
      "-14.619873081216298\n",
      "-14.686067284974088\n"
     ]
    }
   ],
   "source": [
    "d_params_test, s, min_loss = gradient_descent_circuits(\n",
    "gci,\n",
    " train_epochs=1,\n",
    "   d_params_init=b_list,\n",
    "   lr=1\n",
    ")"
   ]
  },
  {
   "cell_type": "code",
   "execution_count": 17,
   "metadata": {},
   "outputs": [
    {
     "data": {
      "text/plain": [
       "-0.013923057065984068"
      ]
     },
     "execution_count": 17,
     "metadata": {},
     "output_type": "execute_result"
    }
   ],
   "source": [
    "np.max(np.array(d_params_test) - np.array(b_list))"
   ]
  },
  {
   "cell_type": "code",
   "execution_count": 18,
   "metadata": {},
   "outputs": [
    {
     "data": {
      "text/plain": [
       "[<matplotlib.lines.Line2D at 0x7611896cc4a0>]"
      ]
     },
     "execution_count": 18,
     "metadata": {},
     "output_type": "execute_result"
    },
    {
     "data": {
      "image/png": "[encoded data removed]",
      "text/plain": [
       "<Figure size 640x480 with 1 Axes>"
      ]
     },
     "metadata": {},
     "output_type": "display_data"
    }
   ],
   "source": [
    "plt.plot(d_params_test)\n",
    "plt.plot(b_list)"
   ]
  },
  {
   "cell_type": "code",
   "execution_count": 34,
   "metadata": {},
   "outputs": [],
   "source": [
    "step,loss = gci.choose_step(d = eo_d,step_min=0.0001,step_max=1.15*0.01, max_evals=25)"
   ]
  },
  {
   "cell_type": "code",
   "execution_count": 35,
   "metadata": {},
   "outputs": [
    {
     "data": {
      "text/plain": [
       "-14.768439513327529"
      ]
     },
     "execution_count": 35,
     "metadata": {},
     "output_type": "execute_result"
    }
   ],
   "source": [
    "loss"
   ]
  },
  {
   "cell_type": "code",
   "execution_count": 36,
   "metadata": {},
   "outputs": [
    {
     "data": {
      "text/plain": [
       "0.011025"
      ]
     },
     "execution_count": 36,
     "metadata": {},
     "output_type": "execute_result"
    }
   ],
   "source": [
    "step"
   ]
  },
  {
   "cell_type": "code",
   "execution_count": null,
   "metadata": {},
   "outputs": [],
   "source": []
  }
 ],
 "metadata": {
  "kernelspec": {
   "display_name": "Python 3",
   "language": "python",
   "name": "python3"
  },
  "language_info": {
   "codemirror_mode": {
    "name": "ipython",
    "version": 3
   },
   "file_extension": ".py",
   "mimetype": "text/x-python",
   "name": "python",
   "nbconvert_exporter": "python",
   "pygments_lexer": "ipython3",
   "version": "3.12.3"
  }
 },
 "nbformat": 4,
 "nbformat_minor": 2
}
