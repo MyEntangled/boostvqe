{
 "cells": [
  {
   "cell_type": "markdown",
   "metadata": {},
   "source": [
    "### This notebook showcases how to use gradient descent helper functions\n"
   ]
  },
  {
   "cell_type": "code",
   "execution_count": 1,
   "metadata": {},
   "outputs": [],
   "source": [
    "import json\n",
    "import time\n",
    "from pathlib import Path\n",
    "\n",
    "import numpy as np\n",
    "import qibo\n",
    "from qibo import hamiltonians, set_backend\n",
    "from boostvqe.models.dbi.double_bracket import (\n",
    "    DoubleBracketGeneratorType,\n",
    "    DoubleBracketIteration,\n",
    ")\n",
    "\n",
    "from boostvqe.ansatze import VQE, build_circuit\n",
    "from boostvqe.utils import apply_dbi_steps, rotate_h_with_vqe\n",
    "from qibo import symbols, hamiltonians\n",
    "from copy import deepcopy\n",
    "from boostvqe.compiling_XXZ import *\n",
    "\n",
    "import matplotlib.pyplot as plt"
   ]
  },
  {
   "cell_type": "markdown",
   "metadata": {},
   "source": [
    "## 1. Loading VQE results"
   ]
  },
  {
   "cell_type": "code",
   "execution_count": 2,
   "metadata": {},
   "outputs": [
    {
     "name": "stderr",
     "output_type": "stream",
     "text": [
      "[Qibo 0.2.9|INFO|2024-06-18 10:15:40]: Using numpy backend on /CPU:0\n",
      "INFO:qibo.config:Using numpy backend on /CPU:0\n",
      "[Qibo 0.2.9|INFO|2024-06-18 10:15:41]: Using numpy backend on /CPU:0\n",
      "INFO:qibo.config:Using numpy backend on /CPU:0\n"
     ]
    },
    {
     "name": "stdout",
     "output_type": "stream",
     "text": [
      "In the VQE numpy\n"
     ]
    }
   ],
   "source": [
    "\n",
    "qibo.set_backend(\"numpy\")\n",
    "\n",
    "# set the path string which define the results\n",
    "path = \"../results/vqe_data/with_params/10q7l/sgd_10q_7l_42/\"\n",
    "\n",
    "# set the target epoch to which apply DBQA and the number of steps\n",
    "target_epoch = 2000\n",
    "dbi_steps = 1\n",
    "\n",
    "# upload system configuration and parameters for all the training\n",
    "with open(path + \"optimization_results.json\") as file:\n",
    "    config = json.load(file)\n",
    "\n",
    "losses = dict(np.load(path + \"energies.npz\"))[\"0\"]\n",
    "params = np.load(path + f\"parameters/params_ite{target_epoch}.npy\")\n",
    "\n",
    "nqubits = config[\"nqubits\"]\n",
    "# build circuit, hamiltonian and VQE\n",
    "hamiltonian = hamiltonians.XXZ(nqubits=nqubits, delta=0.5)\n",
    "circuit = build_circuit(nqubits, config[\"nlayers\"], \"numpy\")\n",
    "vqe = VQE(circuit, hamiltonian)\n",
    "zero_state = hamiltonian.backend.zero_state(nqubits)\n",
    "zero_state_t = np.transpose([zero_state])\n",
    "target_energy = np.min(hamiltonian.eigenvalues())\n",
    "\n",
    "\n",
    "# set target parameters into the VQE\n",
    "vqe.circuit.set_parameters(params)\n",
    "vqe_state = vqe.circuit().state()\n",
    "\n",
    "ene1 = hamiltonian.expectation(vqe_state)\n"
   ]
  },
  {
   "cell_type": "code",
   "execution_count": 3,
   "metadata": {},
   "outputs": [
    {
     "name": "stdout",
     "output_type": "stream",
     "text": [
      "VQE energy is -14.856898957126564. \n",
      "The target energy is -15.276131122065795 which means the difference is 0.4192321649392312.\n",
      "The relative difference is 0.02744360869838739%.\n"
     ]
    }
   ],
   "source": [
    "print(f\"VQE energy is {ene1}. \\n\\\n",
    "The target energy is {target_energy} which means the difference is {ene1-target_energy}.\\n\\\n",
    "The relative difference is {abs(ene1-target_energy)/abs(target_energy)}%.\")"
   ]
  },
  {
   "cell_type": "markdown",
   "metadata": {},
   "source": [
    "# 2. GCI vs GCI3 steps\n",
    "$D= \\sum_i B_i Z_i$\n",
    "and Group commutator"
   ]
  },
  {
   "cell_type": "code",
   "execution_count": 4,
   "metadata": {},
   "outputs": [],
   "source": [
    "\n",
    "\n",
    "from boostvqe.models.dbi.group_commutator_iteration_transpiler import *\n",
    "from boostvqe.models.dbi.double_bracket_evolution_oracles import *\n",
    "\n",
    "\n",
    "eo_xxz = XXZ_EvolutionOracle(nqubits, steps = 1, order = 2)\n",
    "\n",
    "# implement the rotate by VQE on the level of circuits\n",
    "fsoe  = VQERotatedEvolutionOracle(eo_xxz, vqe)\n"
   ]
  },
  {
   "cell_type": "code",
   "execution_count": 5,
   "metadata": {},
   "outputs": [],
   "source": [
    "# init gci with the vqe-rotated hamiltonian\n",
    "gci  = GroupCommutatorIterationWithEvolutionOracles(input_hamiltonian_evolution_oracle=fsoe, \n",
    "        mode_double_bracket_rotation=DoubleBracketRotationType.group_commutator_third_order_reduced)\n",
    "\n",
    "#from boostvqe.models.dbi.utils_gci_optimization import *\n"
   ]
  },
  {
   "cell_type": "code",
   "execution_count": 102,
   "metadata": {},
   "outputs": [
    {
     "name": "stderr",
     "output_type": "stream",
     "text": [
      "<>:22: SyntaxWarning: invalid escape sequence '\\D'\n",
      "<>:32: SyntaxWarning: invalid escape sequence '\\D'\n",
      "<>:22: SyntaxWarning: invalid escape sequence '\\D'\n",
      "<>:32: SyntaxWarning: invalid escape sequence '\\D'\n",
      "/tmp/ipykernel_40742/4203059886.py:22: SyntaxWarning: invalid escape sequence '\\D'\n",
      "  \"\"\"finds the decomposition of hamiltonian `$\\Delta(h_matrix)$` into Pauli-Z operators\"\"\"\n",
      "/tmp/ipykernel_40742/4203059886.py:32: SyntaxWarning: invalid escape sequence '\\D'\n",
      "  \"\"\"finds the decomposition of hamiltonian `$\\Delta(h_matrix)$` into Pauli-Z operators\"\"\"\n"
     ]
    }
   ],
   "source": [
    "def diagonal_1_pauli_z(i,n):\n",
    "    \"\"\"See Eq. 3 in https://arxiv.org/abs/1707.05181\"\"\"\n",
    "    i += 1\n",
    "\n",
    "    block_size = 2**(n-i)\n",
    "\n",
    "    plus_block = [1]*block_size\n",
    "    minus_block = [-1]*block_size\n",
    "    block = plus_block + minus_block\n",
    "\n",
    "    return np.array(block * (2**(i-1)))\n",
    "\n",
    "def diagonal_product_pauli_z(i_list,n):\n",
    "    \"\"\"See Eq. 3 in https://arxiv.org/abs/1707.05181\"\"\"\n",
    "\n",
    "    diagonals = []\n",
    "    for i in i_list:\n",
    "       diagonals.append(diagonal_1_pauli_z(i%n,n))\n",
    "    return np.prod(np.array(diagonals), axis = 0)    \n",
    "\n",
    "def dephasing_approximation(h_matrix: np.array, order = 1):\n",
    "    \"\"\"finds the decomposition of hamiltonian `$\\Delta(h_matrix)$` into Pauli-Z operators\"\"\"\n",
    "    nqubits = int(np.log2(h_matrix.shape[0]))\n",
    "\n",
    "    diagonal = np.diag(h_matrix)\n",
    "\n",
    "    order_1 = [ diagonal.T @ diagonal_1_pauli_z(i,nqubits) / 2**nqubits for i in range(nqubits)]\n",
    "    order_2 = [ diagonal.T @ diagonal_product_pauli_z([i,j],nqubits) / 2**nqubits for i,j in itertools.product(range(nqubits),range(nqubits))]\n",
    "    return {1: order_1, 2: order_2}\n",
    "\n",
    "def nn_dephasing_approximation(h_matrix: np.array, order = 1):\n",
    "    \"\"\"finds the decomposition of hamiltonian `$\\Delta(h_matrix)$` into Pauli-Z operators\"\"\"\n",
    "    nqubits = int(np.log2(h_matrix.shape[0]))\n",
    "\n",
    "    diagonal = np.diag(h_matrix)\n",
    "\n",
    "    order_1 = [ diagonal.T @ diagonal_1_pauli_z(i,nqubits) / 2**nqubits for i in range(nqubits)]\n",
    "    order_2 = [ diagonal.T @ diagonal_product_pauli_z([i,i+1],nqubits) / 2**nqubits for i in range(nqubits)]\n",
    "    return {1: order_1, 2: order_2}"
   ]
  },
  {
   "cell_type": "code",
   "execution_count": 88,
   "metadata": {},
   "outputs": [],
   "source": [
    "rhv = rotate_h_with_vqe(hamiltonian=hamiltonian, vqe=vqe)"
   ]
  },
  {
   "cell_type": "code",
   "execution_count": 103,
   "metadata": {},
   "outputs": [],
   "source": [
    "da = nn_dephasing_approximation(rhv)\n",
    "b_list2 = da[1]\n",
    "j_list2 = da[2]\n"
   ]
  },
  {
   "cell_type": "code",
   "execution_count": 108,
   "metadata": {},
   "outputs": [],
   "source": [
    "times = np.linspace(0.01,0.02,10)\n",
    "eo_d = IsingNNEvolutionOracle(b_list2,j_list2,name = \"D(linear)\")\n",
    "s,l, ls = gci.choose_step(d = eo_d,max_evals=34,step_min = 0.0081,step_max = 0.009)\n"
   ]
  },
  {
   "cell_type": "code",
   "execution_count": 109,
   "metadata": {},
   "outputs": [
    {
     "data": {
      "text/plain": [
       "-14.937939340738193"
      ]
     },
     "execution_count": 109,
     "metadata": {},
     "output_type": "execute_result"
    }
   ],
   "source": [
    "l"
   ]
  }
 ],
 "metadata": {
  "kernelspec": {
   "display_name": "Python 3",
   "language": "python",
   "name": "python3"
  },
  "language_info": {
   "codemirror_mode": {
    "name": "ipython",
    "version": 3
   },
   "file_extension": ".py",
   "mimetype": "text/x-python",
   "name": "python",
   "nbconvert_exporter": "python",
   "pygments_lexer": "ipython3",
   "version": "3.12.3"
  }
 },
 "nbformat": 4,
 "nbformat_minor": 2
}
