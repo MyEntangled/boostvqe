{
 "cells": [
  {
   "cell_type": "code",
   "execution_count": 1,
   "id": "dcb949ba",
   "metadata": {},
   "outputs": [],
   "source": [
    "from qibo.models.variational import VQE\n",
    "# from boostvqe.ansatze import build_circuit\n",
    "from qibo import hamiltonians, Circuit,gates\n",
    "from pathlib import Path\n",
    "import numpy as np\n",
    "import scipy"
   ]
  },
  {
   "cell_type": "code",
   "execution_count": 2,
   "id": "27b93b77",
   "metadata": {},
   "outputs": [
    {
     "name": "stderr",
     "output_type": "stream",
     "text": [
      "[Qibo 0.2.8|INFO|2024-05-31 14:13:52]: Using numpy backend on /CPU:0\n"
     ]
    }
   ],
   "source": [
    "delta = 3\n",
    "h_xxz = hamiltonians.XXZ(nqubits=2, delta = delta)\n"
   ]
  },
  {
   "cell_type": "code",
   "execution_count": 3,
   "id": "2057722c",
   "metadata": {},
   "outputs": [],
   "source": [
    "q_i = 0\n",
    "q_ip1 = 1\n",
    "t= 1\n",
    "gamma = -2*delta*t\n",
    "beta = -2*t\n",
    "alpha = -2*t\n"
   ]
  },
  {
   "cell_type": "code",
   "execution_count": 4,
   "id": "19497f9c",
   "metadata": {},
   "outputs": [
    {
     "name": "stdout",
     "output_type": "stream",
     "text": [
      "q0: ────X─RZ─o────X─RZ─\n",
      "q1: ─RZ─o─RY─X─RY─o────\n"
     ]
    }
   ],
   "source": [
    "circuit = Circuit(nqubits=2)\n",
    "circuit.add(gates.RZ(q_ip1, -np.pi/2))\n",
    "circuit.add(gates.CNOT(q_ip1, q_i))\n",
    "circuit.add(gates.RZ(q_i, -2*gamma + np.pi/2))\n",
    "circuit.add(gates.RY(q_ip1, -np.pi/2+2*alpha))\n",
    "circuit.add(gates.CNOT(q_i, q_ip1))\n",
    "circuit.add(gates.RY(q_ip1, -2*beta + np.pi/2))\n",
    "circuit.add(gates.CNOT(q_ip1, q_i))\n",
    "circuit.add(gates.RZ(q_i, np.pi/2))\n",
    "print(circuit.draw())"
   ]
  },
  {
   "cell_type": "code",
   "execution_count": 5,
   "id": "7df54d32",
   "metadata": {},
   "outputs": [],
   "source": [
    "u = h_xxz.exp(t)"
   ]
  },
  {
   "cell_type": "code",
   "execution_count": 6,
   "id": "abb9eb03",
   "metadata": {},
   "outputs": [
    {
     "name": "stdout",
     "output_type": "stream",
     "text": [
      "[[ 0.87651951-0.48136633j  0.        +0.j          0.        +0.j\n",
      "   0.        +0.j        ]\n",
      " [ 0.        +0.j         -0.31464203+0.57293139j  0.66335216+0.36429924j\n",
      "   0.        +0.j        ]\n",
      " [ 0.        +0.j          0.66335216+0.36429924j -0.31464203+0.57293139j\n",
      "   0.        +0.j        ]\n",
      " [ 0.        +0.j          0.        +0.j          0.        +0.j\n",
      "   0.87651951-0.48136633j]]\n",
      "[[ 0.96017029+0.2794155j   0.        +0.j          0.        +0.j\n",
      "   0.        +0.j        ]\n",
      " [ 0.        +0.j         -0.62760918+0.18263816j  0.21146235+0.72665927j\n",
      "   0.        +0.j        ]\n",
      " [ 0.        +0.j          0.21146235+0.72665927j -0.62760918+0.18263816j\n",
      "   0.        +0.j        ]\n",
      " [ 0.        +0.j          0.        +0.j          0.        +0.j\n",
      "   0.96017029+0.2794155j ]]\n"
     ]
    },
    {
     "data": {
      "text/plain": [
       "1.4491494096054561e-15"
      ]
     },
     "execution_count": 6,
     "metadata": {},
     "output_type": "execute_result"
    }
   ],
   "source": [
    "v = circuit.unitary()\n",
    "print(v)\n",
    "print(u)\n",
    "np.linalg.norm(u-(1+1j)*v/np.sqrt(2))"
   ]
  }
 ],
 "metadata": {
  "kernelspec": {
   "display_name": "Python 3 (ipykernel)",
   "language": "python",
   "name": "python3"
  },
  "language_info": {
   "codemirror_mode": {
    "name": "ipython",
    "version": 3
   },
   "file_extension": ".py",
   "mimetype": "text/x-python",
   "name": "python",
   "nbconvert_exporter": "python",
   "pygments_lexer": "ipython3",
   "version": "3.9.13"
  }
 },
 "nbformat": 4,
 "nbformat_minor": 5
}
