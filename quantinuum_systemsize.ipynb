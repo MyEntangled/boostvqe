{
 "cells": [
  {
   "cell_type": "markdown",
   "metadata": {},
   "source": [
    "# Quantinuum error with system size\n",
    "\n",
    "This note book explores the relationship between the error in energy expectation $\\Delta\\lang H\\rang$ of a hamiltonian and the size of the system $L$.\n",
    "\n",
    "For this purpose, we only consider the energy of the original hamiltonian without applying VQE. We obtain the error by comparing the simulation results with the theoretical calculation.\n",
    "\n",
    "The following are the hamiltonian models we consider:\n",
    "$$\n",
    "H_{TLFIM} = - \\sum _{i=0}^N \\left ( Z_i Z_{i + 1} + h_0 X_i + h_1 Z_i \\right ).\n",
    "$$\n"
   ]
  },
  {
   "cell_type": "markdown",
   "metadata": {
    "vscode": {
     "languageId": "plaintext"
    }
   },
   "source": [
    "## Noiseless\n",
    "In the noiseless case, for TLFIM, without VQE, the measurement circuit for the $Z$ Pauli operators is empty, and thus the expectation shall not have any error. The error will only come from the terms $h_0\\sum X_i$.\n",
    "\n",
    "This is obtained from applying a Hadamard gate to each qubit. Therefore, we will be measuring the (potentially additive?) error of the Hadamard gate."
   ]
  },
  {
   "cell_type": "markdown",
   "metadata": {
    "vscode": {
     "languageId": "plaintext"
    }
   },
   "source": [
    "Let us measure $\\lang Z\\rang$ with a hadamard gate applied to each qubit. This is equivalent to measuring $\\lang X\\rang$."
   ]
  },
  {
   "cell_type": "code",
   "execution_count": 5,
   "metadata": {},
   "outputs": [],
   "source": [
    "from datetime import datetime\n",
    "\n",
    "from pytket import Circuit\n",
    "from pytket.circuit.display import render_circuit_jupyter\n",
    "from pytket.utils.operators import QubitPauliOperator\n",
    "from pytket.partition import measurement_reduction, MeasurementBitMap, MeasurementSetup, PauliPartitionStrat\n",
    "from pytket.backends.backendresult import BackendResult\n",
    "from pytket.pauli import Pauli, QubitPauliString\n",
    "from pytket.circuit import Qubit\n",
    "\n",
    "from scipy.optimize import minimize\n",
    "from numpy import ndarray\n",
    "from numpy.random import random_sample\n",
    "from sympy import Symbol\n",
    "from functools import partial\n",
    "\n",
    "import qnexus as qnx\n",
    "from copy import deepcopy\n",
    "import matplotlib.pyplot as plt\n",
    "import numpy as np"
   ]
  },
  {
   "cell_type": "code",
   "execution_count": 2,
   "metadata": {},
   "outputs": [
    {
     "name": "stdout",
     "output_type": "stream",
     "text": [
      "✅ Successfully logged in as xiaoyue.li@ntu.edu.sg.\n"
     ]
    }
   ],
   "source": [
    "qnx.client.auth.login_with_credentials()"
   ]
  },
  {
   "cell_type": "code",
   "execution_count": 3,
   "metadata": {},
   "outputs": [],
   "source": [
    "# Connect to project\n",
    "project_ref = qnx.projects.get_or_create(name=\"CLT_tests\")\n",
    "project_ref.df()\n",
    "\n",
    "# set this in the context\n",
    "qnx.context.set_active_project(project_ref)"
   ]
  },
  {
   "cell_type": "code",
   "execution_count": 4,
   "metadata": {},
   "outputs": [],
   "source": [
    "# helper functions\n",
    "def create_qubit_pauli_string(nqubits, specify_ls, coef):\n",
    "    '''\n",
    "    specify_ls: {index:Pauli.X/Y/Z}\n",
    "    '''\n",
    "    term = {}\n",
    "    specified_ids = list(specify_ls.keys())\n",
    "    for i in range(nqubits):\n",
    "        if i in specified_ids:\n",
    "            term.update({Qubit(i):specify_ls[i]})\n",
    "        else:\n",
    "            term.update({Qubit(i):Pauli.I})\n",
    "\n",
    "    return {QubitPauliString(term):coef}"
   ]
  },
  {
   "cell_type": "markdown",
   "metadata": {},
   "source": [
    "To measure the error of $\\sum_{i=0}^L\\lang X_i\\rang$, we will first run the test for system size 1-20.\n",
    "\n",
    "Our theoretical prediction is that $\\sum_{i=0}^L\\lang X_i\\rang = 0$. Intuitively,\n",
    "we can understand as the Hadamard gate rotates each $|0\\rang$ into the eigenstates of $X$ with equal probability, then the expected energy (eigenvalue) will be canceled out. "
   ]
  },
  {
   "cell_type": "code",
   "execution_count": 15,
   "metadata": {},
   "outputs": [],
   "source": [
    "nshots = 500\n",
    "sys_sizes = [int(i) for i in np.linspace(1,20,11)]\n",
    "circuit_list = []\n",
    "for nqubits in sys_sizes:\n",
    "    circuit = Circuit(nqubits)\n",
    "    for i in range(nqubits):\n",
    "        circuit.H(i)\n",
    "    circuit.measure_all()\n",
    "    circuit_ref = qnx.circuits.upload(\n",
    "        name=f\"system_size_test {nqubits}\",\n",
    "        circuit = circuit,\n",
    "        project = project_ref,\n",
    "    )\n",
    "    circuit_list.append(circuit_ref)"
   ]
  },
  {
   "cell_type": "code",
   "execution_count": 27,
   "metadata": {},
   "outputs": [],
   "source": [
    "ham_list = []\n",
    "for nqubits in sys_sizes:\n",
    "    terms = {}\n",
    "    for i in range(nqubits):\n",
    "        # term_x_i = create_qubit_pauli_string(nqubits, {i: Pauli.Z, (i+1)%nqubits: Pauli.Z}, -1)\n",
    "        term_z_i = create_qubit_pauli_string(nqubits, {i: Pauli.Z}, 1)\n",
    "        # terms.update(term_x_i)\n",
    "        terms.update(term_z_i)\n",
    "    ham_list.append(QubitPauliOperator(terms))"
   ]
  },
  {
   "cell_type": "code",
   "execution_count": 16,
   "metadata": {},
   "outputs": [
    {
     "data": {
      "text/html": [
       "<div>\n",
       "<style scoped>\n",
       "    .dataframe tbody tr th:only-of-type {\n",
       "        vertical-align: middle;\n",
       "    }\n",
       "\n",
       "    .dataframe tbody tr th {\n",
       "        vertical-align: top;\n",
       "    }\n",
       "\n",
       "    .dataframe thead th {\n",
       "        text-align: right;\n",
       "    }\n",
       "</style>\n",
       "<table border=\"1\" class=\"dataframe\">\n",
       "  <thead>\n",
       "    <tr style=\"text-align: right;\">\n",
       "      <th></th>\n",
       "      <th>name</th>\n",
       "      <th>description</th>\n",
       "      <th>created</th>\n",
       "      <th>modified</th>\n",
       "      <th>project</th>\n",
       "      <th>id</th>\n",
       "    </tr>\n",
       "  </thead>\n",
       "  <tbody>\n",
       "    <tr>\n",
       "      <th>0</th>\n",
       "      <td>system_size_test 1-QuantinuumBackend-final</td>\n",
       "      <td>None</td>\n",
       "      <td>2024-10-15 14:24:15.009734+00:00</td>\n",
       "      <td>2024-10-15 14:24:15.009734+00:00</td>\n",
       "      <td>CLT_tests</td>\n",
       "      <td>85efefcb-8143-4551-b0c5-f2cce4f923cf</td>\n",
       "    </tr>\n",
       "    <tr>\n",
       "      <th>1</th>\n",
       "      <td>system_size_test 2-QuantinuumBackend-final</td>\n",
       "      <td>None</td>\n",
       "      <td>2024-10-15 14:24:15.588026+00:00</td>\n",
       "      <td>2024-10-15 14:24:15.588026+00:00</td>\n",
       "      <td>CLT_tests</td>\n",
       "      <td>66f08617-7a27-4b67-acd1-566cc491faaf</td>\n",
       "    </tr>\n",
       "    <tr>\n",
       "      <th>2</th>\n",
       "      <td>system_size_test 4-QuantinuumBackend-final</td>\n",
       "      <td>None</td>\n",
       "      <td>2024-10-15 14:24:15.800693+00:00</td>\n",
       "      <td>2024-10-15 14:24:15.800693+00:00</td>\n",
       "      <td>CLT_tests</td>\n",
       "      <td>9b259994-dcce-4948-8a3e-ac0cfe6a6cd9</td>\n",
       "    </tr>\n",
       "    <tr>\n",
       "      <th>3</th>\n",
       "      <td>system_size_test 6-QuantinuumBackend-final</td>\n",
       "      <td>None</td>\n",
       "      <td>2024-10-15 14:24:16.623925+00:00</td>\n",
       "      <td>2024-10-15 14:24:16.623925+00:00</td>\n",
       "      <td>CLT_tests</td>\n",
       "      <td>ee340264-2fe4-4973-8e40-dd6a18419175</td>\n",
       "    </tr>\n",
       "    <tr>\n",
       "      <th>4</th>\n",
       "      <td>system_size_test 8-QuantinuumBackend-final</td>\n",
       "      <td>None</td>\n",
       "      <td>2024-10-15 14:24:16.848372+00:00</td>\n",
       "      <td>2024-10-15 14:24:16.848372+00:00</td>\n",
       "      <td>CLT_tests</td>\n",
       "      <td>8b82f0da-a675-40bd-a54b-a2258169c3d9</td>\n",
       "    </tr>\n",
       "    <tr>\n",
       "      <th>5</th>\n",
       "      <td>system_size_test 10-QuantinuumBackend-final</td>\n",
       "      <td>None</td>\n",
       "      <td>2024-10-15 14:24:17.280724+00:00</td>\n",
       "      <td>2024-10-15 14:24:17.280724+00:00</td>\n",
       "      <td>CLT_tests</td>\n",
       "      <td>443b7b49-8b31-432b-84ca-6d7e9ec6fd9d</td>\n",
       "    </tr>\n",
       "    <tr>\n",
       "      <th>6</th>\n",
       "      <td>system_size_test 12-QuantinuumBackend-final</td>\n",
       "      <td>None</td>\n",
       "      <td>2024-10-15 14:24:17.802653+00:00</td>\n",
       "      <td>2024-10-15 14:24:17.802653+00:00</td>\n",
       "      <td>CLT_tests</td>\n",
       "      <td>ff8d0e01-0da7-4d89-a1b4-7b3ec3fc9a04</td>\n",
       "    </tr>\n",
       "    <tr>\n",
       "      <th>7</th>\n",
       "      <td>system_size_test 14-QuantinuumBackend-final</td>\n",
       "      <td>None</td>\n",
       "      <td>2024-10-15 14:24:18.342865+00:00</td>\n",
       "      <td>2024-10-15 14:24:18.342865+00:00</td>\n",
       "      <td>CLT_tests</td>\n",
       "      <td>bc07f1f0-9d58-414d-beb2-ab14f7bcc7b9</td>\n",
       "    </tr>\n",
       "    <tr>\n",
       "      <th>8</th>\n",
       "      <td>system_size_test 16-QuantinuumBackend-final</td>\n",
       "      <td>None</td>\n",
       "      <td>2024-10-15 14:24:18.835881+00:00</td>\n",
       "      <td>2024-10-15 14:24:18.835881+00:00</td>\n",
       "      <td>CLT_tests</td>\n",
       "      <td>0287050d-828b-4aaa-b3ae-70c61dbdee02</td>\n",
       "    </tr>\n",
       "    <tr>\n",
       "      <th>9</th>\n",
       "      <td>system_size_test 18-QuantinuumBackend-final</td>\n",
       "      <td>None</td>\n",
       "      <td>2024-10-15 14:24:19.402565+00:00</td>\n",
       "      <td>2024-10-15 14:24:19.402565+00:00</td>\n",
       "      <td>CLT_tests</td>\n",
       "      <td>b945f148-83d7-42d3-ab32-e40112ac4364</td>\n",
       "    </tr>\n",
       "    <tr>\n",
       "      <th>10</th>\n",
       "      <td>system_size_test 20-QuantinuumBackend-final</td>\n",
       "      <td>None</td>\n",
       "      <td>2024-10-15 14:24:19.906102+00:00</td>\n",
       "      <td>2024-10-15 14:24:19.906102+00:00</td>\n",
       "      <td>CLT_tests</td>\n",
       "      <td>bdca3caa-0968-4a54-8011-d4c484c53e4f</td>\n",
       "    </tr>\n",
       "  </tbody>\n",
       "</table>\n",
       "</div>"
      ],
      "text/plain": [
       "                                           name description  \\\n",
       "0    system_size_test 1-QuantinuumBackend-final        None   \n",
       "1    system_size_test 2-QuantinuumBackend-final        None   \n",
       "2    system_size_test 4-QuantinuumBackend-final        None   \n",
       "3    system_size_test 6-QuantinuumBackend-final        None   \n",
       "4    system_size_test 8-QuantinuumBackend-final        None   \n",
       "5   system_size_test 10-QuantinuumBackend-final        None   \n",
       "6   system_size_test 12-QuantinuumBackend-final        None   \n",
       "7   system_size_test 14-QuantinuumBackend-final        None   \n",
       "8   system_size_test 16-QuantinuumBackend-final        None   \n",
       "9   system_size_test 18-QuantinuumBackend-final        None   \n",
       "10  system_size_test 20-QuantinuumBackend-final        None   \n",
       "\n",
       "                            created                         modified  \\\n",
       "0  2024-10-15 14:24:15.009734+00:00 2024-10-15 14:24:15.009734+00:00   \n",
       "1  2024-10-15 14:24:15.588026+00:00 2024-10-15 14:24:15.588026+00:00   \n",
       "2  2024-10-15 14:24:15.800693+00:00 2024-10-15 14:24:15.800693+00:00   \n",
       "3  2024-10-15 14:24:16.623925+00:00 2024-10-15 14:24:16.623925+00:00   \n",
       "4  2024-10-15 14:24:16.848372+00:00 2024-10-15 14:24:16.848372+00:00   \n",
       "5  2024-10-15 14:24:17.280724+00:00 2024-10-15 14:24:17.280724+00:00   \n",
       "6  2024-10-15 14:24:17.802653+00:00 2024-10-15 14:24:17.802653+00:00   \n",
       "7  2024-10-15 14:24:18.342865+00:00 2024-10-15 14:24:18.342865+00:00   \n",
       "8  2024-10-15 14:24:18.835881+00:00 2024-10-15 14:24:18.835881+00:00   \n",
       "9  2024-10-15 14:24:19.402565+00:00 2024-10-15 14:24:19.402565+00:00   \n",
       "10 2024-10-15 14:24:19.906102+00:00 2024-10-15 14:24:19.906102+00:00   \n",
       "\n",
       "      project                                    id  \n",
       "0   CLT_tests  85efefcb-8143-4551-b0c5-f2cce4f923cf  \n",
       "1   CLT_tests  66f08617-7a27-4b67-acd1-566cc491faaf  \n",
       "2   CLT_tests  9b259994-dcce-4948-8a3e-ac0cfe6a6cd9  \n",
       "3   CLT_tests  ee340264-2fe4-4973-8e40-dd6a18419175  \n",
       "4   CLT_tests  8b82f0da-a675-40bd-a54b-a2258169c3d9  \n",
       "5   CLT_tests  443b7b49-8b31-432b-84ca-6d7e9ec6fd9d  \n",
       "6   CLT_tests  ff8d0e01-0da7-4d89-a1b4-7b3ec3fc9a04  \n",
       "7   CLT_tests  bc07f1f0-9d58-414d-beb2-ab14f7bcc7b9  \n",
       "8   CLT_tests  0287050d-828b-4aaa-b3ae-70c61dbdee02  \n",
       "9   CLT_tests  b945f148-83d7-42d3-ab32-e40112ac4364  \n",
       "10  CLT_tests  bdca3caa-0968-4a54-8011-d4c484c53e4f  "
      ]
     },
     "execution_count": 16,
     "metadata": {},
     "output_type": "execute_result"
    }
   ],
   "source": [
    "# Compile and fetch the circuit\n",
    "compiled_circuits = qnx.compile(\n",
    "    circuits=circuit_list,\n",
    "    name=f\"system_size_test_noiseless\",\n",
    "    optimisation_level=1,\n",
    "    backend_config=qnx.QuantinuumConfig(device_name=\"H1-1LE\"),\n",
    "    project=project_ref,\n",
    ")\n",
    "\n",
    "compiled_circuits.df()"
   ]
  },
  {
   "cell_type": "code",
   "execution_count": 17,
   "metadata": {},
   "outputs": [
    {
     "data": {
      "text/html": [
       "<div>\n",
       "<style scoped>\n",
       "    .dataframe tbody tr th:only-of-type {\n",
       "        vertical-align: middle;\n",
       "    }\n",
       "\n",
       "    .dataframe tbody tr th {\n",
       "        vertical-align: top;\n",
       "    }\n",
       "\n",
       "    .dataframe thead th {\n",
       "        text-align: right;\n",
       "    }\n",
       "</style>\n",
       "<table border=\"1\" class=\"dataframe\">\n",
       "  <thead>\n",
       "    <tr style=\"text-align: right;\">\n",
       "      <th></th>\n",
       "      <th>name</th>\n",
       "      <th>description</th>\n",
       "      <th>created</th>\n",
       "      <th>modified</th>\n",
       "      <th>job_type</th>\n",
       "      <th>last_status</th>\n",
       "      <th>project</th>\n",
       "      <th>id</th>\n",
       "    </tr>\n",
       "  </thead>\n",
       "  <tbody>\n",
       "    <tr>\n",
       "      <th>0</th>\n",
       "      <td>execute_system_size_noiseless_1</td>\n",
       "      <td></td>\n",
       "      <td>2024-10-15 14:25:26.203901+00:00</td>\n",
       "      <td>2024-10-15 14:25:26.203901+00:00</td>\n",
       "      <td>JobType.EXECUTE</td>\n",
       "      <td>StatusEnum.SUBMITTED</td>\n",
       "      <td>CLT_tests</td>\n",
       "      <td>0e03b422-889d-4d44-b67b-6c2b12f34ce7</td>\n",
       "    </tr>\n",
       "  </tbody>\n",
       "</table>\n",
       "</div>"
      ],
      "text/plain": [
       "                              name description  \\\n",
       "0  execute_system_size_noiseless_1               \n",
       "\n",
       "                           created                         modified  \\\n",
       "0 2024-10-15 14:25:26.203901+00:00 2024-10-15 14:25:26.203901+00:00   \n",
       "\n",
       "          job_type           last_status    project  \\\n",
       "0  JobType.EXECUTE  StatusEnum.SUBMITTED  CLT_tests   \n",
       "\n",
       "                                     id  \n",
       "0  0e03b422-889d-4d44-b67b-6c2b12f34ce7  "
      ]
     },
     "execution_count": 17,
     "metadata": {},
     "output_type": "execute_result"
    }
   ],
   "source": [
    "# Execute circuit on simulator\n",
    "execute_job_ref = qnx.start_execute_job(\n",
    "    circuits=compiled_circuits,\n",
    "    name=f\"execute_system_size_noiseless_1\",\n",
    "    n_shots=[nshots]* len(compiled_circuits),\n",
    "    backend_config=qnx.QuantinuumConfig(device_name=\"H1-1LE\"),\n",
    "    project=project_ref,\n",
    ")\n",
    "\n",
    "execute_job_ref.df()"
   ]
  },
  {
   "cell_type": "code",
   "execution_count": 21,
   "metadata": {},
   "outputs": [
    {
     "name": "stdout",
     "output_type": "stream",
     "text": [
      "JobStatus(status=<StatusEnum.COMPLETED: 'Circuit has completed. Results are ready.'>, message='The job is completed.', error_detail=None, completed_time=datetime.datetime(2024, 10, 15, 14, 28, 51, 4298, tzinfo=datetime.timezone.utc), queued_time=None, submitted_time=datetime.datetime(2024, 10, 15, 14, 25, 26, 208048, tzinfo=datetime.timezone.utc), running_time=datetime.datetime(2024, 10, 15, 14, 28, 17, 226694, tzinfo=datetime.timezone.utc), cancelled_time=None, error_time=None, queue_position=None)\n"
     ]
    },
    {
     "data": {
      "text/plain": [
       "Counter({(0,): 234, (1,): 266})"
      ]
     },
     "execution_count": 21,
     "metadata": {},
     "output_type": "execute_result"
    }
   ],
   "source": [
    "print(qnx.jobs.status(execute_job_ref))\n",
    "\n",
    "# Block until the job is complete\n",
    "qnx.jobs.wait_for(execute_job_ref)\n",
    "\n",
    "# Retrieve a ExecutionResultRef for every Circuit that was executed\n",
    "execute_job_result_refs = qnx.jobs.results(execute_job_ref)\n",
    "\n",
    "# Get a pytket BackendResult for the execution\n",
    "result = execute_job_result_refs[0].download_result()\n",
    "\n",
    "result.get_counts()"
   ]
  },
  {
   "cell_type": "code",
   "execution_count": 37,
   "metadata": {},
   "outputs": [],
   "source": [
    "expect_ls = []\n",
    "for i in range(len(sys_sizes)):\n",
    "    result = execute_job_result_refs[i].download_result()\n",
    "    distribution = result.get_distribution()\n",
    "    expect = 0\n",
    "    for key, value in distribution.items():\n",
    "        new_key = [-(j*2-1) for j in key]\n",
    "        expect += sum(new_key) * value\n",
    "    expect_ls.append(expect)\n",
    "    "
   ]
  },
  {
   "cell_type": "code",
   "execution_count": 41,
   "metadata": {},
   "outputs": [
    {
     "name": "stdout",
     "output_type": "stream",
     "text": [
      "[-0.064, -0.06, 0.03599999999999995, -0.051999999999999824, 0.18800000000000008, 0.06799999999999996, -0.13599999999999995, -0.13599999999999995, 0.008000000000000004, 0.5360000000000003, 0.2199999999999999]\n"
     ]
    }
   ],
   "source": [
    "print(expect_ls)"
   ]
  },
  {
   "cell_type": "code",
   "execution_count": 42,
   "metadata": {},
   "outputs": [
    {
     "data": {
      "text/plain": [
       "Text(0, 0.5, 'Expected energy')"
      ]
     },
     "execution_count": 42,
     "metadata": {},
     "output_type": "execute_result"
    },
    {
     "data": {
      "image/png": "[encoded data removed]",
      "text/plain": [
       "<Figure size 640x480 with 1 Axes>"
      ]
     },
     "metadata": {},
     "output_type": "display_data"
    }
   ],
   "source": [
    "plt.plot(sys_sizes, expect_ls)\n",
    "plt.xlabel(r'System size $L$')\n",
    "plt.ylabel(r'Expected energy')"
   ]
  },
  {
   "cell_type": "markdown",
   "metadata": {},
   "source": [
    "Here, we can see a general trend of the error growing with system size $L$.\n",
    "However, to obtain a more definite trend, we need to run this experiment multiple times."
   ]
  },
  {
   "cell_type": "code",
   "execution_count": 43,
   "metadata": {},
   "outputs": [
    {
     "name": "stdout",
     "output_type": "stream",
     "text": [
      "[[-0.064], [-0.06], [0.03599999999999995], [-0.051999999999999824], [0.18800000000000008], [0.06799999999999996], [-0.13599999999999995], [-0.13599999999999995], [0.008000000000000004], [0.5360000000000003], [0.2199999999999999]]\n"
     ]
    }
   ],
   "source": [
    "# modify previous result list\n",
    "# expect_ls = [[expect] for expect in expect_ls]\n",
    "# print(expect_ls)"
   ]
  },
  {
   "cell_type": "code",
   "execution_count": 44,
   "metadata": {},
   "outputs": [
    {
     "name": "stdout",
     "output_type": "stream",
     "text": [
      "JobStatus(status=<StatusEnum.SUBMITTED: 'Circuit has been submitted.'>, message='Job has been submitted to Nexus.', error_detail=None, completed_time=None, queued_time=None, submitted_time=datetime.datetime(2024, 10, 16, 3, 32, 30, 472599, tzinfo=datetime.timezone.utc), running_time=None, cancelled_time=None, error_time=None, queue_position=None)\n",
      "JobStatus(status=<StatusEnum.SUBMITTED: 'Circuit has been submitted.'>, message='Job has been submitted to Nexus.', error_detail=None, completed_time=None, queued_time=None, submitted_time=datetime.datetime(2024, 10, 16, 3, 35, 54, 399409, tzinfo=datetime.timezone.utc), running_time=None, cancelled_time=None, error_time=None, queue_position=None)\n",
      "JobStatus(status=<StatusEnum.SUBMITTED: 'Circuit has been submitted.'>, message='Job has been submitted to Nexus.', error_detail=None, completed_time=None, queued_time=None, submitted_time=datetime.datetime(2024, 10, 16, 3, 36, 32, 635246, tzinfo=datetime.timezone.utc), running_time=None, cancelled_time=None, error_time=None, queue_position=None)\n",
      "JobStatus(status=<StatusEnum.SUBMITTED: 'Circuit has been submitted.'>, message='Job has been submitted to Nexus.', error_detail=None, completed_time=None, queued_time=None, submitted_time=datetime.datetime(2024, 10, 16, 3, 37, 11, 12864, tzinfo=datetime.timezone.utc), running_time=None, cancelled_time=None, error_time=None, queue_position=None)\n",
      "JobStatus(status=<StatusEnum.SUBMITTED: 'Circuit has been submitted.'>, message='Job has been submitted to Nexus.', error_detail=None, completed_time=None, queued_time=None, submitted_time=datetime.datetime(2024, 10, 16, 3, 37, 50, 12162, tzinfo=datetime.timezone.utc), running_time=None, cancelled_time=None, error_time=None, queue_position=None)\n",
      "JobStatus(status=<StatusEnum.SUBMITTED: 'Circuit has been submitted.'>, message='Job has been submitted to Nexus.', error_detail=None, completed_time=None, queued_time=None, submitted_time=datetime.datetime(2024, 10, 16, 3, 38, 29, 639675, tzinfo=datetime.timezone.utc), running_time=None, cancelled_time=None, error_time=None, queue_position=None)\n",
      "JobStatus(status=<StatusEnum.SUBMITTED: 'Circuit has been submitted.'>, message='Job has been submitted to Nexus.', error_detail=None, completed_time=None, queued_time=None, submitted_time=datetime.datetime(2024, 10, 16, 3, 39, 8, 554119, tzinfo=datetime.timezone.utc), running_time=None, cancelled_time=None, error_time=None, queue_position=None)\n",
      "JobStatus(status=<StatusEnum.SUBMITTED: 'Circuit has been submitted.'>, message='Job has been submitted to Nexus.', error_detail=None, completed_time=None, queued_time=None, submitted_time=datetime.datetime(2024, 10, 16, 3, 39, 46, 737300, tzinfo=datetime.timezone.utc), running_time=None, cancelled_time=None, error_time=None, queue_position=None)\n",
      "JobStatus(status=<StatusEnum.SUBMITTED: 'Circuit has been submitted.'>, message='Job has been submitted to Nexus.', error_detail=None, completed_time=None, queued_time=None, submitted_time=datetime.datetime(2024, 10, 16, 3, 40, 25, 32389, tzinfo=datetime.timezone.utc), running_time=None, cancelled_time=None, error_time=None, queue_position=None)\n",
      "JobStatus(status=<StatusEnum.SUBMITTED: 'Circuit has been submitted.'>, message='Job has been submitted to Nexus.', error_detail=None, completed_time=None, queued_time=None, submitted_time=datetime.datetime(2024, 10, 16, 3, 41, 3, 630318, tzinfo=datetime.timezone.utc), running_time=None, cancelled_time=None, error_time=None, queue_position=None)\n",
      "JobStatus(status=<StatusEnum.SUBMITTED: 'Circuit has been submitted.'>, message='Job has been submitted to Nexus.', error_detail=None, completed_time=None, queued_time=None, submitted_time=datetime.datetime(2024, 10, 16, 3, 41, 41, 957910, tzinfo=datetime.timezone.utc), running_time=None, cancelled_time=None, error_time=None, queue_position=None)\n",
      "JobStatus(status=<StatusEnum.SUBMITTED: 'Circuit has been submitted.'>, message='Job has been submitted to Nexus.', error_detail=None, completed_time=None, queued_time=None, submitted_time=datetime.datetime(2024, 10, 16, 3, 42, 20, 846692, tzinfo=datetime.timezone.utc), running_time=None, cancelled_time=None, error_time=None, queue_position=None)\n",
      "JobStatus(status=<StatusEnum.SUBMITTED: 'Circuit has been submitted.'>, message='Job has been submitted to Nexus.', error_detail=None, completed_time=None, queued_time=None, submitted_time=datetime.datetime(2024, 10, 16, 3, 43, 0, 870350, tzinfo=datetime.timezone.utc), running_time=None, cancelled_time=None, error_time=None, queue_position=None)\n",
      "JobStatus(status=<StatusEnum.SUBMITTED: 'Circuit has been submitted.'>, message='Job has been submitted to Nexus.', error_detail=None, completed_time=None, queued_time=None, submitted_time=datetime.datetime(2024, 10, 16, 3, 43, 39, 41287, tzinfo=datetime.timezone.utc), running_time=None, cancelled_time=None, error_time=None, queue_position=None)\n",
      "JobStatus(status=<StatusEnum.SUBMITTED: 'Circuit has been submitted.'>, message='Job has been submitted to Nexus.', error_detail=None, completed_time=None, queued_time=None, submitted_time=datetime.datetime(2024, 10, 16, 3, 44, 17, 744487, tzinfo=datetime.timezone.utc), running_time=None, cancelled_time=None, error_time=None, queue_position=None)\n",
      "JobStatus(status=<StatusEnum.SUBMITTED: 'Circuit has been submitted.'>, message='Job has been submitted to Nexus.', error_detail=None, completed_time=None, queued_time=None, submitted_time=datetime.datetime(2024, 10, 16, 3, 44, 56, 779818, tzinfo=datetime.timezone.utc), running_time=None, cancelled_time=None, error_time=None, queue_position=None)\n",
      "JobStatus(status=<StatusEnum.SUBMITTED: 'Circuit has been submitted.'>, message='Job has been submitted to Nexus.', error_detail=None, completed_time=None, queued_time=None, submitted_time=datetime.datetime(2024, 10, 16, 3, 45, 35, 996547, tzinfo=datetime.timezone.utc), running_time=None, cancelled_time=None, error_time=None, queue_position=None)\n",
      "JobStatus(status=<StatusEnum.SUBMITTED: 'Circuit has been submitted.'>, message='Job has been submitted to Nexus.', error_detail=None, completed_time=None, queued_time=None, submitted_time=datetime.datetime(2024, 10, 16, 3, 46, 36, 122173, tzinfo=datetime.timezone.utc), running_time=None, cancelled_time=None, error_time=None, queue_position=None)\n",
      "JobStatus(status=<StatusEnum.SUBMITTED: 'Circuit has been submitted.'>, message='Job has been submitted to Nexus.', error_detail=None, completed_time=None, queued_time=None, submitted_time=datetime.datetime(2024, 10, 16, 3, 47, 15, 293349, tzinfo=datetime.timezone.utc), running_time=None, cancelled_time=None, error_time=None, queue_position=None)\n",
      "JobStatus(status=<StatusEnum.SUBMITTED: 'Circuit has been submitted.'>, message='Job has been submitted to Nexus.', error_detail=None, completed_time=None, queued_time=None, submitted_time=datetime.datetime(2024, 10, 16, 3, 47, 54, 598897, tzinfo=datetime.timezone.utc), running_time=None, cancelled_time=None, error_time=None, queue_position=None)\n"
     ]
    }
   ],
   "source": [
    "rounds = 20\n",
    "for round in range(rounds):\n",
    "    execute_job_ref = qnx.start_execute_job(\n",
    "    circuits=compiled_circuits,\n",
    "    name=f\"execute_system_size_noiseless_round{round}\",\n",
    "    n_shots=[nshots]* len(compiled_circuits),\n",
    "    backend_config=qnx.QuantinuumConfig(device_name=\"H1-1LE\"),\n",
    "    project=project_ref,\n",
    "    )\n",
    "    print(qnx.jobs.status(execute_job_ref))\n",
    "    # Block until the job is complete\n",
    "    qnx.jobs.wait_for(execute_job_ref)\n",
    "    # Retrieve a ExecutionResultRef for every Circuit that was executed\n",
    "    execute_job_result_refs = qnx.jobs.results(execute_job_ref)\n",
    "    # Get a pytket BackendResult for the execution\n",
    "    for i,nqubits in enumerate(sys_sizes):\n",
    "        result = execute_job_result_refs[i].download_result()\n",
    "        distribution = result.get_distribution()\n",
    "        expect = 0\n",
    "        for key, value in distribution.items():\n",
    "            new_key = [-(j*2-1) for j in key]\n",
    "            expect += sum(new_key) * value\n",
    "        expect_ls[i].append(expect)"
   ]
  },
  {
   "cell_type": "code",
   "execution_count": 46,
   "metadata": {},
   "outputs": [
    {
     "data": {
      "text/plain": [
       "[[-0.064,\n",
       "  0.0040000000000000036,\n",
       "  -0.0040000000000000036,\n",
       "  0.040000000000000036,\n",
       "  -0.064,\n",
       "  -0.020000000000000018,\n",
       "  -0.03600000000000003,\n",
       "  -0.016000000000000014,\n",
       "  -0.020000000000000018,\n",
       "  0.008000000000000007,\n",
       "  -0.008000000000000007,\n",
       "  0.06000000000000005,\n",
       "  -0.03200000000000003,\n",
       "  0.01200000000000001,\n",
       "  0.04800000000000004,\n",
       "  -0.008000000000000007,\n",
       "  0.05600000000000005,\n",
       "  -0.008000000000000007,\n",
       "  0.0,\n",
       "  -0.052000000000000046,\n",
       "  -0.11200000000000004],\n",
       " [-0.06,\n",
       "  0.11599999999999999,\n",
       "  0.09599999999999992,\n",
       "  0.02400000000000002,\n",
       "  0.055999999999999994,\n",
       "  0.15199999999999997,\n",
       "  0.01200000000000001,\n",
       "  -0.01200000000000001,\n",
       "  0.06800000000000006,\n",
       "  0.03600000000000003,\n",
       "  -0.07200000000000001,\n",
       "  -0.12,\n",
       "  -0.10400000000000004,\n",
       "  0.16799999999999998,\n",
       "  -0.020000000000000018,\n",
       "  0.03600000000000003,\n",
       "  0.12000000000000005,\n",
       "  -0.064,\n",
       "  -0.08000000000000002,\n",
       "  -0.06,\n",
       "  0.13200000000000006],\n",
       " [0.03599999999999995,\n",
       "  -0.0040000000000000036,\n",
       "  0.03200000000000003,\n",
       "  -0.003999999999999948,\n",
       "  -0.11200000000000002,\n",
       "  0.03200000000000003,\n",
       "  -0.028000000000000025,\n",
       "  -0.05199999999999999,\n",
       "  -0.05600000000000005,\n",
       "  0.19999999999999998,\n",
       "  -0.03200000000000003,\n",
       "  -0.043999999999999984,\n",
       "  -0.016000000000000042,\n",
       "  -0.05599999999999994,\n",
       "  0.07999999999999999,\n",
       "  -0.04799999999999999,\n",
       "  -0.052000000000000046,\n",
       "  -0.0039999999999998925,\n",
       "  -0.18399999999999994,\n",
       "  0.12399999999999994,\n",
       "  -0.02799999999999997],\n",
       " [-0.051999999999999824,\n",
       "  -0.10399999999999981,\n",
       "  0.015999999999999986,\n",
       "  0.03599999999999981,\n",
       "  -0.08799999999999994,\n",
       "  0.06000000000000007,\n",
       "  0.13200000000000003,\n",
       "  0.18400000000000005,\n",
       "  -0.16799999999999998,\n",
       "  -0.2719999999999999,\n",
       "  0.008000000000000049,\n",
       "  0.09599999999999978,\n",
       "  0.020000000000000143,\n",
       "  0.06,\n",
       "  0.003999999999999934,\n",
       "  0.25999999999999984,\n",
       "  0.043999999999999845,\n",
       "  -0.0519999999999998,\n",
       "  0.008000000000000035,\n",
       "  -0.07600000000000004,\n",
       "  -0.03999999999999986],\n",
       " [0.18800000000000008,\n",
       "  -0.16800000000000004,\n",
       "  0.01200000000000001,\n",
       "  -0.007999999999999965,\n",
       "  -0.18000000000000005,\n",
       "  -0.26,\n",
       "  -0.023999999999999952,\n",
       "  -0.06400000000000002,\n",
       "  -0.08800000000000002,\n",
       "  -0.047999999999999966,\n",
       "  0.09199999999999998,\n",
       "  0.008000000000000111,\n",
       "  -0.05200000000000015,\n",
       "  0.17200000000000004,\n",
       "  -0.023999999999999952,\n",
       "  -0.26399999999999996,\n",
       "  -0.04399999999999996,\n",
       "  0.027999999999999955,\n",
       "  -0.11600000000000002,\n",
       "  0.08399999999999988,\n",
       "  0.03199999999999992],\n",
       " [0.06799999999999996,\n",
       "  0.17599999999999993,\n",
       "  -0.056,\n",
       "  6.591949208711867e-17,\n",
       "  -0.040000000000000036,\n",
       "  0.027999999999999935,\n",
       "  0.14399999999999996,\n",
       "  0.07999999999999995,\n",
       "  -0.020000000000000177,\n",
       "  0.19999999999999996,\n",
       "  0.032000000000000015,\n",
       "  -0.252,\n",
       "  -0.04400000000000012,\n",
       "  0.07599999999999989,\n",
       "  -0.05600000000000013,\n",
       "  -0.20800000000000007,\n",
       "  0.19600000000000006,\n",
       "  0.004000000000000028,\n",
       "  0.23600000000000002,\n",
       "  -0.20400000000000004,\n",
       "  -0.09599999999999997],\n",
       " [-0.13599999999999995,\n",
       "  -0.24800000000000005,\n",
       "  -0.035999999999999976,\n",
       "  0.29200000000000015,\n",
       "  -0.24000000000000002,\n",
       "  -0.048000000000000015,\n",
       "  0.2480000000000001,\n",
       "  0.17999999999999997,\n",
       "  0.004000000000000066,\n",
       "  -0.11599999999999999,\n",
       "  0.1360000000000001,\n",
       "  0.056000000000000036,\n",
       "  -0.088,\n",
       "  -0.048000000000000015,\n",
       "  -0.3160000000000002,\n",
       "  -0.3680000000000001,\n",
       "  0.08800000000000001,\n",
       "  0.10400000000000004,\n",
       "  0.15999999999999992,\n",
       "  -0.20800000000000005,\n",
       "  -0.18399999999999994],\n",
       " [-0.13599999999999995,\n",
       "  0.3880000000000001,\n",
       "  0.01999999999999998,\n",
       "  -0.23600000000000004,\n",
       "  0.06000000000000007,\n",
       "  0.05200000000000006,\n",
       "  -0.29200000000000004,\n",
       "  0.048,\n",
       "  -0.06399999999999999,\n",
       "  0.04399999999999987,\n",
       "  0.05999999999999999,\n",
       "  -0.08,\n",
       "  0.29200000000000004,\n",
       "  -0.048000000000000015,\n",
       "  -0.15600000000000003,\n",
       "  -0.008000000000000007,\n",
       "  0.16399999999999995,\n",
       "  0.19600000000000012,\n",
       "  0.1119999999999999,\n",
       "  0.0759999999999999,\n",
       "  0.019999999999999896],\n",
       " [0.008000000000000004,\n",
       "  0.13599999999999993,\n",
       "  0.02000000000000006,\n",
       "  0.04800000000000003,\n",
       "  -0.0880000000000001,\n",
       "  0.18800000000000003,\n",
       "  -0.06000000000000007,\n",
       "  -0.004000000000000056,\n",
       "  -1.1796119636642288e-16,\n",
       "  0.06000000000000008,\n",
       "  0.044,\n",
       "  0.11999999999999994,\n",
       "  -0.2640000000000002,\n",
       "  0.03200000000000003,\n",
       "  -0.3640000000000002,\n",
       "  -0.15999999999999995,\n",
       "  0.05999999999999993,\n",
       "  0.09200000000000007,\n",
       "  -0.22400000000000003,\n",
       "  0.1920000000000001,\n",
       "  0.07600000000000001],\n",
       " [0.5360000000000003,\n",
       "  -0.09600000000000006,\n",
       "  0.1359999999999999,\n",
       "  -0.06799999999999994,\n",
       "  -0.11599999999999994,\n",
       "  0.20400000000000001,\n",
       "  0.3880000000000001,\n",
       "  0.02400000000000002,\n",
       "  0.22000000000000003,\n",
       "  -0.003999999999999986,\n",
       "  -0.11599999999999998,\n",
       "  -0.2280000000000001,\n",
       "  0.16000000000000006,\n",
       "  0.1120000000000001,\n",
       "  0.003999999999999955,\n",
       "  -0.17200000000000004,\n",
       "  -0.19600000000000017,\n",
       "  0.020000000000000046,\n",
       "  -0.011999999999999972,\n",
       "  0.059999999999999984,\n",
       "  -0.2119999999999999],\n",
       " [0.2199999999999999,\n",
       "  0.23600000000000002,\n",
       "  0.04399999999999994,\n",
       "  -0.16399999999999998,\n",
       "  -0.5280000000000002,\n",
       "  0.051999999999999956,\n",
       "  -0.14000000000000007,\n",
       "  0.22799999999999998,\n",
       "  -0.26800000000000007,\n",
       "  0.0999999999999999,\n",
       "  0.172,\n",
       "  -0.16000000000000014,\n",
       "  -0.20800000000000007,\n",
       "  0.12399999999999997,\n",
       "  0.019999999999999893,\n",
       "  0.051999999999999956,\n",
       "  -0.08400000000000007,\n",
       "  0.3880000000000001,\n",
       "  -0.08800000000000015,\n",
       "  -0.07200000000000006,\n",
       "  0.1039999999999999]]"
      ]
     },
     "execution_count": 46,
     "metadata": {},
     "output_type": "execute_result"
    }
   ],
   "source": [
    "expect_ls"
   ]
  },
  {
   "cell_type": "code",
   "execution_count": 48,
   "metadata": {},
   "outputs": [],
   "source": [
    "mean_ls = [abs(np.mean(expect)) for expect in expect_ls]\n",
    "std_ls = [np.std(expect) for expect in expect_ls]"
   ]
  },
  {
   "cell_type": "code",
   "execution_count": 74,
   "metadata": {},
   "outputs": [
    {
     "data": {
      "text/plain": [
       "Text(0, 0.5, 'Expected energy')"
      ]
     },
     "execution_count": 74,
     "metadata": {},
     "output_type": "execute_result"
    },
    {
     "data": {
      "image/png": "[encoded data removed]",
      "text/plain": [
       "<Figure size 600x400 with 1 Axes>"
      ]
     },
     "metadata": {},
     "output_type": "display_data"
    }
   ],
   "source": [
    "fig, ax = plt.subplots(figsize=(6, 4))\n",
    "mean_ls = np.asarray(mean_ls)\n",
    "std_ls = np.asarray(std_ls)\n",
    "ax.plot(sys_sizes, mean_ls, 'o-', label='Mean')\n",
    "ax.fill_between(sys_sizes, mean_ls - std_ls, mean_ls + std_ls, alpha=0.3)\n",
    "ax.set_xlabel('System size')\n",
    "ax.set_ylabel('Expected energy')"
   ]
  },
  {
   "cell_type": "code",
   "execution_count": 55,
   "metadata": {},
   "outputs": [
    {
     "name": "stdout",
     "output_type": "stream",
     "text": [
      "[0.0437586]\n"
     ]
    }
   ],
   "source": [
    "def run_param_rc(fontsize = 15):\n",
    "        import matplotlib.pyplot as plt\n",
    "        plt.rcParams['axes.labelsize'] = fontsize\n",
    "        plt.rcParams['axes.titlesize'] = fontsize\n",
    "        plt.rcParams['font.size'] = fontsize\n",
    "        #set_matplotlib_formats('pdf', 'png')\n",
    "        plt.rcParams['savefig.dpi'] = 75\n",
    "        plt.rcParams['lines.linewidth'] = 2.0\n",
    "        plt.rcParams['lines.markersize'] = 8\n",
    "        plt.rcParams['legend.fontsize'] = 12\n",
    "        plt.rcParams['legend.labelspacing'] = .3\n",
    "        plt.rcParams['legend.columnspacing']= .3\n",
    "        plt.rcParams['legend.handletextpad']= .1\n",
    "        plt.rcParams['text.usetex'] = True\n",
    "        plt.rcParams['mathtext.fontset'] = 'stix'\n",
    "        plt.rcParams['font.family'] = 'STIXGeneral'\n",
    "        plt.rcParams['font.serif'] = \"cm\"\n",
    "run_param_rc()\n",
    "from mpl_toolkits.axes_grid1.inset_locator import inset_axes\n",
    "from scipy.optimize import curve_fit\n",
    "def fit_over_sqrt(i, c):\n",
    "    return c * i ** (0.5)\n",
    "\n",
    "# Perform a curve fit on the data\n",
    "params, covariance = curve_fit(fit_over_sqrt, np.array(sys_sizes), np.array(std_ls))\n",
    "\n",
    "# Extract the fitted parameters\n",
    "fitted_c = params\n",
    "\n",
    "# Generate the fitted curve\n",
    "fitted_y_vals = fit_over_sqrt(np.array(sys_sizes), np.array(fitted_c))\n",
    "print(fitted_c)"
   ]
  },
  {
   "cell_type": "code",
   "execution_count": 79,
   "metadata": {},
   "outputs": [
    {
     "name": "stderr",
     "output_type": "stream",
     "text": [
      "/var/folders/sn/4ym_qb8x0cs_f961d78kvvkc0000gn/T/ipykernel_43251/2329750149.py:17: UserWarning: This figure includes Axes that are not compatible with tight_layout, so results might be incorrect.\n",
      "  fig.tight_layout()\n"
     ]
    },
    {
     "data": {
      "image/png": "[encoded data removed]",
      "text/plain": [
       "<Figure size 750x500 with 2 Axes>"
      ]
     },
     "metadata": {},
     "output_type": "display_data"
    }
   ],
   "source": [
    "fig, ax = plt.subplots(figsize=(3*2.5, 2*2.5))\n",
    "mean_ls = np.asarray(mean_ls)\n",
    "std_ls = np.asarray(std_ls)\n",
    "ax.plot(sys_sizes, mean_ls, 'o-', label='Mean')\n",
    "ax.fill_between(sys_sizes, mean_ls - std_ls, mean_ls + std_ls, alpha=0.3)\n",
    "ax.set_xlabel(r'System size $L$')\n",
    "ax.set_ylabel(r'$\\sum_{i=0}^{L}\\langle X_i\\rangle$')\n",
    "inset_ax = inset_axes(ax, width=\"40%\", height=\"30%\", loc='lower left', \n",
    "                      bbox_to_anchor=(0.15, 0.05, 1, 1),  # Adjust the values to move the inset\n",
    "                      bbox_transform=ax.transAxes) \n",
    "inset_ax.plot(sys_sizes, std_ls)\n",
    "inset_ax.plot(sys_sizes, [fitted_c * shot ** (0.5) for shot in sys_sizes], label=r'slope=$\\frac{1}{2}$')\n",
    "inset_ax.set_yscale('log')\n",
    "inset_ax.set_xscale('log')\n",
    "inset_ax.set_title(r'$\\sigma$')\n",
    "inset_ax.legend()\n",
    "fig.tight_layout()\n",
    "fig.savefig('clt2.pdf')\n"
   ]
  },
  {
   "cell_type": "markdown",
   "metadata": {},
   "source": [
    "# With noise"
   ]
  },
  {
   "cell_type": "markdown",
   "metadata": {},
   "source": []
  }
 ],
 "metadata": {
  "kernelspec": {
   "display_name": "boostvqe-9Q-2T4PW-py3.11",
   "language": "python",
   "name": "python3"
  },
  "language_info": {
   "codemirror_mode": {
    "name": "ipython",
    "version": 3
   },
   "file_extension": ".py",
   "mimetype": "text/x-python",
   "name": "python",
   "nbconvert_exporter": "python",
   "pygments_lexer": "ipython3",
   "version": "3.11.7"
  }
 },
 "nbformat": 4,
 "nbformat_minor": 2
}
