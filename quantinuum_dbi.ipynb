{
 "cells": [
  {
   "cell_type": "code",
   "execution_count": 83,
   "metadata": {},
   "outputs": [],
   "source": [
    "from datetime import datetime\n",
    "\n",
    "from pytket import Circuit\n",
    "from pytket.circuit.display import render_circuit_jupyter\n",
    "from pytket.utils.operators import QubitPauliOperator\n",
    "from pytket.partition import measurement_reduction, MeasurementBitMap, MeasurementSetup, PauliPartitionStrat\n",
    "from pytket.backends.backendresult import BackendResult\n",
    "from pytket.pauli import Pauli, QubitPauliString\n",
    "from pytket.circuit import Qubit\n",
    "import pytket.qasm\n",
    "\n",
    "from scipy.optimize import minimize\n",
    "from numpy import ndarray\n",
    "from numpy.random import random_sample\n",
    "from sympy import Symbol\n",
    "from functools import partial\n",
    "\n",
    "import qnexus as qnx\n",
    "from copy import deepcopy\n",
    "import matplotlib.pyplot as plt"
   ]
  },
  {
   "cell_type": "code",
   "execution_count": 50,
   "metadata": {},
   "outputs": [],
   "source": [
    "# qibo's\n",
    "import qibo\n",
    "from qibo import gates, hamiltonians, models\n",
    "from qibo.backends import GlobalBackend\n",
    "from qibo.models.dbi.double_bracket import (\n",
    "    DoubleBracketGeneratorType,\n",
    "    DoubleBracketIteration,\n",
    ")\n",
    "\n",
    "\n",
    "# boostvqe's\n",
    "from boostvqe import ansatze\n",
    "from boostvqe.plotscripts import plot_gradients, plot_loss\n",
    "from boostvqe.training_utils import Model, vqe_loss, TLFIM\n",
    "from boostvqe.models.dbi.double_bracket_evolution_oracles import *\n",
    "from boostvqe.utils import (\n",
    "    DBI_D_MATRIX,\n",
    "    DBI_ENERGIES,\n",
    "    DBI_FLUCTUATIONS,\n",
    "    DBI_STEPS,\n",
    "    FLUCTUATION_FILE,\n",
    "    GRADS_FILE,\n",
    "    HAMILTONIAN_FILE,\n",
    "    LOSS_FILE,\n",
    "    SEED,\n",
    "    TOL,\n",
    "    apply_dbi_steps,\n",
    "    create_folder,\n",
    "    generate_path,\n",
    "    results_dump,\n",
    "    rotate_h_with_vqe,\n",
    "    train_vqe,\n",
    ")\n",
    "import numpy as np"
   ]
  },
  {
   "cell_type": "markdown",
   "metadata": {},
   "source": [
    "## Helper functions"
   ]
  },
  {
   "cell_type": "code",
   "execution_count": 51,
   "metadata": {},
   "outputs": [],
   "source": [
    "# helper functions\n",
    "def exact_expectation_boost(ham, circ):\n",
    "    # calculates the exact expectation of hamiltonian given a circuit in qibo\n",
    "    return ham.expectation(\n",
    "        ham.backend.execute_circuit(circuit=circ).state())"
   ]
  },
  {
   "cell_type": "markdown",
   "metadata": {},
   "source": [
    "# TLFIM model\n",
    "\n",
    "Our goal here is to run VQE on the TFIM model, defined as\n",
    "$$\n",
    "H_{TLFIM} = - \\sum _{i=0}^N \\left ( Z_i Z_{i + 1} + h_0 X_i + h_1 Z_i \\right ).\n",
    "$$\n",
    "\n",
    "Let's use $L=5$ and $h_0=3, h_1=1$."
   ]
  },
  {
   "cell_type": "code",
   "execution_count": 52,
   "metadata": {},
   "outputs": [
    {
     "name": "stderr",
     "output_type": "stream",
     "text": [
      "[Qibo 0.2.12|INFO|2024-10-22 12:20:09]: Using tensorflow backend on /device:CPU:0\n",
      "INFO:qibo.config:Using tensorflow backend on /device:CPU:0\n"
     ]
    }
   ],
   "source": [
    "qibo.set_backend(\"tensorflow\")"
   ]
  },
  {
   "cell_type": "code",
   "execution_count": 53,
   "metadata": {},
   "outputs": [
    {
     "name": "stderr",
     "output_type": "stream",
     "text": [
      "[Qibo 0.2.12|WARNING|2024-10-22 12:20:09]: Calculating the dense form of a symbolic Hamiltonian. This operation is memory inefficient.\n",
      "WARNING:qibo.config:Calculating the dense form of a symbolic Hamiltonian. This operation is memory inefficient.\n"
     ]
    },
    {
     "data": {
      "text/plain": [
       "<matplotlib.colorbar.Colorbar at 0x29c682310>"
      ]
     },
     "execution_count": 53,
     "metadata": {},
     "output_type": "execute_result"
    },
    {
     "data": {
      "image/png": "[encoded data removed]",
      "text/plain": [
       "<Figure size 640x480 with 2 Axes>"
      ]
     },
     "metadata": {},
     "output_type": "display_data"
    }
   ],
   "source": [
    "nqubits = 5\n",
    "h0 = 3\n",
    "h1 = 1\n",
    "h = [h0, h1]\n",
    "hamiltonian = TLFIM(nqubits, h, dense=False)\n",
    "plt.imshow(np.real(hamiltonian.matrix))\n",
    "plt.colorbar()"
   ]
  },
  {
   "cell_type": "markdown",
   "metadata": {},
   "source": [
    "# Train VQE"
   ]
  },
  {
   "cell_type": "code",
   "execution_count": 54,
   "metadata": {},
   "outputs": [
    {
     "name": "stderr",
     "output_type": "stream",
     "text": [
      "[Qibo 0.2.12|WARNING|2024-10-22 12:20:09]: Starting on qibo 0.2.13, ``Circuit.draw`` will work in-place. The in-place method is currently implemented as ``Circuit.display``, but will be renamed as ``Circuit.draw`` on release 0.2.13. In release 0.2.12, the in-place display of circuits is accessible as ``Circuit.display``.\n",
      "WARNING:qibo.config:Starting on qibo 0.2.13, ``Circuit.draw`` will work in-place. The in-place method is currently implemented as ``Circuit.display``, but will be renamed as ``Circuit.draw`` on release 0.2.13. In release 0.2.12, the in-place display of circuits is accessible as ``Circuit.display``.\n"
     ]
    },
    {
     "name": "stdout",
     "output_type": "stream",
     "text": [
      "q0: ─RY─RZ─o───RY─RZ───o─RY─\n",
      "q1: ─RY─RZ─Z───RY─RZ─o─|─RY─\n",
      "q2: ─RY─RZ───o─RY─RZ─Z─|─RY─\n",
      "q3: ─RY─RZ───Z─RY─RZ───|─RY─\n",
      "q4: ─RY─RZ─────RY─RZ───Z─RY─\n"
     ]
    }
   ],
   "source": [
    "# build ansatz circuit\n",
    "nlayer = 1\n",
    "ansatz_circ = ansatze.hdw_efficient(nqubits, nlayer)\n",
    "print(ansatz_circ.draw())"
   ]
  },
  {
   "cell_type": "code",
   "execution_count": 55,
   "metadata": {},
   "outputs": [
    {
     "name": "stdout",
     "output_type": "stream",
     "text": [
      "[ 1.70475788 -3.01120431  0.83973663  1.5632809  -0.00938072 -1.72915367\n",
      " -1.89712697  1.63696274 -2.07903793 -2.58653723  1.16465009  2.84875441\n",
      " -3.11678496  0.07660625  1.96425543  0.70702213  1.39332975 -1.30768123\n",
      "  2.62495223  1.34821941  0.26731415 -2.2483119  -0.79582348  1.09411377\n",
      " -0.36547294]\n",
      "Target enegry: -16.974668492500406\n",
      "Initial energy: tf.Tensor(-0.479242827486222, shape=(), dtype=float64)\n"
     ]
    }
   ],
   "source": [
    "# build zero state\n",
    "zero_state = hamiltonian.backend.zero_state(nqubits)\n",
    "# initial params\n",
    "params_len = len(ansatz_circ.get_parameters())\n",
    "# fix numpy seed to ensure replicability of the experiment\n",
    "seed = 10\n",
    "np.random.seed(seed)\n",
    "initial_params = np.random.uniform(-np.pi, np.pi, params_len)\n",
    "print(initial_params)\n",
    "# initial energy\n",
    "c0 = deepcopy(ansatz_circ)\n",
    "c0.set_parameters(initial_params)\n",
    "target_energy = np.real(np.min(np.asarray(hamiltonian.eigenvalues())))\n",
    "print('Target enegry:', target_energy)\n",
    "print('Initial energy:', exact_expectation_boost(hamiltonian, c0))"
   ]
  },
  {
   "cell_type": "code",
   "execution_count": 56,
   "metadata": {},
   "outputs": [],
   "source": [
    "niter = 1\n",
    "# define the qibo loss function\n",
    "objective_boost = partial(vqe_loss)\n",
    "# logging hisotry\n",
    "params_history, loss_history, grads_history, fluctuations = [], [], [], []\n",
    "# set optimizer\n",
    "optimizer = 'sgd'\n",
    "tol = 1e-2"
   ]
  },
  {
   "cell_type": "code",
   "execution_count": 57,
   "metadata": {},
   "outputs": [
    {
     "name": "stderr",
     "output_type": "stream",
     "text": [
      "INFO:root:Optimization iteration 0/1\n",
      "INFO:root:Loss -0.47924\n",
      "INFO:root:Minimize the energy\n",
      "INFO:root:Optimization iteration 1/1\n",
      "INFO:root:Loss -0.50334\n",
      "INFO:root:Optimization iteration 2/1\n",
      "INFO:root:Loss -0.52075\n",
      "[Qibo 0.2.12|INFO|2024-10-22 12:20:10]: ite 1 : loss -0.503343\n",
      "INFO:qibo.config:ite 1 : loss -0.503343\n",
      "INFO:root:Optimization iteration 3/1\n",
      "INFO:root:Loss -0.53509\n",
      "INFO:root:Optimization iteration 4/1\n",
      "INFO:root:Loss -0.54757\n",
      "INFO:root:Optimization iteration 5/1\n",
      "INFO:root:Loss -0.55877\n",
      "INFO:root:Optimization iteration 6/1\n",
      "INFO:root:Loss -0.56901\n",
      "INFO:root:Optimization iteration 7/1\n",
      "INFO:root:Loss -0.5785\n",
      "INFO:root:Optimization iteration 8/1\n",
      "INFO:root:Loss -0.58739\n",
      "INFO:root:Optimization iteration 9/1\n",
      "INFO:root:Loss -0.59579\n",
      "INFO:root:Optimization iteration 10/1\n",
      "INFO:root:Loss -0.60376\n",
      "INFO:root:Optimization iteration 11/1\n",
      "INFO:root:Loss -0.61136\n",
      "INFO:root:Optimization iteration 12/1\n",
      "INFO:root:Loss -0.61864\n",
      "INFO:root:Optimization iteration 13/1\n",
      "INFO:root:Loss -0.62564\n",
      "INFO:root:Optimization iteration 14/1\n",
      "INFO:root:Loss -0.63239\n",
      "INFO:root:Optimization iteration 15/1\n",
      "INFO:root:Loss -0.63891\n",
      "INFO:root:Optimization iteration 16/1\n",
      "INFO:root:Loss -0.64522\n",
      "INFO:root:Optimization iteration 17/1\n",
      "INFO:root:Loss -0.65135\n",
      "INFO:root:Optimization iteration 18/1\n",
      "INFO:root:Loss -0.65731\n",
      "INFO:root:Optimization iteration 19/1\n",
      "INFO:root:Loss -0.66311\n",
      "INFO:root:Optimization iteration 20/1\n",
      "INFO:root:Loss -0.66876\n",
      "INFO:root:Optimization iteration 21/1\n",
      "INFO:root:Loss -0.67428\n",
      "INFO:root:Optimization iteration 22/1\n",
      "INFO:root:Loss -0.67967\n",
      "INFO:root:Optimization iteration 23/1\n",
      "INFO:root:Loss -0.68495\n",
      "INFO:root:Optimization iteration 24/1\n",
      "INFO:root:Loss -0.69011\n",
      "INFO:root:Optimization iteration 25/1\n",
      "INFO:root:Loss -0.69517\n",
      "INFO:root:Optimization iteration 26/1\n",
      "INFO:root:Loss -0.70014\n",
      "INFO:root:Optimization iteration 27/1\n",
      "INFO:root:Loss -0.70501\n",
      "INFO:root:Optimization iteration 28/1\n",
      "INFO:root:Loss -0.70979\n",
      "INFO:root:Optimization iteration 29/1\n",
      "INFO:root:Loss -0.71449\n",
      "INFO:root:Optimization iteration 30/1\n",
      "INFO:root:Loss -0.71911\n",
      "INFO:root:Optimization iteration 31/1\n",
      "INFO:root:Loss -0.72366\n",
      "INFO:root:Optimization iteration 32/1\n",
      "INFO:root:Loss -0.72813\n",
      "INFO:root:Optimization iteration 33/1\n",
      "INFO:root:Loss -0.73254\n",
      "INFO:root:Optimization iteration 34/1\n",
      "INFO:root:Loss -0.73688\n",
      "INFO:root:Optimization iteration 35/1\n",
      "INFO:root:Loss -0.74116\n",
      "INFO:root:Optimization iteration 36/1\n",
      "INFO:root:Loss -0.74538\n",
      "INFO:root:Optimization iteration 37/1\n",
      "INFO:root:Loss -0.74954\n",
      "INFO:root:Optimization iteration 38/1\n",
      "INFO:root:Loss -0.75365\n",
      "INFO:root:Optimization iteration 39/1\n",
      "INFO:root:Loss -0.7577\n",
      "INFO:root:Optimization iteration 40/1\n",
      "INFO:root:Loss -0.76171\n",
      "INFO:root:Optimization iteration 41/1\n",
      "INFO:root:Loss -0.76566\n",
      "INFO:root:Optimization iteration 42/1\n",
      "INFO:root:Loss -0.76957\n",
      "INFO:root:Optimization iteration 43/1\n",
      "INFO:root:Loss -0.77343\n",
      "INFO:root:Optimization iteration 44/1\n",
      "INFO:root:Loss -0.77725\n",
      "INFO:root:Optimization iteration 45/1\n",
      "INFO:root:Loss -0.78102\n",
      "INFO:root:Optimization iteration 46/1\n",
      "INFO:root:Loss -0.78476\n",
      "INFO:root:Optimization iteration 47/1\n",
      "INFO:root:Loss -0.78845\n",
      "INFO:root:Optimization iteration 48/1\n",
      "INFO:root:Loss -0.79211\n",
      "INFO:root:Optimization iteration 49/1\n",
      "INFO:root:Loss -0.79573\n",
      "INFO:root:Optimization iteration 50/1\n",
      "INFO:root:Loss -0.79931\n",
      "INFO:root:Optimization iteration 51/1\n",
      "INFO:root:Loss -0.80285\n",
      "INFO:root:Optimization iteration 52/1\n",
      "INFO:root:Loss -0.80637\n",
      "INFO:root:Optimization iteration 53/1\n",
      "INFO:root:Loss -0.80984\n",
      "INFO:root:Optimization iteration 54/1\n",
      "INFO:root:Loss -0.81329\n",
      "INFO:root:Optimization iteration 55/1\n",
      "INFO:root:Loss -0.8167\n",
      "INFO:root:Optimization iteration 56/1\n",
      "INFO:root:Loss -0.82009\n",
      "INFO:root:Optimization iteration 57/1\n",
      "INFO:root:Loss -0.82344\n",
      "INFO:root:Optimization iteration 58/1\n",
      "INFO:root:Loss -0.82677\n",
      "INFO:root:Optimization iteration 59/1\n",
      "INFO:root:Loss -0.83007\n",
      "INFO:root:Optimization iteration 60/1\n",
      "INFO:root:Loss -0.83334\n",
      "INFO:root:Optimization iteration 61/1\n",
      "INFO:root:Loss -0.83658\n",
      "INFO:root:Optimization iteration 62/1\n",
      "INFO:root:Loss -0.83979\n",
      "INFO:root:Optimization iteration 63/1\n",
      "INFO:root:Loss -0.84298\n",
      "INFO:root:Optimization iteration 64/1\n",
      "INFO:root:Loss -0.84615\n",
      "INFO:root:Optimization iteration 65/1\n",
      "INFO:root:Loss -0.84929\n",
      "INFO:root:Optimization iteration 66/1\n",
      "INFO:root:Loss -0.85241\n",
      "INFO:root:Optimization iteration 67/1\n",
      "INFO:root:Loss -0.8555\n",
      "INFO:root:Optimization iteration 68/1\n",
      "INFO:root:Loss -0.85857\n",
      "INFO:root:Optimization iteration 69/1\n",
      "INFO:root:Loss -0.86162\n",
      "INFO:root:Optimization iteration 70/1\n",
      "INFO:root:Loss -0.86465\n",
      "INFO:root:Optimization iteration 71/1\n",
      "INFO:root:Loss -0.86765\n",
      "INFO:root:Optimization iteration 72/1\n",
      "INFO:root:Loss -0.87064\n",
      "INFO:root:Optimization iteration 73/1\n",
      "INFO:root:Loss -0.8736\n",
      "INFO:root:Optimization iteration 74/1\n",
      "INFO:root:Loss -0.87654\n",
      "INFO:root:Optimization iteration 75/1\n",
      "INFO:root:Loss -0.87947\n",
      "INFO:root:Optimization iteration 76/1\n",
      "INFO:root:Loss -0.88237\n",
      "INFO:root:Optimization iteration 77/1\n",
      "INFO:root:Loss -0.88526\n",
      "INFO:root:Optimization iteration 78/1\n",
      "INFO:root:Loss -0.88813\n",
      "INFO:root:Optimization iteration 79/1\n",
      "INFO:root:Loss -0.89097\n",
      "INFO:root:Optimization iteration 80/1\n",
      "INFO:root:Loss -0.89381\n",
      "INFO:root:Optimization iteration 81/1\n",
      "INFO:root:Loss -0.89662\n",
      "INFO:root:Optimization iteration 82/1\n",
      "INFO:root:Loss -0.89941\n",
      "INFO:root:Optimization iteration 83/1\n",
      "INFO:root:Loss -0.90219\n",
      "INFO:root:Optimization iteration 84/1\n",
      "INFO:root:Loss -0.90496\n",
      "INFO:root:Optimization iteration 85/1\n",
      "INFO:root:Loss -0.9077\n",
      "INFO:root:Optimization iteration 86/1\n",
      "INFO:root:Loss -0.91043\n",
      "INFO:root:Optimization iteration 87/1\n",
      "INFO:root:Loss -0.91315\n",
      "INFO:root:Optimization iteration 88/1\n",
      "INFO:root:Loss -0.91585\n",
      "INFO:root:Optimization iteration 89/1\n",
      "INFO:root:Loss -0.91853\n",
      "INFO:root:Optimization iteration 90/1\n",
      "INFO:root:Loss -0.9212\n",
      "INFO:root:Optimization iteration 91/1\n",
      "INFO:root:Loss -0.92385\n",
      "INFO:root:Optimization iteration 92/1\n",
      "INFO:root:Loss -0.92649\n",
      "INFO:root:Optimization iteration 93/1\n",
      "INFO:root:Loss -0.92912\n",
      "INFO:root:Optimization iteration 94/1\n",
      "INFO:root:Loss -0.93173\n",
      "INFO:root:Optimization iteration 95/1\n",
      "INFO:root:Loss -0.93432\n",
      "INFO:root:Optimization iteration 96/1\n",
      "INFO:root:Loss -0.93691\n",
      "INFO:root:Optimization iteration 97/1\n",
      "INFO:root:Loss -0.93948\n",
      "INFO:root:Optimization iteration 98/1\n",
      "INFO:root:Loss -0.94203\n",
      "INFO:root:Optimization iteration 99/1\n",
      "INFO:root:Loss -0.94458\n",
      "INFO:root:Optimization iteration 100/1\n",
      "INFO:root:Loss -0.94711\n"
     ]
    }
   ],
   "source": [
    "# train vqe\n",
    "(\n",
    "    partial_results,\n",
    "    partial_params_history,\n",
    "    partial_loss_history,\n",
    "    partial_grads_history,\n",
    "    partial_fluctuations,\n",
    "    vqe,\n",
    ") = train_vqe(\n",
    "    deepcopy(ansatz_circ),\n",
    "    hamiltonian,  # Fixed hamiltonian\n",
    "    optimizer,\n",
    "    initial_params,\n",
    "    tol=tol,\n",
    "    niterations=1,\n",
    "    nmessage=1,\n",
    "    loss=objective_boost,\n",
    "    training_options={'nepochs':100,}\n",
    ")\n",
    "params_history = np.array(partial_params_history)\n",
    "loss_history = np.array(partial_loss_history)\n",
    "grads_history = np.array(partial_grads_history)\n",
    "fluctuations = np.array(partial_fluctuations)"
   ]
  },
  {
   "cell_type": "code",
   "execution_count": 58,
   "metadata": {},
   "outputs": [
    {
     "data": {
      "text/plain": [
       "[<matplotlib.lines.Line2D at 0x17aa27ed0>]"
      ]
     },
     "execution_count": 58,
     "metadata": {},
     "output_type": "execute_result"
    },
    {
     "data": {
      "image/png": "[encoded data removed]",
      "text/plain": [
       "<Figure size 640x480 with 1 Axes>"
      ]
     },
     "metadata": {},
     "output_type": "display_data"
    }
   ],
   "source": [
    "plt.plot(loss_history)"
   ]
  },
  {
   "cell_type": "code",
   "execution_count": 59,
   "metadata": {},
   "outputs": [
    {
     "data": {
      "text/plain": [
       "<matplotlib.colorbar.Colorbar at 0x160056190>"
      ]
     },
     "execution_count": 59,
     "metadata": {},
     "output_type": "execute_result"
    },
    {
     "data": {
      "image/png": "[encoded data removed]",
      "text/plain": [
       "<Figure size 640x480 with 2 Axes>"
      ]
     },
     "metadata": {},
     "output_type": "display_data"
    }
   ],
   "source": [
    "# obtain rotated hamiltonian\n",
    "new_ham_matrix = rotate_h_with_vqe(hamiltonian=hamiltonian, vqe=vqe)\n",
    "new_ham = hamiltonians.Hamiltonian(\n",
    "                nqubits, matrix=new_ham_matrix\n",
    "            )\n",
    "plt.imshow(np.real(new_ham.matrix))\n",
    "plt.colorbar()"
   ]
  },
  {
   "cell_type": "code",
   "execution_count": 80,
   "metadata": {},
   "outputs": [],
   "source": [
    "# the final circuit\n",
    "c1 = deepcopy(ansatz_circ)\n",
    "c1.set_parameters(params_history[-1])"
   ]
  },
  {
   "cell_type": "markdown",
   "metadata": {},
   "source": [
    "# Train DBI"
   ]
  },
  {
   "cell_type": "code",
   "execution_count": 87,
   "metadata": {},
   "outputs": [
    {
     "name": "stderr",
     "output_type": "stream",
     "text": [
      "[Qibo 0.2.12|INFO|2024-10-22 12:47:10]: Using qibojit (numba) backend on /CPU:0\n",
      "INFO:qibo.config:Using qibojit (numba) backend on /CPU:0\n"
     ]
    }
   ],
   "source": [
    "qibo.set_backend('qibojit')"
   ]
  },
  {
   "cell_type": "code",
   "execution_count": 88,
   "metadata": {},
   "outputs": [],
   "source": [
    "# store past hamiltonian history\n",
    "ham_hist = [hamiltonian.matrix]\n",
    "ham_hist.extend(new_ham_matrix)"
   ]
  },
  {
   "cell_type": "code",
   "execution_count": 89,
   "metadata": {},
   "outputs": [
    {
     "name": "stdout",
     "output_type": "stream",
     "text": [
      "-9.326820488419472\n",
      "2.594351077827698\n"
     ]
    }
   ],
   "source": [
    "# initialize DBI\n",
    "dbi = DoubleBracketIteration(\n",
    "    hamiltonian=new_ham,\n",
    "    mode=DoubleBracketGeneratorType.single_commutator,\n",
    ")\n",
    "\n",
    "zero_state_t = np.transpose([zero_state])\n",
    "energy_h0 = float(dbi.h.expectation(np.array(zero_state_t)))\n",
    "fluctuations_h0 = float(dbi.h.energy_fluctuation(zero_state_t))\n",
    "\n",
    "print(energy_h0)\n",
    "print(fluctuations_h0)"
   ]
  },
  {
   "cell_type": "code",
   "execution_count": 90,
   "metadata": {},
   "outputs": [],
   "source": [
    "# define dbi parameters\n",
    "dbi_steps = 1\n",
    "d_type = MagneticFieldEvolutionOracle\n",
    "method = \"annealing\""
   ]
  },
  {
   "cell_type": "code",
   "execution_count": 91,
   "metadata": {},
   "outputs": [
    {
     "name": "stderr",
     "output_type": "stream",
     "text": [
      "INFO:root:Applying 1 steps of DBI to the given hamiltonian.\n",
      "INFO:root:step 1\n",
      "INFO:root:\n",
      "H matrix: [[-7.88458819-6.10622664e-16j -0.14048774+3.26475167e-02j\n",
      "  -0.38312998-9.93715826e-02j ...  0.11599452-5.45125938e-01j\n",
      "   0.50620403+1.24351157e+00j  0.23339873-8.45798786e-02j]\n",
      " [-0.14048774-3.26475167e-02j -0.89377843-2.32452946e-16j\n",
      "  -0.10911267+3.55704094e-02j ...  0.09869885-2.88956391e-02j\n",
      "  -0.18422258-2.49947857e-03j -0.3169739 +1.58108938e-01j]\n",
      " [-0.38312998+9.93715826e-02j -0.10911267-3.55704094e-02j\n",
      "   2.8611027 +1.73472348e-16j ...  0.14910953+3.09393879e-01j\n",
      "  -0.06100197-1.66688110e-01j -0.5923307 +2.16230524e-01j]\n",
      " ...\n",
      " [ 0.11599452+5.45125938e-01j  0.09869885+2.88956391e-02j\n",
      "   0.14910953-3.09393879e-01j ... -7.59875522-8.32667268e-17j\n",
      "  -1.30796509+3.07541861e-01j  1.24364271+4.96324719e-01j]\n",
      " [ 0.50620403-1.24351157e+00j -0.18422258+2.49947857e-03j\n",
      "  -0.06100197+1.66688110e-01j ... -1.30796509-3.07541861e-01j\n",
      "  -5.46757843+3.33066907e-16j  0.13734878+5.40705169e-02j]\n",
      " [ 0.23339873+8.45798786e-02j -0.3169739 -1.58108938e-01j\n",
      "  -0.5923307 -2.16230524e-01j ...  1.24364271-4.96324719e-01j\n",
      "   0.13734878-5.40705169e-02j  4.77409144-4.85722573e-16j]]\n",
      "\n",
      "INFO:root:DBI energies: [<tf.Tensor: shape=(), dtype=float64, numpy=-7.884588187703136>]\n"
     ]
    }
   ],
   "source": [
    "# apply DBI\n",
    "(\n",
    "    dbi_hamiltonians,\n",
    "    dbi_energies,\n",
    "    dbi_fluctuations,\n",
    "    dbi_steps,\n",
    "    dbi_d_matrix,\n",
    "    dbi_operators,\n",
    ") = apply_dbi_steps(\n",
    "    dbi=dbi, d_type = None, nsteps=dbi_steps, method=method,\n",
    ")"
   ]
  },
  {
   "cell_type": "code",
   "execution_count": 92,
   "metadata": {},
   "outputs": [
    {
     "name": "stdout",
     "output_type": "stream",
     "text": [
      "[-9.326820488419472, -7.884588187703136]\n"
     ]
    }
   ],
   "source": [
    "ham_hist.extend(dbi_hamiltonians)\n",
    "dbi_energies_ls = [energy.numpy() for energy in dbi_energies]\n",
    "dbi_fluctuations.insert(0, fluctuations_h0)\n",
    "dbi_energies_ls.insert(0, energy_h0)\n",
    "print(dbi_energies_ls)"
   ]
  },
  {
   "cell_type": "code",
   "execution_count": 93,
   "metadata": {},
   "outputs": [
    {
     "name": "stdout",
     "output_type": "stream",
     "text": [
      "tf.Tensor(\n",
      "[[ 9.29333674e-01+3.41746708e-04j -2.81564046e-02+4.80481528e-03j\n",
      "   2.63540414e-02-4.59953775e-03j ... -1.77409981e-02+5.14881958e-02j\n",
      "  -5.16467808e-03-6.00032659e-02j -2.76677179e-02+4.90888841e-03j]\n",
      " [ 2.48289278e-02+8.69725364e-03j  9.96419526e-01-4.18932625e-05j\n",
      "  -1.23346571e-03+9.44180059e-04j ... -5.75863083e-03-9.08618382e-04j\n",
      "   4.82290859e-03+2.34517454e-03j -1.97751840e-02+1.02096418e-02j]\n",
      " [-4.44592619e-02-7.97501725e-03j  3.31114934e-04-9.67083018e-04j\n",
      "   9.78765417e-01+2.52270019e-03j ... -2.53972786e-03+2.70853898e-02j\n",
      "  -1.18845299e-03-3.00845831e-02j -1.14659034e-02+6.65578235e-03j]\n",
      " ...\n",
      " [-1.41575938e-02-4.78889799e-02j  7.31219553e-03-5.02686237e-03j\n",
      "   1.16055849e-03+2.07706763e-02j ...  9.02266087e-01-2.25231484e-03j\n",
      "   2.41705849e-02-2.29219718e-02j -1.09483319e-01-4.36801488e-02j]\n",
      " [-2.66760387e-02+6.68858673e-02j -8.78323890e-03+2.88761424e-03j\n",
      "  -7.32040060e-03-1.49319769e-02j ...  6.30344208e-02+1.83688579e-02j\n",
      "   9.18433392e-01-6.40354427e-04j -2.02229909e-02-5.07780181e-03j]\n",
      " [ 2.79178750e-02-3.47255804e-03j  1.83602000e-02+9.04208174e-03j\n",
      "  -1.57866052e-03+5.38896616e-03j ...  1.10542475e-01-5.07798545e-02j\n",
      "   2.17192864e-02-2.95391458e-03j  9.80865088e-01+6.67143118e-04j]], shape=(32, 32), dtype=complex128)\n",
      "[[ 0.08035878-0.00747236j  0.12200624+0.01605067j -0.05036933-0.03115063j\n",
      "  ...  0.37066154+0.29562363j -0.14042609-0.02426823j\n",
      "  -0.20588461-0.07594847j]\n",
      " [ 0.01804466+0.09546275j -0.01042718-0.06535297j  0.03918874-0.06820906j\n",
      "  ...  0.12895357-0.24564351j  0.01441458-0.19340632j\n",
      "  -0.01945275+0.12643831j]\n",
      " [ 0.00789568+0.0422863j   0.00171778+0.06593877j -0.06314621+0.02651886j\n",
      "  ...  0.02136622-0.09132152j -0.21722242-0.16997124j\n",
      "  -0.28390701-0.31762085j]\n",
      " ...\n",
      " [-0.11855638+0.01240658j  0.05272182+0.05499559j  0.28693785+0.36513283j\n",
      "  ... -0.04637071+0.03708211j -0.0501608 -0.03268724j\n",
      "   0.00176542+0.0413186j ]\n",
      " [ 0.2282899 -0.18054194j  0.41613229+0.16422467j  0.14304607-0.04973119j\n",
      "  ... -0.10074099-0.02403507j -0.07481379+0.0342994j\n",
      "  -0.10346411-0.0696934j ]\n",
      " [-0.24273729-0.4577265j  -0.13886724+0.30161844j -0.038724  -0.26602316j\n",
      "  ...  0.03070828-0.0705544j   0.0321075 +0.13501811j\n",
      "   0.05815848-0.06909858j]]\n"
     ]
    }
   ],
   "source": [
    "# update the circuit appending the DBI generator\n",
    "# and the old circuit with non trainable circuit\n",
    "circ = deepcopy(c1)\n",
    "vqe_circ_matrix = c1.unitary()\n",
    "dbi_operators = [\n",
    "    new_ham.backend.cast(np.matrix(new_ham.backend.to_numpy(operator)))\n",
    "    for operator in dbi_operators\n",
    "]\n",
    "for gate in reversed([vqe_circ_matrix] + dbi_operators):\n",
    "    print(gate)\n",
    "    circ.add(gates.Unitary(gate, *range(circ.nqubits), trainable=False))"
   ]
  },
  {
   "cell_type": "code",
   "execution_count": 94,
   "metadata": {},
   "outputs": [
    {
     "name": "stderr",
     "output_type": "stream",
     "text": [
      "[Qibo 0.2.12|ERROR|2024-10-22 12:47:11]: Unitary is not supported by OpenQASM\n",
      "ERROR:qibo.config:Unitary is not supported by OpenQASM\n"
     ]
    },
    {
     "ename": "NotImplementedError",
     "evalue": "Unitary is not supported by OpenQASM",
     "output_type": "error",
     "traceback": [
      "\u001b[0;31m---------------------------------------------------------------------------\u001b[0m",
      "\u001b[0;31mNotImplementedError\u001b[0m                       Traceback (most recent call last)",
      "\u001b[0;32m/var/folders/sn/4ym_qb8x0cs_f961d78kvvkc0000gn/T/ipykernel_86485/753798877.py\u001b[0m in \u001b[0;36m<cell line: 0>\u001b[0;34m()\u001b[0m\n\u001b[0;32m----> 1\u001b[0;31m \u001b[0mc_qasm\u001b[0m \u001b[0;34m=\u001b[0m \u001b[0mmodels\u001b[0m\u001b[0;34m.\u001b[0m\u001b[0mCircuit\u001b[0m\u001b[0;34m.\u001b[0m\u001b[0mto_qasm\u001b[0m\u001b[0;34m(\u001b[0m\u001b[0mcirc\u001b[0m\u001b[0;34m)\u001b[0m\u001b[0;34m\u001b[0m\u001b[0;34m\u001b[0m\u001b[0m\n\u001b[0m\u001b[1;32m      2\u001b[0m \u001b[0mc_tket\u001b[0m \u001b[0;34m=\u001b[0m \u001b[0mpytket\u001b[0m\u001b[0;34m.\u001b[0m\u001b[0mqasm\u001b[0m\u001b[0;34m.\u001b[0m\u001b[0mcircuit_from_qasm_str\u001b[0m\u001b[0;34m(\u001b[0m\u001b[0mc_qasm\u001b[0m\u001b[0;34m)\u001b[0m\u001b[0;34m\u001b[0m\u001b[0;34m\u001b[0m\u001b[0m\n\u001b[1;32m      3\u001b[0m \u001b[0mrender_circuit_jupyter\u001b[0m\u001b[0;34m(\u001b[0m\u001b[0mc_tket\u001b[0m\u001b[0;34m)\u001b[0m\u001b[0;34m\u001b[0m\u001b[0;34m\u001b[0m\u001b[0m\n",
      "\u001b[0;32m~/Library/Caches/pypoetry/virtualenvs/boostvqe-9Q-2T4PW-py3.11/lib/python3.11/site-packages/qibo/models/circuit.py\u001b[0m in \u001b[0;36mto_qasm\u001b[0;34m(self)\u001b[0m\n\u001b[1;32m   1176\u001b[0m             \u001b[0;32mif\u001b[0m \u001b[0misinstance\u001b[0m\u001b[0;34m(\u001b[0m\u001b[0mgate\u001b[0m\u001b[0;34m,\u001b[0m \u001b[0mgates\u001b[0m\u001b[0;34m.\u001b[0m\u001b[0mParametrizedGate\u001b[0m\u001b[0;34m)\u001b[0m\u001b[0;34m:\u001b[0m\u001b[0;34m\u001b[0m\u001b[0;34m\u001b[0m\u001b[0m\n\u001b[1;32m   1177\u001b[0m                 \u001b[0mparams\u001b[0m \u001b[0;34m=\u001b[0m \u001b[0;34m(\u001b[0m\u001b[0mstr\u001b[0m\u001b[0;34m(\u001b[0m\u001b[0mx\u001b[0m\u001b[0;34m)\u001b[0m \u001b[0;32mfor\u001b[0m \u001b[0mx\u001b[0m \u001b[0;32min\u001b[0m \u001b[0mgate\u001b[0m\u001b[0;34m.\u001b[0m\u001b[0mparameters\u001b[0m\u001b[0;34m)\u001b[0m\u001b[0;34m\u001b[0m\u001b[0;34m\u001b[0m\u001b[0m\n\u001b[0;32m-> 1178\u001b[0;31m                 \u001b[0mname\u001b[0m \u001b[0;34m=\u001b[0m \u001b[0;34mf\"{gate.qasm_label}({', '.join(params)})\"\u001b[0m\u001b[0;34m\u001b[0m\u001b[0;34m\u001b[0m\u001b[0m\n\u001b[0m\u001b[1;32m   1179\u001b[0m             \u001b[0;32melse\u001b[0m\u001b[0;34m:\u001b[0m\u001b[0;34m\u001b[0m\u001b[0;34m\u001b[0m\u001b[0m\n\u001b[1;32m   1180\u001b[0m                 \u001b[0mname\u001b[0m \u001b[0;34m=\u001b[0m \u001b[0mgate\u001b[0m\u001b[0;34m.\u001b[0m\u001b[0mqasm_label\u001b[0m\u001b[0;34m\u001b[0m\u001b[0;34m\u001b[0m\u001b[0m\n",
      "\u001b[0;32m~/Library/Caches/pypoetry/virtualenvs/boostvqe-9Q-2T4PW-py3.11/lib/python3.11/site-packages/qibo/gates/abstract.py\u001b[0m in \u001b[0;36mqasm_label\u001b[0;34m(self)\u001b[0m\n\u001b[1;32m    154\u001b[0m     \u001b[0;32mdef\u001b[0m \u001b[0mqasm_label\u001b[0m\u001b[0;34m(\u001b[0m\u001b[0mself\u001b[0m\u001b[0;34m)\u001b[0m\u001b[0;34m:\u001b[0m\u001b[0;34m\u001b[0m\u001b[0;34m\u001b[0m\u001b[0m\n\u001b[1;32m    155\u001b[0m         \u001b[0;34m\"\"\"String corresponding to OpenQASM operation of the gate.\"\"\"\u001b[0m\u001b[0;34m\u001b[0m\u001b[0;34m\u001b[0m\u001b[0m\n\u001b[0;32m--> 156\u001b[0;31m         raise_error(\n\u001b[0m\u001b[1;32m    157\u001b[0m             \u001b[0mNotImplementedError\u001b[0m\u001b[0;34m,\u001b[0m\u001b[0;34m\u001b[0m\u001b[0;34m\u001b[0m\u001b[0m\n\u001b[1;32m    158\u001b[0m             \u001b[0;34mf\"{self.__class__.__name__} is not supported by OpenQASM\"\u001b[0m\u001b[0;34m,\u001b[0m\u001b[0;34m\u001b[0m\u001b[0;34m\u001b[0m\u001b[0m\n",
      "\u001b[0;32m~/Library/Caches/pypoetry/virtualenvs/boostvqe-9Q-2T4PW-py3.11/lib/python3.11/site-packages/qibo/config.py\u001b[0m in \u001b[0;36mraise_error\u001b[0;34m(exception, message)\u001b[0m\n\u001b[1;32m     44\u001b[0m     \"\"\"\n\u001b[1;32m     45\u001b[0m     \u001b[0mlog\u001b[0m\u001b[0;34m.\u001b[0m\u001b[0merror\u001b[0m\u001b[0;34m(\u001b[0m\u001b[0mmessage\u001b[0m\u001b[0;34m)\u001b[0m\u001b[0;34m\u001b[0m\u001b[0;34m\u001b[0m\u001b[0m\n\u001b[0;32m---> 46\u001b[0;31m     \u001b[0;32mraise\u001b[0m \u001b[0mexception\u001b[0m\u001b[0;34m(\u001b[0m\u001b[0mmessage\u001b[0m\u001b[0;34m)\u001b[0m\u001b[0;34m\u001b[0m\u001b[0;34m\u001b[0m\u001b[0m\n\u001b[0m\u001b[1;32m     47\u001b[0m \u001b[0;34m\u001b[0m\u001b[0m\n\u001b[1;32m     48\u001b[0m \u001b[0;34m\u001b[0m\u001b[0m\n",
      "\u001b[0;31mNotImplementedError\u001b[0m: Unitary is not supported by OpenQASM"
     ]
    }
   ],
   "source": [
    "c_qasm = models.Circuit.to_qasm(circ)\n",
    "c_tket = pytket.qasm.circuit_from_qasm_str(c_qasm)\n",
    "render_circuit_jupyter(c_tket)"
   ]
  },
  {
   "cell_type": "code",
   "execution_count": null,
   "metadata": {},
   "outputs": [],
   "source": []
  }
 ],
 "metadata": {
  "kernelspec": {
   "display_name": "boostvqe-9Q-2T4PW-py3.11",
   "language": "python",
   "name": "python3"
  },
  "language_info": {
   "codemirror_mode": {
    "name": "ipython",
    "version": 3
   },
   "file_extension": ".py",
   "mimetype": "text/x-python",
   "name": "python",
   "nbconvert_exporter": "python",
   "pygments_lexer": "ipython3",
   "version": "3.11.7"
  }
 },
 "nbformat": 4,
 "nbformat_minor": 2
}
