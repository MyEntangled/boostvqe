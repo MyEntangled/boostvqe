{
 "cells": [
  {
   "cell_type": "code",
   "execution_count": 1,
   "metadata": {},
   "outputs": [
    {
     "name": "stderr",
     "output_type": "stream",
     "text": [
      "/Users/pethidine/Library/Caches/pypoetry/virtualenvs/boostvqe-9Q-2T4PW-py3.11/lib/python3.11/site-packages/tqdm/auto.py:21: TqdmWarning: IProgress not found. Please update jupyter and ipywidgets. See https://ipywidgets.readthedocs.io/en/stable/user_install.html\n",
      "  from .autonotebook import tqdm as notebook_tqdm\n"
     ]
    }
   ],
   "source": [
    "from datetime import datetime\n",
    "\n",
    "from pytket import Circuit\n",
    "from pytket.circuit.display import render_circuit_jupyter\n",
    "from pytket.utils.operators import QubitPauliOperator\n",
    "from pytket.partition import measurement_reduction, MeasurementBitMap, MeasurementSetup, PauliPartitionStrat\n",
    "from pytket.backends.backendresult import BackendResult\n",
    "from pytket.pauli import Pauli, QubitPauliString\n",
    "from pytket.circuit import Qubit\n",
    "\n",
    "from scipy.optimize import minimize\n",
    "from numpy import ndarray\n",
    "from numpy.random import random_sample\n",
    "from sympy import Symbol\n",
    "from functools import partial\n",
    "\n",
    "import qnexus as qnx\n",
    "from copy import deepcopy\n",
    "import matplotlib.pyplot as plt\n",
    "\n",
    "# qibo's\n",
    "import qibo\n",
    "from qibo import gates, hamiltonians, models\n",
    "from qibo.backends import GlobalBackend\n",
    "from qibo.models.dbi.double_bracket import (\n",
    "    DoubleBracketGeneratorType,\n",
    "    DoubleBracketIteration,\n",
    ")\n",
    "\n",
    "\n",
    "# boostvqe's\n",
    "from boostvqe import ansatze\n",
    "from boostvqe.plotscripts import plot_gradients, plot_loss\n",
    "from boostvqe.training_utils import Model, vqe_loss\n",
    "from boostvqe.utils import (\n",
    "    DBI_D_MATRIX,\n",
    "    DBI_ENERGIES,\n",
    "    DBI_FLUCTUATIONS,\n",
    "    DBI_STEPS,\n",
    "    FLUCTUATION_FILE,\n",
    "    GRADS_FILE,\n",
    "    HAMILTONIAN_FILE,\n",
    "    LOSS_FILE,\n",
    "    SEED,\n",
    "    TOL,\n",
    "    apply_dbi_steps,\n",
    "    create_folder,\n",
    "    generate_path,\n",
    "    results_dump,\n",
    "    rotate_h_with_vqe,\n",
    "    train_vqe,\n",
    ")\n",
    "import numpy as np"
   ]
  },
  {
   "cell_type": "code",
   "execution_count": 2,
   "metadata": {},
   "outputs": [],
   "source": [
    "# basics\n",
    "nqubits = 5\n",
    "h = 3"
   ]
  },
  {
   "cell_type": "code",
   "execution_count": 3,
   "metadata": {},
   "outputs": [],
   "source": [
    "# helper functions\n",
    "def exact_expectation_boost(ham, circ):\n",
    "    # calculates the exact expectation of hamiltonian given a circuit in qibo\n",
    "    return ham.expectation(\n",
    "        ham.backend.execute_circuit(circuit=circ).state())"
   ]
  },
  {
   "cell_type": "code",
   "execution_count": 4,
   "metadata": {},
   "outputs": [
    {
     "name": "stderr",
     "output_type": "stream",
     "text": [
      "[Qibo 0.2.12|INFO|2024-10-14 15:26:12]: Using tensorflow backend on /device:CPU:0\n",
      "INFO:qibo.config:Using tensorflow backend on /device:CPU:0\n"
     ]
    }
   ],
   "source": [
    "qibo.set_backend(\"tensorflow\")"
   ]
  },
  {
   "cell_type": "code",
   "execution_count": 5,
   "metadata": {},
   "outputs": [
    {
     "name": "stderr",
     "output_type": "stream",
     "text": [
      "[Qibo 0.2.12|WARNING|2024-10-14 15:26:17]: Calculating the dense form of a symbolic Hamiltonian. This operation is memory inefficient.\n",
      "WARNING:qibo.config:Calculating the dense form of a symbolic Hamiltonian. This operation is memory inefficient.\n"
     ]
    },
    {
     "name": "stdout",
     "output_type": "stream",
     "text": [
      "tf.Tensor(\n",
      "[[-5.+0.j -3.+0.j -3.+0.j ...  0.+0.j  0.+0.j  0.+0.j]\n",
      " [-3.+0.j -1.+0.j  0.+0.j ...  0.+0.j  0.+0.j  0.+0.j]\n",
      " [-3.+0.j  0.+0.j -1.+0.j ...  0.+0.j  0.+0.j  0.+0.j]\n",
      " ...\n",
      " [ 0.+0.j  0.+0.j  0.+0.j ... -1.+0.j  0.+0.j -3.+0.j]\n",
      " [ 0.+0.j  0.+0.j  0.+0.j ...  0.+0.j -1.+0.j -3.+0.j]\n",
      " [ 0.+0.j  0.+0.j  0.+0.j ... -3.+0.j -3.+0.j -5.+0.j]], shape=(32, 32), dtype=complex128)\n"
     ]
    }
   ],
   "source": [
    "# build hamiltonian\n",
    "ham_boost = hamiltonians.TFIM(nqubits=nqubits, h=h, dense=False)\n",
    "print(ham_boost.matrix)"
   ]
  },
  {
   "cell_type": "code",
   "execution_count": 6,
   "metadata": {},
   "outputs": [
    {
     "name": "stderr",
     "output_type": "stream",
     "text": [
      "[Qibo 0.2.12|WARNING|2024-10-14 15:26:23]: Starting on qibo 0.2.13, ``Circuit.draw`` will work in-place. The in-place method is currently implemented as ``Circuit.display``, but will be renamed as ``Circuit.draw`` on release 0.2.13. In release 0.2.12, the in-place display of circuits is accessible as ``Circuit.display``.\n",
      "WARNING:qibo.config:Starting on qibo 0.2.13, ``Circuit.draw`` will work in-place. The in-place method is currently implemented as ``Circuit.display``, but will be renamed as ``Circuit.draw`` on release 0.2.13. In release 0.2.12, the in-place display of circuits is accessible as ``Circuit.display``.\n"
     ]
    },
    {
     "name": "stdout",
     "output_type": "stream",
     "text": [
      "q0: ─RY─RZ─o───RY─RZ───o─RY─\n",
      "q1: ─RY─RZ─Z───RY─RZ─o─|─RY─\n",
      "q2: ─RY─RZ───o─RY─RZ─Z─|─RY─\n",
      "q3: ─RY─RZ───Z─RY─RZ───|─RY─\n",
      "q4: ─RY─RZ─────RY─RZ───Z─RY─\n"
     ]
    }
   ],
   "source": [
    "# build ansatz circuit\n",
    "nlayer = 1\n",
    "ansatz_circ = ansatze.hdw_efficient(nqubits, nlayer)\n",
    "print(ansatz_circ.draw())"
   ]
  },
  {
   "cell_type": "code",
   "execution_count": 8,
   "metadata": {},
   "outputs": [
    {
     "name": "stdout",
     "output_type": "stream",
     "text": [
      "[ 1.70475788 -3.01120431  0.83973663  1.5632809  -0.00938072 -1.72915367\n",
      " -1.89712697  1.63696274 -2.07903793 -2.58653723  1.16465009  2.84875441\n",
      " -3.11678496  0.07660625  1.96425543  0.70702213  1.39332975 -1.30768123\n",
      "  2.62495223  1.34821941  0.26731415 -2.2483119  -0.79582348  1.09411377\n",
      " -0.36547294]\n",
      "Target enegry: -15.422871679540702\n",
      "Initial energy: tf.Tensor(-2.651967569509104, shape=(), dtype=float64)\n"
     ]
    }
   ],
   "source": [
    "# build zero state\n",
    "zero_state = ham_boost.backend.zero_state(nqubits)\n",
    "# initial params\n",
    "params_len = len(ansatz_circ.get_parameters())\n",
    "# fix numpy seed to ensure replicability of the experiment\n",
    "seed = 10\n",
    "np.random.seed(seed)\n",
    "initial_params = np.random.uniform(-np.pi, np.pi, params_len)\n",
    "print(initial_params)\n",
    "# initial energy\n",
    "c0 = deepcopy(ansatz_circ)\n",
    "c0.set_parameters(initial_params)\n",
    "target_energy = np.real(np.min(np.asarray(ham_boost.eigenvalues())))\n",
    "print('Target enegry:', target_energy)\n",
    "print('Initial energy:', exact_expectation_boost(ham_boost, c0))"
   ]
  },
  {
   "cell_type": "code",
   "execution_count": 11,
   "metadata": {},
   "outputs": [],
   "source": [
    "niter = 3\n",
    "# define the qibo loss function\n",
    "objective_boost = partial(vqe_loss)\n",
    "# logging hisotry\n",
    "params_history, loss_history, grads_history, fluctuations = [], [], [], []\n",
    "# set optimizer\n",
    "optimizer = 'cma'\n",
    "tol = 1e-2"
   ]
  },
  {
   "cell_type": "code",
   "execution_count": 12,
   "metadata": {},
   "outputs": [
    {
     "name": "stderr",
     "output_type": "stream",
     "text": [
      "INFO:root:Optimization iteration 0/1\n",
      "INFO:root:Loss -2.652\n",
      "INFO:root:Minimize the energy\n"
     ]
    },
    {
     "name": "stdout",
     "output_type": "stream",
     "text": [
      "(6_w,13)-aCMA-ES (mu_w=4.0,w_1=38%) in dimension 25 (seed=1017422, Mon Oct 14 15:28:45 2024)\n"
     ]
    },
    {
     "name": "stderr",
     "output_type": "stream",
     "text": [
      "INFO:root:Optimization iteration 1/1\n",
      "INFO:root:Loss 1.4378\n",
      "INFO:root:Optimization iteration 2/1\n",
      "INFO:root:Loss 5.626\n",
      "INFO:root:Optimization iteration 3/1\n",
      "INFO:root:Loss -2.774\n",
      "INFO:root:Optimization iteration 4/1\n",
      "INFO:root:Loss 7.7409\n",
      "INFO:root:Optimization iteration 5/1\n",
      "INFO:root:Loss 3.1651\n",
      "INFO:root:Optimization iteration 6/1\n",
      "INFO:root:Loss 3.2266\n",
      "INFO:root:Optimization iteration 7/1\n",
      "INFO:root:Loss -0.95215\n",
      "INFO:root:Optimization iteration 8/1\n",
      "INFO:root:Loss -7.6397\n",
      "INFO:root:Optimization iteration 9/1\n",
      "INFO:root:Loss -2.7641\n",
      "INFO:root:Optimization iteration 10/1\n",
      "INFO:root:Loss 0.60643\n",
      "INFO:root:Optimization iteration 11/1\n",
      "INFO:root:Loss -0.049027\n",
      "INFO:root:Optimization iteration 12/1\n",
      "INFO:root:Loss 5.7536\n",
      "INFO:root:Optimization iteration 13/1\n",
      "INFO:root:Loss 1.1794\n",
      "INFO:root:Optimization iteration 14/1\n",
      "INFO:root:Loss 0.5403\n",
      "INFO:root:Optimization iteration 15/1\n",
      "INFO:root:Loss 0.010682\n",
      "INFO:root:Optimization iteration 16/1\n",
      "INFO:root:Loss 3.82\n",
      "INFO:root:Optimization iteration 17/1\n",
      "INFO:root:Loss -1.5947\n",
      "INFO:root:Optimization iteration 18/1\n",
      "INFO:root:Loss 0.69123\n",
      "INFO:root:Optimization iteration 19/1\n",
      "INFO:root:Loss 1.9433\n",
      "INFO:root:Optimization iteration 20/1\n",
      "INFO:root:Loss 1.6733\n",
      "INFO:root:Optimization iteration 21/1\n",
      "INFO:root:Loss -2.1599\n",
      "INFO:root:Optimization iteration 22/1\n",
      "INFO:root:Loss -2.2291\n",
      "INFO:root:Optimization iteration 23/1\n",
      "INFO:root:Loss 0.34587\n",
      "INFO:root:Optimization iteration 24/1\n",
      "INFO:root:Loss -0.57301\n",
      "INFO:root:Optimization iteration 25/1\n",
      "INFO:root:Loss -4.0789\n",
      "INFO:root:Optimization iteration 26/1\n",
      "INFO:root:Loss 3.2821\n",
      "INFO:root:Optimization iteration 27/1\n",
      "INFO:root:Loss 0.41434\n",
      "INFO:root:Optimization iteration 28/1\n",
      "INFO:root:Loss 0.066015\n",
      "INFO:root:Optimization iteration 29/1\n",
      "INFO:root:Loss -1.4133\n",
      "INFO:root:Optimization iteration 30/1\n",
      "INFO:root:Loss 1.4958\n",
      "INFO:root:Optimization iteration 31/1\n",
      "INFO:root:Loss -3.8194\n",
      "INFO:root:Optimization iteration 32/1\n",
      "INFO:root:Loss 4.7793\n",
      "INFO:root:Optimization iteration 33/1\n",
      "INFO:root:Loss -2.2185\n",
      "INFO:root:Optimization iteration 34/1\n",
      "INFO:root:Loss 3.0518\n",
      "INFO:root:Optimization iteration 35/1\n",
      "INFO:root:Loss -4.7531\n",
      "INFO:root:Optimization iteration 36/1\n",
      "INFO:root:Loss -0.63095\n",
      "INFO:root:Optimization iteration 37/1\n",
      "INFO:root:Loss -1.0235\n",
      "INFO:root:Optimization iteration 38/1\n",
      "INFO:root:Loss -0.14418\n",
      "INFO:root:Optimization iteration 39/1\n",
      "INFO:root:Loss -3.13\n",
      "INFO:root:Optimization iteration 40/1\n",
      "INFO:root:Loss -1.7902\n",
      "INFO:root:Optimization iteration 41/1\n",
      "INFO:root:Loss 2.3336\n",
      "INFO:root:Optimization iteration 42/1\n",
      "INFO:root:Loss -3.6391\n",
      "INFO:root:Optimization iteration 43/1\n",
      "INFO:root:Loss -3.2641\n",
      "INFO:root:Optimization iteration 44/1\n",
      "INFO:root:Loss 3.1265\n",
      "INFO:root:Optimization iteration 45/1\n",
      "INFO:root:Loss 3.198\n",
      "INFO:root:Optimization iteration 46/1\n",
      "INFO:root:Loss 4.5366\n",
      "INFO:root:Optimization iteration 47/1\n",
      "INFO:root:Loss -1.0597\n",
      "INFO:root:Optimization iteration 48/1\n",
      "INFO:root:Loss -5.5162\n",
      "INFO:root:Optimization iteration 49/1\n",
      "INFO:root:Loss -4.3619\n",
      "INFO:root:Optimization iteration 50/1\n",
      "INFO:root:Loss 4.0092\n",
      "INFO:root:Optimization iteration 51/1\n",
      "INFO:root:Loss -2.3951\n",
      "INFO:root:Optimization iteration 52/1\n",
      "INFO:root:Loss 0.48147\n",
      "INFO:root:Optimization iteration 53/1\n",
      "INFO:root:Loss -0.85667\n",
      "INFO:root:Optimization iteration 54/1\n",
      "INFO:root:Loss 4.6419\n",
      "INFO:root:Optimization iteration 55/1\n",
      "INFO:root:Loss -3.9719\n",
      "INFO:root:Optimization iteration 56/1\n",
      "INFO:root:Loss 5.8218\n"
     ]
    },
    {
     "ename": "KeyboardInterrupt",
     "evalue": "",
     "output_type": "error",
     "traceback": [
      "\u001b[0;31m---------------------------------------------------------------------------\u001b[0m",
      "\u001b[0;31mKeyboardInterrupt\u001b[0m                         Traceback (most recent call last)",
      "\u001b[0;32m/var/folders/sn/4ym_qb8x0cs_f961d78kvvkc0000gn/T/ipykernel_28496/3761281928.py\u001b[0m in \u001b[0;36m<cell line: 0>\u001b[0;34m()\u001b[0m\n\u001b[1;32m      7\u001b[0m     \u001b[0mpartial_fluctuations\u001b[0m\u001b[0;34m,\u001b[0m\u001b[0;34m\u001b[0m\u001b[0;34m\u001b[0m\u001b[0m\n\u001b[1;32m      8\u001b[0m     \u001b[0mvqe\u001b[0m\u001b[0;34m,\u001b[0m\u001b[0;34m\u001b[0m\u001b[0;34m\u001b[0m\u001b[0m\n\u001b[0;32m----> 9\u001b[0;31m \u001b[0;34m)\u001b[0m \u001b[0;34m=\u001b[0m \u001b[0mtrain_vqe\u001b[0m\u001b[0;34m(\u001b[0m\u001b[0;34m\u001b[0m\u001b[0;34m\u001b[0m\u001b[0m\n\u001b[0m\u001b[1;32m     10\u001b[0m     \u001b[0mdeepcopy\u001b[0m\u001b[0;34m(\u001b[0m\u001b[0mansatz_circ\u001b[0m\u001b[0;34m)\u001b[0m\u001b[0;34m,\u001b[0m\u001b[0;34m\u001b[0m\u001b[0;34m\u001b[0m\u001b[0m\n\u001b[1;32m     11\u001b[0m     \u001b[0mham_boost\u001b[0m\u001b[0;34m,\u001b[0m  \u001b[0;31m# Fixed hamiltonian\u001b[0m\u001b[0;34m\u001b[0m\u001b[0;34m\u001b[0m\u001b[0m\n",
      "\u001b[0;32m~/Documents/GitHub/boostvqe/src/boostvqe/utils.py\u001b[0m in \u001b[0;36mtrain_vqe\u001b[0;34m(circ, ham, optimizer, initial_parameters, tol, loss, niterations, nmessage, training_options)\u001b[0m\n\u001b[1;32m    143\u001b[0m     \u001b[0mlogging\u001b[0m\u001b[0;34m.\u001b[0m\u001b[0minfo\u001b[0m\u001b[0;34m(\u001b[0m\u001b[0;34m\"Minimize the energy\"\u001b[0m\u001b[0;34m)\u001b[0m\u001b[0;34m\u001b[0m\u001b[0;34m\u001b[0m\u001b[0m\n\u001b[1;32m    144\u001b[0m \u001b[0;34m\u001b[0m\u001b[0m\n\u001b[0;32m--> 145\u001b[0;31m     results = vqe.minimize(\n\u001b[0m\u001b[1;32m    146\u001b[0m         \u001b[0minitial_parameters\u001b[0m\u001b[0;34m,\u001b[0m\u001b[0;34m\u001b[0m\u001b[0;34m\u001b[0m\u001b[0m\n\u001b[1;32m    147\u001b[0m         \u001b[0mmethod\u001b[0m\u001b[0;34m=\u001b[0m\u001b[0moptimizer\u001b[0m\u001b[0;34m,\u001b[0m\u001b[0;34m\u001b[0m\u001b[0;34m\u001b[0m\u001b[0m\n",
      "\u001b[0;32m~/Documents/GitHub/boostvqe/src/boostvqe/ansatze.py\u001b[0m in \u001b[0;36mminimize\u001b[0;34m(self, initial_state, method, loss_func, jac, hess, hessp, bounds, constraints, tol, callback, options, compile, processes)\u001b[0m\n\u001b[1;32m    157\u001b[0m             \u001b[0mloss\u001b[0m \u001b[0;34m=\u001b[0m \u001b[0;32mlambda\u001b[0m \u001b[0mp\u001b[0m\u001b[0;34m,\u001b[0m \u001b[0mc\u001b[0m\u001b[0;34m,\u001b[0m \u001b[0mh\u001b[0m\u001b[0;34m:\u001b[0m \u001b[0mself\u001b[0m\u001b[0;34m.\u001b[0m\u001b[0mhamiltonian\u001b[0m\u001b[0;34m.\u001b[0m\u001b[0mbackend\u001b[0m\u001b[0;34m.\u001b[0m\u001b[0mto_numpy\u001b[0m\u001b[0;34m(\u001b[0m\u001b[0mloss_func\u001b[0m\u001b[0;34m(\u001b[0m\u001b[0mp\u001b[0m\u001b[0;34m,\u001b[0m \u001b[0mc\u001b[0m\u001b[0;34m,\u001b[0m \u001b[0mh\u001b[0m\u001b[0;34m)\u001b[0m\u001b[0;34m)\u001b[0m\u001b[0;34m\u001b[0m\u001b[0;34m\u001b[0m\u001b[0m\n\u001b[1;32m    158\u001b[0m \u001b[0;34m\u001b[0m\u001b[0m\n\u001b[0;32m--> 159\u001b[0;31m         result, parameters, extra = self.optimizers.optimize(\n\u001b[0m\u001b[1;32m    160\u001b[0m             \u001b[0mloss\u001b[0m\u001b[0;34m,\u001b[0m\u001b[0;34m\u001b[0m\u001b[0;34m\u001b[0m\u001b[0m\n\u001b[1;32m    161\u001b[0m             \u001b[0minitial_state\u001b[0m\u001b[0;34m,\u001b[0m\u001b[0;34m\u001b[0m\u001b[0;34m\u001b[0m\u001b[0m\n",
      "\u001b[0;32m~/Library/Caches/pypoetry/virtualenvs/boostvqe-9Q-2T4PW-py3.11/lib/python3.11/site-packages/qibo/optimizers.py\u001b[0m in \u001b[0;36moptimize\u001b[0;34m(loss, initial_parameters, args, method, jac, hess, hessp, bounds, constraints, tol, callback, options, compile, processes, backend)\u001b[0m\n\u001b[1;32m     85\u001b[0m                 \u001b[0;34m\"The keyword 'bounds' cannot be used with the cma optimizer. Please use 'options' instead as defined by the cma documentation: ex. options['bounds'] = [0.0, 1.0].\"\u001b[0m\u001b[0;34m,\u001b[0m\u001b[0;34m\u001b[0m\u001b[0;34m\u001b[0m\u001b[0m\n\u001b[1;32m     86\u001b[0m             )\n\u001b[0;32m---> 87\u001b[0;31m         \u001b[0;32mreturn\u001b[0m \u001b[0mcmaes\u001b[0m\u001b[0;34m(\u001b[0m\u001b[0mloss\u001b[0m\u001b[0;34m,\u001b[0m \u001b[0minitial_parameters\u001b[0m\u001b[0;34m,\u001b[0m \u001b[0margs\u001b[0m\u001b[0;34m,\u001b[0m \u001b[0mcallback\u001b[0m\u001b[0;34m,\u001b[0m \u001b[0moptions\u001b[0m\u001b[0;34m)\u001b[0m\u001b[0;34m\u001b[0m\u001b[0;34m\u001b[0m\u001b[0m\n\u001b[0m\u001b[1;32m     88\u001b[0m     \u001b[0;32melif\u001b[0m \u001b[0mmethod\u001b[0m \u001b[0;34m==\u001b[0m \u001b[0;34m\"sgd\"\u001b[0m\u001b[0;34m:\u001b[0m\u001b[0;34m\u001b[0m\u001b[0;34m\u001b[0m\u001b[0m\n\u001b[1;32m     89\u001b[0m         \u001b[0;32mfrom\u001b[0m \u001b[0mqibo\u001b[0m\u001b[0;34m.\u001b[0m\u001b[0mbackends\u001b[0m \u001b[0;32mimport\u001b[0m \u001b[0m_check_backend\u001b[0m\u001b[0;34m\u001b[0m\u001b[0;34m\u001b[0m\u001b[0m\n",
      "\u001b[0;32m~/Library/Caches/pypoetry/virtualenvs/boostvqe-9Q-2T4PW-py3.11/lib/python3.11/site-packages/qibo/optimizers.py\u001b[0m in \u001b[0;36mcmaes\u001b[0;34m(loss, initial_parameters, args, callback, options)\u001b[0m\n\u001b[1;32m    141\u001b[0m             \u001b[0mobjective_values\u001b[0m \u001b[0;34m=\u001b[0m \u001b[0;34m[\u001b[0m\u001b[0mloss\u001b[0m\u001b[0;34m(\u001b[0m\u001b[0mx\u001b[0m\u001b[0;34m,\u001b[0m \u001b[0;34m*\u001b[0m\u001b[0margs\u001b[0m\u001b[0;34m)\u001b[0m \u001b[0;32mfor\u001b[0m \u001b[0mx\u001b[0m \u001b[0;32min\u001b[0m \u001b[0msolutions\u001b[0m\u001b[0;34m]\u001b[0m\u001b[0;34m\u001b[0m\u001b[0;34m\u001b[0m\u001b[0m\n\u001b[1;32m    142\u001b[0m             \u001b[0;32mfor\u001b[0m \u001b[0msolution\u001b[0m \u001b[0;32min\u001b[0m \u001b[0msolutions\u001b[0m\u001b[0;34m:\u001b[0m\u001b[0;34m\u001b[0m\u001b[0;34m\u001b[0m\u001b[0m\n\u001b[0;32m--> 143\u001b[0;31m                 \u001b[0mcallback\u001b[0m\u001b[0;34m(\u001b[0m\u001b[0msolution\u001b[0m\u001b[0;34m)\u001b[0m\u001b[0;34m\u001b[0m\u001b[0;34m\u001b[0m\u001b[0m\n\u001b[0m\u001b[1;32m    144\u001b[0m             \u001b[0mes\u001b[0m\u001b[0;34m.\u001b[0m\u001b[0mtell\u001b[0m\u001b[0;34m(\u001b[0m\u001b[0msolutions\u001b[0m\u001b[0;34m,\u001b[0m \u001b[0mobjective_values\u001b[0m\u001b[0;34m)\u001b[0m\u001b[0;34m\u001b[0m\u001b[0;34m\u001b[0m\u001b[0m\n\u001b[1;32m    145\u001b[0m             \u001b[0mes\u001b[0m\u001b[0;34m.\u001b[0m\u001b[0mlogger\u001b[0m\u001b[0;34m.\u001b[0m\u001b[0madd\u001b[0m\u001b[0;34m(\u001b[0m\u001b[0;34m)\u001b[0m\u001b[0;34m\u001b[0m\u001b[0;34m\u001b[0m\u001b[0m\n",
      "\u001b[0;32m~/Documents/GitHub/boostvqe/src/boostvqe/utils.py\u001b[0m in \u001b[0;36mcallbacks\u001b[0;34m(params, vqe, loss_list, loss_fluctuation, params_history, grads_history, loss)\u001b[0m\n\u001b[1;32m    122\u001b[0m         \u001b[0mthe\u001b[0m \u001b[0mparameters\u001b[0m \u001b[0mlists\u001b[0m\u001b[0;34m.\u001b[0m\u001b[0;34m\u001b[0m\u001b[0;34m\u001b[0m\u001b[0m\n\u001b[1;32m    123\u001b[0m         \"\"\"\n\u001b[0;32m--> 124\u001b[0;31m         \u001b[0menergy\u001b[0m \u001b[0;34m=\u001b[0m \u001b[0mloss\u001b[0m\u001b[0;34m(\u001b[0m\u001b[0mparams\u001b[0m\u001b[0;34m,\u001b[0m \u001b[0mvqe\u001b[0m\u001b[0;34m.\u001b[0m\u001b[0mcircuit\u001b[0m\u001b[0;34m,\u001b[0m \u001b[0mvqe\u001b[0m\u001b[0;34m.\u001b[0m\u001b[0mhamiltonian\u001b[0m\u001b[0;34m)\u001b[0m\u001b[0;34m\u001b[0m\u001b[0;34m\u001b[0m\u001b[0m\n\u001b[0m\u001b[1;32m    125\u001b[0m         \u001b[0mloss_list\u001b[0m\u001b[0;34m.\u001b[0m\u001b[0mappend\u001b[0m\u001b[0;34m(\u001b[0m\u001b[0mfloat\u001b[0m\u001b[0;34m(\u001b[0m\u001b[0menergy\u001b[0m\u001b[0;34m)\u001b[0m\u001b[0;34m)\u001b[0m\u001b[0;34m\u001b[0m\u001b[0;34m\u001b[0m\u001b[0m\n\u001b[1;32m    126\u001b[0m         loss_fluctuation.append(\n",
      "\u001b[0;32m~/Documents/GitHub/boostvqe/src/boostvqe/training_utils.py\u001b[0m in \u001b[0;36mvqe_loss\u001b[0;34m(params, circuit, hamiltonian, nshots)\u001b[0m\n\u001b[1;32m    149\u001b[0m         )\n\u001b[1;32m    150\u001b[0m     \u001b[0;32melif\u001b[0m \u001b[0mnshots\u001b[0m \u001b[0;32mis\u001b[0m \u001b[0;32mNone\u001b[0m\u001b[0;34m:\u001b[0m\u001b[0;34m\u001b[0m\u001b[0;34m\u001b[0m\u001b[0m\n\u001b[0;32m--> 151\u001b[0;31m         \u001b[0mexpectation_value\u001b[0m \u001b[0;34m=\u001b[0m \u001b[0m_exact\u001b[0m\u001b[0;34m(\u001b[0m\u001b[0mcirc\u001b[0m\u001b[0;34m,\u001b[0m \u001b[0mhamiltonian\u001b[0m\u001b[0;34m)\u001b[0m\u001b[0;34m\u001b[0m\u001b[0;34m\u001b[0m\u001b[0m\n\u001b[0m\u001b[1;32m    152\u001b[0m     \u001b[0;32melse\u001b[0m\u001b[0;34m:\u001b[0m\u001b[0;34m\u001b[0m\u001b[0;34m\u001b[0m\u001b[0m\n\u001b[1;32m    153\u001b[0m         \u001b[0mexpectation_value\u001b[0m \u001b[0;34m=\u001b[0m \u001b[0m_with_shots\u001b[0m\u001b[0;34m(\u001b[0m\u001b[0mcirc\u001b[0m\u001b[0;34m=\u001b[0m\u001b[0mcirc\u001b[0m\u001b[0;34m,\u001b[0m \u001b[0mham\u001b[0m\u001b[0;34m=\u001b[0m\u001b[0mhamiltonian\u001b[0m\u001b[0;34m,\u001b[0m \u001b[0mnshots\u001b[0m\u001b[0;34m=\u001b[0m\u001b[0mnshots\u001b[0m\u001b[0;34m)\u001b[0m\u001b[0;34m\u001b[0m\u001b[0;34m\u001b[0m\u001b[0m\n",
      "\u001b[0;32m~/Documents/GitHub/boostvqe/src/boostvqe/training_utils.py\u001b[0m in \u001b[0;36m_exact\u001b[0;34m(circ, hamiltonian)\u001b[0m\n\u001b[1;32m    158\u001b[0m     \u001b[0;34m\"\"\"Helper function to compute expectation value of Heisemberg hamiltonian.\"\"\"\u001b[0m\u001b[0;34m\u001b[0m\u001b[0;34m\u001b[0m\u001b[0m\n\u001b[1;32m    159\u001b[0m     expectation_value = hamiltonian.expectation(\n\u001b[0;32m--> 160\u001b[0;31m         \u001b[0mhamiltonian\u001b[0m\u001b[0;34m.\u001b[0m\u001b[0mbackend\u001b[0m\u001b[0;34m.\u001b[0m\u001b[0mexecute_circuit\u001b[0m\u001b[0;34m(\u001b[0m\u001b[0mcircuit\u001b[0m\u001b[0;34m=\u001b[0m\u001b[0mcirc\u001b[0m\u001b[0;34m)\u001b[0m\u001b[0;34m.\u001b[0m\u001b[0mstate\u001b[0m\u001b[0;34m(\u001b[0m\u001b[0;34m)\u001b[0m\u001b[0;34m\u001b[0m\u001b[0;34m\u001b[0m\u001b[0m\n\u001b[0m\u001b[1;32m    161\u001b[0m     )\n\u001b[1;32m    162\u001b[0m     \u001b[0;32mreturn\u001b[0m \u001b[0mexpectation_value\u001b[0m\u001b[0;34m\u001b[0m\u001b[0;34m\u001b[0m\u001b[0m\n",
      "\u001b[0;32m~/Library/Caches/pypoetry/virtualenvs/boostvqe-9Q-2T4PW-py3.11/lib/python3.11/site-packages/qibo/backends/tensorflow.py\u001b[0m in \u001b[0;36mexecute_circuit\u001b[0;34m(self, circuit, initial_state, nshots)\u001b[0m\n\u001b[1;32m    130\u001b[0m     \u001b[0;32mdef\u001b[0m \u001b[0mexecute_circuit\u001b[0m\u001b[0;34m(\u001b[0m\u001b[0mself\u001b[0m\u001b[0;34m,\u001b[0m \u001b[0mcircuit\u001b[0m\u001b[0;34m,\u001b[0m \u001b[0minitial_state\u001b[0m\u001b[0;34m=\u001b[0m\u001b[0;32mNone\u001b[0m\u001b[0;34m,\u001b[0m \u001b[0mnshots\u001b[0m\u001b[0;34m=\u001b[0m\u001b[0;36m1000\u001b[0m\u001b[0;34m)\u001b[0m\u001b[0;34m:\u001b[0m\u001b[0;34m\u001b[0m\u001b[0;34m\u001b[0m\u001b[0m\n\u001b[1;32m    131\u001b[0m         \u001b[0;32mwith\u001b[0m \u001b[0mself\u001b[0m\u001b[0;34m.\u001b[0m\u001b[0mtf\u001b[0m\u001b[0;34m.\u001b[0m\u001b[0mdevice\u001b[0m\u001b[0;34m(\u001b[0m\u001b[0mself\u001b[0m\u001b[0;34m.\u001b[0m\u001b[0mdevice\u001b[0m\u001b[0;34m)\u001b[0m\u001b[0;34m:\u001b[0m\u001b[0;34m\u001b[0m\u001b[0;34m\u001b[0m\u001b[0m\n\u001b[0;32m--> 132\u001b[0;31m             \u001b[0;32mreturn\u001b[0m \u001b[0msuper\u001b[0m\u001b[0;34m(\u001b[0m\u001b[0;34m)\u001b[0m\u001b[0;34m.\u001b[0m\u001b[0mexecute_circuit\u001b[0m\u001b[0;34m(\u001b[0m\u001b[0mcircuit\u001b[0m\u001b[0;34m,\u001b[0m \u001b[0minitial_state\u001b[0m\u001b[0;34m,\u001b[0m \u001b[0mnshots\u001b[0m\u001b[0;34m)\u001b[0m\u001b[0;34m\u001b[0m\u001b[0;34m\u001b[0m\u001b[0m\n\u001b[0m\u001b[1;32m    133\u001b[0m \u001b[0;34m\u001b[0m\u001b[0m\n\u001b[1;32m    134\u001b[0m     \u001b[0;32mdef\u001b[0m \u001b[0mexecute_circuit_repeated\u001b[0m\u001b[0;34m(\u001b[0m\u001b[0mself\u001b[0m\u001b[0;34m,\u001b[0m \u001b[0mcircuit\u001b[0m\u001b[0;34m,\u001b[0m \u001b[0mnshots\u001b[0m\u001b[0;34m,\u001b[0m \u001b[0minitial_state\u001b[0m\u001b[0;34m=\u001b[0m\u001b[0;32mNone\u001b[0m\u001b[0;34m)\u001b[0m\u001b[0;34m:\u001b[0m\u001b[0;34m\u001b[0m\u001b[0;34m\u001b[0m\u001b[0m\n",
      "\u001b[0;32m~/Library/Caches/pypoetry/virtualenvs/boostvqe-9Q-2T4PW-py3.11/lib/python3.11/site-packages/qibo/backends/numpy.py\u001b[0m in \u001b[0;36mexecute_circuit\u001b[0;34m(self, circuit, initial_state, nshots)\u001b[0m\n\u001b[1;32m    444\u001b[0m \u001b[0;34m\u001b[0m\u001b[0m\n\u001b[1;32m    445\u001b[0m                 \u001b[0;32mfor\u001b[0m \u001b[0mgate\u001b[0m \u001b[0;32min\u001b[0m \u001b[0mcircuit\u001b[0m\u001b[0;34m.\u001b[0m\u001b[0mqueue\u001b[0m\u001b[0;34m:\u001b[0m\u001b[0;34m\u001b[0m\u001b[0;34m\u001b[0m\u001b[0m\n\u001b[0;32m--> 446\u001b[0;31m                     \u001b[0mstate\u001b[0m \u001b[0;34m=\u001b[0m \u001b[0mgate\u001b[0m\u001b[0;34m.\u001b[0m\u001b[0mapply\u001b[0m\u001b[0;34m(\u001b[0m\u001b[0mself\u001b[0m\u001b[0;34m,\u001b[0m \u001b[0mstate\u001b[0m\u001b[0;34m,\u001b[0m \u001b[0mnqubits\u001b[0m\u001b[0;34m)\u001b[0m\u001b[0;34m\u001b[0m\u001b[0;34m\u001b[0m\u001b[0m\n\u001b[0m\u001b[1;32m    447\u001b[0m \u001b[0;34m\u001b[0m\u001b[0m\n\u001b[1;32m    448\u001b[0m             \u001b[0;32mif\u001b[0m \u001b[0mcircuit\u001b[0m\u001b[0;34m.\u001b[0m\u001b[0mhas_unitary_channel\u001b[0m\u001b[0;34m:\u001b[0m\u001b[0;34m\u001b[0m\u001b[0;34m\u001b[0m\u001b[0m\n",
      "\u001b[0;32m~/Library/Caches/pypoetry/virtualenvs/boostvqe-9Q-2T4PW-py3.11/lib/python3.11/site-packages/qibo/gates/abstract.py\u001b[0m in \u001b[0;36mapply\u001b[0;34m(self, backend, state, nqubits)\u001b[0m\n\u001b[1;32m    431\u001b[0m \u001b[0;34m\u001b[0m\u001b[0m\n\u001b[1;32m    432\u001b[0m     \u001b[0;32mdef\u001b[0m \u001b[0mapply\u001b[0m\u001b[0;34m(\u001b[0m\u001b[0mself\u001b[0m\u001b[0;34m,\u001b[0m \u001b[0mbackend\u001b[0m\u001b[0;34m,\u001b[0m \u001b[0mstate\u001b[0m\u001b[0;34m,\u001b[0m \u001b[0mnqubits\u001b[0m\u001b[0;34m)\u001b[0m\u001b[0;34m:\u001b[0m\u001b[0;34m\u001b[0m\u001b[0;34m\u001b[0m\u001b[0m\n\u001b[0;32m--> 433\u001b[0;31m         \u001b[0;32mreturn\u001b[0m \u001b[0mbackend\u001b[0m\u001b[0;34m.\u001b[0m\u001b[0mapply_gate\u001b[0m\u001b[0;34m(\u001b[0m\u001b[0mself\u001b[0m\u001b[0;34m,\u001b[0m \u001b[0mstate\u001b[0m\u001b[0;34m,\u001b[0m \u001b[0mnqubits\u001b[0m\u001b[0;34m)\u001b[0m\u001b[0;34m\u001b[0m\u001b[0;34m\u001b[0m\u001b[0m\n\u001b[0m\u001b[1;32m    434\u001b[0m \u001b[0;34m\u001b[0m\u001b[0m\n\u001b[1;32m    435\u001b[0m     \u001b[0;32mdef\u001b[0m \u001b[0mapply_density_matrix\u001b[0m\u001b[0;34m(\u001b[0m\u001b[0mself\u001b[0m\u001b[0;34m,\u001b[0m \u001b[0mbackend\u001b[0m\u001b[0;34m,\u001b[0m \u001b[0mstate\u001b[0m\u001b[0;34m,\u001b[0m \u001b[0mnqubits\u001b[0m\u001b[0;34m)\u001b[0m\u001b[0;34m:\u001b[0m\u001b[0;34m\u001b[0m\u001b[0;34m\u001b[0m\u001b[0m\n",
      "\u001b[0;32m~/Library/Caches/pypoetry/virtualenvs/boostvqe-9Q-2T4PW-py3.11/lib/python3.11/site-packages/qibo/backends/numpy.py\u001b[0m in \u001b[0;36mapply_gate\u001b[0;34m(self, gate, state, nqubits)\u001b[0m\n\u001b[1;32m    189\u001b[0m             \u001b[0mmatrix\u001b[0m \u001b[0;34m=\u001b[0m \u001b[0mself\u001b[0m\u001b[0;34m.\u001b[0m\u001b[0mnp\u001b[0m\u001b[0;34m.\u001b[0m\u001b[0mreshape\u001b[0m\u001b[0;34m(\u001b[0m\u001b[0mmatrix\u001b[0m\u001b[0;34m,\u001b[0m \u001b[0;36m2\u001b[0m \u001b[0;34m*\u001b[0m \u001b[0mlen\u001b[0m\u001b[0;34m(\u001b[0m\u001b[0mgate\u001b[0m\u001b[0;34m.\u001b[0m\u001b[0mqubits\u001b[0m\u001b[0;34m)\u001b[0m \u001b[0;34m*\u001b[0m \u001b[0;34m(\u001b[0m\u001b[0;36m2\u001b[0m\u001b[0;34m,\u001b[0m\u001b[0;34m)\u001b[0m\u001b[0;34m)\u001b[0m\u001b[0;34m\u001b[0m\u001b[0;34m\u001b[0m\u001b[0m\n\u001b[1;32m    190\u001b[0m             \u001b[0mopstring\u001b[0m \u001b[0;34m=\u001b[0m \u001b[0meinsum_utils\u001b[0m\u001b[0;34m.\u001b[0m\u001b[0mapply_gate_string\u001b[0m\u001b[0;34m(\u001b[0m\u001b[0mgate\u001b[0m\u001b[0;34m.\u001b[0m\u001b[0mqubits\u001b[0m\u001b[0;34m,\u001b[0m \u001b[0mnqubits\u001b[0m\u001b[0;34m)\u001b[0m\u001b[0;34m\u001b[0m\u001b[0;34m\u001b[0m\u001b[0m\n\u001b[0;32m--> 191\u001b[0;31m             \u001b[0mstate\u001b[0m \u001b[0;34m=\u001b[0m \u001b[0mself\u001b[0m\u001b[0;34m.\u001b[0m\u001b[0mnp\u001b[0m\u001b[0;34m.\u001b[0m\u001b[0meinsum\u001b[0m\u001b[0;34m(\u001b[0m\u001b[0mopstring\u001b[0m\u001b[0;34m,\u001b[0m \u001b[0mstate\u001b[0m\u001b[0;34m,\u001b[0m \u001b[0mmatrix\u001b[0m\u001b[0;34m)\u001b[0m\u001b[0;34m\u001b[0m\u001b[0;34m\u001b[0m\u001b[0m\n\u001b[0m\u001b[1;32m    192\u001b[0m         \u001b[0;32mreturn\u001b[0m \u001b[0mself\u001b[0m\u001b[0;34m.\u001b[0m\u001b[0mnp\u001b[0m\u001b[0;34m.\u001b[0m\u001b[0mreshape\u001b[0m\u001b[0;34m(\u001b[0m\u001b[0mstate\u001b[0m\u001b[0;34m,\u001b[0m \u001b[0;34m(\u001b[0m\u001b[0;36m2\u001b[0m\u001b[0;34m**\u001b[0m\u001b[0mnqubits\u001b[0m\u001b[0;34m,\u001b[0m\u001b[0;34m)\u001b[0m\u001b[0;34m)\u001b[0m\u001b[0;34m\u001b[0m\u001b[0;34m\u001b[0m\u001b[0m\n\u001b[1;32m    193\u001b[0m \u001b[0;34m\u001b[0m\u001b[0m\n",
      "\u001b[0;32m~/Library/Caches/pypoetry/virtualenvs/boostvqe-9Q-2T4PW-py3.11/lib/python3.11/site-packages/tensorflow/python/ops/numpy_ops/np_math_ops.py\u001b[0m in \u001b[0;36meinsum\u001b[0;34m(subscripts, *operands, **kwargs)\u001b[0m\n\u001b[1;32m   1573\u001b[0m     )\n\u001b[1;32m   1574\u001b[0m \u001b[0;34m\u001b[0m\u001b[0m\n\u001b[0;32m-> 1575\u001b[0;31m   \u001b[0mres\u001b[0m \u001b[0;34m=\u001b[0m \u001b[0mspecial_math_ops\u001b[0m\u001b[0;34m.\u001b[0m\u001b[0meinsum\u001b[0m\u001b[0;34m(\u001b[0m\u001b[0msubscripts\u001b[0m\u001b[0;34m,\u001b[0m \u001b[0;34m*\u001b[0m\u001b[0moperands\u001b[0m\u001b[0;34m,\u001b[0m \u001b[0moptimize\u001b[0m\u001b[0;34m=\u001b[0m\u001b[0mtf_optimize\u001b[0m\u001b[0;34m)\u001b[0m\u001b[0;34m\u001b[0m\u001b[0;34m\u001b[0m\u001b[0m\n\u001b[0m\u001b[1;32m   1576\u001b[0m   \u001b[0;32mreturn\u001b[0m \u001b[0mres\u001b[0m\u001b[0;34m\u001b[0m\u001b[0;34m\u001b[0m\u001b[0m\n\u001b[1;32m   1577\u001b[0m \u001b[0;34m\u001b[0m\u001b[0m\n",
      "\u001b[0;32m~/Library/Caches/pypoetry/virtualenvs/boostvqe-9Q-2T4PW-py3.11/lib/python3.11/site-packages/tensorflow/python/util/traceback_utils.py\u001b[0m in \u001b[0;36merror_handler\u001b[0;34m(*args, **kwargs)\u001b[0m\n\u001b[1;32m    148\u001b[0m     \u001b[0mfiltered_tb\u001b[0m \u001b[0;34m=\u001b[0m \u001b[0;32mNone\u001b[0m\u001b[0;34m\u001b[0m\u001b[0;34m\u001b[0m\u001b[0m\n\u001b[1;32m    149\u001b[0m     \u001b[0;32mtry\u001b[0m\u001b[0;34m:\u001b[0m\u001b[0;34m\u001b[0m\u001b[0;34m\u001b[0m\u001b[0m\n\u001b[0;32m--> 150\u001b[0;31m       \u001b[0;32mreturn\u001b[0m \u001b[0mfn\u001b[0m\u001b[0;34m(\u001b[0m\u001b[0;34m*\u001b[0m\u001b[0margs\u001b[0m\u001b[0;34m,\u001b[0m \u001b[0;34m**\u001b[0m\u001b[0mkwargs\u001b[0m\u001b[0;34m)\u001b[0m\u001b[0;34m\u001b[0m\u001b[0;34m\u001b[0m\u001b[0m\n\u001b[0m\u001b[1;32m    151\u001b[0m     \u001b[0;32mexcept\u001b[0m \u001b[0mException\u001b[0m \u001b[0;32mas\u001b[0m \u001b[0me\u001b[0m\u001b[0;34m:\u001b[0m\u001b[0;34m\u001b[0m\u001b[0;34m\u001b[0m\u001b[0m\n\u001b[1;32m    152\u001b[0m       \u001b[0mfiltered_tb\u001b[0m \u001b[0;34m=\u001b[0m \u001b[0m_process_traceback_frames\u001b[0m\u001b[0;34m(\u001b[0m\u001b[0me\u001b[0m\u001b[0;34m.\u001b[0m\u001b[0m__traceback__\u001b[0m\u001b[0;34m)\u001b[0m\u001b[0;34m\u001b[0m\u001b[0;34m\u001b[0m\u001b[0m\n",
      "\u001b[0;32m~/Library/Caches/pypoetry/virtualenvs/boostvqe-9Q-2T4PW-py3.11/lib/python3.11/site-packages/tensorflow/python/util/dispatch.py\u001b[0m in \u001b[0;36mop_dispatch_handler\u001b[0;34m(*args, **kwargs)\u001b[0m\n\u001b[1;32m   1258\u001b[0m       \u001b[0;31m# Fallback dispatch system (dispatch v1):\u001b[0m\u001b[0;34m\u001b[0m\u001b[0;34m\u001b[0m\u001b[0m\n\u001b[1;32m   1259\u001b[0m       \u001b[0;32mtry\u001b[0m\u001b[0;34m:\u001b[0m\u001b[0;34m\u001b[0m\u001b[0;34m\u001b[0m\u001b[0m\n\u001b[0;32m-> 1260\u001b[0;31m         \u001b[0;32mreturn\u001b[0m \u001b[0mdispatch_target\u001b[0m\u001b[0;34m(\u001b[0m\u001b[0;34m*\u001b[0m\u001b[0margs\u001b[0m\u001b[0;34m,\u001b[0m \u001b[0;34m**\u001b[0m\u001b[0mkwargs\u001b[0m\u001b[0;34m)\u001b[0m\u001b[0;34m\u001b[0m\u001b[0;34m\u001b[0m\u001b[0m\n\u001b[0m\u001b[1;32m   1261\u001b[0m       \u001b[0;32mexcept\u001b[0m \u001b[0;34m(\u001b[0m\u001b[0mTypeError\u001b[0m\u001b[0;34m,\u001b[0m \u001b[0mValueError\u001b[0m\u001b[0;34m)\u001b[0m\u001b[0;34m:\u001b[0m\u001b[0;34m\u001b[0m\u001b[0;34m\u001b[0m\u001b[0m\n\u001b[1;32m   1262\u001b[0m         \u001b[0;31m# Note: convert_to_eager_tensor currently raises a ValueError, not a\u001b[0m\u001b[0;34m\u001b[0m\u001b[0;34m\u001b[0m\u001b[0m\n",
      "\u001b[0;32m~/Library/Caches/pypoetry/virtualenvs/boostvqe-9Q-2T4PW-py3.11/lib/python3.11/site-packages/tensorflow/python/ops/special_math_ops.py\u001b[0m in \u001b[0;36meinsum\u001b[0;34m(equation, *inputs, **kwargs)\u001b[0m\n\u001b[1;32m    761\u001b[0m       \u001b[0;34m-\u001b[0m \u001b[0mnumber\u001b[0m \u001b[0mof\u001b[0m \u001b[0minputs\u001b[0m \u001b[0;32mor\u001b[0m \u001b[0mtheir\u001b[0m \u001b[0mshapes\u001b[0m \u001b[0mare\u001b[0m \u001b[0minconsistent\u001b[0m \u001b[0;32mwith\u001b[0m\u001b[0;31m \u001b[0m\u001b[0;31m`\u001b[0m\u001b[0mequation\u001b[0m\u001b[0;31m`\u001b[0m\u001b[0;34m.\u001b[0m\u001b[0;34m\u001b[0m\u001b[0;34m\u001b[0m\u001b[0m\n\u001b[1;32m    762\u001b[0m   \"\"\"\n\u001b[0;32m--> 763\u001b[0;31m   \u001b[0;32mreturn\u001b[0m \u001b[0m_einsum_v2\u001b[0m\u001b[0;34m(\u001b[0m\u001b[0mequation\u001b[0m\u001b[0;34m,\u001b[0m \u001b[0;34m*\u001b[0m\u001b[0minputs\u001b[0m\u001b[0;34m,\u001b[0m \u001b[0;34m**\u001b[0m\u001b[0mkwargs\u001b[0m\u001b[0;34m)\u001b[0m\u001b[0;34m\u001b[0m\u001b[0;34m\u001b[0m\u001b[0m\n\u001b[0m\u001b[1;32m    764\u001b[0m \u001b[0;34m\u001b[0m\u001b[0m\n\u001b[1;32m    765\u001b[0m \u001b[0;34m\u001b[0m\u001b[0m\n",
      "\u001b[0;32m~/Library/Caches/pypoetry/virtualenvs/boostvqe-9Q-2T4PW-py3.11/lib/python3.11/site-packages/tensorflow/python/ops/special_math_ops.py\u001b[0m in \u001b[0;36m_einsum_v2\u001b[0;34m(equation, *inputs, **kwargs)\u001b[0m\n\u001b[1;32m   1198\u001b[0m       \u001b[0;32mif\u001b[0m \u001b[0mellipsis_label\u001b[0m\u001b[0;34m:\u001b[0m\u001b[0;34m\u001b[0m\u001b[0;34m\u001b[0m\u001b[0m\n\u001b[1;32m   1199\u001b[0m         \u001b[0mresolved_equation\u001b[0m \u001b[0;34m=\u001b[0m \u001b[0mresolved_equation\u001b[0m\u001b[0;34m.\u001b[0m\u001b[0mreplace\u001b[0m\u001b[0;34m(\u001b[0m\u001b[0mellipsis_label\u001b[0m\u001b[0;34m,\u001b[0m \u001b[0;34m'...'\u001b[0m\u001b[0;34m)\u001b[0m\u001b[0;34m\u001b[0m\u001b[0;34m\u001b[0m\u001b[0m\n\u001b[0;32m-> 1200\u001b[0;31m       \u001b[0;32mreturn\u001b[0m \u001b[0mgen_linalg_ops\u001b[0m\u001b[0;34m.\u001b[0m\u001b[0meinsum\u001b[0m\u001b[0;34m(\u001b[0m\u001b[0minputs\u001b[0m\u001b[0;34m,\u001b[0m \u001b[0mresolved_equation\u001b[0m\u001b[0;34m)\u001b[0m\u001b[0;34m\u001b[0m\u001b[0;34m\u001b[0m\u001b[0m\n\u001b[0m\u001b[1;32m   1201\u001b[0m \u001b[0;34m\u001b[0m\u001b[0m\n\u001b[1;32m   1202\u001b[0m     \u001b[0;31m# Send fully specified shapes to opt_einsum, since it cannot handle unknown\u001b[0m\u001b[0;34m\u001b[0m\u001b[0;34m\u001b[0m\u001b[0m\n",
      "\u001b[0;32m~/Library/Caches/pypoetry/virtualenvs/boostvqe-9Q-2T4PW-py3.11/lib/python3.11/site-packages/tensorflow/python/ops/gen_linalg_ops.py\u001b[0m in \u001b[0;36meinsum\u001b[0;34m(inputs, equation, name)\u001b[0m\n\u001b[1;32m   1113\u001b[0m   \u001b[0;32mif\u001b[0m \u001b[0mtld\u001b[0m\u001b[0;34m.\u001b[0m\u001b[0mis_eager\u001b[0m\u001b[0;34m:\u001b[0m\u001b[0;34m\u001b[0m\u001b[0;34m\u001b[0m\u001b[0m\n\u001b[1;32m   1114\u001b[0m     \u001b[0;32mtry\u001b[0m\u001b[0;34m:\u001b[0m\u001b[0;34m\u001b[0m\u001b[0;34m\u001b[0m\u001b[0m\n\u001b[0;32m-> 1115\u001b[0;31m       _result = pywrap_tfe.TFE_Py_FastPathExecute(\n\u001b[0m\u001b[1;32m   1116\u001b[0m         _ctx, \"Einsum\", name, inputs, \"equation\", equation)\n\u001b[1;32m   1117\u001b[0m       \u001b[0;32mreturn\u001b[0m \u001b[0m_result\u001b[0m\u001b[0;34m\u001b[0m\u001b[0;34m\u001b[0m\u001b[0m\n",
      "\u001b[0;31mKeyboardInterrupt\u001b[0m: "
     ]
    }
   ],
   "source": [
    "# train vqe\n",
    "(\n",
    "    partial_results,\n",
    "    partial_params_history,\n",
    "    partial_loss_history,\n",
    "    partial_grads_history,\n",
    "    partial_fluctuations,\n",
    "    vqe,\n",
    ") = train_vqe(\n",
    "    deepcopy(ansatz_circ),\n",
    "    ham_boost,  # Fixed hamiltonian\n",
    "    optimizer,\n",
    "    initial_params,\n",
    "    tol=tol,\n",
    "    niterations=1,\n",
    "    nmessage=1,\n",
    "    loss=objective_boost,\n",
    ")\n",
    "params_history = np.array(partial_params_history)\n",
    "loss_history = np.array(partial_loss_history)\n",
    "grads_history = np.array(partial_grads_history)\n",
    "fluctuations = np.array(partial_fluctuations)"
   ]
  },
  {
   "cell_type": "code",
   "execution_count": null,
   "metadata": {},
   "outputs": [],
   "source": []
  }
 ],
 "metadata": {
  "kernelspec": {
   "display_name": "boostvqe-9Q-2T4PW-py3.11",
   "language": "python",
   "name": "python3"
  },
  "language_info": {
   "codemirror_mode": {
    "name": "ipython",
    "version": 3
   },
   "file_extension": ".py",
   "mimetype": "text/x-python",
   "name": "python",
   "nbconvert_exporter": "python",
   "pygments_lexer": "ipython3",
   "version": "3.11.7"
  }
 },
 "nbformat": 4,
 "nbformat_minor": 2
}
