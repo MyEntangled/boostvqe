{
 "cells": [
  {
   "cell_type": "markdown",
   "metadata": {},
   "source": [
    "# XXZ model\n"
   ]
  },
  {
   "cell_type": "code",
   "execution_count": 30,
   "metadata": {},
   "outputs": [],
   "source": [
    "# qibo's\n",
    "import qibo\n",
    "from qibo import gates, hamiltonians, models\n",
    "from qibo.backends import construct_backend\n",
    "from qibo.models.dbi.double_bracket import (\n",
    "    DoubleBracketGeneratorType,\n",
    "    DoubleBracketIteration,\n",
    ")\n",
    "\n",
    "\n",
    "# boostvqe's\n",
    "from boostvqe import ansatze\n",
    "from boostvqe.plotscripts import plot_gradients, plot_loss\n",
    "from boostvqe.training_utils import Model, vqe_loss, TLFIM\n",
    "from boostvqe.models.dbi.double_bracket_evolution_oracles import *\n",
    "from boostvqe.utils import (\n",
    "    OPTIMIZATION_FILE,\n",
    "    PARAMS_FILE,\n",
    "    optimize_D,\n",
    "    select_recursion_step_gd_circuit,\n",
    "    apply_dbi_steps,\n",
    "    create_folder,\n",
    "    generate_path,\n",
    "    results_dump,\n",
    "    rotate_h_with_vqe,\n",
    "    train_vqe,\n",
    ")\n",
    "from boostvqe.models.dbi.group_commutator_iteration_transpiler import (\n",
    "    DoubleBracketRotationType,\n",
    "    GroupCommutatorIterationWithEvolutionOracles,\n",
    ")\n",
    "import numpy as np\n",
    "import json\n",
    "import matplotlib.pyplot as plt"
   ]
  },
  {
   "cell_type": "code",
   "execution_count": 3,
   "metadata": {},
   "outputs": [],
   "source": [
    "# helper functions\n",
    "def exact_expectation_boost(ham, circ):\n",
    "    # calculates the exact expectation of hamiltonian given a circuit in qibo\n",
    "    return ham.expectation(\n",
    "        ham.backend.execute_circuit(circuit=circ).state())"
   ]
  },
  {
   "cell_type": "code",
   "execution_count": 11,
   "metadata": {},
   "outputs": [
    {
     "name": "stderr",
     "output_type": "stream",
     "text": [
      "[Qibo 0.2.12|INFO|2024-10-23 15:47:40]: Using numpy backend on /CPU:0\n",
      "INFO:qibo.config:Using numpy backend on /CPU:0\n"
     ]
    }
   ],
   "source": [
    "qibo.set_backend(\"numpy\")\n",
    "vqe_backend = construct_backend(backend=\"numpy\")"
   ]
  },
  {
   "cell_type": "code",
   "execution_count": 13,
   "metadata": {},
   "outputs": [
    {
     "name": "stderr",
     "output_type": "stream",
     "text": [
      "[Qibo 0.2.12|WARNING|2024-10-23 15:48:11]: Calculating the dense form of a symbolic Hamiltonian. This operation is memory inefficient.\n",
      "WARNING:qibo.config:Calculating the dense form of a symbolic Hamiltonian. This operation is memory inefficient.\n"
     ]
    },
    {
     "data": {
      "text/plain": [
       "<matplotlib.colorbar.Colorbar at 0x29c6c6010>"
      ]
     },
     "execution_count": 13,
     "metadata": {},
     "output_type": "execute_result"
    },
    {
     "data": {
      "image/png": "[encoded data removed]",
      "text/plain": [
       "<Figure size 640x480 with 2 Axes>"
      ]
     },
     "metadata": {},
     "output_type": "display_data"
    }
   ],
   "source": [
    "nqubits = 5\n",
    "delta = 0.5\n",
    "ham = hamiltonians.XXZ(nqubits, delta, dense=False)\n",
    "plt.imshow(np.real(ham.matrix))\n",
    "plt.colorbar()"
   ]
  },
  {
   "cell_type": "code",
   "execution_count": 20,
   "metadata": {},
   "outputs": [],
   "source": [
    "nqubits = 5\n",
    "nlayers = 3\n",
    "epochs = 100\n",
    "path = \"./results/big_architectures_small_lr/sgd_5q_3l_42/\"\n",
    "OPTIMIZATION_METHOD=\"sgd\"\n",
    "OPTIMIZATION_CONFIG=\"{ \\\"maxiter\\\": 2, \\\"gd_epochs\\\":2}\""
   ]
  },
  {
   "cell_type": "code",
   "execution_count": 21,
   "metadata": {},
   "outputs": [],
   "source": [
    "# load data\n",
    "opt_options = json.loads(OPTIMIZATION_CONFIG)\n",
    "\n",
    "params = np.array(\n",
    "    np.load(path + PARAMS_FILE, allow_pickle=True).tolist()[0][epochs]\n",
    ")"
   ]
  },
  {
   "cell_type": "code",
   "execution_count": 22,
   "metadata": {},
   "outputs": [],
   "source": [
    "# create ansatze circuit\n",
    "ansatz_circ = ansatze.hdw_efficient(nqubits, nlayers)"
   ]
  },
  {
   "cell_type": "code",
   "execution_count": 23,
   "metadata": {},
   "outputs": [],
   "source": [
    "# setup vqe\n",
    "vqe = ansatze.VQE(\n",
    "        circuit=ansatz_circ,\n",
    "        hamiltonian=ham,\n",
    "    )\n",
    "vqe.circuit.set_parameters(params)"
   ]
  },
  {
   "cell_type": "code",
   "execution_count": 24,
   "metadata": {},
   "outputs": [],
   "source": [
    "# step: Number of time steps (default 1).\n",
    "# order: the order of product formula, as of now, it takes value 1 or 2\n",
    "steps = 1\n",
    "order = 1\n",
    "ham_base_eo = XXZ_EvolutionOracle.from_nqubits(\n",
    "        nqubits=nqubits, delta=0.5, steps=steps, order=order\n",
    "    )"
   ]
  },
  {
   "cell_type": "code",
   "execution_count": 29,
   "metadata": {},
   "outputs": [],
   "source": [
    "# we then rotrate H_XXZ with VQE using the FrameShiftedOracle e^{i H' t} = V e^{i H0 t} Vdag\n",
    "frame_shifted_oracle = FrameShiftedEvolutionOracle.from_evolution_oracle(\n",
    "        before_circuit=vqe.circuit.invert(),\n",
    "        after_circuit = vqe.circuit,\n",
    "        base_evolution_oracle=ham_base_eo,)"
   ]
  },
  {
   "cell_type": "code",
   "execution_count": null,
   "metadata": {},
   "outputs": [],
   "source": [
    "# shifted oracle is passed to the group commutator\n",
    "db_rotation = DoubleBracketRotationType.group_commutator_third_order_reduced\n",
    "gci = GroupCommutatorIterationWithEvolutionOracles(\n",
    "    frame_shifted_oracle\n",
    "    db_rotation,\n",
    ")"
   ]
  }
 ],
 "metadata": {
  "kernelspec": {
   "display_name": "boostvqe-9Q-2T4PW-py3.11",
   "language": "python",
   "name": "python3"
  },
  "language_info": {
   "codemirror_mode": {
    "name": "ipython",
    "version": 3
   },
   "file_extension": ".py",
   "mimetype": "text/x-python",
   "name": "python",
   "nbconvert_exporter": "python",
   "pygments_lexer": "ipython3",
   "version": "3.11.7"
  }
 },
 "nbformat": 4,
 "nbformat_minor": 2
}
