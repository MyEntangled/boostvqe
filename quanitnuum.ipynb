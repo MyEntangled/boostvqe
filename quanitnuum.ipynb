{
 "cells": [
  {
   "cell_type": "code",
   "execution_count": 131,
   "metadata": {},
   "outputs": [],
   "source": [
    "from datetime import datetime\n",
    "\n",
    "from pytket import Circuit\n",
    "from pytket.circuit.display import render_circuit_jupyter\n",
    "from pytket.utils.operators import QubitPauliOperator\n",
    "from pytket.partition import measurement_reduction, MeasurementBitMap, MeasurementSetup, PauliPartitionStrat\n",
    "from pytket.backends.backendresult import BackendResult\n",
    "from pytket.pauli import Pauli, QubitPauliString\n",
    "from pytket.circuit import Qubit\n",
    "\n",
    "from scipy.optimize import minimize\n",
    "from numpy import ndarray\n",
    "from numpy.random import random_sample\n",
    "from sympy import Symbol\n",
    "from functools import partial\n",
    "\n",
    "import qnexus as qnx\n",
    "from copy import deepcopy\n",
    "import matplotlib.pyplot as plt\n"
   ]
  },
  {
   "cell_type": "code",
   "execution_count": 103,
   "metadata": {},
   "outputs": [],
   "source": [
    "# qibo's\n",
    "import qibo\n",
    "from qibo import gates, hamiltonians, models\n",
    "from qibo.backends import GlobalBackend\n",
    "from qibo.models.dbi.double_bracket import (\n",
    "    DoubleBracketGeneratorType,\n",
    "    DoubleBracketIteration,\n",
    ")\n",
    "\n",
    "\n",
    "# boostvqe's\n",
    "from boostvqe import ansatze\n",
    "from boostvqe.plotscripts import plot_gradients, plot_loss\n",
    "from boostvqe.training_utils import Model, vqe_loss\n",
    "from boostvqe.utils import (\n",
    "    DBI_D_MATRIX,\n",
    "    DBI_ENERGIES,\n",
    "    DBI_FLUCTUATIONS,\n",
    "    DBI_STEPS,\n",
    "    FLUCTUATION_FILE,\n",
    "    GRADS_FILE,\n",
    "    HAMILTONIAN_FILE,\n",
    "    LOSS_FILE,\n",
    "    SEED,\n",
    "    TOL,\n",
    "    apply_dbi_steps,\n",
    "    create_folder,\n",
    "    generate_path,\n",
    "    results_dump,\n",
    "    rotate_h_with_vqe,\n",
    "    train_vqe,\n",
    ")\n",
    "import numpy as np"
   ]
  },
  {
   "cell_type": "markdown",
   "metadata": {},
   "source": [
    "# TFIM model\n",
    "\n",
    "Our goal here is to run VQE on the TFIM model, defined as\n",
    "$$\n",
    "H_{\\text{TFIM}} = -\\sum_i Z_iZ_{i+1} + h\\sum_i X_i\n",
    "$$\n",
    "\n",
    "By the Central Limit Theorem, the error (standard deviation) of the expectation value $\\langle  H_{\\text{TFIM}}\\rangle$ scales with $1/\\sqrt{N_{\\text{shots}}}$. In this notebook, we will show\n",
    "\n",
    "1. The VQE result of the TFIM model on 5-10 qubits.\n",
    "2. How the error scales with number of shots.\n",
    "3. How the error scales with the size of the system $L$."
   ]
  },
  {
   "cell_type": "code",
   "execution_count": 186,
   "metadata": {},
   "outputs": [],
   "source": [
    "# basics\n",
    "nqubits = 5\n",
    "h = 3"
   ]
  },
  {
   "cell_type": "code",
   "execution_count": 56,
   "metadata": {},
   "outputs": [],
   "source": [
    "# helper functions\n",
    "def exact_expectation_boost(ham, circ):\n",
    "    # calculates the exact expectation of hamiltonian given a circuit in qibo\n",
    "    return ham.expectation(\n",
    "        ham.backend.execute_circuit(circuit=circ).state())"
   ]
  },
  {
   "cell_type": "markdown",
   "metadata": {},
   "source": [
    "# Boostvqe"
   ]
  },
  {
   "cell_type": "code",
   "execution_count": 80,
   "metadata": {},
   "outputs": [
    {
     "name": "stderr",
     "output_type": "stream",
     "text": [
      "[Qibo 0.2.11|INFO|2024-10-08 13:29:03]: Using tensorflow backend on /device:CPU:0\n",
      "INFO:qibo.config:Using tensorflow backend on /device:CPU:0\n"
     ]
    }
   ],
   "source": [
    "qibo.set_backend(\"tensorflow\")"
   ]
  },
  {
   "cell_type": "code",
   "execution_count": 187,
   "metadata": {},
   "outputs": [
    {
     "name": "stderr",
     "output_type": "stream",
     "text": [
      "[Qibo 0.2.11|WARNING|2024-10-09 12:05:41]: Calculating the dense form of a symbolic Hamiltonian. This operation is memory inefficient.\n",
      "WARNING:qibo.config:Calculating the dense form of a symbolic Hamiltonian. This operation is memory inefficient.\n"
     ]
    },
    {
     "name": "stdout",
     "output_type": "stream",
     "text": [
      "tf.Tensor(\n",
      "[[-5.+0.j -3.+0.j -3.+0.j ...  0.+0.j  0.+0.j  0.+0.j]\n",
      " [-3.+0.j -1.+0.j  0.+0.j ...  0.+0.j  0.+0.j  0.+0.j]\n",
      " [-3.+0.j  0.+0.j -1.+0.j ...  0.+0.j  0.+0.j  0.+0.j]\n",
      " ...\n",
      " [ 0.+0.j  0.+0.j  0.+0.j ... -1.+0.j  0.+0.j -3.+0.j]\n",
      " [ 0.+0.j  0.+0.j  0.+0.j ...  0.+0.j -1.+0.j -3.+0.j]\n",
      " [ 0.+0.j  0.+0.j  0.+0.j ... -3.+0.j -3.+0.j -5.+0.j]], shape=(32, 32), dtype=complex128)\n"
     ]
    }
   ],
   "source": [
    "# build hamiltonian\n",
    "ham_boost = hamiltonians.TFIM(nqubits=nqubits, h=h, dense=False)\n",
    "print(ham_boost.matrix)"
   ]
  },
  {
   "cell_type": "code",
   "execution_count": 82,
   "metadata": {},
   "outputs": [
    {
     "name": "stdout",
     "output_type": "stream",
     "text": [
      "q0: ─RY─RZ─o───RY─RZ───o─RY─\n",
      "q1: ─RY─RZ─Z───RY─RZ─o─|─RY─\n",
      "q2: ─RY─RZ───o─RY─RZ─Z─|─RY─\n",
      "q3: ─RY─RZ───Z─RY─RZ───|─RY─\n",
      "q4: ─RY─RZ─────RY─RZ───Z─RY─\n"
     ]
    }
   ],
   "source": [
    "# build ansatz circuit\n",
    "nlayer = 1\n",
    "ansatz_circ = ansatze.hdw_efficient(nqubits, nlayer)\n",
    "print(ansatz_circ.draw())"
   ]
  },
  {
   "cell_type": "code",
   "execution_count": 141,
   "metadata": {},
   "outputs": [
    {
     "name": "stdout",
     "output_type": "stream",
     "text": [
      "[ 1.70475788 -3.01120431  0.83973663  1.5632809  -0.00938072 -1.72915367\n",
      " -1.89712697  1.63696274 -2.07903793 -2.58653723  1.16465009  2.84875441\n",
      " -3.11678496  0.07660625  1.96425543  0.70702213  1.39332975 -1.30768123\n",
      "  2.62495223  1.34821941  0.26731415 -2.2483119  -0.79582348  1.09411377\n",
      " -0.36547294]\n",
      "Target enegry: -15.422871679540702\n",
      "Initial energy: tf.Tensor(-2.651967569509104, shape=(), dtype=float64)\n"
     ]
    }
   ],
   "source": [
    "# build zero state\n",
    "zero_state = ham_boost.backend.zero_state(nqubits)\n",
    "# initial params\n",
    "params_len = len(ansatz_circ.get_parameters())\n",
    "# fix numpy seed to ensure replicability of the experiment\n",
    "seed = 10\n",
    "np.random.seed(seed)\n",
    "initial_params = np.random.uniform(-np.pi, np.pi, params_len)\n",
    "print(initial_params)\n",
    "# initial energy\n",
    "c0 = deepcopy(ansatz_circ)\n",
    "c0.set_parameters(initial_params)\n",
    "target_energy = np.real(np.min(np.asarray(ham_boost.eigenvalues())))\n",
    "print('Target enegry:', target_energy)\n",
    "print('Initial energy:', exact_expectation_boost(ham_boost, c0))"
   ]
  },
  {
   "cell_type": "code",
   "execution_count": 121,
   "metadata": {},
   "outputs": [],
   "source": [
    "niter = 3\n",
    "# define the qibo loss function\n",
    "objective_boost = partial(vqe_loss)\n",
    "# logging hisotry\n",
    "params_history, loss_history, grads_history, fluctuations = [], [], [], []\n",
    "# set optimizer\n",
    "optimizer = 'sgd'\n",
    "tol = 1e-2"
   ]
  },
  {
   "cell_type": "code",
   "execution_count": 129,
   "metadata": {},
   "outputs": [
    {
     "name": "stderr",
     "output_type": "stream",
     "text": [
      "INFO:root:Optimization iteration 0/1\n",
      "INFO:root:Loss -2.652\n",
      "INFO:root:Minimize the energy\n",
      "INFO:root:Optimization iteration 1/1\n",
      "INFO:root:Loss -2.6775\n",
      "INFO:root:Optimization iteration 2/1\n",
      "INFO:root:Loss -2.6958\n",
      "[Qibo 0.2.11|INFO|2024-10-08 15:31:44]: ite 1 : loss -2.677452\n",
      "INFO:qibo.config:ite 1 : loss -2.677452\n",
      "INFO:root:Optimization iteration 3/1\n",
      "INFO:root:Loss -2.7109\n",
      "INFO:root:Optimization iteration 4/1\n",
      "INFO:root:Loss -2.724\n",
      "INFO:root:Optimization iteration 5/1\n",
      "INFO:root:Loss -2.7358\n",
      "INFO:root:Optimization iteration 6/1\n",
      "INFO:root:Loss -2.7465\n",
      "INFO:root:Optimization iteration 7/1\n",
      "INFO:root:Loss -2.7565\n",
      "INFO:root:Optimization iteration 8/1\n",
      "INFO:root:Loss -2.7658\n",
      "INFO:root:Optimization iteration 9/1\n",
      "INFO:root:Loss -2.7746\n",
      "INFO:root:Optimization iteration 10/1\n",
      "INFO:root:Loss -2.783\n",
      "INFO:root:Optimization iteration 11/1\n",
      "INFO:root:Loss -2.7909\n",
      "INFO:root:Optimization iteration 12/1\n",
      "INFO:root:Loss -2.7985\n",
      "INFO:root:Optimization iteration 13/1\n",
      "INFO:root:Loss -2.8059\n",
      "INFO:root:Optimization iteration 14/1\n",
      "INFO:root:Loss -2.8129\n",
      "INFO:root:Optimization iteration 15/1\n",
      "INFO:root:Loss -2.8198\n",
      "INFO:root:Optimization iteration 16/1\n",
      "INFO:root:Loss -2.8264\n",
      "INFO:root:Optimization iteration 17/1\n",
      "INFO:root:Loss -2.8328\n",
      "INFO:root:Optimization iteration 18/1\n",
      "INFO:root:Loss -2.839\n",
      "INFO:root:Optimization iteration 19/1\n",
      "INFO:root:Loss -2.8451\n",
      "INFO:root:Optimization iteration 20/1\n",
      "INFO:root:Loss -2.851\n",
      "INFO:root:Optimization iteration 21/1\n",
      "INFO:root:Loss -2.8568\n",
      "INFO:root:Optimization iteration 22/1\n",
      "INFO:root:Loss -2.8624\n",
      "INFO:root:Optimization iteration 23/1\n",
      "INFO:root:Loss -2.8679\n",
      "INFO:root:Optimization iteration 24/1\n",
      "INFO:root:Loss -2.8733\n",
      "INFO:root:Optimization iteration 25/1\n",
      "INFO:root:Loss -2.8786\n",
      "INFO:root:Optimization iteration 26/1\n",
      "INFO:root:Loss -2.8838\n",
      "INFO:root:Optimization iteration 27/1\n",
      "INFO:root:Loss -2.8889\n",
      "INFO:root:Optimization iteration 28/1\n",
      "INFO:root:Loss -2.8938\n",
      "INFO:root:Optimization iteration 29/1\n",
      "INFO:root:Loss -2.8988\n",
      "INFO:root:Optimization iteration 30/1\n",
      "INFO:root:Loss -2.9036\n"
     ]
    }
   ],
   "source": [
    "# train vqe\n",
    "(\n",
    "    partial_results,\n",
    "    partial_params_history,\n",
    "    partial_loss_history,\n",
    "    partial_grads_history,\n",
    "    partial_fluctuations,\n",
    "    vqe,\n",
    ") = train_vqe(\n",
    "    deepcopy(ansatz_circ),\n",
    "    ham_boost,  # Fixed hamiltonian\n",
    "    optimizer,\n",
    "    initial_params,\n",
    "    tol=tol,\n",
    "    niterations=1,\n",
    "    nmessage=1,\n",
    "    loss=objective_boost,\n",
    "    training_options={'nepochs':30,}\n",
    ")\n",
    "params_history = np.array(partial_params_history)\n",
    "loss_history = np.array(partial_loss_history)\n",
    "grads_history = np.array(partial_grads_history)\n",
    "fluctuations = np.array(partial_fluctuations)"
   ]
  },
  {
   "cell_type": "code",
   "execution_count": 134,
   "metadata": {},
   "outputs": [
    {
     "data": {
      "text/plain": [
       "array([[ 1.70475788, -3.01120431,  0.83973663,  1.5632809 , -0.00938072,\n",
       "        -1.72915367, -1.89712697,  1.63696274, -2.07903793, -2.58653723,\n",
       "         1.16465009,  2.84875441, -3.11678496,  0.07660625,  1.96425543,\n",
       "         0.70702213,  1.39332975, -1.30768123,  2.62495223,  1.34821941,\n",
       "         0.26731415, -2.2483119 , -0.79582348,  1.09411377, -0.36547294],\n",
       "       [ 1.70571075, -3.01029555,  0.83874317,  1.56228567, -0.01037544,\n",
       "        -1.72820622, -1.89691407,  1.63650038, -2.07998578, -2.5865886 ,\n",
       "         1.16516825,  2.84827481, -3.11764548,  0.07755007,  1.96525142,\n",
       "         0.70798009,  1.39416681, -1.30726019,  2.62401656,  1.34861871,\n",
       "         0.26663421, -2.24930264, -0.7967674 ,  1.09313646, -0.36642803],\n",
       "       [ 1.70640266, -3.00962228,  0.83803817,  1.56158139, -0.01108088,\n",
       "        -1.72752087, -1.89670398,  1.63608509, -2.08067325, -2.58664549,\n",
       "         1.16562747,  2.84783985, -3.1182953 ,  0.07823521,  1.9659575 ,\n",
       "         0.70867218,  1.3948094 , -1.30687525,  2.62333432,  1.34898405,\n",
       "         0.26607665, -2.25000662, -0.79745238,  1.09243823, -0.36711982],\n",
       "       [ 1.70697326, -3.00906324,  0.8374618 ,  1.56100648, -0.01165748,\n",
       "        -1.72695757, -1.89649703,  1.6357047 , -2.08123936, -2.58670624,\n",
       "         1.16604408,  2.84743878, -3.11883835,  0.07879944,  1.9665346 ,\n",
       "         0.70924148,  1.39535064, -1.30651826,  2.62277156,  1.34932337,\n",
       "         0.26559314, -2.2505824 , -0.79801638,  1.0918663 , -0.36768957],\n",
       "       [ 1.70747017, -3.00857483,  0.83696231,  1.5605088 , -0.01215712,\n",
       "        -1.72646849, -1.89629326,  1.63535169, -2.08173168, -2.58677013,\n",
       "         1.16642805,  2.84706464, -3.11931412,  0.07929006,  1.9670347 ,\n",
       "         0.70973637,  1.39582719, -1.30618385,  2.62228179,  1.34964166,\n",
       "         0.26516063, -2.25108147, -0.79850675,  1.09137029, -0.36818524],\n",
       "       [ 1.70791627, -3.00813559,  0.83651534,  1.56006385, -0.0126042 ,\n",
       "        -1.7260306 , -1.89609264,  1.63502096, -2.08217307, -2.58683669,\n",
       "         1.16678598,  2.84671254, -3.11974254,  0.07972986,  1.96748218,\n",
       "         0.71018003,  1.39625789, -1.30586826,  2.6218425 ,  1.3499424 ,\n",
       "         0.264766  , -2.25152809, -0.79894631,  1.09092631, -0.36862988],\n",
       "       [ 1.70832459, -3.00773312,  0.83610719,  1.55965784, -0.01301244,\n",
       "        -1.72563075, -1.89589511,  1.63470883, -2.08257663, -2.58690562,\n",
       "         1.1671225 ,  2.84637893, -3.12013531,  0.08013188,  1.96789082,\n",
       "         0.71058566,  1.39665389, -1.30556866,  2.6214408 ,  1.35022818,\n",
       "         0.26440094, -2.25193595, -0.79934808,  1.09052086, -0.3690366 ],\n",
       "       [ 1.70870344, -3.00735948,  0.83572922,  1.55928212, -0.01339048,\n",
       "        -1.7252606 , -1.89570056,  1.63441254, -2.08295064, -2.58697667,\n",
       "         1.16744101,  2.84606112, -3.1205    ,  0.08050439,  1.96826924,\n",
       "         0.71096162,  1.39702248, -1.30528287,  2.62106848,  1.35050099,\n",
       "         0.26405979, -2.25231365, -0.79972035,  1.09014541, -0.36941373],\n",
       "       [ 1.70905843, -3.00700922,  0.83537559,  1.5589308 , -0.01374418,\n",
       "        -1.72491447, -1.8955089 ,  1.63412995, -2.08330075, -2.58704967,\n",
       "         1.16774412,  2.84575702, -3.12084182,  0.08085302,  1.96862331,\n",
       "         0.71131359,  1.39736869, -1.30500918,  2.62071994,  1.35076242,\n",
       "         0.26373851, -2.25266704, -0.80006875,  1.08979417, -0.36976694],\n",
       "       [ 1.70939363, -3.00667843,  0.83504213,  1.5585997 , -0.0140777 ,\n",
       "        -1.72458829, -1.89532003,  1.63385938, -2.08363101, -2.58712445,\n",
       "         1.16803383,  2.84546494, -3.12116456,  0.08118182,  1.96895719,\n",
       "         0.71164566,  1.39769618, -1.30474621,  2.62039116,  1.35101373,\n",
       "         0.26343407, -2.25300027, -0.80039732,  1.08946301, -0.37010028],\n",
       "       [ 1.70971203, -3.00636417,  0.83472574,  1.55828571, -0.01439415,\n",
       "        -1.72427902, -1.89513385,  1.63359946, -2.08394445, -2.58720089,\n",
       "         1.16831176,  2.84518354, -3.12147106,  0.0814938 ,  1.969274  ,\n",
       "         0.71196085,  1.39800771, -1.30449282,  2.62007915,  1.35125599,\n",
       "         0.26314415, -2.25331644, -0.80070908,  1.08914885, -0.37041678],\n",
       "       [ 1.71001596, -3.00606418,  0.83442403,  1.55798644, -0.01469592,\n",
       "        -1.72398433, -1.89495026,  1.63334906, -2.08424338, -2.58727886,\n",
       "         1.16857923,  2.84491169, -3.12176351,  0.08179129,  1.96957611,\n",
       "         0.71226151,  1.39830543, -1.30424806,  2.61978159,  1.35149006,\n",
       "         0.2628669 , -2.25361794, -0.80100636,  1.08884932, -0.37071877],\n",
       "       [ 1.71030725, -3.00577666,  0.83413514,  1.55770001, -0.01498487,\n",
       "        -1.72370236, -1.89476917,  1.63310725, -2.08452964, -2.58735828,\n",
       "         1.16883733,  2.84464846, -3.12204366,  0.08207612,  1.9698654 ,\n",
       "         0.71254947,  1.39859103, -1.30401112,  2.61949665,  1.35171669,\n",
       "         0.26260087, -2.25390663, -0.80129099,  1.08856257, -0.37100808],\n",
       "       [ 1.71058738, -3.00550018,  0.83385755,  1.55742492, -0.01526252,\n",
       "        -1.72343164, -1.89459049,  1.63287323, -2.08480472, -2.58743905,\n",
       "         1.16908695,  2.84439305, -3.12231292,  0.08234977,  1.97014339,\n",
       "         0.71282623,  1.39886591, -1.30378132,  2.61922287,  1.35193652,\n",
       "         0.26234482, -2.25418402, -0.80156443,  1.0882871 , -0.37128621],\n",
       "       [ 1.71085756, -3.00523355,  0.83359004,  1.55715992, -0.01553009,\n",
       "        -1.72317094, -1.89441413,  1.63264633, -2.08506983, -2.58752109,\n",
       "         1.16932888,  2.8441448 , -3.12257245,  0.08261345,  1.97041129,\n",
       "         0.71309299,  1.39913119, -1.30355808,  2.61895904,  1.3521501 ,\n",
       "         0.26209776, -2.25445134, -0.80182792,  1.08802167, -0.37155436],\n",
       "       [ 1.71111878, -3.00497577,  0.83333157,  1.55690398, -0.01578862,\n",
       "        -1.72291926, -1.89424001,  1.63242596, -2.08532596, -2.58760433,\n",
       "         1.16956377,  2.8439031 , -3.12282322,  0.08286815,  1.97067015,\n",
       "         0.71335077,  1.39938782, -1.30334089,  2.61870416,  1.3523579 ,\n",
       "         0.26185884, -2.25470962, -0.80208244,  1.08776527, -0.37181353],\n",
       "       [ 1.71137189, -3.00472602,  0.83308129,  1.55665625, -0.01603896,\n",
       "        -1.72267574, -1.89406805,  1.63221161, -2.08557397, -2.58768871,\n",
       "         1.16979221,  2.84366745, -3.12306604,  0.08311474,  1.97092081,\n",
       "         0.71360041,  1.39963661, -1.30312928,  2.61845738,  1.35256034,\n",
       "         0.26162734, -2.2549597 , -0.80232884,  1.08751704, -0.37206458],\n",
       "       [ 1.71161762, -3.00448359,  0.83283847,  1.55641599, -0.01628185,\n",
       "        -1.72243965, -1.89389818,  1.63200284, -2.08581459, -2.58777416,\n",
       "         1.17001467,  2.84343741, -3.12330162,  0.08335394,  1.97116402,\n",
       "         0.71384265,  1.39987823, -1.30292287,  2.61821798,  1.3527578 ,\n",
       "         0.26140262, -2.25520234, -0.80256786,  1.08727625, -0.37230824],\n",
       "       [ 1.71185658, -3.00424786,  0.83260247,  1.55618256, -0.01651791,\n",
       "        -1.72221037, -1.89373032,  1.63179925, -2.08604842, -2.58786063,\n",
       "         1.17023161,  2.84321258, -3.12353055,  0.08358635,  1.9714004 ,\n",
       "         0.7140781 ,  1.40011329, -1.30272132,  2.61798535,  1.3529506 ,\n",
       "         0.26118417, -2.25543815, -0.8028001 ,  1.08704228, -0.37254511],\n",
       "       [ 1.71208932, -3.00401831,  0.83237275,  1.55595543, -0.0167477 ,\n",
       "        -1.72198736, -1.89356441,  1.6316005 , -2.08627602, -2.58794806,\n",
       "         1.17044341,  2.8429926 , -3.12375335,  0.08381253,  1.97163049,\n",
       "         0.71430731,  1.40034229, -1.30252429,  2.61775894,  1.35313904,\n",
       "         0.2609715 , -2.25566769, -0.80302611,  1.08681458, -0.37277575],\n",
       "       [ 1.7123163 , -3.00379447,  0.83214884,  1.55573411, -0.01697168,\n",
       "        -1.72177015, -1.89340039,  1.63140628, -2.08649786, -2.5880364 ,\n",
       "         1.1706504 ,  2.84277718, -3.12397049,  0.08403295,  1.97185478,\n",
       "         0.71453074,  1.40056569, -1.30233152,  2.61753829,  1.35332338,\n",
       "         0.2607642 , -2.25589142, -0.80324636,  1.08659267, -0.37300062],\n",
       "       [ 1.71253793, -3.00357593,  0.83193031,  1.55551818, -0.01719029,\n",
       "        -1.72155831, -1.89323818,  1.6312163 , -2.08671434, -2.58812561,\n",
       "         1.17085291,  2.84256602, -3.12418236,  0.08424801,  1.97207369,\n",
       "         0.71474882,  1.40078388, -1.30214275,  2.61732298,  1.35350386,\n",
       "         0.2605619 , -2.25610977, -0.80346126,  1.08637614, -0.37322014],\n",
       "       [ 1.71275459, -3.00336233,  0.83171679,  1.55530727, -0.01740388,\n",
       "        -1.72135148, -1.89307774,  1.63103031, -2.08692584, -2.58821564,\n",
       "         1.17105119,  2.84235888, -3.12438933,  0.08445808,  1.97228758,\n",
       "         0.71496191,  1.40099721, -1.30195776,  2.61711265,  1.3536807 ,\n",
       "         0.26036428, -2.25632311, -0.80367118,  1.08616462, -0.37343467],\n",
       "       [ 1.7129666 , -3.00315334,  0.83150795,  1.55510105, -0.01761279,\n",
       "        -1.72114934, -1.89291901,  1.63084809, -2.08713268, -2.58830646,\n",
       "         1.17124551,  2.84215552, -3.12459171,  0.0846635 ,  1.97249679,\n",
       "         0.71517033,  1.40120601, -1.30177633,  2.61690697,  1.35385409,\n",
       "         0.26017104, -2.25653177, -0.80387644,  1.08595777, -0.37364455],\n",
       "       [ 1.71317424, -3.00294869,  0.8313035 ,  1.55489923, -0.01781732,\n",
       "        -1.72095158, -1.89276193,  1.63066944, -2.08733516, -2.58839802,\n",
       "         1.17143608,  2.84195575, -3.12478979,  0.08486456,  1.97270161,\n",
       "         0.71537439,  1.40141054, -1.30159828,  2.61670565,  1.35402422,\n",
       "         0.25998192, -2.25673604, -0.80407734,  1.08575531, -0.37385007],\n",
       "       [ 1.71337779, -3.0027481 ,  0.83110317,  1.55470153, -0.01801773,\n",
       "        -1.72075794, -1.89260645,  1.63049416, -2.08753353, -2.58849028,\n",
       "         1.17162312,  2.84175935, -3.12498382,  0.08506151,  1.97290231,\n",
       "         0.71557435,  1.40161106, -1.30142344,  2.61650842,  1.35419124,\n",
       "         0.25979668, -2.25693619, -0.80427415,  1.08555696, -0.37405148],\n",
       "       [ 1.71357748, -3.00255134,  0.83090672,  1.55450773, -0.01821427,\n",
       "        -1.72056818, -1.89245254,  1.63032208, -2.08772804, -2.58858322,\n",
       "         1.17180679,  2.84156618, -3.12517404,  0.0852546 ,  1.97309912,\n",
       "         0.71577043,  1.40180781, -1.30125164,  2.61631505,  1.3543553 ,\n",
       "         0.2596151 , -2.25713246, -0.80446709,  1.08536249, -0.37424903],\n",
       "       [ 1.71377353, -3.00235821,  0.83071393,  1.55431759, -0.01840714,\n",
       "        -1.72038209, -1.89230014,  1.63015304, -2.08791891, -2.5886768 ,\n",
       "         1.17198728,  2.84137606, -3.12536066,  0.08544404,  1.97329227,\n",
       "         0.71596287,  1.402001  , -1.30108274,  2.61612533,  1.35451655,\n",
       "         0.259437  , -2.25732507, -0.80465639,  1.08517169, -0.37444293],\n",
       "       [ 1.71396612, -3.0021685 ,  0.83052461,  1.55413092, -0.01859655,\n",
       "        -1.72019947, -1.8921492 ,  1.6299869 , -2.08810632, -2.58877098,\n",
       "         1.17216475,  2.84118885, -3.12554387,  0.08563002,  1.97348196,\n",
       "         0.71615185,  1.4021908 , -1.30091661,  2.61593905,  1.35467512,\n",
       "         0.25926219, -2.25751422, -0.80484224,  1.08498434, -0.37463338],\n",
       "       [ 1.71415545, -3.00198204,  0.83033857,  1.55394754, -0.01878267,\n",
       "        -1.72002014, -1.89199969,  1.62982353, -2.08829047, -2.58886574,\n",
       "         1.17233933,  2.84100442, -3.12572384,  0.08581274,  1.97366835,\n",
       "         0.71633756,  1.4023774 , -1.30075312,  2.61575604,  1.35483111,\n",
       "         0.2590905 , -2.25770007, -0.80502482,  1.08480028, -0.37482056],\n",
       "       [ 1.71434168, -3.00179866,  0.83015566,  1.55376729, -0.01896568,\n",
       "        -1.71984393, -1.89185157,  1.62966279, -2.0884715 , -2.58896104,\n",
       "         1.17251116,  2.84082264, -3.12590075,  0.08599235,  1.97385163,\n",
       "         0.71652016,  1.40256095, -1.30059216,  2.61557613,  1.35498465,\n",
       "         0.25892179, -2.25788281, -0.80520429,  1.08461934, -0.37500464]])"
      ]
     },
     "execution_count": 134,
     "metadata": {},
     "output_type": "execute_result"
    }
   ],
   "source": [
    "params_history"
   ]
  },
  {
   "cell_type": "code",
   "execution_count": 136,
   "metadata": {},
   "outputs": [
    {
     "data": {
      "text/plain": [
       "Text(0, 0.5, 'param difference')"
      ]
     },
     "execution_count": 136,
     "metadata": {},
     "output_type": "execute_result"
    },
    {
     "data": {
      "image/png": "[encoded data removed]",
      "text/plain": [
       "<Figure size 640x480 with 1 Axes>"
      ]
     },
     "metadata": {},
     "output_type": "display_data"
    }
   ],
   "source": [
    "newest_param = params_history[-1]\n",
    "plt.plot(newest_param-initial_params)\n",
    "plt.xlabel('param index')\n",
    "plt.ylabel('param difference')"
   ]
  },
  {
   "cell_type": "code",
   "execution_count": 180,
   "metadata": {},
   "outputs": [
    {
     "data": {
      "text/plain": [
       "[<matplotlib.lines.Line2D at 0x2a2227a50>]"
      ]
     },
     "execution_count": 180,
     "metadata": {},
     "output_type": "execute_result"
    },
    {
     "data": {
      "image/png": "[encoded data removed]",
      "text/plain": [
       "<Figure size 640x480 with 1 Axes>"
      ]
     },
     "metadata": {},
     "output_type": "display_data"
    }
   ],
   "source": [
    "plt.plot(loss_history)"
   ]
  },
  {
   "cell_type": "code",
   "execution_count": 143,
   "metadata": {},
   "outputs": [],
   "source": [
    "# the final circuit\n",
    "c1 = deepcopy(ansatz_circ)\n",
    "c1.set_parameters(params_history[-1])"
   ]
  },
  {
   "cell_type": "markdown",
   "metadata": {},
   "source": [
    "# Quantinuum"
   ]
  },
  {
   "cell_type": "code",
   "execution_count": 19,
   "metadata": {},
   "outputs": [
    {
     "name": "stderr",
     "output_type": "stream",
     "text": [
      "INFO:httpx:HTTP Request: POST https://nexus.quantinuum.com/auth/login \"HTTP/1.1 200 OK\"\n"
     ]
    },
    {
     "name": "stdout",
     "output_type": "stream",
     "text": [
      "✅ Successfully logged in as xiaoyue.li@ntu.edu.sg.\n"
     ]
    }
   ],
   "source": [
    "qnx.client.auth.login_with_credentials()"
   ]
  },
  {
   "cell_type": "code",
   "execution_count": 20,
   "metadata": {},
   "outputs": [
    {
     "name": "stderr",
     "output_type": "stream",
     "text": [
      "INFO:httpx:HTTP Request: GET https://nexus.quantinuum.com/api/projects/v1beta/meta/count?filter%5Barchived%5D=false&filter%5Btimestamps%5D%5Bcreated%5D%5Bafter%5D=2023-01-01%2000%3A00%3A00&filter%5Bname%5D=TFIM_experiment%28VQE%29 \"HTTP/1.1 401 Unauthorized\"\n",
      "INFO:httpx:HTTP Request: POST https://nexus.quantinuum.com/auth/tokens/refresh \"HTTP/1.1 200 OK\"\n",
      "INFO:httpx:HTTP Request: GET https://nexus.quantinuum.com/api/projects/v1beta/meta/count?filter%5Barchived%5D=false&filter%5Btimestamps%5D%5Bcreated%5D%5Bafter%5D=2023-01-01%2000%3A00%3A00&filter%5Bname%5D=TFIM_experiment%28VQE%29 \"HTTP/1.1 200 OK\"\n",
      "INFO:httpx:HTTP Request: GET https://nexus.quantinuum.com/api/projects/v1beta?filter%5Barchived%5D=false&filter%5Btimestamps%5D%5Bcreated%5D%5Bafter%5D=2023-01-01%2000%3A00%3A00&filter%5Bname%5D=TFIM_experiment%28VQE%29&page%5Bnumber%5D=0 \"HTTP/1.1 200 OK\"\n",
      "INFO:httpx:HTTP Request: GET https://nexus.quantinuum.com/api/projects/v1beta?filter%5Barchived%5D=false&filter%5Btimestamps%5D%5Bcreated%5D%5Bafter%5D=2023-01-01%2000%3A00%3A00&filter%5Bname%5D=TFIM_experiment%28VQE%29&page%5Bnumber%5D=1 \"HTTP/1.1 200 OK\"\n"
     ]
    }
   ],
   "source": [
    "# Connect to project\n",
    "project_ref = qnx.projects.get_or_create(name=\"TFIM_experiment(VQE)\")\n",
    "project_ref.df()\n",
    "\n",
    "# set this in the context\n",
    "qnx.context.set_active_project(project_ref)"
   ]
  },
  {
   "cell_type": "code",
   "execution_count": 89,
   "metadata": {},
   "outputs": [],
   "source": [
    "# helper functions\n",
    "def create_qubit_pauli_string(nqubits, specify_ls, coef):\n",
    "    '''\n",
    "    specify_ls: {index:Pauli.X/Y/Z}\n",
    "    '''\n",
    "    term = {}\n",
    "    specified_ids = list(specify_ls.keys())\n",
    "    for i in range(nqubits):\n",
    "        if i in specified_ids:\n",
    "            term.update({Qubit(i):specify_ls[i]})\n",
    "        else:\n",
    "            term.update({Qubit(i):Pauli.I})\n",
    "\n",
    "    return {QubitPauliString(term):coef}"
   ]
  },
  {
   "cell_type": "code",
   "execution_count": 224,
   "metadata": {},
   "outputs": [],
   "source": [
    "terms = {}\n",
    "for i in range(nqubits):\n",
    "    term_x_i = create_qubit_pauli_string(nqubits, {i: Pauli.Z, (i+1)%nqubits: Pauli.Z}, -1)\n",
    "    term_z_i = create_qubit_pauli_string(nqubits, {i: Pauli.X}, -h)\n",
    "    terms.update(term_x_i)\n",
    "    terms.update(term_z_i)\n",
    "ham_quantinuum = QubitPauliOperator(terms)"
   ]
  },
  {
   "cell_type": "code",
   "execution_count": 193,
   "metadata": {},
   "outputs": [
    {
     "name": "stdout",
     "output_type": "stream",
     "text": [
      "{(Zq[0], Zq[1], Iq[2], Iq[3], Iq[4]): 1, (Xq[0], Iq[1], Iq[2], Iq[3], Iq[4]): 3, (Iq[0], Zq[1], Zq[2], Iq[3], Iq[4]): 1, (Iq[0], Xq[1], Iq[2], Iq[3], Iq[4]): 3, (Iq[0], Iq[1], Zq[2], Zq[3], Iq[4]): 1, (Iq[0], Iq[1], Xq[2], Iq[3], Iq[4]): 3, (Iq[0], Iq[1], Iq[2], Zq[3], Zq[4]): 1, (Iq[0], Iq[1], Iq[2], Xq[3], Iq[4]): 3, (Zq[0], Iq[1], Iq[2], Iq[3], Zq[4]): 1, (Iq[0], Iq[1], Iq[2], Iq[3], Xq[4]): 3}\n"
     ]
    }
   ],
   "source": [
    "print(ham_quantinuum)"
   ]
  },
  {
   "cell_type": "code",
   "execution_count": 194,
   "metadata": {},
   "outputs": [
    {
     "data": {
      "text/html": [
       "\n",
       "\n",
       "\n",
       "\n",
       "\n",
       "\n",
       "<div style=\"resize: vertical; overflow: auto; height: None; display: block\">\n",
       "    <iframe srcdoc=\"\n",
       "&lt;!DOCTYPE html&gt;\n",
       "&lt;html lang=&#34;en&#34;&gt;\n",
       "&lt;head&gt;\n",
       "    &lt;meta charset=&#34;UTF-8&#34;&gt;\n",
       "    &lt;!-- Download Vue 3--&gt;\n",
       "&lt;script type=&#34;application/javascript&#34; src=&#34;https://cdn.jsdelivr.net/npm/vue@3&#34;&gt;&lt;/script&gt;\n",
       "&lt;!-- Download Circuit Renderer with styles --&gt;\n",
       "&lt;script type=&#34;application/javascript&#34; src=&#34;https://unpkg.com/pytket-circuit-renderer@0.10/dist/pytket-circuit-renderer.umd.js&#34;&gt;&lt;/script&gt;\n",
       "&lt;link rel=&#34;stylesheet&#34; href=&#34;https://unpkg.com/pytket-circuit-renderer@0.10/dist/pytket-circuit-renderer.css&#34;&gt;\n",
       "&lt;/head&gt;\n",
       "&lt;body&gt;\n",
       "\n",
       "\n",
       "    &lt;div id=&#34;circuit-display-vue-container-1e6d6257-3fbc-4978-a6e7-8be398d6c173&#34; class=&#34;pytket-circuit-display-container&#34;&gt;\n",
       "        &lt;div style=&#34;display: none&#34;&gt;\n",
       "            &lt;div id=&#34;circuit-json-to-display&#34;&gt;{&#34;bits&#34;: [[&#34;c&#34;, [0]], [&#34;c&#34;, [1]], [&#34;c&#34;, [2]], [&#34;c&#34;, [3]], [&#34;c&#34;, [4]]], &#34;commands&#34;: [{&#34;args&#34;: [[&#34;q&#34;, [0]], [&#34;c&#34;, [0]]], &#34;op&#34;: {&#34;type&#34;: &#34;Measure&#34;}}, {&#34;args&#34;: [[&#34;q&#34;, [1]], [&#34;c&#34;, [1]]], &#34;op&#34;: {&#34;type&#34;: &#34;Measure&#34;}}, {&#34;args&#34;: [[&#34;q&#34;, [2]], [&#34;c&#34;, [2]]], &#34;op&#34;: {&#34;type&#34;: &#34;Measure&#34;}}, {&#34;args&#34;: [[&#34;q&#34;, [3]], [&#34;c&#34;, [3]]], &#34;op&#34;: {&#34;type&#34;: &#34;Measure&#34;}}, {&#34;args&#34;: [[&#34;q&#34;, [4]], [&#34;c&#34;, [4]]], &#34;op&#34;: {&#34;type&#34;: &#34;Measure&#34;}}], &#34;created_qubits&#34;: [], &#34;discarded_qubits&#34;: [], &#34;implicit_permutation&#34;: [[[&#34;q&#34;, [0]], [&#34;q&#34;, [0]]], [[&#34;q&#34;, [1]], [&#34;q&#34;, [1]]], [[&#34;q&#34;, [2]], [&#34;q&#34;, [2]]], [[&#34;q&#34;, [3]], [&#34;q&#34;, [3]]], [[&#34;q&#34;, [4]], [&#34;q&#34;, [4]]]], &#34;phase&#34;: &#34;0.0&#34;, &#34;qubits&#34;: [[&#34;q&#34;, [0]], [&#34;q&#34;, [1]], [&#34;q&#34;, [2]], [&#34;q&#34;, [3]], [&#34;q&#34;, [4]]]}&lt;/div&gt;\n",
       "        &lt;/div&gt;\n",
       "        &lt;circuit-display-container\n",
       "                :circuit-element-str=&#34;&#39;#circuit-json-to-display&#39;&#34;\n",
       "                :init-render-options=&#34;initRenderOptions&#34;\n",
       "                view-format=&#34;None&#34;\n",
       "        &gt;&lt;/circuit-display-container&gt;\n",
       "    &lt;/div&gt;\n",
       "    &lt;script type=&#34;application/javascript&#34;&gt;\n",
       "      const circuitRendererUid = &#34;1e6d6257-3fbc-4978-a6e7-8be398d6c173&#34;;\n",
       "      const displayOptions = JSON.parse(&#39;{}&#39;);\n",
       "\n",
       "      // Script to initialise the circuit renderer app\n",
       "\n",
       "const { createApp } = Vue;\n",
       "const circuitDisplayContainer = window[&#34;pytket-circuit-renderer&#34;].default;\n",
       "// Init variables to be shared between circuit display instances\n",
       "if (typeof window.pytketCircuitDisplays === &#34;undefined&#34;) {\n",
       "    window.pytketCircuitDisplays = {};\n",
       "}\n",
       "// Create the root Vue component\n",
       "const app = createApp({\n",
       "    delimiters: [&#39;[[#&#39;, &#39;#]]&#39;],\n",
       "    components: { circuitDisplayContainer },\n",
       "    data () {\n",
       "      return {\n",
       "        initRenderOptions: displayOptions,\n",
       "      }\n",
       "    }\n",
       "})\n",
       "app.config.unwrapInjectedRef = true;\n",
       "app.mount(&#34;#circuit-display-vue-container-&#34;+circuitRendererUid);\n",
       "window.pytketCircuitDisplays[circuitRendererUid] = app;\n",
       "    &lt;/script&gt;\n",
       "\n",
       "\n",
       "\n",
       "&lt;/body&gt;\n",
       "&lt;/html&gt;\n",
       "\"\n",
       "            width=\"100%\" height=\"100%\"\n",
       "            style=\"border: none; outline: none; overflow: auto\"></iframe>\n",
       "</div>\n",
       "\n"
      ],
      "text/plain": [
       "<IPython.core.display.HTML object>"
      ]
     },
     "metadata": {},
     "output_type": "display_data"
    },
    {
     "data": {
      "text/html": [
       "\n",
       "\n",
       "\n",
       "\n",
       "\n",
       "\n",
       "<div style=\"resize: vertical; overflow: auto; height: None; display: block\">\n",
       "    <iframe srcdoc=\"\n",
       "&lt;!DOCTYPE html&gt;\n",
       "&lt;html lang=&#34;en&#34;&gt;\n",
       "&lt;head&gt;\n",
       "    &lt;meta charset=&#34;UTF-8&#34;&gt;\n",
       "    &lt;!-- Download Vue 3--&gt;\n",
       "&lt;script type=&#34;application/javascript&#34; src=&#34;https://cdn.jsdelivr.net/npm/vue@3&#34;&gt;&lt;/script&gt;\n",
       "&lt;!-- Download Circuit Renderer with styles --&gt;\n",
       "&lt;script type=&#34;application/javascript&#34; src=&#34;https://unpkg.com/pytket-circuit-renderer@0.10/dist/pytket-circuit-renderer.umd.js&#34;&gt;&lt;/script&gt;\n",
       "&lt;link rel=&#34;stylesheet&#34; href=&#34;https://unpkg.com/pytket-circuit-renderer@0.10/dist/pytket-circuit-renderer.css&#34;&gt;\n",
       "&lt;/head&gt;\n",
       "&lt;body&gt;\n",
       "\n",
       "\n",
       "    &lt;div id=&#34;circuit-display-vue-container-cd7104b7-4361-4e27-9319-8126ef9558ce&#34; class=&#34;pytket-circuit-display-container&#34;&gt;\n",
       "        &lt;div style=&#34;display: none&#34;&gt;\n",
       "            &lt;div id=&#34;circuit-json-to-display&#34;&gt;{&#34;bits&#34;: [[&#34;c&#34;, [0]], [&#34;c&#34;, [1]], [&#34;c&#34;, [2]], [&#34;c&#34;, [3]], [&#34;c&#34;, [4]]], &#34;commands&#34;: [{&#34;args&#34;: [[&#34;q&#34;, [0]]], &#34;op&#34;: {&#34;type&#34;: &#34;H&#34;}}, {&#34;args&#34;: [[&#34;q&#34;, [1]]], &#34;op&#34;: {&#34;type&#34;: &#34;H&#34;}}, {&#34;args&#34;: [[&#34;q&#34;, [2]]], &#34;op&#34;: {&#34;type&#34;: &#34;H&#34;}}, {&#34;args&#34;: [[&#34;q&#34;, [3]]], &#34;op&#34;: {&#34;type&#34;: &#34;H&#34;}}, {&#34;args&#34;: [[&#34;q&#34;, [4]]], &#34;op&#34;: {&#34;type&#34;: &#34;H&#34;}}, {&#34;args&#34;: [[&#34;q&#34;, [0]], [&#34;c&#34;, [0]]], &#34;op&#34;: {&#34;type&#34;: &#34;Measure&#34;}}, {&#34;args&#34;: [[&#34;q&#34;, [1]], [&#34;c&#34;, [1]]], &#34;op&#34;: {&#34;type&#34;: &#34;Measure&#34;}}, {&#34;args&#34;: [[&#34;q&#34;, [2]], [&#34;c&#34;, [2]]], &#34;op&#34;: {&#34;type&#34;: &#34;Measure&#34;}}, {&#34;args&#34;: [[&#34;q&#34;, [3]], [&#34;c&#34;, [3]]], &#34;op&#34;: {&#34;type&#34;: &#34;Measure&#34;}}, {&#34;args&#34;: [[&#34;q&#34;, [4]], [&#34;c&#34;, [4]]], &#34;op&#34;: {&#34;type&#34;: &#34;Measure&#34;}}], &#34;created_qubits&#34;: [], &#34;discarded_qubits&#34;: [], &#34;implicit_permutation&#34;: [[[&#34;q&#34;, [0]], [&#34;q&#34;, [0]]], [[&#34;q&#34;, [1]], [&#34;q&#34;, [1]]], [[&#34;q&#34;, [2]], [&#34;q&#34;, [2]]], [[&#34;q&#34;, [3]], [&#34;q&#34;, [3]]], [[&#34;q&#34;, [4]], [&#34;q&#34;, [4]]]], &#34;phase&#34;: &#34;0.0&#34;, &#34;qubits&#34;: [[&#34;q&#34;, [0]], [&#34;q&#34;, [1]], [&#34;q&#34;, [2]], [&#34;q&#34;, [3]], [&#34;q&#34;, [4]]]}&lt;/div&gt;\n",
       "        &lt;/div&gt;\n",
       "        &lt;circuit-display-container\n",
       "                :circuit-element-str=&#34;&#39;#circuit-json-to-display&#39;&#34;\n",
       "                :init-render-options=&#34;initRenderOptions&#34;\n",
       "                view-format=&#34;None&#34;\n",
       "        &gt;&lt;/circuit-display-container&gt;\n",
       "    &lt;/div&gt;\n",
       "    &lt;script type=&#34;application/javascript&#34;&gt;\n",
       "      const circuitRendererUid = &#34;cd7104b7-4361-4e27-9319-8126ef9558ce&#34;;\n",
       "      const displayOptions = JSON.parse(&#39;{}&#39;);\n",
       "\n",
       "      // Script to initialise the circuit renderer app\n",
       "\n",
       "const { createApp } = Vue;\n",
       "const circuitDisplayContainer = window[&#34;pytket-circuit-renderer&#34;].default;\n",
       "// Init variables to be shared between circuit display instances\n",
       "if (typeof window.pytketCircuitDisplays === &#34;undefined&#34;) {\n",
       "    window.pytketCircuitDisplays = {};\n",
       "}\n",
       "// Create the root Vue component\n",
       "const app = createApp({\n",
       "    delimiters: [&#39;[[#&#39;, &#39;#]]&#39;],\n",
       "    components: { circuitDisplayContainer },\n",
       "    data () {\n",
       "      return {\n",
       "        initRenderOptions: displayOptions,\n",
       "      }\n",
       "    }\n",
       "})\n",
       "app.config.unwrapInjectedRef = true;\n",
       "app.mount(&#34;#circuit-display-vue-container-&#34;+circuitRendererUid);\n",
       "window.pytketCircuitDisplays[circuitRendererUid] = app;\n",
       "    &lt;/script&gt;\n",
       "\n",
       "\n",
       "\n",
       "&lt;/body&gt;\n",
       "&lt;/html&gt;\n",
       "\"\n",
       "            width=\"100%\" height=\"100%\"\n",
       "            style=\"border: none; outline: none; overflow: auto\"></iframe>\n",
       "</div>\n",
       "\n"
      ],
      "text/plain": [
       "<IPython.core.display.HTML object>"
      ]
     },
     "metadata": {},
     "output_type": "display_data"
    }
   ],
   "source": [
    "# measurement setup\n",
    "terms = [term for term in ham_quantinuum._dict.keys()]\n",
    "measurement_setup = measurement_reduction(\n",
    "    terms, strat=PauliPartitionStrat.CommutingSets\n",
    ")\n",
    "for mc in measurement_setup.measurement_circs:\n",
    "    render_circuit_jupyter(mc)"
   ]
  },
  {
   "cell_type": "code",
   "execution_count": 195,
   "metadata": {},
   "outputs": [],
   "source": [
    "def compute_expectation_paulistring(\n",
    "    distribution: dict[tuple[int, ...], float], bitmap: MeasurementBitMap\n",
    ") -> float:\n",
    "    '''\n",
    "    This function assumes that the bitmap is in the correct measurement basis\n",
    "    and evaluates Pauli operators composed of Pauli.Z and Pauli.I.\n",
    "    It calculates the expectation by counting the parity of the qubits being\n",
    "    flipped.\n",
    "    '''\n",
    "    value = 0\n",
    "    for bitstring, probability in distribution.items():\n",
    "        value += probability * (sum(bitstring[i] for i in bitmap.bits) % 2)\n",
    "    return ((-1) ** bitmap.invert) * (-2 * value + 1)"
   ]
  },
  {
   "cell_type": "code",
   "execution_count": 196,
   "metadata": {},
   "outputs": [],
   "source": [
    "def compute_expectation_value_from_results(\n",
    "    results: list[BackendResult],\n",
    "    measurement_setup: MeasurementSetup,\n",
    "    operator: QubitPauliOperator,\n",
    ") -> float:\n",
    "    '''\n",
    "    This function loops with the measurement_setup corresponding to the\n",
    "    hamiltonian, select the corresponding string_coef, results index and\n",
    "    calculates the total expectation of the input hamiltonian.\n",
    "    '''\n",
    "    energy = 0\n",
    "    for pauli_string, bitmaps in measurement_setup.results.items():\n",
    "        string_coeff = operator.get(pauli_string, 0.0)\n",
    "        if string_coeff != 0:\n",
    "            for bm in bitmaps:\n",
    "                index = bm.circ_index\n",
    "                distribution = results[index].get_distribution()\n",
    "                value = compute_expectation_paulistring(distribution, bm)\n",
    "                energy += complex(value * string_coeff).real\n",
    "    return energy"
   ]
  },
  {
   "cell_type": "markdown",
   "metadata": {},
   "source": [
    "Let's test the correctness of the above setup by calculating the initial energy of the hamiltonian wrt to the vqe ansatz circuit. Before that, we need to convert the ansatz circuit into pytket."
   ]
  },
  {
   "cell_type": "code",
   "execution_count": 197,
   "metadata": {},
   "outputs": [],
   "source": [
    "c1_qasm = models.Circuit.to_qasm(c1)"
   ]
  },
  {
   "cell_type": "code",
   "execution_count": 198,
   "metadata": {},
   "outputs": [
    {
     "data": {
      "text/html": [
       "\n",
       "\n",
       "\n",
       "\n",
       "\n",
       "\n",
       "<div style=\"resize: vertical; overflow: auto; height: None; display: block\">\n",
       "    <iframe srcdoc=\"\n",
       "&lt;!DOCTYPE html&gt;\n",
       "&lt;html lang=&#34;en&#34;&gt;\n",
       "&lt;head&gt;\n",
       "    &lt;meta charset=&#34;UTF-8&#34;&gt;\n",
       "    &lt;!-- Download Vue 3--&gt;\n",
       "&lt;script type=&#34;application/javascript&#34; src=&#34;https://cdn.jsdelivr.net/npm/vue@3&#34;&gt;&lt;/script&gt;\n",
       "&lt;!-- Download Circuit Renderer with styles --&gt;\n",
       "&lt;script type=&#34;application/javascript&#34; src=&#34;https://unpkg.com/pytket-circuit-renderer@0.10/dist/pytket-circuit-renderer.umd.js&#34;&gt;&lt;/script&gt;\n",
       "&lt;link rel=&#34;stylesheet&#34; href=&#34;https://unpkg.com/pytket-circuit-renderer@0.10/dist/pytket-circuit-renderer.css&#34;&gt;\n",
       "&lt;/head&gt;\n",
       "&lt;body&gt;\n",
       "\n",
       "\n",
       "    &lt;div id=&#34;circuit-display-vue-container-a47dfe22-ceea-4bd4-a6d9-2662665c108c&#34; class=&#34;pytket-circuit-display-container&#34;&gt;\n",
       "        &lt;div style=&#34;display: none&#34;&gt;\n",
       "            &lt;div id=&#34;circuit-json-to-display&#34;&gt;{&#34;bits&#34;: [], &#34;commands&#34;: [{&#34;args&#34;: [[&#34;q&#34;, [0]]], &#34;op&#34;: {&#34;params&#34;: [&#34;1.71434167539581/pi&#34;], &#34;type&#34;: &#34;Ry&#34;}}, {&#34;args&#34;: [[&#34;q&#34;, [1]]], &#34;op&#34;: {&#34;params&#34;: [&#34;-3.00179866132558/pi&#34;], &#34;type&#34;: &#34;Ry&#34;}}, {&#34;args&#34;: [[&#34;q&#34;, [2]]], &#34;op&#34;: {&#34;params&#34;: [&#34;0.830155656888273/pi&#34;], &#34;type&#34;: &#34;Ry&#34;}}, {&#34;args&#34;: [[&#34;q&#34;, [3]]], &#34;op&#34;: {&#34;params&#34;: [&#34;1.55376728658135/pi&#34;], &#34;type&#34;: &#34;Ry&#34;}}, {&#34;args&#34;: [[&#34;q&#34;, [4]]], &#34;op&#34;: {&#34;params&#34;: [&#34;-0.0189656780769693/pi&#34;], &#34;type&#34;: &#34;Ry&#34;}}, {&#34;args&#34;: [[&#34;q&#34;, [0]]], &#34;op&#34;: {&#34;params&#34;: [&#34;-1.71984392913258/pi&#34;], &#34;type&#34;: &#34;Rz&#34;}}, {&#34;args&#34;: [[&#34;q&#34;, [1]]], &#34;op&#34;: {&#34;params&#34;: [&#34;-1.89185157459242/pi&#34;], &#34;type&#34;: &#34;Rz&#34;}}, {&#34;args&#34;: [[&#34;q&#34;, [2]]], &#34;op&#34;: {&#34;params&#34;: [&#34;1.62966279330747/pi&#34;], &#34;type&#34;: &#34;Rz&#34;}}, {&#34;args&#34;: [[&#34;q&#34;, [3]]], &#34;op&#34;: {&#34;params&#34;: [&#34;-2.08847150057586/pi&#34;], &#34;type&#34;: &#34;Rz&#34;}}, {&#34;args&#34;: [[&#34;q&#34;, [4]]], &#34;op&#34;: {&#34;params&#34;: [&#34;-2.58896104412898/pi&#34;], &#34;type&#34;: &#34;Rz&#34;}}, {&#34;args&#34;: [[&#34;q&#34;, [0]], [&#34;q&#34;, [1]]], &#34;op&#34;: {&#34;type&#34;: &#34;CZ&#34;}}, {&#34;args&#34;: [[&#34;q&#34;, [2]], [&#34;q&#34;, [3]]], &#34;op&#34;: {&#34;type&#34;: &#34;CZ&#34;}}, {&#34;args&#34;: [[&#34;q&#34;, [4]]], &#34;op&#34;: {&#34;params&#34;: [&#34;1.97385163188927/pi&#34;], &#34;type&#34;: &#34;Ry&#34;}}, {&#34;args&#34;: [[&#34;q&#34;, [0]]], &#34;op&#34;: {&#34;params&#34;: [&#34;1.17251116066219/pi&#34;], &#34;type&#34;: &#34;Ry&#34;}}, {&#34;args&#34;: [[&#34;q&#34;, [1]]], &#34;op&#34;: {&#34;params&#34;: [&#34;2.84082263857345/pi&#34;], &#34;type&#34;: &#34;Ry&#34;}}, {&#34;args&#34;: [[&#34;q&#34;, [2]]], &#34;op&#34;: {&#34;params&#34;: [&#34;-3.12590074749406/pi&#34;], &#34;type&#34;: &#34;Ry&#34;}}, {&#34;args&#34;: [[&#34;q&#34;, [3]]], &#34;op&#34;: {&#34;params&#34;: [&#34;0.0859923457982543/pi&#34;], &#34;type&#34;: &#34;Ry&#34;}}, {&#34;args&#34;: [[&#34;q&#34;, [4]]], &#34;op&#34;: {&#34;params&#34;: [&#34;1.35498464990944/pi&#34;], &#34;type&#34;: &#34;Rz&#34;}}, {&#34;args&#34;: [[&#34;q&#34;, [0]]], &#34;op&#34;: {&#34;params&#34;: [&#34;0.716520158871905/pi&#34;], &#34;type&#34;: &#34;Rz&#34;}}, {&#34;args&#34;: [[&#34;q&#34;, [1]]], &#34;op&#34;: {&#34;params&#34;: [&#34;1.40256095048138/pi&#34;], &#34;type&#34;: &#34;Rz&#34;}}, {&#34;args&#34;: [[&#34;q&#34;, [2]]], &#34;op&#34;: {&#34;params&#34;: [&#34;-1.3005921561277/pi&#34;], &#34;type&#34;: &#34;Rz&#34;}}, {&#34;args&#34;: [[&#34;q&#34;, [3]]], &#34;op&#34;: {&#34;params&#34;: [&#34;2.6155761326092/pi&#34;], &#34;type&#34;: &#34;Rz&#34;}}, {&#34;args&#34;: [[&#34;q&#34;, [0]], [&#34;q&#34;, [4]]], &#34;op&#34;: {&#34;type&#34;: &#34;CZ&#34;}}, {&#34;args&#34;: [[&#34;q&#34;, [1]], [&#34;q&#34;, [2]]], &#34;op&#34;: {&#34;type&#34;: &#34;CZ&#34;}}, {&#34;args&#34;: [[&#34;q&#34;, [3]]], &#34;op&#34;: {&#34;params&#34;: [&#34;1.08461933979272/pi&#34;], &#34;type&#34;: &#34;Ry&#34;}}, {&#34;args&#34;: [[&#34;q&#34;, [0]]], &#34;op&#34;: {&#34;params&#34;: [&#34;0.258921785416393/pi&#34;], &#34;type&#34;: &#34;Ry&#34;}}, {&#34;args&#34;: [[&#34;q&#34;, [1]]], &#34;op&#34;: {&#34;params&#34;: [&#34;-2.25788281343594/pi&#34;], &#34;type&#34;: &#34;Ry&#34;}}, {&#34;args&#34;: [[&#34;q&#34;, [2]]], &#34;op&#34;: {&#34;params&#34;: [&#34;-0.805204290972574/pi&#34;], &#34;type&#34;: &#34;Ry&#34;}}, {&#34;args&#34;: [[&#34;q&#34;, [4]]], &#34;op&#34;: {&#34;params&#34;: [&#34;-0.375004638100563/pi&#34;], &#34;type&#34;: &#34;Ry&#34;}}], &#34;created_qubits&#34;: [], &#34;discarded_qubits&#34;: [], &#34;implicit_permutation&#34;: [[[&#34;q&#34;, [0]], [&#34;q&#34;, [0]]], [[&#34;q&#34;, [1]], [&#34;q&#34;, [1]]], [[&#34;q&#34;, [2]], [&#34;q&#34;, [2]]], [[&#34;q&#34;, [3]], [&#34;q&#34;, [3]]], [[&#34;q&#34;, [4]], [&#34;q&#34;, [4]]]], &#34;phase&#34;: &#34;0.0&#34;, &#34;qubits&#34;: [[&#34;q&#34;, [0]], [&#34;q&#34;, [1]], [&#34;q&#34;, [2]], [&#34;q&#34;, [3]], [&#34;q&#34;, [4]]]}&lt;/div&gt;\n",
       "        &lt;/div&gt;\n",
       "        &lt;circuit-display-container\n",
       "                :circuit-element-str=&#34;&#39;#circuit-json-to-display&#39;&#34;\n",
       "                :init-render-options=&#34;initRenderOptions&#34;\n",
       "                view-format=&#34;None&#34;\n",
       "        &gt;&lt;/circuit-display-container&gt;\n",
       "    &lt;/div&gt;\n",
       "    &lt;script type=&#34;application/javascript&#34;&gt;\n",
       "      const circuitRendererUid = &#34;a47dfe22-ceea-4bd4-a6d9-2662665c108c&#34;;\n",
       "      const displayOptions = JSON.parse(&#39;{}&#39;);\n",
       "\n",
       "      // Script to initialise the circuit renderer app\n",
       "\n",
       "const { createApp } = Vue;\n",
       "const circuitDisplayContainer = window[&#34;pytket-circuit-renderer&#34;].default;\n",
       "// Init variables to be shared between circuit display instances\n",
       "if (typeof window.pytketCircuitDisplays === &#34;undefined&#34;) {\n",
       "    window.pytketCircuitDisplays = {};\n",
       "}\n",
       "// Create the root Vue component\n",
       "const app = createApp({\n",
       "    delimiters: [&#39;[[#&#39;, &#39;#]]&#39;],\n",
       "    components: { circuitDisplayContainer },\n",
       "    data () {\n",
       "      return {\n",
       "        initRenderOptions: displayOptions,\n",
       "      }\n",
       "    }\n",
       "})\n",
       "app.config.unwrapInjectedRef = true;\n",
       "app.mount(&#34;#circuit-display-vue-container-&#34;+circuitRendererUid);\n",
       "window.pytketCircuitDisplays[circuitRendererUid] = app;\n",
       "    &lt;/script&gt;\n",
       "\n",
       "\n",
       "\n",
       "&lt;/body&gt;\n",
       "&lt;/html&gt;\n",
       "\"\n",
       "            width=\"100%\" height=\"100%\"\n",
       "            style=\"border: none; outline: none; overflow: auto\"></iframe>\n",
       "</div>\n",
       "\n"
      ],
      "text/plain": [
       "<IPython.core.display.HTML object>"
      ]
     },
     "metadata": {},
     "output_type": "display_data"
    }
   ],
   "source": [
    "import pytket.qasm\n",
    "c1_tket = pytket.qasm.circuit_from_qasm_str(c1_qasm)\n",
    "render_circuit_jupyter(c1_tket)"
   ]
  },
  {
   "cell_type": "markdown",
   "metadata": {},
   "source": [
    "## Compare the converted circuits"
   ]
  },
  {
   "cell_type": "code",
   "execution_count": 217,
   "metadata": {},
   "outputs": [
    {
     "name": "stdout",
     "output_type": "stream",
     "text": [
      "tf.Tensor(\n",
      "[[ 8.21331126e-02-0.00724065j  1.22344171e-01+0.01843613j\n",
      "  -5.20937976e-02-0.02936033j ...  3.59148421e-01+0.29964324j\n",
      "  -1.42429181e-01-0.02220146j -2.04865408e-01-0.07543219j]\n",
      " [ 1.66296148e-02+0.09581972j -8.55156517e-03-0.06659932j\n",
      "   3.67537240e-02-0.06836477j ...  1.36035398e-01-0.24090536j\n",
      "   1.30156114e-02-0.19146669j -2.05656636e-02+0.12695211j]\n",
      " [ 9.63111240e-03+0.03958416j  4.08843853e-03+0.06148622j\n",
      "  -6.45388398e-02+0.02428923j ...  2.85054485e-02-0.0914907j\n",
      "  -2.18345431e-01-0.17139094j -2.75385844e-01-0.31923501j]\n",
      " ...\n",
      " [-1.19736943e-01+0.02368511j  6.02692964e-02+0.0514377j\n",
      "   2.90787597e-01+0.36028478j ... -4.56010998e-02+0.03796793j\n",
      "  -5.05526714e-02-0.03671086j  2.26207952e-04+0.04355049j]\n",
      " [ 2.30717239e-01-0.18071441j  4.15024079e-01+0.16060118j\n",
      "   1.44303543e-01-0.04448232j ... -1.01988650e-01-0.02560909j\n",
      "  -7.51903658e-02+0.03331252j -1.01992018e-01-0.06910349j]\n",
      " [-2.47776795e-01-0.45274936j -1.33466814e-01+0.30793151j\n",
      "  -3.35038816e-02-0.26312228j ...  3.11596340e-02-0.07294447j\n",
      "   3.24349656e-02+0.13347233j  5.73134614e-02-0.07016004j]], shape=(32, 32), dtype=complex128)\n",
      "[[ 8.21331126e-02-0.00724065j  1.22344171e-01+0.01843613j\n",
      "  -5.20937976e-02-0.02936033j ...  3.59148421e-01+0.29964324j\n",
      "  -1.42429181e-01-0.02220146j -2.04865408e-01-0.07543219j]\n",
      " [ 1.66296148e-02+0.09581972j -8.55156517e-03-0.06659932j\n",
      "   3.67537240e-02-0.06836477j ...  1.36035398e-01-0.24090536j\n",
      "   1.30156114e-02-0.19146669j -2.05656636e-02+0.12695211j]\n",
      " [ 9.63111240e-03+0.03958416j  4.08843853e-03+0.06148622j\n",
      "  -6.45388398e-02+0.02428923j ...  2.85054485e-02-0.0914907j\n",
      "  -2.18345431e-01-0.17139094j -2.75385844e-01-0.31923501j]\n",
      " ...\n",
      " [-1.19736943e-01+0.02368511j  6.02692964e-02+0.0514377j\n",
      "   2.90787597e-01+0.36028478j ... -4.56010998e-02+0.03796793j\n",
      "  -5.05526714e-02-0.03671086j  2.26207952e-04+0.04355049j]\n",
      " [ 2.30717239e-01-0.18071441j  4.15024079e-01+0.16060118j\n",
      "   1.44303543e-01-0.04448232j ... -1.01988650e-01-0.02560909j\n",
      "  -7.51903658e-02+0.03331252j -1.01992018e-01-0.06910349j]\n",
      " [-2.47776795e-01-0.45274936j -1.33466814e-01+0.30793151j\n",
      "  -3.35038816e-02-0.26312228j ...  3.11596340e-02-0.07294447j\n",
      "   3.24349656e-02+0.13347233j  5.73134614e-02-0.07016004j]]\n",
      "[[2.96429678e-17 3.92523115e-17 1.38777878e-17 ... 2.00148302e-16\n",
      "  3.92523115e-17 1.57009246e-16]\n",
      " [2.86097925e-17 6.93889390e-18 3.73670873e-17 ... 1.00074151e-16\n",
      "  1.48670963e-16 5.00370755e-17]\n",
      " [4.19573634e-17 3.55618313e-17 1.38777878e-17 ... 1.21033486e-16\n",
      "  1.86190061e-16 1.66533454e-16]\n",
      " ...\n",
      " [1.73472348e-16 5.55111512e-17 1.11022302e-16 ... 9.81307787e-18\n",
      "  4.90653893e-17 3.53815554e-17]\n",
      " [7.85046229e-17 1.66533454e-16 5.72195850e-17 ... 7.79661233e-17\n",
      "  4.22076438e-17 5.00370755e-17]\n",
      " [7.85046229e-17 5.55111512e-17 5.72195850e-17 ... 7.37614540e-17\n",
      "  5.92859355e-17 3.10316769e-17]]\n"
     ]
    }
   ],
   "source": [
    "print(c1.unitary())\n",
    "print(c1_tket.get_unitary())\n",
    "print(np.abs(c1_tket.get_unitary()-c1.unitary()))"
   ]
  },
  {
   "cell_type": "code",
   "execution_count": 146,
   "metadata": {},
   "outputs": [
    {
     "name": "stderr",
     "output_type": "stream",
     "text": [
      "INFO:httpx:HTTP Request: POST https://nexus.quantinuum.com/api/circuits/v1beta \"HTTP/1.1 401 Unauthorized\"\n",
      "INFO:httpx:HTTP Request: POST https://nexus.quantinuum.com/auth/tokens/refresh \"HTTP/1.1 200 OK\"\n",
      "INFO:httpx:HTTP Request: POST https://nexus.quantinuum.com/api/circuits/v1beta \"HTTP/1.1 201 Created\"\n"
     ]
    }
   ],
   "source": [
    "# upload state prep vqe circuit to project\n",
    "vqe_circ = qnx.circuits.upload(\n",
    "    circuit=c1_tket,\n",
    "    name=\"vqe_circ\",\n",
    "    description=\"The VQE circuit obtained from running VQE in QIBO\",\n",
    ")"
   ]
  },
  {
   "cell_type": "code",
   "execution_count": 218,
   "metadata": {},
   "outputs": [
    {
     "name": "stderr",
     "output_type": "stream",
     "text": [
      "INFO:httpx:HTTP Request: POST https://nexus.quantinuum.com/api/circuits/v1beta \"HTTP/1.1 401 Unauthorized\"\n",
      "INFO:httpx:HTTP Request: POST https://nexus.quantinuum.com/auth/tokens/refresh \"HTTP/1.1 200 OK\"\n",
      "INFO:httpx:HTTP Request: POST https://nexus.quantinuum.com/api/circuits/v1beta \"HTTP/1.1 201 Created\"\n",
      "INFO:httpx:HTTP Request: POST https://nexus.quantinuum.com/api/circuits/v1beta \"HTTP/1.1 201 Created\"\n",
      "INFO:httpx:HTTP Request: POST https://nexus.quantinuum.com/api/jobs/v1beta \"HTTP/1.1 202 Accepted\"\n",
      "INFO:httpx:HTTP Request: GET https://nexus.quantinuum.com/api/jobs/v1beta/43d439f1-c5a9-48b1-8547-ad376c4a056f/attributes/status \"HTTP/1.1 200 OK\"\n",
      "INFO:httpx:HTTP Request: GET https://nexus.quantinuum.com/api/jobs/v1beta/43d439f1-c5a9-48b1-8547-ad376c4a056f \"HTTP/1.1 200 OK\"\n",
      "INFO:httpx:HTTP Request: GET https://nexus.quantinuum.com/api/compilations/v1beta/dfd5136f-2280-4767-8888-6c60ddbb00af \"HTTP/1.1 200 OK\"\n",
      "INFO:httpx:HTTP Request: GET https://nexus.quantinuum.com/api/compilations/v1beta/b4447273-c178-499f-ac84-ca376e257bbf \"HTTP/1.1 200 OK\"\n",
      "INFO:httpx:HTTP Request: GET https://nexus.quantinuum.com/api/compilations/v1beta/dfd5136f-2280-4767-8888-6c60ddbb00af \"HTTP/1.1 200 OK\"\n",
      "INFO:httpx:HTTP Request: GET https://nexus.quantinuum.com/api/compilations/v1beta/b4447273-c178-499f-ac84-ca376e257bbf \"HTTP/1.1 200 OK\"\n"
     ]
    }
   ],
   "source": [
    "# create list of circuits for measurement in different bases\n",
    "circuit_ref_list = []\n",
    "for i, mc in enumerate(measurement_setup.measurement_circs):\n",
    "    c = c1_tket.copy()\n",
    "    c.append(mc)\n",
    "    measurement_circuit_ref = qnx.circuits.upload(\n",
    "                circuit=c, \n",
    "                name=f\"measurement circuit {i}\",\n",
    "            )\n",
    "    circuit_ref_list.append(measurement_circuit_ref)\n",
    "    \n",
    "# compile measurement circuit list\n",
    "compiled_circuit_refs = qnx.compile(\n",
    "            name=f\"compile_job_VQE_{datetime.now()}\",\n",
    "            circuits=circuit_ref_list,\n",
    "            optimisation_level=2,\n",
    "            backend_config=qnx.QuantinuumConfig(device_name=\"H1-1LE\"),\n",
    "            timeout=None,\n",
    "        )"
   ]
  },
  {
   "cell_type": "code",
   "execution_count": 219,
   "metadata": {},
   "outputs": [],
   "source": [
    "nshots = 500\n",
    "target_backend = qnx.QuantinuumConfig(device_name=\"H1-1LE\")"
   ]
  },
  {
   "cell_type": "code",
   "execution_count": 220,
   "metadata": {},
   "outputs": [
    {
     "name": "stderr",
     "output_type": "stream",
     "text": [
      "INFO:httpx:HTTP Request: POST https://nexus.quantinuum.com/api/jobs/v1beta \"HTTP/1.1 202 Accepted\"\n",
      "INFO:httpx:HTTP Request: GET https://nexus.quantinuum.com/api/jobs/v1beta/8efb7907-a565-482c-be85-b34b90f9a598/attributes/status \"HTTP/1.1 200 OK\"\n",
      "INFO:httpx:HTTP Request: GET https://nexus.quantinuum.com/api/jobs/v1beta/8efb7907-a565-482c-be85-b34b90f9a598 \"HTTP/1.1 200 OK\"\n",
      "INFO:httpx:HTTP Request: GET https://nexus.quantinuum.com/api/results/v1beta/75b71418-1b10-4713-8772-a04251682e0e \"HTTP/1.1 200 OK\"\n",
      "INFO:httpx:HTTP Request: GET https://nexus.quantinuum.com/api/circuits/v1beta/3b062a73-1c0c-48e6-97fe-92cd18fa060e \"HTTP/1.1 200 OK\"\n",
      "INFO:httpx:HTTP Request: GET https://nexus.quantinuum.com/api/results/v1beta/534a6187-65c1-43ce-b120-2d04ed751cf0 \"HTTP/1.1 200 OK\"\n",
      "INFO:httpx:HTTP Request: GET https://nexus.quantinuum.com/api/circuits/v1beta/77cce484-a8e0-4738-bc33-ff0e84843ae3 \"HTTP/1.1 200 OK\"\n"
     ]
    }
   ],
   "source": [
    "results = qnx.execute(\n",
    "            name=f\"execute_job_VQE_{datetime.now()}\",\n",
    "            circuits=compiled_circuit_refs,\n",
    "            n_shots=[nshots]*len(circuit_ref_list),\n",
    "            backend_config=target_backend,\n",
    "            timeout=None,\n",
    "        )\n",
    "\n",
    "expval = compute_expectation_value_from_results(\n",
    "    results, measurement_setup, ham_quantinuum\n",
    ")"
   ]
  },
  {
   "cell_type": "code",
   "execution_count": 225,
   "metadata": {},
   "outputs": [
    {
     "name": "stdout",
     "output_type": "stream",
     "text": [
      "-2.3839999999999977\n"
     ]
    }
   ],
   "source": [
    "expval = compute_expectation_value_from_results(\n",
    "    results, measurement_setup, ham_quantinuum\n",
    ")\n",
    "print(expval)"
   ]
  },
  {
   "cell_type": "markdown",
   "metadata": {},
   "source": [
    "# Readout problem\n",
    "\n",
    "By the central limit theorem, we know that provided enough independent identical trials, the statistics tend to a normal distribution. More over, the standard deviation (error), scales with $1/\\sqrt {N}$. This means that, in order to achieve a low error from the readout results, a large number of trials will be required, and as the precision increases, the number of shots required grows rapidly.\n",
    "\n",
    "In this section, we want to show that this trend exists. Afterwards, we will see how this effect is affected by the presence of noise."
   ]
  },
  {
   "cell_type": "code",
   "execution_count": null,
   "metadata": {},
   "outputs": [],
   "source": []
  }
 ],
 "metadata": {
  "kernelspec": {
   "display_name": "boostvqe-9Q-2T4PW-py3.11",
   "language": "python",
   "name": "python3"
  },
  "language_info": {
   "codemirror_mode": {
    "name": "ipython",
    "version": 3
   },
   "file_extension": ".py",
   "mimetype": "text/x-python",
   "name": "python",
   "nbconvert_exporter": "python",
   "pygments_lexer": "ipython3",
   "version": "3.11.7"
  }
 },
 "nbformat": 4,
 "nbformat_minor": 2
}
