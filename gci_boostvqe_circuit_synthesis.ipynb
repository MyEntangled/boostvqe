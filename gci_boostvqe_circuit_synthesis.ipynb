{
 "cells": [
  {
   "cell_type": "markdown",
   "metadata": {},
   "source": [
    "# GCI Boostvqe Circuit Synthesis\n",
    "\n",
    "Variational quantum eigensolver (VQE) is commonly used for ground state preparation. In this notebook, we demonstrate how to use a few steps of double-bracket quantum algorithms (DBQAs) to enhance the performance of VQE.\n",
    "\n",
    "To achieve this, we use the `qibo` package to first train a warm-start VQE circuit, and from there, run a few steps of DBQAs realized by group commutator iterations (GCIs).\n",
    "\n",
    "Then, the final circuit may be converted into `qiskit` or `pytekt` compatible formats for running on emulators or quantum hardwares."
   ]
  },
  {
   "cell_type": "markdown",
   "metadata": {},
   "source": [
    "In this example notebook, we perform numerical simulations of DBQA for the XXZ model with a periodic boundary condition, whose hamiltonian is given by:\n",
    "\n",
    "$$\n",
    "H = \\sum _{k=0}^L \\left( X_{k} X_{k + 1} + Y_{k} Y_{k + 1} + \\delta Z_{k}Z_{k + 1} \\right)\n",
    "$$"
   ]
  },
  {
   "cell_type": "code",
   "execution_count": 8,
   "metadata": {},
   "outputs": [],
   "source": [
    "import qibo\n",
    "from qibo.backends import construct_backend\n",
    "from qibo import hamiltonians\n",
    "import matplotlib.pyplot as plt\n",
    "import numpy as np"
   ]
  },
  {
   "cell_type": "code",
   "execution_count": 9,
   "metadata": {},
   "outputs": [
    {
     "name": "stderr",
     "output_type": "stream",
     "text": [
      "[Qibo 0.2.12|INFO|2024-11-02 13:01:50]: Using tensorflow backend on /device:CPU:0\n"
     ]
    }
   ],
   "source": [
    "qibo.set_backend(\"tensorflow\")\n",
    "vqe_backend = construct_backend(backend=\"tensorflow\")"
   ]
  },
  {
   "cell_type": "code",
   "execution_count": 10,
   "metadata": {},
   "outputs": [
    {
     "name": "stderr",
     "output_type": "stream",
     "text": [
      "[Qibo 0.2.12|WARNING|2024-11-02 13:01:50]: Calculating the dense form of a symbolic Hamiltonian. This operation is memory inefficient.\n"
     ]
    },
    {
     "data": {
      "text/plain": [
       "<matplotlib.colorbar.Colorbar at 0x299ea5550>"
      ]
     },
     "execution_count": 10,
     "metadata": {},
     "output_type": "execute_result"
    },
    {
     "data": {
      "image/png": "[encoded data removed]",
      "text/plain": [
       "<Figure size 640x480 with 2 Axes>"
      ]
     },
     "metadata": {},
     "output_type": "display_data"
    }
   ],
   "source": [
    "nqubits = 5\n",
    "delta = 0.5\n",
    "ham = hamiltonians.XXZ(nqubits, delta, dense=False)\n",
    "plt.imshow(np.real(ham.matrix))\n",
    "plt.colorbar()"
   ]
  },
  {
   "cell_type": "markdown",
   "metadata": {},
   "source": [
    "## Step 1: train VQE"
   ]
  },
  {
   "cell_type": "markdown",
   "metadata": {},
   "source": [
    "We define the lost function to be the energy expectation $\\langle H\\rangle$."
   ]
  },
  {
   "cell_type": "code",
   "execution_count": 11,
   "metadata": {},
   "outputs": [
    {
     "name": "stderr",
     "output_type": "stream",
     "text": [
      "/Users/pethidine/Library/Caches/pypoetry/virtualenvs/boostvqe-9Q-2T4PW-py3.11/lib/python3.11/site-packages/tqdm/auto.py:21: TqdmWarning: IProgress not found. Please update jupyter and ipywidgets. See https://ipywidgets.readthedocs.io/en/stable/user_install.html\n",
      "  from .autonotebook import tqdm as notebook_tqdm\n"
     ]
    }
   ],
   "source": [
    "from boostvqe import ansatze\n",
    "from copy import deepcopy\n",
    "from functools import partial\n",
    "from boostvqe.training_utils import vqe_loss\n",
    "from boostvqe.utils import *"
   ]
  },
  {
   "cell_type": "code",
   "execution_count": 12,
   "metadata": {},
   "outputs": [],
   "source": [
    "# helper functions\n",
    "def exact_expectation_boost(ham, circ):\n",
    "    # calculates the exact expectation of hamiltonian given a circuit in qibo\n",
    "    return ham.expectation(\n",
    "        ham.backend.execute_circuit(circuit=circ).state())"
   ]
  },
  {
   "cell_type": "code",
   "execution_count": 13,
   "metadata": {},
   "outputs": [
    {
     "name": "stderr",
     "output_type": "stream",
     "text": [
      "[Qibo 0.2.12|WARNING|2024-11-02 13:01:51]: Starting on qibo 0.2.13, ``Circuit.draw`` will work in-place. The in-place method is currently implemented as ``Circuit.display``, but will be renamed as ``Circuit.draw`` on release 0.2.13. In release 0.2.12, the in-place display of circuits is accessible as ``Circuit.display``.\n",
      "WARNING:qibo.config:Starting on qibo 0.2.13, ``Circuit.draw`` will work in-place. The in-place method is currently implemented as ``Circuit.display``, but will be renamed as ``Circuit.draw`` on release 0.2.13. In release 0.2.12, the in-place display of circuits is accessible as ``Circuit.display``.\n"
     ]
    },
    {
     "name": "stdout",
     "output_type": "stream",
     "text": [
      "q0: ─RY─RZ─o───RY─RZ───o─RY─\n",
      "q1: ─RY─RZ─Z───RY─RZ─o─|─RY─\n",
      "q2: ─RY─RZ───o─RY─RZ─Z─|─RY─\n",
      "q3: ─RY─RZ───Z─RY─RZ───|─RY─\n",
      "q4: ─RY─RZ─────RY─RZ───Z─RY─\n"
     ]
    }
   ],
   "source": [
    "# build ansatz circuit\n",
    "nlayer = 1\n",
    "ansatz_circ = ansatze.hdw_efficient(nqubits, nlayer)\n",
    "print(ansatz_circ.draw())"
   ]
  },
  {
   "cell_type": "code",
   "execution_count": 14,
   "metadata": {},
   "outputs": [
    {
     "name": "stdout",
     "output_type": "stream",
     "text": [
      "Initial parameters: [ 1.70475788 -3.01120431  0.83973663  1.5632809  -0.00938072 -1.72915367\n",
      " -1.89712697  1.63696274 -2.07903793 -2.58653723  1.16465009  2.84875441\n",
      " -3.11678496  0.07660625  1.96425543  0.70702213  1.39332975 -1.30768123\n",
      "  2.62495223  1.34821941  0.26731415 -2.2483119  -0.79582348  1.09411377\n",
      " -0.36547294]\n",
      "Target enegry: -6.280513769031045\n",
      "Initial energy: 1.0802335771641438\n",
      "Net difference: 7.360747346195189\n"
     ]
    }
   ],
   "source": [
    "# build zero state\n",
    "zero_state = ham.backend.zero_state(nqubits)\n",
    "# initial params\n",
    "params_len = len(ansatz_circ.get_parameters())\n",
    "# fix numpy seed to ensure replicability of the experiment\n",
    "seed = 10\n",
    "np.random.seed(seed)\n",
    "initial_params = np.random.uniform(-np.pi, np.pi, params_len)\n",
    "print('Initial parameters:', initial_params)\n",
    "# initial energy\n",
    "c0 = deepcopy(ansatz_circ)\n",
    "c0.set_parameters(initial_params)\n",
    "target_energy = np.real(np.min(np.asarray(ham.eigenvalues())))\n",
    "print('Target enegry:', target_energy)\n",
    "print('Initial energy:', exact_expectation_boost(ham, c0).numpy())\n",
    "print('Net difference:', exact_expectation_boost(ham, c0).numpy()-target_energy)"
   ]
  },
  {
   "cell_type": "code",
   "execution_count": 15,
   "metadata": {},
   "outputs": [],
   "source": [
    "# define the qibo loss function\n",
    "objective_boost = partial(vqe_loss)\n",
    "# logging hisotry\n",
    "params_history, loss_history, grads_history, fluctuations = [], [], [], []\n",
    "# set optimizer\n",
    "optimizer = 'sgd'\n",
    "maxiter = 1500\n",
    "nmessage = 500\n",
    "learning_rate = 5e-2\n",
    "tol = 1e-5 # for `sgd` this is required but not used\n",
    "params_history.append(initial_params)"
   ]
  },
  {
   "cell_type": "code",
   "execution_count": 16,
   "metadata": {},
   "outputs": [],
   "source": [
    "# train vqe\n",
    "# param = params_history[-1]\n",
    "# (\n",
    "#     partial_results,\n",
    "#     partial_params_history,\n",
    "#     partial_loss_history,\n",
    "#     partial_grads_history,\n",
    "#     partial_fluctuations,\n",
    "#     vqe,\n",
    "# ) = train_vqe(\n",
    "#     deepcopy(ansatz_circ),\n",
    "#     ham,  # Fixed hamiltonian\n",
    "#     optimizer,\n",
    "#     param,\n",
    "#     tol=tol,\n",
    "#     niterations=maxiter, # Show log info\n",
    "#     nmessage=nmessage,\n",
    "#     loss=objective_boost,\n",
    "#     training_options={'nepochs': maxiter,\n",
    "#                       'learning_rate': learning_rate,}\n",
    "# )\n",
    "# params_history.extend(np.array(partial_params_history))\n",
    "# loss_history.extend(np.array(partial_loss_history))\n",
    "# grads_history.extend(np.array(partial_grads_history))\n",
    "# fluctuations.extend(np.array(partial_fluctuations))"
   ]
  },
  {
   "cell_type": "code",
   "execution_count": 17,
   "metadata": {},
   "outputs": [],
   "source": [
    "# # plot the learning curve\n",
    "# plt. plot(loss_history)"
   ]
  },
  {
   "cell_type": "code",
   "execution_count": 18,
   "metadata": {},
   "outputs": [],
   "source": [
    "path_param = 'vqe_params_hist.npy'\n",
    "# # np.save(path_param, params_history)"
   ]
  },
  {
   "cell_type": "code",
   "execution_count": 19,
   "metadata": {},
   "outputs": [],
   "source": [
    "vqe_params = np.load(path_param)\n",
    "vqe_param_final = vqe_params[-1]"
   ]
  },
  {
   "cell_type": "markdown",
   "metadata": {},
   "source": [
    "We can compare the parameters:"
   ]
  },
  {
   "cell_type": "code",
   "execution_count": 20,
   "metadata": {},
   "outputs": [
    {
     "data": {
      "text/plain": [
       "<matplotlib.legend.Legend at 0x29af8f590>"
      ]
     },
     "execution_count": 20,
     "metadata": {},
     "output_type": "execute_result"
    },
    {
     "data": {
      "image/png": "[encoded data removed]",
      "text/plain": [
       "<Figure size 640x480 with 1 Axes>"
      ]
     },
     "metadata": {},
     "output_type": "display_data"
    }
   ],
   "source": [
    "plt.plot(vqe_params[0], label='initial param')\n",
    "plt.plot(vqe_params[-1], label='final param')\n",
    "plt.legend()"
   ]
  },
  {
   "cell_type": "markdown",
   "metadata": {},
   "source": [
    "The VQE circuit is then given by"
   ]
  },
  {
   "cell_type": "code",
   "execution_count": 21,
   "metadata": {},
   "outputs": [],
   "source": [
    "ansatz_circ.set_parameters(vqe_param_final)\n",
    "vqe_circ = ansatz_circ"
   ]
  },
  {
   "cell_type": "markdown",
   "metadata": {},
   "source": [
    "## Step 2: GCI DBQA\n",
    "\n",
    "A double-bracket rotation is given by\n",
    "$$\n",
    "H_{k+1} = e^{s_kW_k}H_ke^{-s_kW_k}\n",
    "$$\n",
    "where the rotation generator $W_k:=[D_k, H_k]$. \n",
    "Let us define the unitary operation $R_k = e^{-s_kW_k}$ ($W_k$ is anti-hermitian) and it can be approximated by group commutators:\n",
    "\n",
    "$$\n",
    "V^{(GC)}_k = e^{i\\sqrt s_k H_k}e^{-i\\sqrt s_k D_k}e^{-i\\sqrt s_k H_k}e^{i\\sqrt s_k D_k} = R_k + O(s_k^{3/2})\n",
    "$$\n",
    "or the higher-order product formulae (HOPF). \n",
    "\n",
    "$$\n",
    "Q^{(HOPF)}_k = e^{i\\phi\\sqrt s_k H_k}e^{-i\\phi\\sqrt s_k D_k}e^{-i\\phi\\sqrt s_k H_k}e^{i(\\phi+1)\\sqrt s_k D_k}e^{i(1-\\phi)\\sqrt s_k H_k}e^{-i\\sqrt s_k D_k} = R_k+O(s_k^2)\n",
    "$$\n",
    "\n",
    "Next, we shwo how to perform GCI DBQA based on the trained VQE circuit following these general steps:\n",
    "\n",
    "1. Create a base oracle: compiles a circuit that performs $e^{-itH_0}$\n",
    "2. Generate the frame-shifted evolution oracle: compose the VQE circuit with the base oracle to create $e^{-itH'}$ where $H'=V^\\dagger H_0V$, $V$ being the VQE circuit trained earlier.\n",
    "3. Initialize the GCI: determine the group commutator approximation and define the parameterization for $D_k$. \n"
   ]
  },
  {
   "cell_type": "code",
   "execution_count": 22,
   "metadata": {},
   "outputs": [
    {
     "name": "stderr",
     "output_type": "stream",
     "text": [
      "[Qibo 0.2.12|WARNING|2024-11-02 13:01:51]: Starting on qibo 0.2.13, ``Circuit.draw`` will work in-place. The in-place method is currently implemented as ``Circuit.display``, but will be renamed as ``Circuit.draw`` on release 0.2.13. In release 0.2.12, the in-place display of circuits is accessible as ``Circuit.display``.\n",
      "WARNING:qibo.config:Starting on qibo 0.2.13, ``Circuit.draw`` will work in-place. The in-place method is currently implemented as ``Circuit.display``, but will be renamed as ``Circuit.draw`` on release 0.2.13. In release 0.2.12, the in-place display of circuits is accessible as ``Circuit.display``.\n"
     ]
    },
    {
     "name": "stdout",
     "output_type": "stream",
     "text": [
      "q0:     ──────────────────────RZ─o─RY─X─RY─o────X───RZ─o──────X───RZ────────── ...\n",
      "q1:     ────X───RZ─o──────X───RZ─|────|────|─RZ─o───RY─X───RY─o─────────X───RZ ...\n",
      "q2:     ─RZ─o───RY─X───RY─o──────|────|────|──────X─RZ───o──────X─RZ─RZ─o───RY ...\n",
      "q3:     ──────X─RZ───o──────X─RZ─|────|────|─RZ───o─RY───X─RY───o─────────X─RZ ...\n",
      "q4:     ─RZ───o─RY───X─RY───o────X─RZ─o────X─RZ───────────────────RZ──────o─RY ...\n",
      "\n",
      "q0: ... ────────────RZ─o─RY─X─RY─o─────────────────────────RZ─o─RY─X─RY─o────X ...\n",
      "q1: ... ─o──────X───RZ─|────|────|───────X───RZ─o──────X───RZ─|────|────|─RZ─o ...\n",
      "q2: ... ─X───RY─o──────|────|────|─RZ────o───RY─X───RY─o──────|────|────|───── ...\n",
      "q3: ... ───o──────X─RZ─|────|────|─────────X─RZ───o──────X─RZ─|────|────|─RZ── ...\n",
      "q4: ... ───X─RY───o────X─RZ─o────X─RZ─RZ───o─RY───X─RY───o────X─RZ─o────X─RZ── ...\n",
      "\n",
      "q0: ... ───RZ─o──────X───RZ──────────────────────RZ─o─RY─X─RY─o────\n",
      "q1: ... ───RY─X───RY─o─────────X───RZ─o──────X───RZ─|────|────|────\n",
      "q2: ... ─X─RZ───o──────X─RZ─RZ─o───RY─X───RY─o──────|────|────|────\n",
      "q3: ... ─o─RY───X─RY───o─────────X─RZ───o──────X─RZ─|────|────|────\n",
      "q4: ... ─────────────────RZ──────o─RY───X─RY───o────X─RZ─o────X─RZ─\n"
     ]
    }
   ],
   "source": [
    "base_oracle = XXZ_EvolutionOracle.from_nqubits(\n",
    "    nqubits=nqubits, delta=0.5, steps=2, order=2\n",
    ")\n",
    "# the following circuit performs exp{-0.01iH}\n",
    "base_circ = base_oracle.circuit(t_duration=0.01)\n",
    "print(base_circ.draw())"
   ]
  },
  {
   "cell_type": "code",
   "execution_count": 23,
   "metadata": {},
   "outputs": [],
   "source": [
    "frame_oracle = FrameShiftedEvolutionOracle.from_evolution_oracle(\n",
    "    circuit_frame=vqe_circ,\n",
    "    base_evolution_oracle=base_oracle,\n",
    ")"
   ]
  },
  {
   "cell_type": "markdown",
   "metadata": {},
   "source": [
    "For group commutator, we can use the reduced third order group commutator:\n",
    "$$\n",
    "Q^{(3rd_red)}_k = e^{i\\phi\\sqrt s_k D_k}e^{-is_k H_k}e^{i(\\phi+1)\\sqrt s_k D_k}e^{i(1-\\phi)\\sqrt s_k H_k}e^{-is_k D_k}\n",
    "$$\n",
    "where $\\phi = \\frac{1}{2}(\\sqrt 5 -1)$."
   ]
  },
  {
   "cell_type": "code",
   "execution_count": 24,
   "metadata": {},
   "outputs": [],
   "source": [
    "# db_rotation = DoubleBracketRotationType.group_commutator_third_order_reduced\n",
    "db_rotation = DoubleBracketRotationType.group_commutator_reduced\n",
    "gci = GroupCommutatorIterationWithEvolutionOracles(\n",
    "        frame_oracle,\n",
    "        db_rotation\n",
    "    )"
   ]
  },
  {
   "cell_type": "markdown",
   "metadata": {},
   "source": [
    "For our example, we choose $D$ to be parameterized by the Ising model:\n",
    "$$\n",
    "D = \\sum_{j=1}^L(\\alpha_j Z_j + \\beta_j Z_{j+1}Z_{j})\n",
    "$$"
   ]
  },
  {
   "cell_type": "code",
   "execution_count": 25,
   "metadata": {},
   "outputs": [
    {
     "name": "stdout",
     "output_type": "stream",
     "text": [
      "The gci mode is DoubleBracketRotationType.group_commutator_reduced rotation with IsingNNEvolutionOracle as the oracle.\n",
      "\n"
     ]
    }
   ],
   "source": [
    "eo_d_type = IsingNNEvolutionOracle\n",
    "print(\n",
    "        f\"The gci mode is {gci.mode} rotation with {eo_d_type.__name__} as the oracle.\\n\"\n",
    "    )"
   ]
  },
  {
   "cell_type": "code",
   "execution_count": 26,
   "metadata": {},
   "outputs": [],
   "source": [
    "# GCI settings\n",
    "steps = 1\n",
    "optimization_method = \"sgd\"\n",
    "gd_epochs = 10\n",
    "opt_options = {'gd_epochs':gd_epochs, }"
   ]
  },
  {
   "cell_type": "code",
   "execution_count": 27,
   "metadata": {},
   "outputs": [
    {
     "name": "stderr",
     "output_type": "stream",
     "text": [
      "INFO:root:\n",
      "################################################################################\n",
      "Optimizing GCI step 1 with optimizer sgd\n",
      "################################################################################\n",
      "\n",
      "INFO:root:Total optimization time required: 43.73758006095886 seconds\n"
     ]
    },
    {
     "name": "stdout",
     "output_type": "stream",
     "text": [
      "Just finished the selection: better loss -6.225392631067619 for mode DoubleBracketRotationType.group_commutator_reduced,                with duration s=0.02, and eo_d name = IsingNNEvolutionOracle\n"
     ]
    }
   ],
   "source": [
    "for gci_step_nmb in range(steps):\n",
    "    logging.info(\n",
    "        \"\\n################################################################################\\n\"\n",
    "        + f\"Optimizing GCI step {gci_step_nmb+1} with optimizer {optimization_method}\"\n",
    "        + \"\\n################################################################################\\n\"\n",
    "    )\n",
    "    it = time.time()\n",
    "    if optimization_method == \"sgd\":\n",
    "        params = (\n",
    "            [4 - np.sin(x / 3) for x in range(nqubits)]\n",
    "            if eo_d_type == MagneticFieldEvolutionOracle\n",
    "            else [4 - np.sin(x / 3) for x in range(nqubits)] + nqubits * [1]\n",
    "        )\n",
    "        mode, best_s, best_b, eo_d = select_recursion_step_gd_circuit(\n",
    "            gci,\n",
    "            mode=db_rotation,\n",
    "            eo_d_type=eo_d_type,\n",
    "            params=params,\n",
    "            step_grid=np.linspace(1e-5, 2e-2, 30),\n",
    "            lr_range=(1e-3, 1),\n",
    "            nmb_gd_epochs=gd_epochs,\n",
    "            threshold=1e-4,\n",
    "            max_eval_gd=30,\n",
    "        )\n",
    "\n",
    "        opt_dict = {\"sgd_extras\": \"To be defined\"}\n",
    "\n",
    "    else:\n",
    "        if gci_step_nmb == 0:\n",
    "            p0 = [0.01]\n",
    "            if eo_d_type == MagneticFieldEvolutionOracle:\n",
    "                p0.extend([4 - np.sin(x / 3) for x in range(nqubits)])\n",
    "            elif eo_d_type == IsingNNEvolutionOracle:\n",
    "                p0.extend(\n",
    "                    [4 - np.sin(x / 3) for x in range(nqubits)] + nqubits * [1]\n",
    "                )\n",
    "\n",
    "        else:\n",
    "            p0 = [best_s]\n",
    "            p0.extend(best_b)\n",
    "        optimized_params, opt_dict = optimize_D(\n",
    "            params=p0,\n",
    "            gci=gci,\n",
    "            eo_d_type=eo_d_type,\n",
    "            mode=db_rotation,\n",
    "            method=optimization_method,\n",
    "            **opt_options,\n",
    "        )\n",
    "        best_s = optimized_params[0]\n",
    "        best_b = optimized_params[1:]\n",
    "        eo_d = eo_d_type.load(best_b)\n",
    "\n",
    "    step_data = dict(\n",
    "        best_s=best_s,\n",
    "        eo_d_name=eo_d.__class__.__name__,\n",
    "        eo_d_params=eo_d.params,\n",
    "    )\n",
    "    logging.info(f\"Total optimization time required: {time.time() - it} seconds\")\n",
    "    gci.mode_double_bracket_rotation = db_rotation\n",
    "\n",
    "    gci(best_s, eo_d, db_rotation)\n"
   ]
  },
  {
   "cell_type": "markdown",
   "metadata": {},
   "source": [
    "### Result analysis\n",
    "\n",
    "In this analysis, we will look at the following attributes:\n",
    "\n",
    "1. Fidelity\n",
    "$$\n",
    "F(\\rho, \\sigma) = \\text{tr}^{2}\\left( \\sqrt{\\sqrt{\\sigma}\n",
    "        \\rho^{\\dagger}\\sqrt{\\sigma}} \\right)\n",
    "$$\n",
    "in our case, we are comparing the approximated ground state of our hamiltonian\n",
    "and its analytical ground state.\n",
    "\n",
    "Definition of fidelity\n",
    "States\n",
    "\n",
    "gate counts\n"
   ]
  },
  {
   "cell_type": "code",
   "execution_count": 33,
   "metadata": {},
   "outputs": [],
   "source": [
    "from qibo.quantum_info.metrics import fidelity"
   ]
  },
  {
   "cell_type": "code",
   "execution_count": 44,
   "metadata": {},
   "outputs": [
    {
     "name": "stdout",
     "output_type": "stream",
     "text": [
      "-6.280513769031045\n",
      "-6.280513769031043\n"
     ]
    },
    {
     "name": "stderr",
     "output_type": "stream",
     "text": [
      "/Users/pethidine/Library/Caches/pypoetry/virtualenvs/boostvqe-9Q-2T4PW-py3.11/lib/python3.11/site-packages/tensorflow/python/framework/ops.py:307: ComplexWarning: Casting complex values to real discards the imaginary part\n",
      "  return float(self._numpy())\n"
     ]
    }
   ],
   "source": [
    "energies = ham.eigenvalues()\n",
    "ground_state_energy = float(energies[0])\n",
    "ground_state = ham.ground_state()\n",
    "ground_energy = float(ham.expectation(ground_state))\n",
    "print(ground_state_energy)\n",
    "print(ground_energy)"
   ]
  },
  {
   "cell_type": "code",
   "execution_count": 34,
   "metadata": {},
   "outputs": [],
   "source": [
    "def report(vqe_circ, hamiltonian, gci, step, eo_d, mode):\n",
    "    energies = hamiltonian.eigenvalues()\n",
    "    ground_state_energy = float(energies[0])\n",
    "    vqe_energy = float(hamiltonian.expectation(vqe_circ().state()))\n",
    "    gci_loss = float(gci.loss(step, eo_d, mode))\n",
    "    gap = float(energies[1] - energies[0])\n",
    "\n",
    "    return (\n",
    "        dict(\n",
    "            nqubits=hamiltonian.nqubits,\n",
    "            gci_loss=float(gci_loss),\n",
    "            vqe_energy=float(vqe_energy),\n",
    "            target_energy=ground_state_energy,\n",
    "            diff_vqe_target=vqe_energy - ground_state_energy,\n",
    "            diff_gci_target=gci_loss - ground_state_energy,\n",
    "            gap=gap,\n",
    "            diff_vqe_target_perc=abs(vqe_energy - ground_state_energy)\n",
    "            / abs(ground_state_energy)\n",
    "            * 100,\n",
    "            diff_gci_target_perc=abs(gci_loss - ground_state_energy)\n",
    "            / abs(ground_state_energy)\n",
    "            * 100,\n",
    "            fidelity_witness_vqe=1 - (vqe_energy - ground_state_energy) / gap,\n",
    "            fidelity_witness_gci=1 - (gci_loss - ground_state_energy) / gap,\n",
    "            fidelity_vqe=fidelity(vqe_circ().state(), hamiltonian.ground_state()),\n",
    "            fidelity_gci=fidelity(\n",
    "                gci.get_composed_circuit(best_s, eo_d, db_rotation)().state(), hamiltonian.ground_state()\n",
    "            ),\n",
    "        )\n",
    "        | gci.get_gate_count_dict()\n",
    "    )\n",
    "    \n",
    "def print_report(report: dict):\n",
    "    print(\n",
    "        f\"\\\n",
    "    The target energy is {report['target_energy']}\\n\\\n",
    "    The VQE energy is {report['vqe_energy']} \\n\\\n",
    "    The DBQA energy is {report['gci_loss']}. \\n\\\n",
    "    The difference is for VQE is {report['diff_vqe_target']} \\n\\\n",
    "    and for the DBQA {report['diff_gci_target']} \\n\\\n",
    "    which can be compared to the spectral gap {report['gap']}.\\n\\\n",
    "    The relative difference is \\n\\\n",
    "        - for VQE {report['diff_vqe_target_perc']}% \\n\\\n",
    "        - for DBQA {report['diff_gci_target_perc']}%.\\n\\\n",
    "    The energetic fidelity witness of the ground state is: \\n\\\n",
    "        - for the VQE  {report['fidelity_witness_vqe']} \\n\\\n",
    "        - for DBQA {report['fidelity_witness_gci']}\\n\\\n",
    "    The true fidelity is \\n\\\n",
    "        - for the VQE  {report['fidelity_vqe']}\\n\\\n",
    "        - for DBQA {report['fidelity_gci']}\\n\\\n",
    "                    \"\n",
    "    )\n",
    "    print(\n",
    "        f\"The boosting circuit used {report['nmb_cnot']} CNOT gates coming from compiled XXZ evolution and {report['nmb_cz']} CZ gates from VQE.\\n\\\n",
    "For {report['nqubits']} qubits this gives n_CNOT/n_qubits = {report['nmb_cnot_relative']} and n_CZ/n_qubits = {report['nmb_cz_relative']}\"\n",
    "    )"
   ]
  },
  {
   "cell_type": "code",
   "execution_count": 35,
   "metadata": {},
   "outputs": [
    {
     "name": "stdout",
     "output_type": "stream",
     "text": [
      "    The target energy is -6.280513769031045\n",
      "    The VQE energy is -5.66279054007824 \n",
      "    The DBQA energy is -6.263577579083784. \n",
      "    The difference is for VQE is 0.617723228952805 \n",
      "    and for the DBQA 0.01693618994726087 \n",
      "    which can be compared to the spectral gap 4.440892098500626e-15.\n",
      "    The relative difference is \n",
      "        - for VQE 9.835552498885884% \n",
      "        - for DBQA 0.2696624921160515%.\n",
      "    The energetic fidelity witness of the ground state is: \n",
      "        - for the VQE  -139098905186496.6 \n",
      "        - for DBQA -3813690936777.0\n",
      "    The true fidelity is \n",
      "        - for the VQE  0.2204736343890342\n",
      "        - for DBQA 0.24692889987658626\n",
      "                    \n",
      "The boosting circuit used 68 CNOT gates coming from compiled XXZ evolution and 12 CZ gates from VQE.\n",
      "For 5 qubits this gives n_CNOT/n_qubits = 2.4 and n_CZ/n_qubits = 13.6\n"
     ]
    }
   ],
   "source": [
    "this_report = report(vqe_circ, ham, gci, best_s, eo_d, db_rotation)\n",
    "print_report(this_report)"
   ]
  },
  {
   "cell_type": "markdown",
   "metadata": {},
   "source": [
    "We see that based on the numerical simulation, a simple step of GCI DBQA further lowered the loss. From here, we can export the VQE+DBQA circuit in QASM format"
   ]
  },
  {
   "cell_type": "code",
   "execution_count": 36,
   "metadata": {},
   "outputs": [],
   "source": [
    "gci_circ = gci.get_composed_circuit()\n",
    "composed_circ = gci._forward(best_s, eo_d, db_rotation) + gci_circ"
   ]
  },
  {
   "cell_type": "code",
   "execution_count": 40,
   "metadata": {},
   "outputs": [
    {
     "name": "stdout",
     "output_type": "stream",
     "text": [
      "Circuit depth: 383\n",
      "CNOT counts: 272\n"
     ]
    }
   ],
   "source": [
    "print(\"Circuit depth:\", composed_circ.depth)\n",
    "num_cnots = sum(1 for gate in composed_circ.queue if isinstance(gate, gates.CNOT))\n",
    "print(\"CNOT counts:\", num_cnots)"
   ]
  },
  {
   "cell_type": "code",
   "execution_count": null,
   "metadata": {},
   "outputs": [],
   "source": [
    "vqe_c = models.Circuit.to_qasm(vqe_circ)\n",
    "gci_c = models.Circuit.to_qasm(composed_circ)"
   ]
  },
  {
   "cell_type": "code",
   "execution_count": null,
   "metadata": {},
   "outputs": [],
   "source": [
    "with open(\"vqe_circ.qasm\", \"w\") as file:\n",
    "    file.write(vqe_c)\n",
    "\n",
    "with open(\"gci_circ.qasm\", \"w\") as file:\n",
    "    file.write(gci_c)"
   ]
  }
 ],
 "metadata": {
  "kernelspec": {
   "display_name": "boostvqe-9Q-2T4PW-py3.11",
   "language": "python",
   "name": "python3"
  },
  "language_info": {
   "codemirror_mode": {
    "name": "ipython",
    "version": 3
   },
   "file_extension": ".py",
   "mimetype": "text/x-python",
   "name": "python",
   "nbconvert_exporter": "python",
   "pygments_lexer": "ipython3",
   "version": "3.11.7"
  }
 },
 "nbformat": 4,
 "nbformat_minor": 2
}
