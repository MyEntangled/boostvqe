{
 "cells": [
  {
   "cell_type": "markdown",
   "metadata": {},
   "source": [
    "# 2-qubit decomposition\n",
    "\n",
    "Suppose we have a L-qubit hamiltonian $H$, then the rotation $e^{-itH}$ is a unitary operation. By the principle of universal operations, we can decompose this unitary operation into 2-level operators which then can be converted into a set of native gates.\n",
    "\n",
    "As an example, we take the hamiltonian:\n",
    "$$\n",
    "H = \\sum_{i=0}^5 (X_iX_{i+1}+Y_{i}Y_{i+1} - 0.5Z_{i})\n",
    "$$"
   ]
  },
  {
   "cell_type": "code",
   "execution_count": 142,
   "metadata": {},
   "outputs": [],
   "source": [
    "from qibo import set_backend, Circuit\n",
    "from qibo.backends import NumpyBackend\n",
    "from qibo.hamiltonians import SymbolicHamiltonian, models\n",
    "from qibo.symbols import *\n",
    "from qibo.transpiler.unitary_decompositions import two_qubit_decomposition\n",
    "import matplotlib.pyplot as plt"
   ]
  },
  {
   "cell_type": "code",
   "execution_count": 3,
   "metadata": {},
   "outputs": [
    {
     "name": "stderr",
     "output_type": "stream",
     "text": [
      "[Qibo 0.2.12|INFO|2024-10-24 12:25:56]: Using numpy backend on /CPU:0\n"
     ]
    }
   ],
   "source": [
    "set_backend(\"numpy\")\n",
    "backend = NumpyBackend()"
   ]
  },
  {
   "cell_type": "code",
   "execution_count": 144,
   "metadata": {},
   "outputs": [
    {
     "name": "stderr",
     "output_type": "stream",
     "text": [
      "[Qibo 0.2.12|WARNING|2024-10-24 16:55:13]: Calculating the dense form of a symbolic Hamiltonian. This operation is memory inefficient.\n"
     ]
    },
    {
     "data": {
      "text/plain": [
       "<matplotlib.colorbar.Colorbar at 0x155edbd10>"
      ]
     },
     "execution_count": 144,
     "metadata": {},
     "output_type": "execute_result"
    },
    {
     "data": {
      "image/png": "[encoded data removed]",
      "text/plain": [
       "<Figure size 640x480 with 2 Axes>"
      ]
     },
     "metadata": {},
     "output_type": "display_data"
    }
   ],
   "source": [
    "L = 5\n",
    "\n",
    "H_def = sum([X(x)*X(x+1)+0.5*Z(x) for x in range(L-1)])\n",
    "# H_def = sum([Z(0)*Z(1)+0.5*X(0)])\n",
    "H_sym = SymbolicHamiltonian(H_def)\n",
    "\n",
    "plt.imshow(np.real(H_sym.matrix))\n",
    "plt.colorbar()"
   ]
  },
  {
   "cell_type": "code",
   "execution_count": 151,
   "metadata": {},
   "outputs": [
    {
     "name": "stderr",
     "output_type": "stream",
     "text": [
      "[Qibo 0.2.12|WARNING|2024-10-24 17:00:00]: Starting on qibo 0.2.13, ``Circuit.draw`` will work in-place. The in-place method is currently implemented as ``Circuit.display``, but will be renamed as ``Circuit.draw`` on release 0.2.13. In release 0.2.12, the in-place display of circuits is accessible as ``Circuit.display``.\n"
     ]
    },
    {
     "name": "stdout",
     "output_type": "stream",
     "text": [
      "q0: ─U─────────────U─\n",
      "q1: ─U─U─────────U─U─\n",
      "q2: ───U─U─────U─U───\n",
      "q3: ─────U─U─U─U─────\n",
      "q4: ───────U─U───────\n"
     ]
    }
   ],
   "source": [
    "t = 0.1\n",
    "n = 1\n",
    "dt = t/n\n",
    "circ = Circuit(L)\n",
    "for i in range(n):\n",
    "    circ += H_sym.circuit(dt)\n",
    "print(circ.draw())"
   ]
  },
  {
   "cell_type": "code",
   "execution_count": 152,
   "metadata": {},
   "outputs": [
    {
     "name": "stdout",
     "output_type": "stream",
     "text": [
      "5.5477808733947995\n"
     ]
    }
   ],
   "source": [
    "print(np.linalg.norm(np.expm1(-1j*t*H_sym.matrix)-circ.unitary()))"
   ]
  },
  {
   "cell_type": "code",
   "execution_count": 162,
   "metadata": {},
   "outputs": [
    {
     "name": "stdout",
     "output_type": "stream",
     "text": [
      "5.5477808733947995\n",
      "5.547715546096688\n",
      "5.547712632055671\n",
      "5.547711911742669\n",
      "5.547711629210469\n",
      "5.547711490061236\n",
      "5.5477114114433785\n"
     ]
    }
   ],
   "source": [
    "for n in range(1,20,3):\n",
    "    dt = t/n\n",
    "    circ = Circuit(L)\n",
    "    for i in range(n):\n",
    "        circ += H_sym.circuit(dt)\n",
    "    print(np.linalg.norm(np.expm1(-1j*t*H_sym.matrix)-circ.unitary()))\n",
    "        "
   ]
  }
 ],
 "metadata": {
  "kernelspec": {
   "display_name": "Python 3",
   "language": "python",
   "name": "python3"
  },
  "language_info": {
   "codemirror_mode": {
    "name": "ipython",
    "version": 3
   },
   "file_extension": ".py",
   "mimetype": "text/x-python",
   "name": "python",
   "nbconvert_exporter": "python",
   "pygments_lexer": "ipython3",
   "version": "3.11.10"
  }
 },
 "nbformat": 4,
 "nbformat_minor": 2
}
